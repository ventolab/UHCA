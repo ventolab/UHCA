{
 "cells": [
  {
   "cell_type": "code",
   "execution_count": 33,
   "metadata": {},
   "outputs": [],
   "source": [
    "library(dplyr)\n",
    "library(RColorBrewer)\n",
    "library(harmony)\n",
    "library(ggplot2)\n",
    "library(pheatmap)\n",
    "library(cowplot)"
   ]
  },
  {
   "cell_type": "code",
   "execution_count": 34,
   "metadata": {},
   "outputs": [],
   "source": [
    "# Define variables\n",
    "filter_int_user_curated = T #Use only user_curated interactions?\n",
    "per_cutoff = 0.1 # min % of cells in the cluster required  with expression > 0 for the gene\n",
    "pval_cutoff = 0.001 # max adjusted p-value requeired to consider a gene as DEG\n",
    "logFC_cutoff = 0 # min logFC to consider a gene as DEG"
   ]
  },
  {
   "cell_type": "code",
   "execution_count": 35,
   "metadata": {},
   "outputs": [],
   "source": [
    "# Load cellphone database - genes and complexes file\n",
    "# Gene names\n",
    "genes_cpDB = read.delim('~/cellphoneDB/hsa_uniprot.txt', stringsAsFactors = F, sep = '\\t')\n",
    "\n",
    "# Complexes members\n",
    "com_cpDB = read.csv('~/farm/CellPhoneDB-data_smallmolecules/data/sources/complex_curated.csv', stringsAsFactors = F)\n",
    "com_cpDB = unique(com_cpDB)\n",
    "com_cpDB$complex_name = paste0('complex:', com_cpDB$complex_name)\n",
    "# Generate complexes2gene symbol dictionary\n",
    "Com2Gene = lapply(com_cpDB$complex_name, function(cx) subset(genes_cpDB, uniprot %in% unlist(com_cpDB[com_cpDB$complex_name == cx, 2:5]) )$gene_name )\n",
    "Com2Gene = lapply(Com2Gene, unique)\n",
    "names(Com2Gene) = com_cpDB$complex_name\n",
    "                  \n",
    "# Load interactions from cellphoneDB/out/means.txt output file                   \n",
    "int_cpDB = read.delim('data/cellphoneDB_endothelial/out/means.txt', stringsAsFactors = F)[, 1:10]\n",
    "# MANDATORY: remove \"curated\" because we have cleaned and renamed them (this is a long story, just do it)\n",
    "int_cpDB = subset(int_cpDB, annotation_strategy != 'curated')\n",
    "# OPTIONAL: Use only user_curated interactions?\n",
    "if(filter_int_user_curated)\n",
    "    int_cpDB = subset(int_cpDB, annotation_strategy == 'user_curated')\n",
    "# Generate Int2Gene dictionary\n",
    "Int2Gene = apply(int_cpDB, 1, function(int) {\n",
    "    int = unname(int)\n",
    "    if(int[5] == '') # if partnerA is complex, then retrieve members from dictionary\n",
    "       partnerA = Com2Gene[[int[3]]]\n",
    "    else  # if partnerA is a single gene, take name from file\n",
    "       partnerA = int[5]\n",
    "    if(int[6] == '')  # if partnerB is complex, then retrieve members from dictionary\n",
    "       partnerB = Com2Gene[[int[4]]]\n",
    "    else  # if partnerB is a single gene, take name from file\n",
    "       partnerB = int[6]\n",
    "    list(partner_a=partnerA,partner_b=partnerB)\n",
    "    }) \n",
    "names(Int2Gene) = int_cpDB$interacting_pair"
   ]
  },
  {
   "cell_type": "code",
   "execution_count": 36,
   "metadata": {},
   "outputs": [
    {
     "data": {
      "text/html": [
       "6"
      ],
      "text/latex": [
       "6"
      ],
      "text/markdown": [
       "6"
      ],
      "text/plain": [
       "[1] 6"
      ]
     },
     "metadata": {},
     "output_type": "display_data"
    },
    {
     "data": {
      "text/html": [
       "<style>\n",
       ".list-inline {list-style: none; margin:0; padding: 0}\n",
       ".list-inline>li {display: inline-block}\n",
       ".list-inline>li:not(:last-child)::after {content: \"\\00b7\"; padding: 0 .5ex}\n",
       "</style>\n",
       "<ol class=list-inline><li>'endo_arterial'</li><li>'endo_lymphatic'</li><li>'endo_venular'</li><li>'myeloid'</li><li>'NK'</li><li>'T_cell'</li></ol>\n"
      ],
      "text/latex": [
       "\\begin{enumerate*}\n",
       "\\item 'endo\\_arterial'\n",
       "\\item 'endo\\_lymphatic'\n",
       "\\item 'endo\\_venular'\n",
       "\\item 'myeloid'\n",
       "\\item 'NK'\n",
       "\\item 'T\\_cell'\n",
       "\\end{enumerate*}\n"
      ],
      "text/markdown": [
       "1. 'endo_arterial'\n",
       "2. 'endo_lymphatic'\n",
       "3. 'endo_venular'\n",
       "4. 'myeloid'\n",
       "5. 'NK'\n",
       "6. 'T_cell'\n",
       "\n",
       "\n"
      ],
      "text/plain": [
       "[1] \"endo_arterial\"  \"endo_lymphatic\" \"endo_venular\"   \"myeloid\"       \n",
       "[5] \"NK\"             \"T_cell\"        "
      ]
     },
     "metadata": {},
     "output_type": "display_data"
    }
   ],
   "source": [
    "# Load percentage expression info\n",
    "# you need to put in a folder a file for each cluster that you included in cellphone\n",
    "# The file must contain at least three columns (aka, you can reuse the output of the DEG files):\n",
    "# - Gene: gene symbol\n",
    "# - cluster: cell type\n",
    "# - percentExpr_cluster: % of cells in the cluster with expression > 0 for the gene\n",
    "path_Exp = '/home/jovyan/farm/endometrium/data/cellphoneDB_endothelial/clusterDEGs/DEGs/'\n",
    "\n",
    "# Load\n",
    "Per_files = list.files(path_Exp, pattern = 'DEGs.csv', full.names = T)\n",
    "Per_df = lapply(Per_files, read.csv, stringsAsFactors = F) \n",
    "\n",
    "# Set rownames as genes, for convenience\n",
    "Per_df = lapply(Per_df, function(x){ \n",
    "    rownames(x) = x$Gene\n",
    "    return(x) })\n",
    "\n",
    "# Remove genes not in cellphone\n",
    "Per_df = lapply(Per_df, function(x) subset(x, Gene %in% genes_cpDB$gene_name ))\n",
    "                \n",
    "# Build dictionary clusters2expressed genes                       \n",
    "names(Per_df) = sapply(Per_df, function(x) x$cluster[1])\n",
    "is_Exp = lapply(Per_df, function(x) subset(x, percentExpr_cluster > per_cutoff)$Gene )\n",
    "\n",
    "length(Per_df)\n",
    "names(Per_df)"
   ]
  },
  {
   "cell_type": "code",
   "execution_count": 37,
   "metadata": {},
   "outputs": [
    {
     "data": {
      "text/html": [
       "3"
      ],
      "text/latex": [
       "3"
      ],
      "text/markdown": [
       "3"
      ],
      "text/plain": [
       "[1] 3"
      ]
     },
     "metadata": {},
     "output_type": "display_data"
    },
    {
     "data": {
      "text/html": [
       "<style>\n",
       ".list-inline {list-style: none; margin:0; padding: 0}\n",
       ".list-inline>li {display: inline-block}\n",
       ".list-inline>li:not(:last-child)::after {content: \"\\00b7\"; padding: 0 .5ex}\n",
       "</style>\n",
       "<ol class=list-inline><li>'endo_arterial'</li><li>'endo_lymphatic'</li><li>'endo_venular'</li></ol>\n"
      ],
      "text/latex": [
       "\\begin{enumerate*}\n",
       "\\item 'endo\\_arterial'\n",
       "\\item 'endo\\_lymphatic'\n",
       "\\item 'endo\\_venular'\n",
       "\\end{enumerate*}\n"
      ],
      "text/markdown": [
       "1. 'endo_arterial'\n",
       "2. 'endo_lymphatic'\n",
       "3. 'endo_venular'\n",
       "\n",
       "\n"
      ],
      "text/plain": [
       "[1] \"endo_arterial\"  \"endo_lymphatic\" \"endo_venular\"  "
      ]
     },
     "metadata": {},
     "output_type": "display_data"
    }
   ],
   "source": [
    "# load DE expression info\n",
    "# you need to put in a folder the DE files of the clusters that you're interested in\n",
    "# The file must contain at least four columns (aka, you can reuse the output of the DEG files):\n",
    "# - Gene: gene symbol\n",
    "# - cluster: cell type\n",
    "# - adj.P.Val: adjusted p-value from the DE test\n",
    "# - logFC: from the DE test\n",
    "path_DE = '/home/jovyan/farm/endometrium/data/cellphoneDB_endothelial/clusterDEGs/DEGs_withinEndothelial/'\n",
    "\n",
    "# Load\n",
    "DE_files = list.files(path_DE, pattern = 'DEGs.csv', full.names = T)\n",
    "DE_df = lapply(DE_files, read.csv, stringsAsFactors = F)\n",
    "\n",
    "# Set rownames as genes, for convenience\n",
    "DE_df = lapply(DE_df, function(x){ \n",
    "    rownames(x) = x$Gene\n",
    "    return(x) })\n",
    "\n",
    "# Remove genes not in cellphone\n",
    "DE_df = lapply(DE_df, function(x) subset(x, Gene %in% genes_cpDB$gene_name )) \n",
    "\n",
    "# Build dictionary clusters2DEGs              \n",
    "names(DE_df) = sapply(DE_df, function(x) x$cluster[1])\n",
    "is_DE = lapply(DE_df, function(x) subset(x, adj.P.Val < pval_cutoff & logFC > logFC_cutoff)$Gene )\n",
    "               \n",
    "length(DE_df)\n",
    "names(DE_df)"
   ]
  },
  {
   "cell_type": "code",
   "execution_count": 38,
   "metadata": {},
   "outputs": [
    {
     "data": {
      "text/html": [
       "15"
      ],
      "text/latex": [
       "15"
      ],
      "text/markdown": [
       "15"
      ],
      "text/plain": [
       "[1] 15"
      ]
     },
     "metadata": {},
     "output_type": "display_data"
    },
    {
     "data": {
      "text/html": [
       "18"
      ],
      "text/latex": [
       "18"
      ],
      "text/markdown": [
       "18"
      ],
      "text/plain": [
       "[1] 18"
      ]
     },
     "metadata": {},
     "output_type": "display_data"
    },
    {
     "data": {
      "text/html": [
       "<table>\n",
       "<caption>A matrix: 2 × 18 of type chr</caption>\n",
       "<thead>\n",
       "\t<tr><th scope=col></th><th scope=col></th><th scope=col></th><th scope=col></th><th scope=col></th><th scope=col></th><th scope=col></th><th scope=col></th><th scope=col></th><th scope=col></th><th scope=col></th><th scope=col></th><th scope=col></th><th scope=col></th><th scope=col></th><th scope=col></th><th scope=col></th><th scope=col></th></tr>\n",
       "</thead>\n",
       "<tbody>\n",
       "\t<tr><td>endo_arterial</td><td>endo_arterial</td><td>endo_arterial</td><td>endo_lymphatic</td><td>endo_lymphatic</td><td>endo_lymphatic</td><td>endo_venular</td><td>endo_venular</td><td>endo_venular</td><td>myeloid      </td><td>NK           </td><td>T_cell       </td><td>myeloid       </td><td>NK            </td><td>T_cell        </td><td>myeloid     </td><td>NK          </td><td>T_cell      </td></tr>\n",
       "\t<tr><td>myeloid      </td><td>NK           </td><td>T_cell       </td><td>myeloid       </td><td>NK            </td><td>T_cell        </td><td>myeloid     </td><td>NK          </td><td>T_cell      </td><td>endo_arterial</td><td>endo_arterial</td><td>endo_arterial</td><td>endo_lymphatic</td><td>endo_lymphatic</td><td>endo_lymphatic</td><td>endo_venular</td><td>endo_venular</td><td>endo_venular</td></tr>\n",
       "</tbody>\n",
       "</table>\n"
      ],
      "text/latex": [
       "A matrix: 2 × 18 of type chr\n",
       "\\begin{tabular}{llllllllllllllllll}\n",
       "  &  &  &  &  &  &  &  &  &  &  &  &  &  &  &  &  & \\\\\n",
       "\\hline\n",
       "\t endo\\_arterial & endo\\_arterial & endo\\_arterial & endo\\_lymphatic & endo\\_lymphatic & endo\\_lymphatic & endo\\_venular & endo\\_venular & endo\\_venular & myeloid       & NK            & T\\_cell        & myeloid        & NK             & T\\_cell         & myeloid      & NK           & T\\_cell      \\\\\n",
       "\t myeloid       & NK            & T\\_cell        & myeloid        & NK             & T\\_cell         & myeloid      & NK           & T\\_cell       & endo\\_arterial & endo\\_arterial & endo\\_arterial & endo\\_lymphatic & endo\\_lymphatic & endo\\_lymphatic & endo\\_venular & endo\\_venular & endo\\_venular\\\\\n",
       "\\end{tabular}\n"
      ],
      "text/markdown": [
       "\n",
       "A matrix: 2 × 18 of type chr\n",
       "\n",
       "| <!----> | <!----> | <!----> | <!----> | <!----> | <!----> | <!----> | <!----> | <!----> | <!----> | <!----> | <!----> | <!----> | <!----> | <!----> | <!----> | <!----> | <!----> |\n",
       "|---|---|---|---|---|---|---|---|---|---|---|---|---|---|---|---|---|---|\n",
       "| endo_arterial | endo_arterial | endo_arterial | endo_lymphatic | endo_lymphatic | endo_lymphatic | endo_venular | endo_venular | endo_venular | myeloid       | NK            | T_cell        | myeloid        | NK             | T_cell         | myeloid      | NK           | T_cell       |\n",
       "| myeloid       | NK            | T_cell        | myeloid        | NK             | T_cell         | myeloid      | NK           | T_cell       | endo_arterial | endo_arterial | endo_arterial | endo_lymphatic | endo_lymphatic | endo_lymphatic | endo_venular | endo_venular | endo_venular |\n",
       "\n"
      ],
      "text/plain": [
       "                                                                            \n",
       "[1,] endo_arterial endo_arterial endo_arterial endo_lymphatic endo_lymphatic\n",
       "[2,] myeloid       NK            T_cell        myeloid        NK            \n",
       "                                                                        \n",
       "[1,] endo_lymphatic endo_venular endo_venular endo_venular myeloid      \n",
       "[2,] T_cell         myeloid      NK           T_cell       endo_arterial\n",
       "                                                                             \n",
       "[1,] NK            T_cell        myeloid        NK             T_cell        \n",
       "[2,] endo_arterial endo_arterial endo_lymphatic endo_lymphatic endo_lymphatic\n",
       "                                           \n",
       "[1,] myeloid      NK           T_cell      \n",
       "[2,] endo_venular endo_venular endo_venular"
      ]
     },
     "metadata": {},
     "output_type": "display_data"
    }
   ],
   "source": [
    "# Get all pairwise cluster combinations: A--B, B--A\n",
    "cluster_combinations = combn(names(is_Exp), 2, simplify = T)\n",
    "ncol(cluster_combinations)\n",
    "\n",
    "# add self interactions\n",
    "cluster_combinations = cbind(sapply(names(is_Exp), function(x) rep(x, 2) ), cluster_combinations)\n",
    "\n",
    "\n",
    "# We only want to test pairs including at least one cluster in the DE folder (here, endothelial)\n",
    "keep = apply(cluster_combinations, 2, function(x) any(x %in% names(is_DE)))\n",
    "cluster_combinations = cluster_combinations[, keep]\n",
    "             \n",
    "# Ignore endo-endo\n",
    "ignore = intersect(grep('endo', cluster_combinations[1,]), grep('endo', cluster_combinations[2,]))\n",
    "cluster_combinations = cluster_combinations[, - ignore]\n",
    "\n",
    "# Consider the reverse interaction too: A--B but B--A as well\n",
    "cluster_combinations = cbind(cluster_combinations, cluster_combinations[2:1,]) %>% t(.) %>% unique(.)  %>% t(.) \n",
    "             \n",
    "# Make cluster pair labels: celltypeA--celltypeB             \n",
    "cluster_combinations_labels = apply(cluster_combinations, 2, paste, collapse = '---')\n",
    "ncol(cluster_combinations)\n",
    "cluster_combinations"
   ]
  },
  {
   "cell_type": "code",
   "execution_count": 39,
   "metadata": {},
   "outputs": [
    {
     "data": {
      "text/html": [
       "<style>\n",
       ".list-inline {list-style: none; margin:0; padding: 0}\n",
       ".list-inline>li {display: inline-block}\n",
       ".list-inline>li:not(:last-child)::after {content: \"\\00b7\"; padding: 0 .5ex}\n",
       "</style>\n",
       "<ol class=list-inline><li>1207</li><li>18</li></ol>\n"
      ],
      "text/latex": [
       "\\begin{enumerate*}\n",
       "\\item 1207\n",
       "\\item 18\n",
       "\\end{enumerate*}\n"
      ],
      "text/markdown": [
       "1. 1207\n",
       "2. 18\n",
       "\n",
       "\n"
      ],
      "text/plain": [
       "[1] 1207   18"
      ]
     },
     "metadata": {},
     "output_type": "display_data"
    }
   ],
   "source": [
    "# Make scaffold matrix: L/R interactions (rows) x celltype pairs (columns)\n",
    "E = matrix(0, nrow = length(Int2Gene), ncol = length(cluster_combinations_labels), \n",
    "           dimnames = list(names(Int2Gene), cluster_combinations_labels) )\n",
    "dim(E) # is it big?"
   ]
  },
  {
   "cell_type": "code",
   "execution_count": 40,
   "metadata": {},
   "outputs": [],
   "source": [
    "# E will be a binary matrix with 1 indicating that all the genes in the interaction are expressed in the corresponding celltype\n",
    "# So, fill 1 if all genes are expressed in all clusters\n",
    "for (Int in rownames(E)){ # iterate over interactions\n",
    "    for (clpair in 1:ncol(E)){ # iterate over celltype pairs\n",
    "        cl_A = cluster_combinations[1, clpair] # celltype_A\n",
    "        cl_B = cluster_combinations[2, clpair] # celltype_B\n",
    "        are_all_expressed = all(Int2Gene[[Int]]$partner_a %in% is_Exp[[cl_A]]) &&  # are all partner_A genes expressed in celltype_A\n",
    "                            all(Int2Gene[[Int]]$partner_b %in% is_Exp[[cl_B]])     # are all partner_B genes expressed in celltype_B\n",
    "        if(are_all_expressed)\n",
    "            E[Int, clpair] = 1\n",
    "    }\n",
    "}"
   ]
  },
  {
   "cell_type": "code",
   "execution_count": 41,
   "metadata": {},
   "outputs": [
    {
     "data": {
      "text/html": [
       "<style>\n",
       ".list-inline {list-style: none; margin:0; padding: 0}\n",
       ".list-inline>li {display: inline-block}\n",
       ".list-inline>li:not(:last-child)::after {content: \"\\00b7\"; padding: 0 .5ex}\n",
       "</style>\n",
       "<ol class=list-inline><li>1207</li><li>18</li></ol>\n"
      ],
      "text/latex": [
       "\\begin{enumerate*}\n",
       "\\item 1207\n",
       "\\item 18\n",
       "\\end{enumerate*}\n"
      ],
      "text/markdown": [
       "1. 1207\n",
       "2. 18\n",
       "\n",
       "\n"
      ],
      "text/plain": [
       "[1] 1207   18"
      ]
     },
     "metadata": {},
     "output_type": "display_data"
    },
    {
     "data": {
      "text/html": [
       "1036"
      ],
      "text/latex": [
       "1036"
      ],
      "text/markdown": [
       "1036"
      ],
      "text/plain": [
       "[1] 1036"
      ]
     },
     "metadata": {},
     "output_type": "display_data"
    }
   ],
   "source": [
    "# keep celltypepairs with at least one expressed interaction\n",
    "keep = apply(E, 2, sum) > 0\n",
    "E = E[,keep]\n",
    "# is it big?\n",
    "dim(E)\n",
    "sum(E)"
   ]
  },
  {
   "cell_type": "code",
   "execution_count": 42,
   "metadata": {},
   "outputs": [
    {
     "data": {
      "text/html": [
       "<style>\n",
       ".list-inline {list-style: none; margin:0; padding: 0}\n",
       ".list-inline>li {display: inline-block}\n",
       ".list-inline>li:not(:last-child)::after {content: \"\\00b7\"; padding: 0 .5ex}\n",
       "</style>\n",
       "<ol class=list-inline><li>210</li><li>18</li></ol>\n"
      ],
      "text/latex": [
       "\\begin{enumerate*}\n",
       "\\item 210\n",
       "\\item 18\n",
       "\\end{enumerate*}\n"
      ],
      "text/markdown": [
       "1. 210\n",
       "2. 18\n",
       "\n",
       "\n"
      ],
      "text/plain": [
       "[1] 210  18"
      ]
     },
     "metadata": {},
     "output_type": "display_data"
    },
    {
     "data": {
      "text/html": [
       "1036"
      ],
      "text/latex": [
       "1036"
      ],
      "text/markdown": [
       "1036"
      ],
      "text/plain": [
       "[1] 1036"
      ]
     },
     "metadata": {},
     "output_type": "display_data"
    }
   ],
   "source": [
    "# keep interactions expressed in at least one celltype pair\n",
    "keep = apply(E, 1, sum) > 0\n",
    "E = E[keep,]\n",
    "# is it big?\n",
    "dim(E)\n",
    "sum(E)"
   ]
  },
  {
   "cell_type": "code",
   "execution_count": 43,
   "metadata": {},
   "outputs": [],
   "source": [
    "# Initialize DE matrix from E and set all values to 0\n",
    "# DE will be a binary matrix with 1 indicating that all the genes in the interaction are expressed in the corresponding celltype\n",
    "# and one is a DE in the celltypes of interests\n",
    "DE = E\n",
    "DE[] = 0"
   ]
  },
  {
   "cell_type": "code",
   "execution_count": 44,
   "metadata": {},
   "outputs": [],
   "source": [
    "# So, fill 1 if at least one gene in the interaction is DE\n",
    "for (Int in rownames(DE)){ # iterate over interactions\n",
    "    for (clpair in 1:ncol(DE)){ # iterate over celltype pairs\n",
    "        cl_A = cluster_combinations[1, clpair] # celltype_A\n",
    "        cl_B = cluster_combinations[2, clpair] # celltype_B\n",
    "        any_DE = any(Int2Gene[[Int]]$partner_a %in% is_DE[[cl_A]]) ||  # is any partner_A gene DE in celltype_A\n",
    "                 any(Int2Gene[[Int]]$partner_b %in% is_DE[[cl_B]])     # is any partner_B gene DE in celltype_B\n",
    "        if(any_DE & E[Int, clpair] == 1) # check all members are expressed\n",
    "            DE[Int, clpair] = 1\n",
    "    }\n",
    "}"
   ]
  },
  {
   "cell_type": "code",
   "execution_count": 45,
   "metadata": {},
   "outputs": [
    {
     "data": {
      "text/html": [
       "<style>\n",
       ".list-inline {list-style: none; margin:0; padding: 0}\n",
       ".list-inline>li {display: inline-block}\n",
       ".list-inline>li:not(:last-child)::after {content: \"\\00b7\"; padding: 0 .5ex}\n",
       "</style>\n",
       "<ol class=list-inline><li>182</li><li>18</li></ol>\n"
      ],
      "text/latex": [
       "\\begin{enumerate*}\n",
       "\\item 182\n",
       "\\item 18\n",
       "\\end{enumerate*}\n"
      ],
      "text/markdown": [
       "1. 182\n",
       "2. 18\n",
       "\n",
       "\n"
      ],
      "text/plain": [
       "[1] 182  18"
      ]
     },
     "metadata": {},
     "output_type": "display_data"
    },
    {
     "data": {
      "text/html": [
       "482"
      ],
      "text/latex": [
       "482"
      ],
      "text/markdown": [
       "482"
      ],
      "text/plain": [
       "[1] 482"
      ]
     },
     "metadata": {},
     "output_type": "display_data"
    }
   ],
   "source": [
    "# keep interactions expressed in at least one celltype pair\n",
    "keep = apply(DE, 1, sum) > 0\n",
    "DE = DE[keep,]\n",
    "# keep celltypepairs with at least one interaction\n",
    "keep = apply(DE, 2, sum) > 0\n",
    "DE = DE[, keep]\n",
    "# is it big?\n",
    "dim(DE)\n",
    "sum(DE)"
   ]
  },
  {
   "cell_type": "code",
   "execution_count": 46,
   "metadata": {},
   "outputs": [
    {
     "data": {
      "text/html": [
       "<table>\n",
       "<caption>A matrix: 3 × 3 of type dbl</caption>\n",
       "<thead>\n",
       "\t<tr><th></th><th scope=col>endo_lymphatic---T_cell</th><th scope=col>myeloid---endo_venular</th><th scope=col>NK---endo_venular</th></tr>\n",
       "</thead>\n",
       "<tbody>\n",
       "\t<tr><th scope=row>CCL21_CCR7</th><td>1</td><td>0</td><td>0</td></tr>\n",
       "\t<tr><th scope=row>CCR1_CCL14</th><td>0</td><td>1</td><td>1</td></tr>\n",
       "\t<tr><th scope=row>CCR1_CCL23</th><td>0</td><td>1</td><td>1</td></tr>\n",
       "</tbody>\n",
       "</table>\n"
      ],
      "text/latex": [
       "A matrix: 3 × 3 of type dbl\n",
       "\\begin{tabular}{r|lll}\n",
       "  & endo\\_lymphatic---T\\_cell & myeloid---endo\\_venular & NK---endo\\_venular\\\\\n",
       "\\hline\n",
       "\tCCL21\\_CCR7 & 1 & 0 & 0\\\\\n",
       "\tCCR1\\_CCL14 & 0 & 1 & 1\\\\\n",
       "\tCCR1\\_CCL23 & 0 & 1 & 1\\\\\n",
       "\\end{tabular}\n"
      ],
      "text/markdown": [
       "\n",
       "A matrix: 3 × 3 of type dbl\n",
       "\n",
       "| <!--/--> | endo_lymphatic---T_cell | myeloid---endo_venular | NK---endo_venular |\n",
       "|---|---|---|---|\n",
       "| CCL21_CCR7 | 1 | 0 | 0 |\n",
       "| CCR1_CCL14 | 0 | 1 | 1 |\n",
       "| CCR1_CCL23 | 0 | 1 | 1 |\n",
       "\n"
      ],
      "text/plain": [
       "           endo_lymphatic---T_cell myeloid---endo_venular NK---endo_venular\n",
       "CCL21_CCR7 1                       0                      0                \n",
       "CCR1_CCL14 0                       1                      1                \n",
       "CCR1_CCL23 0                       1                      1                "
      ]
     },
     "metadata": {},
     "output_type": "display_data"
    },
    {
     "data": {
      "text/html": [
       "<table>\n",
       "<caption>A data.frame: 1 × 9</caption>\n",
       "<thead>\n",
       "\t<tr><th></th><th scope=col>cluster</th><th scope=col>Gene</th><th scope=col>logFC</th><th scope=col>P.Value</th><th scope=col>adj.P.Val</th><th scope=col>AveExpr_cluster</th><th scope=col>AveExpr_rest</th><th scope=col>percentExpr_cluster</th><th scope=col>percentExpr_rest</th></tr>\n",
       "\t<tr><th></th><th scope=col>&lt;chr&gt;</th><th scope=col>&lt;chr&gt;</th><th scope=col>&lt;dbl&gt;</th><th scope=col>&lt;dbl&gt;</th><th scope=col>&lt;dbl&gt;</th><th scope=col>&lt;dbl&gt;</th><th scope=col>&lt;dbl&gt;</th><th scope=col>&lt;dbl&gt;</th><th scope=col>&lt;dbl&gt;</th></tr>\n",
       "</thead>\n",
       "<tbody>\n",
       "\t<tr><th scope=row>CCL21</th><td>endo_arterial</td><td>CCL21</td><td>-0.02831005</td><td>0.004107312</td><td>0.01023532</td><td>0.040656</td><td>0.068966</td><td>0.02628</td><td>0.033307</td></tr>\n",
       "</tbody>\n",
       "</table>\n"
      ],
      "text/latex": [
       "A data.frame: 1 × 9\n",
       "\\begin{tabular}{r|lllllllll}\n",
       "  & cluster & Gene & logFC & P.Value & adj.P.Val & AveExpr\\_cluster & AveExpr\\_rest & percentExpr\\_cluster & percentExpr\\_rest\\\\\n",
       "  & <chr> & <chr> & <dbl> & <dbl> & <dbl> & <dbl> & <dbl> & <dbl> & <dbl>\\\\\n",
       "\\hline\n",
       "\tCCL21 & endo\\_arterial & CCL21 & -0.02831005 & 0.004107312 & 0.01023532 & 0.040656 & 0.068966 & 0.02628 & 0.033307\\\\\n",
       "\\end{tabular}\n"
      ],
      "text/markdown": [
       "\n",
       "A data.frame: 1 × 9\n",
       "\n",
       "| <!--/--> | cluster &lt;chr&gt; | Gene &lt;chr&gt; | logFC &lt;dbl&gt; | P.Value &lt;dbl&gt; | adj.P.Val &lt;dbl&gt; | AveExpr_cluster &lt;dbl&gt; | AveExpr_rest &lt;dbl&gt; | percentExpr_cluster &lt;dbl&gt; | percentExpr_rest &lt;dbl&gt; |\n",
       "|---|---|---|---|---|---|---|---|---|---|\n",
       "| CCL21 | endo_arterial | CCL21 | -0.02831005 | 0.004107312 | 0.01023532 | 0.040656 | 0.068966 | 0.02628 | 0.033307 |\n",
       "\n"
      ],
      "text/plain": [
       "      cluster       Gene  logFC       P.Value     adj.P.Val  AveExpr_cluster\n",
       "CCL21 endo_arterial CCL21 -0.02831005 0.004107312 0.01023532 0.040656       \n",
       "      AveExpr_rest percentExpr_cluster percentExpr_rest\n",
       "CCL21 0.068966     0.02628             0.033307        "
      ]
     },
     "metadata": {},
     "output_type": "display_data"
    }
   ],
   "source": [
    "x = DE[ c('CCL21_CCR7', 'CCR1_CCL14', 'CCR1_CCL23'), colSums(DE[ c('CCL21_CCR7', 'CCR1_CCL14', 'CCR1_CCL23'), ]) > 0 ]\n",
    "x\n",
    "Per_df$endo_arterial[ 'CCL21', ]"
   ]
  },
  {
   "cell_type": "code",
   "execution_count": 47,
   "metadata": {},
   "outputs": [],
   "source": [
    "# So DE is our output matrix\n",
    "# Is big, filter it accordingly for visualization\n",
    "write.csv(DE, file = paste0('/home/jovyan/farm/endometrium/data/cellphoneDB_endothelial/out/DEapproach_results_pval', pval_cutoff, '_logFC', logFC_cutoff, '.csv'))"
   ]
  },
  {
   "cell_type": "markdown",
   "metadata": {},
   "source": [
    "### Report DE filtered by LR in interactions"
   ]
  },
  {
   "cell_type": "code",
   "execution_count": 48,
   "metadata": {},
   "outputs": [
    {
     "data": {
      "text/html": [
       "<style>\n",
       ".list-inline {list-style: none; margin:0; padding: 0}\n",
       ".list-inline>li {display: inline-block}\n",
       ".list-inline>li:not(:last-child)::after {content: \"\\00b7\"; padding: 0 .5ex}\n",
       "</style>\n",
       "<ol class=list-inline><li>'endo_arterial'</li><li>'endo_lymphatic'</li><li>'endo_venular'</li></ol>\n"
      ],
      "text/latex": [
       "\\begin{enumerate*}\n",
       "\\item 'endo\\_arterial'\n",
       "\\item 'endo\\_lymphatic'\n",
       "\\item 'endo\\_venular'\n",
       "\\end{enumerate*}\n"
      ],
      "text/markdown": [
       "1. 'endo_arterial'\n",
       "2. 'endo_lymphatic'\n",
       "3. 'endo_venular'\n",
       "\n",
       "\n"
      ],
      "text/plain": [
       "[1] \"endo_arterial\"  \"endo_lymphatic\" \"endo_venular\"  "
      ]
     },
     "metadata": {},
     "output_type": "display_data"
    }
   ],
   "source": [
    "cls = intersect(names(DE_df), unlist(strsplit(colnames(DE), split = '--')))\n",
    "cls"
   ]
  },
  {
   "cell_type": "code",
   "execution_count": 49,
   "metadata": {},
   "outputs": [
    {
     "name": "stdout",
     "output_type": "stream",
     "text": [
      "[1] \"endo_arterial\"\n",
      "[1] \"endo_lymphatic\"\n",
      "[1] \"endo_venular\"\n"
     ]
    }
   ],
   "source": [
    "# These are just helper files\n",
    "# Here, for convenience, we filter the DE that are in DE file above\n",
    "for (cl in cls ){\n",
    "    print(cl)\n",
    "    # Extract interactions where cl is partnerA\n",
    "    idx = grep(paste0('^', cl), colnames(DE))\n",
    "    if( length(idx) > 1 )\n",
    "        int = which(apply(DE[, idx], 1, sum) > 0) %>% names(.)\n",
    "    if( length(idx) == 1 )\n",
    "        int = names(which(DE[, idx] > 0))\n",
    "    # Extract genes at partnerA\n",
    "    partnersA = sapply(int, function(i)  Int2Gene[[i]]$partner_a) %>% unlist(.)\n",
    "    # Extract interactions where cl is partnerB\n",
    "    idx = grep(paste0('--', cl), colnames(DE))\n",
    "    if( length(idx) > 1 )\n",
    "        int = which(apply(DE[, idx], 1, sum) > 0) %>% names(.)\n",
    "    if( length(idx) == 1 )\n",
    "        int = names(which(DE[, idx] > 0))\n",
    "    # Extract genes at partnerB\n",
    "    partnersB = sapply(int, function(i)  Int2Gene[[i]]$partner_b) %>% unlist(.) \n",
    "    # Get DEGs for cl\n",
    "    df = DE_df[[cl]]\n",
    "    # Filter DE genes in the output\n",
    "    df = subset(df, adj.P.Val < pval_cutoff & logFC > logFC_cutoff & Gene %in% c(partnersA, partnersB) )\n",
    "    write.csv(file = paste0(path_DE, cl, '_DEG_inCellphoneResult.csv'), df, row.names=F )\n",
    "}"
   ]
  },
  {
   "cell_type": "code",
   "execution_count": null,
   "metadata": {},
   "outputs": [],
   "source": []
  }
 ],
 "metadata": {
  "kernelspec": {
   "display_name": "R",
   "language": "R",
   "name": "ir"
  },
  "language_info": {
   "codemirror_mode": "r",
   "file_extension": ".r",
   "mimetype": "text/x-r-source",
   "name": "R",
   "pygments_lexer": "r",
   "version": "4.0.0"
  }
 },
 "nbformat": 4,
 "nbformat_minor": 4
}

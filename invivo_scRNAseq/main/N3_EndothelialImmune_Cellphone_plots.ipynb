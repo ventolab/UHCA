{
 "cells": [
  {
   "cell_type": "markdown",
   "metadata": {},
   "source": [
    "#  Plot Ligands/Receptors between Immune - Endo"
   ]
  },
  {
   "cell_type": "code",
   "execution_count": 1,
   "metadata": {},
   "outputs": [
    {
     "name": "stderr",
     "output_type": "stream",
     "text": [
      "\n",
      "Attaching package: ‘dplyr’\n",
      "\n",
      "\n",
      "The following objects are masked from ‘package:stats’:\n",
      "\n",
      "    filter, lag\n",
      "\n",
      "\n",
      "The following objects are masked from ‘package:base’:\n",
      "\n",
      "    intersect, setdiff, setequal, union\n",
      "\n",
      "\n",
      "------------------------------------------------------------------------------\n",
      "\n",
      "You have loaded plyr after dplyr - this is likely to cause problems.\n",
      "If you need functions from both plyr and dplyr, please load plyr first, then dplyr:\n",
      "library(plyr); library(dplyr)\n",
      "\n",
      "------------------------------------------------------------------------------\n",
      "\n",
      "\n",
      "Attaching package: ‘plyr’\n",
      "\n",
      "\n",
      "The following objects are masked from ‘package:dplyr’:\n",
      "\n",
      "    arrange, count, desc, failwith, id, mutate, rename, summarise,\n",
      "    summarize\n",
      "\n",
      "\n",
      "\n",
      "********************************************************\n",
      "\n",
      "Note: As of version 1.0.0, cowplot does not change the\n",
      "\n",
      "  default ggplot2 theme anymore. To recover the previous\n",
      "\n",
      "  behavior, execute:\n",
      "  theme_set(theme_cowplot())\n",
      "\n",
      "********************************************************\n",
      "\n",
      "\n"
     ]
    }
   ],
   "source": [
    "library(dplyr)\n",
    "library(reshape2)\n",
    "library(plyr)\n",
    "library(RColorBrewer)\n",
    "library(ggplot2)\n",
    "library(pheatmap)\n",
    "library(cowplot)\n",
    "\n",
    "get_cells2genes = function(genes2filter = NULL){\n",
    "    # Merge as data frame for plotting with ggplot\n",
    "    cells2genesCP = subset(PERC, Gene %in% genes2plot)\n",
    "    # transfer expression info     \n",
    "    cells2genesCP$cell = cells2genesCP$L1\n",
    "    cells2genesCP$gene = cells2genesCP$Gene\n",
    "    cells2genesCP$id = paste(cells2genesCP$cell, cells2genesCP$gene)\n",
    "    return(cells2genesCP)\n",
    "}"
   ]
  },
  {
   "cell_type": "code",
   "execution_count": 2,
   "metadata": {},
   "outputs": [],
   "source": [
    "# get_cells2genes = function(genes2filter = NULL){\n",
    "#     genes2filter = genes2plot\n",
    "#     # Merge as data frame for plotting with ggplot\n",
    "#     cells2genesCP = subset(PERC, Gene %in% genes2plot)\n",
    "#     return(cells2genesCP)\n",
    "# }"
   ]
  },
  {
   "cell_type": "markdown",
   "metadata": {},
   "source": [
    "# Load Cellphone Genes"
   ]
  },
  {
   "cell_type": "code",
   "execution_count": 3,
   "metadata": {},
   "outputs": [],
   "source": [
    "# Define variables\n",
    "filter_int_user_curated = T #Use only user_curated interactions?\n",
    "per_cutoff = 0.1 # min % of cells in the cluster required  with expression > 0 for the gene\n",
    "pval_cutoff = 0.001 # max adjusted p-value requeired to consider a gene as DEG\n",
    "logFC_cutoff = 0 # min logFC to consider a gene as DEG"
   ]
  },
  {
   "cell_type": "code",
   "execution_count": 4,
   "metadata": {},
   "outputs": [],
   "source": [
    "# Load cellphone database - genes and complexes file\n",
    "# Gene names\n",
    "genes_cpDB = read.delim('~/cellphoneDB/hsa_uniprot.txt', stringsAsFactors = F, sep = '\\t')\n",
    "\n",
    "# Complexes members\n",
    "com_cpDB = read.csv('~/farm/CellPhoneDB-data_smallmolecules/data/sources/complex_curated.csv', stringsAsFactors = F)\n",
    "com_cpDB = unique(com_cpDB)\n",
    "com_cpDB$complex_name = paste0('complex:', com_cpDB$complex_name)\n",
    "# Generate complexes2gene symbol dictionary\n",
    "Com2Gene = lapply(com_cpDB$complex_name, function(cx) subset(genes_cpDB, uniprot %in% unlist(com_cpDB[com_cpDB$complex_name == cx, 2:5]) )$gene_name )\n",
    "Com2Gene = lapply(Com2Gene, unique)\n",
    "names(Com2Gene) = com_cpDB$complex_name\n",
    "                  \n",
    "# Load interactions from cellphoneDB/out/means.txt output file                   \n",
    "int_cpDB = read.delim('data/cellphoneDB_endothelial/out/means.txt', stringsAsFactors = F)[, 1:10]\n",
    "# MANDATORY: remove \"curated\" because we have cleaned and renamed them (this is a long story, just do it)\n",
    "int_cpDB = subset(int_cpDB, annotation_strategy != 'curated')\n",
    "# OPTIONAL: Use only user_curated interactions?\n",
    "if(filter_int_user_curated)\n",
    "    int_cpDB = subset(int_cpDB, annotation_strategy == 'user_curated')\n",
    "# Generate Int2Gene dictionary\n",
    "Int2Gene = apply(int_cpDB, 1, function(int) {\n",
    "    int = unname(int)\n",
    "    if(int[5] == '') # if partnerA is complex, then retrieve members from dictionary\n",
    "       partnerA = Com2Gene[[int[3]]]\n",
    "    else  # if partnerA is a single gene, take name from file\n",
    "       partnerA = int[5]\n",
    "    if(int[6] == '')  # if partnerB is complex, then retrieve members from dictionary\n",
    "       partnerB = Com2Gene[[int[4]]]\n",
    "    else  # if partnerB is a single gene, take name from file\n",
    "       partnerB = int[6]\n",
    "    list(partner_a=partnerA,partner_b=partnerB)\n",
    "    }) \n",
    "names(Int2Gene) = int_cpDB$interacting_pair"
   ]
  },
  {
   "cell_type": "markdown",
   "metadata": {},
   "source": [
    "# Load expression information"
   ]
  },
  {
   "cell_type": "markdown",
   "metadata": {},
   "source": [
    "### % Expr"
   ]
  },
  {
   "cell_type": "code",
   "execution_count": 5,
   "metadata": {},
   "outputs": [
    {
     "data": {
      "text/html": [
       "<table>\n",
       "<caption>A data.frame: 6 × 11</caption>\n",
       "<thead>\n",
       "\t<tr><th></th><th scope=col>cluster</th><th scope=col>Gene</th><th scope=col>logFC</th><th scope=col>P.Value</th><th scope=col>adj.P.Val</th><th scope=col>AveExpr_cluster</th><th scope=col>AveExpr_rest</th><th scope=col>percentExpr_cluster</th><th scope=col>percentExpr_rest</th><th scope=col>L1</th><th scope=col>id</th></tr>\n",
       "\t<tr><th></th><th scope=col>&lt;chr&gt;</th><th scope=col>&lt;chr&gt;</th><th scope=col>&lt;dbl&gt;</th><th scope=col>&lt;dbl&gt;</th><th scope=col>&lt;dbl&gt;</th><th scope=col>&lt;dbl&gt;</th><th scope=col>&lt;dbl&gt;</th><th scope=col>&lt;dbl&gt;</th><th scope=col>&lt;dbl&gt;</th><th scope=col>&lt;chr&gt;</th><th scope=col>&lt;chr&gt;</th></tr>\n",
       "</thead>\n",
       "<tbody>\n",
       "\t<tr><th scope=row>1</th><td>endo_arterial</td><td>CLDN5  </td><td>2.2303206</td><td>0</td><td>0</td><td>2.53</td><td>0.30</td><td>0.93</td><td>0.16</td><td>endo_arterial</td><td>endo_arterial CLDN5  </td></tr>\n",
       "\t<tr><th scope=row>2</th><td>endo_arterial</td><td>CLEC14A</td><td>1.7017444</td><td>0</td><td>0</td><td>1.92</td><td>0.21</td><td>0.93</td><td>0.13</td><td>endo_arterial</td><td>endo_arterial CLEC14A</td></tr>\n",
       "\t<tr><th scope=row>3</th><td>endo_arterial</td><td>NOTCH4 </td><td>0.9931673</td><td>0</td><td>0</td><td>1.08</td><td>0.09</td><td>0.77</td><td>0.09</td><td>endo_arterial</td><td>endo_arterial NOTCH4 </td></tr>\n",
       "\t<tr><th scope=row>4</th><td>endo_arterial</td><td>ICAM2  </td><td>1.2014195</td><td>0</td><td>0</td><td>1.35</td><td>0.15</td><td>0.84</td><td>0.13</td><td>endo_arterial</td><td>endo_arterial ICAM2  </td></tr>\n",
       "\t<tr><th scope=row>5</th><td>endo_arterial</td><td>RAMP2  </td><td>2.0385570</td><td>0</td><td>0</td><td>2.43</td><td>0.39</td><td>0.95</td><td>0.26</td><td>endo_arterial</td><td>endo_arterial RAMP2  </td></tr>\n",
       "\t<tr><th scope=row>6</th><td>endo_arterial</td><td>PECAM1 </td><td>1.4628345</td><td>0</td><td>0</td><td>1.69</td><td>0.23</td><td>0.92</td><td>0.15</td><td>endo_arterial</td><td>endo_arterial PECAM1 </td></tr>\n",
       "</tbody>\n",
       "</table>\n"
      ],
      "text/latex": [
       "A data.frame: 6 × 11\n",
       "\\begin{tabular}{r|lllllllllll}\n",
       "  & cluster & Gene & logFC & P.Value & adj.P.Val & AveExpr\\_cluster & AveExpr\\_rest & percentExpr\\_cluster & percentExpr\\_rest & L1 & id\\\\\n",
       "  & <chr> & <chr> & <dbl> & <dbl> & <dbl> & <dbl> & <dbl> & <dbl> & <dbl> & <chr> & <chr>\\\\\n",
       "\\hline\n",
       "\t1 & endo\\_arterial & CLDN5   & 2.2303206 & 0 & 0 & 2.53 & 0.30 & 0.93 & 0.16 & endo\\_arterial & endo\\_arterial CLDN5  \\\\\n",
       "\t2 & endo\\_arterial & CLEC14A & 1.7017444 & 0 & 0 & 1.92 & 0.21 & 0.93 & 0.13 & endo\\_arterial & endo\\_arterial CLEC14A\\\\\n",
       "\t3 & endo\\_arterial & NOTCH4  & 0.9931673 & 0 & 0 & 1.08 & 0.09 & 0.77 & 0.09 & endo\\_arterial & endo\\_arterial NOTCH4 \\\\\n",
       "\t4 & endo\\_arterial & ICAM2   & 1.2014195 & 0 & 0 & 1.35 & 0.15 & 0.84 & 0.13 & endo\\_arterial & endo\\_arterial ICAM2  \\\\\n",
       "\t5 & endo\\_arterial & RAMP2   & 2.0385570 & 0 & 0 & 2.43 & 0.39 & 0.95 & 0.26 & endo\\_arterial & endo\\_arterial RAMP2  \\\\\n",
       "\t6 & endo\\_arterial & PECAM1  & 1.4628345 & 0 & 0 & 1.69 & 0.23 & 0.92 & 0.15 & endo\\_arterial & endo\\_arterial PECAM1 \\\\\n",
       "\\end{tabular}\n"
      ],
      "text/markdown": [
       "\n",
       "A data.frame: 6 × 11\n",
       "\n",
       "| <!--/--> | cluster &lt;chr&gt; | Gene &lt;chr&gt; | logFC &lt;dbl&gt; | P.Value &lt;dbl&gt; | adj.P.Val &lt;dbl&gt; | AveExpr_cluster &lt;dbl&gt; | AveExpr_rest &lt;dbl&gt; | percentExpr_cluster &lt;dbl&gt; | percentExpr_rest &lt;dbl&gt; | L1 &lt;chr&gt; | id &lt;chr&gt; |\n",
       "|---|---|---|---|---|---|---|---|---|---|---|---|\n",
       "| 1 | endo_arterial | CLDN5   | 2.2303206 | 0 | 0 | 2.53 | 0.30 | 0.93 | 0.16 | endo_arterial | endo_arterial CLDN5   |\n",
       "| 2 | endo_arterial | CLEC14A | 1.7017444 | 0 | 0 | 1.92 | 0.21 | 0.93 | 0.13 | endo_arterial | endo_arterial CLEC14A |\n",
       "| 3 | endo_arterial | NOTCH4  | 0.9931673 | 0 | 0 | 1.08 | 0.09 | 0.77 | 0.09 | endo_arterial | endo_arterial NOTCH4  |\n",
       "| 4 | endo_arterial | ICAM2   | 1.2014195 | 0 | 0 | 1.35 | 0.15 | 0.84 | 0.13 | endo_arterial | endo_arterial ICAM2   |\n",
       "| 5 | endo_arterial | RAMP2   | 2.0385570 | 0 | 0 | 2.43 | 0.39 | 0.95 | 0.26 | endo_arterial | endo_arterial RAMP2   |\n",
       "| 6 | endo_arterial | PECAM1  | 1.4628345 | 0 | 0 | 1.69 | 0.23 | 0.92 | 0.15 | endo_arterial | endo_arterial PECAM1  |\n",
       "\n"
      ],
      "text/plain": [
       "  cluster       Gene    logFC     P.Value adj.P.Val AveExpr_cluster\n",
       "1 endo_arterial CLDN5   2.2303206 0       0         2.53           \n",
       "2 endo_arterial CLEC14A 1.7017444 0       0         1.92           \n",
       "3 endo_arterial NOTCH4  0.9931673 0       0         1.08           \n",
       "4 endo_arterial ICAM2   1.2014195 0       0         1.35           \n",
       "5 endo_arterial RAMP2   2.0385570 0       0         2.43           \n",
       "6 endo_arterial PECAM1  1.4628345 0       0         1.69           \n",
       "  AveExpr_rest percentExpr_cluster percentExpr_rest L1           \n",
       "1 0.30         0.93                0.16             endo_arterial\n",
       "2 0.21         0.93                0.13             endo_arterial\n",
       "3 0.09         0.77                0.09             endo_arterial\n",
       "4 0.15         0.84                0.13             endo_arterial\n",
       "5 0.39         0.95                0.26             endo_arterial\n",
       "6 0.23         0.92                0.15             endo_arterial\n",
       "  id                   \n",
       "1 endo_arterial CLDN5  \n",
       "2 endo_arterial CLEC14A\n",
       "3 endo_arterial NOTCH4 \n",
       "4 endo_arterial ICAM2  \n",
       "5 endo_arterial RAMP2  \n",
       "6 endo_arterial PECAM1 "
      ]
     },
     "metadata": {},
     "output_type": "display_data"
    }
   ],
   "source": [
    "# Load percentage expression info\n",
    "# you need to put in a folder a file for each cluster that you included in cellphone\n",
    "# The file must contain at least three columns (aka, you can reuse the output of the DEG files):\n",
    "# - Gene: gene symbol\n",
    "# - cluster: cell type\n",
    "# - percentExpr_cluster: % of cells in the cluster with expression > 0 for the gene\n",
    "# path_Exp = '/home/jovyan/farm/endometrium/data/cellphoneDB/clusterDEGs_and_TFs/DEGs/'\n",
    "path_Exp = '/home/jovyan/farm/endometrium/figures_primaryall/cluster_markers/'\n",
    "\n",
    "\n",
    "# Load\n",
    "Per_files = list.files(path_Exp, pattern = '_DEGs.csv', full.names = T) %>% \n",
    "    grep('scanpy', ., value = T, invert = T)  %>% \n",
    "    grep('vs', ., value = T, invert = T)\n",
    "Per_names = list.files(path_Exp, pattern = '_DEGs.csv') %>% \n",
    "    grep('scanpy', ., value = T, invert = T) %>% \n",
    "    grep('vs', ., value = T, invert = T)\n",
    "Per_df = lapply(Per_files, read.csv, stringsAsFactors = F) \n",
    "\n",
    "# Set rownames as genes, for convenience\n",
    "Per_df = lapply(Per_df, function(x){ \n",
    "    rownames(x) = x$Gene\n",
    "    return(x) })\n",
    "\n",
    "# Remove genes not in cellphone or not expressed\n",
    "Per_df = lapply(Per_df, function(x) subset(x, Gene %in% genes_cpDB$gene_name & percentExpr_cluster > per_cutoff))\n",
    "\n",
    "                \n",
    "# Build dictionary clusters2expressed genes                       \n",
    "names(Per_df) = gsub('_DEGs.csv', '', Per_names)\n",
    "                                              \n",
    "PERC = melt(Per_df, id.vars = names(Per_df[[1]]))\n",
    "PERC$id = paste(PERC$cluster, PERC$Gene)                      \n",
    "head(PERC)\n",
    "                      "
   ]
  },
  {
   "cell_type": "markdown",
   "metadata": {},
   "source": [
    "# Immune/PV crosstalk \n",
    "\n",
    "Left Receptors: columns (endo_venular; endo_arterial; endo_lymphatic) & rows (CCL14; CCL1)\n",
    "\n",
    "Right Ligands: columns (macrophages; NK cells; T cells) & rows (CCR1; CCR7)"
   ]
  },
  {
   "cell_type": "markdown",
   "metadata": {},
   "source": [
    "## Receptors\n",
    "\n",
    " Receptors: CCR1; CCR7\n",
    "\n",
    "\n",
    "\n",
    "#### Load genes of interest"
   ]
  },
  {
   "cell_type": "code",
   "execution_count": 6,
   "metadata": {},
   "outputs": [
    {
     "data": {
      "text/html": [
       "<style>\n",
       ".list-inline {list-style: none; margin:0; padding: 0}\n",
       ".list-inline>li {display: inline-block}\n",
       ".list-inline>li:not(:last-child)::after {content: \"\\00b7\"; padding: 0 .5ex}\n",
       "</style>\n",
       "<ol class=list-inline><li>'CCR1'</li><li>'CCR7'</li></ol>\n"
      ],
      "text/latex": [
       "\\begin{enumerate*}\n",
       "\\item 'CCR1'\n",
       "\\item 'CCR7'\n",
       "\\end{enumerate*}\n"
      ],
      "text/markdown": [
       "1. 'CCR1'\n",
       "2. 'CCR7'\n",
       "\n",
       "\n"
      ],
      "text/plain": [
       "[1] \"CCR1\" \"CCR7\""
      ]
     },
     "metadata": {},
     "output_type": "display_data"
    }
   ],
   "source": [
    "genes2plot = c('CCR1', 'CCR7')\n",
    "genes2plot"
   ]
  },
  {
   "cell_type": "markdown",
   "metadata": {},
   "source": [
    "#### Generate cells2genes in cellphone for interactions containing genes of interest"
   ]
  },
  {
   "cell_type": "code",
   "execution_count": 7,
   "metadata": {},
   "outputs": [
    {
     "data": {
      "text/html": [
       "<table>\n",
       "<caption>A data.frame: 3 × 13</caption>\n",
       "<thead>\n",
       "\t<tr><th></th><th scope=col>cluster</th><th scope=col>Gene</th><th scope=col>logFC</th><th scope=col>P.Value</th><th scope=col>adj.P.Val</th><th scope=col>AveExpr_cluster</th><th scope=col>AveExpr_rest</th><th scope=col>percentExpr_cluster</th><th scope=col>percentExpr_rest</th><th scope=col>L1</th><th scope=col>id</th><th scope=col>cell</th><th scope=col>gene</th></tr>\n",
       "\t<tr><th></th><th scope=col>&lt;chr&gt;</th><th scope=col>&lt;chr&gt;</th><th scope=col>&lt;dbl&gt;</th><th scope=col>&lt;dbl&gt;</th><th scope=col>&lt;dbl&gt;</th><th scope=col>&lt;dbl&gt;</th><th scope=col>&lt;dbl&gt;</th><th scope=col>&lt;dbl&gt;</th><th scope=col>&lt;dbl&gt;</th><th scope=col>&lt;chr&gt;</th><th scope=col>&lt;chr&gt;</th><th scope=col>&lt;chr&gt;</th><th scope=col>&lt;chr&gt;</th></tr>\n",
       "</thead>\n",
       "<tbody>\n",
       "\t<tr><th scope=row>49212</th><td>myeloid</td><td>CCR1</td><td>0.4436813</td><td> 0.00000e+00</td><td> 0.000000e+00</td><td>0.46</td><td>0.01</td><td>0.42</td><td>0.01</td><td>myeloid</td><td>myeloid CCR1</td><td>myeloid</td><td>CCR1</td></tr>\n",
       "\t<tr><th scope=row>55535</th><td>NK     </td><td>CCR1</td><td>0.1219378</td><td>2.21078e-120</td><td>1.226519e-118</td><td>0.14</td><td>0.02</td><td>0.14</td><td>0.02</td><td>NK     </td><td>NK CCR1     </td><td>NK     </td><td>CCR1</td></tr>\n",
       "\t<tr><th scope=row>69449</th><td>T_cells</td><td>CCR7</td><td>0.2994251</td><td> 0.00000e+00</td><td> 0.000000e+00</td><td>0.30</td><td>0.01</td><td>0.21</td><td>0.00</td><td>T_cells</td><td>T_cells CCR7</td><td>T_cells</td><td>CCR7</td></tr>\n",
       "</tbody>\n",
       "</table>\n"
      ],
      "text/latex": [
       "A data.frame: 3 × 13\n",
       "\\begin{tabular}{r|lllllllllllll}\n",
       "  & cluster & Gene & logFC & P.Value & adj.P.Val & AveExpr\\_cluster & AveExpr\\_rest & percentExpr\\_cluster & percentExpr\\_rest & L1 & id & cell & gene\\\\\n",
       "  & <chr> & <chr> & <dbl> & <dbl> & <dbl> & <dbl> & <dbl> & <dbl> & <dbl> & <chr> & <chr> & <chr> & <chr>\\\\\n",
       "\\hline\n",
       "\t49212 & myeloid & CCR1 & 0.4436813 &  0.00000e+00 &  0.000000e+00 & 0.46 & 0.01 & 0.42 & 0.01 & myeloid & myeloid CCR1 & myeloid & CCR1\\\\\n",
       "\t55535 & NK      & CCR1 & 0.1219378 & 2.21078e-120 & 1.226519e-118 & 0.14 & 0.02 & 0.14 & 0.02 & NK      & NK CCR1      & NK      & CCR1\\\\\n",
       "\t69449 & T\\_cells & CCR7 & 0.2994251 &  0.00000e+00 &  0.000000e+00 & 0.30 & 0.01 & 0.21 & 0.00 & T\\_cells & T\\_cells CCR7 & T\\_cells & CCR7\\\\\n",
       "\\end{tabular}\n"
      ],
      "text/markdown": [
       "\n",
       "A data.frame: 3 × 13\n",
       "\n",
       "| <!--/--> | cluster &lt;chr&gt; | Gene &lt;chr&gt; | logFC &lt;dbl&gt; | P.Value &lt;dbl&gt; | adj.P.Val &lt;dbl&gt; | AveExpr_cluster &lt;dbl&gt; | AveExpr_rest &lt;dbl&gt; | percentExpr_cluster &lt;dbl&gt; | percentExpr_rest &lt;dbl&gt; | L1 &lt;chr&gt; | id &lt;chr&gt; | cell &lt;chr&gt; | gene &lt;chr&gt; |\n",
       "|---|---|---|---|---|---|---|---|---|---|---|---|---|---|\n",
       "| 49212 | myeloid | CCR1 | 0.4436813 |  0.00000e+00 |  0.000000e+00 | 0.46 | 0.01 | 0.42 | 0.01 | myeloid | myeloid CCR1 | myeloid | CCR1 |\n",
       "| 55535 | NK      | CCR1 | 0.1219378 | 2.21078e-120 | 1.226519e-118 | 0.14 | 0.02 | 0.14 | 0.02 | NK      | NK CCR1      | NK      | CCR1 |\n",
       "| 69449 | T_cells | CCR7 | 0.2994251 |  0.00000e+00 |  0.000000e+00 | 0.30 | 0.01 | 0.21 | 0.00 | T_cells | T_cells CCR7 | T_cells | CCR7 |\n",
       "\n"
      ],
      "text/plain": [
       "      cluster Gene logFC     P.Value      adj.P.Val     AveExpr_cluster\n",
       "49212 myeloid CCR1 0.4436813  0.00000e+00  0.000000e+00 0.46           \n",
       "55535 NK      CCR1 0.1219378 2.21078e-120 1.226519e-118 0.14           \n",
       "69449 T_cells CCR7 0.2994251  0.00000e+00  0.000000e+00 0.30           \n",
       "      AveExpr_rest percentExpr_cluster percentExpr_rest L1      id          \n",
       "49212 0.01         0.42                0.01             myeloid myeloid CCR1\n",
       "55535 0.02         0.14                0.02             NK      NK CCR1     \n",
       "69449 0.01         0.21                0.00             T_cells T_cells CCR7\n",
       "      cell    gene\n",
       "49212 myeloid CCR1\n",
       "55535 NK      CCR1\n",
       "69449 T_cells CCR7"
      ]
     },
     "metadata": {},
     "output_type": "display_data"
    }
   ],
   "source": [
    "cells2genes = get_cells2genes(genes2filter = genes2plot)\n",
    "head(cells2genes)\n",
    "cells2genes$value = 1\n",
    "cells2genes$cell = as.character(cells2genes$cell)\n",
    "cells2genes$gene = as.character(cells2genes$gene)\n",
    " "
   ]
  },
  {
   "cell_type": "code",
   "execution_count": 8,
   "metadata": {},
   "outputs": [
    {
     "data": {
      "text/html": [
       "<style>\n",
       ".list-inline {list-style: none; margin:0; padding: 0}\n",
       ".list-inline>li {display: inline-block}\n",
       ".list-inline>li:not(:last-child)::after {content: \"\\00b7\"; padding: 0 .5ex}\n",
       "</style>\n",
       "<ol class=list-inline><li>'CCR1'</li><li>'CCR7'</li></ol>\n"
      ],
      "text/latex": [
       "\\begin{enumerate*}\n",
       "\\item 'CCR1'\n",
       "\\item 'CCR7'\n",
       "\\end{enumerate*}\n"
      ],
      "text/markdown": [
       "1. 'CCR1'\n",
       "2. 'CCR7'\n",
       "\n",
       "\n"
      ],
      "text/plain": [
       "[1] \"CCR1\" \"CCR7\""
      ]
     },
     "metadata": {},
     "output_type": "display_data"
    }
   ],
   "source": [
    "# filter genes\n",
    "df = subset(cells2genes, gene %in% genes2plot)\n",
    "unique(sort(df$gene))"
   ]
  },
  {
   "cell_type": "code",
   "execution_count": 9,
   "metadata": {},
   "outputs": [
    {
     "data": {
      "image/png": "[encoded data removed]",
      "text/plain": [
       "plot without title"
      ]
     },
     "metadata": {
      "image/png": {
       "height": 420,
       "width": 420
      },
      "text/plain": {
       "height": 420,
       "width": 420
      }
     },
     "output_type": "display_data"
    }
   ],
   "source": [
    "# filter genes\n",
    "df = subset(cells2genes, gene %in% genes2plot)\n",
    "# subset\n",
    "df = subset(df, cell %in% c('T_cells', 'myeloid', 'NK') )\n",
    "\n",
    "ggplot(df,  aes(y = gene,\n",
    "                    x = cell,\n",
    "                    color = AveExpr_cluster,\n",
    "                    size = percentExpr_cluster)) +      \n",
    "    geom_point() + \n",
    "    scale_color_gradient(low = 'orange', high = 'blue') +\n",
    "    theme_bw() + theme(axis.text.x = element_text(angle = 90, vjust = 0.5, hjust = 1))\n",
    "ggsave(filename = 'data/cellphoneDB/clusterDEGs_and_TFs/L_and_R_plots/Figure1F_dotplotLigands.pdf', dpi = 300, width = 4, height = 3.8)"
   ]
  },
  {
   "cell_type": "markdown",
   "metadata": {},
   "source": [
    "## Ligands\n",
    "\n",
    "Ligands; CCL14, CCL1\n",
    "\n",
    "\n",
    "#### Load genes of interest"
   ]
  },
  {
   "cell_type": "code",
   "execution_count": 10,
   "metadata": {},
   "outputs": [
    {
     "data": {
      "text/html": [
       "<style>\n",
       ".list-inline {list-style: none; margin:0; padding: 0}\n",
       ".list-inline>li {display: inline-block}\n",
       ".list-inline>li:not(:last-child)::after {content: \"\\00b7\"; padding: 0 .5ex}\n",
       "</style>\n",
       "<ol class=list-inline><li>'CCL14'</li><li>'CCL21'</li></ol>\n"
      ],
      "text/latex": [
       "\\begin{enumerate*}\n",
       "\\item 'CCL14'\n",
       "\\item 'CCL21'\n",
       "\\end{enumerate*}\n"
      ],
      "text/markdown": [
       "1. 'CCL14'\n",
       "2. 'CCL21'\n",
       "\n",
       "\n"
      ],
      "text/plain": [
       "[1] \"CCL14\" \"CCL21\""
      ]
     },
     "metadata": {},
     "output_type": "display_data"
    }
   ],
   "source": [
    "genes2plot = c('CCL14','CCL21')\n",
    "genes2plot"
   ]
  },
  {
   "cell_type": "markdown",
   "metadata": {},
   "source": [
    "#### Generate cells2genes in cellphone for interactions containing genes of interest"
   ]
  },
  {
   "cell_type": "code",
   "execution_count": 11,
   "metadata": {},
   "outputs": [
    {
     "data": {
      "text/html": [
       "<table>\n",
       "<caption>A data.frame: 5 × 13</caption>\n",
       "<thead>\n",
       "\t<tr><th></th><th scope=col>cluster</th><th scope=col>Gene</th><th scope=col>logFC</th><th scope=col>P.Value</th><th scope=col>adj.P.Val</th><th scope=col>AveExpr_cluster</th><th scope=col>AveExpr_rest</th><th scope=col>percentExpr_cluster</th><th scope=col>percentExpr_rest</th><th scope=col>L1</th><th scope=col>id</th><th scope=col>cell</th><th scope=col>gene</th></tr>\n",
       "\t<tr><th></th><th scope=col>&lt;chr&gt;</th><th scope=col>&lt;chr&gt;</th><th scope=col>&lt;dbl&gt;</th><th scope=col>&lt;dbl&gt;</th><th scope=col>&lt;dbl&gt;</th><th scope=col>&lt;dbl&gt;</th><th scope=col>&lt;dbl&gt;</th><th scope=col>&lt;dbl&gt;</th><th scope=col>&lt;dbl&gt;</th><th scope=col>&lt;chr&gt;</th><th scope=col>&lt;chr&gt;</th><th scope=col>&lt;chr&gt;</th><th scope=col>&lt;chr&gt;</th></tr>\n",
       "</thead>\n",
       "<tbody>\n",
       "\t<tr><th scope=row>1090</th><td>endo_arterial </td><td>CCL14</td><td>0.18500484</td><td>1.120710e-57</td><td>2.135381e-56</td><td>0.32</td><td>0.14</td><td>0.28</td><td>0.09</td><td>endo_arterial </td><td>endo_arterial CCL14 </td><td>endo_arterial </td><td>CCL14</td></tr>\n",
       "\t<tr><th scope=row>7270</th><td>endo_lymphatic</td><td>CCL21</td><td>4.38871757</td><td>0.000000e+00</td><td>0.000000e+00</td><td>4.43</td><td>0.04</td><td>0.99</td><td>0.03</td><td>endo_lymphatic</td><td>endo_lymphatic CCL21</td><td>endo_lymphatic</td><td>CCL21</td></tr>\n",
       "\t<tr><th scope=row>12343</th><td>endo_lymphatic</td><td>CCL14</td><td>0.01493839</td><td>7.605513e-01</td><td>9.645782e-01</td><td>0.17</td><td>0.16</td><td>0.15</td><td>0.11</td><td>endo_lymphatic</td><td>endo_lymphatic CCL14</td><td>endo_lymphatic</td><td>CCL14</td></tr>\n",
       "\t<tr><th scope=row>12878</th><td>endo_velular  </td><td>CCL14</td><td>1.10070281</td><td>0.000000e+00</td><td>0.000000e+00</td><td>1.15</td><td>0.05</td><td>0.72</td><td>0.04</td><td>endo_velular  </td><td>endo_velular CCL14  </td><td>endo_velular  </td><td>CCL14</td></tr>\n",
       "\t<tr><th scope=row>65058</th><td>PV_STEAP4     </td><td>CCL21</td><td>0.16479317</td><td>4.584921e-57</td><td>2.203217e-55</td><td>0.21</td><td>0.05</td><td>0.11</td><td>0.02</td><td>PV_STEAP4     </td><td>PV_STEAP4 CCL21     </td><td>PV_STEAP4     </td><td>CCL21</td></tr>\n",
       "</tbody>\n",
       "</table>\n"
      ],
      "text/latex": [
       "A data.frame: 5 × 13\n",
       "\\begin{tabular}{r|lllllllllllll}\n",
       "  & cluster & Gene & logFC & P.Value & adj.P.Val & AveExpr\\_cluster & AveExpr\\_rest & percentExpr\\_cluster & percentExpr\\_rest & L1 & id & cell & gene\\\\\n",
       "  & <chr> & <chr> & <dbl> & <dbl> & <dbl> & <dbl> & <dbl> & <dbl> & <dbl> & <chr> & <chr> & <chr> & <chr>\\\\\n",
       "\\hline\n",
       "\t1090 & endo\\_arterial  & CCL14 & 0.18500484 & 1.120710e-57 & 2.135381e-56 & 0.32 & 0.14 & 0.28 & 0.09 & endo\\_arterial  & endo\\_arterial CCL14  & endo\\_arterial  & CCL14\\\\\n",
       "\t7270 & endo\\_lymphatic & CCL21 & 4.38871757 & 0.000000e+00 & 0.000000e+00 & 4.43 & 0.04 & 0.99 & 0.03 & endo\\_lymphatic & endo\\_lymphatic CCL21 & endo\\_lymphatic & CCL21\\\\\n",
       "\t12343 & endo\\_lymphatic & CCL14 & 0.01493839 & 7.605513e-01 & 9.645782e-01 & 0.17 & 0.16 & 0.15 & 0.11 & endo\\_lymphatic & endo\\_lymphatic CCL14 & endo\\_lymphatic & CCL14\\\\\n",
       "\t12878 & endo\\_velular   & CCL14 & 1.10070281 & 0.000000e+00 & 0.000000e+00 & 1.15 & 0.05 & 0.72 & 0.04 & endo\\_velular   & endo\\_velular CCL14   & endo\\_velular   & CCL14\\\\\n",
       "\t65058 & PV\\_STEAP4      & CCL21 & 0.16479317 & 4.584921e-57 & 2.203217e-55 & 0.21 & 0.05 & 0.11 & 0.02 & PV\\_STEAP4      & PV\\_STEAP4 CCL21      & PV\\_STEAP4      & CCL21\\\\\n",
       "\\end{tabular}\n"
      ],
      "text/markdown": [
       "\n",
       "A data.frame: 5 × 13\n",
       "\n",
       "| <!--/--> | cluster &lt;chr&gt; | Gene &lt;chr&gt; | logFC &lt;dbl&gt; | P.Value &lt;dbl&gt; | adj.P.Val &lt;dbl&gt; | AveExpr_cluster &lt;dbl&gt; | AveExpr_rest &lt;dbl&gt; | percentExpr_cluster &lt;dbl&gt; | percentExpr_rest &lt;dbl&gt; | L1 &lt;chr&gt; | id &lt;chr&gt; | cell &lt;chr&gt; | gene &lt;chr&gt; |\n",
       "|---|---|---|---|---|---|---|---|---|---|---|---|---|---|\n",
       "| 1090 | endo_arterial  | CCL14 | 0.18500484 | 1.120710e-57 | 2.135381e-56 | 0.32 | 0.14 | 0.28 | 0.09 | endo_arterial  | endo_arterial CCL14  | endo_arterial  | CCL14 |\n",
       "| 7270 | endo_lymphatic | CCL21 | 4.38871757 | 0.000000e+00 | 0.000000e+00 | 4.43 | 0.04 | 0.99 | 0.03 | endo_lymphatic | endo_lymphatic CCL21 | endo_lymphatic | CCL21 |\n",
       "| 12343 | endo_lymphatic | CCL14 | 0.01493839 | 7.605513e-01 | 9.645782e-01 | 0.17 | 0.16 | 0.15 | 0.11 | endo_lymphatic | endo_lymphatic CCL14 | endo_lymphatic | CCL14 |\n",
       "| 12878 | endo_velular   | CCL14 | 1.10070281 | 0.000000e+00 | 0.000000e+00 | 1.15 | 0.05 | 0.72 | 0.04 | endo_velular   | endo_velular CCL14   | endo_velular   | CCL14 |\n",
       "| 65058 | PV_STEAP4      | CCL21 | 0.16479317 | 4.584921e-57 | 2.203217e-55 | 0.21 | 0.05 | 0.11 | 0.02 | PV_STEAP4      | PV_STEAP4 CCL21      | PV_STEAP4      | CCL21 |\n",
       "\n"
      ],
      "text/plain": [
       "      cluster        Gene  logFC      P.Value      adj.P.Val    AveExpr_cluster\n",
       "1090  endo_arterial  CCL14 0.18500484 1.120710e-57 2.135381e-56 0.32           \n",
       "7270  endo_lymphatic CCL21 4.38871757 0.000000e+00 0.000000e+00 4.43           \n",
       "12343 endo_lymphatic CCL14 0.01493839 7.605513e-01 9.645782e-01 0.17           \n",
       "12878 endo_velular   CCL14 1.10070281 0.000000e+00 0.000000e+00 1.15           \n",
       "65058 PV_STEAP4      CCL21 0.16479317 4.584921e-57 2.203217e-55 0.21           \n",
       "      AveExpr_rest percentExpr_cluster percentExpr_rest L1            \n",
       "1090  0.14         0.28                0.09             endo_arterial \n",
       "7270  0.04         0.99                0.03             endo_lymphatic\n",
       "12343 0.16         0.15                0.11             endo_lymphatic\n",
       "12878 0.05         0.72                0.04             endo_velular  \n",
       "65058 0.05         0.11                0.02             PV_STEAP4     \n",
       "      id                   cell           gene \n",
       "1090  endo_arterial CCL14  endo_arterial  CCL14\n",
       "7270  endo_lymphatic CCL21 endo_lymphatic CCL21\n",
       "12343 endo_lymphatic CCL14 endo_lymphatic CCL14\n",
       "12878 endo_velular CCL14   endo_velular   CCL14\n",
       "65058 PV_STEAP4 CCL21      PV_STEAP4      CCL21"
      ]
     },
     "metadata": {},
     "output_type": "display_data"
    }
   ],
   "source": [
    "cells2genes = get_cells2genes(genes2filter = genes2plot)\n",
    "head(cells2genes)\n",
    "cells2genes$value = 1\n",
    "cells2genes$cell = as.character(cells2genes$cell)\n",
    "cells2genes$gene = as.character(cells2genes$gene)\n",
    " "
   ]
  },
  {
   "cell_type": "code",
   "execution_count": 12,
   "metadata": {},
   "outputs": [
    {
     "data": {
      "image/png": "[encoded data removed]",
      "text/plain": [
       "plot without title"
      ]
     },
     "metadata": {
      "image/png": {
       "height": 420,
       "width": 420
      },
      "text/plain": {
       "height": 420,
       "width": 420
      }
     },
     "output_type": "display_data"
    }
   ],
   "source": [
    "# filter genes\n",
    "df = subset(cells2genes, gene %in% genes2plot)\n",
    "# filter epi\n",
    "df = df[ grep('endo', df$cell) ,]\n",
    "df$cell = gsub('_scanpy', '', df$cell)\n",
    "# ordre endo_venular; endo_arterial; endo_lymphatic\n",
    "df$cell = factor(df$cell, levels = rev(c('endo_venular', 'endo_arterial', 'endo_lymphatic') ))\n",
    "ggplot(df,  aes(y = gene,\n",
    "                    x = cell,\n",
    "                    color = AveExpr_cluster,\n",
    "                    size = percentExpr_cluster), ) +      \n",
    "    geom_point() + \n",
    "    scale_color_gradient(low = 'orange', high = 'blue') +\n",
    "    theme_bw() + theme(axis.text.x = element_text(angle = 90, vjust = 0.5, hjust = 1))\n",
    "\n",
    "ggsave(filename = 'data/cellphoneDB/clusterDEGs_and_TFs/L_and_R_plots/Figure1F_dotplotReceptors.pdf', dpi = 300, width = 4, height = 3.8)"
   ]
  }
 ],
 "metadata": {
  "kernelspec": {
   "display_name": "R",
   "language": "R",
   "name": "ir"
  },
  "language_info": {
   "codemirror_mode": "r",
   "file_extension": ".r",
   "mimetype": "text/x-r-source",
   "name": "R",
   "pygments_lexer": "r",
   "version": "4.0.0"
  }
 },
 "nbformat": 4,
 "nbformat_minor": 4
}

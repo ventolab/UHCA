{
 "cells": [
  {
   "cell_type": "markdown",
   "metadata": {},
   "source": [
    "#  Plot TFs"
   ]
  },
  {
   "cell_type": "code",
   "execution_count": 41,
   "metadata": {},
   "outputs": [],
   "source": [
    "library(dplyr)\n",
    "library(reshape2)\n",
    "library(plyr)\n",
    "library(RColorBrewer)\n",
    "library(ggplot2)\n",
    "library(pheatmap)\n",
    "library(cowplot)"
   ]
  },
  {
   "cell_type": "markdown",
   "metadata": {},
   "source": [
    "## Load TF activities/enrichemnt file"
   ]
  },
  {
   "cell_type": "code",
   "execution_count": 42,
   "metadata": {},
   "outputs": [
    {
     "data": {
      "text/html": [
       "<table>\n",
       "<caption>A data.frame: 6 × 7</caption>\n",
       "<thead>\n",
       "\t<tr><th></th><th scope=col>cl_name</th><th scope=col>Regulon</th><th scope=col>NES</th><th scope=col>p.value</th><th scope=col>FDR</th><th scope=col>Size</th><th scope=col>id</th></tr>\n",
       "\t<tr><th></th><th scope=col>&lt;chr&gt;</th><th scope=col>&lt;chr&gt;</th><th scope=col>&lt;dbl&gt;</th><th scope=col>&lt;dbl&gt;</th><th scope=col>&lt;dbl&gt;</th><th scope=col>&lt;int&gt;</th><th scope=col>&lt;chr&gt;</th></tr>\n",
       "</thead>\n",
       "<tbody>\n",
       "\t<tr><th scope=row>2</th><td>cl_ciliated_DEGs     </td><td>ZNF19_E </td><td>15.33777</td><td>4.276324e-53</td><td>9.856927e-51</td><td>175</td><td>cl_ciliated_DEGs ZNF19_E      </td></tr>\n",
       "\t<tr><th scope=row>3</th><td>cl_glandular_DEGs    </td><td>CSRNP1_E</td><td>15.06643</td><td>2.692739e-51</td><td>8.275685e-50</td><td>153</td><td>cl_glandular_DEGs CSRNP1_E    </td></tr>\n",
       "\t<tr><th scope=row>5</th><td>cl_ciliated_DEGs     </td><td>FOXJ1_E </td><td>14.66518</td><td>1.077282e-48</td><td>2.128401e-46</td><td>150</td><td>cl_ciliated_DEGs FOXJ1_E      </td></tr>\n",
       "\t<tr><th scope=row>7</th><td>cl_proliferative_DEGs</td><td>ZNF749_E</td><td>12.58085</td><td>2.691199e-36</td><td>3.917819e-35</td><td>194</td><td>cl_proliferative_DEGs ZNF749_E</td></tr>\n",
       "\t<tr><th scope=row>8</th><td>cl_WIF1_2_DEGs       </td><td>NFKB1_AA</td><td>11.17350</td><td>5.496902e-29</td><td>1.652656e-27</td><td> 92</td><td>cl_WIF1_2_DEGs NFKB1_AA       </td></tr>\n",
       "\t<tr><th scope=row>9</th><td>cl_WIF1_2_DEGs       </td><td>CSRNP1_E</td><td>10.85243</td><td>1.941926e-27</td><td>5.164775e-26</td><td>153</td><td>cl_WIF1_2_DEGs CSRNP1_E       </td></tr>\n",
       "</tbody>\n",
       "</table>\n"
      ],
      "text/latex": [
       "A data.frame: 6 × 7\n",
       "\\begin{tabular}{r|lllllll}\n",
       "  & cl\\_name & Regulon & NES & p.value & FDR & Size & id\\\\\n",
       "  & <chr> & <chr> & <dbl> & <dbl> & <dbl> & <int> & <chr>\\\\\n",
       "\\hline\n",
       "\t2 & cl\\_ciliated\\_DEGs      & ZNF19\\_E  & 15.33777 & 4.276324e-53 & 9.856927e-51 & 175 & cl\\_ciliated\\_DEGs ZNF19\\_E      \\\\\n",
       "\t3 & cl\\_glandular\\_DEGs     & CSRNP1\\_E & 15.06643 & 2.692739e-51 & 8.275685e-50 & 153 & cl\\_glandular\\_DEGs CSRNP1\\_E    \\\\\n",
       "\t5 & cl\\_ciliated\\_DEGs      & FOXJ1\\_E  & 14.66518 & 1.077282e-48 & 2.128401e-46 & 150 & cl\\_ciliated\\_DEGs FOXJ1\\_E      \\\\\n",
       "\t7 & cl\\_proliferative\\_DEGs & ZNF749\\_E & 12.58085 & 2.691199e-36 & 3.917819e-35 & 194 & cl\\_proliferative\\_DEGs ZNF749\\_E\\\\\n",
       "\t8 & cl\\_WIF1\\_2\\_DEGs        & NFKB1\\_AA & 11.17350 & 5.496902e-29 & 1.652656e-27 &  92 & cl\\_WIF1\\_2\\_DEGs NFKB1\\_AA       \\\\\n",
       "\t9 & cl\\_WIF1\\_2\\_DEGs        & CSRNP1\\_E & 10.85243 & 1.941926e-27 & 5.164775e-26 & 153 & cl\\_WIF1\\_2\\_DEGs CSRNP1\\_E       \\\\\n",
       "\\end{tabular}\n"
      ],
      "text/markdown": [
       "\n",
       "A data.frame: 6 × 7\n",
       "\n",
       "| <!--/--> | cl_name &lt;chr&gt; | Regulon &lt;chr&gt; | NES &lt;dbl&gt; | p.value &lt;dbl&gt; | FDR &lt;dbl&gt; | Size &lt;int&gt; | id &lt;chr&gt; |\n",
       "|---|---|---|---|---|---|---|---|\n",
       "| 2 | cl_ciliated_DEGs      | ZNF19_E  | 15.33777 | 4.276324e-53 | 9.856927e-51 | 175 | cl_ciliated_DEGs ZNF19_E       |\n",
       "| 3 | cl_glandular_DEGs     | CSRNP1_E | 15.06643 | 2.692739e-51 | 8.275685e-50 | 153 | cl_glandular_DEGs CSRNP1_E     |\n",
       "| 5 | cl_ciliated_DEGs      | FOXJ1_E  | 14.66518 | 1.077282e-48 | 2.128401e-46 | 150 | cl_ciliated_DEGs FOXJ1_E       |\n",
       "| 7 | cl_proliferative_DEGs | ZNF749_E | 12.58085 | 2.691199e-36 | 3.917819e-35 | 194 | cl_proliferative_DEGs ZNF749_E |\n",
       "| 8 | cl_WIF1_2_DEGs        | NFKB1_AA | 11.17350 | 5.496902e-29 | 1.652656e-27 |  92 | cl_WIF1_2_DEGs NFKB1_AA        |\n",
       "| 9 | cl_WIF1_2_DEGs        | CSRNP1_E | 10.85243 | 1.941926e-27 | 5.164775e-26 | 153 | cl_WIF1_2_DEGs CSRNP1_E        |\n",
       "\n"
      ],
      "text/plain": [
       "  cl_name               Regulon  NES      p.value      FDR          Size\n",
       "2 cl_ciliated_DEGs      ZNF19_E  15.33777 4.276324e-53 9.856927e-51 175 \n",
       "3 cl_glandular_DEGs     CSRNP1_E 15.06643 2.692739e-51 8.275685e-50 153 \n",
       "5 cl_ciliated_DEGs      FOXJ1_E  14.66518 1.077282e-48 2.128401e-46 150 \n",
       "7 cl_proliferative_DEGs ZNF749_E 12.58085 2.691199e-36 3.917819e-35 194 \n",
       "8 cl_WIF1_2_DEGs        NFKB1_AA 11.17350 5.496902e-29 1.652656e-27  92 \n",
       "9 cl_WIF1_2_DEGs        CSRNP1_E 10.85243 1.941926e-27 5.164775e-26 153 \n",
       "  id                            \n",
       "2 cl_ciliated_DEGs ZNF19_E      \n",
       "3 cl_glandular_DEGs CSRNP1_E    \n",
       "5 cl_ciliated_DEGs FOXJ1_E      \n",
       "7 cl_proliferative_DEGs ZNF749_E\n",
       "8 cl_WIF1_2_DEGs NFKB1_AA       \n",
       "9 cl_WIF1_2_DEGs CSRNP1_E       "
      ]
     },
     "metadata": {},
     "output_type": "display_data"
    }
   ],
   "source": [
    "TF_activities = read.csv('data/cellphoneDB/clusterDEGs_and_TFs/DEGs_withinEpithelial/TFs_activities.csv', stringsAsFactors = F)\n",
    "TF_activities = TF_activities[ grep('epithelial_', TF_activities$cl_name) , ]\n",
    "TF_activities$cl_name = gsub('epithelial_', '', TF_activities$cl_name)\n",
    "\n",
    "\n",
    "TF_activities = TF_activities[order(TF_activities$NES, decreasing = T), ]\n",
    "TF_activities$id = paste(TF_activities$cl_name, TF_activities$Regulon)\n",
    "head(TF_activities)"
   ]
  },
  {
   "cell_type": "markdown",
   "metadata": {},
   "source": [
    "## Load TF agreement file to retrieve DE sign"
   ]
  },
  {
   "cell_type": "code",
   "execution_count": 43,
   "metadata": {},
   "outputs": [
    {
     "data": {
      "text/html": [
       "<table>\n",
       "<caption>A data.frame: 6 × 10</caption>\n",
       "<thead>\n",
       "\t<tr><th></th><th scope=col>cl</th><th scope=col>TF</th><th scope=col>TF_expression</th><th scope=col>TF_expression_pvals_adj</th><th scope=col>TF_activity</th><th scope=col>TF_activity_pvals_adj</th><th scope=col>TF_activity_score</th><th scope=col>L1</th><th scope=col>id</th><th scope=col>annot</th></tr>\n",
       "\t<tr><th></th><th scope=col>&lt;chr&gt;</th><th scope=col>&lt;chr&gt;</th><th scope=col>&lt;chr&gt;</th><th scope=col>&lt;dbl&gt;</th><th scope=col>&lt;chr&gt;</th><th scope=col>&lt;dbl&gt;</th><th scope=col>&lt;chr&gt;</th><th scope=col>&lt;chr&gt;</th><th scope=col>&lt;chr&gt;</th><th scope=col>&lt;chr&gt;</th></tr>\n",
       "</thead>\n",
       "<tbody>\n",
       "\t<tr><th scope=row>1</th><td>cl_ciliated_DEGs</td><td>FOXJ1 </td><td>upregulated  </td><td> 0.00e+00</td><td>active_regulon  </td><td>2.13e-46</td><td>FOXJ1_E </td><td>cl_epithelial_ciliated_DEGs</td><td>cl_ciliated_DEGs FOXJ1_E </td><td>+</td></tr>\n",
       "\t<tr><th scope=row>2</th><td>cl_ciliated_DEGs</td><td>RFX2  </td><td>upregulated  </td><td> 0.00e+00</td><td>active_regulon  </td><td>1.45e-03</td><td>RFX2_C  </td><td>cl_epithelial_ciliated_DEGs</td><td>cl_ciliated_DEGs RFX2_C  </td><td>+</td></tr>\n",
       "\t<tr><th scope=row>3</th><td>cl_ciliated_DEGs</td><td>HES6  </td><td>upregulated  </td><td> 0.00e+00</td><td>active_regulon  </td><td>4.60e-09</td><td>HES6_E  </td><td>cl_epithelial_ciliated_DEGs</td><td>cl_ciliated_DEGs HES6_E  </td><td>+</td></tr>\n",
       "\t<tr><th scope=row>4</th><td>cl_ciliated_DEGs</td><td>ZSCAN1</td><td>upregulated  </td><td>8.19e-211</td><td>active_regulon  </td><td>2.72e-15</td><td>ZSCAN1_E</td><td>cl_epithelial_ciliated_DEGs</td><td>cl_ciliated_DEGs ZSCAN1_E</td><td>+</td></tr>\n",
       "\t<tr><th scope=row>5</th><td>cl_ciliated_DEGs</td><td>TCF7  </td><td>upregulated  </td><td>9.02e-140</td><td>inactive_regulon</td><td>6.99e-04</td><td>TCF7_B  </td><td>cl_epithelial_ciliated_DEGs</td><td>cl_ciliated_DEGs TCF7_B  </td><td>+</td></tr>\n",
       "\t<tr><th scope=row>6</th><td>cl_ciliated_DEGs</td><td>JUND  </td><td>downregulated</td><td>5.30e-125</td><td>inactive_regulon</td><td>3.58e-02</td><td>JUND_A  </td><td>cl_epithelial_ciliated_DEGs</td><td>cl_ciliated_DEGs JUND_A  </td><td>-</td></tr>\n",
       "</tbody>\n",
       "</table>\n"
      ],
      "text/latex": [
       "A data.frame: 6 × 10\n",
       "\\begin{tabular}{r|llllllllll}\n",
       "  & cl & TF & TF\\_expression & TF\\_expression\\_pvals\\_adj & TF\\_activity & TF\\_activity\\_pvals\\_adj & TF\\_activity\\_score & L1 & id & annot\\\\\n",
       "  & <chr> & <chr> & <chr> & <dbl> & <chr> & <dbl> & <chr> & <chr> & <chr> & <chr>\\\\\n",
       "\\hline\n",
       "\t1 & cl\\_ciliated\\_DEGs & FOXJ1  & upregulated   &  0.00e+00 & active\\_regulon   & 2.13e-46 & FOXJ1\\_E  & cl\\_epithelial\\_ciliated\\_DEGs & cl\\_ciliated\\_DEGs FOXJ1\\_E  & +\\\\\n",
       "\t2 & cl\\_ciliated\\_DEGs & RFX2   & upregulated   &  0.00e+00 & active\\_regulon   & 1.45e-03 & RFX2\\_C   & cl\\_epithelial\\_ciliated\\_DEGs & cl\\_ciliated\\_DEGs RFX2\\_C   & +\\\\\n",
       "\t3 & cl\\_ciliated\\_DEGs & HES6   & upregulated   &  0.00e+00 & active\\_regulon   & 4.60e-09 & HES6\\_E   & cl\\_epithelial\\_ciliated\\_DEGs & cl\\_ciliated\\_DEGs HES6\\_E   & +\\\\\n",
       "\t4 & cl\\_ciliated\\_DEGs & ZSCAN1 & upregulated   & 8.19e-211 & active\\_regulon   & 2.72e-15 & ZSCAN1\\_E & cl\\_epithelial\\_ciliated\\_DEGs & cl\\_ciliated\\_DEGs ZSCAN1\\_E & +\\\\\n",
       "\t5 & cl\\_ciliated\\_DEGs & TCF7   & upregulated   & 9.02e-140 & inactive\\_regulon & 6.99e-04 & TCF7\\_B   & cl\\_epithelial\\_ciliated\\_DEGs & cl\\_ciliated\\_DEGs TCF7\\_B   & +\\\\\n",
       "\t6 & cl\\_ciliated\\_DEGs & JUND   & downregulated & 5.30e-125 & inactive\\_regulon & 3.58e-02 & JUND\\_A   & cl\\_epithelial\\_ciliated\\_DEGs & cl\\_ciliated\\_DEGs JUND\\_A   & -\\\\\n",
       "\\end{tabular}\n"
      ],
      "text/markdown": [
       "\n",
       "A data.frame: 6 × 10\n",
       "\n",
       "| <!--/--> | cl &lt;chr&gt; | TF &lt;chr&gt; | TF_expression &lt;chr&gt; | TF_expression_pvals_adj &lt;dbl&gt; | TF_activity &lt;chr&gt; | TF_activity_pvals_adj &lt;dbl&gt; | TF_activity_score &lt;chr&gt; | L1 &lt;chr&gt; | id &lt;chr&gt; | annot &lt;chr&gt; |\n",
       "|---|---|---|---|---|---|---|---|---|---|---|\n",
       "| 1 | cl_ciliated_DEGs | FOXJ1  | upregulated   |  0.00e+00 | active_regulon   | 2.13e-46 | FOXJ1_E  | cl_epithelial_ciliated_DEGs | cl_ciliated_DEGs FOXJ1_E  | + |\n",
       "| 2 | cl_ciliated_DEGs | RFX2   | upregulated   |  0.00e+00 | active_regulon   | 1.45e-03 | RFX2_C   | cl_epithelial_ciliated_DEGs | cl_ciliated_DEGs RFX2_C   | + |\n",
       "| 3 | cl_ciliated_DEGs | HES6   | upregulated   |  0.00e+00 | active_regulon   | 4.60e-09 | HES6_E   | cl_epithelial_ciliated_DEGs | cl_ciliated_DEGs HES6_E   | + |\n",
       "| 4 | cl_ciliated_DEGs | ZSCAN1 | upregulated   | 8.19e-211 | active_regulon   | 2.72e-15 | ZSCAN1_E | cl_epithelial_ciliated_DEGs | cl_ciliated_DEGs ZSCAN1_E | + |\n",
       "| 5 | cl_ciliated_DEGs | TCF7   | upregulated   | 9.02e-140 | inactive_regulon | 6.99e-04 | TCF7_B   | cl_epithelial_ciliated_DEGs | cl_ciliated_DEGs TCF7_B   | + |\n",
       "| 6 | cl_ciliated_DEGs | JUND   | downregulated | 5.30e-125 | inactive_regulon | 3.58e-02 | JUND_A   | cl_epithelial_ciliated_DEGs | cl_ciliated_DEGs JUND_A   | - |\n",
       "\n"
      ],
      "text/plain": [
       "  cl               TF     TF_expression TF_expression_pvals_adj\n",
       "1 cl_ciliated_DEGs FOXJ1  upregulated    0.00e+00              \n",
       "2 cl_ciliated_DEGs RFX2   upregulated    0.00e+00              \n",
       "3 cl_ciliated_DEGs HES6   upregulated    0.00e+00              \n",
       "4 cl_ciliated_DEGs ZSCAN1 upregulated   8.19e-211              \n",
       "5 cl_ciliated_DEGs TCF7   upregulated   9.02e-140              \n",
       "6 cl_ciliated_DEGs JUND   downregulated 5.30e-125              \n",
       "  TF_activity      TF_activity_pvals_adj TF_activity_score\n",
       "1 active_regulon   2.13e-46              FOXJ1_E          \n",
       "2 active_regulon   1.45e-03              RFX2_C           \n",
       "3 active_regulon   4.60e-09              HES6_E           \n",
       "4 active_regulon   2.72e-15              ZSCAN1_E         \n",
       "5 inactive_regulon 6.99e-04              TCF7_B           \n",
       "6 inactive_regulon 3.58e-02              JUND_A           \n",
       "  L1                          id                        annot\n",
       "1 cl_epithelial_ciliated_DEGs cl_ciliated_DEGs FOXJ1_E  +    \n",
       "2 cl_epithelial_ciliated_DEGs cl_ciliated_DEGs RFX2_C   +    \n",
       "3 cl_epithelial_ciliated_DEGs cl_ciliated_DEGs HES6_E   +    \n",
       "4 cl_epithelial_ciliated_DEGs cl_ciliated_DEGs ZSCAN1_E +    \n",
       "5 cl_epithelial_ciliated_DEGs cl_ciliated_DEGs TCF7_B   +    \n",
       "6 cl_epithelial_ciliated_DEGs cl_ciliated_DEGs JUND_A   -    "
      ]
     },
     "metadata": {},
     "output_type": "display_data"
    }
   ],
   "source": [
    "TF_activities_agreement = read.csv('data/cellphoneDB/clusterDEGs_and_TFs/DEGs_withinEpithelial/TFactivities_and_expression_agreement.csv', stringsAsFactors = F, sep = '\\t')\n",
    "TF_activities_agreement$cl = gsub('epithelial_', '', TF_activities_agreement$cl)\n",
    "TF_activities_agreement$id = paste(TF_activities_agreement$cl, TF_activities_agreement$TF_activity_score)\n",
    "TF_activities_agreement$annot = '+'\n",
    "TF_activities_agreement$annot[ TF_activities_agreement$TF_expression == 'downregulated' ] = '-'\n",
    "head(TF_activities_agreement)"
   ]
  },
  {
   "cell_type": "markdown",
   "metadata": {},
   "source": [
    "## Transfer labels"
   ]
  },
  {
   "cell_type": "code",
   "execution_count": 44,
   "metadata": {},
   "outputs": [
    {
     "data": {
      "text/html": [
       "<table>\n",
       "<caption>A data.frame: 6 × 8</caption>\n",
       "<thead>\n",
       "\t<tr><th></th><th scope=col>cl_name</th><th scope=col>Regulon</th><th scope=col>NES</th><th scope=col>p.value</th><th scope=col>FDR</th><th scope=col>Size</th><th scope=col>id</th><th scope=col>label</th></tr>\n",
       "\t<tr><th></th><th scope=col>&lt;chr&gt;</th><th scope=col>&lt;chr&gt;</th><th scope=col>&lt;dbl&gt;</th><th scope=col>&lt;dbl&gt;</th><th scope=col>&lt;dbl&gt;</th><th scope=col>&lt;int&gt;</th><th scope=col>&lt;chr&gt;</th><th scope=col>&lt;chr&gt;</th></tr>\n",
       "</thead>\n",
       "<tbody>\n",
       "\t<tr><th scope=row>2</th><td>cl_ciliated_DEGs     </td><td>ZNF19_E </td><td>15.33777</td><td>4.276324e-53</td><td>9.856927e-51</td><td>175</td><td>cl_ciliated_DEGs ZNF19_E      </td><td>+</td></tr>\n",
       "\t<tr><th scope=row>3</th><td>cl_glandular_DEGs    </td><td>CSRNP1_E</td><td>15.06643</td><td>2.692739e-51</td><td>8.275685e-50</td><td>153</td><td>cl_glandular_DEGs CSRNP1_E    </td><td>+</td></tr>\n",
       "\t<tr><th scope=row>5</th><td>cl_ciliated_DEGs     </td><td>FOXJ1_E </td><td>14.66518</td><td>1.077282e-48</td><td>2.128401e-46</td><td>150</td><td>cl_ciliated_DEGs FOXJ1_E      </td><td>+</td></tr>\n",
       "\t<tr><th scope=row>7</th><td>cl_proliferative_DEGs</td><td>ZNF749_E</td><td>12.58085</td><td>2.691199e-36</td><td>3.917819e-35</td><td>194</td><td>cl_proliferative_DEGs ZNF749_E</td><td> </td></tr>\n",
       "\t<tr><th scope=row>8</th><td>cl_WIF1_2_DEGs       </td><td>NFKB1_AA</td><td>11.17350</td><td>5.496902e-29</td><td>1.652656e-27</td><td> 92</td><td>cl_WIF1_2_DEGs NFKB1_AA       </td><td>+</td></tr>\n",
       "\t<tr><th scope=row>9</th><td>cl_WIF1_2_DEGs       </td><td>CSRNP1_E</td><td>10.85243</td><td>1.941926e-27</td><td>5.164775e-26</td><td>153</td><td>cl_WIF1_2_DEGs CSRNP1_E       </td><td>+</td></tr>\n",
       "</tbody>\n",
       "</table>\n"
      ],
      "text/latex": [
       "A data.frame: 6 × 8\n",
       "\\begin{tabular}{r|llllllll}\n",
       "  & cl\\_name & Regulon & NES & p.value & FDR & Size & id & label\\\\\n",
       "  & <chr> & <chr> & <dbl> & <dbl> & <dbl> & <int> & <chr> & <chr>\\\\\n",
       "\\hline\n",
       "\t2 & cl\\_ciliated\\_DEGs      & ZNF19\\_E  & 15.33777 & 4.276324e-53 & 9.856927e-51 & 175 & cl\\_ciliated\\_DEGs ZNF19\\_E       & +\\\\\n",
       "\t3 & cl\\_glandular\\_DEGs     & CSRNP1\\_E & 15.06643 & 2.692739e-51 & 8.275685e-50 & 153 & cl\\_glandular\\_DEGs CSRNP1\\_E     & +\\\\\n",
       "\t5 & cl\\_ciliated\\_DEGs      & FOXJ1\\_E  & 14.66518 & 1.077282e-48 & 2.128401e-46 & 150 & cl\\_ciliated\\_DEGs FOXJ1\\_E       & +\\\\\n",
       "\t7 & cl\\_proliferative\\_DEGs & ZNF749\\_E & 12.58085 & 2.691199e-36 & 3.917819e-35 & 194 & cl\\_proliferative\\_DEGs ZNF749\\_E &  \\\\\n",
       "\t8 & cl\\_WIF1\\_2\\_DEGs        & NFKB1\\_AA & 11.17350 & 5.496902e-29 & 1.652656e-27 &  92 & cl\\_WIF1\\_2\\_DEGs NFKB1\\_AA        & +\\\\\n",
       "\t9 & cl\\_WIF1\\_2\\_DEGs        & CSRNP1\\_E & 10.85243 & 1.941926e-27 & 5.164775e-26 & 153 & cl\\_WIF1\\_2\\_DEGs CSRNP1\\_E        & +\\\\\n",
       "\\end{tabular}\n"
      ],
      "text/markdown": [
       "\n",
       "A data.frame: 6 × 8\n",
       "\n",
       "| <!--/--> | cl_name &lt;chr&gt; | Regulon &lt;chr&gt; | NES &lt;dbl&gt; | p.value &lt;dbl&gt; | FDR &lt;dbl&gt; | Size &lt;int&gt; | id &lt;chr&gt; | label &lt;chr&gt; |\n",
       "|---|---|---|---|---|---|---|---|---|\n",
       "| 2 | cl_ciliated_DEGs      | ZNF19_E  | 15.33777 | 4.276324e-53 | 9.856927e-51 | 175 | cl_ciliated_DEGs ZNF19_E       | + |\n",
       "| 3 | cl_glandular_DEGs     | CSRNP1_E | 15.06643 | 2.692739e-51 | 8.275685e-50 | 153 | cl_glandular_DEGs CSRNP1_E     | + |\n",
       "| 5 | cl_ciliated_DEGs      | FOXJ1_E  | 14.66518 | 1.077282e-48 | 2.128401e-46 | 150 | cl_ciliated_DEGs FOXJ1_E       | + |\n",
       "| 7 | cl_proliferative_DEGs | ZNF749_E | 12.58085 | 2.691199e-36 | 3.917819e-35 | 194 | cl_proliferative_DEGs ZNF749_E | <!----> |\n",
       "| 8 | cl_WIF1_2_DEGs        | NFKB1_AA | 11.17350 | 5.496902e-29 | 1.652656e-27 |  92 | cl_WIF1_2_DEGs NFKB1_AA        | + |\n",
       "| 9 | cl_WIF1_2_DEGs        | CSRNP1_E | 10.85243 | 1.941926e-27 | 5.164775e-26 | 153 | cl_WIF1_2_DEGs CSRNP1_E        | + |\n",
       "\n"
      ],
      "text/plain": [
       "  cl_name               Regulon  NES      p.value      FDR          Size\n",
       "2 cl_ciliated_DEGs      ZNF19_E  15.33777 4.276324e-53 9.856927e-51 175 \n",
       "3 cl_glandular_DEGs     CSRNP1_E 15.06643 2.692739e-51 8.275685e-50 153 \n",
       "5 cl_ciliated_DEGs      FOXJ1_E  14.66518 1.077282e-48 2.128401e-46 150 \n",
       "7 cl_proliferative_DEGs ZNF749_E 12.58085 2.691199e-36 3.917819e-35 194 \n",
       "8 cl_WIF1_2_DEGs        NFKB1_AA 11.17350 5.496902e-29 1.652656e-27  92 \n",
       "9 cl_WIF1_2_DEGs        CSRNP1_E 10.85243 1.941926e-27 5.164775e-26 153 \n",
       "  id                             label\n",
       "2 cl_ciliated_DEGs ZNF19_E       +    \n",
       "3 cl_glandular_DEGs CSRNP1_E     +    \n",
       "5 cl_ciliated_DEGs FOXJ1_E       +    \n",
       "7 cl_proliferative_DEGs ZNF749_E      \n",
       "8 cl_WIF1_2_DEGs NFKB1_AA        +    \n",
       "9 cl_WIF1_2_DEGs CSRNP1_E        +    "
      ]
     },
     "metadata": {},
     "output_type": "display_data"
    }
   ],
   "source": [
    "TF_activities$label = TF_activities_agreement$annot[ match(TF_activities$id, TF_activities_agreement$id) ]\n",
    "TF_activities$label[ is.na(TF_activities$label) ] = ''\n",
    "head(TF_activities)"
   ]
  },
  {
   "cell_type": "markdown",
   "metadata": {},
   "source": [
    "## Plot heatmap - all TFs"
   ]
  },
  {
   "cell_type": "code",
   "execution_count": 45,
   "metadata": {},
   "outputs": [],
   "source": [
    "# exclude scanpy\n",
    "TF_activities = TF_activities[ grep('scanpy', TF_activities$cl_name, invert = T) ,]\n",
    "# build matrix of TF activity scores to plot\n",
    "TF_activities$value = TF_activities$NES\n",
    "x = acast(TF_activities, Regulon~cl_name, fill = 0)\n",
    "# build matrix labels -  aka DE sign - to overlay with the TF activities\n",
    "TF_activities$value = TF_activities$label\n",
    "x_label = acast(TF_activities, Regulon~cl_name, fill = '')"
   ]
  },
  {
   "cell_type": "code",
   "execution_count": 46,
   "metadata": {},
   "outputs": [],
   "source": [
    "# actually plot the heatmap\n",
    "pheatmap(x, \n",
    "         display_numbers = x_label, fontsize_number=10,\n",
    "         cellheight = 10, cellwidth = 10, \n",
    "         filename = 'data/cellphoneDB/clusterDEGs_and_TFs/DEGs_withinEpithelial/epithelial_TFs_heatmap.pdf')"
   ]
  },
  {
   "cell_type": "markdown",
   "metadata": {},
   "source": [
    "## Filter TFs in Notch and Wnt signalling"
   ]
  },
  {
   "cell_type": "code",
   "execution_count": 47,
   "metadata": {},
   "outputs": [],
   "source": [
    "Wnt = read.csv('figures_primaryEpithelial_clean/cluster_markers/TF_priors/Wnt_list', stringsAsFactors = F, sep = '\\t')\n",
    "Wnt$gene_symbol = sapply(strsplit(Wnt$Gene.names, ' '), head, 1)\n",
    "\n",
    "Notch = read.csv('figures_primaryEpithelial_clean/cluster_markers/TF_priors/Notch_list', stringsAsFactors = F, sep = '\\t')\n",
    "Notch$gene_symbol = sapply(strsplit(Notch$Gene.names, ' '), head, 1)"
   ]
  },
  {
   "cell_type": "code",
   "execution_count": 48,
   "metadata": {},
   "outputs": [],
   "source": [
    "TFs_in_x = sapply(strsplit(rownames(x), '_'), head, 1)\n",
    "is_Wnt = TFs_in_x %in% Wnt$gene_symbol\n",
    "is_Notch = TFs_in_x %in% Notch$gene_symbol"
   ]
  },
  {
   "cell_type": "code",
   "execution_count": 49,
   "metadata": {},
   "outputs": [
    {
     "data": {
      "text/html": [
       "TRUE"
      ],
      "text/latex": [
       "TRUE"
      ],
      "text/markdown": [
       "TRUE"
      ],
      "text/plain": [
       "[1] TRUE"
      ]
     },
     "metadata": {},
     "output_type": "display_data"
    },
    {
     "data": {
      "text/html": [
       "TRUE"
      ],
      "text/latex": [
       "TRUE"
      ],
      "text/markdown": [
       "TRUE"
      ],
      "text/plain": [
       "[1] TRUE"
      ]
     },
     "metadata": {},
     "output_type": "display_data"
    }
   ],
   "source": [
    "any(is_Notch)\n",
    "any(is_Wnt)"
   ]
  },
  {
   "cell_type": "code",
   "execution_count": 50,
   "metadata": {},
   "outputs": [],
   "source": [
    "# actually plot the heatmap\n",
    "pheatmap(x[is_Wnt, ], \n",
    "         display_numbers = x_label[is_Wnt, ], fontsize_number=10,\n",
    "         cellheight = 10, cellwidth = 10, \n",
    "         filename = 'data/cellphoneDB/clusterDEGs_and_TFs/DEGs_withinEpithelial/epithelial_TFs_heatmap_Wnt.pdf')\n",
    "\n",
    "# actually plot the heatmap\n",
    "pheatmap(x[is_Notch, ], \n",
    "         display_numbers = x_label[is_Notch, ], fontsize_number=10,\n",
    "         cellheight = 10, cellwidth = 10, \n",
    "         filename = 'data/cellphoneDB/clusterDEGs_and_TFs/DEGs_withinEpithelial/epithelial_TFs_heatmap_Notch.pdf')"
   ]
  },
  {
   "cell_type": "markdown",
   "metadata": {},
   "source": [
    "# Plot top 10 active TFs"
   ]
  },
  {
   "cell_type": "code",
   "execution_count": 51,
   "metadata": {},
   "outputs": [
    {
     "data": {
      "text/html": [
       "<table>\n",
       "<caption>A data.frame: 6 × 10</caption>\n",
       "<thead>\n",
       "\t<tr><th></th><th scope=col>cl_name</th><th scope=col>Regulon</th><th scope=col>NES</th><th scope=col>p.value</th><th scope=col>FDR</th><th scope=col>Size</th><th scope=col>id</th><th scope=col>label</th><th scope=col>value</th><th scope=col>rank</th></tr>\n",
       "\t<tr><th></th><th scope=col>&lt;chr&gt;</th><th scope=col>&lt;chr&gt;</th><th scope=col>&lt;dbl&gt;</th><th scope=col>&lt;dbl&gt;</th><th scope=col>&lt;dbl&gt;</th><th scope=col>&lt;int&gt;</th><th scope=col>&lt;chr&gt;</th><th scope=col>&lt;chr&gt;</th><th scope=col>&lt;chr&gt;</th><th scope=col>&lt;int&gt;</th></tr>\n",
       "</thead>\n",
       "<tbody>\n",
       "\t<tr><th scope=row>1</th><td>cl_ciliated_DEGs</td><td>ZNF19_E </td><td>15.337770</td><td>4.276324e-53</td><td>9.856927e-51</td><td>175</td><td>cl_ciliated_DEGs ZNF19_E </td><td>+</td><td>+</td><td>1</td></tr>\n",
       "\t<tr><th scope=row>2</th><td>cl_ciliated_DEGs</td><td>FOXJ1_E </td><td>14.665182</td><td>1.077282e-48</td><td>2.128401e-46</td><td>150</td><td>cl_ciliated_DEGs FOXJ1_E </td><td>+</td><td>+</td><td>2</td></tr>\n",
       "\t<tr><th scope=row>3</th><td>cl_ciliated_DEGs</td><td>ZSCAN1_E</td><td> 8.306602</td><td>9.848191e-17</td><td>2.724010e-15</td><td>119</td><td>cl_ciliated_DEGs ZSCAN1_E</td><td>+</td><td>+</td><td>3</td></tr>\n",
       "\t<tr><th scope=row>4</th><td>cl_ciliated_DEGs</td><td>ZNF311_E</td><td> 7.652582</td><td>1.969831e-14</td><td>4.256682e-13</td><td>195</td><td>cl_ciliated_DEGs ZNF311_E</td><td>+</td><td>+</td><td>4</td></tr>\n",
       "\t<tr><th scope=row>5</th><td>cl_ciliated_DEGs</td><td>ZNF610_E</td><td> 7.256654</td><td>3.967829e-13</td><td>7.035266e-12</td><td>136</td><td>cl_ciliated_DEGs ZNF610_E</td><td>+</td><td>+</td><td>5</td></tr>\n",
       "\t<tr><th scope=row>6</th><td>cl_ciliated_DEGs</td><td>ZNF713_E</td><td> 6.733032</td><td>1.661630e-11</td><td>2.298035e-10</td><td> 84</td><td>cl_ciliated_DEGs ZNF713_E</td><td>+</td><td>+</td><td>6</td></tr>\n",
       "</tbody>\n",
       "</table>\n"
      ],
      "text/latex": [
       "A data.frame: 6 × 10\n",
       "\\begin{tabular}{r|llllllllll}\n",
       "  & cl\\_name & Regulon & NES & p.value & FDR & Size & id & label & value & rank\\\\\n",
       "  & <chr> & <chr> & <dbl> & <dbl> & <dbl> & <int> & <chr> & <chr> & <chr> & <int>\\\\\n",
       "\\hline\n",
       "\t1 & cl\\_ciliated\\_DEGs & ZNF19\\_E  & 15.337770 & 4.276324e-53 & 9.856927e-51 & 175 & cl\\_ciliated\\_DEGs ZNF19\\_E  & + & + & 1\\\\\n",
       "\t2 & cl\\_ciliated\\_DEGs & FOXJ1\\_E  & 14.665182 & 1.077282e-48 & 2.128401e-46 & 150 & cl\\_ciliated\\_DEGs FOXJ1\\_E  & + & + & 2\\\\\n",
       "\t3 & cl\\_ciliated\\_DEGs & ZSCAN1\\_E &  8.306602 & 9.848191e-17 & 2.724010e-15 & 119 & cl\\_ciliated\\_DEGs ZSCAN1\\_E & + & + & 3\\\\\n",
       "\t4 & cl\\_ciliated\\_DEGs & ZNF311\\_E &  7.652582 & 1.969831e-14 & 4.256682e-13 & 195 & cl\\_ciliated\\_DEGs ZNF311\\_E & + & + & 4\\\\\n",
       "\t5 & cl\\_ciliated\\_DEGs & ZNF610\\_E &  7.256654 & 3.967829e-13 & 7.035266e-12 & 136 & cl\\_ciliated\\_DEGs ZNF610\\_E & + & + & 5\\\\\n",
       "\t6 & cl\\_ciliated\\_DEGs & ZNF713\\_E &  6.733032 & 1.661630e-11 & 2.298035e-10 &  84 & cl\\_ciliated\\_DEGs ZNF713\\_E & + & + & 6\\\\\n",
       "\\end{tabular}\n"
      ],
      "text/markdown": [
       "\n",
       "A data.frame: 6 × 10\n",
       "\n",
       "| <!--/--> | cl_name &lt;chr&gt; | Regulon &lt;chr&gt; | NES &lt;dbl&gt; | p.value &lt;dbl&gt; | FDR &lt;dbl&gt; | Size &lt;int&gt; | id &lt;chr&gt; | label &lt;chr&gt; | value &lt;chr&gt; | rank &lt;int&gt; |\n",
       "|---|---|---|---|---|---|---|---|---|---|---|\n",
       "| 1 | cl_ciliated_DEGs | ZNF19_E  | 15.337770 | 4.276324e-53 | 9.856927e-51 | 175 | cl_ciliated_DEGs ZNF19_E  | + | + | 1 |\n",
       "| 2 | cl_ciliated_DEGs | FOXJ1_E  | 14.665182 | 1.077282e-48 | 2.128401e-46 | 150 | cl_ciliated_DEGs FOXJ1_E  | + | + | 2 |\n",
       "| 3 | cl_ciliated_DEGs | ZSCAN1_E |  8.306602 | 9.848191e-17 | 2.724010e-15 | 119 | cl_ciliated_DEGs ZSCAN1_E | + | + | 3 |\n",
       "| 4 | cl_ciliated_DEGs | ZNF311_E |  7.652582 | 1.969831e-14 | 4.256682e-13 | 195 | cl_ciliated_DEGs ZNF311_E | + | + | 4 |\n",
       "| 5 | cl_ciliated_DEGs | ZNF610_E |  7.256654 | 3.967829e-13 | 7.035266e-12 | 136 | cl_ciliated_DEGs ZNF610_E | + | + | 5 |\n",
       "| 6 | cl_ciliated_DEGs | ZNF713_E |  6.733032 | 1.661630e-11 | 2.298035e-10 |  84 | cl_ciliated_DEGs ZNF713_E | + | + | 6 |\n",
       "\n"
      ],
      "text/plain": [
       "  cl_name          Regulon  NES       p.value      FDR          Size\n",
       "1 cl_ciliated_DEGs ZNF19_E  15.337770 4.276324e-53 9.856927e-51 175 \n",
       "2 cl_ciliated_DEGs FOXJ1_E  14.665182 1.077282e-48 2.128401e-46 150 \n",
       "3 cl_ciliated_DEGs ZSCAN1_E  8.306602 9.848191e-17 2.724010e-15 119 \n",
       "4 cl_ciliated_DEGs ZNF311_E  7.652582 1.969831e-14 4.256682e-13 195 \n",
       "5 cl_ciliated_DEGs ZNF610_E  7.256654 3.967829e-13 7.035266e-12 136 \n",
       "6 cl_ciliated_DEGs ZNF713_E  6.733032 1.661630e-11 2.298035e-10  84 \n",
       "  id                        label value rank\n",
       "1 cl_ciliated_DEGs ZNF19_E  +     +     1   \n",
       "2 cl_ciliated_DEGs FOXJ1_E  +     +     2   \n",
       "3 cl_ciliated_DEGs ZSCAN1_E +     +     3   \n",
       "4 cl_ciliated_DEGs ZNF311_E +     +     4   \n",
       "5 cl_ciliated_DEGs ZNF610_E +     +     5   \n",
       "6 cl_ciliated_DEGs ZNF713_E +     +     6   "
      ]
     },
     "metadata": {},
     "output_type": "display_data"
    },
    {
     "data": {
      "text/html": [
       "<style>\n",
       ".list-inline {list-style: none; margin:0; padding: 0}\n",
       ".list-inline>li {display: inline-block}\n",
       ".list-inline>li:not(:last-child)::after {content: \"\\00b7\"; padding: 0 .5ex}\n",
       "</style>\n",
       "<ol class=list-inline><li>'cl_ciliated_DEGs'</li><li>'cl_glandular_DEGs'</li><li>'cl_LGR5_DEGs'</li><li>'cl_LYPD1_DEGs'</li><li>'cl_proliferative_DEGs'</li><li>'cl_WIF1_1_DEGs'</li><li>'cl_WIF1_2_DEGs'</li></ol>\n"
      ],
      "text/latex": [
       "\\begin{enumerate*}\n",
       "\\item 'cl\\_ciliated\\_DEGs'\n",
       "\\item 'cl\\_glandular\\_DEGs'\n",
       "\\item 'cl\\_LGR5\\_DEGs'\n",
       "\\item 'cl\\_LYPD1\\_DEGs'\n",
       "\\item 'cl\\_proliferative\\_DEGs'\n",
       "\\item 'cl\\_WIF1\\_1\\_DEGs'\n",
       "\\item 'cl\\_WIF1\\_2\\_DEGs'\n",
       "\\end{enumerate*}\n"
      ],
      "text/markdown": [
       "1. 'cl_ciliated_DEGs'\n",
       "2. 'cl_glandular_DEGs'\n",
       "3. 'cl_LGR5_DEGs'\n",
       "4. 'cl_LYPD1_DEGs'\n",
       "5. 'cl_proliferative_DEGs'\n",
       "6. 'cl_WIF1_1_DEGs'\n",
       "7. 'cl_WIF1_2_DEGs'\n",
       "\n",
       "\n"
      ],
      "text/plain": [
       "[1] \"cl_ciliated_DEGs\"      \"cl_glandular_DEGs\"     \"cl_LGR5_DEGs\"         \n",
       "[4] \"cl_LYPD1_DEGs\"         \"cl_proliferative_DEGs\" \"cl_WIF1_1_DEGs\"       \n",
       "[7] \"cl_WIF1_2_DEGs\"       "
      ]
     },
     "metadata": {},
     "output_type": "display_data"
    }
   ],
   "source": [
    "# Rank TFs according to their activity\n",
    "TF_activities = TF_activities[order(TF_activities$NES, decreasing = T), ]\n",
    "TF_activities = ddply(TF_activities, 'cl_name', function(df) data.frame(df, rank = 1:nrow(df)) )\n",
    "head(TF_activities)\n",
    "unique(TF_activities$cl_name)"
   ]
  },
  {
   "cell_type": "code",
   "execution_count": 52,
   "metadata": {},
   "outputs": [],
   "source": [
    "# order clusters\n",
    "TF_activities = rbind(subset(TF_activities, cl_name %in% 'cl_proliferative_DEGs'),\n",
    "                     subset(TF_activities, cl_name %in% 'cl_LGR5_DEGs'),\n",
    "                     subset(TF_activities, cl_name %in% 'cl_glandular_DEGs'),\n",
    "                     subset(TF_activities, cl_name %in% 'cl_ciliated_DEGs'),\n",
    "                     subset(TF_activities, cl_name %in% 'cl_WIF1_1_DEGs'),\n",
    "                     subset(TF_activities, cl_name %in% 'cl_WIF1_2_DEGs'),\n",
    "                     subset(TF_activities, cl_name %in% 'cl_LYPD1_DEGs'))\n",
    "\n",
    "# # order clusters\n",
    "# TF_activities = rbind(subset(TF_activities, cl_name %in% 'cl_proliferative G2-S_DEGs'),\n",
    "#                      subset(TF_activities, cl_name %in% 'cl_proliferative I_DEGs'),\n",
    "#                      subset(TF_activities, cl_name %in% 'cl_proliferative II_DEGs'),\n",
    "#                      subset(TF_activities, cl_name %in% 'cl_progenitor_LGR5-WNT7A_DEGs'),\n",
    "#                      subset(TF_activities, cl_name %in% 'cl_progenitor_KRT5_DEGs'),\n",
    "#                      subset(TF_activities, cl_name %in% 'cl_pre-FHL2_DEGs'),\n",
    "#                      subset(TF_activities, cl_name %in% 'cl_FHL2_DEGs'),\n",
    "#                      subset(TF_activities, cl_name %in% 'cl_pre-secretroy_PAEP_DEGs'),\n",
    "#                      subset(TF_activities, cl_name %in% 'cl_basal_LHX1_DEGs'))"
   ]
  },
  {
   "cell_type": "code",
   "execution_count": 53,
   "metadata": {},
   "outputs": [
    {
     "data": {
      "text/html": [
       "<table>\n",
       "<caption>A data.frame: 6 × 10</caption>\n",
       "<thead>\n",
       "\t<tr><th></th><th scope=col>cl_name</th><th scope=col>Regulon</th><th scope=col>NES</th><th scope=col>p.value</th><th scope=col>FDR</th><th scope=col>Size</th><th scope=col>id</th><th scope=col>label</th><th scope=col>value</th><th scope=col>rank</th></tr>\n",
       "\t<tr><th></th><th scope=col>&lt;chr&gt;</th><th scope=col>&lt;chr&gt;</th><th scope=col>&lt;dbl&gt;</th><th scope=col>&lt;dbl&gt;</th><th scope=col>&lt;dbl&gt;</th><th scope=col>&lt;int&gt;</th><th scope=col>&lt;chr&gt;</th><th scope=col>&lt;chr&gt;</th><th scope=col>&lt;chr&gt;</th><th scope=col>&lt;int&gt;</th></tr>\n",
       "</thead>\n",
       "<tbody>\n",
       "\t<tr><th scope=row>904</th><td>cl_proliferative_DEGs</td><td>ZNF749_E </td><td>12.580850</td><td>2.691199e-36</td><td>3.917819e-35</td><td>194</td><td>cl_proliferative_DEGs ZNF749_E </td><td> </td><td> </td><td>1</td></tr>\n",
       "\t<tr><th scope=row>905</th><td>cl_proliferative_DEGs</td><td>HES6_E   </td><td> 9.422683</td><td>4.397040e-21</td><td>3.234631e-20</td><td>185</td><td>cl_proliferative_DEGs HES6_E   </td><td>-</td><td>-</td><td>2</td></tr>\n",
       "\t<tr><th scope=row>906</th><td>cl_proliferative_DEGs</td><td>MYC_AA   </td><td> 9.351921</td><td>8.607040e-21</td><td>6.199759e-20</td><td>144</td><td>cl_proliferative_DEGs MYC_AA   </td><td>+</td><td>+</td><td>3</td></tr>\n",
       "\t<tr><th scope=row>907</th><td>cl_proliferative_DEGs</td><td>KDM5A_D  </td><td> 9.011962</td><td>2.024027e-19</td><td>1.358849e-18</td><td>178</td><td>cl_proliferative_DEGs KDM5A_D  </td><td>+</td><td>+</td><td>4</td></tr>\n",
       "\t<tr><th scope=row>908</th><td>cl_proliferative_DEGs</td><td>ZFP69_E  </td><td> 8.646868</td><td>5.293227e-18</td><td>3.239174e-17</td><td>161</td><td>cl_proliferative_DEGs ZFP69_E  </td><td>+</td><td>+</td><td>5</td></tr>\n",
       "\t<tr><th scope=row>909</th><td>cl_proliferative_DEGs</td><td>ZKSCAN2_E</td><td> 8.329324</td><td>8.130544e-17</td><td>4.570952e-16</td><td>190</td><td>cl_proliferative_DEGs ZKSCAN2_E</td><td>+</td><td>+</td><td>6</td></tr>\n",
       "</tbody>\n",
       "</table>\n"
      ],
      "text/latex": [
       "A data.frame: 6 × 10\n",
       "\\begin{tabular}{r|llllllllll}\n",
       "  & cl\\_name & Regulon & NES & p.value & FDR & Size & id & label & value & rank\\\\\n",
       "  & <chr> & <chr> & <dbl> & <dbl> & <dbl> & <int> & <chr> & <chr> & <chr> & <int>\\\\\n",
       "\\hline\n",
       "\t904 & cl\\_proliferative\\_DEGs & ZNF749\\_E  & 12.580850 & 2.691199e-36 & 3.917819e-35 & 194 & cl\\_proliferative\\_DEGs ZNF749\\_E  &   &   & 1\\\\\n",
       "\t905 & cl\\_proliferative\\_DEGs & HES6\\_E    &  9.422683 & 4.397040e-21 & 3.234631e-20 & 185 & cl\\_proliferative\\_DEGs HES6\\_E    & - & - & 2\\\\\n",
       "\t906 & cl\\_proliferative\\_DEGs & MYC\\_AA    &  9.351921 & 8.607040e-21 & 6.199759e-20 & 144 & cl\\_proliferative\\_DEGs MYC\\_AA    & + & + & 3\\\\\n",
       "\t907 & cl\\_proliferative\\_DEGs & KDM5A\\_D   &  9.011962 & 2.024027e-19 & 1.358849e-18 & 178 & cl\\_proliferative\\_DEGs KDM5A\\_D   & + & + & 4\\\\\n",
       "\t908 & cl\\_proliferative\\_DEGs & ZFP69\\_E   &  8.646868 & 5.293227e-18 & 3.239174e-17 & 161 & cl\\_proliferative\\_DEGs ZFP69\\_E   & + & + & 5\\\\\n",
       "\t909 & cl\\_proliferative\\_DEGs & ZKSCAN2\\_E &  8.329324 & 8.130544e-17 & 4.570952e-16 & 190 & cl\\_proliferative\\_DEGs ZKSCAN2\\_E & + & + & 6\\\\\n",
       "\\end{tabular}\n"
      ],
      "text/markdown": [
       "\n",
       "A data.frame: 6 × 10\n",
       "\n",
       "| <!--/--> | cl_name &lt;chr&gt; | Regulon &lt;chr&gt; | NES &lt;dbl&gt; | p.value &lt;dbl&gt; | FDR &lt;dbl&gt; | Size &lt;int&gt; | id &lt;chr&gt; | label &lt;chr&gt; | value &lt;chr&gt; | rank &lt;int&gt; |\n",
       "|---|---|---|---|---|---|---|---|---|---|---|\n",
       "| 904 | cl_proliferative_DEGs | ZNF749_E  | 12.580850 | 2.691199e-36 | 3.917819e-35 | 194 | cl_proliferative_DEGs ZNF749_E  | <!----> | <!----> | 1 |\n",
       "| 905 | cl_proliferative_DEGs | HES6_E    |  9.422683 | 4.397040e-21 | 3.234631e-20 | 185 | cl_proliferative_DEGs HES6_E    | - | - | 2 |\n",
       "| 906 | cl_proliferative_DEGs | MYC_AA    |  9.351921 | 8.607040e-21 | 6.199759e-20 | 144 | cl_proliferative_DEGs MYC_AA    | + | + | 3 |\n",
       "| 907 | cl_proliferative_DEGs | KDM5A_D   |  9.011962 | 2.024027e-19 | 1.358849e-18 | 178 | cl_proliferative_DEGs KDM5A_D   | + | + | 4 |\n",
       "| 908 | cl_proliferative_DEGs | ZFP69_E   |  8.646868 | 5.293227e-18 | 3.239174e-17 | 161 | cl_proliferative_DEGs ZFP69_E   | + | + | 5 |\n",
       "| 909 | cl_proliferative_DEGs | ZKSCAN2_E |  8.329324 | 8.130544e-17 | 4.570952e-16 | 190 | cl_proliferative_DEGs ZKSCAN2_E | + | + | 6 |\n",
       "\n"
      ],
      "text/plain": [
       "    cl_name               Regulon   NES       p.value      FDR          Size\n",
       "904 cl_proliferative_DEGs ZNF749_E  12.580850 2.691199e-36 3.917819e-35 194 \n",
       "905 cl_proliferative_DEGs HES6_E     9.422683 4.397040e-21 3.234631e-20 185 \n",
       "906 cl_proliferative_DEGs MYC_AA     9.351921 8.607040e-21 6.199759e-20 144 \n",
       "907 cl_proliferative_DEGs KDM5A_D    9.011962 2.024027e-19 1.358849e-18 178 \n",
       "908 cl_proliferative_DEGs ZFP69_E    8.646868 5.293227e-18 3.239174e-17 161 \n",
       "909 cl_proliferative_DEGs ZKSCAN2_E  8.329324 8.130544e-17 4.570952e-16 190 \n",
       "    id                              label value rank\n",
       "904 cl_proliferative_DEGs ZNF749_E              1   \n",
       "905 cl_proliferative_DEGs HES6_E    -     -     2   \n",
       "906 cl_proliferative_DEGs MYC_AA    +     +     3   \n",
       "907 cl_proliferative_DEGs KDM5A_D   +     +     4   \n",
       "908 cl_proliferative_DEGs ZFP69_E   +     +     5   \n",
       "909 cl_proliferative_DEGs ZKSCAN2_E +     +     6   "
      ]
     },
     "metadata": {},
     "output_type": "display_data"
    }
   ],
   "source": [
    "head(TF_activities)\n",
    "TFs = read.csv('data/scenic/huTF_census.txt', stringsAsFactors = F, header = F)$V1"
   ]
  },
  {
   "cell_type": "code",
   "execution_count": 54,
   "metadata": {},
   "outputs": [],
   "source": [
    "# Select top 10 ranked genes\n",
    "TF_activities$Gene = sapply(strsplit(TF_activities$Regulon, '_'), head, 1)\n",
    "top5 = subset(TF_activities, rank %in% 1:5 & NES > 0)$Gene"
   ]
  },
  {
   "cell_type": "code",
   "execution_count": 55,
   "metadata": {},
   "outputs": [
    {
     "data": {
      "text/html": [
       "<style>\n",
       ".list-inline {list-style: none; margin:0; padding: 0}\n",
       ".list-inline>li {display: inline-block}\n",
       ".list-inline>li:not(:last-child)::after {content: \"\\00b7\"; padding: 0 .5ex}\n",
       "</style>\n",
       "<ol class=list-inline><li>'cl_ciliated_DEGs'</li><li>'cl_glandular_DEGs'</li><li>'cl_LGR5_DEGs'</li><li>'cl_LYPD1_DEGs'</li><li>'cl_proliferative_DEGs'</li><li>'cl_WIF1_1_DEGs'</li><li>'cl_WIF1_2_DEGs'</li></ol>\n"
      ],
      "text/latex": [
       "\\begin{enumerate*}\n",
       "\\item 'cl\\_ciliated\\_DEGs'\n",
       "\\item 'cl\\_glandular\\_DEGs'\n",
       "\\item 'cl\\_LGR5\\_DEGs'\n",
       "\\item 'cl\\_LYPD1\\_DEGs'\n",
       "\\item 'cl\\_proliferative\\_DEGs'\n",
       "\\item 'cl\\_WIF1\\_1\\_DEGs'\n",
       "\\item 'cl\\_WIF1\\_2\\_DEGs'\n",
       "\\end{enumerate*}\n"
      ],
      "text/markdown": [
       "1. 'cl_ciliated_DEGs'\n",
       "2. 'cl_glandular_DEGs'\n",
       "3. 'cl_LGR5_DEGs'\n",
       "4. 'cl_LYPD1_DEGs'\n",
       "5. 'cl_proliferative_DEGs'\n",
       "6. 'cl_WIF1_1_DEGs'\n",
       "7. 'cl_WIF1_2_DEGs'\n",
       "\n",
       "\n"
      ],
      "text/plain": [
       "[1] \"cl_ciliated_DEGs\"      \"cl_glandular_DEGs\"     \"cl_LGR5_DEGs\"         \n",
       "[4] \"cl_LYPD1_DEGs\"         \"cl_proliferative_DEGs\" \"cl_WIF1_1_DEGs\"       \n",
       "[7] \"cl_WIF1_2_DEGs\"       "
      ]
     },
     "metadata": {},
     "output_type": "display_data"
    }
   ],
   "source": [
    "# build matrix of TF activity scores to plot\n",
    "TF_activities$value = TF_activities$NES\n",
    "x = acast(subset(TF_activities, Gene %in% top5), Gene~cl_name, fill = 0)\n",
    "colnames(x)"
   ]
  },
  {
   "cell_type": "code",
   "execution_count": 56,
   "metadata": {},
   "outputs": [],
   "source": [
    "x = x[, c(5, 3, 2, 1, 6, 7, 4) ]\n",
    "colnames(x) = c('prol', 'LGR5', 'glandular', 'ciliated', 'WIF1_1', 'WIF1_2', 'LYPD1')\n",
    "pheatmap(t(x[ top5, ]), cellheight = 10, cellwidth = 10, cluster_rows = F, cluster_cols = F, \n",
    "#          color = colorRampPalette(c(\"navy\", \"white\", \"red\"))(50),\n",
    "        filename = 'data/cellphoneDB/clusterDEGs_and_TFs/DEGs_withinEpithelial/epithelial_top5_TFs_activities.pdf')\n"
   ]
  },
  {
   "cell_type": "markdown",
   "metadata": {},
   "source": [
    "# Plot top 10 active TFs - matching expression"
   ]
  },
  {
   "cell_type": "code",
   "execution_count": 57,
   "metadata": {},
   "outputs": [],
   "source": [
    "default_TF_activities = TF_activities"
   ]
  },
  {
   "cell_type": "code",
   "execution_count": 58,
   "metadata": {},
   "outputs": [],
   "source": [
    "TF_activities = subset(TF_activities, label != '')"
   ]
  },
  {
   "cell_type": "code",
   "execution_count": 59,
   "metadata": {},
   "outputs": [
    {
     "data": {
      "text/html": [
       "<table>\n",
       "<caption>A data.frame: 6 × 11</caption>\n",
       "<thead>\n",
       "\t<tr><th></th><th scope=col>cl_name</th><th scope=col>Regulon</th><th scope=col>NES</th><th scope=col>p.value</th><th scope=col>FDR</th><th scope=col>Size</th><th scope=col>id</th><th scope=col>label</th><th scope=col>value</th><th scope=col>Gene</th><th scope=col>rank</th></tr>\n",
       "\t<tr><th></th><th scope=col>&lt;chr&gt;</th><th scope=col>&lt;chr&gt;</th><th scope=col>&lt;dbl&gt;</th><th scope=col>&lt;dbl&gt;</th><th scope=col>&lt;dbl&gt;</th><th scope=col>&lt;int&gt;</th><th scope=col>&lt;chr&gt;</th><th scope=col>&lt;chr&gt;</th><th scope=col>&lt;dbl&gt;</th><th scope=col>&lt;chr&gt;</th><th scope=col>&lt;int&gt;</th></tr>\n",
       "</thead>\n",
       "<tbody>\n",
       "\t<tr><th scope=row>1</th><td>cl_ciliated_DEGs</td><td>ZNF19_E </td><td>15.337770</td><td>4.276324e-53</td><td>9.856927e-51</td><td>175</td><td>cl_ciliated_DEGs ZNF19_E </td><td>+</td><td>15.337770</td><td>ZNF19 </td><td>1</td></tr>\n",
       "\t<tr><th scope=row>2</th><td>cl_ciliated_DEGs</td><td>FOXJ1_E </td><td>14.665182</td><td>1.077282e-48</td><td>2.128401e-46</td><td>150</td><td>cl_ciliated_DEGs FOXJ1_E </td><td>+</td><td>14.665182</td><td>FOXJ1 </td><td>2</td></tr>\n",
       "\t<tr><th scope=row>3</th><td>cl_ciliated_DEGs</td><td>ZSCAN1_E</td><td> 8.306602</td><td>9.848191e-17</td><td>2.724010e-15</td><td>119</td><td>cl_ciliated_DEGs ZSCAN1_E</td><td>+</td><td> 8.306602</td><td>ZSCAN1</td><td>3</td></tr>\n",
       "\t<tr><th scope=row>4</th><td>cl_ciliated_DEGs</td><td>ZNF311_E</td><td> 7.652582</td><td>1.969831e-14</td><td>4.256682e-13</td><td>195</td><td>cl_ciliated_DEGs ZNF311_E</td><td>+</td><td> 7.652582</td><td>ZNF311</td><td>4</td></tr>\n",
       "\t<tr><th scope=row>5</th><td>cl_ciliated_DEGs</td><td>ZNF610_E</td><td> 7.256654</td><td>3.967829e-13</td><td>7.035266e-12</td><td>136</td><td>cl_ciliated_DEGs ZNF610_E</td><td>+</td><td> 7.256654</td><td>ZNF610</td><td>5</td></tr>\n",
       "\t<tr><th scope=row>6</th><td>cl_ciliated_DEGs</td><td>ZNF713_E</td><td> 6.733032</td><td>1.661630e-11</td><td>2.298035e-10</td><td> 84</td><td>cl_ciliated_DEGs ZNF713_E</td><td>+</td><td> 6.733032</td><td>ZNF713</td><td>6</td></tr>\n",
       "</tbody>\n",
       "</table>\n"
      ],
      "text/latex": [
       "A data.frame: 6 × 11\n",
       "\\begin{tabular}{r|lllllllllll}\n",
       "  & cl\\_name & Regulon & NES & p.value & FDR & Size & id & label & value & Gene & rank\\\\\n",
       "  & <chr> & <chr> & <dbl> & <dbl> & <dbl> & <int> & <chr> & <chr> & <dbl> & <chr> & <int>\\\\\n",
       "\\hline\n",
       "\t1 & cl\\_ciliated\\_DEGs & ZNF19\\_E  & 15.337770 & 4.276324e-53 & 9.856927e-51 & 175 & cl\\_ciliated\\_DEGs ZNF19\\_E  & + & 15.337770 & ZNF19  & 1\\\\\n",
       "\t2 & cl\\_ciliated\\_DEGs & FOXJ1\\_E  & 14.665182 & 1.077282e-48 & 2.128401e-46 & 150 & cl\\_ciliated\\_DEGs FOXJ1\\_E  & + & 14.665182 & FOXJ1  & 2\\\\\n",
       "\t3 & cl\\_ciliated\\_DEGs & ZSCAN1\\_E &  8.306602 & 9.848191e-17 & 2.724010e-15 & 119 & cl\\_ciliated\\_DEGs ZSCAN1\\_E & + &  8.306602 & ZSCAN1 & 3\\\\\n",
       "\t4 & cl\\_ciliated\\_DEGs & ZNF311\\_E &  7.652582 & 1.969831e-14 & 4.256682e-13 & 195 & cl\\_ciliated\\_DEGs ZNF311\\_E & + &  7.652582 & ZNF311 & 4\\\\\n",
       "\t5 & cl\\_ciliated\\_DEGs & ZNF610\\_E &  7.256654 & 3.967829e-13 & 7.035266e-12 & 136 & cl\\_ciliated\\_DEGs ZNF610\\_E & + &  7.256654 & ZNF610 & 5\\\\\n",
       "\t6 & cl\\_ciliated\\_DEGs & ZNF713\\_E &  6.733032 & 1.661630e-11 & 2.298035e-10 &  84 & cl\\_ciliated\\_DEGs ZNF713\\_E & + &  6.733032 & ZNF713 & 6\\\\\n",
       "\\end{tabular}\n"
      ],
      "text/markdown": [
       "\n",
       "A data.frame: 6 × 11\n",
       "\n",
       "| <!--/--> | cl_name &lt;chr&gt; | Regulon &lt;chr&gt; | NES &lt;dbl&gt; | p.value &lt;dbl&gt; | FDR &lt;dbl&gt; | Size &lt;int&gt; | id &lt;chr&gt; | label &lt;chr&gt; | value &lt;dbl&gt; | Gene &lt;chr&gt; | rank &lt;int&gt; |\n",
       "|---|---|---|---|---|---|---|---|---|---|---|---|\n",
       "| 1 | cl_ciliated_DEGs | ZNF19_E  | 15.337770 | 4.276324e-53 | 9.856927e-51 | 175 | cl_ciliated_DEGs ZNF19_E  | + | 15.337770 | ZNF19  | 1 |\n",
       "| 2 | cl_ciliated_DEGs | FOXJ1_E  | 14.665182 | 1.077282e-48 | 2.128401e-46 | 150 | cl_ciliated_DEGs FOXJ1_E  | + | 14.665182 | FOXJ1  | 2 |\n",
       "| 3 | cl_ciliated_DEGs | ZSCAN1_E |  8.306602 | 9.848191e-17 | 2.724010e-15 | 119 | cl_ciliated_DEGs ZSCAN1_E | + |  8.306602 | ZSCAN1 | 3 |\n",
       "| 4 | cl_ciliated_DEGs | ZNF311_E |  7.652582 | 1.969831e-14 | 4.256682e-13 | 195 | cl_ciliated_DEGs ZNF311_E | + |  7.652582 | ZNF311 | 4 |\n",
       "| 5 | cl_ciliated_DEGs | ZNF610_E |  7.256654 | 3.967829e-13 | 7.035266e-12 | 136 | cl_ciliated_DEGs ZNF610_E | + |  7.256654 | ZNF610 | 5 |\n",
       "| 6 | cl_ciliated_DEGs | ZNF713_E |  6.733032 | 1.661630e-11 | 2.298035e-10 |  84 | cl_ciliated_DEGs ZNF713_E | + |  6.733032 | ZNF713 | 6 |\n",
       "\n"
      ],
      "text/plain": [
       "  cl_name          Regulon  NES       p.value      FDR          Size\n",
       "1 cl_ciliated_DEGs ZNF19_E  15.337770 4.276324e-53 9.856927e-51 175 \n",
       "2 cl_ciliated_DEGs FOXJ1_E  14.665182 1.077282e-48 2.128401e-46 150 \n",
       "3 cl_ciliated_DEGs ZSCAN1_E  8.306602 9.848191e-17 2.724010e-15 119 \n",
       "4 cl_ciliated_DEGs ZNF311_E  7.652582 1.969831e-14 4.256682e-13 195 \n",
       "5 cl_ciliated_DEGs ZNF610_E  7.256654 3.967829e-13 7.035266e-12 136 \n",
       "6 cl_ciliated_DEGs ZNF713_E  6.733032 1.661630e-11 2.298035e-10  84 \n",
       "  id                        label value     Gene   rank\n",
       "1 cl_ciliated_DEGs ZNF19_E  +     15.337770 ZNF19  1   \n",
       "2 cl_ciliated_DEGs FOXJ1_E  +     14.665182 FOXJ1  2   \n",
       "3 cl_ciliated_DEGs ZSCAN1_E +      8.306602 ZSCAN1 3   \n",
       "4 cl_ciliated_DEGs ZNF311_E +      7.652582 ZNF311 4   \n",
       "5 cl_ciliated_DEGs ZNF610_E +      7.256654 ZNF610 5   \n",
       "6 cl_ciliated_DEGs ZNF713_E +      6.733032 ZNF713 6   "
      ]
     },
     "metadata": {},
     "output_type": "display_data"
    }
   ],
   "source": [
    "# Rank TFs according to their activity\n",
    "TF_activities = TF_activities[order(TF_activities$NES, decreasing = T), ]\n",
    "TF_activities$rank = NULL\n",
    "TF_activities = ddply(TF_activities, 'cl_name', function(df) data.frame(df, rank = 1:nrow(df)) )\n",
    "head(TF_activities)"
   ]
  },
  {
   "cell_type": "code",
   "execution_count": 60,
   "metadata": {},
   "outputs": [],
   "source": [
    "# order clusters\n",
    "TF_activities = rbind(subset(TF_activities, cl_name %in% 'cl_proliferative_DEGs'),\n",
    "                     subset(TF_activities, cl_name %in% 'cl_LGR5_DEGs'),\n",
    "                     subset(TF_activities, cl_name %in% 'cl_glandular_DEGs'),\n",
    "                     subset(TF_activities, cl_name %in% 'cl_ciliated_DEGs'),\n",
    "                     subset(TF_activities, cl_name %in% 'cl_WIF1_1_DEGs'),\n",
    "                     subset(TF_activities, cl_name %in% 'cl_WIF1_2_DEGs'),\n",
    "                     subset(TF_activities, cl_name %in% 'cl_LYPD1_DEGs'))"
   ]
  },
  {
   "cell_type": "code",
   "execution_count": 61,
   "metadata": {},
   "outputs": [],
   "source": [
    "# Select top 10 ranked genes\n",
    "TF_activities$Gene = sapply(strsplit(TF_activities$Regulon, '_'), head, 1)\n",
    "top5 = subset(TF_activities, rank %in% 1:5 & NES > 0)$Gene"
   ]
  },
  {
   "cell_type": "code",
   "execution_count": 62,
   "metadata": {},
   "outputs": [],
   "source": [
    "# build matrix of TF activity scores to plot\n",
    "TF_activities$value = TF_activities$NES\n",
    "x = acast(subset(TF_activities, Gene %in% top5), Gene~cl_name, fill = 0)"
   ]
  },
  {
   "cell_type": "code",
   "execution_count": 63,
   "metadata": {},
   "outputs": [],
   "source": [
    "x = x[, c(5, 3, 2, 1, 6, 7, 4) ]\n",
    "colnames(x) = c('prol', 'LGR5', 'glandular', 'ciliated', 'WIF1_1', 'WIF1_2', 'LYPD1')\n",
    "pheatmap(t(x[ top5, ]), cellheight = 10, cellwidth = 10, cluster_rows = F, cluster_cols = F, \n",
    "#          color = colorRampPalette(c(\"navy\", \"white\", \"red\"))(50),\n",
    "        filename = 'data/cellphoneDB/clusterDEGs_and_TFs/DEGs_withinEpithelial/epithelial_top5_TFs_activities_filtered_TFisDE.pdf')\n"
   ]
  },
  {
   "cell_type": "markdown",
   "metadata": {},
   "source": [
    "# Plot top 10 active TFs - curated TFs - confidence AA, A, B"
   ]
  },
  {
   "cell_type": "code",
   "execution_count": 64,
   "metadata": {},
   "outputs": [],
   "source": [
    "TF_activities = default_TF_activities[ grep('_E$', default_TF_activities$Regulon, invert = T) , ]\n",
    "TF_activities = TF_activities[ grep('_D$', TF_activities$Regulon, invert = T) , ]\n",
    "TF_activities = TF_activities[ grep('_C$', TF_activities$Regulon, invert = T) , ]"
   ]
  },
  {
   "cell_type": "code",
   "execution_count": 65,
   "metadata": {},
   "outputs": [
    {
     "data": {
      "text/html": [
       "<table>\n",
       "<caption>A data.frame: 6 × 11</caption>\n",
       "<thead>\n",
       "\t<tr><th></th><th scope=col>cl_name</th><th scope=col>Regulon</th><th scope=col>NES</th><th scope=col>p.value</th><th scope=col>FDR</th><th scope=col>Size</th><th scope=col>id</th><th scope=col>label</th><th scope=col>value</th><th scope=col>Gene</th><th scope=col>rank</th></tr>\n",
       "\t<tr><th></th><th scope=col>&lt;chr&gt;</th><th scope=col>&lt;chr&gt;</th><th scope=col>&lt;dbl&gt;</th><th scope=col>&lt;dbl&gt;</th><th scope=col>&lt;dbl&gt;</th><th scope=col>&lt;int&gt;</th><th scope=col>&lt;chr&gt;</th><th scope=col>&lt;chr&gt;</th><th scope=col>&lt;dbl&gt;</th><th scope=col>&lt;chr&gt;</th><th scope=col>&lt;int&gt;</th></tr>\n",
       "</thead>\n",
       "<tbody>\n",
       "\t<tr><th scope=row>1</th><td>cl_ciliated_DEGs</td><td>ZNF382_B</td><td>4.571761</td><td>4.836431e-06</td><td>2.933677e-05</td><td>10</td><td>cl_ciliated_DEGs ZNF382_B</td><td>+</td><td>4.571761</td><td>ZNF382</td><td>1</td></tr>\n",
       "\t<tr><th scope=row>2</th><td>cl_ciliated_DEGs</td><td>HIC1_B  </td><td>4.270365</td><td>1.951537e-05</td><td>1.051890e-04</td><td>10</td><td>cl_ciliated_DEGs HIC1_B  </td><td>+</td><td>4.270365</td><td>HIC1  </td><td>2</td></tr>\n",
       "\t<tr><th scope=row>3</th><td>cl_ciliated_DEGs</td><td>PITX1_B </td><td>3.905640</td><td>9.397618e-05</td><td>4.289408e-04</td><td>11</td><td>cl_ciliated_DEGs PITX1_B </td><td>+</td><td>3.905640</td><td>PITX1 </td><td>3</td></tr>\n",
       "\t<tr><th scope=row>4</th><td>cl_ciliated_DEGs</td><td>PPARD_A </td><td>3.009163</td><td>2.619684e-03</td><td>8.605754e-03</td><td>10</td><td>cl_ciliated_DEGs PPARD_A </td><td>-</td><td>3.009163</td><td>PPARD </td><td>4</td></tr>\n",
       "\t<tr><th scope=row>5</th><td>cl_ciliated_DEGs</td><td>TP63_B  </td><td>2.931932</td><td>3.368604e-03</td><td>1.073452e-02</td><td>20</td><td>cl_ciliated_DEGs TP63_B  </td><td> </td><td>2.931932</td><td>TP63  </td><td>5</td></tr>\n",
       "\t<tr><th scope=row>6</th><td>cl_ciliated_DEGs</td><td>NFE2L1_B</td><td>2.907068</td><td>3.648339e-03</td><td>1.149351e-02</td><td>25</td><td>cl_ciliated_DEGs NFE2L1_B</td><td>+</td><td>2.907068</td><td>NFE2L1</td><td>6</td></tr>\n",
       "</tbody>\n",
       "</table>\n"
      ],
      "text/latex": [
       "A data.frame: 6 × 11\n",
       "\\begin{tabular}{r|lllllllllll}\n",
       "  & cl\\_name & Regulon & NES & p.value & FDR & Size & id & label & value & Gene & rank\\\\\n",
       "  & <chr> & <chr> & <dbl> & <dbl> & <dbl> & <int> & <chr> & <chr> & <dbl> & <chr> & <int>\\\\\n",
       "\\hline\n",
       "\t1 & cl\\_ciliated\\_DEGs & ZNF382\\_B & 4.571761 & 4.836431e-06 & 2.933677e-05 & 10 & cl\\_ciliated\\_DEGs ZNF382\\_B & + & 4.571761 & ZNF382 & 1\\\\\n",
       "\t2 & cl\\_ciliated\\_DEGs & HIC1\\_B   & 4.270365 & 1.951537e-05 & 1.051890e-04 & 10 & cl\\_ciliated\\_DEGs HIC1\\_B   & + & 4.270365 & HIC1   & 2\\\\\n",
       "\t3 & cl\\_ciliated\\_DEGs & PITX1\\_B  & 3.905640 & 9.397618e-05 & 4.289408e-04 & 11 & cl\\_ciliated\\_DEGs PITX1\\_B  & + & 3.905640 & PITX1  & 3\\\\\n",
       "\t4 & cl\\_ciliated\\_DEGs & PPARD\\_A  & 3.009163 & 2.619684e-03 & 8.605754e-03 & 10 & cl\\_ciliated\\_DEGs PPARD\\_A  & - & 3.009163 & PPARD  & 4\\\\\n",
       "\t5 & cl\\_ciliated\\_DEGs & TP63\\_B   & 2.931932 & 3.368604e-03 & 1.073452e-02 & 20 & cl\\_ciliated\\_DEGs TP63\\_B   &   & 2.931932 & TP63   & 5\\\\\n",
       "\t6 & cl\\_ciliated\\_DEGs & NFE2L1\\_B & 2.907068 & 3.648339e-03 & 1.149351e-02 & 25 & cl\\_ciliated\\_DEGs NFE2L1\\_B & + & 2.907068 & NFE2L1 & 6\\\\\n",
       "\\end{tabular}\n"
      ],
      "text/markdown": [
       "\n",
       "A data.frame: 6 × 11\n",
       "\n",
       "| <!--/--> | cl_name &lt;chr&gt; | Regulon &lt;chr&gt; | NES &lt;dbl&gt; | p.value &lt;dbl&gt; | FDR &lt;dbl&gt; | Size &lt;int&gt; | id &lt;chr&gt; | label &lt;chr&gt; | value &lt;dbl&gt; | Gene &lt;chr&gt; | rank &lt;int&gt; |\n",
       "|---|---|---|---|---|---|---|---|---|---|---|---|\n",
       "| 1 | cl_ciliated_DEGs | ZNF382_B | 4.571761 | 4.836431e-06 | 2.933677e-05 | 10 | cl_ciliated_DEGs ZNF382_B | + | 4.571761 | ZNF382 | 1 |\n",
       "| 2 | cl_ciliated_DEGs | HIC1_B   | 4.270365 | 1.951537e-05 | 1.051890e-04 | 10 | cl_ciliated_DEGs HIC1_B   | + | 4.270365 | HIC1   | 2 |\n",
       "| 3 | cl_ciliated_DEGs | PITX1_B  | 3.905640 | 9.397618e-05 | 4.289408e-04 | 11 | cl_ciliated_DEGs PITX1_B  | + | 3.905640 | PITX1  | 3 |\n",
       "| 4 | cl_ciliated_DEGs | PPARD_A  | 3.009163 | 2.619684e-03 | 8.605754e-03 | 10 | cl_ciliated_DEGs PPARD_A  | - | 3.009163 | PPARD  | 4 |\n",
       "| 5 | cl_ciliated_DEGs | TP63_B   | 2.931932 | 3.368604e-03 | 1.073452e-02 | 20 | cl_ciliated_DEGs TP63_B   | <!----> | 2.931932 | TP63   | 5 |\n",
       "| 6 | cl_ciliated_DEGs | NFE2L1_B | 2.907068 | 3.648339e-03 | 1.149351e-02 | 25 | cl_ciliated_DEGs NFE2L1_B | + | 2.907068 | NFE2L1 | 6 |\n",
       "\n"
      ],
      "text/plain": [
       "  cl_name          Regulon  NES      p.value      FDR          Size\n",
       "1 cl_ciliated_DEGs ZNF382_B 4.571761 4.836431e-06 2.933677e-05 10  \n",
       "2 cl_ciliated_DEGs HIC1_B   4.270365 1.951537e-05 1.051890e-04 10  \n",
       "3 cl_ciliated_DEGs PITX1_B  3.905640 9.397618e-05 4.289408e-04 11  \n",
       "4 cl_ciliated_DEGs PPARD_A  3.009163 2.619684e-03 8.605754e-03 10  \n",
       "5 cl_ciliated_DEGs TP63_B   2.931932 3.368604e-03 1.073452e-02 20  \n",
       "6 cl_ciliated_DEGs NFE2L1_B 2.907068 3.648339e-03 1.149351e-02 25  \n",
       "  id                        label value    Gene   rank\n",
       "1 cl_ciliated_DEGs ZNF382_B +     4.571761 ZNF382 1   \n",
       "2 cl_ciliated_DEGs HIC1_B   +     4.270365 HIC1   2   \n",
       "3 cl_ciliated_DEGs PITX1_B  +     3.905640 PITX1  3   \n",
       "4 cl_ciliated_DEGs PPARD_A  -     3.009163 PPARD  4   \n",
       "5 cl_ciliated_DEGs TP63_B         2.931932 TP63   5   \n",
       "6 cl_ciliated_DEGs NFE2L1_B +     2.907068 NFE2L1 6   "
      ]
     },
     "metadata": {},
     "output_type": "display_data"
    }
   ],
   "source": [
    "# Rank TFs according to their activity\n",
    "TF_activities = TF_activities[order(TF_activities$NES, decreasing = T), ]\n",
    "TF_activities$rank = NULL\n",
    "TF_activities = ddply(TF_activities, 'cl_name', function(df) data.frame(df, rank = 1:nrow(df)) )\n",
    "head(TF_activities)"
   ]
  },
  {
   "cell_type": "code",
   "execution_count": 66,
   "metadata": {},
   "outputs": [],
   "source": [
    "# order clusters\n",
    "TF_activities = rbind(subset(TF_activities, cl_name %in% 'cl_proliferative_DEGs'),\n",
    "                     subset(TF_activities, cl_name %in% 'cl_LGR5_DEGs'),\n",
    "                     subset(TF_activities, cl_name %in% 'cl_glandular_DEGs'),\n",
    "                     subset(TF_activities, cl_name %in% 'cl_ciliated_DEGs'),\n",
    "                     subset(TF_activities, cl_name %in% 'cl_WIF1_1_DEGs'),\n",
    "                     subset(TF_activities, cl_name %in% 'cl_WIF1_2_DEGs'),\n",
    "                     subset(TF_activities, cl_name %in% 'cl_LYPD1_DEGs'))"
   ]
  },
  {
   "cell_type": "code",
   "execution_count": 67,
   "metadata": {},
   "outputs": [],
   "source": [
    "# Select top 10 ranked genes\n",
    "TF_activities$Gene = sapply(strsplit(TF_activities$Regulon, '_'), head, 1)\n",
    "top5 = subset(TF_activities, rank %in% 1:5 & NES > 0)$Gene"
   ]
  },
  {
   "cell_type": "code",
   "execution_count": 68,
   "metadata": {},
   "outputs": [],
   "source": [
    "# build matrix of TF activity scores to plot\n",
    "TF_activities$value = TF_activities$NES\n",
    "x = acast(subset(TF_activities, Gene %in% top5), Gene~cl_name, fill = 0)"
   ]
  },
  {
   "cell_type": "code",
   "execution_count": 69,
   "metadata": {},
   "outputs": [],
   "source": [
    "x = x[, c(5, 3, 2, 1, 6, 7, 4) ]\n",
    "colnames(x) = c('prol', 'LGR5', 'glandular', 'ciliated', 'WIF1_1', 'WIF1_2', 'LYPD1')\n",
    "pheatmap(t(x[ top5, ]), cellheight = 10, cellwidth = 10, cluster_rows = F, cluster_cols = F, \n",
    "#          color = colorRampPalette(c(\"navy\", \"white\", \"red\"))(50),\n",
    "        filename = 'data/cellphoneDB/clusterDEGs_and_TFs/DEGs_withinEpithelial/epithelial_top5_TFs_activities_filtered_curatedTFs.pdf')\n"
   ]
  },
  {
   "cell_type": "markdown",
   "metadata": {},
   "source": [
    "# Plot top 10 active TFs - DE and curated"
   ]
  },
  {
   "cell_type": "code",
   "execution_count": 70,
   "metadata": {},
   "outputs": [],
   "source": [
    "TF_activities = default_TF_activities[ grep('_E$', default_TF_activities$Regulon, invert = T) , ]\n",
    "TF_activities = TF_activities[ grep('_D$', TF_activities$Regulon, invert = T) , ]\n",
    "TF_activities = TF_activities[ grep('_C$', TF_activities$Regulon, invert = T) , ]\n",
    "TF_activities = subset(TF_activities, label != '')"
   ]
  },
  {
   "cell_type": "code",
   "execution_count": 71,
   "metadata": {},
   "outputs": [
    {
     "data": {
      "text/html": [
       "<table>\n",
       "<caption>A data.frame: 6 × 11</caption>\n",
       "<thead>\n",
       "\t<tr><th></th><th scope=col>cl_name</th><th scope=col>Regulon</th><th scope=col>NES</th><th scope=col>p.value</th><th scope=col>FDR</th><th scope=col>Size</th><th scope=col>id</th><th scope=col>label</th><th scope=col>value</th><th scope=col>Gene</th><th scope=col>rank</th></tr>\n",
       "\t<tr><th></th><th scope=col>&lt;chr&gt;</th><th scope=col>&lt;chr&gt;</th><th scope=col>&lt;dbl&gt;</th><th scope=col>&lt;dbl&gt;</th><th scope=col>&lt;dbl&gt;</th><th scope=col>&lt;int&gt;</th><th scope=col>&lt;chr&gt;</th><th scope=col>&lt;chr&gt;</th><th scope=col>&lt;dbl&gt;</th><th scope=col>&lt;chr&gt;</th><th scope=col>&lt;int&gt;</th></tr>\n",
       "</thead>\n",
       "<tbody>\n",
       "\t<tr><th scope=row>1</th><td>cl_ciliated_DEGs</td><td>ZNF382_B</td><td> 4.571761</td><td>4.836431e-06</td><td>2.933677e-05</td><td>10</td><td>cl_ciliated_DEGs ZNF382_B</td><td>+</td><td> 4.571761</td><td>ZNF382</td><td>1</td></tr>\n",
       "\t<tr><th scope=row>2</th><td>cl_ciliated_DEGs</td><td>HIC1_B  </td><td> 4.270365</td><td>1.951537e-05</td><td>1.051890e-04</td><td>10</td><td>cl_ciliated_DEGs HIC1_B  </td><td>+</td><td> 4.270365</td><td>HIC1  </td><td>2</td></tr>\n",
       "\t<tr><th scope=row>3</th><td>cl_ciliated_DEGs</td><td>PITX1_B </td><td> 3.905640</td><td>9.397618e-05</td><td>4.289408e-04</td><td>11</td><td>cl_ciliated_DEGs PITX1_B </td><td>+</td><td> 3.905640</td><td>PITX1 </td><td>3</td></tr>\n",
       "\t<tr><th scope=row>4</th><td>cl_ciliated_DEGs</td><td>PPARD_A </td><td> 3.009163</td><td>2.619684e-03</td><td>8.605754e-03</td><td>10</td><td>cl_ciliated_DEGs PPARD_A </td><td>-</td><td> 3.009163</td><td>PPARD </td><td>4</td></tr>\n",
       "\t<tr><th scope=row>5</th><td>cl_ciliated_DEGs</td><td>NFE2L1_B</td><td> 2.907068</td><td>3.648339e-03</td><td>1.149351e-02</td><td>25</td><td>cl_ciliated_DEGs NFE2L1_B</td><td>+</td><td> 2.907068</td><td>NFE2L1</td><td>5</td></tr>\n",
       "\t<tr><th scope=row>6</th><td>cl_ciliated_DEGs</td><td>POU2F1_A</td><td>-2.334509</td><td>1.956909e-02</td><td>4.658352e-02</td><td>30</td><td>cl_ciliated_DEGs POU2F1_A</td><td>+</td><td>-2.334509</td><td>POU2F1</td><td>6</td></tr>\n",
       "</tbody>\n",
       "</table>\n"
      ],
      "text/latex": [
       "A data.frame: 6 × 11\n",
       "\\begin{tabular}{r|lllllllllll}\n",
       "  & cl\\_name & Regulon & NES & p.value & FDR & Size & id & label & value & Gene & rank\\\\\n",
       "  & <chr> & <chr> & <dbl> & <dbl> & <dbl> & <int> & <chr> & <chr> & <dbl> & <chr> & <int>\\\\\n",
       "\\hline\n",
       "\t1 & cl\\_ciliated\\_DEGs & ZNF382\\_B &  4.571761 & 4.836431e-06 & 2.933677e-05 & 10 & cl\\_ciliated\\_DEGs ZNF382\\_B & + &  4.571761 & ZNF382 & 1\\\\\n",
       "\t2 & cl\\_ciliated\\_DEGs & HIC1\\_B   &  4.270365 & 1.951537e-05 & 1.051890e-04 & 10 & cl\\_ciliated\\_DEGs HIC1\\_B   & + &  4.270365 & HIC1   & 2\\\\\n",
       "\t3 & cl\\_ciliated\\_DEGs & PITX1\\_B  &  3.905640 & 9.397618e-05 & 4.289408e-04 & 11 & cl\\_ciliated\\_DEGs PITX1\\_B  & + &  3.905640 & PITX1  & 3\\\\\n",
       "\t4 & cl\\_ciliated\\_DEGs & PPARD\\_A  &  3.009163 & 2.619684e-03 & 8.605754e-03 & 10 & cl\\_ciliated\\_DEGs PPARD\\_A  & - &  3.009163 & PPARD  & 4\\\\\n",
       "\t5 & cl\\_ciliated\\_DEGs & NFE2L1\\_B &  2.907068 & 3.648339e-03 & 1.149351e-02 & 25 & cl\\_ciliated\\_DEGs NFE2L1\\_B & + &  2.907068 & NFE2L1 & 5\\\\\n",
       "\t6 & cl\\_ciliated\\_DEGs & POU2F1\\_A & -2.334509 & 1.956909e-02 & 4.658352e-02 & 30 & cl\\_ciliated\\_DEGs POU2F1\\_A & + & -2.334509 & POU2F1 & 6\\\\\n",
       "\\end{tabular}\n"
      ],
      "text/markdown": [
       "\n",
       "A data.frame: 6 × 11\n",
       "\n",
       "| <!--/--> | cl_name &lt;chr&gt; | Regulon &lt;chr&gt; | NES &lt;dbl&gt; | p.value &lt;dbl&gt; | FDR &lt;dbl&gt; | Size &lt;int&gt; | id &lt;chr&gt; | label &lt;chr&gt; | value &lt;dbl&gt; | Gene &lt;chr&gt; | rank &lt;int&gt; |\n",
       "|---|---|---|---|---|---|---|---|---|---|---|---|\n",
       "| 1 | cl_ciliated_DEGs | ZNF382_B |  4.571761 | 4.836431e-06 | 2.933677e-05 | 10 | cl_ciliated_DEGs ZNF382_B | + |  4.571761 | ZNF382 | 1 |\n",
       "| 2 | cl_ciliated_DEGs | HIC1_B   |  4.270365 | 1.951537e-05 | 1.051890e-04 | 10 | cl_ciliated_DEGs HIC1_B   | + |  4.270365 | HIC1   | 2 |\n",
       "| 3 | cl_ciliated_DEGs | PITX1_B  |  3.905640 | 9.397618e-05 | 4.289408e-04 | 11 | cl_ciliated_DEGs PITX1_B  | + |  3.905640 | PITX1  | 3 |\n",
       "| 4 | cl_ciliated_DEGs | PPARD_A  |  3.009163 | 2.619684e-03 | 8.605754e-03 | 10 | cl_ciliated_DEGs PPARD_A  | - |  3.009163 | PPARD  | 4 |\n",
       "| 5 | cl_ciliated_DEGs | NFE2L1_B |  2.907068 | 3.648339e-03 | 1.149351e-02 | 25 | cl_ciliated_DEGs NFE2L1_B | + |  2.907068 | NFE2L1 | 5 |\n",
       "| 6 | cl_ciliated_DEGs | POU2F1_A | -2.334509 | 1.956909e-02 | 4.658352e-02 | 30 | cl_ciliated_DEGs POU2F1_A | + | -2.334509 | POU2F1 | 6 |\n",
       "\n"
      ],
      "text/plain": [
       "  cl_name          Regulon  NES       p.value      FDR          Size\n",
       "1 cl_ciliated_DEGs ZNF382_B  4.571761 4.836431e-06 2.933677e-05 10  \n",
       "2 cl_ciliated_DEGs HIC1_B    4.270365 1.951537e-05 1.051890e-04 10  \n",
       "3 cl_ciliated_DEGs PITX1_B   3.905640 9.397618e-05 4.289408e-04 11  \n",
       "4 cl_ciliated_DEGs PPARD_A   3.009163 2.619684e-03 8.605754e-03 10  \n",
       "5 cl_ciliated_DEGs NFE2L1_B  2.907068 3.648339e-03 1.149351e-02 25  \n",
       "6 cl_ciliated_DEGs POU2F1_A -2.334509 1.956909e-02 4.658352e-02 30  \n",
       "  id                        label value     Gene   rank\n",
       "1 cl_ciliated_DEGs ZNF382_B +      4.571761 ZNF382 1   \n",
       "2 cl_ciliated_DEGs HIC1_B   +      4.270365 HIC1   2   \n",
       "3 cl_ciliated_DEGs PITX1_B  +      3.905640 PITX1  3   \n",
       "4 cl_ciliated_DEGs PPARD_A  -      3.009163 PPARD  4   \n",
       "5 cl_ciliated_DEGs NFE2L1_B +      2.907068 NFE2L1 5   \n",
       "6 cl_ciliated_DEGs POU2F1_A +     -2.334509 POU2F1 6   "
      ]
     },
     "metadata": {},
     "output_type": "display_data"
    }
   ],
   "source": [
    "# Rank TFs according to their activity\n",
    "TF_activities = TF_activities[order(TF_activities$NES, decreasing = T), ]\n",
    "TF_activities$rank = NULL\n",
    "TF_activities = ddply(TF_activities, 'cl_name', function(df) data.frame(df, rank = 1:nrow(df)) )\n",
    "head(TF_activities)"
   ]
  },
  {
   "cell_type": "code",
   "execution_count": 72,
   "metadata": {},
   "outputs": [],
   "source": [
    "# order clusters\n",
    "TF_activities = rbind(subset(TF_activities, cl_name %in% 'cl_proliferative_DEGs'),\n",
    "                     subset(TF_activities, cl_name %in% 'cl_LGR5_DEGs'),\n",
    "                     subset(TF_activities, cl_name %in% 'cl_glandular_DEGs'),\n",
    "                     subset(TF_activities, cl_name %in% 'cl_ciliated_DEGs'),\n",
    "                     subset(TF_activities, cl_name %in% 'cl_WIF1_1_DEGs'),\n",
    "                     subset(TF_activities, cl_name %in% 'cl_WIF1_2_DEGs'),\n",
    "                     subset(TF_activities, cl_name %in% 'cl_LYPD1_DEGs'))"
   ]
  },
  {
   "cell_type": "code",
   "execution_count": 73,
   "metadata": {},
   "outputs": [],
   "source": [
    "# Select top 10 ranked genes\n",
    "TF_activities$Gene = sapply(strsplit(TF_activities$Regulon, '_'), head, 1)\n",
    "top5 = subset(TF_activities, rank %in% 1:5 & NES > 0)$Gene"
   ]
  },
  {
   "cell_type": "code",
   "execution_count": 74,
   "metadata": {},
   "outputs": [],
   "source": [
    "# build matrix of TF activity scores to plot\n",
    "TF_activities$value = TF_activities$NES\n",
    "x = acast(subset(TF_activities, Gene %in% top5), Gene~cl_name, fill = 0)"
   ]
  },
  {
   "cell_type": "code",
   "execution_count": 75,
   "metadata": {},
   "outputs": [],
   "source": [
    "x = x[, c(5, 3, 2, 1, 6, 7, 4) ]\n",
    "colnames(x) = c('prol', 'LGR5', 'glandular', 'ciliated', 'WIF1_1', 'WIF1_2', 'LYPD1')\n",
    "\n",
    "pheatmap(t(x[ top5, ]), cellheight = 10, cellwidth = 10, cluster_rows = F, cluster_cols = F, \n",
    "#          color = colorRampPalette(c(\"navy\", \"white\", \"red\"))(50),\n",
    "        filename = 'data/cellphoneDB/clusterDEGs_and_TFs/DEGs_withinEpithelial/epithelial_top5_TFs_activities_filtered_curatedTFs_TFisDE.pdf')\n"
   ]
  },
  {
   "cell_type": "markdown",
   "metadata": {},
   "source": [
    "# Plot top 10 DE TFs"
   ]
  },
  {
   "cell_type": "code",
   "execution_count": 76,
   "metadata": {},
   "outputs": [],
   "source": [
    "# Rank TFs according to their DE Fold change\n",
    "DE_WIF1_2 = read.csv('data/cellphoneDB/clusterDEGs_and_TFs/DEGs_withinEpithelial/epithelial_WIF1_2_DEGs.csv', stringsAsFactors = F)\n",
    "DE_WIF1_1 = read.csv('data/cellphoneDB/clusterDEGs_and_TFs/DEGs_withinEpithelial/epithelial_WIF1_1_DEGs.csv', stringsAsFactors = F)\n",
    "DE_LYPD1 = read.csv('data/cellphoneDB/clusterDEGs_and_TFs/DEGs_withinEpithelial/epithelial_LYPD1_DEGs.csv', stringsAsFactors = F)\n",
    "DE_LGR5 = read.csv('data/cellphoneDB/clusterDEGs_and_TFs/DEGs_withinEpithelial/epithelial_LGR5_DEGs.csv', stringsAsFactors = F)\n",
    "DE_prol = read.csv('data/cellphoneDB/clusterDEGs_and_TFs/DEGs_withinEpithelial/epithelial_proliferative_DEGs.csv', stringsAsFactors = F)\n",
    "DE_cil = read.csv('data/cellphoneDB/clusterDEGs_and_TFs/DEGs_withinEpithelial/epithelial_ciliated_DEGs.csv', stringsAsFactors = F)\n",
    "DE_gland = read.csv('data/cellphoneDB/clusterDEGs_and_TFs/DEGs_withinEpithelial/epithelial_glandular_DEGs.csv', stringsAsFactors = F)\n",
    "\n",
    "DE = list(prol = DE_prol, \n",
    "          LGR5 = DE_LGR5, \n",
    "          gland = DE_gland,\n",
    "          cil = DE_cil,\n",
    "          WIF1_1 = DE_WIF1_1, \n",
    "          WIF1_2 = DE_WIF1_2, \n",
    "          LYPD1 = DE_LYPD1)\n",
    "\n",
    "\n",
    "\n",
    "\n",
    "# Rank TFs according to their DE Fold change\n",
    "# DE_LHX1 = read.csv('data/cellphoneDB/clusterDEGs_and_TFs/clusterDEGs_and_TFs/basal_LHX1_DEGs.csv', stringsAsFactors = F)\n",
    "# DE_FHL2 = read.csv('data/cellphoneDB/clusterDEGs_and_TFs/clusterDEGs_and_TFs/FHL2_DEGs.csv', stringsAsFactors = F)\n",
    "# DE_preFHL2 = read.csv('data/cellphoneDB/clusterDEGs_and_TFs/clusterDEGs_and_TFs/WIF1_1_DEGs.csv', stringsAsFactors = F)\n",
    "# DE_LYPD1 = read.csv('data/cellphoneDB/clusterDEGs_and_TFs/clusterDEGs_and_TFs/pre-secretroy_PAEP_DEGs.csv', stringsAsFactors = F)\n",
    "# DE_KRT5 = read.csv('data/cellphoneDB/clusterDEGs_and_TFs/clusterDEGs_and_TFs/progenitor_KRT5_DEGs.csv', stringsAsFactors = F)\n",
    "# DE_LGR5 = read.csv('data/cellphoneDB/clusterDEGs_and_TFs/clusterDEGs_and_TFs/progenitor_LGR5-WNT7A_DEGs.csv', stringsAsFactors = F)\n",
    "# DE_prol_G2S = read.csv('data/cellphoneDB/clusterDEGs_and_TFs/clusterDEGs_and_TFs/proliferative G2-S_DEGs.csv', stringsAsFactors = F)\n",
    "# DE_prol_1 = read.csv('data/cellphoneDB/clusterDEGs_and_TFs/clusterDEGs_and_TFs/proliferative I_DEGs.csv', stringsAsFactors = F)\n",
    "# DE_prol_2 = read.csv('data/cellphoneDB/clusterDEGs_and_TFs/clusterDEGs_and_TFs/proliferative II_DEGs.csv', stringsAsFactors = F)\n",
    "\n",
    "# DE = list(prol_G2S = DE_prol_G2S, \n",
    "#           prol_I = DE_prol_1, \n",
    "#           prol_II = DE_prol_2,\n",
    "#           LGR5 = DE_LGR5,\n",
    "#           KRT5 = DE_KRT5,  \n",
    "#           preFHL2 = DE_preFHL2, \n",
    "#           FHL2 = DE_FHL2, \n",
    "#           LYPD1 = DE_LYPD1, \n",
    "#           LHX1 = DE_LHX1)\n",
    "\n",
    "DE = lapply(DE, function(x){\n",
    "    x = subset(x, Gene %in% TFs)\n",
    "    x = x[ order(x$logFC, decreasing = T) ,]\n",
    "    x$rank = 1:nrow(x)\n",
    "    return(x)\n",
    "})\n",
    "\n",
    "\n"
   ]
  },
  {
   "cell_type": "code",
   "execution_count": 77,
   "metadata": {},
   "outputs": [
    {
     "data": {
      "text/html": [
       "<table>\n",
       "<caption>A data.frame: 6 × 11</caption>\n",
       "<thead>\n",
       "\t<tr><th></th><th scope=col>cluster</th><th scope=col>Gene</th><th scope=col>logFC</th><th scope=col>P.Value</th><th scope=col>adj.P.Val</th><th scope=col>AveExpr_cluster</th><th scope=col>AveExpr_rest</th><th scope=col>percentExpr_cluster</th><th scope=col>percentExpr_rest</th><th scope=col>rank</th><th scope=col>L1</th></tr>\n",
       "\t<tr><th></th><th scope=col>&lt;chr&gt;</th><th scope=col>&lt;chr&gt;</th><th scope=col>&lt;dbl&gt;</th><th scope=col>&lt;dbl&gt;</th><th scope=col>&lt;dbl&gt;</th><th scope=col>&lt;dbl&gt;</th><th scope=col>&lt;dbl&gt;</th><th scope=col>&lt;dbl&gt;</th><th scope=col>&lt;dbl&gt;</th><th scope=col>&lt;int&gt;</th><th scope=col>&lt;chr&gt;</th></tr>\n",
       "</thead>\n",
       "<tbody>\n",
       "\t<tr><th scope=row>1</th><td>epithelial_proliferative</td><td>PGR  </td><td>1.3268391</td><td> 0.000000e+00</td><td> 0.000000e+00</td><td>1.678935</td><td>0.352096</td><td>0.990431</td><td>0.314191</td><td>1</td><td>prol</td></tr>\n",
       "\t<tr><th scope=row>2</th><td>epithelial_proliferative</td><td>MSX1 </td><td>1.1286395</td><td> 0.000000e+00</td><td> 0.000000e+00</td><td>2.038493</td><td>0.909853</td><td>0.992225</td><td>0.599519</td><td>2</td><td>prol</td></tr>\n",
       "\t<tr><th scope=row>3</th><td>epithelial_proliferative</td><td>ESR1 </td><td>0.8846107</td><td> 0.000000e+00</td><td> 0.000000e+00</td><td>1.421221</td><td>0.536610</td><td>0.964713</td><td>0.467228</td><td>3</td><td>prol</td></tr>\n",
       "\t<tr><th scope=row>4</th><td>epithelial_proliferative</td><td>NPAS3</td><td>0.7478033</td><td> 0.000000e+00</td><td> 0.000000e+00</td><td>0.811245</td><td>0.063442</td><td>0.856459</td><td>0.106133</td><td>4</td><td>prol</td></tr>\n",
       "\t<tr><th scope=row>5</th><td>epithelial_proliferative</td><td>MSX2 </td><td>0.6681302</td><td>2.615417e-289</td><td>4.597815e-287</td><td>0.986997</td><td>0.318867</td><td>0.863636</td><td>0.319603</td><td>5</td><td>prol</td></tr>\n",
       "\t<tr><th scope=row>6</th><td>epithelial_proliferative</td><td>MECOM</td><td>0.5904095</td><td>1.950091e-233</td><td>2.022635e-231</td><td>1.042338</td><td>0.451929</td><td>0.916866</td><td>0.423331</td><td>6</td><td>prol</td></tr>\n",
       "</tbody>\n",
       "</table>\n"
      ],
      "text/latex": [
       "A data.frame: 6 × 11\n",
       "\\begin{tabular}{r|lllllllllll}\n",
       "  & cluster & Gene & logFC & P.Value & adj.P.Val & AveExpr\\_cluster & AveExpr\\_rest & percentExpr\\_cluster & percentExpr\\_rest & rank & L1\\\\\n",
       "  & <chr> & <chr> & <dbl> & <dbl> & <dbl> & <dbl> & <dbl> & <dbl> & <dbl> & <int> & <chr>\\\\\n",
       "\\hline\n",
       "\t1 & epithelial\\_proliferative & PGR   & 1.3268391 &  0.000000e+00 &  0.000000e+00 & 1.678935 & 0.352096 & 0.990431 & 0.314191 & 1 & prol\\\\\n",
       "\t2 & epithelial\\_proliferative & MSX1  & 1.1286395 &  0.000000e+00 &  0.000000e+00 & 2.038493 & 0.909853 & 0.992225 & 0.599519 & 2 & prol\\\\\n",
       "\t3 & epithelial\\_proliferative & ESR1  & 0.8846107 &  0.000000e+00 &  0.000000e+00 & 1.421221 & 0.536610 & 0.964713 & 0.467228 & 3 & prol\\\\\n",
       "\t4 & epithelial\\_proliferative & NPAS3 & 0.7478033 &  0.000000e+00 &  0.000000e+00 & 0.811245 & 0.063442 & 0.856459 & 0.106133 & 4 & prol\\\\\n",
       "\t5 & epithelial\\_proliferative & MSX2  & 0.6681302 & 2.615417e-289 & 4.597815e-287 & 0.986997 & 0.318867 & 0.863636 & 0.319603 & 5 & prol\\\\\n",
       "\t6 & epithelial\\_proliferative & MECOM & 0.5904095 & 1.950091e-233 & 2.022635e-231 & 1.042338 & 0.451929 & 0.916866 & 0.423331 & 6 & prol\\\\\n",
       "\\end{tabular}\n"
      ],
      "text/markdown": [
       "\n",
       "A data.frame: 6 × 11\n",
       "\n",
       "| <!--/--> | cluster &lt;chr&gt; | Gene &lt;chr&gt; | logFC &lt;dbl&gt; | P.Value &lt;dbl&gt; | adj.P.Val &lt;dbl&gt; | AveExpr_cluster &lt;dbl&gt; | AveExpr_rest &lt;dbl&gt; | percentExpr_cluster &lt;dbl&gt; | percentExpr_rest &lt;dbl&gt; | rank &lt;int&gt; | L1 &lt;chr&gt; |\n",
       "|---|---|---|---|---|---|---|---|---|---|---|---|\n",
       "| 1 | epithelial_proliferative | PGR   | 1.3268391 |  0.000000e+00 |  0.000000e+00 | 1.678935 | 0.352096 | 0.990431 | 0.314191 | 1 | prol |\n",
       "| 2 | epithelial_proliferative | MSX1  | 1.1286395 |  0.000000e+00 |  0.000000e+00 | 2.038493 | 0.909853 | 0.992225 | 0.599519 | 2 | prol |\n",
       "| 3 | epithelial_proliferative | ESR1  | 0.8846107 |  0.000000e+00 |  0.000000e+00 | 1.421221 | 0.536610 | 0.964713 | 0.467228 | 3 | prol |\n",
       "| 4 | epithelial_proliferative | NPAS3 | 0.7478033 |  0.000000e+00 |  0.000000e+00 | 0.811245 | 0.063442 | 0.856459 | 0.106133 | 4 | prol |\n",
       "| 5 | epithelial_proliferative | MSX2  | 0.6681302 | 2.615417e-289 | 4.597815e-287 | 0.986997 | 0.318867 | 0.863636 | 0.319603 | 5 | prol |\n",
       "| 6 | epithelial_proliferative | MECOM | 0.5904095 | 1.950091e-233 | 2.022635e-231 | 1.042338 | 0.451929 | 0.916866 | 0.423331 | 6 | prol |\n",
       "\n"
      ],
      "text/plain": [
       "  cluster                  Gene  logFC     P.Value       adj.P.Val    \n",
       "1 epithelial_proliferative PGR   1.3268391  0.000000e+00  0.000000e+00\n",
       "2 epithelial_proliferative MSX1  1.1286395  0.000000e+00  0.000000e+00\n",
       "3 epithelial_proliferative ESR1  0.8846107  0.000000e+00  0.000000e+00\n",
       "4 epithelial_proliferative NPAS3 0.7478033  0.000000e+00  0.000000e+00\n",
       "5 epithelial_proliferative MSX2  0.6681302 2.615417e-289 4.597815e-287\n",
       "6 epithelial_proliferative MECOM 0.5904095 1.950091e-233 2.022635e-231\n",
       "  AveExpr_cluster AveExpr_rest percentExpr_cluster percentExpr_rest rank L1  \n",
       "1 1.678935        0.352096     0.990431            0.314191         1    prol\n",
       "2 2.038493        0.909853     0.992225            0.599519         2    prol\n",
       "3 1.421221        0.536610     0.964713            0.467228         3    prol\n",
       "4 0.811245        0.063442     0.856459            0.106133         4    prol\n",
       "5 0.986997        0.318867     0.863636            0.319603         5    prol\n",
       "6 1.042338        0.451929     0.916866            0.423331         6    prol"
      ]
     },
     "metadata": {},
     "output_type": "display_data"
    }
   ],
   "source": [
    "DE_df = melt(DE, id.vars = names(DE[[1]]) )\n",
    "head(DE_df)"
   ]
  },
  {
   "cell_type": "code",
   "execution_count": 78,
   "metadata": {},
   "outputs": [
    {
     "data": {
      "text/html": [
       "<style>\n",
       ".list-inline {list-style: none; margin:0; padding: 0}\n",
       ".list-inline>li {display: inline-block}\n",
       ".list-inline>li:not(:last-child)::after {content: \"\\00b7\"; padding: 0 .5ex}\n",
       "</style>\n",
       "<ol class=list-inline><li>'PGR'</li><li>'MSX1'</li><li>'ESR1'</li><li>'NPAS3'</li><li>'MSX2'</li><li>'MSX1'</li><li>'SOX4'</li><li>'NFKBID'</li><li>'NFKBIA'</li><li>'HMGA1'</li><li>'KLF6'</li><li>'HES1'</li><li>'ARID5B'</li><li>'ATF3'</li><li>'NR4A1'</li><li>'FOXJ1'</li><li>'RFX3'</li><li>'HES6'</li><li>'RFX2'</li><li>'PGR'</li><li>'DLX5'</li><li>'JUN'</li><li>'EMX2'</li><li>'ID2'</li><li>'HES1'</li><li>'NFKBIA'</li><li>'ZNF592'</li><li>'MAFF'</li><li>'MYC'</li><li>'ATF4'</li><li>'TSC22D1'</li><li>'SOX4'</li><li>'DLX5'</li><li>'HOXB6'</li><li>'SOX9'</li></ol>\n"
      ],
      "text/latex": [
       "\\begin{enumerate*}\n",
       "\\item 'PGR'\n",
       "\\item 'MSX1'\n",
       "\\item 'ESR1'\n",
       "\\item 'NPAS3'\n",
       "\\item 'MSX2'\n",
       "\\item 'MSX1'\n",
       "\\item 'SOX4'\n",
       "\\item 'NFKBID'\n",
       "\\item 'NFKBIA'\n",
       "\\item 'HMGA1'\n",
       "\\item 'KLF6'\n",
       "\\item 'HES1'\n",
       "\\item 'ARID5B'\n",
       "\\item 'ATF3'\n",
       "\\item 'NR4A1'\n",
       "\\item 'FOXJ1'\n",
       "\\item 'RFX3'\n",
       "\\item 'HES6'\n",
       "\\item 'RFX2'\n",
       "\\item 'PGR'\n",
       "\\item 'DLX5'\n",
       "\\item 'JUN'\n",
       "\\item 'EMX2'\n",
       "\\item 'ID2'\n",
       "\\item 'HES1'\n",
       "\\item 'NFKBIA'\n",
       "\\item 'ZNF592'\n",
       "\\item 'MAFF'\n",
       "\\item 'MYC'\n",
       "\\item 'ATF4'\n",
       "\\item 'TSC22D1'\n",
       "\\item 'SOX4'\n",
       "\\item 'DLX5'\n",
       "\\item 'HOXB6'\n",
       "\\item 'SOX9'\n",
       "\\end{enumerate*}\n"
      ],
      "text/markdown": [
       "1. 'PGR'\n",
       "2. 'MSX1'\n",
       "3. 'ESR1'\n",
       "4. 'NPAS3'\n",
       "5. 'MSX2'\n",
       "6. 'MSX1'\n",
       "7. 'SOX4'\n",
       "8. 'NFKBID'\n",
       "9. 'NFKBIA'\n",
       "10. 'HMGA1'\n",
       "11. 'KLF6'\n",
       "12. 'HES1'\n",
       "13. 'ARID5B'\n",
       "14. 'ATF3'\n",
       "15. 'NR4A1'\n",
       "16. 'FOXJ1'\n",
       "17. 'RFX3'\n",
       "18. 'HES6'\n",
       "19. 'RFX2'\n",
       "20. 'PGR'\n",
       "21. 'DLX5'\n",
       "22. 'JUN'\n",
       "23. 'EMX2'\n",
       "24. 'ID2'\n",
       "25. 'HES1'\n",
       "26. 'NFKBIA'\n",
       "27. 'ZNF592'\n",
       "28. 'MAFF'\n",
       "29. 'MYC'\n",
       "30. 'ATF4'\n",
       "31. 'TSC22D1'\n",
       "32. 'SOX4'\n",
       "33. 'DLX5'\n",
       "34. 'HOXB6'\n",
       "35. 'SOX9'\n",
       "\n",
       "\n"
      ],
      "text/plain": [
       " [1] \"PGR\"     \"MSX1\"    \"ESR1\"    \"NPAS3\"   \"MSX2\"    \"MSX1\"    \"SOX4\"   \n",
       " [8] \"NFKBID\"  \"NFKBIA\"  \"HMGA1\"   \"KLF6\"    \"HES1\"    \"ARID5B\"  \"ATF3\"   \n",
       "[15] \"NR4A1\"   \"FOXJ1\"   \"RFX3\"    \"HES6\"    \"RFX2\"    \"PGR\"     \"DLX5\"   \n",
       "[22] \"JUN\"     \"EMX2\"    \"ID2\"     \"HES1\"    \"NFKBIA\"  \"ZNF592\"  \"MAFF\"   \n",
       "[29] \"MYC\"     \"ATF4\"    \"TSC22D1\" \"SOX4\"    \"DLX5\"    \"HOXB6\"   \"SOX9\"   "
      ]
     },
     "metadata": {},
     "output_type": "display_data"
    }
   ],
   "source": [
    "# Select top 10 ranked genes\n",
    "top5 = subset(DE_df, rank %in% 1:5)$Gene #%>% unique(.)\n",
    "top5"
   ]
  },
  {
   "cell_type": "code",
   "execution_count": 79,
   "metadata": {},
   "outputs": [],
   "source": [
    "# build matrix of TF activity scores to plot\n",
    "DE_df$value = DE_df$logFC\n",
    "x = acast(subset(DE_df, Gene %in% top5), Gene~L1, fill = 0)\n",
    "pheatmap(t(x[top5, names(DE)]), cellheight = 10, cellwidth = 10, cluster_rows = F, cluster_cols = F, \n",
    "#          color = colorRampPalette(c(\"navy\", \"white\", \"red\"))(50),\n",
    "        filename = 'data/cellphoneDB/clusterDEGs_and_TFs/DEGs_withinEpithelial/epithelial_top5_TFs_DE.pdf')\n"
   ]
  },
  {
   "cell_type": "code",
   "execution_count": 80,
   "metadata": {},
   "outputs": [],
   "source": [
    "# mydf = subset(DE_df, Gene %in% top5)\n",
    "# mydf$Gene = factor(mydf$Gene, levels = unique(top5))\n",
    "# mydf$cluster = factor(mydf$L1, levels = rev(names(DE)))\n",
    "\n",
    "# require(ggplot2)\n",
    "#   ggplot(mydf, \n",
    "#          aes(x = Gene,\n",
    "#              y = cluster)) +        ## global aes\n",
    "# #   geom_tile(aes(fill = P.Value)) +         ## to get the rect filled\n",
    "#   geom_point(aes(colour = logFC, \n",
    "#                    size = percentExpr_cluster))  +    ## geom_point for circle illusion\n",
    "#   scale_color_gradient2(low = \"blue\",   mid = 'white',\n",
    "#                        high = \"red\")+       ## color of the corresponding aes\n",
    "#   scale_size(range = c(1, 4))+             ## to tune the size of circles\n",
    "#   theme_bw() + theme(axis.text.x = element_text(angle = 90, vjust = 0.5, hjust = 1))\n",
    "# ggsave(filename = 'data/cellphoneDB/clusterDEGs_and_TFs/DEGs_withinEpithelial/clusterDEGs_and_TFs/top5_TFs_DE_dotplot.pdf', dpi = 300, width = 10, height = 4)"
   ]
  },
  {
   "cell_type": "code",
   "execution_count": null,
   "metadata": {},
   "outputs": [],
   "source": []
  }
 ],
 "metadata": {
  "kernelspec": {
   "display_name": "R",
   "language": "R",
   "name": "ir"
  },
  "language_info": {
   "codemirror_mode": "r",
   "file_extension": ".r",
   "mimetype": "text/x-r-source",
   "name": "R",
   "pygments_lexer": "r",
   "version": "4.0.0"
  }
 },
 "nbformat": 4,
 "nbformat_minor": 4
}

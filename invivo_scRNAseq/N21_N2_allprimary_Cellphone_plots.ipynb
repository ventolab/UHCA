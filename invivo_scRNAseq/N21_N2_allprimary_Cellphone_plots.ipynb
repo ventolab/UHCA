{
 "cells": [
  {
   "cell_type": "markdown",
   "metadata": {},
   "source": [
    "#  Plots and tables from CellphoneDB"
   ]
  },
  {
   "cell_type": "code",
   "execution_count": 1,
   "metadata": {},
   "outputs": [
    {
     "name": "stderr",
     "output_type": "stream",
     "text": [
      "\n",
      "Attaching package: ‘dplyr’\n",
      "\n",
      "\n",
      "The following objects are masked from ‘package:stats’:\n",
      "\n",
      "    filter, lag\n",
      "\n",
      "\n",
      "The following objects are masked from ‘package:base’:\n",
      "\n",
      "    intersect, setdiff, setequal, union\n",
      "\n",
      "\n",
      "------------------------------------------------------------------------------\n",
      "\n",
      "You have loaded plyr after dplyr - this is likely to cause problems.\n",
      "If you need functions from both plyr and dplyr, please load plyr first, then dplyr:\n",
      "library(plyr); library(dplyr)\n",
      "\n",
      "------------------------------------------------------------------------------\n",
      "\n",
      "\n",
      "Attaching package: ‘plyr’\n",
      "\n",
      "\n",
      "The following objects are masked from ‘package:dplyr’:\n",
      "\n",
      "    arrange, count, desc, failwith, id, mutate, rename, summarise,\n",
      "    summarize\n",
      "\n",
      "\n",
      "\n",
      "********************************************************\n",
      "\n",
      "Note: As of version 1.0.0, cowplot does not change the\n",
      "\n",
      "  default ggplot2 theme anymore. To recover the previous\n",
      "\n",
      "  behavior, execute:\n",
      "  theme_set(theme_cowplot())\n",
      "\n",
      "********************************************************\n",
      "\n",
      "\n"
     ]
    }
   ],
   "source": [
    "library(dplyr)\n",
    "library(reshape2)\n",
    "library(plyr)\n",
    "library(RColorBrewer)\n",
    "library(ggplot2)\n",
    "library(pheatmap)\n",
    "library(cowplot)\n",
    "\n",
    "get_cells2genes = function(CPresults, genes2filter = NULL){\n",
    "    if( ! is.null(genes2filter) ){\n",
    "        CPresults = CPresults[ sapply(rownames(CPresults), function(x) any(unlist(Int2Gene[[x]]) %in%  genes2filter) ), ]\n",
    "        CPresults = CPresults[ , apply(CPresults, 2, sum) > 0]\n",
    "    }\n",
    "    # reformat as dataframe                                    \n",
    "    df = melt(as.matrix(CPresults))\n",
    "    df = subset(df, value == 1)\n",
    "    # extract interaction partners\n",
    "    xA = apply(df, 1, function(x){\n",
    "        data.frame(cell = strsplit(x[2], '--')[[1]][1],\n",
    "            gene = Int2Gene[[x[1]]]$partner_a)\n",
    "    })\n",
    "    xB = apply(df, 1, function(x){\n",
    "        data.frame(cell = strsplit(x[2], '--')[[1]][2],\n",
    "            gene = Int2Gene[[x[1]]]$partner_b)\n",
    "    })\n",
    "    x = append(xA, xB)\n",
    "    # Merge as data frame for plotting with ggplot\n",
    "    cells2genesCP = melt(x, id.vars = names(x[[1]]))\n",
    "    cells2genesCP = unique(cells2genesCP[,-3])\n",
    "    # transfer expression info                                  \n",
    "    cells2genesCP$id = paste(cells2genesCP$cell, cells2genesCP$gene)\n",
    "    cells2genesCP$AveExpr_cluster =  PERC$AveExpr_cluster[ match(cells2genesCP$id, PERC$id) ]\n",
    "    cells2genesCP$percentExpr_cluster =  PERC$percentExpr_cluster[ match(cells2genesCP$id, PERC$id) ]\n",
    "\n",
    "    return(cells2genesCP)\n",
    "}"
   ]
  },
  {
   "cell_type": "markdown",
   "metadata": {},
   "source": [
    "# Load Cellphone Genes"
   ]
  },
  {
   "cell_type": "code",
   "execution_count": 2,
   "metadata": {},
   "outputs": [],
   "source": [
    "# Define variables\n",
    "filter_int_user_curated = T #Use only user_curated interactions?\n",
    "per_cutoff = 0.1 # min % of cells in the cluster required  with expression > 0 for the gene\n",
    "pval_cutoff = 0.001 # max adjusted p-value requeired to consider a gene as DEG\n",
    "logFC_cutoff = 0 # min logFC to consider a gene as DEG"
   ]
  },
  {
   "cell_type": "code",
   "execution_count": null,
   "metadata": {},
   "outputs": [],
   "source": [
    "# Load cellphone database - genes and complexes file\n",
    "# Gene names\n",
    "genes_cpDB = read.delim('~/cellphoneDB/hsa_uniprot.txt', stringsAsFactors = F, sep = '\\t')\n",
    "\n",
    "# Complexes members\n",
    "com_cpDB = read.csv('~/farm/CellPhoneDB-data_smallmolecules/data/sources/complex_curated.csv', stringsAsFactors = F)\n",
    "com_cpDB = unique(com_cpDB)\n",
    "com_cpDB$complex_name = paste0('complex:', com_cpDB$complex_name)\n",
    "# Generate complexes2gene symbol dictionary\n",
    "Com2Gene = lapply(com_cpDB$complex_name, function(cx) subset(genes_cpDB, uniprot %in% unlist(com_cpDB[com_cpDB$complex_name == cx, 2:5]) )$gene_name )\n",
    "Com2Gene = lapply(Com2Gene, unique)\n",
    "names(Com2Gene) = com_cpDB$complex_name\n",
    "                  \n",
    "# Load interactions from cellphoneDB/out/means.txt output file                   \n",
    "int_cpDB = read.delim('data/cellphoneDB/out/means.txt', stringsAsFactors = F)[, 1:10]\n",
    "# MANDATORY: remove \"curated\" because we have cleaned and renamed them (this is a long story, just do it)\n",
    "int_cpDB = subset(int_cpDB, annotation_strategy != 'curated')\n",
    "# OPTIONAL: Use only user_curated interactions?\n",
    "if(filter_int_user_curated)\n",
    "    int_cpDB = subset(int_cpDB, annotation_strategy == 'user_curated')\n",
    "# Generate Int2Gene dictionary\n",
    "Int2Gene = apply(int_cpDB, 1, function(int) {\n",
    "    int = unname(int)\n",
    "    if(int[5] == '') # if partnerA is complex, then retrieve members from dictionary\n",
    "       partnerA = Com2Gene[[int[3]]]\n",
    "    else  # if partnerA is a single gene, take name from file\n",
    "       partnerA = int[5]\n",
    "    if(int[6] == '')  # if partnerB is complex, then retrieve members from dictionary\n",
    "       partnerB = Com2Gene[[int[4]]]\n",
    "    else  # if partnerB is a single gene, take name from file\n",
    "       partnerB = int[6]\n",
    "    list(partner_a=partnerA,partner_b=partnerB)\n",
    "    }) \n",
    "names(Int2Gene) = int_cpDB$interacting_pair"
   ]
  },
  {
   "cell_type": "markdown",
   "metadata": {},
   "source": [
    "## Load cellphone results file"
   ]
  },
  {
   "cell_type": "code",
   "execution_count": null,
   "metadata": {},
   "outputs": [],
   "source": [
    "CPresults = read.csv('data/cellphoneDB/out/DEapproach_results_pval0.001_logFC0.csv', stringsAsFactors = F)\n",
    "rownames(CPresults) = CPresults$X\n",
    "CPresults = CPresults[, -1]\n",
    "colnames(CPresults) = gsub('\\\\...', '--', colnames(CPresults))\n",
    "colnames(CPresults) = gsub('stromal_eS_S--M', 'stromal_eS_S-G2M', colnames(CPresults))\n",
    "colnames(CPresults) = gsub('_WIF1', '_CLU', colnames(CPresults))\n",
    "head(CPresults)"
   ]
  },
  {
   "cell_type": "markdown",
   "metadata": {},
   "source": [
    "# Load expression information"
   ]
  },
  {
   "cell_type": "code",
   "execution_count": null,
   "metadata": {},
   "outputs": [],
   "source": [
    "# Load percentage expression info\n",
    "# you need to put in a folder a file for each cluster that you included in cellphone\n",
    "# The file must contain at least three columns (aka, you can reuse the output of the DEG files):\n",
    "# - Gene: gene symbol\n",
    "# - cluster: cell type\n",
    "# - percentExpr_cluster: % of cells in the cluster with expression > 0 for the gene\n",
    "path_Exp = '/home/jovyan/farm/endometrium/data/cellphoneDB/clusterDEGs_and_TFs/DEGs/'\n",
    "\n",
    "# Load\n",
    "Per_files = list.files(path_Exp, pattern = 'DEGs.csv', full.names = T)\n",
    "Per_df = lapply(Per_files, read.csv, stringsAsFactors = F) \n",
    "\n",
    "# Set rownames as genes, for convenience\n",
    "Per_df = lapply(Per_df, function(x){ \n",
    "    rownames(x) = x$Gene\n",
    "    return(x) })\n",
    "\n",
    "# Remove genes not in cellphone\n",
    "Per_df = lapply(Per_df, function(x) subset(x, Gene %in% genes_cpDB$gene_name ))\n",
    "                \n",
    "# Build dictionary clusters2expressed genes                       \n",
    "names(Per_df) = sapply(Per_df, function(x) x$cluster[1])\n",
    "PERC = melt(Per_df, id.vars = names(Per_df[[1]]))\n",
    "PERC$cluster = gsub('_WIF1', '_CLU', PERC$cluster)\n",
    "PERC$id = paste(PERC$cluster, PERC$Gene)                      \n",
    "head(PERC)\n",
    "\n",
    "subset(Per_df$epithelial_LGR5, Gene == 'LGR4')"
   ]
  },
  {
   "cell_type": "markdown",
   "metadata": {},
   "source": [
    "# PLOTS: L/R per phase"
   ]
  },
  {
   "cell_type": "markdown",
   "metadata": {},
   "source": [
    "## Proliferative:  Receptors\n",
    "\n",
    "receptors; NOTCH4, NOTCH3, NOTCH2, NOTCH1, KREMEN1, LGR5, LGR4, LRP6, LRP5, FZD8, FZD7, FZD6, FZD5, FZD3, FZD2, FZD10, FZD1\n",
    "\n",
    "\n",
    "\n",
    "\n",
    "### Load genes of interest"
   ]
  },
  {
   "cell_type": "code",
   "execution_count": null,
   "metadata": {},
   "outputs": [],
   "source": [
    "genes2plot = c(read.csv('data/cellphoneDB/genes2plot/dotplot1.txt', stringsAsFactors = F, sep = '\\t', header = F)$V1,\n",
    "               read.csv('data/cellphoneDB/genes2plot/dotplot3.txt', stringsAsFactors = F, sep = '\\t', header = F)$V1)\n",
    "genes2plot"
   ]
  },
  {
   "cell_type": "markdown",
   "metadata": {},
   "source": [
    "### Generate cells2genes in cellphone for interactions containing genes of interest"
   ]
  },
  {
   "cell_type": "code",
   "execution_count": null,
   "metadata": {},
   "outputs": [],
   "source": [
    "cells2genes = get_cells2genes(CPresults, genes2filter = genes2plot)\n",
    "head(cells2genes)\n",
    "cells2genes$value = 1\n",
    "cells2genes$cell = as.character(cells2genes$cell)\n",
    "cells2genes$gene = as.character(cells2genes$gene)\n",
    "cells2genes$cell[ cells2genes$cell == 'TRUE' ] = 'Tcell'"
   ]
  },
  {
   "cell_type": "code",
   "execution_count": null,
   "metadata": {},
   "outputs": [],
   "source": [
    "# filter genes\n",
    "df = subset(cells2genes, gene %in% genes2plot)\n",
    "# ordre NOTCH4, NOTCH3, NOTCH2, NOTCH1, KREMEN1, LGR5, LGR4, LRP6, LRP5, FZD8, FZD7, FZD6, FZD5, FZD3, FZD2, FZD10, FZD1\n",
    "df$gene = factor(df$gene, levels = c(grep('NOTCH', sort(unique(df$gene)), value = T) ,\n",
    "                                     grep('KREMEN', sort(unique(df$gene)), value = T),\n",
    "                                     grep('LGR', sort(unique(df$gene)), value = T),\n",
    "                                     grep('LRP', sort(unique(df$gene)), value = T),\n",
    "                                     grep('FZD', sort(unique(df$gene)), value = T)))\n",
    "# filter cells\n",
    "df$cell = gsub('_WIF1', '_CLU', df$cell)\n",
    "cells = c('epithelial_ciliated', 'epithelial_LGR5', 'epithelial_proliferative', 'epithelial_CLU_1', 'epithelial_CLU_2')\n",
    "df = df[ df$cell %in% cells ,]\n",
    "# ordre epi_ciliated; epi_LGR5; epi_proliferative; Epi_CLU1;Epi_CLU2; \n",
    "df$cell = factor(df$cell, levels = cells)\n",
    "ggplot(df,  aes(y = gene,\n",
    "                    x = cell,\n",
    "                    color = AveExpr_cluster,\n",
    "                    size = percentExpr_cluster)) +      \n",
    "    geom_point() + \n",
    "    scale_color_gradient(low = 'orange', high = 'blue') +\n",
    "    theme_bw() + theme(axis.text.x = element_text(angle = 90, vjust = 0.5, hjust = 1)) \n",
    "#     theme(panel.grid.major = element_blank(), panel.grid.minor = element_blank())\n",
    "ggsave(filename = 'data/cellphoneDB/out/dotplotReceptors_proliferative.pdf', dpi = 300, width = 6, height = 5)"
   ]
  },
  {
   "cell_type": "markdown",
   "metadata": {},
   "source": [
    "## Proliferative: Ligands\n",
    "\n",
    " ligands: JAG2, JAG1, DLL1, NDP, SOSTDC1, WIF1, DKK1, RSPO3, RSPO1, WNT7A, WNT6, WNT5B, WNT5A, WNT4, WNT2B, WNT2, WNT11\n",
    "\n",
    "\n",
    "\n",
    "\n",
    "### Load genes of interest"
   ]
  },
  {
   "cell_type": "code",
   "execution_count": null,
   "metadata": {},
   "outputs": [],
   "source": [
    "genes2plot = c(read.csv('data/cellphoneDB/genes2plot/dotplot2.txt', stringsAsFactors = F, sep = '\\t', header = F)$V1,\n",
    "               read.csv('data/cellphoneDB/genes2plot/dotplot4.txt', stringsAsFactors = F, sep = '\\t', header = F)$V1)\n",
    "genes2plot"
   ]
  },
  {
   "cell_type": "markdown",
   "metadata": {},
   "source": [
    "### Generate cells2genes in cellphone for interactions containing genes of interest"
   ]
  },
  {
   "cell_type": "code",
   "execution_count": null,
   "metadata": {},
   "outputs": [],
   "source": [
    "cells2genes = get_cells2genes(CPresults, genes2filter = genes2plot)\n",
    "head(cells2genes)\n",
    "cells2genes$value = 1\n",
    "cells2genes$cell = as.character(cells2genes$cell)\n",
    "cells2genes$gene = as.character(cells2genes$gene)\n",
    "cells2genes$cell[ cells2genes$cell == 'TRUE' ] = 'Tcell'"
   ]
  },
  {
   "cell_type": "code",
   "execution_count": null,
   "metadata": {},
   "outputs": [],
   "source": [
    "unique(cells2genes$cell)"
   ]
  },
  {
   "cell_type": "code",
   "execution_count": null,
   "metadata": {},
   "outputs": [],
   "source": [
    "# filter genes\n",
    "df = subset(cells2genes, gene %in% genes2plot)\n",
    "# ordre JAG2, JAG1, DLL1, NDP, SOSTDC1, WIF1, DKK1, RSPO3, RSPO1, WNT7A, WNT6, WNT5B, WNT5A, WNT4, WNT2B, WNT2, WNT11\n",
    "df$gene = factor(df$gene, levels = c(grep('JAG', sort(unique(df$gene)), value = T),\n",
    "                                     grep('DLL', sort(unique(df$gene)), value = T),\n",
    "                                     'NDP', 'SOSTDC1','WIF1','DKK1',\n",
    "                                     grep('RSP', sort(unique(df$gene)), value = T),\n",
    "                                     grep('WNT', sort(unique(df$gene)), value = T)\n",
    "                                    ))\n",
    "# filter cells \n",
    "df$cell = gsub('_WIF1', '_CLU', df$cell)\n",
    "cells = c( 'epithelial_CLU_1', 'epithelial_CLU_2', 'fibroblasts',  'stromal_eS_G2M', 'stromal_eS_S-G2M', 'stromal_eS', \n",
    "          'epithelial_proliferative', 'epithelial_LGR5', 'epithelial_ciliated')\n",
    "df = subset(df, cell %in% cells)\n",
    "# ordre Epi_CLU2 (antes WIF2); Epi_CLU1 (antes WIF1); Fibro_basal; stromal_eS_G2M; stromal_eS_G2M; stromal_eS; \n",
    "# epi_proliferative; epi_LGR5; epi_ciliated\n",
    "df$cell = factor(df$cell, levels = cells )\n",
    "ggplot(df,  aes(y = gene,\n",
    "                    x = cell,\n",
    "                    color = AveExpr_cluster,\n",
    "                    size = percentExpr_cluster)) +      \n",
    "    geom_point() + \n",
    "    scale_color_gradient(low = 'orange', high = 'blue') +\n",
    "    theme_bw() + theme(axis.text.x = element_text(angle = 90, vjust = 0.5, hjust = 1)) \n",
    "#     theme(panel.grid.major = element_blank(), panel.grid.minor = element_blank())\n",
    "ggsave(filename = 'data/cellphoneDB/out/dotplotLigands_proliferative.pdf', dpi = 300, width = 6, height = 5)"
   ]
  },
  {
   "cell_type": "markdown",
   "metadata": {},
   "source": [
    "## Secretory:  Receptors\n",
    "\n",
    "receptors; NOTCH4, NOTCH3, NOTCH2, NOTCH1, KREMEN1, LGR5, LGR4, LRP6, LRP5, FZD8, FZD7, FZD6, FZD5, FZD3, FZD2, FZD10, FZD1\n",
    "\n",
    "\n",
    "\n",
    "\n",
    "### Load genes of interest"
   ]
  },
  {
   "cell_type": "code",
   "execution_count": null,
   "metadata": {},
   "outputs": [],
   "source": [
    "genes2plot = c(read.csv('data/cellphoneDB/genes2plot/dotplot1.txt', stringsAsFactors = F, sep = '\\t', header = F)$V1,\n",
    "               read.csv('data/cellphoneDB/genes2plot/dotplot3.txt', stringsAsFactors = F, sep = '\\t', header = F)$V1)\n",
    "genes2plot"
   ]
  },
  {
   "cell_type": "markdown",
   "metadata": {},
   "source": [
    "### Generate cells2genes in cellphone for interactions containing genes of interest"
   ]
  },
  {
   "cell_type": "code",
   "execution_count": null,
   "metadata": {},
   "outputs": [],
   "source": [
    "cells2genes = get_cells2genes(CPresults, genes2filter = genes2plot)\n",
    "head(cells2genes)\n",
    "cells2genes$value = 1\n",
    "cells2genes$cell = as.character(cells2genes$cell)\n",
    "cells2genes$gene = as.character(cells2genes$gene)\n",
    "cells2genes$cell[ cells2genes$cell == 'TRUE' ] = 'Tcell'"
   ]
  },
  {
   "cell_type": "code",
   "execution_count": null,
   "metadata": {},
   "outputs": [],
   "source": [
    "# filter genes\n",
    "df = subset(cells2genes, gene %in% genes2plot)\n",
    "# ordre NOTCH4, NOTCH3, NOTCH2, NOTCH1, KREMEN1, LGR5, LGR4, LRP6, LRP5, FZD8, FZD7, FZD6, FZD5, FZD3, FZD2, FZD10, FZD1\n",
    "df$gene = factor(df$gene, levels = c(grep('NOTCH', sort(unique(df$gene)), value = T) ,\n",
    "                                     grep('KREMEN', sort(unique(df$gene)), value = T),\n",
    "                                     grep('LGR', sort(unique(df$gene)), value = T),\n",
    "                                     grep('LRP', sort(unique(df$gene)), value = T),\n",
    "                                     grep('FZD', sort(unique(df$gene)), value = T)))\n",
    "# filter cells\n",
    "df$cell = gsub('_WIF1', '_CLU', df$cell)\n",
    "cells = c('epithelial_ciliated', 'epithelial_LGR5', 'epithelial_glandular', 'epithelial_CLU_1', 'epithelial_CLU_2')\n",
    "df = df[ df$cell %in% cells ,]\n",
    "# ordre epi_ciliated; epi_LGR5; epi_proliferative; Epi_CLU1;Epi_CLU2; \n",
    "df$cell = factor(df$cell, levels = cells)\n",
    "ggplot(df,  aes(y = gene,\n",
    "                    x = cell,\n",
    "                    color = AveExpr_cluster,\n",
    "                    size = percentExpr_cluster)) +      \n",
    "    geom_point() + \n",
    "    scale_color_gradient(low = 'orange', high = 'blue') +\n",
    "    theme_bw() + theme(axis.text.x = element_text(angle = 90, vjust = 0.5, hjust = 1)) \n",
    "#     theme(panel.grid.major = element_blank(), panel.grid.minor = element_blank())\n",
    "ggsave(filename = 'data/cellphoneDB/out/dotplotReceptors_secretory.pdf', dpi = 300, width = 6, height = 5)"
   ]
  },
  {
   "cell_type": "markdown",
   "metadata": {},
   "source": [
    "## Secretory: Ligands\n",
    "\n",
    " ligands: JAG2, JAG1, DLL1, NDP, SOSTDC1, WIF1, DKK1, RSPO3, RSPO1, WNT7A, WNT6, WNT5B, WNT5A, WNT4, WNT2B, WNT2, WNT11\n",
    "\n",
    "\n",
    "\n",
    "\n",
    "### Load genes of interest"
   ]
  },
  {
   "cell_type": "code",
   "execution_count": null,
   "metadata": {},
   "outputs": [],
   "source": [
    "genes2plot = c(read.csv('data/cellphoneDB/genes2plot/dotplot2.txt', stringsAsFactors = F, sep = '\\t', header = F)$V1,\n",
    "               read.csv('data/cellphoneDB/genes2plot/dotplot4.txt', stringsAsFactors = F, sep = '\\t', header = F)$V1)\n",
    "genes2plot"
   ]
  },
  {
   "cell_type": "markdown",
   "metadata": {},
   "source": [
    "### Generate cells2genes in cellphone for interactions containing genes of interest"
   ]
  },
  {
   "cell_type": "code",
   "execution_count": null,
   "metadata": {},
   "outputs": [],
   "source": [
    "cells2genes = get_cells2genes(CPresults, genes2filter = genes2plot)\n",
    "head(cells2genes)\n",
    "cells2genes$value = 1\n",
    "cells2genes$cell = as.character(cells2genes$cell)\n",
    "cells2genes$gene = as.character(cells2genes$gene)\n",
    "cells2genes$cell[ cells2genes$cell == 'TRUE' ] = 'Tcell'"
   ]
  },
  {
   "cell_type": "code",
   "execution_count": null,
   "metadata": {},
   "outputs": [],
   "source": [
    "unique(cells2genes$cell)"
   ]
  },
  {
   "cell_type": "code",
   "execution_count": null,
   "metadata": {},
   "outputs": [],
   "source": [
    "# filter genes\n",
    "df = subset(cells2genes, gene %in% genes2plot)\n",
    "# ordre JAG2, JAG1, DLL1, NDP, SOSTDC1, WIF1, DKK1, RSPO3, RSPO1, WNT7A, WNT6, WNT5B, WNT5A, WNT4, WNT2B, WNT2, WNT11\n",
    "df$gene = factor(df$gene, levels = c(grep('JAG', sort(unique(df$gene)), value = T),\n",
    "                                     grep('DLL', sort(unique(df$gene)), value = T),\n",
    "                                     'NDP', 'SOSTDC1','WIF1','DKK1',\n",
    "                                     grep('RSP', sort(unique(df$gene)), value = T),\n",
    "                                     grep('WNT', sort(unique(df$gene)), value = T)\n",
    "                                    ))\n",
    "# filter cells \n",
    "df$cell = gsub('_WIF1', '_CLU', df$cell)\n",
    "cells = c('epithelial_CLU_2',  'epithelial_CLU_1', 'fibroblasts',  'stromal_dS', \n",
    "          'epithelial_glandular', 'epithelial_LGR5', 'epithelial_ciliated')\n",
    "df = subset(df, cell %in% cells)\n",
    "# ordre Epi_CLU2 (antes WIF2); Epi_CLU1 (antes WIF1); Fibro_basal; stromal_dS; epi_glandular; epi_LGR5;  epi_ciliated\n",
    "df$cell = factor(df$cell, levels = cells )\n",
    "ggplot(df,  aes(y = gene,\n",
    "                    x = cell,\n",
    "                    color = AveExpr_cluster,\n",
    "                    size = percentExpr_cluster)) +      \n",
    "    geom_point() + \n",
    "    scale_color_gradient(low = 'orange', high = 'blue') +\n",
    "    theme_bw() + theme(axis.text.x = element_text(angle = 90, vjust = 0.5, hjust = 1)) \n",
    "#     theme(panel.grid.major = element_blank(), panel.grid.minor = element_blank())\n",
    "ggsave(filename = 'data/cellphoneDB/out/dotplotLigands_secretory.pdf', dpi = 300, width = 6, height = 5)"
   ]
  },
  {
   "cell_type": "markdown",
   "metadata": {},
   "source": [
    "# Generate tables for microenviroments\n",
    "\n",
    "Lumen:\n",
    " - ciliated & LGR5\n",
    " - LGR5 & LGR5\n",
    " - ciliated & ciliated\n",
    "\n",
    "Functional proliferative:\n",
    " - LGR5 & fibro_eS_G2M\n",
    " - LGR5 & fibro_eS_S_G2M\n",
    " - LGR5 & fibro_eS\n",
    " - LGR5 & proliferative\n",
    " - LGR5 & LGR5\n",
    " - cproliferative & fibro_eS_G2M\n",
    " - cproliferative & fibro_eS_S_G2M\n",
    " - cproliferative & fibro_eS\n",
    " - cproliferative & proliferative\n",
    " - cproliferative & LGR5\n",
    "\n",
    "Functional secretory:\n",
    " - epi secretory & stromal dS\n",
    " - epi secretory & epi secretory\n",
    "\n",
    "Basal:\n",
    " - CLU2-CLU1\n",
    " - CLU2-CLU2\n",
    " - CLU1-CLU1\n",
    " - CLU1-fibro_basal\n",
    " - CLU2-fibro_basal\n"
   ]
  },
  {
   "cell_type": "code",
   "execution_count": null,
   "metadata": {},
   "outputs": [],
   "source": [
    "colnames(CPresults) = gsub('_WIF1', '_CLU', colnames(CPresults))\n",
    "cells = strsplit(colnames(CPresults), split = '--') %>% unlist(.) %>% unique(.) %>% sort(.)\n",
    "cells"
   ]
  },
  {
   "cell_type": "code",
   "execution_count": null,
   "metadata": {},
   "outputs": [],
   "source": [
    "lumen = c('epithelial_ciliated', 'epithelial_LGR5')\n",
    "functionalP = c('epithelial_LGR5', 'stromal_eS', 'stromal_eS_G2M', 'stromal_eS_S-G2M', 'epithelial_proliferative')\n",
    "functionalS = c('epithelial_glandular', 'stromal_dS')\n",
    "basal = c('fibroblasts', 'epithelial_CLU_1', 'epithelial_CLU_2')"
   ]
  },
  {
   "cell_type": "code",
   "execution_count": null,
   "metadata": {},
   "outputs": [],
   "source": [
    "filterCellPairs = function(cells){\n",
    "    idx = sapply(strsplit(colnames(CPresults), split = '--'), function(x) all(unlist(x) %in% cells) ) %>% which(.)\n",
    "    mat = CPresults[, idx]            \n",
    "    mat = mat[, colSums(mat) > 0 ]    \n",
    "    mat = mat[rowSums(mat) > 0 , ]\n",
    "    return(mat)\n",
    "}\n",
    "lumen_mat = filterCellPairs(lumen)  \n",
    "fP_mat = filterCellPairs(functionalP)   \n",
    "fS_mat = filterCellPairs(functionalS)   \n",
    "basal_mat = filterCellPairs(basal)         \n",
    "\n",
    "dim(lumen_mat)\n",
    "dim(fP_mat)\n",
    "dim(fS_mat)\n",
    "dim(basal_mat)\n",
    "                 \n",
    "write.csv(lumen_mat, file = 'data/cellphoneDB/out/DEapproach_results_pval0.001_logFC0_lumen.csv', row.names=T )\n",
    "write.csv(fP_mat, file = 'data/cellphoneDB/out/DEapproach_results_pval0.001_logFC0_functionalP.csv', row.names=T )\n",
    "write.csv(fS_mat, file = 'data/cellphoneDB/out/DEapproach_results_pval0.001_logFC0_functionalS.csv', row.names=T )\n",
    "write.csv(basal_mat, file = 'data/cellphoneDB/out/DEapproach_results_pval0.001_logFC0_basal.csv', row.names=T )"
   ]
  },
  {
   "cell_type": "markdown",
   "metadata": {},
   "source": [
    "# Plot receptros for these ligands"
   ]
  },
  {
   "cell_type": "code",
   "execution_count": null,
   "metadata": {},
   "outputs": [],
   "source": [
    "genes = c('RSPO3', 'WNT4', 'FN1', 'IGF1')"
   ]
  },
  {
   "cell_type": "code",
   "execution_count": null,
   "metadata": {},
   "outputs": [],
   "source": [
    "idx = sapply( Int2Gene[ rownames(CPresults) ], function(x) any(unlist(x) %in% genes ) ) %>% which(.)"
   ]
  },
  {
   "cell_type": "code",
   "execution_count": null,
   "metadata": {},
   "outputs": [],
   "source": [
    "df = subset(int_cpDB, interacting_pair %in% names(Int2Gene[ rownames(CPresults) ])[idx])\n",
    "write.csv(df, file = 'data/cellphoneDB/out/complexes_WNT4_IGF1_FN1_RSPO3.csv', rownames = F)"
   ]
  },
  {
   "cell_type": "code",
   "execution_count": null,
   "metadata": {},
   "outputs": [],
   "source": [
    "mat = CPresults[idx , ]\n",
    "mat = mat[, colSums(mat) > 0 ]    \n",
    "mat = mat[rowSums(mat) > 0 , ]\n",
    "mat = mat[, colSums(mat) > 0 ]    \n",
    "dim(mat)"
   ]
  },
  {
   "cell_type": "code",
   "execution_count": null,
   "metadata": {},
   "outputs": [],
   "source": [
    "intOfInterest = lapply(genes, function(g)  \n",
    "    Int2Gene[ rownames(mat) ][ sapply( Int2Gene[ rownames(mat) ], function(x) any(unlist(x) %in% g ) )]  )\n",
    "names(intOfInterest) = genes"
   ]
  },
  {
   "cell_type": "code",
   "execution_count": null,
   "metadata": {},
   "outputs": [],
   "source": [
    "genes2plot = lapply(intOfInterest, function(x) sort(setdiff(unlist(x), genes)))\n",
    "genes2plot"
   ]
  },
  {
   "cell_type": "code",
   "execution_count": null,
   "metadata": {},
   "outputs": [],
   "source": [
    "genes2plot = unlist(genes2plot)"
   ]
  },
  {
   "cell_type": "markdown",
   "metadata": {},
   "source": [
    "### Generate cells2genes in cellphone for interactions containing genes of interest"
   ]
  },
  {
   "cell_type": "code",
   "execution_count": null,
   "metadata": {},
   "outputs": [],
   "source": [
    "cells2genes = get_cells2genes(CPresults, genes2filter = genes2plot)\n",
    "head(cells2genes)\n",
    "cells2genes$value = 1\n",
    "cells2genes$cell = as.character(cells2genes$cell)\n",
    "cells2genes$gene = as.character(cells2genes$gene)\n",
    "cells2genes$cell[ cells2genes$cell == 'TRUE' ] = 'Tcell'"
   ]
  },
  {
   "cell_type": "code",
   "execution_count": null,
   "metadata": {},
   "outputs": [],
   "source": [
    "unique(cells2genes$cell)"
   ]
  },
  {
   "cell_type": "code",
   "execution_count": null,
   "metadata": {},
   "outputs": [],
   "source": [
    "# filter genes\n",
    "df = subset(cells2genes, gene %in% genes2plot)\n",
    "# ordre JAG2, JAG1, DLL1, NDP, SOSTDC1, WIF1, DKK1, RSPO3, RSPO1, WNT7A, WNT6, WNT5B, WNT5A, WNT4, WNT2B, WNT2, WNT11\n",
    "df$gene = factor(df$gene, levels = genes2plot)\n",
    "# filter cells \n",
    "df$cell = gsub('_WIF1', '_CLU', df$cell)\n",
    "cells = c('epithelial_ciliated', 'epithelial_LGR5',  'epithelial_proliferative',\n",
    "          'epithelial_glandular',  'epithelial_CLU_2',  'epithelial_CLU_1', 'epithelial_LYPD1')\n",
    "df = subset(df, cell %in% cells)\n",
    "# ordre Epi_CLU2 (antes WIF2); Epi_CLU1 (antes WIF1); Fibro_basal; stromal_dS; epi_glandular; epi_LGR5;  epi_ciliated\n",
    "df$cell = factor(df$cell, levels = cells )\n",
    "ggplot(df,  aes(y = gene,\n",
    "                    x = cell,\n",
    "                    color = AveExpr_cluster,\n",
    "                    size = percentExpr_cluster)) +      \n",
    "    geom_point() + \n",
    "    scale_color_gradient(low = 'orange', high = 'blue') +\n",
    "    theme_bw() + theme(axis.text.x = element_text(angle = 90, vjust = 0.5, hjust = 1)) \n",
    "#     theme(panel.grid.major = element_blank(), panel.grid.minor = element_blank())\n",
    "ggsave(filename = 'data/cellphoneDB/out/dotplot_ligandsOf_WNT4_IGF1_FN1_RSPO3.pdf', dpi = 300, width = 6, height = 7)"
   ]
  },
  {
   "cell_type": "code",
   "execution_count": null,
   "metadata": {},
   "outputs": [],
   "source": []
  }
 ],
 "metadata": {
  "kernelspec": {
   "display_name": "R",
   "language": "R",
   "name": "ir"
  },
  "language_info": {
   "codemirror_mode": "r",
   "file_extension": ".r",
   "mimetype": "text/x-r-source",
   "name": "R",
   "pygments_lexer": "r",
   "version": "4.0.0"
  }
 },
 "nbformat": 4,
 "nbformat_minor": 4
}

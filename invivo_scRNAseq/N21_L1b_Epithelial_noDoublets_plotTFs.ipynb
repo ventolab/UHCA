{
 "cells": [
  {
   "cell_type": "markdown",
   "metadata": {},
   "source": [
    "#  Plot TFs"
   ]
  },
  {
   "cell_type": "code",
   "execution_count": 218,
   "metadata": {},
   "outputs": [],
   "source": [
    "library(dplyr)\n",
    "library(reshape2)\n",
    "library(plyr)\n",
    "library(RColorBrewer)\n",
    "library(ggplot2)\n",
    "library(pheatmap)\n",
    "library(cowplot)"
   ]
  },
  {
   "cell_type": "markdown",
   "metadata": {},
   "source": [
    "## Load TF activities/enrichemnt file"
   ]
  },
  {
   "cell_type": "code",
   "execution_count": 219,
   "metadata": {},
   "outputs": [
    {
     "data": {
      "text/html": [
       "<table>\n",
       "<caption>A data.frame: 6 × 7</caption>\n",
       "<thead>\n",
       "\t<tr><th></th><th scope=col>cl_name</th><th scope=col>Regulon</th><th scope=col>NES</th><th scope=col>p.value</th><th scope=col>FDR</th><th scope=col>Size</th><th scope=col>id</th></tr>\n",
       "\t<tr><th></th><th scope=col>&lt;chr&gt;</th><th scope=col>&lt;chr&gt;</th><th scope=col>&lt;dbl&gt;</th><th scope=col>&lt;dbl&gt;</th><th scope=col>&lt;dbl&gt;</th><th scope=col>&lt;int&gt;</th><th scope=col>&lt;chr&gt;</th></tr>\n",
       "</thead>\n",
       "<tbody>\n",
       "\t<tr><th scope=row>2</th><td>cl_glandular_DEGs         </td><td>CSRNP1_E</td><td>16.31402</td><td>7.845742e-60</td><td>8.346663e-58</td><td>152</td><td>cl_glandular_DEGs CSRNP1_E         </td></tr>\n",
       "\t<tr><th scope=row>4</th><td>cl_ciliated_DEGs          </td><td>ZNF19_E </td><td>15.88198</td><td>8.447424e-57</td><td>2.920697e-54</td><td>175</td><td>cl_ciliated_DEGs ZNF19_E           </td></tr>\n",
       "\t<tr><th scope=row>5</th><td>cl_ciliated_DEGs          </td><td>FOXJ1_E </td><td>15.11627</td><td>1.265129e-51</td><td>3.499348e-49</td><td>149</td><td>cl_ciliated_DEGs FOXJ1_E           </td></tr>\n",
       "\t<tr><th scope=row>7</th><td>cl_pre-secretory PAEP_DEGs</td><td>ZNF594_E</td><td>13.45049</td><td>3.058530e-41</td><td>1.409982e-39</td><td>197</td><td>cl_pre-secretory PAEP_DEGs ZNF594_E</td></tr>\n",
       "\t<tr><th scope=row>8</th><td>cl_pre-secretory FHL2_DEGs</td><td>CSRNP1_E</td><td>12.87730</td><td>6.041397e-38</td><td>2.088813e-35</td><td>152</td><td>cl_pre-secretory FHL2_DEGs CSRNP1_E</td></tr>\n",
       "\t<tr><th scope=row>9</th><td>cl_pre-secretory PAEP_DEGs</td><td>ZNF493_E</td><td>12.70168</td><td>5.787402e-37</td><td>1.819086e-35</td><td>167</td><td>cl_pre-secretory PAEP_DEGs ZNF493_E</td></tr>\n",
       "</tbody>\n",
       "</table>\n"
      ],
      "text/latex": [
       "A data.frame: 6 × 7\n",
       "\\begin{tabular}{r|lllllll}\n",
       "  & cl\\_name & Regulon & NES & p.value & FDR & Size & id\\\\\n",
       "  & <chr> & <chr> & <dbl> & <dbl> & <dbl> & <int> & <chr>\\\\\n",
       "\\hline\n",
       "\t2 & cl\\_glandular\\_DEGs          & CSRNP1\\_E & 16.31402 & 7.845742e-60 & 8.346663e-58 & 152 & cl\\_glandular\\_DEGs CSRNP1\\_E         \\\\\n",
       "\t4 & cl\\_ciliated\\_DEGs           & ZNF19\\_E  & 15.88198 & 8.447424e-57 & 2.920697e-54 & 175 & cl\\_ciliated\\_DEGs ZNF19\\_E           \\\\\n",
       "\t5 & cl\\_ciliated\\_DEGs           & FOXJ1\\_E  & 15.11627 & 1.265129e-51 & 3.499348e-49 & 149 & cl\\_ciliated\\_DEGs FOXJ1\\_E           \\\\\n",
       "\t7 & cl\\_pre-secretory PAEP\\_DEGs & ZNF594\\_E & 13.45049 & 3.058530e-41 & 1.409982e-39 & 197 & cl\\_pre-secretory PAEP\\_DEGs ZNF594\\_E\\\\\n",
       "\t8 & cl\\_pre-secretory FHL2\\_DEGs & CSRNP1\\_E & 12.87730 & 6.041397e-38 & 2.088813e-35 & 152 & cl\\_pre-secretory FHL2\\_DEGs CSRNP1\\_E\\\\\n",
       "\t9 & cl\\_pre-secretory PAEP\\_DEGs & ZNF493\\_E & 12.70168 & 5.787402e-37 & 1.819086e-35 & 167 & cl\\_pre-secretory PAEP\\_DEGs ZNF493\\_E\\\\\n",
       "\\end{tabular}\n"
      ],
      "text/markdown": [
       "\n",
       "A data.frame: 6 × 7\n",
       "\n",
       "| <!--/--> | cl_name &lt;chr&gt; | Regulon &lt;chr&gt; | NES &lt;dbl&gt; | p.value &lt;dbl&gt; | FDR &lt;dbl&gt; | Size &lt;int&gt; | id &lt;chr&gt; |\n",
       "|---|---|---|---|---|---|---|---|\n",
       "| 2 | cl_glandular_DEGs          | CSRNP1_E | 16.31402 | 7.845742e-60 | 8.346663e-58 | 152 | cl_glandular_DEGs CSRNP1_E          |\n",
       "| 4 | cl_ciliated_DEGs           | ZNF19_E  | 15.88198 | 8.447424e-57 | 2.920697e-54 | 175 | cl_ciliated_DEGs ZNF19_E            |\n",
       "| 5 | cl_ciliated_DEGs           | FOXJ1_E  | 15.11627 | 1.265129e-51 | 3.499348e-49 | 149 | cl_ciliated_DEGs FOXJ1_E            |\n",
       "| 7 | cl_pre-secretory PAEP_DEGs | ZNF594_E | 13.45049 | 3.058530e-41 | 1.409982e-39 | 197 | cl_pre-secretory PAEP_DEGs ZNF594_E |\n",
       "| 8 | cl_pre-secretory FHL2_DEGs | CSRNP1_E | 12.87730 | 6.041397e-38 | 2.088813e-35 | 152 | cl_pre-secretory FHL2_DEGs CSRNP1_E |\n",
       "| 9 | cl_pre-secretory PAEP_DEGs | ZNF493_E | 12.70168 | 5.787402e-37 | 1.819086e-35 | 167 | cl_pre-secretory PAEP_DEGs ZNF493_E |\n",
       "\n"
      ],
      "text/plain": [
       "  cl_name                    Regulon  NES      p.value      FDR          Size\n",
       "2 cl_glandular_DEGs          CSRNP1_E 16.31402 7.845742e-60 8.346663e-58 152 \n",
       "4 cl_ciliated_DEGs           ZNF19_E  15.88198 8.447424e-57 2.920697e-54 175 \n",
       "5 cl_ciliated_DEGs           FOXJ1_E  15.11627 1.265129e-51 3.499348e-49 149 \n",
       "7 cl_pre-secretory PAEP_DEGs ZNF594_E 13.45049 3.058530e-41 1.409982e-39 197 \n",
       "8 cl_pre-secretory FHL2_DEGs CSRNP1_E 12.87730 6.041397e-38 2.088813e-35 152 \n",
       "9 cl_pre-secretory PAEP_DEGs ZNF493_E 12.70168 5.787402e-37 1.819086e-35 167 \n",
       "  id                                 \n",
       "2 cl_glandular_DEGs CSRNP1_E         \n",
       "4 cl_ciliated_DEGs ZNF19_E           \n",
       "5 cl_ciliated_DEGs FOXJ1_E           \n",
       "7 cl_pre-secretory PAEP_DEGs ZNF594_E\n",
       "8 cl_pre-secretory FHL2_DEGs CSRNP1_E\n",
       "9 cl_pre-secretory PAEP_DEGs ZNF493_E"
      ]
     },
     "metadata": {},
     "output_type": "display_data"
    }
   ],
   "source": [
    "TF_activities = read.csv('figures_primaryEpithelial_clean/cluster_markers/geneset_cl_enrichment_TFs.csv', stringsAsFactors = F)\n",
    "TF_activities = TF_activities[order(TF_activities$NES, decreasing = T), ]\n",
    "TF_activities$id = paste(TF_activities$cl_name, TF_activities$Regulon)\n",
    "\n",
    "head(TF_activities)"
   ]
  },
  {
   "cell_type": "markdown",
   "metadata": {},
   "source": [
    "## Load TF agreement file to retrieve DE sign"
   ]
  },
  {
   "cell_type": "code",
   "execution_count": 220,
   "metadata": {},
   "outputs": [
    {
     "data": {
      "text/html": [
       "<table>\n",
       "<caption>A data.frame: 6 × 10</caption>\n",
       "<thead>\n",
       "\t<tr><th></th><th scope=col>cl</th><th scope=col>TF</th><th scope=col>TF_expression</th><th scope=col>TF_expression_pvals_adj</th><th scope=col>TF_activity</th><th scope=col>TF_activity_pvals_adj</th><th scope=col>TF_activity_score</th><th scope=col>L1</th><th scope=col>id</th><th scope=col>annot</th></tr>\n",
       "\t<tr><th></th><th scope=col>&lt;chr&gt;</th><th scope=col>&lt;chr&gt;</th><th scope=col>&lt;chr&gt;</th><th scope=col>&lt;dbl&gt;</th><th scope=col>&lt;chr&gt;</th><th scope=col>&lt;dbl&gt;</th><th scope=col>&lt;chr&gt;</th><th scope=col>&lt;chr&gt;</th><th scope=col>&lt;chr&gt;</th><th scope=col>&lt;chr&gt;</th></tr>\n",
       "</thead>\n",
       "<tbody>\n",
       "\t<tr><th scope=row>1</th><td>cl_ciliated_DEGs</td><td>FOXJ1 </td><td>upregulated  </td><td> 0.00e+00</td><td>active_regulon  </td><td>3.50e-49</td><td>FOXJ1_E </td><td>cl_ciliated_DEGs</td><td>cl_ciliated_DEGs FOXJ1_E </td><td>+</td></tr>\n",
       "\t<tr><th scope=row>2</th><td>cl_ciliated_DEGs</td><td>RFX2  </td><td>upregulated  </td><td> 0.00e+00</td><td>active_regulon  </td><td>4.18e-05</td><td>RFX2_C  </td><td>cl_ciliated_DEGs</td><td>cl_ciliated_DEGs RFX2_C  </td><td>+</td></tr>\n",
       "\t<tr><th scope=row>3</th><td>cl_ciliated_DEGs</td><td>HES6  </td><td>upregulated  </td><td> 0.00e+00</td><td>active_regulon  </td><td>3.48e-11</td><td>HES6_E  </td><td>cl_ciliated_DEGs</td><td>cl_ciliated_DEGs HES6_E  </td><td>+</td></tr>\n",
       "\t<tr><th scope=row>4</th><td>cl_ciliated_DEGs</td><td>ZSCAN1</td><td>upregulated  </td><td>1.62e-206</td><td>active_regulon  </td><td>6.09e-17</td><td>ZSCAN1_E</td><td>cl_ciliated_DEGs</td><td>cl_ciliated_DEGs ZSCAN1_E</td><td>+</td></tr>\n",
       "\t<tr><th scope=row>5</th><td>cl_ciliated_DEGs</td><td>TCF7  </td><td>upregulated  </td><td>1.24e-141</td><td>inactive_regulon</td><td>1.40e-03</td><td>TCF7_B  </td><td>cl_ciliated_DEGs</td><td>cl_ciliated_DEGs TCF7_B  </td><td>+</td></tr>\n",
       "\t<tr><th scope=row>6</th><td>cl_ciliated_DEGs</td><td>ID3   </td><td>downregulated</td><td> 7.08e-94</td><td>active_regulon  </td><td>1.25e-03</td><td>ID3_C   </td><td>cl_ciliated_DEGs</td><td>cl_ciliated_DEGs ID3_C   </td><td>-</td></tr>\n",
       "</tbody>\n",
       "</table>\n"
      ],
      "text/latex": [
       "A data.frame: 6 × 10\n",
       "\\begin{tabular}{r|llllllllll}\n",
       "  & cl & TF & TF\\_expression & TF\\_expression\\_pvals\\_adj & TF\\_activity & TF\\_activity\\_pvals\\_adj & TF\\_activity\\_score & L1 & id & annot\\\\\n",
       "  & <chr> & <chr> & <chr> & <dbl> & <chr> & <dbl> & <chr> & <chr> & <chr> & <chr>\\\\\n",
       "\\hline\n",
       "\t1 & cl\\_ciliated\\_DEGs & FOXJ1  & upregulated   &  0.00e+00 & active\\_regulon   & 3.50e-49 & FOXJ1\\_E  & cl\\_ciliated\\_DEGs & cl\\_ciliated\\_DEGs FOXJ1\\_E  & +\\\\\n",
       "\t2 & cl\\_ciliated\\_DEGs & RFX2   & upregulated   &  0.00e+00 & active\\_regulon   & 4.18e-05 & RFX2\\_C   & cl\\_ciliated\\_DEGs & cl\\_ciliated\\_DEGs RFX2\\_C   & +\\\\\n",
       "\t3 & cl\\_ciliated\\_DEGs & HES6   & upregulated   &  0.00e+00 & active\\_regulon   & 3.48e-11 & HES6\\_E   & cl\\_ciliated\\_DEGs & cl\\_ciliated\\_DEGs HES6\\_E   & +\\\\\n",
       "\t4 & cl\\_ciliated\\_DEGs & ZSCAN1 & upregulated   & 1.62e-206 & active\\_regulon   & 6.09e-17 & ZSCAN1\\_E & cl\\_ciliated\\_DEGs & cl\\_ciliated\\_DEGs ZSCAN1\\_E & +\\\\\n",
       "\t5 & cl\\_ciliated\\_DEGs & TCF7   & upregulated   & 1.24e-141 & inactive\\_regulon & 1.40e-03 & TCF7\\_B   & cl\\_ciliated\\_DEGs & cl\\_ciliated\\_DEGs TCF7\\_B   & +\\\\\n",
       "\t6 & cl\\_ciliated\\_DEGs & ID3    & downregulated &  7.08e-94 & active\\_regulon   & 1.25e-03 & ID3\\_C    & cl\\_ciliated\\_DEGs & cl\\_ciliated\\_DEGs ID3\\_C    & -\\\\\n",
       "\\end{tabular}\n"
      ],
      "text/markdown": [
       "\n",
       "A data.frame: 6 × 10\n",
       "\n",
       "| <!--/--> | cl &lt;chr&gt; | TF &lt;chr&gt; | TF_expression &lt;chr&gt; | TF_expression_pvals_adj &lt;dbl&gt; | TF_activity &lt;chr&gt; | TF_activity_pvals_adj &lt;dbl&gt; | TF_activity_score &lt;chr&gt; | L1 &lt;chr&gt; | id &lt;chr&gt; | annot &lt;chr&gt; |\n",
       "|---|---|---|---|---|---|---|---|---|---|---|\n",
       "| 1 | cl_ciliated_DEGs | FOXJ1  | upregulated   |  0.00e+00 | active_regulon   | 3.50e-49 | FOXJ1_E  | cl_ciliated_DEGs | cl_ciliated_DEGs FOXJ1_E  | + |\n",
       "| 2 | cl_ciliated_DEGs | RFX2   | upregulated   |  0.00e+00 | active_regulon   | 4.18e-05 | RFX2_C   | cl_ciliated_DEGs | cl_ciliated_DEGs RFX2_C   | + |\n",
       "| 3 | cl_ciliated_DEGs | HES6   | upregulated   |  0.00e+00 | active_regulon   | 3.48e-11 | HES6_E   | cl_ciliated_DEGs | cl_ciliated_DEGs HES6_E   | + |\n",
       "| 4 | cl_ciliated_DEGs | ZSCAN1 | upregulated   | 1.62e-206 | active_regulon   | 6.09e-17 | ZSCAN1_E | cl_ciliated_DEGs | cl_ciliated_DEGs ZSCAN1_E | + |\n",
       "| 5 | cl_ciliated_DEGs | TCF7   | upregulated   | 1.24e-141 | inactive_regulon | 1.40e-03 | TCF7_B   | cl_ciliated_DEGs | cl_ciliated_DEGs TCF7_B   | + |\n",
       "| 6 | cl_ciliated_DEGs | ID3    | downregulated |  7.08e-94 | active_regulon   | 1.25e-03 | ID3_C    | cl_ciliated_DEGs | cl_ciliated_DEGs ID3_C    | - |\n",
       "\n"
      ],
      "text/plain": [
       "  cl               TF     TF_expression TF_expression_pvals_adj\n",
       "1 cl_ciliated_DEGs FOXJ1  upregulated    0.00e+00              \n",
       "2 cl_ciliated_DEGs RFX2   upregulated    0.00e+00              \n",
       "3 cl_ciliated_DEGs HES6   upregulated    0.00e+00              \n",
       "4 cl_ciliated_DEGs ZSCAN1 upregulated   1.62e-206              \n",
       "5 cl_ciliated_DEGs TCF7   upregulated   1.24e-141              \n",
       "6 cl_ciliated_DEGs ID3    downregulated  7.08e-94              \n",
       "  TF_activity      TF_activity_pvals_adj TF_activity_score L1              \n",
       "1 active_regulon   3.50e-49              FOXJ1_E           cl_ciliated_DEGs\n",
       "2 active_regulon   4.18e-05              RFX2_C            cl_ciliated_DEGs\n",
       "3 active_regulon   3.48e-11              HES6_E            cl_ciliated_DEGs\n",
       "4 active_regulon   6.09e-17              ZSCAN1_E          cl_ciliated_DEGs\n",
       "5 inactive_regulon 1.40e-03              TCF7_B            cl_ciliated_DEGs\n",
       "6 active_regulon   1.25e-03              ID3_C             cl_ciliated_DEGs\n",
       "  id                        annot\n",
       "1 cl_ciliated_DEGs FOXJ1_E  +    \n",
       "2 cl_ciliated_DEGs RFX2_C   +    \n",
       "3 cl_ciliated_DEGs HES6_E   +    \n",
       "4 cl_ciliated_DEGs ZSCAN1_E +    \n",
       "5 cl_ciliated_DEGs TCF7_B   +    \n",
       "6 cl_ciliated_DEGs ID3_C    -    "
      ]
     },
     "metadata": {},
     "output_type": "display_data"
    }
   ],
   "source": [
    "TF_activities_agreement = read.csv('figures_primaryEpithelial_clean/cluster_markers/TFs_agreement.csv', stringsAsFactors = F, sep = '\\t')\n",
    "TF_activities_agreement$id = paste(TF_activities_agreement$cl, TF_activities_agreement$TF_activity_score)\n",
    "TF_activities_agreement$annot = '+'\n",
    "TF_activities_agreement$annot[ TF_activities_agreement$TF_expression == 'downregulated' ] = '-'\n",
    "head(TF_activities_agreement)"
   ]
  },
  {
   "cell_type": "markdown",
   "metadata": {},
   "source": [
    "## Transfer labels"
   ]
  },
  {
   "cell_type": "code",
   "execution_count": 221,
   "metadata": {},
   "outputs": [
    {
     "data": {
      "text/html": [
       "<table>\n",
       "<caption>A data.frame: 6 × 8</caption>\n",
       "<thead>\n",
       "\t<tr><th></th><th scope=col>cl_name</th><th scope=col>Regulon</th><th scope=col>NES</th><th scope=col>p.value</th><th scope=col>FDR</th><th scope=col>Size</th><th scope=col>id</th><th scope=col>label</th></tr>\n",
       "\t<tr><th></th><th scope=col>&lt;chr&gt;</th><th scope=col>&lt;chr&gt;</th><th scope=col>&lt;dbl&gt;</th><th scope=col>&lt;dbl&gt;</th><th scope=col>&lt;dbl&gt;</th><th scope=col>&lt;int&gt;</th><th scope=col>&lt;chr&gt;</th><th scope=col>&lt;chr&gt;</th></tr>\n",
       "</thead>\n",
       "<tbody>\n",
       "\t<tr><th scope=row>2</th><td>cl_glandular_DEGs         </td><td>CSRNP1_E</td><td>16.31402</td><td>7.845742e-60</td><td>8.346663e-58</td><td>152</td><td>cl_glandular_DEGs CSRNP1_E         </td><td>+</td></tr>\n",
       "\t<tr><th scope=row>4</th><td>cl_ciliated_DEGs          </td><td>ZNF19_E </td><td>15.88198</td><td>8.447424e-57</td><td>2.920697e-54</td><td>175</td><td>cl_ciliated_DEGs ZNF19_E           </td><td>+</td></tr>\n",
       "\t<tr><th scope=row>5</th><td>cl_ciliated_DEGs          </td><td>FOXJ1_E </td><td>15.11627</td><td>1.265129e-51</td><td>3.499348e-49</td><td>149</td><td>cl_ciliated_DEGs FOXJ1_E           </td><td>+</td></tr>\n",
       "\t<tr><th scope=row>7</th><td>cl_pre-secretory PAEP_DEGs</td><td>ZNF594_E</td><td>13.45049</td><td>3.058530e-41</td><td>1.409982e-39</td><td>197</td><td>cl_pre-secretory PAEP_DEGs ZNF594_E</td><td>+</td></tr>\n",
       "\t<tr><th scope=row>8</th><td>cl_pre-secretory FHL2_DEGs</td><td>CSRNP1_E</td><td>12.87730</td><td>6.041397e-38</td><td>2.088813e-35</td><td>152</td><td>cl_pre-secretory FHL2_DEGs CSRNP1_E</td><td>+</td></tr>\n",
       "\t<tr><th scope=row>9</th><td>cl_pre-secretory PAEP_DEGs</td><td>ZNF493_E</td><td>12.70168</td><td>5.787402e-37</td><td>1.819086e-35</td><td>167</td><td>cl_pre-secretory PAEP_DEGs ZNF493_E</td><td>+</td></tr>\n",
       "</tbody>\n",
       "</table>\n"
      ],
      "text/latex": [
       "A data.frame: 6 × 8\n",
       "\\begin{tabular}{r|llllllll}\n",
       "  & cl\\_name & Regulon & NES & p.value & FDR & Size & id & label\\\\\n",
       "  & <chr> & <chr> & <dbl> & <dbl> & <dbl> & <int> & <chr> & <chr>\\\\\n",
       "\\hline\n",
       "\t2 & cl\\_glandular\\_DEGs          & CSRNP1\\_E & 16.31402 & 7.845742e-60 & 8.346663e-58 & 152 & cl\\_glandular\\_DEGs CSRNP1\\_E          & +\\\\\n",
       "\t4 & cl\\_ciliated\\_DEGs           & ZNF19\\_E  & 15.88198 & 8.447424e-57 & 2.920697e-54 & 175 & cl\\_ciliated\\_DEGs ZNF19\\_E            & +\\\\\n",
       "\t5 & cl\\_ciliated\\_DEGs           & FOXJ1\\_E  & 15.11627 & 1.265129e-51 & 3.499348e-49 & 149 & cl\\_ciliated\\_DEGs FOXJ1\\_E            & +\\\\\n",
       "\t7 & cl\\_pre-secretory PAEP\\_DEGs & ZNF594\\_E & 13.45049 & 3.058530e-41 & 1.409982e-39 & 197 & cl\\_pre-secretory PAEP\\_DEGs ZNF594\\_E & +\\\\\n",
       "\t8 & cl\\_pre-secretory FHL2\\_DEGs & CSRNP1\\_E & 12.87730 & 6.041397e-38 & 2.088813e-35 & 152 & cl\\_pre-secretory FHL2\\_DEGs CSRNP1\\_E & +\\\\\n",
       "\t9 & cl\\_pre-secretory PAEP\\_DEGs & ZNF493\\_E & 12.70168 & 5.787402e-37 & 1.819086e-35 & 167 & cl\\_pre-secretory PAEP\\_DEGs ZNF493\\_E & +\\\\\n",
       "\\end{tabular}\n"
      ],
      "text/markdown": [
       "\n",
       "A data.frame: 6 × 8\n",
       "\n",
       "| <!--/--> | cl_name &lt;chr&gt; | Regulon &lt;chr&gt; | NES &lt;dbl&gt; | p.value &lt;dbl&gt; | FDR &lt;dbl&gt; | Size &lt;int&gt; | id &lt;chr&gt; | label &lt;chr&gt; |\n",
       "|---|---|---|---|---|---|---|---|---|\n",
       "| 2 | cl_glandular_DEGs          | CSRNP1_E | 16.31402 | 7.845742e-60 | 8.346663e-58 | 152 | cl_glandular_DEGs CSRNP1_E          | + |\n",
       "| 4 | cl_ciliated_DEGs           | ZNF19_E  | 15.88198 | 8.447424e-57 | 2.920697e-54 | 175 | cl_ciliated_DEGs ZNF19_E            | + |\n",
       "| 5 | cl_ciliated_DEGs           | FOXJ1_E  | 15.11627 | 1.265129e-51 | 3.499348e-49 | 149 | cl_ciliated_DEGs FOXJ1_E            | + |\n",
       "| 7 | cl_pre-secretory PAEP_DEGs | ZNF594_E | 13.45049 | 3.058530e-41 | 1.409982e-39 | 197 | cl_pre-secretory PAEP_DEGs ZNF594_E | + |\n",
       "| 8 | cl_pre-secretory FHL2_DEGs | CSRNP1_E | 12.87730 | 6.041397e-38 | 2.088813e-35 | 152 | cl_pre-secretory FHL2_DEGs CSRNP1_E | + |\n",
       "| 9 | cl_pre-secretory PAEP_DEGs | ZNF493_E | 12.70168 | 5.787402e-37 | 1.819086e-35 | 167 | cl_pre-secretory PAEP_DEGs ZNF493_E | + |\n",
       "\n"
      ],
      "text/plain": [
       "  cl_name                    Regulon  NES      p.value      FDR          Size\n",
       "2 cl_glandular_DEGs          CSRNP1_E 16.31402 7.845742e-60 8.346663e-58 152 \n",
       "4 cl_ciliated_DEGs           ZNF19_E  15.88198 8.447424e-57 2.920697e-54 175 \n",
       "5 cl_ciliated_DEGs           FOXJ1_E  15.11627 1.265129e-51 3.499348e-49 149 \n",
       "7 cl_pre-secretory PAEP_DEGs ZNF594_E 13.45049 3.058530e-41 1.409982e-39 197 \n",
       "8 cl_pre-secretory FHL2_DEGs CSRNP1_E 12.87730 6.041397e-38 2.088813e-35 152 \n",
       "9 cl_pre-secretory PAEP_DEGs ZNF493_E 12.70168 5.787402e-37 1.819086e-35 167 \n",
       "  id                                  label\n",
       "2 cl_glandular_DEGs CSRNP1_E          +    \n",
       "4 cl_ciliated_DEGs ZNF19_E            +    \n",
       "5 cl_ciliated_DEGs FOXJ1_E            +    \n",
       "7 cl_pre-secretory PAEP_DEGs ZNF594_E +    \n",
       "8 cl_pre-secretory FHL2_DEGs CSRNP1_E +    \n",
       "9 cl_pre-secretory PAEP_DEGs ZNF493_E +    "
      ]
     },
     "metadata": {},
     "output_type": "display_data"
    }
   ],
   "source": [
    "TF_activities$label = TF_activities_agreement$annot[ match(TF_activities$id, TF_activities_agreement$id) ]\n",
    "TF_activities$label[ is.na(TF_activities$label) ] = ''\n",
    "head(TF_activities)"
   ]
  },
  {
   "cell_type": "markdown",
   "metadata": {},
   "source": [
    "## Plot heatmap"
   ]
  },
  {
   "cell_type": "code",
   "execution_count": 222,
   "metadata": {},
   "outputs": [],
   "source": [
    "# exclude scanpy\n",
    "TF_activities = TF_activities[ grep('scanpy', TF_activities$cl_name, invert = T) ,]\n",
    "# build matrix of TF activity scores to plot\n",
    "TF_activities$value = TF_activities$NES\n",
    "x = acast(TF_activities, Regulon~cl_name, fill = 0)\n",
    "# build matrix labels -  aka DE sign - to overlay with the TF activities\n",
    "TF_activities$value = TF_activities$label\n",
    "x_label = acast(TF_activities, Regulon~cl_name, fill = '')"
   ]
  },
  {
   "cell_type": "code",
   "execution_count": 223,
   "metadata": {},
   "outputs": [],
   "source": [
    "# actually plot the heatmap\n",
    "pheatmap(x, \n",
    "         display_numbers = x_label, fontsize_number=10,\n",
    "         cellheight = 10, cellwidth = 10, \n",
    "         filename = 'figures_primaryEpithelial_clean/cluster_markers/TFs_heatmap.pdf')"
   ]
  },
  {
   "cell_type": "markdown",
   "metadata": {},
   "source": [
    "## Filter TFs in Notch and Wnt signalling"
   ]
  },
  {
   "cell_type": "code",
   "execution_count": 224,
   "metadata": {},
   "outputs": [],
   "source": [
    "Wnt = read.csv('figures_primaryEpithelial_clean/cluster_markers/TF_priors/Wnt_list', stringsAsFactors = F, sep = '\\t')\n",
    "Wnt$gene_symbol = sapply(strsplit(Wnt$Gene.names, ' '), head, 1)\n",
    "\n",
    "Notch = read.csv('figures_primaryEpithelial_clean/cluster_markers/TF_priors/Notch_list', stringsAsFactors = F, sep = '\\t')\n",
    "Notch$gene_symbol = sapply(strsplit(Notch$Gene.names, ' '), head, 1)"
   ]
  },
  {
   "cell_type": "code",
   "execution_count": 225,
   "metadata": {},
   "outputs": [],
   "source": [
    "TFs_in_x = sapply(strsplit(rownames(x), '_'), head, 1)\n",
    "is_Wnt = TFs_in_x %in% Wnt$gene_symbol\n",
    "is_Notch = TFs_in_x %in% Notch$gene_symbol"
   ]
  },
  {
   "cell_type": "code",
   "execution_count": 226,
   "metadata": {},
   "outputs": [],
   "source": [
    "# actually plot the heatmap\n",
    "pheatmap(x[is_Wnt, ], \n",
    "         display_numbers = x_label[is_Wnt, ], fontsize_number=10,\n",
    "         cellheight = 10, cellwidth = 10, \n",
    "         filename = 'figures_primaryEpithelial_clean/cluster_markers/TFs_heatmap_Wnt.pdf')\n",
    "\n",
    "# actually plot the heatmap\n",
    "pheatmap(x[is_Notch, ], \n",
    "         display_numbers = x_label[is_Notch, ], fontsize_number=10,\n",
    "         cellheight = 10, cellwidth = 10, \n",
    "         filename = 'figures_primaryEpithelial_clean/cluster_markers/TFs_heatmap_Notch.pdf')"
   ]
  },
  {
   "cell_type": "markdown",
   "metadata": {},
   "source": [
    "# Plot top 10 active TFs"
   ]
  },
  {
   "cell_type": "code",
   "execution_count": 228,
   "metadata": {},
   "outputs": [
    {
     "data": {
      "text/html": [
       "<table>\n",
       "<caption>A data.frame: 6 × 10</caption>\n",
       "<thead>\n",
       "\t<tr><th></th><th scope=col>cl_name</th><th scope=col>Regulon</th><th scope=col>NES</th><th scope=col>p.value</th><th scope=col>FDR</th><th scope=col>Size</th><th scope=col>id</th><th scope=col>label</th><th scope=col>value</th><th scope=col>rank</th></tr>\n",
       "\t<tr><th></th><th scope=col>&lt;chr&gt;</th><th scope=col>&lt;chr&gt;</th><th scope=col>&lt;dbl&gt;</th><th scope=col>&lt;dbl&gt;</th><th scope=col>&lt;dbl&gt;</th><th scope=col>&lt;int&gt;</th><th scope=col>&lt;chr&gt;</th><th scope=col>&lt;chr&gt;</th><th scope=col>&lt;chr&gt;</th><th scope=col>&lt;int&gt;</th></tr>\n",
       "</thead>\n",
       "<tbody>\n",
       "\t<tr><th scope=row>1</th><td>cl_ciliated_DEGs</td><td>ZNF19_E </td><td>15.881976</td><td>8.447424e-57</td><td>2.920697e-54</td><td>175</td><td>cl_ciliated_DEGs ZNF19_E </td><td>+</td><td>+</td><td>1</td></tr>\n",
       "\t<tr><th scope=row>2</th><td>cl_ciliated_DEGs</td><td>FOXJ1_E </td><td>15.116268</td><td>1.265129e-51</td><td>3.499348e-49</td><td>149</td><td>cl_ciliated_DEGs FOXJ1_E </td><td>+</td><td>+</td><td>2</td></tr>\n",
       "\t<tr><th scope=row>3</th><td>cl_ciliated_DEGs</td><td>ZSCAN1_E</td><td> 8.735679</td><td>2.421973e-18</td><td>6.090162e-17</td><td>118</td><td>cl_ciliated_DEGs ZSCAN1_E</td><td>+</td><td>+</td><td>3</td></tr>\n",
       "\t<tr><th scope=row>4</th><td>cl_ciliated_DEGs</td><td>ZNF311_E</td><td> 8.074541</td><td>6.773112e-16</td><td>1.301002e-14</td><td>194</td><td>cl_ciliated_DEGs ZNF311_E</td><td>+</td><td>+</td><td>4</td></tr>\n",
       "\t<tr><th scope=row>5</th><td>cl_ciliated_DEGs</td><td>ZNF713_E</td><td> 7.498589</td><td>6.450836e-14</td><td>9.803853e-13</td><td> 84</td><td>cl_ciliated_DEGs ZNF713_E</td><td>+</td><td>+</td><td>5</td></tr>\n",
       "\t<tr><th scope=row>6</th><td>cl_ciliated_DEGs</td><td>HES6_E  </td><td> 6.989124</td><td>2.766088e-12</td><td>3.477727e-11</td><td>185</td><td>cl_ciliated_DEGs HES6_E  </td><td>+</td><td>+</td><td>6</td></tr>\n",
       "</tbody>\n",
       "</table>\n"
      ],
      "text/latex": [
       "A data.frame: 6 × 10\n",
       "\\begin{tabular}{r|llllllllll}\n",
       "  & cl\\_name & Regulon & NES & p.value & FDR & Size & id & label & value & rank\\\\\n",
       "  & <chr> & <chr> & <dbl> & <dbl> & <dbl> & <int> & <chr> & <chr> & <chr> & <int>\\\\\n",
       "\\hline\n",
       "\t1 & cl\\_ciliated\\_DEGs & ZNF19\\_E  & 15.881976 & 8.447424e-57 & 2.920697e-54 & 175 & cl\\_ciliated\\_DEGs ZNF19\\_E  & + & + & 1\\\\\n",
       "\t2 & cl\\_ciliated\\_DEGs & FOXJ1\\_E  & 15.116268 & 1.265129e-51 & 3.499348e-49 & 149 & cl\\_ciliated\\_DEGs FOXJ1\\_E  & + & + & 2\\\\\n",
       "\t3 & cl\\_ciliated\\_DEGs & ZSCAN1\\_E &  8.735679 & 2.421973e-18 & 6.090162e-17 & 118 & cl\\_ciliated\\_DEGs ZSCAN1\\_E & + & + & 3\\\\\n",
       "\t4 & cl\\_ciliated\\_DEGs & ZNF311\\_E &  8.074541 & 6.773112e-16 & 1.301002e-14 & 194 & cl\\_ciliated\\_DEGs ZNF311\\_E & + & + & 4\\\\\n",
       "\t5 & cl\\_ciliated\\_DEGs & ZNF713\\_E &  7.498589 & 6.450836e-14 & 9.803853e-13 &  84 & cl\\_ciliated\\_DEGs ZNF713\\_E & + & + & 5\\\\\n",
       "\t6 & cl\\_ciliated\\_DEGs & HES6\\_E   &  6.989124 & 2.766088e-12 & 3.477727e-11 & 185 & cl\\_ciliated\\_DEGs HES6\\_E   & + & + & 6\\\\\n",
       "\\end{tabular}\n"
      ],
      "text/markdown": [
       "\n",
       "A data.frame: 6 × 10\n",
       "\n",
       "| <!--/--> | cl_name &lt;chr&gt; | Regulon &lt;chr&gt; | NES &lt;dbl&gt; | p.value &lt;dbl&gt; | FDR &lt;dbl&gt; | Size &lt;int&gt; | id &lt;chr&gt; | label &lt;chr&gt; | value &lt;chr&gt; | rank &lt;int&gt; |\n",
       "|---|---|---|---|---|---|---|---|---|---|---|\n",
       "| 1 | cl_ciliated_DEGs | ZNF19_E  | 15.881976 | 8.447424e-57 | 2.920697e-54 | 175 | cl_ciliated_DEGs ZNF19_E  | + | + | 1 |\n",
       "| 2 | cl_ciliated_DEGs | FOXJ1_E  | 15.116268 | 1.265129e-51 | 3.499348e-49 | 149 | cl_ciliated_DEGs FOXJ1_E  | + | + | 2 |\n",
       "| 3 | cl_ciliated_DEGs | ZSCAN1_E |  8.735679 | 2.421973e-18 | 6.090162e-17 | 118 | cl_ciliated_DEGs ZSCAN1_E | + | + | 3 |\n",
       "| 4 | cl_ciliated_DEGs | ZNF311_E |  8.074541 | 6.773112e-16 | 1.301002e-14 | 194 | cl_ciliated_DEGs ZNF311_E | + | + | 4 |\n",
       "| 5 | cl_ciliated_DEGs | ZNF713_E |  7.498589 | 6.450836e-14 | 9.803853e-13 |  84 | cl_ciliated_DEGs ZNF713_E | + | + | 5 |\n",
       "| 6 | cl_ciliated_DEGs | HES6_E   |  6.989124 | 2.766088e-12 | 3.477727e-11 | 185 | cl_ciliated_DEGs HES6_E   | + | + | 6 |\n",
       "\n"
      ],
      "text/plain": [
       "  cl_name          Regulon  NES       p.value      FDR          Size\n",
       "1 cl_ciliated_DEGs ZNF19_E  15.881976 8.447424e-57 2.920697e-54 175 \n",
       "2 cl_ciliated_DEGs FOXJ1_E  15.116268 1.265129e-51 3.499348e-49 149 \n",
       "3 cl_ciliated_DEGs ZSCAN1_E  8.735679 2.421973e-18 6.090162e-17 118 \n",
       "4 cl_ciliated_DEGs ZNF311_E  8.074541 6.773112e-16 1.301002e-14 194 \n",
       "5 cl_ciliated_DEGs ZNF713_E  7.498589 6.450836e-14 9.803853e-13  84 \n",
       "6 cl_ciliated_DEGs HES6_E    6.989124 2.766088e-12 3.477727e-11 185 \n",
       "  id                        label value rank\n",
       "1 cl_ciliated_DEGs ZNF19_E  +     +     1   \n",
       "2 cl_ciliated_DEGs FOXJ1_E  +     +     2   \n",
       "3 cl_ciliated_DEGs ZSCAN1_E +     +     3   \n",
       "4 cl_ciliated_DEGs ZNF311_E +     +     4   \n",
       "5 cl_ciliated_DEGs ZNF713_E +     +     5   \n",
       "6 cl_ciliated_DEGs HES6_E   +     +     6   "
      ]
     },
     "metadata": {},
     "output_type": "display_data"
    }
   ],
   "source": [
    "# Rank TFs according to their activity\n",
    "TF_activities = TF_activities[order(TF_activities$NES, decreasing = T), ]\n",
    "TF_activities = ddply(TF_activities, 'cl_name', function(df) data.frame(df, rank = 1:nrow(df)) )\n",
    "head(TF_activities)"
   ]
  },
  {
   "cell_type": "code",
   "execution_count": 229,
   "metadata": {},
   "outputs": [],
   "source": [
    "# order clusters\n",
    "TF_activities = rbind(subset(TF_activities, cl_name %in% 'cl_proliferative_DEGs'),\n",
    "                     subset(TF_activities, cl_name %in% 'cl_pre-secretory PAEP_DEGs'),\n",
    "                     subset(TF_activities, cl_name %in% 'cl_pre-secretory FHL2_DEGs'),\n",
    "                     subset(TF_activities, cl_name %in% 'cl_glandular_DEGs'),\n",
    "                     subset(TF_activities, cl_name %in% 'cl_ciliated_DEGs'))"
   ]
  },
  {
   "cell_type": "code",
   "execution_count": 230,
   "metadata": {},
   "outputs": [
    {
     "data": {
      "text/html": [
       "<table>\n",
       "<caption>A data.frame: 6 × 10</caption>\n",
       "<thead>\n",
       "\t<tr><th></th><th scope=col>cl_name</th><th scope=col>Regulon</th><th scope=col>NES</th><th scope=col>p.value</th><th scope=col>FDR</th><th scope=col>Size</th><th scope=col>id</th><th scope=col>label</th><th scope=col>value</th><th scope=col>rank</th></tr>\n",
       "\t<tr><th></th><th scope=col>&lt;chr&gt;</th><th scope=col>&lt;chr&gt;</th><th scope=col>&lt;dbl&gt;</th><th scope=col>&lt;dbl&gt;</th><th scope=col>&lt;dbl&gt;</th><th scope=col>&lt;int&gt;</th><th scope=col>&lt;chr&gt;</th><th scope=col>&lt;chr&gt;</th><th scope=col>&lt;chr&gt;</th><th scope=col>&lt;int&gt;</th></tr>\n",
       "</thead>\n",
       "<tbody>\n",
       "\t<tr><th scope=row>469</th><td>cl_proliferative_DEGs</td><td>ZNF749_E</td><td>10.475806</td><td>1.115827e-25</td><td>2.030511e-24</td><td>194</td><td>cl_proliferative_DEGs ZNF749_E</td><td> </td><td> </td><td>1</td></tr>\n",
       "\t<tr><th scope=row>470</th><td>cl_proliferative_DEGs</td><td>MYC_AA  </td><td> 9.558607</td><td>1.193528e-21</td><td>1.774892e-20</td><td>144</td><td>cl_proliferative_DEGs MYC_AA  </td><td>+</td><td>+</td><td>2</td></tr>\n",
       "\t<tr><th scope=row>471</th><td>cl_proliferative_DEGs</td><td>HES6_E  </td><td> 8.848665</td><td>8.857229e-19</td><td>1.065178e-17</td><td>185</td><td>cl_proliferative_DEGs HES6_E  </td><td> </td><td> </td><td>3</td></tr>\n",
       "\t<tr><th scope=row>472</th><td>cl_proliferative_DEGs</td><td>ZFP69_E </td><td> 8.840668</td><td>9.514774e-19</td><td>1.124695e-17</td><td>161</td><td>cl_proliferative_DEGs ZFP69_E </td><td>+</td><td>+</td><td>4</td></tr>\n",
       "\t<tr><th scope=row>473</th><td>cl_proliferative_DEGs</td><td>E2F4_AA </td><td> 8.000039</td><td>1.243803e-15</td><td>1.178205e-14</td><td>100</td><td>cl_proliferative_DEGs E2F4_AA </td><td>+</td><td>+</td><td>5</td></tr>\n",
       "\t<tr><th scope=row>474</th><td>cl_proliferative_DEGs</td><td>ZNF79_E </td><td> 7.497223</td><td>6.518407e-14</td><td>5.564788e-13</td><td>155</td><td>cl_proliferative_DEGs ZNF79_E </td><td> </td><td> </td><td>6</td></tr>\n",
       "</tbody>\n",
       "</table>\n"
      ],
      "text/latex": [
       "A data.frame: 6 × 10\n",
       "\\begin{tabular}{r|llllllllll}\n",
       "  & cl\\_name & Regulon & NES & p.value & FDR & Size & id & label & value & rank\\\\\n",
       "  & <chr> & <chr> & <dbl> & <dbl> & <dbl> & <int> & <chr> & <chr> & <chr> & <int>\\\\\n",
       "\\hline\n",
       "\t469 & cl\\_proliferative\\_DEGs & ZNF749\\_E & 10.475806 & 1.115827e-25 & 2.030511e-24 & 194 & cl\\_proliferative\\_DEGs ZNF749\\_E &   &   & 1\\\\\n",
       "\t470 & cl\\_proliferative\\_DEGs & MYC\\_AA   &  9.558607 & 1.193528e-21 & 1.774892e-20 & 144 & cl\\_proliferative\\_DEGs MYC\\_AA   & + & + & 2\\\\\n",
       "\t471 & cl\\_proliferative\\_DEGs & HES6\\_E   &  8.848665 & 8.857229e-19 & 1.065178e-17 & 185 & cl\\_proliferative\\_DEGs HES6\\_E   &   &   & 3\\\\\n",
       "\t472 & cl\\_proliferative\\_DEGs & ZFP69\\_E  &  8.840668 & 9.514774e-19 & 1.124695e-17 & 161 & cl\\_proliferative\\_DEGs ZFP69\\_E  & + & + & 4\\\\\n",
       "\t473 & cl\\_proliferative\\_DEGs & E2F4\\_AA  &  8.000039 & 1.243803e-15 & 1.178205e-14 & 100 & cl\\_proliferative\\_DEGs E2F4\\_AA  & + & + & 5\\\\\n",
       "\t474 & cl\\_proliferative\\_DEGs & ZNF79\\_E  &  7.497223 & 6.518407e-14 & 5.564788e-13 & 155 & cl\\_proliferative\\_DEGs ZNF79\\_E  &   &   & 6\\\\\n",
       "\\end{tabular}\n"
      ],
      "text/markdown": [
       "\n",
       "A data.frame: 6 × 10\n",
       "\n",
       "| <!--/--> | cl_name &lt;chr&gt; | Regulon &lt;chr&gt; | NES &lt;dbl&gt; | p.value &lt;dbl&gt; | FDR &lt;dbl&gt; | Size &lt;int&gt; | id &lt;chr&gt; | label &lt;chr&gt; | value &lt;chr&gt; | rank &lt;int&gt; |\n",
       "|---|---|---|---|---|---|---|---|---|---|---|\n",
       "| 469 | cl_proliferative_DEGs | ZNF749_E | 10.475806 | 1.115827e-25 | 2.030511e-24 | 194 | cl_proliferative_DEGs ZNF749_E | <!----> | <!----> | 1 |\n",
       "| 470 | cl_proliferative_DEGs | MYC_AA   |  9.558607 | 1.193528e-21 | 1.774892e-20 | 144 | cl_proliferative_DEGs MYC_AA   | + | + | 2 |\n",
       "| 471 | cl_proliferative_DEGs | HES6_E   |  8.848665 | 8.857229e-19 | 1.065178e-17 | 185 | cl_proliferative_DEGs HES6_E   | <!----> | <!----> | 3 |\n",
       "| 472 | cl_proliferative_DEGs | ZFP69_E  |  8.840668 | 9.514774e-19 | 1.124695e-17 | 161 | cl_proliferative_DEGs ZFP69_E  | + | + | 4 |\n",
       "| 473 | cl_proliferative_DEGs | E2F4_AA  |  8.000039 | 1.243803e-15 | 1.178205e-14 | 100 | cl_proliferative_DEGs E2F4_AA  | + | + | 5 |\n",
       "| 474 | cl_proliferative_DEGs | ZNF79_E  |  7.497223 | 6.518407e-14 | 5.564788e-13 | 155 | cl_proliferative_DEGs ZNF79_E  | <!----> | <!----> | 6 |\n",
       "\n"
      ],
      "text/plain": [
       "    cl_name               Regulon  NES       p.value      FDR          Size\n",
       "469 cl_proliferative_DEGs ZNF749_E 10.475806 1.115827e-25 2.030511e-24 194 \n",
       "470 cl_proliferative_DEGs MYC_AA    9.558607 1.193528e-21 1.774892e-20 144 \n",
       "471 cl_proliferative_DEGs HES6_E    8.848665 8.857229e-19 1.065178e-17 185 \n",
       "472 cl_proliferative_DEGs ZFP69_E   8.840668 9.514774e-19 1.124695e-17 161 \n",
       "473 cl_proliferative_DEGs E2F4_AA   8.000039 1.243803e-15 1.178205e-14 100 \n",
       "474 cl_proliferative_DEGs ZNF79_E   7.497223 6.518407e-14 5.564788e-13 155 \n",
       "    id                             label value rank\n",
       "469 cl_proliferative_DEGs ZNF749_E             1   \n",
       "470 cl_proliferative_DEGs MYC_AA   +     +     2   \n",
       "471 cl_proliferative_DEGs HES6_E               3   \n",
       "472 cl_proliferative_DEGs ZFP69_E  +     +     4   \n",
       "473 cl_proliferative_DEGs E2F4_AA  +     +     5   \n",
       "474 cl_proliferative_DEGs ZNF79_E              6   "
      ]
     },
     "metadata": {},
     "output_type": "display_data"
    }
   ],
   "source": [
    "head(TF_activities)\n",
    "TFs = read.csv('data/scenic/huTF_census.txt', stringsAsFactors = F, header = F)$V1"
   ]
  },
  {
   "cell_type": "code",
   "execution_count": 231,
   "metadata": {},
   "outputs": [],
   "source": [
    "# Select top 10 ranked genes\n",
    "TF_activities$Gene = sapply(strsplit(TF_activities$Regulon, '_'), head, 1)\n",
    "top10 = subset(TF_activities, rank %in% 1:10 & NES > 0)$Gene"
   ]
  },
  {
   "cell_type": "code",
   "execution_count": 232,
   "metadata": {},
   "outputs": [
    {
     "data": {
      "text/html": [
       "<style>\n",
       ".list-inline {list-style: none; margin:0; padding: 0}\n",
       ".list-inline>li {display: inline-block}\n",
       ".list-inline>li:not(:last-child)::after {content: \"\\00b7\"; padding: 0 .5ex}\n",
       "</style>\n",
       "<ol class=list-inline><li>'cl_ciliated_DEGs'</li><li>'cl_glandular_DEGs'</li><li>'cl_pre-secretory FHL2_DEGs'</li><li>'cl_pre-secretory PAEP_DEGs'</li><li>'cl_proliferative_DEGs'</li></ol>\n"
      ],
      "text/latex": [
       "\\begin{enumerate*}\n",
       "\\item 'cl\\_ciliated\\_DEGs'\n",
       "\\item 'cl\\_glandular\\_DEGs'\n",
       "\\item 'cl\\_pre-secretory FHL2\\_DEGs'\n",
       "\\item 'cl\\_pre-secretory PAEP\\_DEGs'\n",
       "\\item 'cl\\_proliferative\\_DEGs'\n",
       "\\end{enumerate*}\n"
      ],
      "text/markdown": [
       "1. 'cl_ciliated_DEGs'\n",
       "2. 'cl_glandular_DEGs'\n",
       "3. 'cl_pre-secretory FHL2_DEGs'\n",
       "4. 'cl_pre-secretory PAEP_DEGs'\n",
       "5. 'cl_proliferative_DEGs'\n",
       "\n",
       "\n"
      ],
      "text/plain": [
       "[1] \"cl_ciliated_DEGs\"           \"cl_glandular_DEGs\"         \n",
       "[3] \"cl_pre-secretory FHL2_DEGs\" \"cl_pre-secretory PAEP_DEGs\"\n",
       "[5] \"cl_proliferative_DEGs\"     "
      ]
     },
     "metadata": {},
     "output_type": "display_data"
    }
   ],
   "source": [
    "# build matrix of TF activity scores to plot\n",
    "TF_activities$value = TF_activities$NES\n",
    "x = acast(subset(TF_activities, Gene %in% top10), Gene~cl_name, fill = 0)\n",
    "colnames(x)"
   ]
  },
  {
   "cell_type": "code",
   "execution_count": 233,
   "metadata": {},
   "outputs": [],
   "source": [
    "x = x[, c(5, 4, 3, 2, 1) ]\n",
    "colnames(x) = c('proliferative', 'preFHL2','prePAEP', 'glandular', 'ciliated')\n",
    "pheatmap(t(x[ top10, ]), cellheight = 10, cellwidth = 10, cluster_rows = F, cluster_cols = F, \n",
    "#          color = colorRampPalette(c(\"navy\", \"white\", \"red\"))(50),\n",
    "        filename = 'figures_primaryEpithelial_clean/cluster_markers/top10_TFs_activities.pdf')\n"
   ]
  },
  {
   "cell_type": "markdown",
   "metadata": {},
   "source": [
    "# Plot top 10 active TFs - matching expression"
   ]
  },
  {
   "cell_type": "code",
   "execution_count": 234,
   "metadata": {},
   "outputs": [],
   "source": [
    "default_TF_activities = TF_activities"
   ]
  },
  {
   "cell_type": "code",
   "execution_count": 235,
   "metadata": {},
   "outputs": [],
   "source": [
    "TF_activities = subset(TF_activities, label != '')"
   ]
  },
  {
   "cell_type": "code",
   "execution_count": 236,
   "metadata": {},
   "outputs": [
    {
     "data": {
      "text/html": [
       "<table>\n",
       "<caption>A data.frame: 6 × 11</caption>\n",
       "<thead>\n",
       "\t<tr><th></th><th scope=col>cl_name</th><th scope=col>Regulon</th><th scope=col>NES</th><th scope=col>p.value</th><th scope=col>FDR</th><th scope=col>Size</th><th scope=col>id</th><th scope=col>label</th><th scope=col>value</th><th scope=col>Gene</th><th scope=col>rank</th></tr>\n",
       "\t<tr><th></th><th scope=col>&lt;chr&gt;</th><th scope=col>&lt;chr&gt;</th><th scope=col>&lt;dbl&gt;</th><th scope=col>&lt;dbl&gt;</th><th scope=col>&lt;dbl&gt;</th><th scope=col>&lt;int&gt;</th><th scope=col>&lt;chr&gt;</th><th scope=col>&lt;chr&gt;</th><th scope=col>&lt;dbl&gt;</th><th scope=col>&lt;chr&gt;</th><th scope=col>&lt;int&gt;</th></tr>\n",
       "</thead>\n",
       "<tbody>\n",
       "\t<tr><th scope=row>1</th><td>cl_ciliated_DEGs</td><td>ZNF19_E </td><td>15.881976</td><td>8.447424e-57</td><td>2.920697e-54</td><td>175</td><td>cl_ciliated_DEGs ZNF19_E </td><td>+</td><td>15.881976</td><td>ZNF19 </td><td>1</td></tr>\n",
       "\t<tr><th scope=row>2</th><td>cl_ciliated_DEGs</td><td>FOXJ1_E </td><td>15.116268</td><td>1.265129e-51</td><td>3.499348e-49</td><td>149</td><td>cl_ciliated_DEGs FOXJ1_E </td><td>+</td><td>15.116268</td><td>FOXJ1 </td><td>2</td></tr>\n",
       "\t<tr><th scope=row>3</th><td>cl_ciliated_DEGs</td><td>ZSCAN1_E</td><td> 8.735679</td><td>2.421973e-18</td><td>6.090162e-17</td><td>118</td><td>cl_ciliated_DEGs ZSCAN1_E</td><td>+</td><td> 8.735679</td><td>ZSCAN1</td><td>3</td></tr>\n",
       "\t<tr><th scope=row>4</th><td>cl_ciliated_DEGs</td><td>ZNF311_E</td><td> 8.074541</td><td>6.773112e-16</td><td>1.301002e-14</td><td>194</td><td>cl_ciliated_DEGs ZNF311_E</td><td>+</td><td> 8.074541</td><td>ZNF311</td><td>4</td></tr>\n",
       "\t<tr><th scope=row>5</th><td>cl_ciliated_DEGs</td><td>ZNF713_E</td><td> 7.498589</td><td>6.450836e-14</td><td>9.803853e-13</td><td> 84</td><td>cl_ciliated_DEGs ZNF713_E</td><td>+</td><td> 7.498589</td><td>ZNF713</td><td>5</td></tr>\n",
       "\t<tr><th scope=row>6</th><td>cl_ciliated_DEGs</td><td>HES6_E  </td><td> 6.989124</td><td>2.766088e-12</td><td>3.477727e-11</td><td>185</td><td>cl_ciliated_DEGs HES6_E  </td><td>+</td><td> 6.989124</td><td>HES6  </td><td>6</td></tr>\n",
       "</tbody>\n",
       "</table>\n"
      ],
      "text/latex": [
       "A data.frame: 6 × 11\n",
       "\\begin{tabular}{r|lllllllllll}\n",
       "  & cl\\_name & Regulon & NES & p.value & FDR & Size & id & label & value & Gene & rank\\\\\n",
       "  & <chr> & <chr> & <dbl> & <dbl> & <dbl> & <int> & <chr> & <chr> & <dbl> & <chr> & <int>\\\\\n",
       "\\hline\n",
       "\t1 & cl\\_ciliated\\_DEGs & ZNF19\\_E  & 15.881976 & 8.447424e-57 & 2.920697e-54 & 175 & cl\\_ciliated\\_DEGs ZNF19\\_E  & + & 15.881976 & ZNF19  & 1\\\\\n",
       "\t2 & cl\\_ciliated\\_DEGs & FOXJ1\\_E  & 15.116268 & 1.265129e-51 & 3.499348e-49 & 149 & cl\\_ciliated\\_DEGs FOXJ1\\_E  & + & 15.116268 & FOXJ1  & 2\\\\\n",
       "\t3 & cl\\_ciliated\\_DEGs & ZSCAN1\\_E &  8.735679 & 2.421973e-18 & 6.090162e-17 & 118 & cl\\_ciliated\\_DEGs ZSCAN1\\_E & + &  8.735679 & ZSCAN1 & 3\\\\\n",
       "\t4 & cl\\_ciliated\\_DEGs & ZNF311\\_E &  8.074541 & 6.773112e-16 & 1.301002e-14 & 194 & cl\\_ciliated\\_DEGs ZNF311\\_E & + &  8.074541 & ZNF311 & 4\\\\\n",
       "\t5 & cl\\_ciliated\\_DEGs & ZNF713\\_E &  7.498589 & 6.450836e-14 & 9.803853e-13 &  84 & cl\\_ciliated\\_DEGs ZNF713\\_E & + &  7.498589 & ZNF713 & 5\\\\\n",
       "\t6 & cl\\_ciliated\\_DEGs & HES6\\_E   &  6.989124 & 2.766088e-12 & 3.477727e-11 & 185 & cl\\_ciliated\\_DEGs HES6\\_E   & + &  6.989124 & HES6   & 6\\\\\n",
       "\\end{tabular}\n"
      ],
      "text/markdown": [
       "\n",
       "A data.frame: 6 × 11\n",
       "\n",
       "| <!--/--> | cl_name &lt;chr&gt; | Regulon &lt;chr&gt; | NES &lt;dbl&gt; | p.value &lt;dbl&gt; | FDR &lt;dbl&gt; | Size &lt;int&gt; | id &lt;chr&gt; | label &lt;chr&gt; | value &lt;dbl&gt; | Gene &lt;chr&gt; | rank &lt;int&gt; |\n",
       "|---|---|---|---|---|---|---|---|---|---|---|---|\n",
       "| 1 | cl_ciliated_DEGs | ZNF19_E  | 15.881976 | 8.447424e-57 | 2.920697e-54 | 175 | cl_ciliated_DEGs ZNF19_E  | + | 15.881976 | ZNF19  | 1 |\n",
       "| 2 | cl_ciliated_DEGs | FOXJ1_E  | 15.116268 | 1.265129e-51 | 3.499348e-49 | 149 | cl_ciliated_DEGs FOXJ1_E  | + | 15.116268 | FOXJ1  | 2 |\n",
       "| 3 | cl_ciliated_DEGs | ZSCAN1_E |  8.735679 | 2.421973e-18 | 6.090162e-17 | 118 | cl_ciliated_DEGs ZSCAN1_E | + |  8.735679 | ZSCAN1 | 3 |\n",
       "| 4 | cl_ciliated_DEGs | ZNF311_E |  8.074541 | 6.773112e-16 | 1.301002e-14 | 194 | cl_ciliated_DEGs ZNF311_E | + |  8.074541 | ZNF311 | 4 |\n",
       "| 5 | cl_ciliated_DEGs | ZNF713_E |  7.498589 | 6.450836e-14 | 9.803853e-13 |  84 | cl_ciliated_DEGs ZNF713_E | + |  7.498589 | ZNF713 | 5 |\n",
       "| 6 | cl_ciliated_DEGs | HES6_E   |  6.989124 | 2.766088e-12 | 3.477727e-11 | 185 | cl_ciliated_DEGs HES6_E   | + |  6.989124 | HES6   | 6 |\n",
       "\n"
      ],
      "text/plain": [
       "  cl_name          Regulon  NES       p.value      FDR          Size\n",
       "1 cl_ciliated_DEGs ZNF19_E  15.881976 8.447424e-57 2.920697e-54 175 \n",
       "2 cl_ciliated_DEGs FOXJ1_E  15.116268 1.265129e-51 3.499348e-49 149 \n",
       "3 cl_ciliated_DEGs ZSCAN1_E  8.735679 2.421973e-18 6.090162e-17 118 \n",
       "4 cl_ciliated_DEGs ZNF311_E  8.074541 6.773112e-16 1.301002e-14 194 \n",
       "5 cl_ciliated_DEGs ZNF713_E  7.498589 6.450836e-14 9.803853e-13  84 \n",
       "6 cl_ciliated_DEGs HES6_E    6.989124 2.766088e-12 3.477727e-11 185 \n",
       "  id                        label value     Gene   rank\n",
       "1 cl_ciliated_DEGs ZNF19_E  +     15.881976 ZNF19  1   \n",
       "2 cl_ciliated_DEGs FOXJ1_E  +     15.116268 FOXJ1  2   \n",
       "3 cl_ciliated_DEGs ZSCAN1_E +      8.735679 ZSCAN1 3   \n",
       "4 cl_ciliated_DEGs ZNF311_E +      8.074541 ZNF311 4   \n",
       "5 cl_ciliated_DEGs ZNF713_E +      7.498589 ZNF713 5   \n",
       "6 cl_ciliated_DEGs HES6_E   +      6.989124 HES6   6   "
      ]
     },
     "metadata": {},
     "output_type": "display_data"
    }
   ],
   "source": [
    "# Rank TFs according to their activity\n",
    "TF_activities = TF_activities[order(TF_activities$NES, decreasing = T), ]\n",
    "TF_activities$rank = NULL\n",
    "TF_activities = ddply(TF_activities, 'cl_name', function(df) data.frame(df, rank = 1:nrow(df)) )\n",
    "head(TF_activities)"
   ]
  },
  {
   "cell_type": "code",
   "execution_count": 237,
   "metadata": {},
   "outputs": [],
   "source": [
    "# order clusters\n",
    "TF_activities = rbind(subset(TF_activities, cl_name %in% 'cl_proliferative_DEGs'),\n",
    "                     subset(TF_activities, cl_name %in% 'cl_pre-secretory PAEP_DEGs'),\n",
    "                     subset(TF_activities, cl_name %in% 'cl_pre-secretory FHL2_DEGs'),\n",
    "                     subset(TF_activities, cl_name %in% 'cl_glandular_DEGs'),\n",
    "                     subset(TF_activities, cl_name %in% 'cl_ciliated_DEGs'))"
   ]
  },
  {
   "cell_type": "code",
   "execution_count": 238,
   "metadata": {},
   "outputs": [],
   "source": [
    "# Select top 10 ranked genes\n",
    "TF_activities$Gene = sapply(strsplit(TF_activities$Regulon, '_'), head, 1)\n",
    "top10 = subset(TF_activities, TF_activities$rank %in% 1:10 & NES > 0)$Gene"
   ]
  },
  {
   "cell_type": "code",
   "execution_count": 239,
   "metadata": {},
   "outputs": [
    {
     "data": {
      "text/html": [
       "<style>\n",
       ".list-inline {list-style: none; margin:0; padding: 0}\n",
       ".list-inline>li {display: inline-block}\n",
       ".list-inline>li:not(:last-child)::after {content: \"\\00b7\"; padding: 0 .5ex}\n",
       "</style>\n",
       "<ol class=list-inline><li>'cl_ciliated_DEGs'</li><li>'cl_glandular_DEGs'</li><li>'cl_pre-secretory FHL2_DEGs'</li><li>'cl_pre-secretory PAEP_DEGs'</li><li>'cl_proliferative_DEGs'</li></ol>\n"
      ],
      "text/latex": [
       "\\begin{enumerate*}\n",
       "\\item 'cl\\_ciliated\\_DEGs'\n",
       "\\item 'cl\\_glandular\\_DEGs'\n",
       "\\item 'cl\\_pre-secretory FHL2\\_DEGs'\n",
       "\\item 'cl\\_pre-secretory PAEP\\_DEGs'\n",
       "\\item 'cl\\_proliferative\\_DEGs'\n",
       "\\end{enumerate*}\n"
      ],
      "text/markdown": [
       "1. 'cl_ciliated_DEGs'\n",
       "2. 'cl_glandular_DEGs'\n",
       "3. 'cl_pre-secretory FHL2_DEGs'\n",
       "4. 'cl_pre-secretory PAEP_DEGs'\n",
       "5. 'cl_proliferative_DEGs'\n",
       "\n",
       "\n"
      ],
      "text/plain": [
       "[1] \"cl_ciliated_DEGs\"           \"cl_glandular_DEGs\"         \n",
       "[3] \"cl_pre-secretory FHL2_DEGs\" \"cl_pre-secretory PAEP_DEGs\"\n",
       "[5] \"cl_proliferative_DEGs\"     "
      ]
     },
     "metadata": {},
     "output_type": "display_data"
    }
   ],
   "source": [
    "# build matrix of TF activity scores to plot\n",
    "TF_activities$value = TF_activities$NES\n",
    "x = acast(subset(TF_activities, Gene %in% top10), Gene~cl_name, fill = 0)\n",
    "colnames(x)"
   ]
  },
  {
   "cell_type": "code",
   "execution_count": 240,
   "metadata": {},
   "outputs": [],
   "source": [
    "x = x[, c(5, 4, 3, 2, 1) ]\n",
    "colnames(x) = c('proliferative', 'preFHL2','prePAEP', 'glandular', 'ciliated')\n",
    "pheatmap(t(x[ top10, ]), cellheight = 10, cellwidth = 10, cluster_rows = F, cluster_cols = F, \n",
    "#          color = colorRampPalette(c(\"navy\", \"white\", \"red\"))(50),\n",
    "        filename = 'figures_primaryEpithelial_clean/cluster_markers/top10_TFs_activities_filtered_TFisDE.pdf')\n"
   ]
  },
  {
   "cell_type": "markdown",
   "metadata": {},
   "source": [
    "# Plot top 10 active TFs - curated TFs - confidence A,B"
   ]
  },
  {
   "cell_type": "code",
   "execution_count": 241,
   "metadata": {},
   "outputs": [],
   "source": [
    "TF_activities = default_TF_activities[ grep('_E$', default_TF_activities$Regulon, invert = T) , ]\n",
    "TF_activities = TF_activities[ grep('_D$', TF_activities$Regulon, invert = T) , ]\n",
    "TF_activities = TF_activities[ grep('_C$', TF_activities$Regulon, invert = T) , ]"
   ]
  },
  {
   "cell_type": "code",
   "execution_count": 242,
   "metadata": {},
   "outputs": [
    {
     "data": {
      "text/html": [
       "<table>\n",
       "<caption>A data.frame: 6 × 11</caption>\n",
       "<thead>\n",
       "\t<tr><th></th><th scope=col>cl_name</th><th scope=col>Regulon</th><th scope=col>NES</th><th scope=col>p.value</th><th scope=col>FDR</th><th scope=col>Size</th><th scope=col>id</th><th scope=col>label</th><th scope=col>value</th><th scope=col>Gene</th><th scope=col>rank</th></tr>\n",
       "\t<tr><th></th><th scope=col>&lt;chr&gt;</th><th scope=col>&lt;chr&gt;</th><th scope=col>&lt;dbl&gt;</th><th scope=col>&lt;dbl&gt;</th><th scope=col>&lt;dbl&gt;</th><th scope=col>&lt;int&gt;</th><th scope=col>&lt;chr&gt;</th><th scope=col>&lt;chr&gt;</th><th scope=col>&lt;dbl&gt;</th><th scope=col>&lt;chr&gt;</th><th scope=col>&lt;int&gt;</th></tr>\n",
       "</thead>\n",
       "<tbody>\n",
       "\t<tr><th scope=row>1</th><td>cl_ciliated_DEGs </td><td>PITX1_B </td><td>4.441791</td><td>8.921317e-06</td><td>4.269267e-05</td><td>11</td><td>cl_ciliated_DEGs PITX1_B  </td><td>+</td><td>4.441791</td><td>PITX1 </td><td>1</td></tr>\n",
       "\t<tr><th scope=row>2</th><td>cl_ciliated_DEGs </td><td>HIC1_B  </td><td>4.227835</td><td>2.359508e-05</td><td>1.066405e-04</td><td>10</td><td>cl_ciliated_DEGs HIC1_B   </td><td>+</td><td>4.227835</td><td>HIC1  </td><td>2</td></tr>\n",
       "\t<tr><th scope=row>3</th><td>cl_ciliated_DEGs </td><td>ZNF382_B</td><td>4.184658</td><td>2.855952e-05</td><td>1.278246e-04</td><td>10</td><td>cl_ciliated_DEGs ZNF382_B </td><td>+</td><td>4.184658</td><td>ZNF382</td><td>3</td></tr>\n",
       "\t<tr><th scope=row>4</th><td>cl_ciliated_DEGs </td><td>NFKBIA_B</td><td>3.576535</td><td>3.481781e-04</td><td>1.206843e-03</td><td>12</td><td>cl_ciliated_DEGs NFKBIA_B </td><td>-</td><td>3.576535</td><td>NFKBIA</td><td>4</td></tr>\n",
       "\t<tr><th scope=row>5</th><td>cl_glandular_DEGs</td><td>FOXO3_AA</td><td>5.741249</td><td>9.398083e-09</td><td>4.347006e-08</td><td>19</td><td>cl_glandular_DEGs FOXO3_AA</td><td>-</td><td>5.741249</td><td>FOXO3 </td><td>1</td></tr>\n",
       "\t<tr><th scope=row>6</th><td>cl_glandular_DEGs</td><td>HIF1A_AA</td><td>5.253660</td><td>1.491063e-07</td><td>6.174074e-07</td><td>60</td><td>cl_glandular_DEGs HIF1A_AA</td><td>+</td><td>5.253660</td><td>HIF1A </td><td>2</td></tr>\n",
       "</tbody>\n",
       "</table>\n"
      ],
      "text/latex": [
       "A data.frame: 6 × 11\n",
       "\\begin{tabular}{r|lllllllllll}\n",
       "  & cl\\_name & Regulon & NES & p.value & FDR & Size & id & label & value & Gene & rank\\\\\n",
       "  & <chr> & <chr> & <dbl> & <dbl> & <dbl> & <int> & <chr> & <chr> & <dbl> & <chr> & <int>\\\\\n",
       "\\hline\n",
       "\t1 & cl\\_ciliated\\_DEGs  & PITX1\\_B  & 4.441791 & 8.921317e-06 & 4.269267e-05 & 11 & cl\\_ciliated\\_DEGs PITX1\\_B   & + & 4.441791 & PITX1  & 1\\\\\n",
       "\t2 & cl\\_ciliated\\_DEGs  & HIC1\\_B   & 4.227835 & 2.359508e-05 & 1.066405e-04 & 10 & cl\\_ciliated\\_DEGs HIC1\\_B    & + & 4.227835 & HIC1   & 2\\\\\n",
       "\t3 & cl\\_ciliated\\_DEGs  & ZNF382\\_B & 4.184658 & 2.855952e-05 & 1.278246e-04 & 10 & cl\\_ciliated\\_DEGs ZNF382\\_B  & + & 4.184658 & ZNF382 & 3\\\\\n",
       "\t4 & cl\\_ciliated\\_DEGs  & NFKBIA\\_B & 3.576535 & 3.481781e-04 & 1.206843e-03 & 12 & cl\\_ciliated\\_DEGs NFKBIA\\_B  & - & 3.576535 & NFKBIA & 4\\\\\n",
       "\t5 & cl\\_glandular\\_DEGs & FOXO3\\_AA & 5.741249 & 9.398083e-09 & 4.347006e-08 & 19 & cl\\_glandular\\_DEGs FOXO3\\_AA & - & 5.741249 & FOXO3  & 1\\\\\n",
       "\t6 & cl\\_glandular\\_DEGs & HIF1A\\_AA & 5.253660 & 1.491063e-07 & 6.174074e-07 & 60 & cl\\_glandular\\_DEGs HIF1A\\_AA & + & 5.253660 & HIF1A  & 2\\\\\n",
       "\\end{tabular}\n"
      ],
      "text/markdown": [
       "\n",
       "A data.frame: 6 × 11\n",
       "\n",
       "| <!--/--> | cl_name &lt;chr&gt; | Regulon &lt;chr&gt; | NES &lt;dbl&gt; | p.value &lt;dbl&gt; | FDR &lt;dbl&gt; | Size &lt;int&gt; | id &lt;chr&gt; | label &lt;chr&gt; | value &lt;dbl&gt; | Gene &lt;chr&gt; | rank &lt;int&gt; |\n",
       "|---|---|---|---|---|---|---|---|---|---|---|---|\n",
       "| 1 | cl_ciliated_DEGs  | PITX1_B  | 4.441791 | 8.921317e-06 | 4.269267e-05 | 11 | cl_ciliated_DEGs PITX1_B   | + | 4.441791 | PITX1  | 1 |\n",
       "| 2 | cl_ciliated_DEGs  | HIC1_B   | 4.227835 | 2.359508e-05 | 1.066405e-04 | 10 | cl_ciliated_DEGs HIC1_B    | + | 4.227835 | HIC1   | 2 |\n",
       "| 3 | cl_ciliated_DEGs  | ZNF382_B | 4.184658 | 2.855952e-05 | 1.278246e-04 | 10 | cl_ciliated_DEGs ZNF382_B  | + | 4.184658 | ZNF382 | 3 |\n",
       "| 4 | cl_ciliated_DEGs  | NFKBIA_B | 3.576535 | 3.481781e-04 | 1.206843e-03 | 12 | cl_ciliated_DEGs NFKBIA_B  | - | 3.576535 | NFKBIA | 4 |\n",
       "| 5 | cl_glandular_DEGs | FOXO3_AA | 5.741249 | 9.398083e-09 | 4.347006e-08 | 19 | cl_glandular_DEGs FOXO3_AA | - | 5.741249 | FOXO3  | 1 |\n",
       "| 6 | cl_glandular_DEGs | HIF1A_AA | 5.253660 | 1.491063e-07 | 6.174074e-07 | 60 | cl_glandular_DEGs HIF1A_AA | + | 5.253660 | HIF1A  | 2 |\n",
       "\n"
      ],
      "text/plain": [
       "  cl_name           Regulon  NES      p.value      FDR          Size\n",
       "1 cl_ciliated_DEGs  PITX1_B  4.441791 8.921317e-06 4.269267e-05 11  \n",
       "2 cl_ciliated_DEGs  HIC1_B   4.227835 2.359508e-05 1.066405e-04 10  \n",
       "3 cl_ciliated_DEGs  ZNF382_B 4.184658 2.855952e-05 1.278246e-04 10  \n",
       "4 cl_ciliated_DEGs  NFKBIA_B 3.576535 3.481781e-04 1.206843e-03 12  \n",
       "5 cl_glandular_DEGs FOXO3_AA 5.741249 9.398083e-09 4.347006e-08 19  \n",
       "6 cl_glandular_DEGs HIF1A_AA 5.253660 1.491063e-07 6.174074e-07 60  \n",
       "  id                         label value    Gene   rank\n",
       "1 cl_ciliated_DEGs PITX1_B   +     4.441791 PITX1  1   \n",
       "2 cl_ciliated_DEGs HIC1_B    +     4.227835 HIC1   2   \n",
       "3 cl_ciliated_DEGs ZNF382_B  +     4.184658 ZNF382 3   \n",
       "4 cl_ciliated_DEGs NFKBIA_B  -     3.576535 NFKBIA 4   \n",
       "5 cl_glandular_DEGs FOXO3_AA -     5.741249 FOXO3  1   \n",
       "6 cl_glandular_DEGs HIF1A_AA +     5.253660 HIF1A  2   "
      ]
     },
     "metadata": {},
     "output_type": "display_data"
    }
   ],
   "source": [
    "# Rank TFs according to their activity\n",
    "TF_activities = TF_activities[order(TF_activities$NES, decreasing = T), ]\n",
    "TF_activities$rank = NULL\n",
    "TF_activities = ddply(TF_activities, 'cl_name', function(df) data.frame(df, rank = 1:nrow(df)) )\n",
    "head(TF_activities)"
   ]
  },
  {
   "cell_type": "code",
   "execution_count": 243,
   "metadata": {},
   "outputs": [],
   "source": [
    "# order clusters\n",
    "TF_activities = rbind(subset(TF_activities, cl_name %in% 'cl_proliferative_DEGs'),\n",
    "                     subset(TF_activities, cl_name %in% 'cl_pre-secretory PAEP_DEGs'),\n",
    "                     subset(TF_activities, cl_name %in% 'cl_pre-secretory FHL2_DEGs'),\n",
    "                     subset(TF_activities, cl_name %in% 'cl_glandular_DEGs'),\n",
    "                     subset(TF_activities, cl_name %in% 'cl_ciliated_DEGs'))"
   ]
  },
  {
   "cell_type": "code",
   "execution_count": 244,
   "metadata": {},
   "outputs": [],
   "source": [
    "# Select top 10 ranked genes\n",
    "TF_activities$Gene = sapply(strsplit(TF_activities$Regulon, '_'), head, 1)\n",
    "top10 = subset(TF_activities, rank %in% 1:10 & NES > 0)$Gene"
   ]
  },
  {
   "cell_type": "code",
   "execution_count": 245,
   "metadata": {},
   "outputs": [
    {
     "data": {
      "text/html": [
       "<style>\n",
       ".list-inline {list-style: none; margin:0; padding: 0}\n",
       ".list-inline>li {display: inline-block}\n",
       ".list-inline>li:not(:last-child)::after {content: \"\\00b7\"; padding: 0 .5ex}\n",
       "</style>\n",
       "<ol class=list-inline><li>'cl_ciliated_DEGs'</li><li>'cl_glandular_DEGs'</li><li>'cl_pre-secretory FHL2_DEGs'</li><li>'cl_pre-secretory PAEP_DEGs'</li><li>'cl_proliferative_DEGs'</li></ol>\n"
      ],
      "text/latex": [
       "\\begin{enumerate*}\n",
       "\\item 'cl\\_ciliated\\_DEGs'\n",
       "\\item 'cl\\_glandular\\_DEGs'\n",
       "\\item 'cl\\_pre-secretory FHL2\\_DEGs'\n",
       "\\item 'cl\\_pre-secretory PAEP\\_DEGs'\n",
       "\\item 'cl\\_proliferative\\_DEGs'\n",
       "\\end{enumerate*}\n"
      ],
      "text/markdown": [
       "1. 'cl_ciliated_DEGs'\n",
       "2. 'cl_glandular_DEGs'\n",
       "3. 'cl_pre-secretory FHL2_DEGs'\n",
       "4. 'cl_pre-secretory PAEP_DEGs'\n",
       "5. 'cl_proliferative_DEGs'\n",
       "\n",
       "\n"
      ],
      "text/plain": [
       "[1] \"cl_ciliated_DEGs\"           \"cl_glandular_DEGs\"         \n",
       "[3] \"cl_pre-secretory FHL2_DEGs\" \"cl_pre-secretory PAEP_DEGs\"\n",
       "[5] \"cl_proliferative_DEGs\"     "
      ]
     },
     "metadata": {},
     "output_type": "display_data"
    }
   ],
   "source": [
    "# build matrix of TF activity scores to plot\n",
    "TF_activities$value = TF_activities$NES\n",
    "x = acast(subset(TF_activities, Gene %in% top10), Gene~cl_name, fill = 0)\n",
    "colnames(x)"
   ]
  },
  {
   "cell_type": "code",
   "execution_count": 246,
   "metadata": {},
   "outputs": [],
   "source": [
    "x = x[, c(5, 4, 3, 2, 1) ]\n",
    "colnames(x) = c('proliferative', 'preFHL2','prePAEP', 'glandular', 'ciliated')\n",
    "pheatmap(t(x[ top10, ]), cellheight = 10, cellwidth = 10, cluster_rows = F, cluster_cols = F, \n",
    "#          color = colorRampPalette(c(\"navy\", \"white\", \"red\"))(50),\n",
    "        filename = 'figures_primaryEpithelial_clean/cluster_markers/top10_TFs_activities_filtered_curatedTFs.pdf')\n"
   ]
  },
  {
   "cell_type": "markdown",
   "metadata": {},
   "source": [
    "# Plot top 10 active TFs - curated and DE TFs"
   ]
  },
  {
   "cell_type": "code",
   "execution_count": 247,
   "metadata": {},
   "outputs": [],
   "source": [
    "TF_activities = default_TF_activities[ grep('_E$', default_TF_activities$Regulon, invert = T) , ]\n",
    "TF_activities = TF_activities[ grep('_D$', TF_activities$Regulon, invert = T) , ]\n",
    "TF_activities = TF_activities[ grep('_C$', TF_activities$Regulon, invert = T) , ]\n",
    "TF_activities = subset(TF_activities, label != '')"
   ]
  },
  {
   "cell_type": "code",
   "execution_count": 248,
   "metadata": {},
   "outputs": [
    {
     "data": {
      "text/html": [
       "<table>\n",
       "<caption>A data.frame: 6 × 11</caption>\n",
       "<thead>\n",
       "\t<tr><th></th><th scope=col>cl_name</th><th scope=col>Regulon</th><th scope=col>NES</th><th scope=col>p.value</th><th scope=col>FDR</th><th scope=col>Size</th><th scope=col>id</th><th scope=col>label</th><th scope=col>value</th><th scope=col>Gene</th><th scope=col>rank</th></tr>\n",
       "\t<tr><th></th><th scope=col>&lt;chr&gt;</th><th scope=col>&lt;chr&gt;</th><th scope=col>&lt;dbl&gt;</th><th scope=col>&lt;dbl&gt;</th><th scope=col>&lt;dbl&gt;</th><th scope=col>&lt;int&gt;</th><th scope=col>&lt;chr&gt;</th><th scope=col>&lt;chr&gt;</th><th scope=col>&lt;dbl&gt;</th><th scope=col>&lt;chr&gt;</th><th scope=col>&lt;int&gt;</th></tr>\n",
       "</thead>\n",
       "<tbody>\n",
       "\t<tr><th scope=row>1</th><td>cl_ciliated_DEGs </td><td>PITX1_B </td><td>4.441791</td><td>8.921317e-06</td><td>4.269267e-05</td><td>11</td><td>cl_ciliated_DEGs PITX1_B  </td><td>+</td><td>4.441791</td><td>PITX1 </td><td>1</td></tr>\n",
       "\t<tr><th scope=row>2</th><td>cl_ciliated_DEGs </td><td>HIC1_B  </td><td>4.227835</td><td>2.359508e-05</td><td>1.066405e-04</td><td>10</td><td>cl_ciliated_DEGs HIC1_B   </td><td>+</td><td>4.227835</td><td>HIC1  </td><td>2</td></tr>\n",
       "\t<tr><th scope=row>3</th><td>cl_ciliated_DEGs </td><td>ZNF382_B</td><td>4.184658</td><td>2.855952e-05</td><td>1.278246e-04</td><td>10</td><td>cl_ciliated_DEGs ZNF382_B </td><td>+</td><td>4.184658</td><td>ZNF382</td><td>3</td></tr>\n",
       "\t<tr><th scope=row>4</th><td>cl_ciliated_DEGs </td><td>NFKBIA_B</td><td>3.576535</td><td>3.481781e-04</td><td>1.206843e-03</td><td>12</td><td>cl_ciliated_DEGs NFKBIA_B </td><td>-</td><td>3.576535</td><td>NFKBIA</td><td>4</td></tr>\n",
       "\t<tr><th scope=row>5</th><td>cl_glandular_DEGs</td><td>FOXO3_AA</td><td>5.741249</td><td>9.398083e-09</td><td>4.347006e-08</td><td>19</td><td>cl_glandular_DEGs FOXO3_AA</td><td>-</td><td>5.741249</td><td>FOXO3 </td><td>1</td></tr>\n",
       "\t<tr><th scope=row>6</th><td>cl_glandular_DEGs</td><td>HIF1A_AA</td><td>5.253660</td><td>1.491063e-07</td><td>6.174074e-07</td><td>60</td><td>cl_glandular_DEGs HIF1A_AA</td><td>+</td><td>5.253660</td><td>HIF1A </td><td>2</td></tr>\n",
       "</tbody>\n",
       "</table>\n"
      ],
      "text/latex": [
       "A data.frame: 6 × 11\n",
       "\\begin{tabular}{r|lllllllllll}\n",
       "  & cl\\_name & Regulon & NES & p.value & FDR & Size & id & label & value & Gene & rank\\\\\n",
       "  & <chr> & <chr> & <dbl> & <dbl> & <dbl> & <int> & <chr> & <chr> & <dbl> & <chr> & <int>\\\\\n",
       "\\hline\n",
       "\t1 & cl\\_ciliated\\_DEGs  & PITX1\\_B  & 4.441791 & 8.921317e-06 & 4.269267e-05 & 11 & cl\\_ciliated\\_DEGs PITX1\\_B   & + & 4.441791 & PITX1  & 1\\\\\n",
       "\t2 & cl\\_ciliated\\_DEGs  & HIC1\\_B   & 4.227835 & 2.359508e-05 & 1.066405e-04 & 10 & cl\\_ciliated\\_DEGs HIC1\\_B    & + & 4.227835 & HIC1   & 2\\\\\n",
       "\t3 & cl\\_ciliated\\_DEGs  & ZNF382\\_B & 4.184658 & 2.855952e-05 & 1.278246e-04 & 10 & cl\\_ciliated\\_DEGs ZNF382\\_B  & + & 4.184658 & ZNF382 & 3\\\\\n",
       "\t4 & cl\\_ciliated\\_DEGs  & NFKBIA\\_B & 3.576535 & 3.481781e-04 & 1.206843e-03 & 12 & cl\\_ciliated\\_DEGs NFKBIA\\_B  & - & 3.576535 & NFKBIA & 4\\\\\n",
       "\t5 & cl\\_glandular\\_DEGs & FOXO3\\_AA & 5.741249 & 9.398083e-09 & 4.347006e-08 & 19 & cl\\_glandular\\_DEGs FOXO3\\_AA & - & 5.741249 & FOXO3  & 1\\\\\n",
       "\t6 & cl\\_glandular\\_DEGs & HIF1A\\_AA & 5.253660 & 1.491063e-07 & 6.174074e-07 & 60 & cl\\_glandular\\_DEGs HIF1A\\_AA & + & 5.253660 & HIF1A  & 2\\\\\n",
       "\\end{tabular}\n"
      ],
      "text/markdown": [
       "\n",
       "A data.frame: 6 × 11\n",
       "\n",
       "| <!--/--> | cl_name &lt;chr&gt; | Regulon &lt;chr&gt; | NES &lt;dbl&gt; | p.value &lt;dbl&gt; | FDR &lt;dbl&gt; | Size &lt;int&gt; | id &lt;chr&gt; | label &lt;chr&gt; | value &lt;dbl&gt; | Gene &lt;chr&gt; | rank &lt;int&gt; |\n",
       "|---|---|---|---|---|---|---|---|---|---|---|---|\n",
       "| 1 | cl_ciliated_DEGs  | PITX1_B  | 4.441791 | 8.921317e-06 | 4.269267e-05 | 11 | cl_ciliated_DEGs PITX1_B   | + | 4.441791 | PITX1  | 1 |\n",
       "| 2 | cl_ciliated_DEGs  | HIC1_B   | 4.227835 | 2.359508e-05 | 1.066405e-04 | 10 | cl_ciliated_DEGs HIC1_B    | + | 4.227835 | HIC1   | 2 |\n",
       "| 3 | cl_ciliated_DEGs  | ZNF382_B | 4.184658 | 2.855952e-05 | 1.278246e-04 | 10 | cl_ciliated_DEGs ZNF382_B  | + | 4.184658 | ZNF382 | 3 |\n",
       "| 4 | cl_ciliated_DEGs  | NFKBIA_B | 3.576535 | 3.481781e-04 | 1.206843e-03 | 12 | cl_ciliated_DEGs NFKBIA_B  | - | 3.576535 | NFKBIA | 4 |\n",
       "| 5 | cl_glandular_DEGs | FOXO3_AA | 5.741249 | 9.398083e-09 | 4.347006e-08 | 19 | cl_glandular_DEGs FOXO3_AA | - | 5.741249 | FOXO3  | 1 |\n",
       "| 6 | cl_glandular_DEGs | HIF1A_AA | 5.253660 | 1.491063e-07 | 6.174074e-07 | 60 | cl_glandular_DEGs HIF1A_AA | + | 5.253660 | HIF1A  | 2 |\n",
       "\n"
      ],
      "text/plain": [
       "  cl_name           Regulon  NES      p.value      FDR          Size\n",
       "1 cl_ciliated_DEGs  PITX1_B  4.441791 8.921317e-06 4.269267e-05 11  \n",
       "2 cl_ciliated_DEGs  HIC1_B   4.227835 2.359508e-05 1.066405e-04 10  \n",
       "3 cl_ciliated_DEGs  ZNF382_B 4.184658 2.855952e-05 1.278246e-04 10  \n",
       "4 cl_ciliated_DEGs  NFKBIA_B 3.576535 3.481781e-04 1.206843e-03 12  \n",
       "5 cl_glandular_DEGs FOXO3_AA 5.741249 9.398083e-09 4.347006e-08 19  \n",
       "6 cl_glandular_DEGs HIF1A_AA 5.253660 1.491063e-07 6.174074e-07 60  \n",
       "  id                         label value    Gene   rank\n",
       "1 cl_ciliated_DEGs PITX1_B   +     4.441791 PITX1  1   \n",
       "2 cl_ciliated_DEGs HIC1_B    +     4.227835 HIC1   2   \n",
       "3 cl_ciliated_DEGs ZNF382_B  +     4.184658 ZNF382 3   \n",
       "4 cl_ciliated_DEGs NFKBIA_B  -     3.576535 NFKBIA 4   \n",
       "5 cl_glandular_DEGs FOXO3_AA -     5.741249 FOXO3  1   \n",
       "6 cl_glandular_DEGs HIF1A_AA +     5.253660 HIF1A  2   "
      ]
     },
     "metadata": {},
     "output_type": "display_data"
    }
   ],
   "source": [
    "# Rank TFs according to their activity\n",
    "TF_activities = TF_activities[order(TF_activities$NES, decreasing = T), ]\n",
    "TF_activities$rank = NULL\n",
    "TF_activities = ddply(TF_activities, 'cl_name', function(df) data.frame(df, rank = 1:nrow(df)) )\n",
    "head(TF_activities)"
   ]
  },
  {
   "cell_type": "code",
   "execution_count": 249,
   "metadata": {},
   "outputs": [],
   "source": [
    "# order clusters\n",
    "TF_activities = rbind(subset(TF_activities, cl_name %in% 'cl_proliferative_DEGs'),\n",
    "                     subset(TF_activities, cl_name %in% 'cl_pre-secretory PAEP_DEGs'),\n",
    "                     subset(TF_activities, cl_name %in% 'cl_pre-secretory FHL2_DEGs'),\n",
    "                     subset(TF_activities, cl_name %in% 'cl_glandular_DEGs'),\n",
    "                     subset(TF_activities, cl_name %in% 'cl_ciliated_DEGs'))"
   ]
  },
  {
   "cell_type": "code",
   "execution_count": 250,
   "metadata": {},
   "outputs": [],
   "source": [
    "# Select top 10 ranked genes\n",
    "TF_activities$Gene = sapply(strsplit(TF_activities$Regulon, '_'), head, 1)\n",
    "top10 = subset(TF_activities, rank %in% 1:10 & NES > 0)$Gene"
   ]
  },
  {
   "cell_type": "code",
   "execution_count": 251,
   "metadata": {},
   "outputs": [
    {
     "data": {
      "text/html": [
       "<style>\n",
       ".list-inline {list-style: none; margin:0; padding: 0}\n",
       ".list-inline>li {display: inline-block}\n",
       ".list-inline>li:not(:last-child)::after {content: \"\\00b7\"; padding: 0 .5ex}\n",
       "</style>\n",
       "<ol class=list-inline><li>'cl_ciliated_DEGs'</li><li>'cl_glandular_DEGs'</li><li>'cl_pre-secretory FHL2_DEGs'</li><li>'cl_pre-secretory PAEP_DEGs'</li><li>'cl_proliferative_DEGs'</li></ol>\n"
      ],
      "text/latex": [
       "\\begin{enumerate*}\n",
       "\\item 'cl\\_ciliated\\_DEGs'\n",
       "\\item 'cl\\_glandular\\_DEGs'\n",
       "\\item 'cl\\_pre-secretory FHL2\\_DEGs'\n",
       "\\item 'cl\\_pre-secretory PAEP\\_DEGs'\n",
       "\\item 'cl\\_proliferative\\_DEGs'\n",
       "\\end{enumerate*}\n"
      ],
      "text/markdown": [
       "1. 'cl_ciliated_DEGs'\n",
       "2. 'cl_glandular_DEGs'\n",
       "3. 'cl_pre-secretory FHL2_DEGs'\n",
       "4. 'cl_pre-secretory PAEP_DEGs'\n",
       "5. 'cl_proliferative_DEGs'\n",
       "\n",
       "\n"
      ],
      "text/plain": [
       "[1] \"cl_ciliated_DEGs\"           \"cl_glandular_DEGs\"         \n",
       "[3] \"cl_pre-secretory FHL2_DEGs\" \"cl_pre-secretory PAEP_DEGs\"\n",
       "[5] \"cl_proliferative_DEGs\"     "
      ]
     },
     "metadata": {},
     "output_type": "display_data"
    }
   ],
   "source": [
    "# build matrix of TF activity scores to plot\n",
    "TF_activities$value = TF_activities$NES\n",
    "x = acast(subset(TF_activities, Gene %in% top10), Gene~cl_name, fill = 0)\n",
    "colnames(x)"
   ]
  },
  {
   "cell_type": "code",
   "execution_count": 252,
   "metadata": {},
   "outputs": [],
   "source": [
    "x = x[, c(5, 4, 3, 2, 1) ]\n",
    "colnames(x) = c('proliferative', 'preFHL2','prePAEP', 'glandular', 'ciliated')\n",
    "pheatmap(t(x[ top10, ]), cellheight = 10, cellwidth = 10, cluster_rows = F, cluster_cols = F, \n",
    "#          color = colorRampPalette(c(\"navy\", \"white\", \"red\"))(50),\n",
    "        filename = 'figures_primaryEpithelial_clean/cluster_markers/top10_TFs_activities_filtered_curatedTFs_TFisDE.pdf')\n"
   ]
  },
  {
   "cell_type": "markdown",
   "metadata": {},
   "source": [
    "# Plot top 10 DE TFs"
   ]
  },
  {
   "cell_type": "code",
   "execution_count": 253,
   "metadata": {},
   "outputs": [],
   "source": [
    "TFs = read.csv('data/scenic/huTF_census.txt', stringsAsFactors = F, header = F)$V1\n",
    "\n",
    "\n",
    "\n",
    "DE_gland = read.csv('figures_primaryEpithelial_clean/cluster_markers/glandular_DEGs.csv', stringsAsFactors = F)\n",
    "DE_ciliated = read.csv('figures_primaryEpithelial_clean/cluster_markers/ciliated_DEGs.csv', stringsAsFactors = F)\n",
    "DE_preFHL2 = read.csv('figures_primaryEpithelial_clean/cluster_markers/pre-secretory FHL2_DEGs.csv', stringsAsFactors = F)\n",
    "DE_prePAEP = read.csv('figures_primaryEpithelial_clean/cluster_markers/pre-secretory PAEP_DEGs.csv', stringsAsFactors = F)\n",
    "DE_proliferative = read.csv('figures_primaryEpithelial_clean/cluster_markers/proliferative_DEGs.csv', stringsAsFactors = F)\n",
    "\n",
    "DE = list(proliferative=DE_proliferative,\n",
    "         presecretory_FHL2=DE_preFHL2,\n",
    "         presecretory_PAEP=DE_prePAEP,\n",
    "         glandular=DE_gland,\n",
    "         ciliated=DE_ciliated)\n",
    "\n",
    "DE = lapply(DE, function(x){\n",
    "    x = subset(x, Gene %in% TFs)\n",
    "    x = x[ order(x$logFC, decreasing = T) ,]\n",
    "    x$rank = 1:nrow(x)\n",
    "    return(x)\n",
    "})\n"
   ]
  },
  {
   "cell_type": "code",
   "execution_count": 254,
   "metadata": {},
   "outputs": [
    {
     "data": {
      "text/html": [
       "<table>\n",
       "<caption>A data.frame: 6 × 10</caption>\n",
       "<thead>\n",
       "\t<tr><th></th><th scope=col>Gene</th><th scope=col>logFC</th><th scope=col>P.Value</th><th scope=col>adj.P.Val</th><th scope=col>AveExpr_cluster</th><th scope=col>AveExpr_rest</th><th scope=col>percentExpr_cluster</th><th scope=col>percentExpr_rest</th><th scope=col>rank</th><th scope=col>L1</th></tr>\n",
       "\t<tr><th></th><th scope=col>&lt;chr&gt;</th><th scope=col>&lt;dbl&gt;</th><th scope=col>&lt;dbl&gt;</th><th scope=col>&lt;dbl&gt;</th><th scope=col>&lt;dbl&gt;</th><th scope=col>&lt;dbl&gt;</th><th scope=col>&lt;dbl&gt;</th><th scope=col>&lt;dbl&gt;</th><th scope=col>&lt;int&gt;</th><th scope=col>&lt;chr&gt;</th></tr>\n",
       "</thead>\n",
       "<tbody>\n",
       "\t<tr><th scope=row>1</th><td>PGR  </td><td>1.1851792</td><td> 0.000000e+00</td><td> 0.000000e+00</td><td>1.614316</td><td>0.401176</td><td>0.972064</td><td>0.339943</td><td>1</td><td>proliferative</td></tr>\n",
       "\t<tr><th scope=row>2</th><td>MSX1 </td><td>0.8422654</td><td>7.335177e-227</td><td>1.615489e-224</td><td>2.019669</td><td>0.956652</td><td>0.988597</td><td>0.616431</td><td>2</td><td>proliferative</td></tr>\n",
       "\t<tr><th scope=row>3</th><td>ESR1 </td><td>0.6246472</td><td>1.859605e-179</td><td>2.224753e-177</td><td>1.391341</td><td>0.595358</td><td>0.958381</td><td>0.493201</td><td>3</td><td>proliferative</td></tr>\n",
       "\t<tr><th scope=row>4</th><td>YBX1 </td><td>0.6112792</td><td>6.706856e-127</td><td>4.625822e-125</td><td>2.116048</td><td>1.485907</td><td>0.995439</td><td>0.799433</td><td>4</td><td>proliferative</td></tr>\n",
       "\t<tr><th scope=row>5</th><td>SOX17</td><td>0.6022863</td><td> 3.721524e-99</td><td> 1.689153e-97</td><td>1.744780</td><td>1.214902</td><td>0.976625</td><td>0.717564</td><td>5</td><td>proliferative</td></tr>\n",
       "\t<tr><th scope=row>6</th><td>MSX2 </td><td>0.5586018</td><td>6.697313e-182</td><td>8.428611e-180</td><td>0.969983</td><td>0.301522</td><td>0.851767</td><td>0.309348</td><td>6</td><td>proliferative</td></tr>\n",
       "</tbody>\n",
       "</table>\n"
      ],
      "text/latex": [
       "A data.frame: 6 × 10\n",
       "\\begin{tabular}{r|llllllllll}\n",
       "  & Gene & logFC & P.Value & adj.P.Val & AveExpr\\_cluster & AveExpr\\_rest & percentExpr\\_cluster & percentExpr\\_rest & rank & L1\\\\\n",
       "  & <chr> & <dbl> & <dbl> & <dbl> & <dbl> & <dbl> & <dbl> & <dbl> & <int> & <chr>\\\\\n",
       "\\hline\n",
       "\t1 & PGR   & 1.1851792 &  0.000000e+00 &  0.000000e+00 & 1.614316 & 0.401176 & 0.972064 & 0.339943 & 1 & proliferative\\\\\n",
       "\t2 & MSX1  & 0.8422654 & 7.335177e-227 & 1.615489e-224 & 2.019669 & 0.956652 & 0.988597 & 0.616431 & 2 & proliferative\\\\\n",
       "\t3 & ESR1  & 0.6246472 & 1.859605e-179 & 2.224753e-177 & 1.391341 & 0.595358 & 0.958381 & 0.493201 & 3 & proliferative\\\\\n",
       "\t4 & YBX1  & 0.6112792 & 6.706856e-127 & 4.625822e-125 & 2.116048 & 1.485907 & 0.995439 & 0.799433 & 4 & proliferative\\\\\n",
       "\t5 & SOX17 & 0.6022863 &  3.721524e-99 &  1.689153e-97 & 1.744780 & 1.214902 & 0.976625 & 0.717564 & 5 & proliferative\\\\\n",
       "\t6 & MSX2  & 0.5586018 & 6.697313e-182 & 8.428611e-180 & 0.969983 & 0.301522 & 0.851767 & 0.309348 & 6 & proliferative\\\\\n",
       "\\end{tabular}\n"
      ],
      "text/markdown": [
       "\n",
       "A data.frame: 6 × 10\n",
       "\n",
       "| <!--/--> | Gene &lt;chr&gt; | logFC &lt;dbl&gt; | P.Value &lt;dbl&gt; | adj.P.Val &lt;dbl&gt; | AveExpr_cluster &lt;dbl&gt; | AveExpr_rest &lt;dbl&gt; | percentExpr_cluster &lt;dbl&gt; | percentExpr_rest &lt;dbl&gt; | rank &lt;int&gt; | L1 &lt;chr&gt; |\n",
       "|---|---|---|---|---|---|---|---|---|---|---|\n",
       "| 1 | PGR   | 1.1851792 |  0.000000e+00 |  0.000000e+00 | 1.614316 | 0.401176 | 0.972064 | 0.339943 | 1 | proliferative |\n",
       "| 2 | MSX1  | 0.8422654 | 7.335177e-227 | 1.615489e-224 | 2.019669 | 0.956652 | 0.988597 | 0.616431 | 2 | proliferative |\n",
       "| 3 | ESR1  | 0.6246472 | 1.859605e-179 | 2.224753e-177 | 1.391341 | 0.595358 | 0.958381 | 0.493201 | 3 | proliferative |\n",
       "| 4 | YBX1  | 0.6112792 | 6.706856e-127 | 4.625822e-125 | 2.116048 | 1.485907 | 0.995439 | 0.799433 | 4 | proliferative |\n",
       "| 5 | SOX17 | 0.6022863 |  3.721524e-99 |  1.689153e-97 | 1.744780 | 1.214902 | 0.976625 | 0.717564 | 5 | proliferative |\n",
       "| 6 | MSX2  | 0.5586018 | 6.697313e-182 | 8.428611e-180 | 0.969983 | 0.301522 | 0.851767 | 0.309348 | 6 | proliferative |\n",
       "\n"
      ],
      "text/plain": [
       "  Gene  logFC     P.Value       adj.P.Val     AveExpr_cluster AveExpr_rest\n",
       "1 PGR   1.1851792  0.000000e+00  0.000000e+00 1.614316        0.401176    \n",
       "2 MSX1  0.8422654 7.335177e-227 1.615489e-224 2.019669        0.956652    \n",
       "3 ESR1  0.6246472 1.859605e-179 2.224753e-177 1.391341        0.595358    \n",
       "4 YBX1  0.6112792 6.706856e-127 4.625822e-125 2.116048        1.485907    \n",
       "5 SOX17 0.6022863  3.721524e-99  1.689153e-97 1.744780        1.214902    \n",
       "6 MSX2  0.5586018 6.697313e-182 8.428611e-180 0.969983        0.301522    \n",
       "  percentExpr_cluster percentExpr_rest rank L1           \n",
       "1 0.972064            0.339943         1    proliferative\n",
       "2 0.988597            0.616431         2    proliferative\n",
       "3 0.958381            0.493201         3    proliferative\n",
       "4 0.995439            0.799433         4    proliferative\n",
       "5 0.976625            0.717564         5    proliferative\n",
       "6 0.851767            0.309348         6    proliferative"
      ]
     },
     "metadata": {},
     "output_type": "display_data"
    }
   ],
   "source": [
    "DE_df = melt(DE, id.vars = names(DE[[1]]) )\n",
    "head(DE_df)"
   ]
  },
  {
   "cell_type": "code",
   "execution_count": 255,
   "metadata": {},
   "outputs": [],
   "source": [
    "# Select top 10 ranked genes\n",
    "top10 = subset(DE_df, rank %in% 1:10)$Gene #%>% unique(.)"
   ]
  },
  {
   "cell_type": "code",
   "execution_count": 256,
   "metadata": {},
   "outputs": [],
   "source": [
    "# build matrix of TF activity scores to plot\n",
    "DE_df$value = DE_df$logFC\n",
    "x = acast(subset(DE_df, Gene %in% top10), Gene~L1, fill = 0)\n",
    "pheatmap(t(x[top10, names(DE)]), cellheight = 10, cellwidth = 10, cluster_rows = F, cluster_cols = F,\n",
    "        filename = 'figures_primaryEpithelial_clean/cluster_markers/top10_TFs_DE.pdf')\n"
   ]
  },
  {
   "cell_type": "code",
   "execution_count": 257,
   "metadata": {},
   "outputs": [],
   "source": [
    "# mydf = subset(DE_df, Gene %in% top10)\n",
    "# mydf$Gene = factor(mydf$Gene, levels = unique(top10))\n",
    "# mydf$cluster = factor(mydf$L1, levels = rev(names(DE)))\n",
    "\n",
    "# require(ggplot2)\n",
    "#   ggplot(mydf, \n",
    "#          aes(x = Gene,\n",
    "#              y = cluster)) +        ## global aes\n",
    "# #   geom_tile(aes(fill = P.Value)) +         ## to get the rect filled\n",
    "#   geom_point(aes(colour = logFC, \n",
    "#                    size = percentExpr_cluster))  +    ## geom_point for circle illusion\n",
    "#   scale_color_gradient2(low = \"blue\",   mid = 'white',\n",
    "#                        high = \"red\")+       ## color of the corresponding aes\n",
    "#   scale_size(range = c(1, 4))+             ## to tune the size of circles\n",
    "#   theme_bw() + theme(axis.text.x = element_text(angle = 90, vjust = 0.5, hjust = 1))\n",
    "# ggsave(filename = 'figures_primaryEpithelial_clean/cluster_markers/top10_TFs_DE_dotplot.pdf', dpi = 300, width = 10, height = 4)"
   ]
  },
  {
   "cell_type": "code",
   "execution_count": null,
   "metadata": {},
   "outputs": [],
   "source": []
  }
 ],
 "metadata": {
  "kernelspec": {
   "display_name": "R",
   "language": "R",
   "name": "ir"
  },
  "language_info": {
   "codemirror_mode": "r",
   "file_extension": ".r",
   "mimetype": "text/x-r-source",
   "name": "R",
   "pygments_lexer": "r",
   "version": "3.6.3"
  }
 },
 "nbformat": 4,
 "nbformat_minor": 4
}

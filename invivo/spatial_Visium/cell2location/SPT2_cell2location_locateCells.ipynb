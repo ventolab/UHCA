{
 "cells": [
  {
   "cell_type": "markdown",
   "metadata": {},
   "source": [
    "(Courtesy of Martin Prete)\n",
    "\n",
    "I've build the docker and singularity images for cell2location taking the files from github. Only thing I changed for the environment is added jupyerlab and ipykernel to create a kernel for the environment, and the Dockerfile now creates that kernel, that's on my fork.\n",
    "\n",
    "First you need to login in to the farm:\n",
    "\n",
    "``\n",
    "ssh lg18@farm5-login\n",
    "``\n",
    "\n",
    "Go to the notebooks folder and create a file.sh with:\n",
    "\n",
    "```\n",
    "#!/usr/bin/env bash\n",
    "                    \n",
    "                    \n",
    "bsub -q gpu-normal -M200000 \\\n",
    "  -G team292 \\\n",
    "  -R\"select[mem>200000] rusage[mem=200000, ngpus_physical=1.00] span[hosts=1]\"  \\\n",
    "  -gpu \"mode=shared:j_exclusive=yes\" -Is \\\n",
    "  /software/singularity-v3.5.3/bin/singularity exec \\\n",
    "  --no-home  \\\n",
    "  --nv \\\n",
    " -B /nfs/users/nfs_l/lg18/team292/lg18/gonads/data/visium/cell2location:/notebooks \\\n",
    "  -B /nfs/users/nfs_l/lg18/team292/lg18/gonads/data/visium/cell2location:/data \\\n",
    "  /nfs/cellgeni/singularity/images/cell2location-latest.sif \\\n",
    "  /bin/bash -c \"HOME=$(mktemp -d) jupyter notebook --notebook-dir=/notebooks --NotebookApp.token='cell2loc' --ip=0.0.0.0 --port=1234 --no-browser --allow-root\"\n",
    "```\n",
    "\n",
    "The first part, launches an interacrive job with gpu on the farm, you probably do this already with your own scripts or with the same command\n",
    "\n",
    "Breaking it further a part it tells\n",
    "- singularity to execute something `/software/singularity-v3.5.3/bin/singularity exec`\n",
    "- don't mount my home folder by default `--no-home`\n",
    "- use `gpus --nv`\n",
    "- mount this folder as `/notebooks` inside the container `-B /nfs/users/nfs_l/lg18/team292/lg18/gonads/data/visium/cell2location:/notebooks`\n",
    "- launch this particular image file `/nfs/cellgeni/singularity/images/cell2location-latest.sif`\n",
    "- now run bash, set my home folder to a temp folder and start jupyter `/bin/bash -c \"HOME=$(mktemp -d) jupyter notebook --notebook-dir=/notebooks --NotebookApp.token='cell2loc' --ip=0.0.0.0 --port=1234 --no-browser --allow-root\"`\n"
   ]
  },
  {
   "cell_type": "code",
   "execution_count": 1,
   "metadata": {},
   "outputs": [
    {
     "name": "stderr",
     "output_type": "stream",
     "text": [
      "/opt/conda/envs/cellpymc/lib/python3.7/site-packages/theano/gpuarray/dnn.py:184: UserWarning: Your cuDNN version is more recent than Theano. If you encounter problems, try updating Theano or downgrading cuDNN to a version >= v5 and <= v7.\n",
      "  warnings.warn(\"Your cuDNN version is more recent than \"\n",
      "Using cuDNN version 7605 on context None\n",
      "Mapped name None to device cuda0: Tesla V100-SXM2-32GB (0000:07:00.0)\n"
     ]
    }
   ],
   "source": [
    "import sys\n",
    "import scanpy as sc\n",
    "import anndata\n",
    "import pandas as pd\n",
    "import numpy as np\n",
    "import os\n",
    "import matplotlib.pyplot as plt\n",
    "from os import listdir\n",
    "from os.path import isfile, join\n",
    "\n",
    "\n",
    "\n",
    "data_type = 'float32'\n",
    "sc.settings.set_figure_params(dpi = 100, color_map = 'RdPu', dpi_save = 100,\n",
    "                              vector_friendly = True, format = 'pdf',\n",
    "                              facecolor='white')\n",
    "\n",
    "\n",
    "# this line forces theano to use the GPU and should go before importing cell2location\n",
    "os.environ[\"THEANO_FLAGS\"] = 'device=cuda0,floatX=' + data_type + ',force_device=True'\n",
    "# if using the CPU uncomment this:\n",
    "#os.environ[\"THEANO_FLAGS\"] = 'device=cpu,floatX=float32,openmp=True,force_device=True'\n",
    "#os.environ[\"OMP_NUM_THREADS\"] = '8'\n",
    "\n",
    "\n",
    "import cell2location\n",
    "\n",
    "from matplotlib import rcParams\n",
    "import seaborn as sns\n",
    "\n",
    "# silence scanpy that prints a lot of warnings\n",
    "import warnings\n",
    "# warnings.filterwarnings('ignore')"
   ]
  },
  {
   "cell_type": "code",
   "execution_count": 10,
   "metadata": {},
   "outputs": [],
   "source": [
    "path = '/nfs/users/nfs_l/lg18/team292/lg18/cell2location/'\n",
    "sample_IDs = [\"secretory\", \"all\", \"proliferative\"]\n",
    "# sample_IDs = [\"secretory\"]"
   ]
  },
  {
   "cell_type": "code",
   "execution_count": 12,
   "metadata": {
    "scrolled": true
   },
   "outputs": [
    {
     "name": "stdout",
     "output_type": "stream",
     "text": [
      "secretory\n"
     ]
    },
    {
     "name": "stderr",
     "output_type": "stream",
     "text": [
      "/opt/conda/envs/cellpymc/lib/python3.7/site-packages/anndata/_core/anndata.py:1094: FutureWarning: is_categorical is deprecated and will be removed in a future version.  Use is_categorical_dtype instead\n"
     ]
    },
    {
     "name": "stdout",
     "output_type": "stream",
     "text": [
      "### Summarising single cell clusters ###\n",
      "### Creating model ### - time 0.02 min\n",
      "### Analysis name: LocationModelLinearDependentWMultiExperiment_13clusters_2111locations_14454genessecretory\n",
      "### Training model ###\n"
     ]
    },
    {
     "data": {
      "text/html": [
       "\n",
       "    <div>\n",
       "        <style>\n",
       "            /* Turns off some styling */\n",
       "            progress {\n",
       "                /* gets rid of default border in Firefox and Opera. */\n",
       "                border: none;\n",
       "                /* Needs to be in here for Safari polyfill so background images work as expected. */\n",
       "                background-size: auto;\n",
       "            }\n",
       "            .progress-bar-interrupted, .progress-bar-interrupted::-webkit-progress-bar {\n",
       "                background: #F44336;\n",
       "            }\n",
       "        </style>\n",
       "      <progress value='30000' class='' max='30000' style='width:300px; height:20px; vertical-align: middle;'></progress>\n",
       "      100.00% [30000/30000 10:17<00:00 Average Loss = 1.8515e+07]\n",
       "    </div>\n",
       "    "
      ],
      "text/plain": [
       "<IPython.core.display.HTML object>"
      ]
     },
     "metadata": {},
     "output_type": "display_data"
    },
    {
     "name": "stderr",
     "output_type": "stream",
     "text": [
      "Finished [100%]: Average Loss = 1.8515e+07\n"
     ]
    },
    {
     "name": "stdout",
     "output_type": "stream",
     "text": [
      "[<matplotlib.lines.Line2D object at 0x7f88411569d0>]\n"
     ]
    },
    {
     "data": {
      "text/html": [
       "\n",
       "    <div>\n",
       "        <style>\n",
       "            /* Turns off some styling */\n",
       "            progress {\n",
       "                /* gets rid of default border in Firefox and Opera. */\n",
       "                border: none;\n",
       "                /* Needs to be in here for Safari polyfill so background images work as expected. */\n",
       "                background-size: auto;\n",
       "            }\n",
       "            .progress-bar-interrupted, .progress-bar-interrupted::-webkit-progress-bar {\n",
       "                background: #F44336;\n",
       "            }\n",
       "        </style>\n",
       "      <progress value='30000' class='' max='30000' style='width:300px; height:20px; vertical-align: middle;'></progress>\n",
       "      100.00% [30000/30000 10:17<00:00 Average Loss = 1.8515e+07]\n",
       "    </div>\n",
       "    "
      ],
      "text/plain": [
       "<IPython.core.display.HTML object>"
      ]
     },
     "metadata": {},
     "output_type": "display_data"
    },
    {
     "name": "stderr",
     "output_type": "stream",
     "text": [
      "Finished [100%]: Average Loss = 1.8515e+07\n"
     ]
    },
    {
     "name": "stdout",
     "output_type": "stream",
     "text": [
      "[<matplotlib.lines.Line2D object at 0x7f88eec84c50>]\n"
     ]
    },
    {
     "data": {
      "application/vnd.jupyter.widget-view+json": {
       "model_id": "b2077ff487f44caab78894dc5121732e",
       "version_major": 2,
       "version_minor": 0
      },
      "text/plain": [
       "HBox(children=(HTML(value=''), FloatProgress(value=0.0, max=24.0), HTML(value='')))"
      ]
     },
     "metadata": {},
     "output_type": "display_data"
    },
    {
     "name": "stdout",
     "output_type": "stream",
     "text": [
      "\n"
     ]
    },
    {
     "data": {
      "application/vnd.jupyter.widget-view+json": {
       "model_id": "7d6a753b339941cc92a877fe5d63c651",
       "version_major": 2,
       "version_minor": 0
      },
      "text/plain": [
       "HBox(children=(HTML(value=''), FloatProgress(value=0.0, max=24.0), HTML(value='')))"
      ]
     },
     "metadata": {},
     "output_type": "display_data"
    },
    {
     "name": "stdout",
     "output_type": "stream",
     "text": [
      "\n",
      "### Sampling posterior ### - time 21.5 min\n"
     ]
    },
    {
     "name": "stderr",
     "output_type": "stream",
     "text": [
      "/opt/conda/envs/cellpymc/lib/python3.7/site-packages/cell2location/models/pymc3_model.py:446: MatplotlibDeprecationWarning: Passing non-integers as three-element position specification is deprecated since 3.3 and will be removed two minor releases later.\n",
      "/opt/conda/envs/cellpymc/lib/python3.7/site-packages/cell2location/models/pymc3_model.py:447: MatplotlibDeprecationWarning: Adding an axes using the same arguments as a previous axes currently reuses the earlier instance.  In a future version, a new instance will always be created and returned.  Meanwhile, this warning can be suppressed, and the future behavior ensured, by passing a unique label to each axes instance.\n"
     ]
    },
    {
     "data": {
      "application/vnd.jupyter.widget-view+json": {
       "model_id": "2a2c4f42c7444d60aff748f10e049ac3",
       "version_major": 2,
       "version_minor": 0
      },
      "text/plain": [
       "HBox(children=(HTML(value=''), FloatProgress(value=0.0, max=24.0), HTML(value='')))"
      ]
     },
     "metadata": {},
     "output_type": "display_data"
    },
    {
     "name": "stdout",
     "output_type": "stream",
     "text": [
      "\n",
      "### Saving results ###\n"
     ]
    },
    {
     "name": "stderr",
     "output_type": "stream",
     "text": [
      "/opt/conda/envs/cellpymc/lib/python3.7/site-packages/anndata/_core/anndata.py:1192: FutureWarning: is_categorical is deprecated and will be removed in a future version.  Use is_categorical_dtype instead\n"
     ]
    },
    {
     "name": "stdout",
     "output_type": "stream",
     "text": [
      "### Ploting results ###\n",
      "[<matplotlib.lines.Line2D object at 0x7f7f92a7a290>]\n",
      "[<matplotlib.lines.Line2D object at 0x7f889ec2d750>]\n",
      "[<matplotlib.lines.Line2D object at 0x7f889edfe450>]\n",
      "[<matplotlib.lines.Line2D object at 0x7f88adffa450>]\n",
      "### Plotting posterior of W / cell locations ###\n",
      "Some error in plotting with scanpy or `cell2location.plt.plot_factor_spatial()`\n",
      " IndexError('index 0 is out of bounds for axis 0 with size 0')\n",
      "### Done ### - time 22.15 min\n",
      "all\n"
     ]
    },
    {
     "name": "stderr",
     "output_type": "stream",
     "text": [
      "/opt/conda/envs/cellpymc/lib/python3.7/site-packages/anndata/_core/anndata.py:1094: FutureWarning: is_categorical is deprecated and will be removed in a future version.  Use is_categorical_dtype instead\n"
     ]
    },
    {
     "name": "stdout",
     "output_type": "stream",
     "text": [
      "### Summarising single cell clusters ###\n",
      "### Creating model ### - time 0.06 min\n",
      "### Analysis name: LocationModelLinearDependentWMultiExperiment_17clusters_6663locations_15393genesall\n",
      "### Training model ###\n"
     ]
    },
    {
     "data": {
      "text/html": [
       "\n",
       "    <div>\n",
       "        <style>\n",
       "            /* Turns off some styling */\n",
       "            progress {\n",
       "                /* gets rid of default border in Firefox and Opera. */\n",
       "                border: none;\n",
       "                /* Needs to be in here for Safari polyfill so background images work as expected. */\n",
       "                background-size: auto;\n",
       "            }\n",
       "            .progress-bar-interrupted, .progress-bar-interrupted::-webkit-progress-bar {\n",
       "                background: #F44336;\n",
       "            }\n",
       "        </style>\n",
       "      <progress value='30000' class='' max='30000' style='width:300px; height:20px; vertical-align: middle;'></progress>\n",
       "      100.00% [30000/30000 32:04<00:00 Average Loss = 5.7291e+07]\n",
       "    </div>\n",
       "    "
      ],
      "text/plain": [
       "<IPython.core.display.HTML object>"
      ]
     },
     "metadata": {},
     "output_type": "display_data"
    },
    {
     "name": "stderr",
     "output_type": "stream",
     "text": [
      "Finished [100%]: Average Loss = 5.7291e+07\n"
     ]
    },
    {
     "name": "stdout",
     "output_type": "stream",
     "text": [
      "[<matplotlib.lines.Line2D object at 0x7f7f7647a210>]\n"
     ]
    },
    {
     "data": {
      "text/html": [
       "\n",
       "    <div>\n",
       "        <style>\n",
       "            /* Turns off some styling */\n",
       "            progress {\n",
       "                /* gets rid of default border in Firefox and Opera. */\n",
       "                border: none;\n",
       "                /* Needs to be in here for Safari polyfill so background images work as expected. */\n",
       "                background-size: auto;\n",
       "            }\n",
       "            .progress-bar-interrupted, .progress-bar-interrupted::-webkit-progress-bar {\n",
       "                background: #F44336;\n",
       "            }\n",
       "        </style>\n",
       "      <progress value='30000' class='' max='30000' style='width:300px; height:20px; vertical-align: middle;'></progress>\n",
       "      100.00% [30000/30000 32:04<00:00 Average Loss = 5.729e+07]\n",
       "    </div>\n",
       "    "
      ],
      "text/plain": [
       "<IPython.core.display.HTML object>"
      ]
     },
     "metadata": {},
     "output_type": "display_data"
    },
    {
     "name": "stderr",
     "output_type": "stream",
     "text": [
      "Finished [100%]: Average Loss = 5.7291e+07\n"
     ]
    },
    {
     "name": "stdout",
     "output_type": "stream",
     "text": [
      "[<matplotlib.lines.Line2D object at 0x7f88d09f9c10>]\n"
     ]
    },
    {
     "data": {
      "application/vnd.jupyter.widget-view+json": {
       "model_id": "c2bfbfaa0b624b70873acafdc7449327",
       "version_major": 2,
       "version_minor": 0
      },
      "text/plain": [
       "HBox(children=(HTML(value=''), FloatProgress(value=0.0, max=24.0), HTML(value='')))"
      ]
     },
     "metadata": {},
     "output_type": "display_data"
    },
    {
     "name": "stdout",
     "output_type": "stream",
     "text": [
      "\n"
     ]
    },
    {
     "data": {
      "application/vnd.jupyter.widget-view+json": {
       "model_id": "2c5428d0b5f8442ca810112291e01b2e",
       "version_major": 2,
       "version_minor": 0
      },
      "text/plain": [
       "HBox(children=(HTML(value=''), FloatProgress(value=0.0, max=24.0), HTML(value='')))"
      ]
     },
     "metadata": {},
     "output_type": "display_data"
    },
    {
     "name": "stdout",
     "output_type": "stream",
     "text": [
      "\n"
     ]
    },
    {
     "name": "stderr",
     "output_type": "stream",
     "text": [
      "/opt/conda/envs/cellpymc/lib/python3.7/site-packages/cell2location/models/pymc3_model.py:446: MatplotlibDeprecationWarning: Passing non-integers as three-element position specification is deprecated since 3.3 and will be removed two minor releases later.\n",
      "/opt/conda/envs/cellpymc/lib/python3.7/site-packages/cell2location/models/pymc3_model.py:447: MatplotlibDeprecationWarning: Adding an axes using the same arguments as a previous axes currently reuses the earlier instance.  In a future version, a new instance will always be created and returned.  Meanwhile, this warning can be suppressed, and the future behavior ensured, by passing a unique label to each axes instance.\n"
     ]
    },
    {
     "name": "stdout",
     "output_type": "stream",
     "text": [
      "### Sampling posterior ### - time 65.64 min\n"
     ]
    },
    {
     "data": {
      "application/vnd.jupyter.widget-view+json": {
       "model_id": "8942030503114bd2be99a375148b4c88",
       "version_major": 2,
       "version_minor": 0
      },
      "text/plain": [
       "HBox(children=(HTML(value=''), FloatProgress(value=0.0, max=24.0), HTML(value='')))"
      ]
     },
     "metadata": {},
     "output_type": "display_data"
    },
    {
     "name": "stdout",
     "output_type": "stream",
     "text": [
      "\n",
      "### Saving results ###\n"
     ]
    },
    {
     "name": "stderr",
     "output_type": "stream",
     "text": [
      "/opt/conda/envs/cellpymc/lib/python3.7/site-packages/anndata/_core/anndata.py:1192: FutureWarning: is_categorical is deprecated and will be removed in a future version.  Use is_categorical_dtype instead\n"
     ]
    },
    {
     "name": "stdout",
     "output_type": "stream",
     "text": [
      "### Ploting results ###\n",
      "[<matplotlib.lines.Line2D object at 0x7f889ecbd790>]\n",
      "[<matplotlib.lines.Line2D object at 0x7f88ae6aa9d0>]\n",
      "[<matplotlib.lines.Line2D object at 0x7f88ae6b5410>]\n",
      "[<matplotlib.lines.Line2D object at 0x7f88ae6db0d0>]\n",
      "### Plotting posterior of W / cell locations ###\n",
      "Some error in plotting with scanpy or `cell2location.plt.plot_factor_spatial()`\n",
      " IndexError('index 0 is out of bounds for axis 0 with size 0')\n",
      "### Done ### - time 67.23 min\n",
      "proliferative\n"
     ]
    },
    {
     "name": "stderr",
     "output_type": "stream",
     "text": [
      "/opt/conda/envs/cellpymc/lib/python3.7/site-packages/anndata/_core/anndata.py:1094: FutureWarning: is_categorical is deprecated and will be removed in a future version.  Use is_categorical_dtype instead\n"
     ]
    },
    {
     "name": "stdout",
     "output_type": "stream",
     "text": [
      "### Summarising single cell clusters ###\n",
      "### Creating model ### - time 0.04 min\n",
      "### Analysis name: LocationModelLinearDependentWMultiExperiment_14clusters_4552locations_15243genesproliferative\n",
      "### Training model ###\n"
     ]
    },
    {
     "data": {
      "text/html": [
       "\n",
       "    <div>\n",
       "        <style>\n",
       "            /* Turns off some styling */\n",
       "            progress {\n",
       "                /* gets rid of default border in Firefox and Opera. */\n",
       "                border: none;\n",
       "                /* Needs to be in here for Safari polyfill so background images work as expected. */\n",
       "                background-size: auto;\n",
       "            }\n",
       "            .progress-bar-interrupted, .progress-bar-interrupted::-webkit-progress-bar {\n",
       "                background: #F44336;\n",
       "            }\n",
       "        </style>\n",
       "      <progress value='30000' class='' max='30000' style='width:300px; height:20px; vertical-align: middle;'></progress>\n",
       "      100.00% [30000/30000 21:31<00:00 Average Loss = 3.8556e+07]\n",
       "    </div>\n",
       "    "
      ],
      "text/plain": [
       "<IPython.core.display.HTML object>"
      ]
     },
     "metadata": {},
     "output_type": "display_data"
    },
    {
     "name": "stderr",
     "output_type": "stream",
     "text": [
      "Finished [100%]: Average Loss = 3.8556e+07\n"
     ]
    },
    {
     "name": "stdout",
     "output_type": "stream",
     "text": [
      "[<matplotlib.lines.Line2D object at 0x7f87ba04a710>]\n"
     ]
    },
    {
     "data": {
      "text/html": [
       "\n",
       "    <div>\n",
       "        <style>\n",
       "            /* Turns off some styling */\n",
       "            progress {\n",
       "                /* gets rid of default border in Firefox and Opera. */\n",
       "                border: none;\n",
       "                /* Needs to be in here for Safari polyfill so background images work as expected. */\n",
       "                background-size: auto;\n",
       "            }\n",
       "            .progress-bar-interrupted, .progress-bar-interrupted::-webkit-progress-bar {\n",
       "                background: #F44336;\n",
       "            }\n",
       "        </style>\n",
       "      <progress value='30000' class='' max='30000' style='width:300px; height:20px; vertical-align: middle;'></progress>\n",
       "      100.00% [30000/30000 21:30<00:00 Average Loss = 3.8552e+07]\n",
       "    </div>\n",
       "    "
      ],
      "text/plain": [
       "<IPython.core.display.HTML object>"
      ]
     },
     "metadata": {},
     "output_type": "display_data"
    },
    {
     "name": "stderr",
     "output_type": "stream",
     "text": [
      "Finished [100%]: Average Loss = 3.8552e+07\n"
     ]
    },
    {
     "name": "stdout",
     "output_type": "stream",
     "text": [
      "[<matplotlib.lines.Line2D object at 0x7f88f03af590>]\n"
     ]
    },
    {
     "data": {
      "application/vnd.jupyter.widget-view+json": {
       "model_id": "c4501a22446b4e97aca842b192aa9072",
       "version_major": 2,
       "version_minor": 0
      },
      "text/plain": [
       "HBox(children=(HTML(value=''), FloatProgress(value=0.0, max=24.0), HTML(value='')))"
      ]
     },
     "metadata": {},
     "output_type": "display_data"
    },
    {
     "name": "stdout",
     "output_type": "stream",
     "text": [
      "\n"
     ]
    },
    {
     "data": {
      "application/vnd.jupyter.widget-view+json": {
       "model_id": "6643bacdb57443bdb5c943fca0232391",
       "version_major": 2,
       "version_minor": 0
      },
      "text/plain": [
       "HBox(children=(HTML(value=''), FloatProgress(value=0.0, max=24.0), HTML(value='')))"
      ]
     },
     "metadata": {},
     "output_type": "display_data"
    },
    {
     "name": "stdout",
     "output_type": "stream",
     "text": [
      "\n",
      "### Sampling posterior ### - time 44.26 min\n"
     ]
    },
    {
     "name": "stderr",
     "output_type": "stream",
     "text": [
      "/opt/conda/envs/cellpymc/lib/python3.7/site-packages/cell2location/models/pymc3_model.py:446: MatplotlibDeprecationWarning: Passing non-integers as three-element position specification is deprecated since 3.3 and will be removed two minor releases later.\n",
      "/opt/conda/envs/cellpymc/lib/python3.7/site-packages/cell2location/models/pymc3_model.py:447: MatplotlibDeprecationWarning: Adding an axes using the same arguments as a previous axes currently reuses the earlier instance.  In a future version, a new instance will always be created and returned.  Meanwhile, this warning can be suppressed, and the future behavior ensured, by passing a unique label to each axes instance.\n"
     ]
    },
    {
     "data": {
      "application/vnd.jupyter.widget-view+json": {
       "model_id": "0d8c7c7bfdbd4d21ac0617e522f6dac7",
       "version_major": 2,
       "version_minor": 0
      },
      "text/plain": [
       "HBox(children=(HTML(value=''), FloatProgress(value=0.0, max=24.0), HTML(value='')))"
      ]
     },
     "metadata": {},
     "output_type": "display_data"
    },
    {
     "name": "stdout",
     "output_type": "stream",
     "text": [
      "\n",
      "### Saving results ###\n"
     ]
    },
    {
     "name": "stderr",
     "output_type": "stream",
     "text": [
      "/opt/conda/envs/cellpymc/lib/python3.7/site-packages/anndata/_core/anndata.py:1192: FutureWarning: is_categorical is deprecated and will be removed in a future version.  Use is_categorical_dtype instead\n"
     ]
    },
    {
     "name": "stdout",
     "output_type": "stream",
     "text": [
      "### Ploting results ###\n",
      "[<matplotlib.lines.Line2D object at 0x7f889f3bbf90>]\n",
      "[<matplotlib.lines.Line2D object at 0x7f889a153910>]\n",
      "[<matplotlib.lines.Line2D object at 0x7f889a12d410>]\n",
      "[<matplotlib.lines.Line2D object at 0x7f889a2d5690>]\n",
      "### Plotting posterior of W / cell locations ###\n"
     ]
    },
    {
     "name": "stderr",
     "output_type": "stream",
     "text": [
      "/opt/conda/envs/cellpymc/lib/python3.7/site-packages/anndata/_core/anndata.py:1094: FutureWarning: is_categorical is deprecated and will be removed in a future version.  Use is_categorical_dtype instead\n",
      "/opt/conda/envs/cellpymc/lib/python3.7/site-packages/anndata/_core/anndata.py:1192: FutureWarning: is_categorical is deprecated and will be removed in a future version.  Use is_categorical_dtype instead\n"
     ]
    },
    {
     "name": "stdout",
     "output_type": "stream",
     "text": [
      "Some error in plotting with scanpy or `cell2location.plt.plot_factor_spatial()`\n",
      " IndexError('index 0 is out of bounds for axis 0 with size 0')\n",
      "### Done ### - time 45.15 min\n",
      "CPU times: user 1h 45min 9s, sys: 30min 11s, total: 2h 15min 21s\n",
      "Wall time: 2h 16min 30s\n"
     ]
    }
   ],
   "source": [
    "%%time\n",
    "\n",
    "for sample in sample_IDs:\n",
    "    print(sample)\n",
    "    \n",
    "    # Reading Visium data in anndata format in anndata format\n",
    "    adata_raw_spatial = sc.read(path+sample+'/' + sample + '_visium_with_spatial.h5ad')\n",
    "#     adata_raw_spatial.var_names_make_unique()\n",
    "    sc.pp.filter_cells(adata_raw_spatial, min_genes=1000)\n",
    "    # adata_raw_spatial.obs.head()\n",
    "    # adata_raw_spatial.var.head()\n",
    "#     # Using ENSEMBL\n",
    "#     adata_raw_spatial.var['SYMBOL'] = adata_raw_spatial.var_names\n",
    "#     adata_raw_spatial.var.rename(columns={'gene_ids': 'ENSEMBL'}, inplace=True)\n",
    "#     adata_raw_spatial.var_names = adata_raw_spatial.var['ENSEMBL']\n",
    "#     adata_raw_spatial.var.drop(columns='ENSEMBL', inplace=True)\n",
    "    # Make raw\n",
    "    adata_raw_spatial.raw = adata_raw_spatial.copy()\n",
    "    adata_raw_spatial.obs['spotID'] = adata_raw_spatial.obs.index\n",
    "    \n",
    "    # Reading scRNA data in anndata format\n",
    "#     scRNAseq_file = [f for f in listdir(path+sample+'/cell2location/') if isfile(join(path+sample+'/cell2location/', f)) and 'scRNAseq' in f]\n",
    "    adata_raw_sc = sc.read(path+sample+'/' + sample + '_scRNAseq.h5ad')\n",
    "    adata_raw_sc.raw = adata_raw_sc.copy()\n",
    "    # adata_raw_sc.obs.head()\n",
    "    # adata_raw_sc.var.head()\n",
    "    \n",
    "    # Running cell2location\n",
    "    results_folder = path+sample+'/cell2location/'\n",
    "    os.system('mkdir -p '+ results_folder + '/std_model')\n",
    "\n",
    "    r = cell2location.run_cell2location(\n",
    "\n",
    "          # Single cell reference signatures as anndata\n",
    "          # (could also be data as anndata object for estimating signatures analytically - `sc_data=adata_snrna_raw`)\n",
    "          sc_data=adata_raw_sc,\n",
    "          # Spatial data as anndata object\n",
    "          sp_data=adata_raw_spatial,\n",
    "\n",
    "          # the column in sc_data.obs that gives cluster idenitity of each cell\n",
    "          summ_sc_data_args={'cluster_col': \"labels\"},\n",
    "\n",
    "          train_args={'use_raw': True, # By default uses raw slots in both of the input datasets.\n",
    "                      'n_iter': 30000, # Increase the number of iterations if needed (see below)\n",
    "\n",
    "                      # Whe analysing the data that contains multiple samples,\n",
    "                      # cell2location will select a model version which pools information across samples\n",
    "                      # For details see https://cell2location.readthedocs.io/en/latest/cell2location.models.html#module-cell2location.models.CoLocationModelNB4E6V2\n",
    "                      'sample_name_col': 'sample'}, # Column in sp_data.obs with Sample ID\n",
    "\n",
    "          # Number of posterios samples to use for estimating parameters,\n",
    "          # reduce if not enough GPU memory\n",
    "          posterior_args={'n_samples': 1000},\n",
    "\n",
    "\n",
    "          export_args={'path': results_folder + 'std_model/', # path where to save results\n",
    "                       'run_name_suffix': sample # optinal suffix to modify the name the run\n",
    "                      },\n",
    "\n",
    "          model_kwargs={ # Prior on the number of cells, cell types and co-located combinations\n",
    "\n",
    "                        'cell_number_prior': {\n",
    "                            # Use visual inspection of the tissue image to determine\n",
    "                            # the average number of cells per spot,\n",
    "                            # an approximate count is good enough:\n",
    "                            'cells_per_spot': 8,\n",
    "                            # Prior on the number of cell types (or factors) in each spot\n",
    "                            'factors_per_spot': 4,\n",
    "                            # Prior on the number of correlated cell type combinations in each spot\n",
    "                            'combs_per_spot': 2.5\n",
    "                        },\n",
    "\n",
    "                         # Prior on change in sensitivity between technologies\n",
    "                        'gene_level_prior':{\n",
    "                            # Prior on average change in expression level from scRNA-seq to spatial technology,\n",
    "                            # this reflects your belief about the sensitivity of the technology in you experiment\n",
    "                            'mean': 1/2,\n",
    "                            # Prior on how much individual genes differ from that average,\n",
    "                            # a good choice of this value should be lower that the mean\n",
    "                            'sd': 1/4\n",
    "                        }\n",
    "          }\n",
    "    )\n"
   ]
  },
  {
   "cell_type": "code",
   "execution_count": null,
   "metadata": {},
   "outputs": [],
   "source": []
  }
 ],
 "metadata": {
  "kernelspec": {
   "display_name": "cell2locationpymc",
   "language": "python",
   "name": "cell2locationpymc"
  },
  "language_info": {
   "codemirror_mode": {
    "name": "ipython",
    "version": 3
   },
   "file_extension": ".py",
   "mimetype": "text/x-python",
   "name": "python",
   "nbconvert_exporter": "python",
   "pygments_lexer": "ipython3",
   "version": "3.7.8"
  }
 },
 "nbformat": 4,
 "nbformat_minor": 4
}

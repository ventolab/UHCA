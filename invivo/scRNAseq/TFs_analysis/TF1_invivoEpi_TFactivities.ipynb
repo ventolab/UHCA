{
 "cells": [
  {
   "cell_type": "code",
   "execution_count": 2,
   "metadata": {},
   "outputs": [
    {
     "name": "stderr",
     "output_type": "stream",
     "text": [
      "\n",
      "Attaching package: ‘dplyr’\n",
      "\n",
      "\n",
      "The following objects are masked from ‘package:stats’:\n",
      "\n",
      "    filter, lag\n",
      "\n",
      "\n",
      "The following objects are masked from ‘package:base’:\n",
      "\n",
      "    intersect, setdiff, setequal, union\n",
      "\n",
      "\n",
      "Loading required package: Rcpp\n",
      "\n",
      "Loading required package: viper\n",
      "\n",
      "Loading required package: Biobase\n",
      "\n",
      "Loading required package: BiocGenerics\n",
      "\n",
      "Loading required package: parallel\n",
      "\n",
      "\n",
      "Attaching package: ‘BiocGenerics’\n",
      "\n",
      "\n",
      "The following objects are masked from ‘package:parallel’:\n",
      "\n",
      "    clusterApply, clusterApplyLB, clusterCall, clusterEvalQ,\n",
      "    clusterExport, clusterMap, parApply, parCapply, parLapply,\n",
      "    parLapplyLB, parRapply, parSapply, parSapplyLB\n",
      "\n",
      "\n",
      "The following objects are masked from ‘package:dplyr’:\n",
      "\n",
      "    combine, intersect, setdiff, union\n",
      "\n",
      "\n",
      "The following objects are masked from ‘package:stats’:\n",
      "\n",
      "    IQR, mad, sd, var, xtabs\n",
      "\n",
      "\n",
      "The following objects are masked from ‘package:base’:\n",
      "\n",
      "    anyDuplicated, append, as.data.frame, basename, cbind, colnames,\n",
      "    dirname, do.call, duplicated, eval, evalq, Filter, Find, get, grep,\n",
      "    grepl, intersect, is.unsorted, lapply, Map, mapply, match, mget,\n",
      "    order, paste, pmax, pmax.int, pmin, pmin.int, Position, rank,\n",
      "    rbind, Reduce, rownames, sapply, setdiff, sort, table, tapply,\n",
      "    union, unique, unsplit, which, which.max, which.min\n",
      "\n",
      "\n",
      "Welcome to Bioconductor\n",
      "\n",
      "    Vignettes contain introductory material; view with\n",
      "    'browseVignettes()'. To cite Bioconductor, see\n",
      "    'citation(\"Biobase\")', and for packages 'citation(\"pkgname\")'.\n",
      "\n",
      "\n",
      "Loading required package: reshape2\n",
      "\n"
     ]
    }
   ],
   "source": [
    "library(dplyr)\n",
    "library(RColorBrewer)\n",
    "library(harmony)\n",
    "library(ggplot2)\n",
    "library(pheatmap)\n",
    "library(cowplot)\n",
    "require(viper)\n",
    "require(reshape2)"
   ]
  },
  {
   "cell_type": "markdown",
   "metadata": {},
   "source": [
    "## Load DE expression info"
   ]
  },
  {
   "cell_type": "code",
   "execution_count": 3,
   "metadata": {},
   "outputs": [
    {
     "data": {
      "text/html": [
       "<style>\n",
       ".list-inline {list-style: none; margin:0; padding: 0}\n",
       ".list-inline>li {display: inline-block}\n",
       ".list-inline>li:not(:last-child)::after {content: \"\\00b7\"; padding: 0 .5ex}\n",
       "</style>\n",
       "<ol class=list-inline><li>'SOX9'</li><li>'SOX9_prolif'</li><li>'SOX9_LGR5'</li><li>'Lumenal_1'</li><li>'Lumenal_2'</li><li>'Glandular'</li><li>'Glandular_secretory'</li><li>'Preciliated'</li><li>'Ciliated'</li><li>'Ciliated_LRG5'</li></ol>\n"
      ],
      "text/latex": [
       "\\begin{enumerate*}\n",
       "\\item 'SOX9'\n",
       "\\item 'SOX9\\_prolif'\n",
       "\\item 'SOX9\\_LGR5'\n",
       "\\item 'Lumenal\\_1'\n",
       "\\item 'Lumenal\\_2'\n",
       "\\item 'Glandular'\n",
       "\\item 'Glandular\\_secretory'\n",
       "\\item 'Preciliated'\n",
       "\\item 'Ciliated'\n",
       "\\item 'Ciliated\\_LRG5'\n",
       "\\end{enumerate*}\n"
      ],
      "text/markdown": [
       "1. 'SOX9'\n",
       "2. 'SOX9_prolif'\n",
       "3. 'SOX9_LGR5'\n",
       "4. 'Lumenal_1'\n",
       "5. 'Lumenal_2'\n",
       "6. 'Glandular'\n",
       "7. 'Glandular_secretory'\n",
       "8. 'Preciliated'\n",
       "9. 'Ciliated'\n",
       "10. 'Ciliated_LRG5'\n",
       "\n",
       "\n"
      ],
      "text/plain": [
       " [1] \"SOX9\"                \"SOX9_prolif\"         \"SOX9_LGR5\"          \n",
       " [4] \"Lumenal_1\"           \"Lumenal_2\"           \"Glandular\"          \n",
       " [7] \"Glandular_secretory\" \"Preciliated\"         \"Ciliated\"           \n",
       "[10] \"Ciliated_LRG5\"      "
      ]
     },
     "metadata": {},
     "output_type": "display_data"
    }
   ],
   "source": [
    "# you need to put in a folder the DE files of the clusters that you're interested in\n",
    "# The file must contain at least four columns (aka, you can reuse the output of the DEG files):\n",
    "# - Gene: gene symbol\n",
    "# - cluster: cell type\n",
    "# - adj.P.Val: adjusted p-value from the DE test\n",
    "# - logFC: from the DE test\n",
    "path_DE = '/lustre/scratch117/cellgen/team292/lh20/Sharing/Luz/epithelial_DEtables.rds'\n",
    "DE_df = readRDS(path_DE)\n",
    "\n",
    "# # Build dictionary clusters2DEGs\n",
    "DE_df = lapply(DE_df, function(x) {\n",
    "    x$Log2FC = round(x$Log2FC, digits = 2)\n",
    "    x$Gene = rownames(x)\n",
    "    return(x)\n",
    "} )\n",
    "               \n",
    "# length(DE_df)\n",
    "names(DE_df)"
   ]
  },
  {
   "cell_type": "code",
   "execution_count": 4,
   "metadata": {},
   "outputs": [
    {
     "data": {
      "text/html": [
       "233620"
      ],
      "text/latex": [
       "233620"
      ],
      "text/markdown": [
       "233620"
      ],
      "text/plain": [
       "[1] 233620"
      ]
     },
     "metadata": {},
     "output_type": "display_data"
    },
    {
     "data": {
      "text/html": [
       "35825"
      ],
      "text/latex": [
       "35825"
      ],
      "text/markdown": [
       "35825"
      ],
      "text/plain": [
       "[1] 35825"
      ]
     },
     "metadata": {},
     "output_type": "display_data"
    }
   ],
   "source": [
    "DEGs_table = melt(DE_df, id.vars = names(DE_df[[1]]) )\n",
    "DEGs_table = cbind(DEGs_table[, 12:13], DEGs_table[, -c(12:13)])\n",
    "names(DEGs_table)[2] = 'epithelial_cluster'\n",
    "nrow(DEGs_table)\n",
    "DEGs_table = subset(DEGs_table, 10^DESeq2Log10Pvalue < 0.1)\n",
    "nrow(DEGs_table)\n",
    "write.csv(DEGs_table, file = '/home/jovyan/farm/endometrium_v2/invivo/epithelial_DEGs.csv', row.names = F, quote = F)"
   ]
  },
  {
   "cell_type": "markdown",
   "metadata": {},
   "source": [
    "### Run Dorothea"
   ]
  },
  {
   "cell_type": "code",
   "execution_count": 35,
   "metadata": {},
   "outputs": [],
   "source": [
    "viper_gset = get(load('~/farm/gsea/genesets/dorotheav2-top10scoring_VentoLab20201111.rdata'))"
   ]
  },
  {
   "cell_type": "code",
   "execution_count": 36,
   "metadata": {},
   "outputs": [
    {
     "name": "stderr",
     "output_type": "stream",
     "text": [
      "Computing regulon enrichment with aREA algorithm\n",
      "\n"
     ]
    },
    {
     "name": "stdout",
     "output_type": "stream",
     "text": [
      "  |======================================================================| 100%"
     ]
    },
    {
     "name": "stderr",
     "output_type": "stream",
     "text": [
      "Computing regulon enrichment with aREA algorithm\n",
      "\n"
     ]
    },
    {
     "name": "stdout",
     "output_type": "stream",
     "text": [
      "  |======================================================================| 100%"
     ]
    },
    {
     "name": "stderr",
     "output_type": "stream",
     "text": [
      "Computing regulon enrichment with aREA algorithm\n",
      "\n"
     ]
    },
    {
     "name": "stdout",
     "output_type": "stream",
     "text": [
      "  |======================================================================| 100%"
     ]
    },
    {
     "name": "stderr",
     "output_type": "stream",
     "text": [
      "Computing regulon enrichment with aREA algorithm\n",
      "\n"
     ]
    },
    {
     "name": "stdout",
     "output_type": "stream",
     "text": [
      "  |======================================================================| 100%"
     ]
    },
    {
     "name": "stderr",
     "output_type": "stream",
     "text": [
      "Computing regulon enrichment with aREA algorithm\n",
      "\n"
     ]
    },
    {
     "name": "stdout",
     "output_type": "stream",
     "text": [
      "  |======================================================================| 100%"
     ]
    },
    {
     "name": "stderr",
     "output_type": "stream",
     "text": [
      "Computing regulon enrichment with aREA algorithm\n",
      "\n"
     ]
    },
    {
     "name": "stdout",
     "output_type": "stream",
     "text": [
      "  |======================================================================| 100%"
     ]
    },
    {
     "name": "stderr",
     "output_type": "stream",
     "text": [
      "Computing regulon enrichment with aREA algorithm\n",
      "\n"
     ]
    },
    {
     "name": "stdout",
     "output_type": "stream",
     "text": [
      "  |======================================================================| 100%"
     ]
    },
    {
     "name": "stderr",
     "output_type": "stream",
     "text": [
      "Computing regulon enrichment with aREA algorithm\n",
      "\n"
     ]
    },
    {
     "name": "stdout",
     "output_type": "stream",
     "text": [
      "  |======================================================================| 100%"
     ]
    },
    {
     "name": "stderr",
     "output_type": "stream",
     "text": [
      "Computing regulon enrichment with aREA algorithm\n",
      "\n"
     ]
    },
    {
     "name": "stdout",
     "output_type": "stream",
     "text": [
      "  |======================================================================| 100%"
     ]
    },
    {
     "name": "stderr",
     "output_type": "stream",
     "text": [
      "Computing regulon enrichment with aREA algorithm\n",
      "\n"
     ]
    },
    {
     "name": "stdout",
     "output_type": "stream",
     "text": [
      "  |======================================================================| 100%"
     ]
    }
   ],
   "source": [
    "# For each DEG file\n",
    "results = list()\n",
    "for (cl_name in names(DE_df)){\n",
    "\n",
    "  DEsignature = DE_df[[cl_name]]    \n",
    "  DEsignature$Gene = rownames(DEsignature)\n",
    "    \n",
    "  # Estimate z-score values for the GES. Cheeck VIPER manual for details\n",
    "  myStatistics = matrix(DEsignature$Log2FC, dimnames = list(DEsignature$Gene, 'logFC') )\n",
    "  myPvalue = matrix(10^DEsignature$DESeq2Log10Pvalue, dimnames = list(DEsignature$Gene, 'P.Value') )\n",
    "  mySignature = (qnorm(myPvalue/2, lower.tail = FALSE) * sign(myStatistics))[, 1]\n",
    "  mySignature = mySignature[order(mySignature, decreasing = T)]\n",
    "  # Estimate TF activities\n",
    "  mrs = msviper(ges = mySignature, regulon = viper_gset, minsize = 4, ges.filter = F)\n",
    "#   mrs = msviper(ges = myStatistics[,1][order(myStatistics[,1], decreasing = T)], regulon = viper_gset, minsize = 3, ges.filter = F)\n",
    "  cl_enrichment = data.frame(Regulon = names(mrs$es$nes),\n",
    "                             cluster = cl_name,\n",
    "                             Size = mrs$es$size[ names(mrs$es$nes) ], \n",
    "                             NES = mrs$es$nes, \n",
    "                             p.value = mrs$es$p.value, \n",
    "                             FDR = p.adjust(mrs$es$p.value, method = 'fdr'))\n",
    "  cl_enrichment = subset(cl_enrichment, Size < 200)\n",
    "#   cl_enrichment = subset(cl_enrichment, FDR < 0.1)\n",
    "  cl_enrichment = cl_enrichment[ order(cl_enrichment$p.value), ]\n",
    "  if( nrow(cl_enrichment) > 0 )\n",
    "    results[[cl_name]] = cl_enrichment\n",
    "}\n",
    "\n",
    "df = melt(results, id.vars = names(results[[1]]))\n",
    "df = df[, c(2,1,4:6,3)]\n",
    "df = df[ order(df$p.value), ]\n",
    "write.csv(df, file = '/home/jovyan/farm/endometrium_v2/invivo/epithelial_TFs_activities.csv', row.names = F, quote = F)"
   ]
  },
  {
   "cell_type": "code",
   "execution_count": 37,
   "metadata": {},
   "outputs": [
    {
     "name": "stdout",
     "output_type": "stream",
     "text": [
      "[1] \"SOX9\"\n",
      "[1] \"SOX9_prolif\"\n",
      "[1] \"SOX9_LGR5\"\n",
      "[1] \"Lumenal_1\"\n",
      "[1] \"Lumenal_2\"\n",
      "[1] \"Glandular\"\n",
      "[1] \"Glandular_secretory\"\n",
      "[1] \"Preciliated\"\n",
      "[1] \"Ciliated\"\n",
      "[1] \"Ciliated_LRG5\"\n"
     ]
    }
   ],
   "source": [
    "agreementTFs = list()\n",
    "\n",
    "# For each cluster, check TFs agreement\n",
    "for (cl in names(DE_df)){\n",
    "    \n",
    "  # Load DEGs for cluster\n",
    "  DEGs = DE_df[[cl]]  \n",
    "  DEGs$Gene = rownames(DEGs)\n",
    "  \n",
    "  # Filter TF activities for cluster\n",
    "  cl_TFact = subset(df, cluster == cl)\n",
    "  \n",
    "  if(nrow(cl_TFact) == 0)\n",
    "    next()\n",
    "  \n",
    "  # Find DEG and activities agreement\n",
    "  cl_TFact$TF = sapply(strsplit(cl_TFact$Regulon, ' - '), head, 1)\n",
    "  cl_TFact$TF = sapply(strsplit(cl_TFact$TF, '_'), head, 1)\n",
    "  sharedTFs = intersect(subset(DEGs, 10^DESeq2Log10Pvalue < 0.1 )$Gene,\n",
    "                        subset(cl_TFact, FDR < 0.1)$TF)\n",
    "  \n",
    "  if( length(sharedTFs) > 0 ) {\n",
    "      print(cl)\n",
    "    \n",
    "    # Add TFs agreement info\n",
    "    TF_df = data.frame(cl = cl, TF = sharedTFs, stringsAsFactors = F)\n",
    "    TF_df$TF_expression = 'upregulated'\n",
    "    TF_df$TF_expression[ TF_df$TF %in% subset(DEGs, Log2FC < 0)$Gene ] = 'downregulated'\n",
    "    TF_df$TF_expression_pvals = 10^DEGs$DESeq2Log10Pvalue[ match(TF_df$TF, DEGs$Gene) ]\n",
    "    TF_df$TF_activity = 'active_regulon'\n",
    "    TF_df$TF_activity_FDR = cl_TFact$FDR[ match(TF_df$TF, cl_TFact$TF) ]\n",
    "    TF_df$TF_activity_score = cl_TFact$NES[ match(TF_df$TF, cl_TFact$TF) ]\n",
    "    TF_df$TF_activity[ TF_df$TF_activity_score < 0 ] = 'inactive_regulon'\n",
    "    agreementTFs[[cl]] = TF_df\n",
    "    \n",
    "  }\n",
    "  \n",
    "}\n",
    "\n",
    "\n",
    "# merge TF agreement\n",
    "if( length(agreementTFs)>0 ){\n",
    "  TF_df = melt(agreementTFs, id.vars = names(agreementTFs[[1]]))\n",
    "  TF_df$TF_expression_pvals = signif(TF_df$TF_expression_pvals,3)\n",
    "  TF_df$TF_activity_FDR = signif(TF_df$TF_activity_FDR,3)\n",
    "  TF_df = TF_df[order(TF_df$TF_expression_pvals), ]\n",
    "  TF_df = TF_df[order(TF_df$cl), ]\n",
    "  write.table(TF_df, file = '/home/jovyan/farm/endometrium_v2/invivo/epithelial_TFactivities_and_expression_agreement.tsv', row.names = F, quote = F, sep = '\\t')\n",
    "}"
   ]
  },
  {
   "cell_type": "code",
   "execution_count": null,
   "metadata": {},
   "outputs": [],
   "source": []
  }
 ],
 "metadata": {
  "kernelspec": {
   "display_name": "R",
   "language": "R",
   "name": "ir"
  },
  "language_info": {
   "codemirror_mode": "r",
   "file_extension": ".r",
   "mimetype": "text/x-r-source",
   "name": "R",
   "pygments_lexer": "r",
   "version": "4.0.0"
  }
 },
 "nbformat": 4,
 "nbformat_minor": 4
}

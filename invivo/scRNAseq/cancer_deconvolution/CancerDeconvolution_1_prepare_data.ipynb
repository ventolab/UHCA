{
 "cells": [
  {
   "cell_type": "markdown",
   "metadata": {},
   "source": [
    "### Prepare data for cellular signal analysis "
   ]
  },
  {
   "cell_type": "code",
   "execution_count": 1,
   "metadata": {},
   "outputs": [
    {
     "name": "stdout",
     "output_type": "stream",
     "text": [
      "WARNING: If you miss a compact list, please try `print_header`!\n",
      "The `sinfo` package has changed name and is now called `session_info` to become more discoverable and self-explanatory. The `sinfo` PyPI package will be kept around to avoid breaking old installs and you can downgrade to 0.3.2 if you want to use it without seeing this message. For the latest features and bug fixes, please install `session_info` instead. The usage and defaults also changed slightly, so please review the latest README at https://gitlab.com/joelostblom/session_info.\n",
      "-----\n",
      "anndata     0.7.6\n",
      "scanpy      1.8.0\n",
      "sinfo       0.3.4\n",
      "-----\n",
      "PIL                 8.3.0\n",
      "backcall            0.2.0\n",
      "beta_ufunc          NA\n",
      "binom_ufunc         NA\n",
      "cffi                1.14.5\n",
      "cycler              0.10.0\n",
      "cython_runtime      NA\n",
      "dateutil            2.8.1\n",
      "debugpy             1.3.0\n",
      "decorator           4.4.2\n",
      "h5py                3.6.0\n",
      "igraph              0.9.5\n",
      "ipykernel           6.0.1\n",
      "ipython_genutils    0.2.0\n",
      "jedi                0.18.0\n",
      "joblib              1.0.1\n",
      "kiwisolver          1.3.1\n",
      "leidenalg           0.8.4\n",
      "llvmlite            0.36.0\n",
      "matplotlib          3.4.2\n",
      "matplotlib_inline   NA\n",
      "mpl_toolkits        NA\n",
      "natsort             7.1.1\n",
      "nbinom_ufunc        NA\n",
      "numba               0.53.1\n",
      "numexpr             2.7.3\n",
      "numpy               1.21.2\n",
      "packaging           21.0\n",
      "pandas              1.3.0\n",
      "parso               0.8.2\n",
      "pexpect             4.8.0\n",
      "pickleshare         0.7.5\n",
      "pkg_resources       NA\n",
      "prompt_toolkit      3.0.19\n",
      "ptyprocess          0.7.0\n",
      "pygments            2.9.0\n",
      "pyparsing           2.4.7\n",
      "pytz                2021.1\n",
      "scipy               1.7.0\n",
      "setuptools_scm      NA\n",
      "six                 1.16.0\n",
      "sklearn             0.24.2\n",
      "storemagic          NA\n",
      "tables              3.6.1\n",
      "texttable           1.6.3\n",
      "tornado             6.1\n",
      "traitlets           5.0.5\n",
      "typing_extensions   NA\n",
      "wcwidth             0.2.5\n",
      "yaml                6.0\n",
      "zmq                 22.1.0\n",
      "-----\n",
      "IPython             7.25.0\n",
      "jupyter_client      6.1.12\n",
      "jupyter_core        4.7.1\n",
      "-----\n",
      "Python 3.8.3 | packaged by conda-forge | (default, Jun  1 2020, 17:43:00) [GCC 7.5.0]\n",
      "Linux-4.15.0-112-generic-x86_64-with-glibc2.10\n",
      "26 logical CPU cores, x86_64\n",
      "-----\n",
      "Session information updated at 2022-07-12 09:56\n",
      "\n"
     ]
    },
    {
     "data": {
      "text/plain": [
       "'/home/jovyan/my-conda-envs/atac_env/bin/python'"
      ]
     },
     "execution_count": 1,
     "metadata": {},
     "output_type": "execute_result"
    }
   ],
   "source": [
    "import numpy as np\n",
    "import pandas as pd\n",
    "import scanpy as sc\n",
    "import anndata\n",
    "import os\n",
    "\n",
    "import sys\n",
    "\n",
    "def MovePlots(plotpattern, subplotdir):\n",
    "    os.system('mkdir -p '+str(sc.settings.figdir)+'/'+subplotdir)\n",
    "    os.system('mv '+str(sc.settings.figdir)+'/*'+plotpattern+'** '+str(sc.settings.figdir)+'/'+subplotdir)\n",
    "\n",
    "sc.settings.verbosity = 3  # verbosity: errors (0), warnings (1), info (2), hints (3)\n",
    "sc.settings.figdir = './figures/'\n",
    "sc.logging.print_versions()\n",
    "sc.settings.set_figure_params(dpi=80)  # low dpi (dots per inch) yields small inline figures\n",
    "\n",
    "sys.executable"
   ]
  },
  {
   "cell_type": "markdown",
   "metadata": {},
   "source": [
    "#### Load TCGA metadata"
   ]
  },
  {
   "cell_type": "code",
   "execution_count": 37,
   "metadata": {},
   "outputs": [],
   "source": [
    "path_to_metadata = '/lustre/scratch117/cellgen/cellgeni/team274/bulkData/'\n",
    "path_to_data = '/lustre/scratch117/cellgen/cellgeni/team274/bulkData/TCGA_fragment_files/lustre/scratch117/casm/team274/my4/oldScratch/ProjectsExtras/CellDeconvolution/Results/bulkRNAseq/TCGA/frag/'"
   ]
  },
  {
   "cell_type": "code",
   "execution_count": 38,
   "metadata": {},
   "outputs": [
    {
     "name": "stdout",
     "output_type": "stream",
     "text": [
      "(11284, 7)\n"
     ]
    },
    {
     "data": {
      "text/html": [
       "<div>\n",
       "<style scoped>\n",
       "    .dataframe tbody tr th:only-of-type {\n",
       "        vertical-align: middle;\n",
       "    }\n",
       "\n",
       "    .dataframe tbody tr th {\n",
       "        vertical-align: top;\n",
       "    }\n",
       "\n",
       "    .dataframe thead th {\n",
       "        text-align: right;\n",
       "    }\n",
       "</style>\n",
       "<table border=\"1\" class=\"dataframe\">\n",
       "  <thead>\n",
       "    <tr style=\"text-align: right;\">\n",
       "      <th></th>\n",
       "      <th>Tissue</th>\n",
       "      <th>Disease</th>\n",
       "      <th>SampleID</th>\n",
       "      <th>Project</th>\n",
       "      <th>Source</th>\n",
       "      <th>UniqueSampleID</th>\n",
       "      <th>vitalStatus</th>\n",
       "    </tr>\n",
       "  </thead>\n",
       "  <tbody>\n",
       "    <tr>\n",
       "      <th>3DFF72D2-F292-497E-ACE3-6FAA9C884205</th>\n",
       "      <td>Liver</td>\n",
       "      <td>Hepatocellular Carcinoma</td>\n",
       "      <td>3DFF72D2-F292-497E-ACE3-6FAA9C884205</td>\n",
       "      <td>TCGA</td>\n",
       "      <td>TCGA</td>\n",
       "      <td>TCGA_3DFF72D2-F292-497E-ACE3-6FAA9C884205</td>\n",
       "      <td>Alive</td>\n",
       "    </tr>\n",
       "    <tr>\n",
       "      <th>B1E54366-42B9-463C-8615-B34D52BD14DC</th>\n",
       "      <td>Prostate</td>\n",
       "      <td>Prostate Adenocarcinoma Acinar Type</td>\n",
       "      <td>B1E54366-42B9-463C-8615-B34D52BD14DC</td>\n",
       "      <td>TCGA</td>\n",
       "      <td>TCGA</td>\n",
       "      <td>TCGA_B1E54366-42B9-463C-8615-B34D52BD14DC</td>\n",
       "      <td>Alive</td>\n",
       "    </tr>\n",
       "    <tr>\n",
       "      <th>473713F7-EB41-4F20-A37F-ACD209E3CB75</th>\n",
       "      <td>Rectum</td>\n",
       "      <td>Rectal Adenocarcinoma</td>\n",
       "      <td>473713F7-EB41-4F20-A37F-ACD209E3CB75</td>\n",
       "      <td>TCGA</td>\n",
       "      <td>TCGA</td>\n",
       "      <td>TCGA_473713F7-EB41-4F20-A37F-ACD209E3CB75</td>\n",
       "      <td>Alive</td>\n",
       "    </tr>\n",
       "    <tr>\n",
       "      <th>11F18F54-9B33-4C33-BDF9-0F093F4F3336</th>\n",
       "      <td>Liver</td>\n",
       "      <td>Hepatocellular Carcinoma</td>\n",
       "      <td>11F18F54-9B33-4C33-BDF9-0F093F4F3336</td>\n",
       "      <td>TCGA</td>\n",
       "      <td>TCGA</td>\n",
       "      <td>TCGA_11F18F54-9B33-4C33-BDF9-0F093F4F3336</td>\n",
       "      <td>Alive</td>\n",
       "    </tr>\n",
       "    <tr>\n",
       "      <th>136B7576-1108-4FA3-8254-6069F0CA879A</th>\n",
       "      <td>Bladder</td>\n",
       "      <td>Muscle invasive urothelial carcinoma (pT2 or a...</td>\n",
       "      <td>136B7576-1108-4FA3-8254-6069F0CA879A</td>\n",
       "      <td>TCGA</td>\n",
       "      <td>TCGA</td>\n",
       "      <td>TCGA_136B7576-1108-4FA3-8254-6069F0CA879A</td>\n",
       "      <td>Dead</td>\n",
       "    </tr>\n",
       "  </tbody>\n",
       "</table>\n",
       "</div>"
      ],
      "text/plain": [
       "                                        Tissue  \\\n",
       "3DFF72D2-F292-497E-ACE3-6FAA9C884205     Liver   \n",
       "B1E54366-42B9-463C-8615-B34D52BD14DC  Prostate   \n",
       "473713F7-EB41-4F20-A37F-ACD209E3CB75    Rectum   \n",
       "11F18F54-9B33-4C33-BDF9-0F093F4F3336     Liver   \n",
       "136B7576-1108-4FA3-8254-6069F0CA879A   Bladder   \n",
       "\n",
       "                                                                                Disease  \\\n",
       "3DFF72D2-F292-497E-ACE3-6FAA9C884205                           Hepatocellular Carcinoma   \n",
       "B1E54366-42B9-463C-8615-B34D52BD14DC                Prostate Adenocarcinoma Acinar Type   \n",
       "473713F7-EB41-4F20-A37F-ACD209E3CB75                              Rectal Adenocarcinoma   \n",
       "11F18F54-9B33-4C33-BDF9-0F093F4F3336                           Hepatocellular Carcinoma   \n",
       "136B7576-1108-4FA3-8254-6069F0CA879A  Muscle invasive urothelial carcinoma (pT2 or a...   \n",
       "\n",
       "                                                                  SampleID  \\\n",
       "3DFF72D2-F292-497E-ACE3-6FAA9C884205  3DFF72D2-F292-497E-ACE3-6FAA9C884205   \n",
       "B1E54366-42B9-463C-8615-B34D52BD14DC  B1E54366-42B9-463C-8615-B34D52BD14DC   \n",
       "473713F7-EB41-4F20-A37F-ACD209E3CB75  473713F7-EB41-4F20-A37F-ACD209E3CB75   \n",
       "11F18F54-9B33-4C33-BDF9-0F093F4F3336  11F18F54-9B33-4C33-BDF9-0F093F4F3336   \n",
       "136B7576-1108-4FA3-8254-6069F0CA879A  136B7576-1108-4FA3-8254-6069F0CA879A   \n",
       "\n",
       "                                     Project Source  \\\n",
       "3DFF72D2-F292-497E-ACE3-6FAA9C884205    TCGA   TCGA   \n",
       "B1E54366-42B9-463C-8615-B34D52BD14DC    TCGA   TCGA   \n",
       "473713F7-EB41-4F20-A37F-ACD209E3CB75    TCGA   TCGA   \n",
       "11F18F54-9B33-4C33-BDF9-0F093F4F3336    TCGA   TCGA   \n",
       "136B7576-1108-4FA3-8254-6069F0CA879A    TCGA   TCGA   \n",
       "\n",
       "                                                                 UniqueSampleID  \\\n",
       "3DFF72D2-F292-497E-ACE3-6FAA9C884205  TCGA_3DFF72D2-F292-497E-ACE3-6FAA9C884205   \n",
       "B1E54366-42B9-463C-8615-B34D52BD14DC  TCGA_B1E54366-42B9-463C-8615-B34D52BD14DC   \n",
       "473713F7-EB41-4F20-A37F-ACD209E3CB75  TCGA_473713F7-EB41-4F20-A37F-ACD209E3CB75   \n",
       "11F18F54-9B33-4C33-BDF9-0F093F4F3336  TCGA_11F18F54-9B33-4C33-BDF9-0F093F4F3336   \n",
       "136B7576-1108-4FA3-8254-6069F0CA879A  TCGA_136B7576-1108-4FA3-8254-6069F0CA879A   \n",
       "\n",
       "                                     vitalStatus  \n",
       "3DFF72D2-F292-497E-ACE3-6FAA9C884205       Alive  \n",
       "B1E54366-42B9-463C-8615-B34D52BD14DC       Alive  \n",
       "473713F7-EB41-4F20-A37F-ACD209E3CB75       Alive  \n",
       "11F18F54-9B33-4C33-BDF9-0F093F4F3336       Alive  \n",
       "136B7576-1108-4FA3-8254-6069F0CA879A        Dead  "
      ]
     },
     "execution_count": 38,
     "metadata": {},
     "output_type": "execute_result"
    }
   ],
   "source": [
    "metadata = pd.read_csv(path_to_metadata + 'TCGA_BulkMetadata.tsv', sep = '\\t', index_col = 0)\n",
    "print(metadata.shape)\n",
    "metadata.head()\n"
   ]
  },
  {
   "cell_type": "code",
   "execution_count": 39,
   "metadata": {},
   "outputs": [
    {
     "data": {
      "text/plain": [
       "Breast                                                                                      1246\n",
       "Lung                                                                                        1156\n",
       "Kidney                                                                                      1030\n",
       "Endometrial                                                                                  576\n",
       "Thyroid                                                                                      572\n",
       "Prostate                                                                                     558\n",
       "Head and Neck                                                                                548\n",
       "Colon                                                                                        543\n",
       "Central nervous system                                                                       531\n",
       "Stomach                                                                                      453\n",
       "Bladder                                                                                      433\n",
       "Ovary                                                                                        426\n",
       "Liver                                                                                        424\n",
       "Cervical                                                                                     309\n",
       "Regional Lymph Node                                                                          224\n",
       "Pancreas                                                                                     183\n",
       "Rectum                                                                                       172\n",
       "Brain                                                                                        169\n",
       "Bone Marrow                                                                                  125\n",
       "Primary Tumor                                                                                104\n",
       "Regional Cutaneous or Subcutaneous Tissue (includes satellite and in-transit metastasis)      74\n",
       "Distant Metastasis                                                                            68\n",
       "Omentum                                                                                        3\n",
       "Peritoneum ovary                                                                               1\n",
       "Other  Specify                                                                                 1\n",
       "Name: Tissue, dtype: int64"
      ]
     },
     "execution_count": 39,
     "metadata": {},
     "output_type": "execute_result"
    }
   ],
   "source": [
    "metadata['Tissue'].value_counts()"
   ]
  },
  {
   "cell_type": "code",
   "execution_count": 40,
   "metadata": {},
   "outputs": [
    {
     "data": {
      "text/plain": [
       "Infiltrating Ductal Carcinoma                                                        896\n",
       "Kidney Clear Cell Renal Carcinoma                                                    616\n",
       "Prostate Adenocarcinoma Acinar Type                                                  542\n",
       "Head & Neck Squamous Cell Carcinoma                                                  537\n",
       "Lung Squamous Cell Carcinoma- Not Otherwise Specified (NOS)                          530\n",
       "Colon Adenocarcinoma                                                                 466\n",
       "Endometrioid endometrial adenocarcinoma                                              430\n",
       "Serous Cystadenocarcinoma                                                            430\n",
       "Muscle invasive urothelial carcinoma (pT2 or above)                                  428\n",
       "Thyroid Papillary Carcinoma - Classical/usual                                        415\n",
       "Hepatocellular Carcinoma                                                             413\n",
       "Lung Adenocarcinoma- Not Otherwise Specified (NOS)                                   387\n",
       "Kidney Papillary Renal Cell Carcinoma                                                323\n",
       "Cervical Squamous Cell Carcinoma                                                     255\n",
       "Infiltrating Lobular Carcinoma                                                       219\n",
       "Oligodendroglioma                                                                    200\n",
       "Astrocytoma                                                                          196\n",
       "Stomach, Adenocarcinoma, Not Otherwise Specified (NOS)                               173\n",
       "Untreated primary (de novo) GBM                                                      167\n",
       "Rectal Adenocarcinoma                                                                155\n",
       "Pancreas-Adenocarcinoma Ductal Type                                                  150\n",
       "Oligoastrocytoma                                                                     135\n",
       "Serous endometrial adenocarcinoma                                                    123\n",
       "Lung Adenocarcinoma Mixed Subtype                                                    113\n",
       "Thyroid Papillary Carcinoma - Follicular (>= 99% follicular patterned)               109\n",
       "Kidney Chromophobe                                                                    91\n",
       "Stomach, Intestinal Adenocarcinoma, Not Otherwise Specified (NOS)                     81\n",
       "Stomach, Intestinal Adenocarcinoma, Tubular Type                                      80\n",
       "Stomach, Adenocarcinoma, Diffuse Type                                                 75\n",
       "Colon Mucinous Adenocarcinoma                                                         73\n",
       "Other, specify                                                                        60\n",
       "Diffuse large B-cell lymphoma (DLBCL) NOS (any anatomic site nodal or extranodal)     41\n",
       "Mixed Histology (please specify)                                                      39\n",
       "Thyroid Papillary Carcinoma - Tall Cell (>= 50% tall cell features)                   39\n",
       "Pancreas-Adenocarcinoma-Other Subtype                                                 27\n",
       "Lung Papillary Adenocarcinoma                                                         25\n",
       "Mixed serous and endometrioid                                                         24\n",
       "Lung Bronchioloalveolar Carcinoma Nonmucinous                                         22\n",
       "Endocervical Type of Adenocarcinoma                                                   22\n",
       "Stomach, Intestinal Adenocarcinoma, Mucinous Type                                     21\n",
       "Mucinous Carcinoma                                                                    18\n",
       "Lung Acinar Adenocarcinoma                                                            18\n",
       "Mucinous Adenocarcinoma of Endocervical Type                                          17\n",
       "Lung Basaloid Squamous Cell Carcinoma                                                 17\n",
       "Prostate Adenocarcinoma, Other Subtype                                                16\n",
       "Rectal Mucinous Adenocarcinoma                                                        14\n",
       "Mucinous (Colloid) Carcinoma                                                          13\n",
       "Metaplastic Carcinoma                                                                 13\n",
       "Stomach Adenocarcinoma, Signet Ring Type                                              12\n",
       "Head & Neck Squamous Cell Carcinoma Basaloid Type                                     10\n",
       "Hepatocholangiocarcinoma (Mixed)                                                       8\n",
       "Stomach, Intestinal Adenocarcinoma, Papillary Type                                     8\n",
       "Medullary Carcinoma                                                                    8\n",
       "Endocervical Adenocarcinoma of the Usual Type                                          6\n",
       "Adenosquamous                                                                          6\n",
       "Lung Mucinous Adenocarcinoma                                                           6\n",
       "Lung Solid Pattern Predominant Adenocarcinoma                                          5\n",
       "Lung Papillary Squamous Cell Caricnoma                                                 5\n",
       "Lung Bronchioloalveolar Carcinoma Mucinous                                             5\n",
       "Primary mediastinal (thymic) DLBCL                                                     4\n",
       "Pancreas-Colloid (mucinous non-cystic) Carcinoma                                       4\n",
       "Primary DLBCL of the CNS                                                               3\n",
       "Lung Micropapillary Adenocarcinoma                                                     3\n",
       "Endometrioid Adenocarcinoma of Endocervix                                              3\n",
       "Fibrolamellar Carcinoma                                                                3\n",
       "Lung Clear Cell Adenocarcinoma                                                         3\n",
       "Lung Small Cell Squamous Cell Carcinoma                                                2\n",
       "Infiltrating Carcinoma NOS                                                             1\n",
       "Glioblastoma Multiforme (GBM)                                                          1\n",
       "Lung Signet Ring Adenocarcinoma                                                        1\n",
       "Pancreas-Undifferentiated Carcinoma                                                    1\n",
       "Head & Neck Squamous Cell Carcinoma, Spindle Cell Variant                              1\n",
       "Treated primary GBM                                                                    1\n",
       "Name: Disease, dtype: int64"
      ]
     },
     "execution_count": 40,
     "metadata": {},
     "output_type": "execute_result"
    }
   ],
   "source": [
    "pd.set_option('display.max_rows', 500)\n",
    "metadata['Disease'].value_counts()"
   ]
  },
  {
   "cell_type": "markdown",
   "metadata": {},
   "source": [
    "#### Filter ovarian cancers"
   ]
  },
  {
   "cell_type": "code",
   "execution_count": 41,
   "metadata": {},
   "outputs": [
    {
     "data": {
      "text/plain": [
       "(426, 7)"
      ]
     },
     "execution_count": 41,
     "metadata": {},
     "output_type": "execute_result"
    }
   ],
   "source": [
    "# Filter for ovarian cancer \n",
    "metadata = metadata[metadata['Tissue'] == \"Ovary\"]\n",
    "metadata.shape"
   ]
  },
  {
   "cell_type": "code",
   "execution_count": 42,
   "metadata": {},
   "outputs": [
    {
     "data": {
      "text/plain": [
       "Serous Cystadenocarcinoma    426\n",
       "Name: Disease, dtype: int64"
      ]
     },
     "execution_count": 42,
     "metadata": {},
     "output_type": "execute_result"
    }
   ],
   "source": [
    "metadata['Disease'].value_counts(dropna = False)"
   ]
  },
  {
   "cell_type": "code",
   "execution_count": 43,
   "metadata": {},
   "outputs": [
    {
     "data": {
      "text/plain": [
       "Dead     234\n",
       "Alive    192\n",
       "Name: vitalStatus, dtype: int64"
      ]
     },
     "execution_count": 43,
     "metadata": {},
     "output_type": "execute_result"
    }
   ],
   "source": [
    "metadata['vitalStatus'].value_counts(dropna = False)"
   ]
  },
  {
   "cell_type": "code",
   "execution_count": 31,
   "metadata": {},
   "outputs": [],
   "source": [
    "metadata = metadata[metadata['Disease'] == \"Serous endometrial adenocarcinoma\"]"
   ]
  },
  {
   "cell_type": "markdown",
   "metadata": {},
   "source": [
    "Get the list of *UniqueSampleID* column "
   ]
  },
  {
   "cell_type": "code",
   "execution_count": 44,
   "metadata": {},
   "outputs": [
    {
     "data": {
      "text/plain": [
       "426"
      ]
     },
     "execution_count": 44,
     "metadata": {},
     "output_type": "execute_result"
    }
   ],
   "source": [
    "ids = list(metadata['UniqueSampleID'])\n",
    "len(ids)"
   ]
  },
  {
   "cell_type": "markdown",
   "metadata": {},
   "source": [
    "#### Format of bulk tumor samples (one file per sample)\n",
    "\n",
    "Every bulk tumor sample is a tsv file with 3 columns: \n",
    "\n",
    " * **geneName** : ENSEMBL gene ID \n",
    " * **geneLengths** : length of the gene \n",
    " * **cnts** : counts coming from the gene"
   ]
  },
  {
   "cell_type": "markdown",
   "metadata": {},
   "source": [
    "#### Generate txt file with one sample per line (include full path to make sure it runs from everywhere)"
   ]
  },
  {
   "cell_type": "code",
   "execution_count": 45,
   "metadata": {},
   "outputs": [],
   "source": [
    "ovarian_cancer_files = []\n",
    "for i in ids:\n",
    "    i_file = path_to_data + i + '.tsv'\n",
    "    ovarian_cancer_files.append(i_file)"
   ]
  },
  {
   "cell_type": "code",
   "execution_count": 46,
   "metadata": {},
   "outputs": [
    {
     "data": {
      "text/plain": [
       "426"
      ]
     },
     "execution_count": 46,
     "metadata": {},
     "output_type": "execute_result"
    }
   ],
   "source": [
    "len(ovarian_cancer_files)"
   ]
  },
  {
   "cell_type": "code",
   "execution_count": 47,
   "metadata": {},
   "outputs": [],
   "source": [
    "outdir = '/nfs/team292/vl6/CancerDeconvolution/'"
   ]
  },
  {
   "cell_type": "code",
   "execution_count": 48,
   "metadata": {},
   "outputs": [],
   "source": [
    "# Write list to txt file, one element per line\n",
    "with open(outdir + \"bulk_samples_ovarian_cancer.txt\", 'w') as f:\n",
    "    f.write(\"\\n\".join(map(str, ovarian_cancer_files)))"
   ]
  },
  {
   "cell_type": "markdown",
   "metadata": {},
   "source": [
    "#### Load single cell data and format it "
   ]
  },
  {
   "cell_type": "code",
   "execution_count": 2,
   "metadata": {},
   "outputs": [
    {
     "data": {
      "text/plain": [
       "AnnData object with n_obs × n_vars = 120810 × 28614\n",
       "    obs: 'sample_names', 'log2p1_count', 'percent_mito', 'n_genes', 'batch', 'StudyName', 'SampleID', 'DonorID', 'BiopsyType', 'Location', 'Stage', 'Treatment', 'Batch', 'scrublet_pred', 'scrublet_local_pred', 'filtered_cells', 'Wang_celltype', 'leiden_scvi_batch_cc', 'leiden_scvi_sampl_cc', 'Studywise_celltypes', 'leiden_seurat_batch_cc', 'leiden_seurat_sampl_cc', 'broad_celltype', 'leiden_scvi_batch_epithetial', 'leiden_scvi_batch_stromal', 'scrublet_score', 'scrublet_cluster_score', 'Women age', '10x kit', 'leiden_res2_scvi_batchv2_Immune', 'leiden_res2_scvi_batchv2_Epithelial', 'leiden_res2_scvi_batchv2_Stromal', 'StromalSample', 'EpithelialSample', 'leiden_scvi_stromal_subsample', 'leiden_scvi_epithelial_subsample', 'leiden_scvi_stromal_subsample_donorID', 'leiden_scvi_epithelial_subsample_DonorID', 'palantir_pseudotime', 'palantir_pseudotime_proj', 'EpithelialCiliaSample', 'daconcat', 'leiden_scvi_sampl_cc_renamed', 'Day', 'leiden_epicilia_sample', 'BinaryStage', 'EpithelialCiliaSampleFlt', 'leiden_scvi16_epithelial_subsample_DonorID', 'leiden_scvi16_stromal_subsample_DonorID', 'leiden_scvi16_endothelial_subsample_DonorID', 'leiden_scvi16_immune_DonorID', 'leiden_scvi16_PVSMCFB_DonorID', 'leiden_scvi16_epithelial_subsample_renamed', 'tmp', 'leidenres2_scvi16_immune_DonorID', 'leidenres1_8_scvi16_immune_DonorID', 'leidenres3_scvi16_immune_DonorID', 'leidenres10_scvi16_immune_DonorID', 'leidenres2_scvi_sampl_cc', 'leidenres3_scvi_sampl_cc', 'isNK', 'leiden_scvi16_nkcells', 'leiden_curated_immune', 'leiden_scvi_sampl_cc_renamed2', 'leiden_scvi16_allendothelial', 'NK_projection', 'NK_projection_prob', 'leidenres3_scvi16_immune_DonorID_renamed', 'leiden_scvi16_nkcells_renamed', 'extern'\n",
       "    var: 'gene_ids', 'n_cells'\n",
       "    uns: 'BinaryStage_colors', 'BiopsyType_colors', 'Day_colors', 'DonorID_colors', 'Location_colors', 'NK_projection_colors', 'broad_celltype_color', 'broad_celltype_colors', 'leiden_scvi16_epithelial_subsample_renamed_colors', 'leiden_scvi16_nkcells_renamed_colors', 'leiden_scvi_sampl_cc_colors', 'leiden_scvi_sampl_cc_renamed2_colors', 'leiden_scvi_sampl_cc_renamed_colors', 'leidenres3_scvi16_immune_DonorID_renamed_colors', 'sample_names_colors'\n",
       "    obsm: 'None', 'X_Wang_umap', 'X_umap_curated_immune', 'X_umap_epicilia_sample', 'X_umap_scvi16_PVSMCFB_DonorID', 'X_umap_scvi16_endthelial_subsample_DonorID', 'X_umap_scvi16_epithelial_subsample_DonorID', 'X_umap_scvi16_immune_DonorID', 'X_umap_scvi16_nkcells', 'X_umap_scvi16_stromal_subsample_DonorID', 'X_umap_scvi_batch_cc', 'X_umap_scvi_batch_epithetial', 'X_umap_scvi_batch_stromal', 'X_umap_scvi_batchv2_Epithelial', 'X_umap_scvi_batchv2_Immune', 'X_umap_scvi_batchv2_Stromal', 'X_umap_scvi_epithelial_subsample', 'X_umap_scvi_epithelial_subsample_DonorID', 'X_umap_scvi_sampl_cc', 'X_umap_scvi_stromal_subsample', 'X_umap_scvi_stromal_subsample_donorID', 'X_umap_seurat_batch_cc', 'X_umap_seurat_sampl_cc', 'latent_epi_sample', 'latent_scvi16_PVSMCFB_DonorID', 'latent_scvi16_endothelial_subsample_DonorID', 'latent_scvi16_epithelial_subsample_DonorID', 'latent_scvi16_immune_DonorID', 'latent_scvi16_stromal_subsample_DonorID', 'latent_scvi_epicilia_sample', 'latent_scvi_epithelial_subsample', 'latent_scvi_epithelial_subsample_DonorID', 'latent_scvi_stromal_subsample', 'latent_scvi_stromal_subsample_donorID', 'latent_stromal_sample', 'scvi16_curated_immune', 'scvi16_nkcells', 'scvi_allendothelial', 'scvi_batch_cc', 'scvi_batchv2_Epithelial', 'scvi_batchv2_Immune', 'scvi_batchv2_Stromal', 'scvi_sampl_cc', 'seurat_batch_cc', 'seurat_sampl_cc', 'tmp', 'umap'"
      ]
     },
     "execution_count": 2,
     "metadata": {},
     "output_type": "execute_result"
    }
   ],
   "source": [
    "adata = sc.read('/lustre/scratch117/cellgen/team292/lh20/revision/integrated4.h5ad')\n",
    "adata"
   ]
  },
  {
   "cell_type": "code",
   "execution_count": 8,
   "metadata": {},
   "outputs": [
    {
     "data": {
      "text/plain": [
       "Wang    65081\n",
       "Luz     55729\n",
       "Name: StudyName, dtype: int64"
      ]
     },
     "execution_count": 8,
     "metadata": {},
     "output_type": "execute_result"
    }
   ],
   "source": [
    "adata.obs['StudyName'].value_counts(dropna = False)"
   ]
  },
  {
   "cell_type": "code",
   "execution_count": 5,
   "metadata": {},
   "outputs": [
    {
     "data": {
      "text/html": [
       "<div>\n",
       "<style scoped>\n",
       "    .dataframe tbody tr th:only-of-type {\n",
       "        vertical-align: middle;\n",
       "    }\n",
       "\n",
       "    .dataframe tbody tr th {\n",
       "        vertical-align: top;\n",
       "    }\n",
       "\n",
       "    .dataframe thead th {\n",
       "        text-align: right;\n",
       "    }\n",
       "</style>\n",
       "<table border=\"1\" class=\"dataframe\">\n",
       "  <thead>\n",
       "    <tr style=\"text-align: right;\">\n",
       "      <th></th>\n",
       "      <th>cell_type</th>\n",
       "    </tr>\n",
       "    <tr>\n",
       "      <th>Cell</th>\n",
       "      <th></th>\n",
       "    </tr>\n",
       "  </thead>\n",
       "  <tbody>\n",
       "    <tr>\n",
       "      <th>4861STDY7387181_AAACCTGAGGCATGGT</th>\n",
       "      <td>Fibroblast eS</td>\n",
       "    </tr>\n",
       "    <tr>\n",
       "      <th>4861STDY7387181_AAACCTGAGGGCACTA</th>\n",
       "      <td>Fibroblast eS</td>\n",
       "    </tr>\n",
       "    <tr>\n",
       "      <th>4861STDY7387181_AAACCTGAGTGAAGTT</th>\n",
       "      <td>PV STEAP4</td>\n",
       "    </tr>\n",
       "    <tr>\n",
       "      <th>4861STDY7387181_AAACCTGAGTGGGCTA</th>\n",
       "      <td>Fibroblast dS</td>\n",
       "    </tr>\n",
       "    <tr>\n",
       "      <th>4861STDY7387181_AAACCTGCACCGAAAG</th>\n",
       "      <td>Fibroblast eS</td>\n",
       "    </tr>\n",
       "  </tbody>\n",
       "</table>\n",
       "</div>"
      ],
      "text/plain": [
       "                                      cell_type\n",
       "Cell                                           \n",
       "4861STDY7387181_AAACCTGAGGCATGGT  Fibroblast eS\n",
       "4861STDY7387181_AAACCTGAGGGCACTA  Fibroblast eS\n",
       "4861STDY7387181_AAACCTGAGTGAAGTT      PV STEAP4\n",
       "4861STDY7387181_AAACCTGAGTGGGCTA  Fibroblast dS\n",
       "4861STDY7387181_AAACCTGCACCGAAAG  Fibroblast eS"
      ]
     },
     "execution_count": 5,
     "metadata": {},
     "output_type": "execute_result"
    }
   ],
   "source": [
    "metadata = pd.read_csv('/nfs/team292/lg18/with_valentina/endometrium_annotations.cvs', sep = '\\t', index_col = 0)\n",
    "metadata.head()"
   ]
  },
  {
   "cell_type": "code",
   "execution_count": 6,
   "metadata": {},
   "outputs": [
    {
     "data": {
      "text/plain": [
       "NaN                        46884\n",
       "Fibroblast dS              24436\n",
       "Fibroblast eS              12675\n",
       "uSMC                        7746\n",
       "Endothelial ACKR1           7188\n",
       "PV MYH11                    3414\n",
       "PV STEAP4                   3345\n",
       "epi_SOX9                    2806\n",
       "Lymphoid                    2311\n",
       "epi_Glandular_secretory     2147\n",
       "epi_Lumenal 1               1376\n",
       "epi_SOX9_LGR5               1150\n",
       "epi_Glandular               1101\n",
       "Fibroblast C7                932\n",
       "epi_SOX9_prolif              883\n",
       "epi_Ciliated                 762\n",
       "Myeloid                      761\n",
       "Endothelial SEMA3G           389\n",
       "epi_Lumenal 2                273\n",
       "epi_Ciliated LRG5            182\n",
       "epi_Pre-ciliated              49\n",
       "Name: cell_type, dtype: int64"
      ]
     },
     "execution_count": 6,
     "metadata": {},
     "output_type": "execute_result"
    }
   ],
   "source": [
    "mapping = metadata['cell_type'].to_dict()\n",
    "adata.obs['cell_type'] = adata.obs_names.map(mapping)\n",
    "adata.obs['cell_type'].value_counts(dropna = False)"
   ]
  },
  {
   "cell_type": "code",
   "execution_count": 7,
   "metadata": {},
   "outputs": [
    {
     "data": {
      "text/plain": [
       "(73043, 28614)"
      ]
     },
     "execution_count": 7,
     "metadata": {},
     "output_type": "execute_result"
    }
   ],
   "source": [
    "adata.obs['cell_type'] = adata.obs['cell_type'].astype(str)\n",
    "adata = adata[[i not in ['nan', 'epi_SOX9_prolif'] for i in adata.obs['cell_type']]]\n",
    "adata.shape"
   ]
  },
  {
   "cell_type": "code",
   "execution_count": 8,
   "metadata": {},
   "outputs": [
    {
     "data": {
      "text/plain": [
       "array(['Endothelial ACKR1', 'Endothelial SEMA3G', 'Fibroblast C7',\n",
       "       'Fibroblast dS', 'Fibroblast eS', 'Lymphoid', 'Myeloid',\n",
       "       'PV MYH11', 'PV STEAP4', 'epi_Ciliated', 'epi_Ciliated LRG5',\n",
       "       'epi_Glandular', 'epi_Glandular_secretory', 'epi_Lumenal 1',\n",
       "       'epi_Lumenal 2', 'epi_Pre-ciliated', 'epi_SOX9', 'epi_SOX9_LGR5',\n",
       "       'uSMC'], dtype=object)"
      ]
     },
     "execution_count": 8,
     "metadata": {},
     "output_type": "execute_result"
    }
   ],
   "source": [
    "np.unique(adata.obs['cell_type'])"
   ]
  },
  {
   "cell_type": "code",
   "execution_count": 9,
   "metadata": {},
   "outputs": [
    {
     "data": {
      "text/plain": [
       "G1     68997\n",
       "S       2536\n",
       "G2M     1510\n",
       "Name: phase, dtype: int64"
      ]
     },
     "execution_count": 9,
     "metadata": {},
     "output_type": "execute_result"
    }
   ],
   "source": [
    "adata.obs['phase'].value_counts()"
   ]
  },
  {
   "cell_type": "markdown",
   "metadata": {},
   "source": [
    "#### Select cells that are in G1 phase of the cell cycle "
   ]
  },
  {
   "cell_type": "code",
   "execution_count": 10,
   "metadata": {},
   "outputs": [
    {
     "data": {
      "text/plain": [
       "(68997, 28614)"
      ]
     },
     "execution_count": 10,
     "metadata": {},
     "output_type": "execute_result"
    }
   ],
   "source": [
    "adata = adata[[i in ['G1'] for i in adata.obs['phase']]]\n",
    "adata.shape"
   ]
  },
  {
   "cell_type": "code",
   "execution_count": 11,
   "metadata": {},
   "outputs": [],
   "source": [
    "adata.raw = adata.copy()"
   ]
  },
  {
   "cell_type": "code",
   "execution_count": 12,
   "metadata": {},
   "outputs": [
    {
     "name": "stdout",
     "output_type": "stream",
     "text": [
      "normalizing by total count per cell\n",
      "    finished (0:00:03): normalized adata.X and added    'n_counts', counts per cell before normalization (adata.obs)\n"
     ]
    }
   ],
   "source": [
    "# Normalize per cell\n",
    "sc.pp.normalize_per_cell(adata, counts_per_cell_after=1e4)\n",
    "\n",
    "# Log-transform the data \n",
    "sc.pp.log1p(adata)"
   ]
  },
  {
   "cell_type": "code",
   "execution_count": 24,
   "metadata": {},
   "outputs": [
    {
     "data": {
      "text/plain": [
       "<68997x28614 sparse matrix of type '<class 'numpy.float64'>'\n",
       "\twith 175483466 stored elements in Compressed Sparse Row format>"
      ]
     },
     "execution_count": 24,
     "metadata": {},
     "output_type": "execute_result"
    }
   ],
   "source": [
    "adata.raw.X"
   ]
  },
  {
   "cell_type": "markdown",
   "metadata": {},
   "source": [
    "#### Save files needed to run Cellular Signal Analysis"
   ]
  },
  {
   "cell_type": "markdown",
   "metadata": {},
   "source": [
    " 1. Matrix of raw counts (mtx file)"
   ]
  },
  {
   "cell_type": "code",
   "execution_count": 25,
   "metadata": {},
   "outputs": [
    {
     "data": {
      "text/plain": [
       "(28614, 68997)"
      ]
     },
     "execution_count": 25,
     "metadata": {},
     "output_type": "execute_result"
    }
   ],
   "source": [
    "# Save raw counts as matrix but remember to TRANSPOSE it first \n",
    "tadata = adata.raw.X.transpose()\n",
    "tadata.shape"
   ]
  },
  {
   "cell_type": "code",
   "execution_count": 28,
   "metadata": {},
   "outputs": [],
   "source": [
    "from scipy import io\n",
    "io.mmwrite(outdir + \"Endometrium.mtx\", tadata)"
   ]
  },
  {
   "cell_type": "markdown",
   "metadata": {},
   "source": [
    " 2. Formatted cell barcodes (tsv file)"
   ]
  },
  {
   "cell_type": "code",
   "execution_count": 29,
   "metadata": {},
   "outputs": [],
   "source": [
    "adata.obs['formatted_barcodes'] = adata.obs['cell_type'].astype(str) + \":\" + adata.obs_names "
   ]
  },
  {
   "cell_type": "code",
   "execution_count": 30,
   "metadata": {},
   "outputs": [],
   "source": [
    "cell_barcodes = list(adata.obs['formatted_barcodes'])"
   ]
  },
  {
   "cell_type": "code",
   "execution_count": 31,
   "metadata": {},
   "outputs": [
    {
     "data": {
      "text/plain": [
       "['Fibroblast eS:4861STDY7387181_AAACCTGAGGGCACTA',\n",
       " 'PV STEAP4:4861STDY7387181_AAACCTGAGTGAAGTT',\n",
       " 'Fibroblast dS:4861STDY7387181_AAACCTGAGTGGGCTA',\n",
       " 'Fibroblast eS:4861STDY7387181_AAACCTGCACCGAAAG',\n",
       " 'Fibroblast eS:4861STDY7387181_AAACCTGCACGAGAGT',\n",
       " 'Fibroblast eS:4861STDY7387181_AAACCTGCATGGTCAT',\n",
       " 'Fibroblast dS:4861STDY7387181_AAACCTGGTCATGCCG',\n",
       " 'epi_SOX9:4861STDY7387181_AAACCTGTCAATAAGG',\n",
       " 'Fibroblast eS:4861STDY7387181_AAACCTGTCAGGCCCA',\n",
       " 'Fibroblast eS:4861STDY7387181_AAACCTGTCTAAGCCA']"
      ]
     },
     "execution_count": 31,
     "metadata": {},
     "output_type": "execute_result"
    }
   ],
   "source": [
    "cell_barcodes[0:10]"
   ]
  },
  {
   "cell_type": "code",
   "execution_count": 32,
   "metadata": {},
   "outputs": [],
   "source": [
    "# Save tsv file for column names (one cell barcode per line)\n",
    "with open(outdir + \"Endometrium_columnNames.tsv\", 'w') as f:\n",
    "    f.write(\"\\n\".join(map(str, cell_barcodes)))"
   ]
  },
  {
   "cell_type": "markdown",
   "metadata": {},
   "source": [
    " 3. ENSEMBL genes (tsv file)"
   ]
  },
  {
   "cell_type": "code",
   "execution_count": 33,
   "metadata": {},
   "outputs": [
    {
     "data": {
      "text/plain": [
       "ENSG00000243485    1\n",
       "ENSG00000118939    1\n",
       "ENSG00000274898    1\n",
       "ENSG00000005812    1\n",
       "ENSG00000102805    1\n",
       "                  ..\n",
       "ENSG00000146250    1\n",
       "ENSG00000065833    1\n",
       "ENSG00000013392    1\n",
       "ENSG00000013375    1\n",
       "ENSG00000271254    1\n",
       "Name: gene_ids, Length: 28614, dtype: int64"
      ]
     },
     "execution_count": 33,
     "metadata": {},
     "output_type": "execute_result"
    }
   ],
   "source": [
    "adata.var['gene_ids'].value_counts(dropna = False)"
   ]
  },
  {
   "cell_type": "code",
   "execution_count": 34,
   "metadata": {},
   "outputs": [],
   "source": [
    "ensembl_ids = list(adata.var['gene_ids'])\n",
    "with open(outdir + \"Endometrium_rowNames.tsv\", 'w') as f:\n",
    "    f.write(\"\\n\".join(map(str, ensembl_ids)))"
   ]
  },
  {
   "cell_type": "markdown",
   "metadata": {},
   "source": [
    "#### Run CellularSignalAnalysis from terminal"
   ]
  },
  {
   "cell_type": "markdown",
   "metadata": {},
   "source": [
    "python -i cellSignalAnalysisV2_cellSignalAnalysis.py -b bulk_samples_ovarian_cancer.txt -s Endometrium -w cellSignalAnalysisV2_geneWeights.tsv output_ovarianCancer_END/"
   ]
  },
  {
   "cell_type": "markdown",
   "metadata": {},
   "source": [
    "#### End of notebook "
   ]
  }
 ],
 "metadata": {
  "kernelspec": {
   "display_name": "atac_env",
   "language": "python",
   "name": "atac_env"
  },
  "language_info": {
   "codemirror_mode": {
    "name": "ipython",
    "version": 3
   },
   "file_extension": ".py",
   "mimetype": "text/x-python",
   "name": "python",
   "nbconvert_exporter": "python",
   "pygments_lexer": "ipython3",
   "version": "3.8.3"
  }
 },
 "nbformat": 4,
 "nbformat_minor": 4
}

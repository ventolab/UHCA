{
 "cells": [
  {
   "cell_type": "code",
   "execution_count": 1,
   "metadata": {},
   "outputs": [
    {
     "name": "stdout",
     "output_type": "stream",
     "text": [
      "scanpy==1.5.1 anndata==0.7.4 umap==0.4.6 numpy==1.19.1 scipy==1.5.2 pandas==1.0.5 scikit-learn==0.23.2 statsmodels==0.11.1 python-igraph==0.8.2 louvain==0.6.1 leidenalg==0.8.1\n"
     ]
    }
   ],
   "source": [
    "# Integration of biopsies and organ donors from 2 studies\n",
    "import anndata, numpy as np, pandas as pd, lpy, scanpy as sc, imp, re\n",
    "sc.logging.print_versions()"
   ]
  },
  {
   "cell_type": "code",
   "execution_count": 2,
   "metadata": {},
   "outputs": [],
   "source": [
    "# Set some constants\n",
    "adata = anndata.read_h5ad(\"N1-denoised-nuclei.h5ad\")\n",
    "adata_trg = anndata.read_h5ad(\"N1-nuclei.h5ad\")"
   ]
  },
  {
   "cell_type": "code",
   "execution_count": 3,
   "metadata": {},
   "outputs": [
    {
     "name": "stdout",
     "output_type": "stream",
     "text": [
      "\u001b[35;46;1mPrepare Data for Scvi/TotalVi\u001b[0m\u001b[34m\n",
      "def scvi_prepare(anndatapath, field, cellfilter = None, nbgenes = 5000, genes_to_filter= None, use_ccfilter_prefix=None, citeseqkey = \"protein_expression\", use_raw_slot_instead =None, min_cell_threshold= 0, doinspect=False):\n",
      "    if doinspect is True: print(\"\\033[35;46;1mPrepare Data for Scvi/TotalVi\\033[0m\\033[34m\"); print(inspect.getsource(scvi_prepare));print(\"\\033[31;43;1mExecution:\\033[0m\")\n",
      "    if use_ccfilter_prefix is not None :\n",
      "        genes_to_filter = [use_ccfilter_prefix + x for x in [\"HMGB2\",\"CDK1\",\"NUSAP1\",\"UBE2C\",\"BIRC5\",\"TPX2\",\"TOP2A\",\"NDC80\",\"CKS2\",\"NUF2\",\"CKS1B\",\"MKI67\",\"TMPO\",\"CENPF\",\"TACC3\",\"FAM64A\",\"SMC4\",\"CCNB2\",\"CKAP2L\",\"CKAP2\",\"AURKB\",\"BUB1\",\"KIF11\",\"ANP32E\",\"TUBB4B\",\"GTSE1\",\"KIF20B\",\"HJURP\",\"CDCA3\",\"HN1\",\"CDC20\",\"TTK\",\"CDC25C\",\"KIF2C\",\"RANGAP1\",\"NCAPD2\",\"DLGAP5\",\"CDCA2\",\"CDCA8\",\"ECT2\",\"KIF23\",\"HMMR\",\"AURKA\",\"PSRC1\",\"ANLN\",\"LBR\",\"CKAP5\",\"CENPE\",\"CTCF\",\"NEK2\",\"G2E3\",\"GAS2L3\",\"CBX5\",\"CENPA\",\"MCM5\",\"PCNA\",\"TYMS\",\"FEN1\",\"MCM2\",\"MCM4\",\"RRM1\",\"UNG\",\"GINS2\",\"MCM6\",\"CDCA7\",\"DTL\",\"PRIM1\",\"UHRF1\",\"MLF1IP\",\"HELLS\",\"RFC2\",\"RPA2\",\"NASP\",\"RAD51AP1\",\"GMNN\",\"WDR76\",\"SLBP\",\"CCNE2\",\"UBR7\",\"POLD3\",\"MSH2\",\"ATAD2\",\"RAD51\",\"RRM2\",\"CDC45\",\"CDC6\",\"EXO1\",\"TIPIN\",\"DSCC1\",\"BLM\",\"CASP8AP2\",\"USP1\",\"CLSPN\",\"POLA1\",\"CHAF1B\",\"BRIP1\",\"E2F8\"]]\n",
      "    if (isinstance(anndatapath, str)): cite = anndata.read_h5ad(anndatapath)\n",
      "    else: cite = anndatapath\n",
      "    if use_raw_slot_instead is None: # default behavior, check for the existance of the raw slot\n",
      "        use_raw_slot_instead = cite.raw is not None\n",
      "    \n",
      "    split = splitAnnData(cite, field, entryfilter= cellfilter, getnames = True, use_raw_slot_instead= use_raw_slot_instead,min_cell_threshold=min_cell_threshold)\n",
      "    if genes_to_filter is not None:\n",
      "        for i in range(len(split[\"datalist\"])):\n",
      "            split[\"datalist\"][i] = split[\"datalist\"][i][:, [g not in genes_to_filter for g in split[\"datalist\"][i].var_names]]\n",
      "    \n",
      "    \n",
      "\n",
      "    dataset = GeneExpressionDataset()\n",
      "    if citeseqkey in cite.obsm.keys():\n",
      "        if citeseqkey is not \"protein_expression\":\n",
      "            for i in range(len(split[\"datalist\"])):\n",
      "                split[\"datalist\"][i].obsm[\"protein_expression\"] = split[\"datalist\"][i].obsm[citeseqkey]\n",
      "        dataset.populate_from_datasets([AnnDatasetFromAnnData(ad=s,cell_measurements_col_mappings={\"protein_expression\":\"protein_names\"})   for s in split[\"datalist\"] ])\n",
      "    else:\n",
      "        dataset.populate_from_datasets([AnnDatasetFromAnnData(ad=s)   for s in split[\"datalist\"] ])\n",
      "\n",
      "    if nbgenes != 0: # nbgenes == 0 is a flag for the default behavior, which is to include all the genes\n",
      "        dataset.subsample_genes(nbgenes)\n",
      "    return{\"dataset\":dataset , \"names\" : split[\"ordered\"]}\n",
      "\n",
      "\u001b[31;43;1mExecution:\u001b[0m\n",
      "[2020-12-19 18:53:58,309] INFO - scvi.dataset.anndataset | Dense size under 1Gb, casting to dense format (np.ndarray).\n",
      "[2020-12-19 18:53:59,385] INFO - scvi.dataset.dataset | Remapping batch_indices to [0,N]\n",
      "[2020-12-19 18:53:59,387] INFO - scvi.dataset.dataset | Remapping labels to [0,N]\n",
      "[2020-12-19 18:54:00,219] INFO - scvi.dataset.dataset | Computing the library size for the new data\n",
      "[2020-12-19 18:54:00,366] INFO - scvi.dataset.dataset | Downsampled from 3214 to 3214 cells\n",
      "[2020-12-19 18:54:00,405] INFO - scvi.dataset.anndataset | Dense size under 1Gb, casting to dense format (np.ndarray).\n",
      "[2020-12-19 18:54:02,409] INFO - scvi.dataset.dataset | Remapping batch_indices to [0,N]\n",
      "[2020-12-19 18:54:02,411] INFO - scvi.dataset.dataset | Remapping labels to [0,N]\n",
      "[2020-12-19 18:54:03,837] INFO - scvi.dataset.dataset | Computing the library size for the new data\n",
      "[2020-12-19 18:54:04,090] INFO - scvi.dataset.dataset | Downsampled from 5650 to 5650 cells\n",
      "[2020-12-19 18:54:04,123] INFO - scvi.dataset.anndataset | Dense size under 1Gb, casting to dense format (np.ndarray).\n",
      "[2020-12-19 18:54:05,043] INFO - scvi.dataset.dataset | Remapping batch_indices to [0,N]\n",
      "[2020-12-19 18:54:05,045] INFO - scvi.dataset.dataset | Remapping labels to [0,N]\n",
      "[2020-12-19 18:54:05,760] INFO - scvi.dataset.dataset | Computing the library size for the new data\n",
      "[2020-12-19 18:54:05,887] INFO - scvi.dataset.dataset | Downsampled from 2791 to 2791 cells\n",
      "[2020-12-19 18:54:05,927] INFO - scvi.dataset.anndataset | Dense size under 1Gb, casting to dense format (np.ndarray).\n",
      "[2020-12-19 18:54:07,652] INFO - scvi.dataset.dataset | Remapping batch_indices to [0,N]\n",
      "[2020-12-19 18:54:07,653] INFO - scvi.dataset.dataset | Remapping labels to [0,N]\n",
      "[2020-12-19 18:54:08,935] INFO - scvi.dataset.dataset | Computing the library size for the new data\n",
      "[2020-12-19 18:54:09,153] INFO - scvi.dataset.dataset | Downsampled from 4838 to 4838 cells\n",
      "[2020-12-19 18:54:09,177] INFO - scvi.dataset.anndataset | Dense size under 1Gb, casting to dense format (np.ndarray).\n",
      "[2020-12-19 18:54:09,702] INFO - scvi.dataset.dataset | Remapping batch_indices to [0,N]\n",
      "[2020-12-19 18:54:09,704] INFO - scvi.dataset.dataset | Remapping labels to [0,N]\n",
      "[2020-12-19 18:54:10,115] INFO - scvi.dataset.dataset | Computing the library size for the new data\n",
      "[2020-12-19 18:54:10,188] INFO - scvi.dataset.dataset | Downsampled from 1596 to 1596 cells\n",
      "[2020-12-19 18:54:10,226] INFO - scvi.dataset.anndataset | Dense size under 1Gb, casting to dense format (np.ndarray).\n",
      "[2020-12-19 18:54:12,494] INFO - scvi.dataset.dataset | Remapping batch_indices to [0,N]\n",
      "[2020-12-19 18:54:12,497] INFO - scvi.dataset.dataset | Remapping labels to [0,N]\n",
      "[2020-12-19 18:54:14,056] INFO - scvi.dataset.dataset | Computing the library size for the new data\n",
      "[2020-12-19 18:54:14,336] INFO - scvi.dataset.dataset | Downsampled from 6195 to 6195 cells\n",
      "[2020-12-19 18:54:14,387] INFO - scvi.dataset.anndataset | Dense size under 1Gb, casting to dense format (np.ndarray).\n",
      "[2020-12-19 18:54:16,242] INFO - scvi.dataset.dataset | Remapping batch_indices to [0,N]\n",
      "[2020-12-19 18:54:16,244] INFO - scvi.dataset.dataset | Remapping labels to [0,N]\n",
      "[2020-12-19 18:54:17,593] INFO - scvi.dataset.dataset | Computing the library size for the new data\n",
      "[2020-12-19 18:54:17,825] INFO - scvi.dataset.dataset | Downsampled from 5133 to 5133 cells\n",
      "[2020-12-19 18:54:17,841] INFO - scvi.dataset.dataset | Merging datasets. Input objects are modified in place.\n",
      "[2020-12-19 18:54:17,843] INFO - scvi.dataset.dataset | Gene names and cell measurement names are assumed to have a non-null intersection between datasets.\n",
      "[2020-12-19 18:54:17,996] INFO - scvi.dataset.dataset | Keeping 26931 genes\n",
      "[2020-12-19 18:54:18,926] INFO - scvi.dataset.dataset | Computing the library size for the new data\n",
      "[2020-12-19 18:54:19,318] INFO - scvi.dataset.dataset | Remapping batch_indices to [0,N]\n",
      "[2020-12-19 18:54:19,320] INFO - scvi.dataset.dataset | Remapping labels to [0,N]\n",
      "[2020-12-19 18:54:20,924] INFO - scvi.dataset.dataset | Computing the library size for the new data\n",
      "[2020-12-19 18:54:21,612] INFO - scvi.dataset.dataset | Remapping batch_indices to [0,N]\n",
      "[2020-12-19 18:54:21,614] INFO - scvi.dataset.dataset | Remapping labels to [0,N]\n",
      "[2020-12-19 18:54:22,430] INFO - scvi.dataset.dataset | Computing the library size for the new data\n",
      "[2020-12-19 18:54:22,759] INFO - scvi.dataset.dataset | Remapping batch_indices to [0,N]\n",
      "[2020-12-19 18:54:22,761] INFO - scvi.dataset.dataset | Remapping labels to [0,N]\n",
      "[2020-12-19 18:54:24,165] INFO - scvi.dataset.dataset | Computing the library size for the new data\n",
      "[2020-12-19 18:54:24,753] INFO - scvi.dataset.dataset | Remapping batch_indices to [0,N]\n",
      "[2020-12-19 18:54:24,755] INFO - scvi.dataset.dataset | Remapping labels to [0,N]\n",
      "[2020-12-19 18:54:25,223] INFO - scvi.dataset.dataset | Computing the library size for the new data\n",
      "[2020-12-19 18:54:25,420] INFO - scvi.dataset.dataset | Remapping batch_indices to [0,N]\n",
      "[2020-12-19 18:54:25,422] INFO - scvi.dataset.dataset | Remapping labels to [0,N]\n",
      "[2020-12-19 18:54:27,172] INFO - scvi.dataset.dataset | Computing the library size for the new data\n",
      "[2020-12-19 18:54:27,906] INFO - scvi.dataset.dataset | Remapping batch_indices to [0,N]\n",
      "[2020-12-19 18:54:27,909] INFO - scvi.dataset.dataset | Remapping labels to [0,N]\n",
      "[2020-12-19 18:54:29,406] INFO - scvi.dataset.dataset | Computing the library size for the new data\n",
      "[2020-12-19 18:54:30,021] INFO - scvi.dataset.dataset | Remapping batch_indices to [0,N]\n",
      "[2020-12-19 18:54:30,024] INFO - scvi.dataset.dataset | Remapping labels to [0,N]\n",
      "[2020-12-19 18:54:35,561] INFO - scvi.dataset.dataset | Remapping batch_indices to [0,N]\n",
      "[2020-12-19 18:54:35,563] INFO - scvi.dataset.dataset | Remapping labels to [0,N]\n"
     ]
    }
   ],
   "source": [
    "# prepare data for scvi, subset out doublets, extrude cc genes (listed in function) and populate scvi objects \n",
    "obskey_filteredcells= \"filtered_cells\"\n",
    "adata.obs[\"filtered_cells\"] = adata_trg.obs[\"filtered_cells\"] \n",
    "sp = lpy.scvi_prepare(adata, \"sample_names\", adata.obs[obskey_filteredcells] == False, nbgenes = 0, use_ccfilter_prefix=\"\", doinspect=True)"
   ]
  },
  {
   "cell_type": "code",
   "execution_count": 4,
   "metadata": {
    "scrolled": true
   },
   "outputs": [
    {
     "name": "stdout",
     "output_type": "stream",
     "text": [
      "\u001b[35;46;1mRun scvi\u001b[0m\u001b[34m\n",
      "def runSCVI(dataset, nbstep = 500, n_latent = 64, doinspect= False):\n",
      "    if doinspect is True: print(\"\\033[35;46;1mRun scvi\\033[0m\\033[34m\"); print(inspect.getsource(runSCVI));print(\"\\033[31;43;1mExecution:\\033[0m\")\n",
      "    vae = VAE(dataset.nb_genes, n_batch= dataset.n_batches, n_labels= dataset.n_labels, n_latent = n_latent)\n",
      "    trainer = UnsupervisedTrainer(vae, dataset, train_size=0.9, frequency=5, use_cuda=True)\n",
      "    trainer.train(n_epochs=nbstep)\n",
      "    full = trainer.create_posterior(trainer.model, dataset, indices=np.arange(len(dataset)))\n",
      "    return(full.sequential().get_latent()[0])\n",
      "\n",
      "\u001b[31;43;1mExecution:\u001b[0m\n",
      "[2020-12-19 18:54:54,082] INFO - scvi.inference.inference | KL warmup for 400 epochs\n"
     ]
    },
    {
     "data": {
      "application/vnd.jupyter.widget-view+json": {
       "model_id": "6b1eaebd9d484766a5957c0c11a110ed",
       "version_major": 2,
       "version_minor": 0
      },
      "text/plain": [
       "HBox(children=(FloatProgress(value=0.0, description='training', max=500.0, style=ProgressStyle(description_wid…"
      ]
     },
     "metadata": {},
     "output_type": "display_data"
    },
    {
     "name": "stdout",
     "output_type": "stream",
     "text": [
      "\n"
     ]
    }
   ],
   "source": [
    "# run scvi\n",
    "latent = lpy.runSCVI(sp[\"dataset\"], doinspect=True)"
   ]
  },
  {
   "cell_type": "code",
   "execution_count": 5,
   "metadata": {},
   "outputs": [
    {
     "name": "stdout",
     "output_type": "stream",
     "text": [
      "\u001b[35;46;1mCompute Clusters and Reduces representations\u001b[0m\u001b[34m\n",
      "def insertLatent(adata, latent , latent_key= \"latent\", umap_key= \"X_umap\", tsne_key = \"X_tsne\", leiden_key = \"leiden\", rename_cluster_key= None,cellfilter = None, cellnames =None, leiden_resolution=1.0,doinspect=False):\n",
      "    if doinspect is True: print(\"\\033[35;46;1mCompute Clusters and Reduces representations\\033[0m\\033[34m\"); print(inspect.getsource(insertLatent));print(\"\\033[31;43;1mExecution:\\033[0m\")\n",
      "\n",
      "    if cellnames is None:\n",
      "        #order of full must match\n",
      "        assert latent.shape[0] == len(adata.obs_names),  \"cell names need for be provided if size of latent mismatches adata\"\n",
      "        map = range(len(adata.obs_names))\n",
      "        if latent_key is not None:\n",
      "            adata.obsm[latent_key] = latent\n",
      "    else:\n",
      "        print(\"defining permutation\")\n",
      "        dalist = list(adata.obs_names)\n",
      "        tmap = {}\n",
      "        for i in range(len(adata.obs_names)):\n",
      "            tmap.update( {adata.obs_names[i] : i})\n",
      "# for i in range(len(adata.obs_names))}\n",
      "        map = [tmap[s] for s in cellnames]\n",
      "        if latent_key is not None:\n",
      "            print(\"Inserting Latent coords\")\n",
      "            adata.obsm[latent_key] = np.zeros( (len(adata.obs_names), latent.shape[1]) )\n",
      "            for i in range(len(map)):\n",
      "                adata.obsm[latent_key][map[i],:] = latent[i,:]\n",
      "    \n",
      "    if umap_key is not None:\n",
      "        import umap.umap_ as umap\n",
      "        print(\"computing UMAP\")\n",
      "        tumap = umap.UMAP(spread=2).fit_transform(latent)\n",
      "        adata.obsm[umap_key] = np.zeros( ( len(adata.obs_names), 2 ) )\n",
      "\n",
      "        print(\"Inserting Umap coords\")\n",
      "        for i in range(len(map)):\n",
      "            adata.obsm[umap_key][map[i],:] = tumap[i,:]\n",
      "\n",
      "    if tsne_key is not None:\n",
      "        import scanpy as sc\n",
      "        print(\"computing Tsne\")\n",
      "        adata_latent = sc.AnnData(latent)\n",
      "\n",
      "        sc.tl.tsne(adata_latent, use_rep='X', n_jobs=8)\n",
      "        adata.obsm[tsne_key] = np.zeros( ( len(adata.obs_names), 2 ) )\n",
      "\n",
      "        print(\"Inserting Tsne coords\")\n",
      "        for i in range(len(map)):\n",
      "            adata.obsm[tsne_key][map[i],:] = adata_latent.obsm[\"X_tsne\"][i,:]\n",
      "\n",
      "    if leiden_key is not None:\n",
      "        import scanpy as sc\n",
      "        adata_latent = sc.AnnData(latent)\n",
      "        print(\"Finding clusters\")\n",
      "        sc.pp.neighbors(adata_latent, use_rep='X', n_neighbors=30, metric='minkowski')\n",
      "        sc.tl.leiden(adata_latent, resolution=leiden_resolution)\n",
      "        adata.obs[leiden_key] = \"filtered\"\n",
      "        #if rename_cluster_key is not None:\n",
      "        #    print(\"Renaming to do...\")\n",
      "        #    for i\n",
      "        #else\n",
      "        #    ctnames = range(200)\n",
      "        \n",
      "        print(\"Inserting Cluster Id\")\n",
      "        for i in range(len(map)):\n",
      "            adata.obs[leiden_key][map[i]] = adata_latent.obs[\"leiden\"][i]\n",
      "    return adata\n",
      "\n",
      "\u001b[31;43;1mExecution:\u001b[0m\n",
      "defining permutation\n",
      "Inserting Latent coords\n",
      "computing UMAP\n",
      "Inserting Umap coords\n",
      "Finding clusters\n",
      "Inserting Cluster Id\n"
     ]
    }
   ],
   "source": [
    "# store latent variable back in th object, and produce UMAP coordinates and leiden clusters \n",
    "\n",
    "adata_trg = lpy.insertLatent(adata_trg,latent, \"scvi_sampl_cc\", \"X_umap_sampl_cc\", None, \"leiden_sampl_cc\", cellnames = sp[\"names\"], doinspect=True)"
   ]
  },
  {
   "cell_type": "code",
   "execution_count": 6,
   "metadata": {
    "scrolled": true
   },
   "outputs": [
    {
     "name": "stdout",
     "output_type": "stream",
     "text": [
      "\u001b[35;46;1mCompute Clusters and Reduces representations\u001b[0m\u001b[34m\n",
      "def insertLatent(adata, latent , latent_key= \"latent\", umap_key= \"X_umap\", tsne_key = \"X_tsne\", leiden_key = \"leiden\", rename_cluster_key= None,cellfilter = None, cellnames =None, leiden_resolution=1.0,doinspect=False):\n",
      "    if doinspect is True: print(\"\\033[35;46;1mCompute Clusters and Reduces representations\\033[0m\\033[34m\"); print(inspect.getsource(insertLatent));print(\"\\033[31;43;1mExecution:\\033[0m\")\n",
      "\n",
      "    if cellnames is None:\n",
      "        #order of full must match\n",
      "        assert latent.shape[0] == len(adata.obs_names),  \"cell names need for be provided if size of latent mismatches adata\"\n",
      "        map = range(len(adata.obs_names))\n",
      "        if latent_key is not None:\n",
      "            adata.obsm[latent_key] = latent\n",
      "    else:\n",
      "        print(\"defining permutation\")\n",
      "        dalist = list(adata.obs_names)\n",
      "        tmap = {}\n",
      "        for i in range(len(adata.obs_names)):\n",
      "            tmap.update( {adata.obs_names[i] : i})\n",
      "# for i in range(len(adata.obs_names))}\n",
      "        map = [tmap[s] for s in cellnames]\n",
      "        if latent_key is not None:\n",
      "            print(\"Inserting Latent coords\")\n",
      "            adata.obsm[latent_key] = np.zeros( (len(adata.obs_names), latent.shape[1]) )\n",
      "            for i in range(len(map)):\n",
      "                adata.obsm[latent_key][map[i],:] = latent[i,:]\n",
      "    \n",
      "    if umap_key is not None:\n",
      "        import umap.umap_ as umap\n",
      "        print(\"computing UMAP\")\n",
      "        tumap = umap.UMAP(spread=2).fit_transform(latent)\n",
      "        adata.obsm[umap_key] = np.zeros( ( len(adata.obs_names), 2 ) )\n",
      "\n",
      "        print(\"Inserting Umap coords\")\n",
      "        for i in range(len(map)):\n",
      "            adata.obsm[umap_key][map[i],:] = tumap[i,:]\n",
      "\n",
      "    if tsne_key is not None:\n",
      "        import scanpy as sc\n",
      "        print(\"computing Tsne\")\n",
      "        adata_latent = sc.AnnData(latent)\n",
      "\n",
      "        sc.tl.tsne(adata_latent, use_rep='X', n_jobs=8)\n",
      "        adata.obsm[tsne_key] = np.zeros( ( len(adata.obs_names), 2 ) )\n",
      "\n",
      "        print(\"Inserting Tsne coords\")\n",
      "        for i in range(len(map)):\n",
      "            adata.obsm[tsne_key][map[i],:] = adata_latent.obsm[\"X_tsne\"][i,:]\n",
      "\n",
      "    if leiden_key is not None:\n",
      "        import scanpy as sc\n",
      "        adata_latent = sc.AnnData(latent)\n",
      "        print(\"Finding clusters\")\n",
      "        sc.pp.neighbors(adata_latent, use_rep='X', n_neighbors=30, metric='minkowski')\n",
      "        sc.tl.leiden(adata_latent, resolution=leiden_resolution)\n",
      "        adata.obs[leiden_key] = \"filtered\"\n",
      "        #if rename_cluster_key is not None:\n",
      "        #    print(\"Renaming to do...\")\n",
      "        #    for i\n",
      "        #else\n",
      "        #    ctnames = range(200)\n",
      "        \n",
      "        print(\"Inserting Cluster Id\")\n",
      "        for i in range(len(map)):\n",
      "            adata.obs[leiden_key][map[i]] = adata_latent.obs[\"leiden\"][i]\n",
      "    return adata\n",
      "\n",
      "\u001b[31;43;1mExecution:\u001b[0m\n",
      "defining permutation\n",
      "Finding clusters\n",
      "Inserting Cluster Id\n"
     ]
    }
   ],
   "source": [
    "# additionnally produce leiden clusters with resolution 2\n",
    "adata_trg = lpy.insertLatent(adata_trg,latent, None, None, None, \"leidenres2_sampl_cc\", cellnames = sp[\"names\"],leiden_resolution=2, doinspect=True)"
   ]
  },
  {
   "cell_type": "code",
   "execution_count": 7,
   "metadata": {},
   "outputs": [
    {
     "name": "stderr",
     "output_type": "stream",
     "text": [
      "... storing 'leiden_sampl_cc' as categorical\n",
      "... storing 'leidenres2_sampl_cc' as categorical\n"
     ]
    },
    {
     "name": "stdout",
     "output_type": "stream",
     "text": [
      "WARNING: saving figure to file figures/rank_genes_groups_leiden_sampl_ccmarkers.pdf\n",
      "WARNING: saving figure to file figures/rank_genes_groups_leidenres2_sampl_ccmarkers.pdf\n"
     ]
    }
   ],
   "source": [
    "sc.tl.rank_genes_groups(adata_trg, 'leiden_sampl_cc', method='t-test', key_added = \"t-test\")\n",
    "sc.pl.rank_genes_groups(adata_trg, n_genes=25, sharey=False, key = \"t-test\", save= \"markers.pdf\")\n",
    "sc.tl.rank_genes_groups(adata_trg, 'leidenres2_sampl_cc', method='t-test', key_added = \"t-test\")\n",
    "sc.pl.rank_genes_groups(adata_trg, n_genes=25, sharey=False, key = \"t-test\", save= \"markers.pdf\")"
   ]
  },
  {
   "cell_type": "code",
   "execution_count": 8,
   "metadata": {},
   "outputs": [
    {
     "name": "stdout",
     "output_type": "stream",
     "text": [
      "[2020-12-19 20:27:07,726] INFO - scvi.dataset.dataset | Remapping batch_indices to [0,N]\n",
      "[2020-12-19 20:27:07,727] INFO - scvi.dataset.dataset | Remapping labels to [0,N]\n",
      "[2020-12-19 20:27:08,214] INFO - scvi.dataset.dataset | Computing the library size for the new data\n",
      "[2020-12-19 20:27:08,358] INFO - scvi.dataset.dataset | Downsampled from 9971 to 9971 cells\n",
      "[2020-12-19 20:27:08,399] INFO - scvi.dataset.anndataset | Dense size under 1Gb, casting to dense format (np.ndarray).\n",
      "[2020-12-19 20:27:10,625] INFO - scvi.dataset.dataset | Remapping batch_indices to [0,N]\n",
      "[2020-12-19 20:27:10,627] INFO - scvi.dataset.dataset | Remapping labels to [0,N]\n",
      "[2020-12-19 20:27:12,178] INFO - scvi.dataset.dataset | Computing the library size for the new data\n",
      "[2020-12-19 20:27:12,449] INFO - scvi.dataset.dataset | Downsampled from 6005 to 6005 cells\n",
      "[2020-12-19 20:27:12,484] INFO - scvi.dataset.anndataset | Dense size under 1Gb, casting to dense format (np.ndarray).\n",
      "[2020-12-19 20:27:13,006] INFO - scvi.dataset.dataset | Remapping batch_indices to [0,N]\n",
      "[2020-12-19 20:27:13,008] INFO - scvi.dataset.dataset | Remapping labels to [0,N]\n",
      "[2020-12-19 20:27:13,410] INFO - scvi.dataset.dataset | Computing the library size for the new data\n",
      "[2020-12-19 20:27:13,484] INFO - scvi.dataset.dataset | Downsampled from 1596 to 1596 cells\n",
      "[2020-12-19 20:27:13,791] INFO - scvi.dataset.dataset | Remapping batch_indices to [0,N]\n",
      "[2020-12-19 20:27:13,794] INFO - scvi.dataset.dataset | Remapping labels to [0,N]\n",
      "[2020-12-19 20:27:14,214] INFO - scvi.dataset.dataset | Computing the library size for the new data\n",
      "[2020-12-19 20:27:14,352] INFO - scvi.dataset.dataset | Downsampled from 11845 to 11845 cells\n",
      "[2020-12-19 20:27:14,356] INFO - scvi.dataset.dataset | Merging datasets. Input objects are modified in place.\n",
      "[2020-12-19 20:27:14,358] INFO - scvi.dataset.dataset | Gene names and cell measurement names are assumed to have a non-null intersection between datasets.\n",
      "[2020-12-19 20:27:14,438] INFO - scvi.dataset.dataset | Keeping 26931 genes\n",
      "[2020-12-19 20:27:14,842] INFO - scvi.dataset.dataset | Computing the library size for the new data\n",
      "[2020-12-19 20:27:14,994] INFO - scvi.dataset.dataset | Remapping batch_indices to [0,N]\n",
      "[2020-12-19 20:27:14,996] INFO - scvi.dataset.dataset | Remapping labels to [0,N]\n",
      "[2020-12-19 20:27:16,711] INFO - scvi.dataset.dataset | Computing the library size for the new data\n",
      "[2020-12-19 20:27:17,411] INFO - scvi.dataset.dataset | Remapping batch_indices to [0,N]\n",
      "[2020-12-19 20:27:17,413] INFO - scvi.dataset.dataset | Remapping labels to [0,N]\n",
      "[2020-12-19 20:27:17,878] INFO - scvi.dataset.dataset | Computing the library size for the new data\n",
      "[2020-12-19 20:27:18,075] INFO - scvi.dataset.dataset | Remapping batch_indices to [0,N]\n",
      "[2020-12-19 20:27:18,077] INFO - scvi.dataset.dataset | Remapping labels to [0,N]\n",
      "[2020-12-19 20:27:18,431] INFO - scvi.dataset.dataset | Computing the library size for the new data\n",
      "[2020-12-19 20:27:18,573] INFO - scvi.dataset.dataset | Remapping batch_indices to [0,N]\n",
      "[2020-12-19 20:27:18,576] INFO - scvi.dataset.dataset | Remapping labels to [0,N]\n",
      "[2020-12-19 20:27:23,120] INFO - scvi.dataset.dataset | Remapping batch_indices to [0,N]\n",
      "[2020-12-19 20:27:23,123] INFO - scvi.dataset.dataset | Remapping labels to [0,N]\n",
      "[2020-12-19 20:27:30,903] INFO - scvi.inference.inference | KL warmup for 400 epochs\n"
     ]
    },
    {
     "data": {
      "application/vnd.jupyter.widget-view+json": {
       "model_id": "0dc16e27fd494be18d84355548900b0b",
       "version_major": 2,
       "version_minor": 0
      },
      "text/plain": [
       "HBox(children=(FloatProgress(value=0.0, description='training', max=500.0, style=ProgressStyle(description_wid…"
      ]
     },
     "metadata": {},
     "output_type": "display_data"
    },
    {
     "name": "stdout",
     "output_type": "stream",
     "text": [
      "\n",
      "defining permutation\n",
      "Inserting Latent coords\n",
      "computing UMAP\n",
      "Inserting Umap coords\n",
      "Finding clusters\n",
      "Inserting Cluster Id\n",
      "defining permutation\n",
      "Finding clusters\n",
      "Inserting Cluster Id\n"
     ]
    }
   ],
   "source": [
    "das = lpy.scvi_prepare(adata, \"DonorID\", adata.obs[obskey_filteredcells] == False, nbgenes = 0, use_ccfilter_prefix=\"\")\n",
    "latent = lpy.runSCVI(das[\"dataset\"])\n",
    "adata_trg = lpy.insertLatent(adata_trg,latent,\"scvi_donor_cc\", \"X_umap_donor_cc\", None, \"leiden_donor_cc\", cellnames = das[\"names\"])\n",
    "adata_trg = lpy.insertLatent(adata_trg,latent, None, None, None, \"leidenres2_donor_cc\", cellnames = das[\"names\"], leiden_resolution=2)"
   ]
  },
  {
   "cell_type": "code",
   "execution_count": 9,
   "metadata": {},
   "outputs": [
    {
     "name": "stderr",
     "output_type": "stream",
     "text": [
      "... storing 'leiden_donor_cc' as categorical\n",
      "... storing 'leidenres2_donor_cc' as categorical\n"
     ]
    },
    {
     "name": "stdout",
     "output_type": "stream",
     "text": [
      "WARNING: saving figure to file figures/rank_genes_groups_leiden_donor_ccmarkers.pdf\n",
      "WARNING: saving figure to file figures/rank_genes_groups_leidenres2_donor_ccmarkers.pdf\n"
     ]
    }
   ],
   "source": [
    "sc.tl.rank_genes_groups(adata_trg, 'leiden_donor_cc', method='t-test', key_added = \"t-test\")\n",
    "sc.pl.rank_genes_groups(adata_trg, n_genes=25, sharey=False, key = \"t-test\", save= \"markers.pdf\")\n",
    "sc.tl.rank_genes_groups(adata_trg, 'leidenres2_donor_cc', method='t-test', key_added = \"t-test\")\n",
    "sc.pl.rank_genes_groups(adata_trg, n_genes=25, sharey=False, key = \"t-test\", save= \"markers.pdf\")"
   ]
  },
  {
   "cell_type": "code",
   "execution_count": 4,
   "metadata": {},
   "outputs": [
    {
     "name": "stdout",
     "output_type": "stream",
     "text": [
      "[2020-12-20 00:36:33,858] INFO - scvi.dataset.anndataset | Dense size under 1Gb, casting to dense format (np.ndarray).\n",
      "[2020-12-20 00:36:35,864] INFO - scvi.dataset.dataset | Remapping labels to [0,N]\n",
      "[2020-12-20 00:36:35,866] INFO - scvi.dataset.dataset | Remapping batch_indices to [0,N]\n",
      "[2020-12-20 00:36:37,333] INFO - scvi.dataset.dataset | Computing the library size for the new data\n",
      "[2020-12-20 00:36:37,599] INFO - scvi.dataset.dataset | Downsampled from 5538 to 5538 cells\n",
      "[2020-12-20 00:36:37,648] INFO - scvi.dataset.anndataset | Dense size under 1Gb, casting to dense format (np.ndarray).\n",
      "[2020-12-20 00:36:39,155] INFO - scvi.dataset.dataset | Remapping labels to [0,N]\n",
      "[2020-12-20 00:36:39,157] INFO - scvi.dataset.dataset | Remapping batch_indices to [0,N]\n",
      "[2020-12-20 00:36:40,322] INFO - scvi.dataset.dataset | Computing the library size for the new data\n",
      "[2020-12-20 00:36:40,540] INFO - scvi.dataset.dataset | Downsampled from 4512 to 4512 cells\n",
      "[2020-12-20 00:36:40,591] INFO - scvi.dataset.anndataset | Dense size under 1Gb, casting to dense format (np.ndarray).\n",
      "[2020-12-20 00:36:42,786] INFO - scvi.dataset.dataset | Remapping labels to [0,N]\n",
      "[2020-12-20 00:36:42,788] INFO - scvi.dataset.dataset | Remapping batch_indices to [0,N]\n",
      "[2020-12-20 00:36:44,353] INFO - scvi.dataset.dataset | Computing the library size for the new data\n",
      "[2020-12-20 00:36:44,646] INFO - scvi.dataset.dataset | Downsampled from 6072 to 6072 cells\n",
      "[2020-12-20 00:36:44,688] INFO - scvi.dataset.anndataset | Dense size under 1Gb, casting to dense format (np.ndarray).\n",
      "[2020-12-20 00:36:45,639] INFO - scvi.dataset.dataset | Remapping labels to [0,N]\n",
      "[2020-12-20 00:36:45,641] INFO - scvi.dataset.dataset | Remapping batch_indices to [0,N]\n",
      "[2020-12-20 00:36:46,396] INFO - scvi.dataset.dataset | Computing the library size for the new data\n",
      "[2020-12-20 00:36:46,536] INFO - scvi.dataset.dataset | Downsampled from 2889 to 2889 cells\n",
      "[2020-12-20 00:36:46,577] INFO - scvi.dataset.anndataset | Dense size under 1Gb, casting to dense format (np.ndarray).\n",
      "[2020-12-20 00:36:48,227] INFO - scvi.dataset.dataset | Remapping labels to [0,N]\n",
      "[2020-12-20 00:36:48,229] INFO - scvi.dataset.dataset | Remapping batch_indices to [0,N]\n",
      "[2020-12-20 00:36:49,463] INFO - scvi.dataset.dataset | Computing the library size for the new data\n",
      "[2020-12-20 00:36:49,692] INFO - scvi.dataset.dataset | Downsampled from 4767 to 4767 cells\n",
      "[2020-12-20 00:36:49,733] INFO - scvi.dataset.anndataset | Dense size under 1Gb, casting to dense format (np.ndarray).\n",
      "[2020-12-20 00:36:50,768] INFO - scvi.dataset.dataset | Remapping labels to [0,N]\n",
      "[2020-12-20 00:36:50,770] INFO - scvi.dataset.dataset | Remapping batch_indices to [0,N]\n",
      "[2020-12-20 00:36:51,593] INFO - scvi.dataset.dataset | Computing the library size for the new data\n",
      "[2020-12-20 00:36:51,746] INFO - scvi.dataset.dataset | Downsampled from 3171 to 3171 cells\n",
      "[2020-12-20 00:36:51,771] INFO - scvi.dataset.anndataset | Dense size under 1Gb, casting to dense format (np.ndarray).\n",
      "[2020-12-20 00:36:52,264] INFO - scvi.dataset.dataset | Remapping labels to [0,N]\n",
      "[2020-12-20 00:36:52,266] INFO - scvi.dataset.dataset | Remapping batch_indices to [0,N]\n",
      "[2020-12-20 00:36:52,660] INFO - scvi.dataset.dataset | Computing the library size for the new data\n",
      "[2020-12-20 00:36:52,736] INFO - scvi.dataset.dataset | Downsampled from 1549 to 1549 cells\n",
      "[2020-12-20 00:36:52,745] INFO - scvi.dataset.dataset | Merging datasets. Input objects are modified in place.\n",
      "[2020-12-20 00:36:52,746] INFO - scvi.dataset.dataset | Gene names and cell measurement names are assumed to have a non-null intersection between datasets.\n",
      "[2020-12-20 00:36:52,884] INFO - scvi.dataset.dataset | Keeping 26931 genes\n",
      "[2020-12-20 00:36:54,467] INFO - scvi.dataset.dataset | Computing the library size for the new data\n",
      "[2020-12-20 00:36:55,153] INFO - scvi.dataset.dataset | Remapping labels to [0,N]\n",
      "[2020-12-20 00:36:55,155] INFO - scvi.dataset.dataset | Remapping batch_indices to [0,N]\n",
      "[2020-12-20 00:36:56,433] INFO - scvi.dataset.dataset | Computing the library size for the new data\n",
      "[2020-12-20 00:36:57,064] INFO - scvi.dataset.dataset | Remapping labels to [0,N]\n",
      "[2020-12-20 00:36:57,066] INFO - scvi.dataset.dataset | Remapping batch_indices to [0,N]\n",
      "[2020-12-20 00:36:58,778] INFO - scvi.dataset.dataset | Computing the library size for the new data\n",
      "[2020-12-20 00:36:59,518] INFO - scvi.dataset.dataset | Remapping labels to [0,N]\n",
      "[2020-12-20 00:36:59,520] INFO - scvi.dataset.dataset | Remapping batch_indices to [0,N]\n",
      "[2020-12-20 00:37:00,351] INFO - scvi.dataset.dataset | Computing the library size for the new data\n",
      "[2020-12-20 00:37:00,702] INFO - scvi.dataset.dataset | Remapping labels to [0,N]\n",
      "[2020-12-20 00:37:00,704] INFO - scvi.dataset.dataset | Remapping batch_indices to [0,N]\n",
      "[2020-12-20 00:37:02,057] INFO - scvi.dataset.dataset | Computing the library size for the new data\n",
      "[2020-12-20 00:37:02,633] INFO - scvi.dataset.dataset | Remapping labels to [0,N]\n",
      "[2020-12-20 00:37:02,635] INFO - scvi.dataset.dataset | Remapping batch_indices to [0,N]\n",
      "[2020-12-20 00:37:03,545] INFO - scvi.dataset.dataset | Computing the library size for the new data\n",
      "[2020-12-20 00:37:03,936] INFO - scvi.dataset.dataset | Remapping labels to [0,N]\n",
      "[2020-12-20 00:37:03,938] INFO - scvi.dataset.dataset | Remapping batch_indices to [0,N]\n",
      "[2020-12-20 00:37:04,386] INFO - scvi.dataset.dataset | Computing the library size for the new data\n",
      "[2020-12-20 00:37:04,577] INFO - scvi.dataset.dataset | Remapping labels to [0,N]\n",
      "[2020-12-20 00:37:04,578] INFO - scvi.dataset.dataset | Remapping batch_indices to [0,N]\n",
      "[2020-12-20 00:37:10,180] INFO - scvi.dataset.dataset | Remapping labels to [0,N]\n",
      "[2020-12-20 00:37:10,183] INFO - scvi.dataset.dataset | Remapping batch_indices to [0,N]\n",
      "[2020-12-20 00:37:26,419] INFO - scvi.inference.inference | KL warmup for 400 epochs\n"
     ]
    },
    {
     "data": {
      "application/vnd.jupyter.widget-view+json": {
       "model_id": "db6c978923b240239f2c8bae37afd955",
       "version_major": 2,
       "version_minor": 0
      },
      "text/plain": [
       "HBox(children=(FloatProgress(value=0.0, description='training', max=500.0, style=ProgressStyle(description_wid…"
      ]
     },
     "metadata": {},
     "output_type": "display_data"
    },
    {
     "name": "stdout",
     "output_type": "stream",
     "text": [
      "\n",
      "defining permutation\n",
      "Inserting Latent coords\n",
      "computing UMAP\n",
      "Inserting Umap coords\n",
      "Finding clusters\n",
      "Inserting Cluster Id\n",
      "defining permutation\n",
      "Finding clusters\n",
      "Inserting Cluster Id\n"
     ]
    }
   ],
   "source": [
    "obskey_filteredcells= \"filtered_cells\"\n",
    "das = lpy.scvi_prepare(adata, \"sample_names\", (adata.obs[obskey_filteredcells] == False)&(adata.obs[\"n_genes\"] < 6000), nbgenes = 0, use_ccfilter_prefix=\"\")\n",
    "latent = lpy.runSCVI(das[\"dataset\"])\n",
    "adata_trg = lpy.insertLatent(adata_trg,latent,\"scvi_sampl6kg_cc\", \"X_umap_sampl6kg_cc\", None, \"leiden_sampl6kg_cc\", cellnames = das[\"names\"])\n",
    "adata_trg = lpy.insertLatent(adata_trg,latent, None, None, None, \"leidenres2_sampl6kg_cc\", cellnames = das[\"names\"], leiden_resolution=2)"
   ]
  },
  {
   "cell_type": "code",
   "execution_count": 5,
   "metadata": {},
   "outputs": [
    {
     "name": "stderr",
     "output_type": "stream",
     "text": [
      "... storing 'leiden_sampl6kg_cc' as categorical\n",
      "... storing 'leidenres2_sampl6kg_cc' as categorical\n"
     ]
    },
    {
     "name": "stdout",
     "output_type": "stream",
     "text": [
      "WARNING: saving figure to file figures/rank_genes_groups_leiden_sampl6kg_ccmarkers.pdf\n",
      "WARNING: saving figure to file figures/rank_genes_groups_leidenres2_sampl6kg_ccmarkers.pdf\n"
     ]
    }
   ],
   "source": [
    "sc.tl.rank_genes_groups(adata_trg, 'leiden_sampl6kg_cc', method='t-test', key_added = \"t-test\")\n",
    "sc.pl.rank_genes_groups(adata_trg, n_genes=25, sharey=False, key = \"t-test\", save= \"markers.pdf\")\n",
    "sc.tl.rank_genes_groups(adata_trg, 'leidenres2_sampl6kg_cc', method='t-test', key_added = \"t-test\")\n",
    "sc.pl.rank_genes_groups(adata_trg, n_genes=25, sharey=False, key = \"t-test\", save= \"markers.pdf\")"
   ]
  },
  {
   "cell_type": "code",
   "execution_count": 6,
   "metadata": {},
   "outputs": [
    {
     "name": "stdout",
     "output_type": "stream",
     "text": [
      "[2020-12-20 01:15:25,157] INFO - scvi.dataset.anndataset | Dense size under 1Gb, casting to dense format (np.ndarray).\n",
      "[2020-12-20 01:15:29,013] INFO - scvi.dataset.dataset | Remapping labels to [0,N]\n",
      "[2020-12-20 01:15:29,016] INFO - scvi.dataset.dataset | Remapping batch_indices to [0,N]\n",
      "[2020-12-20 01:15:31,423] INFO - scvi.dataset.dataset | Computing the library size for the new data\n",
      "[2020-12-20 01:15:31,864] INFO - scvi.dataset.dataset | Downsampled from 9279 to 9279 cells\n",
      "[2020-12-20 01:15:32,182] INFO - scvi.dataset.dataset | Remapping labels to [0,N]\n",
      "[2020-12-20 01:15:32,184] INFO - scvi.dataset.dataset | Remapping batch_indices to [0,N]\n",
      "[2020-12-20 01:15:32,563] INFO - scvi.dataset.dataset | Computing the library size for the new data\n",
      "[2020-12-20 01:15:32,692] INFO - scvi.dataset.dataset | Downsampled from 11610 to 11610 cells\n",
      "[2020-12-20 01:15:32,731] INFO - scvi.dataset.anndataset | Dense size under 1Gb, casting to dense format (np.ndarray).\n",
      "[2020-12-20 01:15:34,925] INFO - scvi.dataset.dataset | Remapping labels to [0,N]\n",
      "[2020-12-20 01:15:34,927] INFO - scvi.dataset.dataset | Remapping batch_indices to [0,N]\n",
      "[2020-12-20 01:15:36,500] INFO - scvi.dataset.dataset | Computing the library size for the new data\n",
      "[2020-12-20 01:15:36,791] INFO - scvi.dataset.dataset | Downsampled from 6060 to 6060 cells\n",
      "[2020-12-20 01:15:36,822] INFO - scvi.dataset.anndataset | Dense size under 1Gb, casting to dense format (np.ndarray).\n",
      "[2020-12-20 01:15:37,312] INFO - scvi.dataset.dataset | Remapping labels to [0,N]\n",
      "[2020-12-20 01:15:37,314] INFO - scvi.dataset.dataset | Remapping batch_indices to [0,N]\n",
      "[2020-12-20 01:15:37,713] INFO - scvi.dataset.dataset | Computing the library size for the new data\n",
      "[2020-12-20 01:15:37,787] INFO - scvi.dataset.dataset | Downsampled from 1549 to 1549 cells\n",
      "[2020-12-20 01:15:37,795] INFO - scvi.dataset.dataset | Merging datasets. Input objects are modified in place.\n",
      "[2020-12-20 01:15:37,797] INFO - scvi.dataset.dataset | Gene names and cell measurement names are assumed to have a non-null intersection between datasets.\n",
      "[2020-12-20 01:15:37,874] INFO - scvi.dataset.dataset | Keeping 26931 genes\n",
      "[2020-12-20 01:15:40,505] INFO - scvi.dataset.dataset | Computing the library size for the new data\n",
      "[2020-12-20 01:15:41,655] INFO - scvi.dataset.dataset | Remapping labels to [0,N]\n",
      "[2020-12-20 01:15:41,658] INFO - scvi.dataset.dataset | Remapping batch_indices to [0,N]\n",
      "[2020-12-20 01:15:41,984] INFO - scvi.dataset.dataset | Computing the library size for the new data\n",
      "[2020-12-20 01:15:42,120] INFO - scvi.dataset.dataset | Remapping labels to [0,N]\n",
      "[2020-12-20 01:15:42,122] INFO - scvi.dataset.dataset | Remapping batch_indices to [0,N]\n",
      "[2020-12-20 01:15:43,868] INFO - scvi.dataset.dataset | Computing the library size for the new data\n",
      "[2020-12-20 01:15:44,611] INFO - scvi.dataset.dataset | Remapping labels to [0,N]\n",
      "[2020-12-20 01:15:44,614] INFO - scvi.dataset.dataset | Remapping batch_indices to [0,N]\n",
      "[2020-12-20 01:15:45,064] INFO - scvi.dataset.dataset | Computing the library size for the new data\n",
      "[2020-12-20 01:15:45,254] INFO - scvi.dataset.dataset | Remapping labels to [0,N]\n",
      "[2020-12-20 01:15:45,256] INFO - scvi.dataset.dataset | Remapping batch_indices to [0,N]\n",
      "[2020-12-20 01:15:52,910] INFO - scvi.dataset.dataset | Remapping labels to [0,N]\n",
      "[2020-12-20 01:15:52,913] INFO - scvi.dataset.dataset | Remapping batch_indices to [0,N]\n",
      "[2020-12-20 01:15:56,041] INFO - scvi.inference.inference | KL warmup for 400 epochs\n"
     ]
    },
    {
     "data": {
      "application/vnd.jupyter.widget-view+json": {
       "model_id": "e0fcaccf2bb540c98502cd691c5d3217",
       "version_major": 2,
       "version_minor": 0
      },
      "text/plain": [
       "HBox(children=(FloatProgress(value=0.0, description='training', max=500.0, style=ProgressStyle(description_wid…"
      ]
     },
     "metadata": {},
     "output_type": "display_data"
    },
    {
     "name": "stdout",
     "output_type": "stream",
     "text": [
      "\n",
      "defining permutation\n",
      "Inserting Latent coords\n",
      "computing UMAP\n",
      "Inserting Umap coords\n",
      "Finding clusters\n",
      "Inserting Cluster Id\n",
      "defining permutation\n",
      "Finding clusters\n",
      "Inserting Cluster Id\n"
     ]
    }
   ],
   "source": [
    "das = lpy.scvi_prepare(adata, \"DonorID\", (adata.obs[obskey_filteredcells] == False)&(adata.obs[\"n_genes\"] < 6000), nbgenes = 0, use_ccfilter_prefix=\"\")\n",
    "latent = lpy.runSCVI(das[\"dataset\"])\n",
    "adata_trg = lpy.insertLatent(adata_trg,latent,\"scvi_donor6kg_cc\", \"X_umap_donor6kg_cc\", None, \"leiden_donor6kg_cc\", cellnames = das[\"names\"])\n",
    "adata_trg = lpy.insertLatent(adata_trg,latent, None, None, None, \"leidenres2_donor6kg_cc\", cellnames = das[\"names\"], leiden_resolution=2)"
   ]
  },
  {
   "cell_type": "code",
   "execution_count": 7,
   "metadata": {},
   "outputs": [
    {
     "name": "stderr",
     "output_type": "stream",
     "text": [
      "... storing 'leiden_donor6kg_cc' as categorical\n",
      "... storing 'leidenres2_donor6kg_cc' as categorical\n"
     ]
    },
    {
     "name": "stdout",
     "output_type": "stream",
     "text": [
      "WARNING: saving figure to file figures/rank_genes_groups_leiden_donor6kg_ccmarkers.pdf\n",
      "WARNING: saving figure to file figures/rank_genes_groups_leidenres2_donor6kg_ccmarkers.pdf\n"
     ]
    }
   ],
   "source": [
    "sc.tl.rank_genes_groups(adata_trg, 'leiden_donor6kg_cc', method='t-test', key_added = \"t-test\")\n",
    "sc.pl.rank_genes_groups(adata_trg, n_genes=25, sharey=False, key = \"t-test\", save= \"markers.pdf\")\n",
    "sc.tl.rank_genes_groups(adata_trg, 'leidenres2_donor6kg_cc', method='t-test', key_added = \"t-test\")\n",
    "sc.pl.rank_genes_groups(adata_trg, n_genes=25, sharey=False, key = \"t-test\", save= \"markers.pdf\")"
   ]
  },
  {
   "cell_type": "code",
   "execution_count": 8,
   "metadata": {},
   "outputs": [],
   "source": [
    "# save object\n",
    "adata_trg.write_h5ad(\"N2-nuclei.h5ad\")"
   ]
  },
  {
   "cell_type": "code",
   "execution_count": null,
   "metadata": {},
   "outputs": [],
   "source": []
  }
 ],
 "metadata": {
  "kernelspec": {
   "display_name": "Python 3",
   "language": "python",
   "name": "python3"
  },
  "language_info": {
   "codemirror_mode": {
    "name": "ipython",
    "version": 3
   },
   "file_extension": ".py",
   "mimetype": "text/x-python",
   "name": "python",
   "nbconvert_exporter": "python",
   "pygments_lexer": "ipython3",
   "version": "3.7.6"
  }
 },
 "nbformat": 4,
 "nbformat_minor": 4
}

{
 "cells": [
  {
   "cell_type": "code",
   "execution_count": 1,
   "metadata": {},
   "outputs": [
    {
     "name": "stderr",
     "output_type": "stream",
     "text": [
      "/opt/conda/lib/python3.7/site-packages/scvi/__init__.py:31: DeprecationWarning: scvi is deprecated, please uninstall scvi via `pip uninstall scvi` and install the new scvi-tools package at github.com/YosefLab/scvi-tools\n",
      "  warnings.warn(deprecation_msg, DeprecationWarning)\n"
     ]
    },
    {
     "name": "stdout",
     "output_type": "stream",
     "text": [
      "scanpy==1.6.0 anndata==0.7.5 umap==0.3.10 numpy==1.18.1 scipy==1.5.4 pandas==1.0.1 scikit-learn==0.22.2 statsmodels==0.11.1 python-igraph==0.8.0 louvain==0.6.1 leidenalg==0.8.3\n"
     ]
    }
   ],
   "source": [
    "# Integration of biopsies and organ donors from 2 studies\n",
    "import anndata, numpy as np, pandas as pd, imp, lpy, scanpy as sc\n",
    "sc.logging.print_header()\n",
    "%load_ext rpy2.ipython\n",
    "%matplotlib inline"
   ]
  },
  {
   "cell_type": "code",
   "execution_count": 2,
   "metadata": {},
   "outputs": [],
   "source": [
    "adata = anndata.read_h5ad(\"N3-nuclei.h5ad\")"
   ]
  },
  {
   "cell_type": "code",
   "execution_count": 3,
   "metadata": {},
   "outputs": [],
   "source": [
    "#Remove temporary annotation for cellxgene hosting\n",
    "adata.obsm[\"X_umap\"] = adata.obsm[\"X_umap_sampl6kg_cc\"]\n",
    "\n",
    "obs_toremove = ['n_counts', 'batch', 'Location', 'Stage', 'Day', 'Women Age', '10x Kit',\n",
    "       'Treatment', 'Batch', 'Hormones', 'Inhibitor', 'IsClonal',\n",
    "       'scrublet_pred', 'scrublet_local_pred', 'scrublet_score',\n",
    "       'scrublet_cluster_score', 'filtered_cells',\n",
    "       'cosine_proj_fine_celltypes', 'cosine_proj_fine_celltypes_distance',\n",
    "       'cosine_logXformedproj_fine_celltypes',\n",
    "       'cosine_logXformedproj_fine_celltypes_distance',\n",
    "       'logist_proj_fine_celltypes_0.01',\n",
    "       'logist_proj_fine_celltypes_probability_0.01',\n",
    "       'cosine_proj_broad_celltypes', 'cosine_proj_broad_celltypes_distance',\n",
    "       'cosine_logXformedproj_broad_celltypes',\n",
    "       'cosine_logXformedproj_broad_celltypes_distance',\n",
    "       'logist_proj_broad_celltypes_0.01',\n",
    "       'logist_proj_broad_celltypes_probability_0.01', 'leiden_sampl6kg_cc',\n",
    "       'leidenres2_sampl6kg_cc', 'leiden_donor6kg_cc',\n",
    "       'leidenres2_donor6kg_cc',\n",
    "       'cosine_proj_general_celltypes',\n",
    "       'cosine_proj_general_celltypes_distance',\n",
    "       'cosine_logXformedproj_general_celltypes',\n",
    "       'cosine_logXformedproj_general_celltypes_distance',\n",
    "       'logist_proj_general_celltypes_0.01',\n",
    "       'logist_proj_general_celltypes_probability_0.01']\n",
    "\n",
    "\n",
    "obsm_toremove = ['X_cosproj_broad_celltypes',\n",
    " 'X_cosproj_fine_celltypes',\n",
    " 'X_cosproj_general_celltypes',\n",
    " 'X_logistproj_broad_celltypes_0.01',\n",
    " 'X_logistproj_fine_celltypes_0.01',\n",
    " 'X_logistproj_general_celltypes_0.01',\n",
    " 'X_lxfcosproj_broad_celltypes',\n",
    " 'X_lxfcosproj_fine_celltypes',\n",
    " 'X_lxfcosproj_general_celltypes',\n",
    " 'X_umap_donor6kg_cc',\n",
    " 'X_umap_sampl6kg_cc',\n",
    " 'cosproj_general_celltypes',\n",
    " 'general_celltypes_logist_0.01',\n",
    " 'lxfcosproj_general_celltypes',\n",
    " 'scvi_donor6kg_cc',\n",
    " 'scvi_sampl6kg_cc',\n",
    " 'umap']\n",
    "\n",
    "uns_toremove = ['cosine_logXformedproj_broad_celltypes_colors',\n",
    " 'cosine_logXformedproj_fine_celltypes_colors',\n",
    " 'cosine_logXformedproj_general_celltypes_colors',\n",
    " 'cosine_proj_broad_celltypes_colors',\n",
    " 'cosine_proj_fine_celltypes_colors',\n",
    " 'cosine_proj_general_celltypes_colors',\n",
    " 'logist_proj_broad_celltypes_colors',\n",
    " 'logist_proj_fine_celltypes_colors',\n",
    " 'logist_proj_general_celltypes_colors',\n",
    " 'sample_names_colors',\n",
    " 't-test']\n",
    "\n",
    "for x in obs_toremove:\n",
    "    del adata.obs[x]\n",
    "for x in obsm_toremove:\n",
    "    del adata.obsm[x]\n",
    "for x in uns_toremove:\n",
    "    del adata.uns[x]"
   ]
  },
  {
   "cell_type": "code",
   "execution_count": 4,
   "metadata": {},
   "outputs": [],
   "source": [
    "adata_main = adata[ [x not in [\"filtered\"] for x in adata.obs[\"general_celltypes\"] ] ]\n",
    "adata_main.write_h5ad(\"Integrated_nuclei.h5ad\")"
   ]
  },
  {
   "cell_type": "code",
   "execution_count": null,
   "metadata": {},
   "outputs": [],
   "source": []
  }
 ],
 "metadata": {
  "kernelspec": {
   "display_name": "Python 3",
   "language": "python",
   "name": "python3"
  },
  "language_info": {
   "codemirror_mode": {
    "name": "ipython",
    "version": 3
   },
   "file_extension": ".py",
   "mimetype": "text/x-python",
   "name": "python",
   "nbconvert_exporter": "python",
   "pygments_lexer": "ipython3",
   "version": "3.7.6"
  }
 },
 "nbformat": 4,
 "nbformat_minor": 4
}

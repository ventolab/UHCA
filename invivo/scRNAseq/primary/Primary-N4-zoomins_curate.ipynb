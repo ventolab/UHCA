{
 "cells": [
  {
   "cell_type": "code",
   "execution_count": 1,
   "metadata": {},
   "outputs": [
    {
     "name": "stderr",
     "output_type": "stream",
     "text": [
      "/opt/conda/lib/python3.7/site-packages/scvi/__init__.py:31: DeprecationWarning: scvi is deprecated, please uninstall scvi via `pip uninstall scvi` and install the new scvi-tools package at github.com/YosefLab/scvi-tools\n",
      "  warnings.warn(deprecation_msg, DeprecationWarning)\n"
     ]
    },
    {
     "name": "stdout",
     "output_type": "stream",
     "text": [
      "scanpy==1.6.0 anndata==0.7.5 umap==0.3.10 numpy==1.18.1 scipy==1.4.1 pandas==1.0.1 scikit-learn==0.22.2 statsmodels==0.11.1 python-igraph==0.8.0 louvain==0.6.1 leidenalg==0.7.0\n"
     ]
    }
   ],
   "source": [
    "# Integration of biopsies and organ donors from 2 studies\n",
    "import anndata, numpy as np, pandas as pd, imp, lpy, scanpy as sc\n",
    "sc.logging.print_header()"
   ]
  },
  {
   "cell_type": "code",
   "execution_count": 2,
   "metadata": {},
   "outputs": [],
   "source": [
    "adata = anndata.read_h5ad(\"N3-integrated_donors.h5ad\")"
   ]
  },
  {
   "cell_type": "code",
   "execution_count": 3,
   "metadata": {},
   "outputs": [
    {
     "name": "stdout",
     "output_type": "stream",
     "text": [
      "\u001b[35;46;1mRename classes in list\u001b[0m\u001b[34m\n",
      "def applyFactorRename(input, dico, doinspect = False):\n",
      "    if doinspect is True: print(\"\\033[35;46;1mRename classes in list\\033[0m\\033[34m\"); print(inspect.getsource(applyFactorRename));\n",
      "    import numpy as np\n",
      "    tmp = np.array(input, dtype=object)\n",
      "    out = tmp.copy()\n",
      "    for k,x in dico.items():\n",
      "        if isinstance(k, tuple):\n",
      "            for l in k:\n",
      "                out[tmp == l] = x\n",
      "        else:\n",
      "            out[tmp == k] = x\n",
      "    leftover_categories = set(out)\n",
      "    leftover_categories = leftover_categories.difference(set(dico.values()))\n",
      "    categories = list(dico.values())\n",
      "    categories = categories + list(leftover_categories)\n",
      "    return(pd.Categorical(out, categories, ordered=True))\n",
      "\n"
     ]
    },
    {
     "data": {
      "text/plain": [
       "Fibroblast dS         24436\n",
       "filtered              20503\n",
       "Lumenal               14252\n",
       "Glandular             13100\n",
       "Fibroblast eS         12675\n",
       "uSMC                   7746\n",
       "Endothelial ACKR1      7188\n",
       "SOX9                   3646\n",
       "PV MYH11               3414\n",
       "PV STEAP4              3345\n",
       "Ciliated               3189\n",
       "Other                  2923\n",
       "Lymphoid               2311\n",
       "Fibroblast C7           932\n",
       "Myeloid                 761\n",
       "Endothelial SEMA3G      389\n",
       "Name: general_celltypes, dtype: int64"
      ]
     },
     "execution_count": 3,
     "metadata": {},
     "output_type": "execute_result"
    }
   ],
   "source": [
    "# make general celltype annotation, which imports 1 cluster form endothelial zoom-in\n",
    "general = np.array(adata.obs[\"leiden_scvi_sampl_cc\"])\n",
    "general[adata.obs[\"leiden_endothelial_raw\"] == \"11\"] = \"24\"\n",
    "adata.obs[\"general_celltypes\"] =  lpy.applyFactorRename(general,{\n",
    "    \"7\" : \"SOX9\",\n",
    "    tuple([\"21\",\"2\", \"13\"]) : \"Lumenal\",\n",
    "    \"1\" : \"Glandular\",\n",
    "    \"10\" : \"Ciliated\",\n",
    "    \"11\" : \"Lymphoid\",\n",
    "    \"18\" : \"Myeloid\",\n",
    "    \"4\" : \"Endothelial ACKR1\",\n",
    "    \"24\" : \"Endothelial SEMA3G\",\n",
    "    \"8\" : \"PV MYH11\",\n",
    "    \"9\" : \"PV STEAP4\",\n",
    "    \"3\" : \"uSMC\",\n",
    "    \"17\" : \"Fibroblast C7\",\n",
    "    tuple([\"5\",\"6\", \"19\"]) : \"Fibroblast eS\",\n",
    "    tuple([\"0\",\"14\", \"12\"]) : \"Fibroblast dS\",\n",
    "    tuple([\"22\",\"23\",\"20\",\"15\",\"16\"]) : \"Other\"\n",
    "    }, doinspect=True)\n",
    "adata.obs[\"general_celltypes\"].value_counts()"
   ]
  },
  {
   "cell_type": "code",
   "execution_count": 4,
   "metadata": {},
   "outputs": [
    {
     "data": {
      "text/plain": [
       "filtered               117738\n",
       "doublets                 1222\n",
       "uNK2                      316\n",
       "uM1                       298\n",
       "Tcells CD8                219\n",
       "uNK3                      200\n",
       "DCs                       166\n",
       "uM2                       133\n",
       "uNK1                      122\n",
       "Cycling lymphocytes       121\n",
       "Tcells CD4                102\n",
       "ILC3                       81\n",
       "B cells                    46\n",
       "Peripheral                 34\n",
       "Mast cells                 12\n",
       "Name: subcluster_immune, dtype: int64"
      ]
     },
     "execution_count": 4,
     "metadata": {},
     "output_type": "execute_result"
    }
   ],
   "source": [
    "adata.obs[\"subcluster_immune\"] =  lpy.applyFactorRename(adata.obs[\"leidenres3_immune_raw\"],{\n",
    "    \"6\" : \"DCs\",\n",
    "    tuple([\"5\", \"19\", \"21\"]): \"uM1\",\n",
    "    \"8\": \"uM2\",\n",
    "    \"23\" : \"B cells\",\n",
    "    tuple([\"4\", \"25\"]) : \"Tcells CD8\",\n",
    "    \"12\" : \"Tcells CD4\",\n",
    "    tuple([\"18\",\"24\"]) : \"Cycling lymphocytes\",\n",
    "    \"16\" : \"ILC3\",\n",
    "    \"10\" : \"uNK1\",\n",
    "    tuple([\"1\",\"14\",\"27\"]) : \"uNK2\",\n",
    "    \"2\" : \"uNK3\",\n",
    "    \"26\" : \"Peripheral\",\n",
    "    \"28\" : \"Mast cells\",\n",
    "    tuple([\"0\",\"3\", \"15\", \"7\", \"22\", \"9\", \"17\", \"20\", \"11\", \"13\"]): \"doublets\"\n",
    "    })\n",
    "adata.obs[\"subcluster_immune\"].value_counts()"
   ]
  },
  {
   "cell_type": "code",
   "execution_count": 5,
   "metadata": {},
   "outputs": [
    {
     "data": {
      "text/plain": [
       "filtered               86624\n",
       "Lumenal 1               8283\n",
       "Glandular               6157\n",
       "Glandular_secretory     6095\n",
       "doublets                3568\n",
       "SOX9                    3223\n",
       "SOX9_LGR5               1977\n",
       "ciliated                1871\n",
       "Lumenal 2               1100\n",
       "ciliated LRG5           1078\n",
       "SOX9_prolif              834\n",
       "Name: subcluster_epithelial, dtype: int64"
      ]
     },
     "execution_count": 5,
     "metadata": {},
     "output_type": "execute_result"
    }
   ],
   "source": [
    "adata.obs[\"subcluster_epithelial\"]= lpy.applyFactorRename(adata.obs[\"leidenres2_epithelial_raw\"],{\n",
    "    tuple([\"2\", \"15\"]) : \"SOX9\",\n",
    "    tuple([\"21\"]) : \"SOX9_prolif\",\n",
    "    tuple([\"11\", \"23\"]) : \"SOX9_LGR5\",\n",
    "    tuple([\"4\", \"3\", \"18\", \"25\", \"7\", \"8\"]): \"Lumenal 1\",\n",
    "    \"16\": \"Lumenal 2\",\n",
    "    tuple([\"0\", \"5\", \"14\", \"20\"]): \"Glandular\",\n",
    "    tuple([\"1\", \"12\", \"13\", \"19\", \"24\"]) : \"Glandular_secretory\",\n",
    "    tuple([\"6\", \"27\"]) : \"ciliated\",\n",
    "    \"17\" : \"ciliated LRG5\",\n",
    "    tuple([\"22\", \"9\", \"10\", \"26\", \"28\"]): \"doublets\"\n",
    "})\n",
    "adata.obs[\"subcluster_epithelial\"].value_counts()"
   ]
  },
  {
   "cell_type": "code",
   "execution_count": 6,
   "metadata": {},
   "outputs": [
    {
     "data": {
      "text/plain": [
       "filtered               108944\n",
       "Glandular_secretory      2856\n",
       "SOX9                     2806\n",
       "Lumenal 1                1376\n",
       "SOX9_LGR5                1150\n",
       "Glandular                1101\n",
       "SOX9_prolif               883\n",
       "ciliated                  811\n",
       "doublets                  428\n",
       "Lumenal 2                 273\n",
       "ciliated LRG5             182\n",
       "Name: subcluster_epithelial_balanced, dtype: int64"
      ]
     },
     "execution_count": 6,
     "metadata": {},
     "output_type": "execute_result"
    }
   ],
   "source": [
    "adata.obs[\"subcluster_epithelial_balanced\"]= lpy.applyFactorRename(adata.obs[\"leidenres2_epithelial_subsample_raw\"],{\n",
    "    tuple([\"21\", \"4\", \"8\" , \"17\", \"14\",\"6\"]) : \"SOX9\",\n",
    "    tuple([\"20\",\"7\"]) : \"SOX9_prolif\",\n",
    "    tuple([\"5\", \"9\"]) : \"SOX9_LGR5\",\n",
    "    tuple([\"0\", \"22\", \"24\"]): \"Lumenal 1\",\n",
    "    \"19\": \"Lumenal 2\",\n",
    "    tuple([\"16\", \"3\"]): \"Glandular\",\n",
    "    tuple([\"15\", \"1\", \"11\", \"10\"]) : \"Glandular_secretory\",\n",
    "    \"25\" : \"Pre-ciliated\",\n",
    "    \"2\" : \"Ciliated\",\n",
    "    \"23\" : \"Ciliated LRG5\",\n",
    "    tuple([\"18\", \"12\"]) : \"Low QC\",\n",
    "    \"13\": \"doublets\"\n",
    "})\n",
    "adata.uns[\"subcluster_epithelial_balanced_colors\"] = ['#974815', '#F08129', '#EAB896', '#F7C900', '#C69E57', '#E53215', '#9C1915', '#1B3E92', '#429FD9', '#675DA6', '#AAAAAA', '#8888FF', '#888888']\n",
    "adata.obs[\"subcluster_epithelial_balanced\"].value_counts()"
   ]
  },
  {
   "cell_type": "code",
   "execution_count": 7,
   "metadata": {},
   "outputs": [
    {
     "data": {
      "text/plain": [
       "filtered    105079\n",
       "eS            6212\n",
       "Low Qc        4200\n",
       "dS            4199\n",
       "doublets       698\n",
       "Cycling        422\n",
       "Name: subcluster_stromal_balanced, dtype: int64"
      ]
     },
     "execution_count": 7,
     "metadata": {},
     "output_type": "execute_result"
    }
   ],
   "source": [
    "adata.obs[\"subcluster_stromal_balanced\"]= lpy.applyFactorRename(adata.obs[\"leiden_stromal_subsample_raw\"],{\n",
    "    tuple([\"2\", \"3\", \"5\", \"6\", \"13\", \"4\"]): \"dS\",\n",
    "    tuple([\"0\", \"8\"]): \"eS\",\n",
    "    tuple([\"12\"]) : \"Cycling\", # \"28\" : \"G2M phase\", \"23\" : \"S phase\",   \n",
    "    tuple([\"1\",\"7\",\"9\",\"11\"]): \"Low Qc\",\n",
    "    tuple([\"10\"]): \"doublets\"\n",
    "})\n",
    "adata.obs[\"subcluster_stromal_balanced\"].value_counts()"
   ]
  },
  {
   "cell_type": "code",
   "execution_count": 8,
   "metadata": {},
   "outputs": [],
   "source": [
    "adata.obs[\"subcluster_epithelial_balanced_broad\"] =  lpy.applyFactorRename(adata.obs[\"subcluster_epithelial_balanced\"],{\n",
    "    tuple([\"SOX9\", \"SOX9_prolif\", \"SOX9_LGR5\"]) :\"SOX9\" ,\n",
    "    tuple([\"Lumenal 1\", \"Lumenal 2\"]) :\"Lumenal\" ,\n",
    "    tuple([\"Glandular\", \"Glandular_secretory\"]) :\"Glandular\" ,\n",
    "    tuple([\"ciliated\", \"ciliated LRG5\"]) :\"Ciliated\" ,\n",
    "    tuple([\"Low QC\", \"doublets\", \"filtered\"]) :\"filtered\"})\n",
    "adata.uns[\"subcluster_epithelial_balanced_broad_colors\"] = ['#974815', '#F7C900', '#E53215', '#429FD9', '#888888']"
   ]
  },
  {
   "cell_type": "code",
   "execution_count": 9,
   "metadata": {},
   "outputs": [],
   "source": [
    "#set color for clusters\n",
    "adata.uns[\"broad_celltypes_colors\"] = ['#F08129', '#48B750', '#499ABA', '#999977', '#958054', '#7979CC', '#888888']\n",
    "adata.uns[\"SampleID_colors\"] = ['#800000', '#a70000', '#e70000', '#a76060', '#e28080', '#4a4a00', '#404030', '#848400', '#707040', '#a5a500', '#909060', '#005917', '#009f29', '#00c734', '#004a75', '#0084d2', '#12a7ff', '#410068', '#7a00c1', '#bb48ff', '#cd79ff']\n",
    "adata.uns[\"Location_colors\"] = ['#1f77b4', '#ff7f0e', '#2ca02c', '#d62728', '#9467bd']\n",
    "#adata.uns[\"Binary Stage_colors\"] = ['#008800', '#AA4400']\n",
    "adata.uns[\"BiopsyType_colors\"] = ['#AA0000', '#0000FF', ]\n",
    "adata.uns[\"Location_colors\"] = ['#0000FF', '#AA0088', '#888800']\n",
    "adata.uns[\"phase_colors\"] = ['#6E40AA', '#FF8C38', '#28EA8D']\n",
    "adata.uns[\"subcluster_stromal_balanced_colors\"] = ['#D6C2A7', '#A58A62', '#758A00', '#AAAAAA', '#8888FF', '#888888']\n",
    "\n",
    "adata.uns[\"general_celltypes_colors\"] = ['#F08129', '#F7C900', '#9C1915', '#429FD9', '#8B4F9A', '#499ABA', '#48B750', '#274E13', '#7C7C7C', '#C4C4C2', '#A7A7CE', '#776747', '#A58A62', '#D6C2A7', '#FFFFFF', '#FFFFFF']\n",
    "adata.uns[\"subcluster_immune_colors\"] = ['#C0BEB7', '#3A728C', '#3FC7F4', '#FF90D0', '#9356A0', '#E080FF', '#B31F87', '#009D00', '#60DF9C', '#3FAB5D', '#014529', '#63A585', '#888800', '#FFFFFF', '#AAAAAA']\n",
    "adata.uns[\"subcluster_epithelial_colors\"] = ['#974815', '#F08129', '#EAB896', '#F7C900', '#C69E57', '#E53215', '#9C1915', '#429FD9', '#675DA6', '#AAAAAA', '#888888']\n"
   ]
  },
  {
   "cell_type": "code",
   "execution_count": 10,
   "metadata": {},
   "outputs": [
    {
     "name": "stdout",
     "output_type": "stream",
     "text": [
      "\u001b[35;46;1mAdd Cell Cycle annotation to anndata object\u001b[0m\u001b[34m\n",
      "def addCycleCycleAnnotation(adata, s_genes = None, g2m_genes = None, geneprefix = \"\", use_raw_data= True, doinspect=False):\n",
      "    if doinspect is True: print(\"\\033[35;46;1mAdd Cell Cycle annotation to anndata object\\033[0m\\033[34m\"); print(inspect.getsource(addCycleCycleAnnotation));print(\"\\033[31;43;1mExecution:\\033[0m\")\n",
      "\n",
      "    # uses Seurat Cell Cycles default genes by default\n",
      "    if s_genes is None: # \"MLF1IP\"\n",
      "        s_genes = [\"MCM5\",\"PCNA\",\"TYMS\",\"FEN1\",\"MCM2\",\"MCM4\",\"RRM1\",\"UNG\",\"GINS2\",\"MCM6\",\"CDCA7\",\"DTL\",\"PRIM1\",\"UHRF1\",\"HELLS\",\"RFC2\",\"RPA2\",\"NASP\",\"RAD51AP1\",\"GMNN\",\"WDR76\",\"SLBP\",\"CCNE2\",\"UBR7\",\"POLD3\",\"MSH2\",\"ATAD2\",\"RAD51\",\"RRM2\",\"CDC45\",\"CDC6\",\"EXO1\",\"TIPIN\",\"DSCC1\",\"BLM\",\"CASP8AP2\",\"USP1\",\"CLSPN\",\"POLA1\",\"CHAF1B\",\"BRIP1\",\"E2F8\"]\n",
      "    if g2m_genes is None: #use default list\n",
      "        g2m_genes =[\"HMGB2\",\"CDK1\",\"NUSAP1\",\"UBE2C\",\"BIRC5\",\"TPX2\",\"TOP2A\",\"NDC80\",\"CKS2\",\"NUF2\",\"CKS1B\",\"MKI67\",\"TMPO\",\"CENPF\",\"TACC3\",\"FAM64A\",\"SMC4\",\"CCNB2\",\"CKAP2L\",\"CKAP2\",\"AURKB\",\"BUB1\",\"KIF11\",\"ANP32E\",\"TUBB4B\",\"GTSE1\",\"KIF20B\",\"HJURP\",\"CDCA3\",\"HN1\",\"CDC20\",\"TTK\",\"CDC25C\",\"KIF2C\",\"RANGAP1\",\"NCAPD2\",\"DLGAP5\",\"CDCA2\",\"CDCA8\",\"ECT2\",\"KIF23\",\"HMMR\",\"AURKA\",\"PSRC1\",\"ANLN\",\"LBR\",\"CKAP5\",\"CENPE\",\"CTCF\",\"NEK2\",\"G2E3\",\"GAS2L3\",\"CBX5\",\"CENPA\"]\n",
      "    s_genes =  [geneprefix  + x for x in s_genes]\n",
      "    g2m_genes =  [geneprefix  + x for x in g2m_genes]\n",
      "    sc.tl.score_genes_cell_cycle(adata, s_genes=s_genes, g2m_genes=g2m_genes, use_raw = use_raw_data)\n",
      "    return(adata)\n",
      "\n",
      "\u001b[31;43;1mExecution:\u001b[0m\n"
     ]
    }
   ],
   "source": [
    "adata = lpy.addCycleCycleAnnotation(adata, doinspect=True)"
   ]
  },
  {
   "cell_type": "code",
   "execution_count": 11,
   "metadata": {},
   "outputs": [
    {
     "data": {
      "text/plain": [
       "filtered                          46884\n",
       "Fibroblast dS                     24436\n",
       "Fibroblast eS                     12675\n",
       "uSMC                               7746\n",
       "Endothelial ACKR1                  7188\n",
       "PV MYH11                           3414\n",
       "PV STEAP4                          3345\n",
       "Epithelial SOX9                    2806\n",
       "Lymphoid                           2311\n",
       "Epithelial Glandular_secretory     2147\n",
       "Epithelial Lumenal 1               1376\n",
       "Epithelial SOX9_LGR5               1150\n",
       "Epithelial Glandular               1101\n",
       "Fibroblast C7                       932\n",
       "Epithelial SOX9_prolif              883\n",
       "Epithelial Ciliated                 762\n",
       "Myeloid                             761\n",
       "Endothelial SEMA3G                  389\n",
       "Epithelial Lumenal 2                273\n",
       "Epithelial Ciliated LRG5            182\n",
       "Epithelial Pre-ciliated              49\n",
       "Name: fine_celltypes, dtype: int64"
      ]
     },
     "execution_count": 11,
     "metadata": {},
     "output_type": "execute_result"
    }
   ],
   "source": [
    "general = np.array(adata.obs[\"general_celltypes\"])\n",
    "general[adata.obs[\"broad_celltypes\"] == \"Epithelial\"] = \"filtered\"\n",
    "flt = adata.obs[\"subcluster_epithelial_balanced\"] != \"filtered\"\n",
    "general[flt] = adata.obs[\"subcluster_epithelial_balanced\"][flt]\n",
    "adata.obs[\"fine_celltypes\"] =  lpy.applyFactorRename(general,{\n",
    "    \"SOX9\" : \"Epithelial SOX9\",\n",
    "    \"SOX9_prolif\" : \"Epithelial SOX9_prolif\",\n",
    "    \"SOX9_LGR5\" : \"Epithelial SOX9_LGR5\",\n",
    "    \"Lumenal 1\" : \"Epithelial Lumenal 1\",\n",
    "    \"Lumenal 2\" : \"Epithelial Lumenal 2\",\n",
    "    \"Glandular\" : \"Epithelial Glandular\",\n",
    "    \"Glandular_secretory\" : \"Epithelial Glandular_secretory\",\n",
    "    \"Pre-ciliated\": \"Epithelial Pre-ciliated\",\n",
    "    \"Ciliated\" : \"Epithelial Ciliated\",\n",
    "    \"Ciliated LRG5\" : \"Epithelial Ciliated LRG5\",\n",
    "    \"Lymphoid\" : \"Lymphoid\",\n",
    "    \"Myeloid\" : \"Myeloid\",\n",
    "    \"Endothelial ACKR1\" : \"Endothelial ACKR1\",\n",
    "    \"Endothelial SEMA3G\" : \"Endothelial SEMA3G\",\n",
    "    \"PV MYH11\" : \"PV MYH11\",\n",
    "    \"PV STEAP4\" : \"PV STEAP4\",\n",
    "    \"uSMC\" : \"uSMC\",\n",
    "    \"Fibroblast C7\" : \"Fibroblast C7\",\n",
    "    \"Fibroblast eS\" : \"Fibroblast eS\",\n",
    "    \"Fibroblast dS\" : \"Fibroblast dS\",\n",
    "    tuple([\"doublets\", \"Low QC\", \"Other\"]) : \"filtered\"}\n",
    "    )\n",
    "adata.uns[\"fine_celltypes_colors\"] = ['#974815', '#F08129', '#EAB896', '#F7C900', '#C69E57', '#E53215', '#9C1915', '#0C31A8', '#429FD9', '#675DA6', '#8B4F9A', '#499ABA', '#48B750', '#274E13', '#7C7C7C', '#C4C4C2', '#A7A7CE', '#776747', '#A58A62', '#D6C2A7', '#FFFFFF']\n",
    "adata.obs[\"fine_celltypes\"].value_counts()"
   ]
  },
  {
   "cell_type": "code",
   "execution_count": 12,
   "metadata": {},
   "outputs": [],
   "source": [
    "adata.write_h5ad(\"N4-integrated_donors.h5ad\")"
   ]
  },
  {
   "cell_type": "code",
   "execution_count": 13,
   "metadata": {},
   "outputs": [
    {
     "name": "stdout",
     "output_type": "stream",
     "text": [
      "WARNING: saving figure to file figures/umapcolor.pdf\n"
     ]
    }
   ],
   "source": [
    "sc.set_figure_params(figsize= [6,6])\n",
    "adata2 = adata[ [ x not in [\"filtered\"] for x in adata.obs[\"subcluster_epithelial\"] ],:]\n",
    "adata2.obsm[\"umap\"] = adata2.obsm[\"X_umap_epithelial\"]\n",
    "sc.pl.umap(adata2, color=[\"subcluster_epithelial\"], save= \"color.pdf\", color_map = \"viridis\")"
   ]
  },
  {
   "cell_type": "code",
   "execution_count": 14,
   "metadata": {},
   "outputs": [
    {
     "name": "stdout",
     "output_type": "stream",
     "text": [
      "WARNING: saving figure to file figures/umapDay.pdf\n",
      "WARNING: saving figure to file figures/umapDonorID.pdf\n",
      "WARNING: saving figure to file figures/umapLocation.pdf\n",
      "WARNING: saving figure to file figures/umapBinaryStage.pdf\n",
      "WARNING: saving figure to file figures/umapBiopsyType.pdf\n",
      "WARNING: saving figure to file figures/umapPhase.pdf\n"
     ]
    }
   ],
   "source": [
    "sc.pl.umap(adata2, color=[\"Day\"], save= \"Day.pdf\", color_map = \"viridis\")\n",
    "sc.pl.umap(adata2, color=[\"DonorID\"], save= \"DonorID.pdf\", color_map = \"viridis\")\n",
    "sc.pl.umap(adata2, color=[\"Location\"], save= \"Location.pdf\", color_map = \"viridis\")\n",
    "sc.pl.umap(adata2, color=[\"Binary Stage\"], save= \"BinaryStage.pdf\", color_map = \"viridis\")\n",
    "sc.pl.umap(adata2, color=[\"BiopsyType\"], save= \"BiopsyType.pdf\", color_map = \"viridis\")\n",
    "sc.pl.umap(adata2, color=[\"phase\"], save= \"Phase.pdf\", color_map = \"viridis\")"
   ]
  },
  {
   "cell_type": "code",
   "execution_count": null,
   "metadata": {},
   "outputs": [],
   "source": []
  }
 ],
 "metadata": {
  "kernelspec": {
   "display_name": "Python 3",
   "language": "python",
   "name": "python3"
  },
  "language_info": {
   "codemirror_mode": {
    "name": "ipython",
    "version": 3
   },
   "file_extension": ".py",
   "mimetype": "text/x-python",
   "name": "python",
   "nbconvert_exporter": "python",
   "pygments_lexer": "ipython3",
   "version": "3.7.6"
  }
 },
 "nbformat": 4,
 "nbformat_minor": 4
}

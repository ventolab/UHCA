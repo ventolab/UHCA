{
 "cells": [
  {
   "cell_type": "code",
   "execution_count": 1,
   "metadata": {},
   "outputs": [
    {
     "name": "stdout",
     "output_type": "stream",
     "text": [
      "scanpy==1.6.0 anndata==0.7.4 umap==0.4.6 numpy==1.18.1 scipy==1.5.3 pandas==1.0.1 scikit-learn==0.22.2 statsmodels==0.11.1 python-igraph==0.8.0 louvain==0.6.1 leidenalg==0.8.2\n"
     ]
    }
   ],
   "source": [
    "# Integration of biopsies and organ donors from 2 studies\n",
    "import anndata, numpy as np, pandas as pd, imp, lpy, scanpy as sc\n",
    "sc.logging.print_header()"
   ]
  },
  {
   "cell_type": "code",
   "execution_count": 2,
   "metadata": {},
   "outputs": [],
   "source": [
    "# Set some constants\n",
    "adata = anndata.read_h5ad(\"N1-integrated_donors.h5ad\")"
   ]
  },
  {
   "cell_type": "code",
   "execution_count": 3,
   "metadata": {},
   "outputs": [
    {
     "name": "stdout",
     "output_type": "stream",
     "text": [
      "\u001b[35;46;1mRename classes in list\u001b[0m\u001b[34m\n",
      "def applyFactorRename(input, dico, doinspect = False):\n",
      "    if doinspect is True: print(\"\\033[35;46;1mRename classes in list\\033[0m\\033[34m\"); print(inspect.getsource(applyFactorRename));\n",
      "    import numpy as np\n",
      "    tmp = np.array(input, dtype=object)\n",
      "    out = tmp.copy()\n",
      "    for k,x in dico.items():\n",
      "        if isinstance(k, tuple):\n",
      "            for l in k:\n",
      "                out[tmp == l] = x\n",
      "        else:\n",
      "            out[tmp == k] = x\n",
      "    leftover_categories = set(out)\n",
      "    leftover_categories = leftover_categories.difference(set(dico.values()))\n",
      "    categories = list(dico.values())\n",
      "    categories = categories + list(leftover_categories)\n",
      "    return(pd.Categorical(out, categories, ordered=True))\n",
      "\n"
     ]
    }
   ],
   "source": [
    "imp.reload(lpy)\n",
    "adata.obs[\"broad_celltypes\"] =  lpy.applyFactorRename(adata.obs[\"leiden_scvi_sampl_cc\"],{\n",
    "    tuple([\"1\",\"2\",\"7\",\"10\",\"13\",\"21\"]) : \"Epithelial\",\n",
    "    \"4\" : \"Endothelial\",\n",
    "    tuple([\"11\",\"18\"]) : \"Immune\",\n",
    "    tuple([\"3\",\"8\",\"9\",\"16\",\"17\"]) : \"Supporting\",\n",
    "    tuple([\"0\",\"5\",\"6\", \"12\", \"14\", \"19\"]) : \"Stromal\",    \n",
    "    tuple([\"22\",\"23\",\"20\",\"15\"]) : \"Excluded\"\n",
    "    }, doinspect=True)"
   ]
  },
  {
   "cell_type": "code",
   "execution_count": 4,
   "metadata": {},
   "outputs": [
    {
     "name": "stdout",
     "output_type": "stream",
     "text": [
      "         0\n",
      "0     day8\n",
      "1    day16\n",
      "2    day17\n",
      "3    day19\n",
      "4    day20\n",
      "5    day22\n",
      "6    day23\n",
      "7    day25\n",
      "8    day26\n",
      "9  unknown\n"
     ]
    }
   ],
   "source": [
    "#reorder some categories for legend displays\n",
    "adata.obs[\"Day\"] = lpy.reorderCat(adata.obs[\"Day\"], [8,0,1,2,3,4,5,6,7,9] )"
   ]
  },
  {
   "cell_type": "code",
   "execution_count": 5,
   "metadata": {
    "scrolled": true
   },
   "outputs": [],
   "source": [
    "# set default colors for annotations, and \n",
    "adata.uns[\"BinaryStage_colors\"] = ['#AA0000', '#0000FF']\n",
    "adata.uns[\"BiopsyType_colors\"] = ['#1f77b4', '#ff7f0e']\n",
    "adata.uns[\"Day_colors\"] = ['#00FFFF', '#00A0FF', '#0080E8', '#006074', '#00A000', '#4B9000', '#968000', '#DD8000', '#FF4000', '#808080']\n",
    "adata.uns[\"DonorID_colors\"] = ['#a70000', '#e20000', '#4a4a00', '#848400', '#a5a500', '#005917', '#009f29', '#00c734', '#004a75', '#0084d2', '#12a7ff', '#410068', '#7a00c1', '#bb48ff', '#cd79ff']\n",
    "adata.uns[\"SampleID_colors\"] = ['#800000', '#a70000', '#e70000', '#a76060', '#e28080', '#4a4a00', '#404030', '#848400', '#707040', '#a5a500', '#909060', '#005917', '#009f29', '#00c734', '#004a75', '#0084d2', '#12a7ff', '#410068', '#7a00c1', '#bb48ff', '#cd79ff']\n",
    "adata.uns[\"Location_colors\"] = ['#1f77b4', '#ff7f0e', '#2ca02c', '#d62728', '#9467bd']\n",
    "adata.uns[\"broad_celltypes_colors\"] = ['#F08129', '#499ABA', '#48B750', '#AAAA66', '#A58A62', '#7979CC', '#888888']\n"
   ]
  },
  {
   "cell_type": "code",
   "execution_count": 6,
   "metadata": {},
   "outputs": [
    {
     "name": "stdout",
     "output_type": "stream",
     "text": [
      "\u001b[35;46;1mRename classes in list\u001b[0m\u001b[34m\n",
      "def applyFactorRename(input, dico, doinspect = False):\n",
      "    if doinspect is True: print(\"\\033[35;46;1mRename classes in list\\033[0m\\033[34m\"); print(inspect.getsource(applyFactorRename));\n",
      "    import numpy as np\n",
      "    tmp = np.array(input, dtype=object)\n",
      "    out = tmp.copy()\n",
      "    for k,x in dico.items():\n",
      "        if isinstance(k, tuple):\n",
      "            for l in k:\n",
      "                out[tmp == l] = x\n",
      "        else:\n",
      "            out[tmp == k] = x\n",
      "    leftover_categories = set(out)\n",
      "    leftover_categories = leftover_categories.difference(set(dico.values()))\n",
      "    categories = list(dico.values())\n",
      "    categories = categories + list(leftover_categories)\n",
      "    return(pd.Categorical(out, categories, ordered=True))\n",
      "\n"
     ]
    },
    {
     "data": {
      "text/plain": [
       "Fibroblast dS          25078\n",
       "filtered               20503\n",
       "Glandular_secretory    13100\n",
       "Lumenal                12532\n",
       "Fibroblast eS          12033\n",
       "uSMC                    8930\n",
       "Endothelial             7577\n",
       "SOX9                    3646\n",
       "PV MYH11                3414\n",
       "PV STEAP4               3345\n",
       "Ciliated                3189\n",
       "Lymphoid                2311\n",
       "Other                   1739\n",
       "Glandular               1720\n",
       "Fibroblast C7            932\n",
       "Myeloid                  761\n",
       "Name: general_celltype, dtype: int64"
      ]
     },
     "execution_count": 7,
     "metadata": {},
     "output_type": "execute_result"
    }
   ],
   "source": [
    "adata.obs[\"general_celltype\"] =  lpy.applyFactorRename(adata.obs[\"leiden_scvi_sampl_cc\"],{\n",
    "    \"7\" : \"SOX9\",\n",
    "    tuple([\"21\",\"2\"]) : \"Lumenal\",\n",
    "    \"13\" : \"Glandular\",\n",
    "    \"1\" : \"Glandular_secretory\",\n",
    "    \"10\" : \"Ciliated\",\n",
    "    \"11\" : \"Lymphoid\",\n",
    "    \"18\" : \"Myeloid\",\n",
    "    \"4\" : \"Endothelial\",\n",
    "    \"8\" : \"PV MYH11\",\n",
    "    \"9\" : \"PV STEAP4\",\n",
    "    tuple([\"3\",\"16\"]) : \"uSMC\",\n",
    "    \"17\" : \"Fibroblast C7\",\n",
    "    tuple([\"5\",\"6\"]) : \"Fibroblast eS\",\n",
    "    tuple([\"0\",\"14\", \"12\", \"19\"]) : \"Fibroblast dS\",\n",
    "    tuple([\"22\",\"23\",\"20\",\"15\"]) : \"Other\"\n",
    "    }, doinspect=True)\n",
    "adata.obs[\"general_celltype\"].value_counts()"
   ]
  },
  {
   "cell_type": "code",
   "execution_count": 8,
   "metadata": {},
   "outputs": [],
   "source": [
    "adata.write_h5ad(\"N2-integrated_donors.h5ad\")"
   ]
  },
  {
   "cell_type": "code",
   "execution_count": null,
   "metadata": {},
   "outputs": [],
   "source": []
  }
 ],
 "metadata": {
  "kernelspec": {
   "display_name": "Python 3",
   "language": "python",
   "name": "python3"
  },
  "language_info": {
   "codemirror_mode": {
    "name": "ipython",
    "version": 3
   },
   "file_extension": ".py",
   "mimetype": "text/x-python",
   "name": "python",
   "nbconvert_exporter": "python",
   "pygments_lexer": "ipython3",
   "version": "3.7.6"
  }
 },
 "nbformat": 4,
 "nbformat_minor": 4
}

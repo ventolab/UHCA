{
 "cells": [
  {
   "cell_type": "code",
   "execution_count": 1,
   "metadata": {},
   "outputs": [
    {
     "name": "stderr",
     "output_type": "stream",
     "text": [
      "/opt/conda/lib/python3.7/site-packages/scvi/__init__.py:31: DeprecationWarning: scvi is deprecated, please uninstall scvi via `pip uninstall scvi` and install the new scvi-tools package at github.com/YosefLab/scvi-tools\n",
      "  warnings.warn(deprecation_msg, DeprecationWarning)\n"
     ]
    },
    {
     "name": "stdout",
     "output_type": "stream",
     "text": [
      "scanpy==1.6.0 anndata==0.7.5 umap==0.3.10 numpy==1.18.1 scipy==1.4.1 pandas==1.0.1 scikit-learn==0.22.2 statsmodels==0.11.1 python-igraph==0.8.0 louvain==0.6.1 leidenalg==0.7.0\n"
     ]
    }
   ],
   "source": [
    "# Integration of biopsies and organ donors from 2 studies\n",
    "import anndata, numpy as np, pandas as pd, imp, lpy, scanpy as sc\n",
    "sc.logging.print_header()\n",
    "%load_ext rpy2.ipython\n",
    "%matplotlib inline"
   ]
  },
  {
   "cell_type": "code",
   "execution_count": 2,
   "metadata": {},
   "outputs": [],
   "source": [
    "adata = anndata.read_h5ad(\"N6-integrated_donors.h5ad\")"
   ]
  },
  {
   "cell_type": "code",
   "execution_count": 3,
   "metadata": {},
   "outputs": [],
   "source": [
    "#Remove temporary annotation for cellxgene hosting\n",
    "obs_toremove = ['batch', 'SampleID',\n",
    "       '10x kit', 'Treatment',\n",
    "       'Batch', 'scrublet_pred', 'scrublet_local_pred',\n",
    "       'scrublet_score', 'scrublet_cluster_score', 'filtered_cells',\n",
    "       'leiden_scvi_sampl_cc', 'leidenres2_scvi_sampl_cc',\n",
    "       'leiden_endothelial_raw', 'leiden_immune_raw', 'leidenres3_immune_raw',\n",
    "       'leiden_stromal_raw', 'leiden_suporting_raw', 'leiden_supporting_raw',\n",
    "       'leiden_epithelial_raw', 'leiden_epithelial_subsample_raw',\n",
    "       'leidenres2_epithelial_subsample_raw', 'leidenres2_epithelial_raw',\n",
    "       'leiden_stromal_subsample_raw', 'leidenres2_stromal_subsample_raw',\n",
    "       'subcluster_epithelial',\n",
    "       'subcluster_stromal_balanced',\n",
    "       'S_score', 'G2M_score', 'leidenres2_stromal_curated',\n",
    "       'leidenres2_epithelial_curated', 'subcluster_epithelial_balanced_broad',\n",
    "       'cosine_proj_bulkorg', 'cosine_proj_bulkorg_distance',\n",
    "       'cosine_logXformedproj_bulkorg',\n",
    "       'cosine_logXformedproj_bulkorg_distance', 'logist_proj_bulkorg',\n",
    "       'logist_proj_bulkorg_probability', 'fine_celltypes',\n",
    "       'cosine_proj_bulkorg_noinhib', 'cosine_proj_bulkorg_noinhib_distance',\n",
    "       'cosine_logXformedproj_bulkorg_noinhib',\n",
    "       'cosine_logXformedproj_bulkorg_noinhib_distance',\n",
    "       'logist_proj_bulkorg_noinhib',\n",
    "       'logist_proj_bulkorg_noinhib_probability',\n",
    "       'cosine_proj_bulkorg_hormones', 'cosine_proj_bulkorg_hormones_distance',\n",
    "       'cosine_logXformedproj_bulkorg_hormones',\n",
    "       'cosine_logXformedproj_bulkorg_hormones_distance',\n",
    "       'logist_proj_bulkorg_hormones',\n",
    "       'logist_proj_bulkorg_hormones_probability', 'cosine_proj_bulkorg_broad',\n",
    "       'cosine_proj_bulkorg_broad_distance',\n",
    "       'cosine_logXformedproj_bulkorg_broad',\n",
    "       'cosine_logXformedproj_bulkorg_broad_distance',\n",
    "       'logist_proj_bulkorg_broad', 'logist_proj_bulkorg_broad_probability',\n",
    "       'cosine_proj_bulkorg_hormnoinhib',\n",
    "       'cosine_proj_bulkorg_hormnoinhib_distance',\n",
    "       'cosine_logXformedproj_bulkorg_hormnoinhib',\n",
    "       'cosine_logXformedproj_bulkorg_hormnoinhib_distance',\n",
    "       'logist_proj_bulkorg_hormnoinhib',\n",
    "       'logist_proj_bulkorg_hormnoinhib_probability',\n",
    "       'cosine_proj_bulkorg_hormnoinhib_res2',\n",
    "       'cosine_proj_bulkorg_hormnoinhib_res2_distance',\n",
    "       'cosine_logXformedproj_bulkorg_hormnoinhib_res2',\n",
    "       'cosine_logXformedproj_bulkorg_hormnoinhib_res2_distance',\n",
    "       'logist_proj_bulkorg_hormnoinhib_res2',\n",
    "       'logist_proj_bulkorg_hormnoinhib_res2_probability',\n",
    "       'cosine_proj_bulkorg_strhormnoinhib',\n",
    "       'cosine_proj_bulkorg_strhormnoinhib_distance',\n",
    "       'cosine_logXformedproj_bulkorg_strhormnoinhib',\n",
    "       'cosine_logXformedproj_bulkorg_strhormnoinhib_distance',\n",
    "       'logist_proj_bulkorg_strhormnoinhib',\n",
    "       'logist_proj_bulkorg_strhormnoinhib_probability',\n",
    "       'Day', 'StudyName', 'Women age', 'subcluster_immune', 'Wang_celltype' ]\n",
    "obsm_toremove = ['X_cosproj_bulkorg',\n",
    " 'X_cosproj_bulkorg_hormones',\n",
    " 'X_cosproj_bulkorg_noinhib',\n",
    " 'X_cosproj_bulkorg_strhormnoinhib',\n",
    " 'X_logistproj_bulkorg',\n",
    " 'X_logistproj_bulkorg_hormones',\n",
    " 'X_logistproj_bulkorg_noinhib',\n",
    " 'X_logistproj_bulkorg_strhormnoinhib',\n",
    " 'X_lxfcosproj_bulkorg',\n",
    " 'X_lxfcosproj_bulkorg_hormones',\n",
    " 'X_lxfcosproj_bulkorg_noinhib',\n",
    " 'X_lxfcosproj_bulkorg_strhormnoinhib',\n",
    " 'X_umap_endothelial',\n",
    " 'X_umap_epithelial',\n",
    " 'X_umap_epithelial_subsample',\n",
    " 'X_umap_immune',\n",
    " 'X_umap_stromal',\n",
    " 'X_umap_stromal_subsample',\n",
    " 'X_umap_suporting',\n",
    " 'X_umap_supporting',\n",
    " 'endothelial',\n",
    " 'epithelial',\n",
    " 'epithelial_curated',\n",
    " 'epithelial_subsample',\n",
    " 'immune',\n",
    " 'scvi_sampl_cc',\n",
    " 'stromal',\n",
    " 'stromal_curated',\n",
    " 'stromal_subsample',\n",
    " 'suporting',\n",
    " 'supporting', 'X_Wang_umap', 'X_umap_stromal_curated' , 'X_umap_immune_curated' ]\n",
    "\n",
    "# rename fibroblast\n",
    "# rename fibroblast\n",
    "\n",
    "for x in obs_toremove:\n",
    "    del adata.obs[x]\n",
    "for x in obsm_toremove:\n",
    "    del adata.obsm[x]"
   ]
  },
  {
   "cell_type": "code",
   "execution_count": 4,
   "metadata": {},
   "outputs": [
    {
     "name": "stderr",
     "output_type": "stream",
     "text": [
      "Trying to set attribute `.obs` of view, copying.\n"
     ]
    },
    {
     "name": "stdout",
     "output_type": "stream",
     "text": [
      "\u001b[35;46;1mRename classes in list\u001b[0m\u001b[34m\n",
      "def applyFactorRename(input, dico, doinspect = False):\n",
      "    if doinspect is True: print(\"\\033[35;46;1mRename classes in list\\033[0m\\033[34m\"); print(inspect.getsource(applyFactorRename));\n",
      "    import numpy as np\n",
      "    tmp = np.array(input, dtype=object)\n",
      "    out = tmp.copy()\n",
      "    for k,x in dico.items():\n",
      "        if isinstance(k, tuple):\n",
      "            for l in k:\n",
      "                out[tmp == l] = x\n",
      "        else:\n",
      "            out[tmp == k] = x\n",
      "    leftover_categories = set(out)\n",
      "    leftover_categories = leftover_categories.difference(set(dico.values()))\n",
      "    categories = list(dico.values())\n",
      "    categories = categories + list(leftover_categories)\n",
      "    return(pd.Categorical(out, categories, ordered=True))\n",
      "\n",
      "dS                    24436\n",
      "Lumenal               14252\n",
      "Glandular             13100\n",
      "eS                    12675\n",
      "uSMC                   7746\n",
      "Endothelial ACKR1      7188\n",
      "SOX9                   3646\n",
      "PV MYH11               3414\n",
      "PV STEAP4              3345\n",
      "Ciliated               3189\n",
      "Other                  2923\n",
      "Lymphoid               2311\n",
      "Fibroblast C7           932\n",
      "Myeloid                 761\n",
      "Endothelial SEMA3G      389\n",
      "Name: general_celltypes, dtype: int64\n"
     ]
    }
   ],
   "source": [
    "adata_main = adata[ [x not in [\"filtered\"] for x in adata.obs[\"broad_celltypes\"] ] ]\n",
    "adata_main.obs[\"general_celltypes\"] =  lpy.applyFactorRename(adata_main.obs[\"general_celltypes\"] ,{\n",
    "    \"SOX9\" : \"SOX9\",\n",
    "    \"Lumenal\" : \"Lumenal\",\n",
    "    \"Glandular\" : \"Glandular\",\n",
    "    \"Ciliated\" : \"Ciliated\",\n",
    "    \"Lymphoid\" : \"Lymphoid\",\n",
    "    \"Myeloid\" : \"Myeloid\",\n",
    "    \"Endothelial ACKR1\" : \"Endothelial ACKR1\",\n",
    "    \"Endothelial SEMA3G\" : \"Endothelial SEMA3G\",\n",
    "    \"PV MYH11\" : \"PV MYH11\",\n",
    "    \"PV STEAP4\" : \"PV STEAP4\",\n",
    "    \"uSMC\" : \"uSMC\",\n",
    "    \"Fibroblast C7\" : \"Fibroblast C7\",\n",
    "    \"Fibroblast eS\" : \"eS\",\n",
    "    \"Fibroblast dS\" : \"dS\",\n",
    "    \"Other\" : \"Other\"\n",
    "    }, doinspect=True)\n",
    "del adata_main.obs[\"subcluster_epithelial_balanced\"]\n",
    "del adata_main.obsm[\"X_umap_epithelial_curated\"]\n",
    "print(adata_main.obs[\"general_celltypes\"].value_counts())\n",
    "adata_main.obs = adata_main.obs.rename(columns ={\"broad_celltypes\" : \"Broad cell type\", \"general_celltypes\" : \"Cell type\", \"phase\" : \"CellCycle Phase\", \"sample_names\" : \"SampleID\"})\n",
    "adata_main.uns[\"Broad cell type_colors\"] = adata_main.uns[\"broad_celltypes_colors\"];\n",
    "del adata_main.uns[\"broad_celltypes_colors\"]\n",
    "adata_main.uns[\"Cell type_colors\"] = adata_main.uns[\"general_celltypes_colors\"];\n",
    "del adata_main.uns[\"general_celltypes_colors\"]\n",
    "adata_main.uns[\"CellCycle Phase_colors\"] = adata_main.uns[\"phase_colors\"];\n",
    "del adata_main.uns[\"phase_colors\"]\n",
    "adata_main.write_h5ad(\"Integrated_donors.h5ad\")"
   ]
  },
  {
   "cell_type": "code",
   "execution_count": 5,
   "metadata": {},
   "outputs": [],
   "source": [
    "adata = adata[  [x not in [\"filtered\", \"Low QC\", \"doublets\" ] for x in adata.obs[\"subcluster_epithelial_balanced\"] ] ] "
   ]
  },
  {
   "cell_type": "code",
   "execution_count": 6,
   "metadata": {},
   "outputs": [],
   "source": [
    "del adata.obs[\"broad_celltypes\"]\n",
    "del adata.obs[\"general_celltypes\"]\n",
    "del adata.obsm[\"X_umap_scvi_sampl_cc\"]\n",
    "adata.uns[\"CellCycle Phase_colors\"] = adata.uns[\"phase_colors\"];\n",
    "del adata.uns[\"phase_colors\"]\n",
    "adata.uns[\"Epithelial celltype_colors\"] = adata.uns[\"subcluster_epithelial_balanced_colors\"];\n",
    "del adata.uns[\"subcluster_epithelial_balanced_colors\"]\n",
    "adata.obs = adata.obs.rename(columns ={\"subcluster_epithelial_balanced\" : \"Epithelial celltype\", \"phase\" : \"CellCycle Phase\", \"sample_names\" : \"SampleID\"})\n",
    "adata.write_h5ad(\"Integrated_donors_Epithelial.h5ad\")"
   ]
  },
  {
   "cell_type": "code",
   "execution_count": null,
   "metadata": {},
   "outputs": [],
   "source": []
  }
 ],
 "metadata": {
  "kernelspec": {
   "display_name": "Python 3",
   "language": "python",
   "name": "python3"
  },
  "language_info": {
   "codemirror_mode": {
    "name": "ipython",
    "version": 3
   },
   "file_extension": ".py",
   "mimetype": "text/x-python",
   "name": "python",
   "nbconvert_exporter": "python",
   "pygments_lexer": "ipython3",
   "version": "3.7.6"
  }
 },
 "nbformat": 4,
 "nbformat_minor": 4
}

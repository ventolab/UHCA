{
 "cells": [
  {
   "cell_type": "markdown",
   "metadata": {},
   "source": [
    "# Endometrium analysis - clusters visualization"
   ]
  },
  {
   "cell_type": "code",
   "execution_count": null,
   "metadata": {},
   "outputs": [],
   "source": [
    "import numpy as np\n",
    "import pandas as pd\n",
    "import scanpy as sc\n",
    "import anndata\n",
    "import os\n",
    "import sys\n",
    "\n",
    "def MovePlots(plotpattern, subplotdir):\n",
    "    os.system('mkdir -p '+str(sc.settings.figdir)+'/'+subplotdir)\n",
    "    os.system('mv '+str(sc.settings.figdir)+'/*'+plotpattern+'** '+str(sc.settings.figdir)+'/'+subplotdir)\n",
    "\n",
    "sc.settings.verbosity = 1  # verbosity: errors (0), warnings (1), info (2), hints (3)\n",
    "sc.settings.figdir = './cellphoneDB/'\n",
    "sc.logging.print_versions()\n",
    "sc.settings.set_figure_params(dpi=80)  # low dpi (dots per inch) yields small inline figures\n",
    "\n",
    "sys.executable"
   ]
  },
  {
   "cell_type": "markdown",
   "metadata": {},
   "source": [
    "# Prepare INPUT\n",
    "\n",
    "## Load andata"
   ]
  },
  {
   "cell_type": "code",
   "execution_count": null,
   "metadata": {},
   "outputs": [],
   "source": [
    "adata = sc.read('/lustre/scratch117/cellgen/team292/lh20/1gpunobooks/primary/N5-integrated_donors.h5ad')\n",
    "adata.X.shape"
   ]
  },
  {
   "cell_type": "code",
   "execution_count": null,
   "metadata": {},
   "outputs": [],
   "source": [
    "# clean bytes\n",
    "adata.var.index = [ i.decode(\"utf-8\") for i in adata.var.index]\n",
    "adata.obs.index = [ i.decode(\"utf-8\") for i in adata.obs.index]\n",
    "adata.obs.subcluster_epithelial_balanced = [ i.decode(\"utf-8\") for i in adata.obs.subcluster_epithelial_balanced]\n",
    "adata.obs.general_celltypes = [ i.decode(\"utf-8\") for i in adata.obs.general_celltypes]"
   ]
  },
  {
   "cell_type": "code",
   "execution_count": null,
   "metadata": {},
   "outputs": [],
   "source": [
    "# Visualize\n",
    "adata.obs.head()\n",
    "set(adata.obs.subcluster_epithelial_balanced)"
   ]
  },
  {
   "cell_type": "markdown",
   "metadata": {},
   "source": [
    "### Merge cell annotations"
   ]
  },
  {
   "cell_type": "code",
   "execution_count": null,
   "metadata": {},
   "outputs": [],
   "source": [
    "# remove non epithelial cells and build dictionary cell2type\n",
    "cell_annot = adata[[ i not in ['filtered', 'doublets', 'Low QC'] for i in adata.obs.subcluster_epithelial_balanced]].obs['subcluster_epithelial_balanced'].to_dict()"
   ]
  },
  {
   "cell_type": "code",
   "execution_count": null,
   "metadata": {},
   "outputs": [],
   "source": [
    "# integrate annotations\n",
    "adata.obs['cell_type'] = adata.obs.general_celltypes.to_list()\n",
    "for i in cell_annot.keys():\n",
    "    adata.obs.at[i, 'cell_type'] = 'epi_' + cell_annot[i]"
   ]
  },
  {
   "cell_type": "code",
   "execution_count": null,
   "metadata": {},
   "outputs": [],
   "source": [
    "set(adata.obs.cell_type)"
   ]
  },
  {
   "cell_type": "code",
   "execution_count": null,
   "metadata": {},
   "outputs": [],
   "source": [
    "# remove epithelial cells that did not go into the zoom (lowQC)\n",
    "adata = adata[[ i not in ['Ciliated', 'Glandular', 'Lumenal', 'SOX9', 'filtered', 'Other'] for i in adata.obs.cell_type]]"
   ]
  },
  {
   "cell_type": "markdown",
   "metadata": {},
   "source": [
    "## Remove endothelial, PV and UMSC\n",
    "\n",
    "... as they are not in contact with epithelial.\n",
    "\n",
    "Keep:\n",
    "- Other epi\n",
    "- Fibro and all stromal\n",
    "- Mac\n",
    "- T cells\n",
    "- NK\n"
   ]
  },
  {
   "cell_type": "code",
   "execution_count": null,
   "metadata": {},
   "outputs": [],
   "source": [
    "# remove epithelial cells that did not go into the zoom (lowQC)\n",
    "adata = adata[[ i not in ['uSMC', 'PV MYH11', 'PV STEAP4', 'Endothelial ACKR1', 'Endothelial SEMA3G', 'Other'] for i in adata.obs.cell_type]]"
   ]
  },
  {
   "cell_type": "code",
   "execution_count": null,
   "metadata": {},
   "outputs": [],
   "source": [
    "set(adata.obs.cell_type)"
   ]
  },
  {
   "cell_type": "markdown",
   "metadata": {},
   "source": [
    "## Save gene expression \n",
    "\n",
    "Generate the normalized but not log transformed matrix"
   ]
  },
  {
   "cell_type": "code",
   "execution_count": null,
   "metadata": {},
   "outputs": [],
   "source": [
    "adata.X.shape"
   ]
  },
  {
   "cell_type": "code",
   "execution_count": null,
   "metadata": {},
   "outputs": [],
   "source": [
    "adata_count = anndata.AnnData(X=adata.raw.X, var=adata.raw.var, obs=adata.obs, asview=False)\n",
    "sc.pp.filter_genes(adata_count, min_cells = 5)\n",
    "sc.pp.filter_cells(adata_count, min_genes = 200)\n",
    "sc.pp.normalize_per_cell(adata_count, counts_per_cell_after=1e4)\n",
    "adata_count.X.shape"
   ]
  },
  {
   "cell_type": "code",
   "execution_count": null,
   "metadata": {},
   "outputs": [],
   "source": [
    "adata_count.obs['cell_type'] = adata_count.obs['cell_type'].astype('category')\n",
    "print(adata_count.obs['cell_type'].values.describe())"
   ]
  },
  {
   "cell_type": "markdown",
   "metadata": {},
   "source": [
    "Downsample clusters with > n cells - take n cells"
   ]
  },
  {
   "cell_type": "code",
   "execution_count": null,
   "metadata": {},
   "outputs": [],
   "source": [
    "# # load cellphoneDB genes\n",
    "# genes_df = pd.aimport random\n",
    "import random\n",
    "from itertools import chain\n",
    "\n",
    "# Find clusters with > n cells\n",
    "n = 500\n",
    "cluster_counts = adata_count.obs['cell_type'].values.describe()\n",
    "cl2downsample = cluster_counts.index[ cluster_counts['counts'] > n ]\n",
    "\n",
    "# save all barcode ids from small clusters\n",
    "holder = []\n",
    "holder.append( adata_count.obs_names[[ i not in cl2downsample for i in adata_count.obs['cell_type'] ]] ) \n",
    "\n",
    "# randomly sample n cells in the cl2downsample\n",
    "for cl in cl2downsample:\n",
    "    print(cl)\n",
    "    cl_sample = adata_count[[ i == cl for i in adata_count.obs['cell_type'] ]].obs_names\n",
    "    # n = int(round(len(cl_sample)/2, 0))\n",
    "    cl_downsample = random.sample(set(cl_sample), n )\n",
    "    holder.append(cl_downsample)\n",
    "    \n",
    "# samples to include\n",
    "samples = list(chain(*holder))\n",
    "\n",
    "# Filter adata_count\n",
    "adataF = adata_count[[ i in samples for i in adata_count.obs_names ]]"
   ]
  },
  {
   "cell_type": "code",
   "execution_count": null,
   "metadata": {},
   "outputs": [],
   "source": [
    "print(adataF.obs['cell_type'].values.describe())\n",
    "adataF"
   ]
  },
  {
   "cell_type": "markdown",
   "metadata": {},
   "source": [
    "Save as csv"
   ]
  },
  {
   "cell_type": "code",
   "execution_count": null,
   "metadata": {},
   "outputs": [],
   "source": [
    "adataF.var.index = [ i.decode(\"utf-8\") for i in adataF.var.index]"
   ]
  },
  {
   "cell_type": "code",
   "execution_count": null,
   "metadata": {},
   "outputs": [],
   "source": [
    "t = adataF.X.toarray().T\n",
    "# Set cell ids as column index and gene ids as row index\n",
    "df_expr_matrix = pd.DataFrame(data=t, columns= adataF.obs.index, index=adataF.var_names)\n",
    "df_expr_matrix.to_csv('cellphoneDB/counts.csv')"
   ]
  },
  {
   "cell_type": "markdown",
   "metadata": {},
   "source": [
    "## Save meta"
   ]
  },
  {
   "cell_type": "code",
   "execution_count": null,
   "metadata": {},
   "outputs": [],
   "source": [
    "df_meta = pd.DataFrame(data={'Cell':list(adataF.obs.index),\n",
    "                             'cell_type':[ i for i in adataF.obs['cell_type']] })\n",
    "df_meta.set_index('Cell', inplace=True)\n",
    "df_meta.to_csv('cellphoneDB/meta.tsv', sep = '\\t')"
   ]
  }
 ],
 "metadata": {
  "kernelspec": {
   "display_name": "Python (SCanalysis)",
   "language": "python",
   "name": "scanalysis"
  },
  "language_info": {
   "codemirror_mode": {
    "name": "ipython",
    "version": 3
   },
   "file_extension": ".py",
   "mimetype": "text/x-python",
   "name": "python",
   "nbconvert_exporter": "python",
   "pygments_lexer": "ipython3",
   "version": "3.7.8"
  }
 },
 "nbformat": 4,
 "nbformat_minor": 4
}

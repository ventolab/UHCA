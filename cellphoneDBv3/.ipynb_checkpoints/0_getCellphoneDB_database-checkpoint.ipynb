{
 "cells": [
  {
   "cell_type": "markdown",
   "metadata": {},
   "source": [
    "## Activate cellphoneDB conda\n",
    "\n",
    "``\n",
    "source ~/cpdb-venv/bin/activate\n",
    "``\n",
    "\n",
    "## Create database - OPTIONAL\n",
    "``\n",
    "cellphonedb database generate \n",
    "    --result-path database \n",
    "    --user-gene ~/farm/CellPhoneDB-data_smallmolecules/data/gene_input_all.csv \n",
    "    --user-complex ~/farm/CellPhoneDB-data_smallmolecules/data/sources/complex_curated.csv \n",
    "    --user-interactions ~/farm/CellPhoneDB-data_smallmolecules/data/sources/interaction_curated.csv\n",
    "``\n",
    "\n",
    "## Extract database - run cellphone without statistical analysis to get all the L/R interactions\n",
    "``\n",
    "cellphonedb method analysis \\\n",
    "    /home/jovyan/farm/endometrium_v2/cellphoneDB/meta.tsv \\\n",
    "    /home/jovyan/farm/endometrium_v2/cellphoneDB/counts.csv \\\n",
    "    --database /home/jovyan/farm/endometrium/data/cellphoneDB/database/cellphonedb_user_2020-04-27-11_59.db \\\n",
    "    --counts-data hgnc_symbol \\\n",
    "    --output-path /home/jovyan/farm/endometrium_v2/cellphoneDB/out/ \\\n",
    "    --threshold 0\n",
    "``\n"
   ]
  },
  {
   "cell_type": "code",
   "execution_count": null,
   "metadata": {},
   "outputs": [],
   "source": []
  }
 ],
 "metadata": {
  "kernelspec": {
   "display_name": "Python (SCanalysis)",
   "language": "python",
   "name": "scanalysis"
  },
  "language_info": {
   "codemirror_mode": {
    "name": "ipython",
    "version": 3
   },
   "file_extension": ".py",
   "mimetype": "text/x-python",
   "name": "python",
   "nbconvert_exporter": "python",
   "pygments_lexer": "ipython3",
   "version": "3.7.8"
  }
 },
 "nbformat": 4,
 "nbformat_minor": 4
}

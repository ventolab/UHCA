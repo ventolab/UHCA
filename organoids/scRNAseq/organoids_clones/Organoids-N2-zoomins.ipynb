{
 "cells": [
  {
   "cell_type": "code",
   "execution_count": 1,
   "metadata": {},
   "outputs": [
    {
     "name": "stdout",
     "output_type": "stream",
     "text": [
      "scanpy==1.5.1 anndata==0.7.4 umap==0.4.6 numpy==1.19.1 scipy==1.5.2 pandas==1.0.5 scikit-learn==0.23.2 statsmodels==0.11.1 python-igraph==0.8.2 louvain==0.6.1 leidenalg==0.8.1\n"
     ]
    }
   ],
   "source": [
    "# Integration of organoids within subsets\n",
    "import anndata, numpy as np, pandas as pd, imp, lpy, scanpy as sc\n",
    "sc.logging.print_versions()"
   ]
  },
  {
   "cell_type": "code",
   "execution_count": 2,
   "metadata": {},
   "outputs": [],
   "source": [
    "# Set some constants\n",
    "adata = anndata.read_h5ad(\"N1-integrated_organoids.h5ad\")"
   ]
  },
  {
   "cell_type": "code",
   "execution_count": 3,
   "metadata": {},
   "outputs": [],
   "source": [
    "#make subset\n",
    "filter = ([ (x in [\"U1\", \"U2\", \"B44\"]) for x in adata.obs[\"demultiplexed\"] ])\n",
    "filter = filter & (adata.obs[\"Lane\"] == 12)\n",
    "filter = filter & (adata.obs[\"filtered_cells\"] == False)\n",
    "filter = filter & (adata.obs[\"log2p1_count\"] > 13)\n",
    "subsample_filter = lpy.subsample(filter, 600, adata.obs[\"sample_names\"])"
   ]
  },
  {
   "cell_type": "code",
   "execution_count": 4,
   "metadata": {},
   "outputs": [
    {
     "name": "stdout",
     "output_type": "stream",
     "text": [
      "\u001b[35;46;1mPrepare Data for Scvi/TotalVi\u001b[0m\u001b[34m\n",
      "def scvi_prepare(anndatapath, field, cellfilter = None, nbgenes = 5000, genes_to_filter= None, use_ccfilter_prefix=None, citeseqkey = \"protein_expression\", use_raw_slot_instead =None, min_cell_threshold= 0, doinspect=False):\n",
      "    if doinspect is True: print(\"\\033[35;46;1mPrepare Data for Scvi/TotalVi\\033[0m\\033[34m\"); print(inspect.getsource(scvi_prepare));print(\"\\033[31;43;1mExecution:\\033[0m\")\n",
      "    if use_ccfilter_prefix is not None :\n",
      "        genes_to_filter = [use_ccfilter_prefix + x for x in [\"HMGB2\",\"CDK1\",\"NUSAP1\",\"UBE2C\",\"BIRC5\",\"TPX2\",\"TOP2A\",\"NDC80\",\"CKS2\",\"NUF2\",\"CKS1B\",\"MKI67\",\"TMPO\",\"CENPF\",\"TACC3\",\"FAM64A\",\"SMC4\",\"CCNB2\",\"CKAP2L\",\"CKAP2\",\"AURKB\",\"BUB1\",\"KIF11\",\"ANP32E\",\"TUBB4B\",\"GTSE1\",\"KIF20B\",\"HJURP\",\"CDCA3\",\"HN1\",\"CDC20\",\"TTK\",\"CDC25C\",\"KIF2C\",\"RANGAP1\",\"NCAPD2\",\"DLGAP5\",\"CDCA2\",\"CDCA8\",\"ECT2\",\"KIF23\",\"HMMR\",\"AURKA\",\"PSRC1\",\"ANLN\",\"LBR\",\"CKAP5\",\"CENPE\",\"CTCF\",\"NEK2\",\"G2E3\",\"GAS2L3\",\"CBX5\",\"CENPA\",\"MCM5\",\"PCNA\",\"TYMS\",\"FEN1\",\"MCM2\",\"MCM4\",\"RRM1\",\"UNG\",\"GINS2\",\"MCM6\",\"CDCA7\",\"DTL\",\"PRIM1\",\"UHRF1\",\"MLF1IP\",\"HELLS\",\"RFC2\",\"RPA2\",\"NASP\",\"RAD51AP1\",\"GMNN\",\"WDR76\",\"SLBP\",\"CCNE2\",\"UBR7\",\"POLD3\",\"MSH2\",\"ATAD2\",\"RAD51\",\"RRM2\",\"CDC45\",\"CDC6\",\"EXO1\",\"TIPIN\",\"DSCC1\",\"BLM\",\"CASP8AP2\",\"USP1\",\"CLSPN\",\"POLA1\",\"CHAF1B\",\"BRIP1\",\"E2F8\"]]\n",
      "    if (isinstance(anndatapath, str)): cite = anndata.read_h5ad(anndatapath)\n",
      "    else: cite = anndatapath\n",
      "    if use_raw_slot_instead is None: # default behavior, check for the existance of the raw slot\n",
      "        use_raw_slot_instead = cite.raw is not None\n",
      "    \n",
      "    split = splitAnnData(cite, field, entryfilter= cellfilter, getnames = True, use_raw_slot_instead= use_raw_slot_instead,min_cell_threshold=min_cell_threshold)\n",
      "    if genes_to_filter is not None:\n",
      "        for i in range(len(split[\"datalist\"])):\n",
      "            split[\"datalist\"][i] = split[\"datalist\"][i][:, [g not in genes_to_filter for g in split[\"datalist\"][i].var_names]]\n",
      "    \n",
      "    \n",
      "\n",
      "    dataset = GeneExpressionDataset()\n",
      "    if citeseqkey in cite.obsm.keys():\n",
      "        if citeseqkey is not \"protein_expression\":\n",
      "            for i in range(len(split[\"datalist\"])):\n",
      "                split[\"datalist\"][i].obsm[\"protein_expression\"] = split[\"datalist\"][i].obsm[citeseqkey]\n",
      "        dataset.populate_from_datasets([AnnDatasetFromAnnData(ad=s,cell_measurements_col_mappings={\"protein_expression\":\"protein_names\"})   for s in split[\"datalist\"] ])\n",
      "    else:\n",
      "        dataset.populate_from_datasets([AnnDatasetFromAnnData(ad=s)   for s in split[\"datalist\"] ])\n",
      "\n",
      "    if nbgenes != 0:\n",
      "        dataset.subsample_genes(nbgenes)\n",
      "    return{\"dataset\":dataset , \"names\" : split[\"ordered\"]}\n",
      "\n",
      "\u001b[31;43;1mExecution:\u001b[0m\n",
      "[2020-11-02 18:59:12,449] INFO - scvi.dataset.anndataset | Dense size under 1Gb, casting to dense format (np.ndarray).\n",
      "[2020-11-02 18:59:13,267] INFO - scvi.dataset.dataset | Remapping labels to [0,N]\n",
      "[2020-11-02 18:59:13,270] INFO - scvi.dataset.dataset | Remapping batch_indices to [0,N]\n",
      "[2020-11-02 18:59:15,211] INFO - scvi.dataset.dataset | Computing the library size for the new data\n",
      "[2020-11-02 18:59:15,509] INFO - scvi.dataset.dataset | Downsampled from 6577 to 6577 cells\n",
      "[2020-11-02 18:59:15,534] INFO - scvi.dataset.anndataset | Dense size under 1Gb, casting to dense format (np.ndarray).\n",
      "[2020-11-02 18:59:16,178] INFO - scvi.dataset.dataset | Remapping labels to [0,N]\n",
      "[2020-11-02 18:59:16,180] INFO - scvi.dataset.dataset | Remapping batch_indices to [0,N]\n",
      "[2020-11-02 18:59:17,675] INFO - scvi.dataset.dataset | Computing the library size for the new data\n",
      "[2020-11-02 18:59:17,907] INFO - scvi.dataset.dataset | Downsampled from 5134 to 5134 cells\n",
      "[2020-11-02 18:59:17,930] INFO - scvi.dataset.anndataset | Dense size under 1Gb, casting to dense format (np.ndarray).\n",
      "[2020-11-02 18:59:18,668] INFO - scvi.dataset.dataset | Remapping labels to [0,N]\n",
      "[2020-11-02 18:59:18,671] INFO - scvi.dataset.dataset | Remapping batch_indices to [0,N]\n",
      "[2020-11-02 18:59:20,410] INFO - scvi.dataset.dataset | Computing the library size for the new data\n",
      "[2020-11-02 18:59:20,678] INFO - scvi.dataset.dataset | Downsampled from 5921 to 5921 cells\n",
      "[2020-11-02 18:59:20,702] INFO - scvi.dataset.dataset | Merging datasets. Input objects are modified in place.\n",
      "[2020-11-02 18:59:20,704] INFO - scvi.dataset.dataset | Gene names and cell measurement names are assumed to have a non-null intersection between datasets.\n",
      "[2020-11-02 18:59:20,765] INFO - scvi.dataset.dataset | Keeping 27569 genes\n",
      "[2020-11-02 18:59:22,801] INFO - scvi.dataset.dataset | Computing the library size for the new data\n",
      "[2020-11-02 18:59:23,557] INFO - scvi.dataset.dataset | Remapping labels to [0,N]\n",
      "[2020-11-02 18:59:23,560] INFO - scvi.dataset.dataset | Remapping batch_indices to [0,N]\n",
      "[2020-11-02 18:59:25,134] INFO - scvi.dataset.dataset | Computing the library size for the new data\n",
      "[2020-11-02 18:59:25,754] INFO - scvi.dataset.dataset | Remapping labels to [0,N]\n",
      "[2020-11-02 18:59:25,756] INFO - scvi.dataset.dataset | Remapping batch_indices to [0,N]\n",
      "[2020-11-02 18:59:27,584] INFO - scvi.dataset.dataset | Computing the library size for the new data\n",
      "[2020-11-02 18:59:28,311] INFO - scvi.dataset.dataset | Remapping labels to [0,N]\n",
      "[2020-11-02 18:59:28,314] INFO - scvi.dataset.dataset | Remapping batch_indices to [0,N]\n",
      "[2020-11-02 18:59:31,956] INFO - scvi.dataset.dataset | Remapping labels to [0,N]\n",
      "[2020-11-02 18:59:31,959] INFO - scvi.dataset.dataset | Remapping batch_indices to [0,N]\n",
      "[2020-11-02 18:59:32,770] INFO - scvi.dataset.dataset | extracting highly variable genes using seurat_v3 flavor\n",
      "[2020-11-02 18:59:42,542] INFO - scvi.dataset.dataset | Downsampling from 27569 to 5000 genes\n",
      "[2020-11-02 18:59:43,908] INFO - scvi.dataset.dataset | Computing the library size for the new data\n",
      "[2020-11-02 18:59:44,122] INFO - scvi.dataset.dataset | Filtering non-expressing cells.\n",
      "[2020-11-02 18:59:45,310] INFO - scvi.dataset.dataset | Computing the library size for the new data\n",
      "[2020-11-02 18:59:45,458] INFO - scvi.dataset.dataset | Downsampled from 17632 to 17632 cells\n"
     ]
    }
   ],
   "source": [
    "# Use genotypes for batch correction, no subsampling\n",
    "das = lpy.scvi_prepare(adata, \"demultiplexed\", filter, doinspect=True)"
   ]
  },
  {
   "cell_type": "code",
   "execution_count": 5,
   "metadata": {},
   "outputs": [
    {
     "name": "stdout",
     "output_type": "stream",
     "text": [
      "\u001b[35;46;1mRun scvi\u001b[0m\u001b[34m\n",
      "def runSCVI(dataset, nbstep = 500, n_latent = 64, doinspect= False):\n",
      "    if doinspect is True: print(\"\\033[35;46;1mRun scvi\\033[0m\\033[34m\"); print(inspect.getsource(runSCVI));print(\"\\033[31;43;1mExecution:\\033[0m\")\n",
      "    vae = VAE(dataset.nb_genes, n_batch= dataset.n_batches, n_labels= dataset.n_labels, n_latent = n_latent)\n",
      "    trainer = UnsupervisedTrainer(vae, dataset, train_size=0.9, frequency=5, use_cuda=True)\n",
      "    trainer.train(n_epochs=nbstep)\n",
      "    full = trainer.create_posterior(trainer.model, dataset, indices=np.arange(len(dataset)))\n",
      "    return(full.sequential().get_latent()[0])\n",
      "\n",
      "\u001b[31;43;1mExecution:\u001b[0m\n",
      "[2020-11-02 18:59:58,836] INFO - scvi.inference.inference | KL warmup for 400 epochs\n"
     ]
    },
    {
     "data": {
      "application/vnd.jupyter.widget-view+json": {
       "model_id": "dfd492b31ae940e5924f290a6834b6e2",
       "version_major": 2,
       "version_minor": 0
      },
      "text/plain": [
       "HBox(children=(FloatProgress(value=0.0, description='training', max=500.0, style=ProgressStyle(description_wid…"
      ]
     },
     "metadata": {},
     "output_type": "display_data"
    },
    {
     "name": "stdout",
     "output_type": "stream",
     "text": [
      "\n"
     ]
    }
   ],
   "source": [
    "# run scvi\n",
    "latent = lpy.runSCVI(das[\"dataset\"], doinspect=True)"
   ]
  },
  {
   "cell_type": "code",
   "execution_count": 6,
   "metadata": {},
   "outputs": [
    {
     "name": "stdout",
     "output_type": "stream",
     "text": [
      "\u001b[35;46;1mCompute Clusters and Reduces representations\u001b[0m\u001b[34m\n",
      "def insertLatent(adata, latent , latent_key= \"latent\", umap_key= \"X_umap\", tsne_key = \"X_tsne\", leiden_key = \"leiden\", rename_cluster_key= None,cellfilter = None, cellnames =None, leiden_resolution=1.0,doinspect=False):\n",
      "    if doinspect is True: print(\"\\033[35;46;1mCompute Clusters and Reduces representations\\033[0m\\033[34m\"); print(inspect.getsource(insertLatent));print(\"\\033[31;43;1mExecution:\\033[0m\")\n",
      "\n",
      "\n",
      "    if cellnames is None:\n",
      "        #order of full must match\n",
      "        assert latent.shape[0] == len(adata.obs_names),  \"cell names need for be provided if size of latent mismatches adata\"\n",
      "        map = range(len(adata.obs_names))\n",
      "        if latent_key is not None:\n",
      "            adata.obsm[latent_key] = latent\n",
      "    else:\n",
      "        print(\"defining permutation\")\n",
      "        dalist = list(adata.obs_names)\n",
      "        tmap = {}\n",
      "        for i in range(len(adata.obs_names)):\n",
      "            tmap.update( {adata.obs_names[i] : i})\n",
      "# for i in range(len(adata.obs_names))}\n",
      "        map = [tmap[s] for s in cellnames]\n",
      "        if latent_key is not None:\n",
      "            print(\"Inserting Latent coords\")\n",
      "            adata.obsm[latent_key] = np.zeros( (len(adata.obs_names), latent.shape[1]) )\n",
      "            for i in range(len(map)):\n",
      "                adata.obsm[latent_key][map[i],:] = latent[i,:]\n",
      "    \n",
      "    if umap_key is not None:\n",
      "        import umap.umap_ as umap\n",
      "        print(\"computing UMAP\")\n",
      "        tumap = umap.UMAP(spread=2).fit_transform(latent)\n",
      "        adata.obsm[umap_key] = np.zeros( ( len(adata.obs_names), 2 ) )\n",
      "\n",
      "        print(\"Inserting Umap coords\")\n",
      "        for i in range(len(map)):\n",
      "            adata.obsm[umap_key][map[i],:] = tumap[i,:]\n",
      "\n",
      "    if tsne_key is not None:\n",
      "        import scanpy as sc\n",
      "        print(\"computing Tsne\")\n",
      "        adata_latent = sc.AnnData(latent)\n",
      "\n",
      "        sc.tl.tsne(adata_latent, use_rep='X', n_jobs=8)\n",
      "        adata.obsm[tsne_key] = np.zeros( ( len(adata.obs_names), 2 ) )\n",
      "\n",
      "        print(\"Inserting Tsne coords\")\n",
      "        for i in range(len(map)):\n",
      "            adata.obsm[tsne_key][map[i],:] = adata_latent.obsm[\"X_tsne\"][i,:]\n",
      "\n",
      "    if leiden_key is not None:\n",
      "        import scanpy as sc\n",
      "        adata_latent = sc.AnnData(latent)\n",
      "        print(\"Finding clusters\")\n",
      "        sc.pp.neighbors(adata_latent, use_rep='X', n_neighbors=30, metric='minkowski')\n",
      "        sc.tl.leiden(adata_latent, resolution=leiden_resolution)\n",
      "        adata.obs[leiden_key] = \"filtered\"\n",
      "        #if rename_cluster_key is not None:\n",
      "        #    print(\"Renaming to do...\")\n",
      "        #    for i\n",
      "        #else\n",
      "        #    ctnames = range(200)\n",
      "        \n",
      "        print(\"Inserting Cluster Id\")\n",
      "        for i in range(len(map)):\n",
      "            adata.obs[leiden_key][map[i]] = adata_latent.obs[\"leiden\"][i]\n",
      "    return adata\n",
      "\n",
      "\u001b[31;43;1mExecution:\u001b[0m\n",
      "defining permutation\n",
      "Inserting Latent coords\n",
      "computing UMAP\n",
      "Inserting Umap coords\n",
      "Finding clusters\n",
      "Inserting Cluster Id\n"
     ]
    }
   ],
   "source": [
    "# store latent variable back in th object, and produce UMAP coordinates and leiden clusters \n",
    "adata = lpy.insertLatent(adata,latent, \"scvi_genotype_bulkorg\", \"X_umap_scvi_genotype_bulkorg\", None, \"leiden_scvi_genotype_bulkorg\", cellnames = das[\"names\"], doinspect=True)"
   ]
  },
  {
   "cell_type": "code",
   "execution_count": 7,
   "metadata": {},
   "outputs": [
    {
     "name": "stdout",
     "output_type": "stream",
     "text": [
      "[2020-11-02 19:09:49,333] INFO - scvi.dataset.dataset | Remapping labels to [0,N]\n",
      "[2020-11-02 19:09:49,337] INFO - scvi.dataset.dataset | Remapping batch_indices to [0,N]\n",
      "[2020-11-02 19:09:50,717] INFO - scvi.dataset.dataset | Computing the library size for the new data\n",
      "[2020-11-02 19:09:50,926] INFO - scvi.dataset.dataset | Downsampled from 17632 to 17632 cells\n",
      "[2020-11-02 19:09:50,932] INFO - scvi.dataset.dataset | Merging datasets. Input objects are modified in place.\n",
      "[2020-11-02 19:09:50,934] INFO - scvi.dataset.dataset | Gene names and cell measurement names are assumed to have a non-null intersection between datasets.\n",
      "[2020-11-02 19:09:50,962] INFO - scvi.dataset.dataset | Keeping 27569 genes\n",
      "[2020-11-02 19:09:52,537] INFO - scvi.dataset.dataset | Computing the library size for the new data\n",
      "[2020-11-02 19:09:52,750] INFO - scvi.dataset.dataset | Remapping labels to [0,N]\n",
      "[2020-11-02 19:09:52,753] INFO - scvi.dataset.dataset | Remapping batch_indices to [0,N]\n",
      "[2020-11-02 19:09:53,169] INFO - scvi.dataset.dataset | Remapping labels to [0,N]\n",
      "[2020-11-02 19:09:53,172] INFO - scvi.dataset.dataset | Remapping batch_indices to [0,N]\n",
      "[2020-11-02 19:09:53,386] INFO - scvi.dataset.dataset | extracting highly variable genes using seurat_v3 flavor\n",
      "[2020-11-02 19:09:55,927] INFO - scvi.dataset.dataset | Downsampling from 27569 to 5000 genes\n",
      "[2020-11-02 19:09:56,670] INFO - scvi.dataset.dataset | Computing the library size for the new data\n",
      "[2020-11-02 19:09:56,738] INFO - scvi.dataset.dataset | Filtering non-expressing cells.\n",
      "[2020-11-02 19:09:57,151] INFO - scvi.dataset.dataset | Computing the library size for the new data\n",
      "[2020-11-02 19:09:57,217] INFO - scvi.dataset.dataset | Downsampled from 17632 to 17632 cells\n",
      "[2020-11-02 19:09:57,737] INFO - scvi.inference.inference | KL warmup for 400 epochs\n"
     ]
    },
    {
     "data": {
      "application/vnd.jupyter.widget-view+json": {
       "model_id": "96b5b2d042694c9ea24341f0a02f95ae",
       "version_major": 2,
       "version_minor": 0
      },
      "text/plain": [
       "HBox(children=(FloatProgress(value=0.0, description='training', max=500.0, style=ProgressStyle(description_wid…"
      ]
     },
     "metadata": {},
     "output_type": "display_data"
    },
    {
     "name": "stdout",
     "output_type": "stream",
     "text": [
      "\n",
      "defining permutation\n",
      "Inserting Latent coords\n",
      "computing UMAP\n",
      "Inserting Umap coords\n",
      "Finding clusters\n",
      "Inserting Cluster Id\n"
     ]
    }
   ],
   "source": [
    "# No batch correction, no subsampling\n",
    "das = lpy.scvi_prepare(adata, None, filter)\n",
    "latent = lpy.runSCVI(das[\"dataset\"])\n",
    "adata = lpy.insertLatent(adata,latent, \"scvi_nobatch_bulkorg\", \"X_umap_scvi_nobatch_bulkorg\", None, \"leiden_scvi_nobatch_bulkorg\", cellnames = das[\"names\"])"
   ]
  },
  {
   "cell_type": "code",
   "execution_count": 8,
   "metadata": {},
   "outputs": [
    {
     "name": "stdout",
     "output_type": "stream",
     "text": [
      "[2020-11-02 19:19:58,305] INFO - scvi.dataset.anndataset | Dense size under 1Gb, casting to dense format (np.ndarray).\n",
      "[2020-11-02 19:19:58,463] INFO - scvi.dataset.dataset | Remapping labels to [0,N]\n",
      "[2020-11-02 19:19:58,465] INFO - scvi.dataset.dataset | Remapping batch_indices to [0,N]\n",
      "[2020-11-02 19:19:58,786] INFO - scvi.dataset.dataset | Computing the library size for the new data\n",
      "[2020-11-02 19:19:58,836] INFO - scvi.dataset.dataset | Downsampled from 1071 to 1071 cells\n",
      "[2020-11-02 19:19:58,842] INFO - scvi.dataset.anndataset | Dense size under 1Gb, casting to dense format (np.ndarray).\n",
      "[2020-11-02 19:19:58,971] INFO - scvi.dataset.dataset | Remapping labels to [0,N]\n",
      "[2020-11-02 19:19:58,974] INFO - scvi.dataset.dataset | Remapping batch_indices to [0,N]\n",
      "[2020-11-02 19:19:59,226] INFO - scvi.dataset.dataset | Computing the library size for the new data\n",
      "[2020-11-02 19:19:59,267] INFO - scvi.dataset.dataset | Downsampled from 867 to 867 cells\n",
      "[2020-11-02 19:19:59,273] INFO - scvi.dataset.anndataset | Dense size under 1Gb, casting to dense format (np.ndarray).\n",
      "[2020-11-02 19:19:59,418] INFO - scvi.dataset.dataset | Remapping labels to [0,N]\n",
      "[2020-11-02 19:19:59,420] INFO - scvi.dataset.dataset | Remapping batch_indices to [0,N]\n",
      "[2020-11-02 19:19:59,707] INFO - scvi.dataset.dataset | Computing the library size for the new data\n",
      "[2020-11-02 19:19:59,752] INFO - scvi.dataset.dataset | Downsampled from 967 to 967 cells\n",
      "[2020-11-02 19:19:59,758] INFO - scvi.dataset.dataset | Merging datasets. Input objects are modified in place.\n",
      "[2020-11-02 19:19:59,760] INFO - scvi.dataset.dataset | Gene names and cell measurement names are assumed to have a non-null intersection between datasets.\n",
      "[2020-11-02 19:19:59,824] INFO - scvi.dataset.dataset | Keeping 27569 genes\n",
      "[2020-11-02 19:20:00,173] INFO - scvi.dataset.dataset | Computing the library size for the new data\n",
      "[2020-11-02 19:20:00,307] INFO - scvi.dataset.dataset | Remapping labels to [0,N]\n",
      "[2020-11-02 19:20:00,310] INFO - scvi.dataset.dataset | Remapping batch_indices to [0,N]\n",
      "[2020-11-02 19:20:00,593] INFO - scvi.dataset.dataset | Computing the library size for the new data\n",
      "[2020-11-02 19:20:00,702] INFO - scvi.dataset.dataset | Remapping labels to [0,N]\n",
      "[2020-11-02 19:20:00,704] INFO - scvi.dataset.dataset | Remapping batch_indices to [0,N]\n",
      "[2020-11-02 19:20:01,021] INFO - scvi.dataset.dataset | Computing the library size for the new data\n",
      "[2020-11-02 19:20:01,141] INFO - scvi.dataset.dataset | Remapping labels to [0,N]\n",
      "[2020-11-02 19:20:01,144] INFO - scvi.dataset.dataset | Remapping batch_indices to [0,N]\n",
      "[2020-11-02 19:20:01,710] INFO - scvi.dataset.dataset | Remapping labels to [0,N]\n",
      "[2020-11-02 19:20:01,712] INFO - scvi.dataset.dataset | Remapping batch_indices to [0,N]\n",
      "[2020-11-02 19:20:01,847] INFO - scvi.dataset.dataset | extracting highly variable genes using seurat_v3 flavor\n",
      "[2020-11-02 19:20:03,583] INFO - scvi.dataset.dataset | Downsampling from 27569 to 5000 genes\n",
      "[2020-11-02 19:20:03,798] INFO - scvi.dataset.dataset | Computing the library size for the new data\n",
      "[2020-11-02 19:20:03,838] INFO - scvi.dataset.dataset | Filtering non-expressing cells.\n",
      "[2020-11-02 19:20:04,043] INFO - scvi.dataset.dataset | Computing the library size for the new data\n",
      "[2020-11-02 19:20:04,059] INFO - scvi.dataset.dataset | Downsampled from 2905 to 2905 cells\n",
      "[2020-11-02 19:20:04,170] INFO - scvi.inference.inference | KL warmup for 400 epochs\n"
     ]
    },
    {
     "data": {
      "application/vnd.jupyter.widget-view+json": {
       "model_id": "8e613ef8af8a4655b56976f4fb326e7e",
       "version_major": 2,
       "version_minor": 0
      },
      "text/plain": [
       "HBox(children=(FloatProgress(value=0.0, description='training', max=500.0, style=ProgressStyle(description_wid…"
      ]
     },
     "metadata": {},
     "output_type": "display_data"
    },
    {
     "name": "stdout",
     "output_type": "stream",
     "text": [
      "\n",
      "defining permutation\n",
      "Inserting Latent coords\n",
      "computing UMAP\n",
      "Inserting Umap coords\n",
      "Finding clusters\n",
      "Inserting Cluster Id\n"
     ]
    }
   ],
   "source": [
    "# Use genotypes for batch correction, subsamppling\n",
    "das = lpy.scvi_prepare(adata, \"demultiplexed\", subsample_filter)\n",
    "latent = lpy.runSCVI(das[\"dataset\"])\n",
    "adata = lpy.insertLatent(adata,latent,\"scvi_genotype_bulkorg_subsmpl\", \"X_umap_scvi_genotype_bulkorg_subsmpl\", None, \"leiden_scvi_genotype_bulkorg_subsmpl\", cellnames = das[\"names\"])"
   ]
  },
  {
   "cell_type": "code",
   "execution_count": 9,
   "metadata": {},
   "outputs": [
    {
     "name": "stdout",
     "output_type": "stream",
     "text": [
      "[2020-11-02 19:22:01,928] INFO - scvi.dataset.anndataset | Dense size under 1Gb, casting to dense format (np.ndarray).\n",
      "[2020-11-02 19:22:02,312] INFO - scvi.dataset.dataset | Remapping labels to [0,N]\n",
      "[2020-11-02 19:22:02,315] INFO - scvi.dataset.dataset | Remapping batch_indices to [0,N]\n",
      "[2020-11-02 19:22:03,204] INFO - scvi.dataset.dataset | Computing the library size for the new data\n",
      "[2020-11-02 19:22:03,342] INFO - scvi.dataset.dataset | Downsampled from 2905 to 2905 cells\n",
      "[2020-11-02 19:22:03,353] INFO - scvi.dataset.dataset | Merging datasets. Input objects are modified in place.\n",
      "[2020-11-02 19:22:03,355] INFO - scvi.dataset.dataset | Gene names and cell measurement names are assumed to have a non-null intersection between datasets.\n",
      "[2020-11-02 19:22:03,382] INFO - scvi.dataset.dataset | Keeping 27569 genes\n",
      "[2020-11-02 19:22:04,317] INFO - scvi.dataset.dataset | Computing the library size for the new data\n",
      "[2020-11-02 19:22:04,675] INFO - scvi.dataset.dataset | Remapping labels to [0,N]\n",
      "[2020-11-02 19:22:04,678] INFO - scvi.dataset.dataset | Remapping batch_indices to [0,N]\n",
      "[2020-11-02 19:22:05,235] INFO - scvi.dataset.dataset | Remapping labels to [0,N]\n",
      "[2020-11-02 19:22:05,238] INFO - scvi.dataset.dataset | Remapping batch_indices to [0,N]\n",
      "[2020-11-02 19:22:05,380] INFO - scvi.dataset.dataset | extracting highly variable genes using seurat_v3 flavor\n",
      "[2020-11-02 19:22:07,112] INFO - scvi.dataset.dataset | Downsampling from 27569 to 5000 genes\n",
      "[2020-11-02 19:22:07,326] INFO - scvi.dataset.dataset | Computing the library size for the new data\n",
      "[2020-11-02 19:22:07,376] INFO - scvi.dataset.dataset | Filtering non-expressing cells.\n",
      "[2020-11-02 19:22:07,577] INFO - scvi.dataset.dataset | Computing the library size for the new data\n",
      "[2020-11-02 19:22:07,604] INFO - scvi.dataset.dataset | Downsampled from 2905 to 2905 cells\n",
      "[2020-11-02 19:22:07,709] INFO - scvi.inference.inference | KL warmup for 400 epochs\n"
     ]
    },
    {
     "data": {
      "application/vnd.jupyter.widget-view+json": {
       "model_id": "17cd189d587c452daea7e119ccd47854",
       "version_major": 2,
       "version_minor": 0
      },
      "text/plain": [
       "HBox(children=(FloatProgress(value=0.0, description='training', max=500.0, style=ProgressStyle(description_wid…"
      ]
     },
     "metadata": {},
     "output_type": "display_data"
    },
    {
     "name": "stdout",
     "output_type": "stream",
     "text": [
      "\n",
      "defining permutation\n",
      "Inserting Latent coords\n",
      "computing UMAP\n",
      "Inserting Umap coords\n",
      "Finding clusters\n",
      "Inserting Cluster Id\n"
     ]
    }
   ],
   "source": [
    "# No batch correction\n",
    "das = lpy.scvi_prepare(adata, None, subsample_filter)\n",
    "latent = lpy.runSCVI(das[\"dataset\"])\n",
    "adata = lpy.insertLatent(adata,latent, \"scvi_nobatch_bulkorg_subsmpl\", \"X_umap_scvi_nobatch_bulkorg_subsmpl\", None, \"leiden_scvi_nobatch_bulkorg_subsmpl\", cellnames = das[\"names\"])"
   ]
  },
  {
   "cell_type": "code",
   "execution_count": 10,
   "metadata": {},
   "outputs": [
    {
     "name": "stdout",
     "output_type": "stream",
     "text": [
      "[2020-11-10 20:30:37,693] INFO - scvi.dataset.dataset | Remapping batch_indices to [0,N]\n",
      "[2020-11-10 20:30:37,695] INFO - scvi.dataset.dataset | Remapping labels to [0,N]\n",
      "[2020-11-10 20:30:39,073] INFO - scvi.dataset.dataset | Computing the library size for the new data\n",
      "[2020-11-10 20:30:39,278] INFO - scvi.dataset.dataset | Downsampled from 16474 to 16474 cells\n",
      "[2020-11-10 20:30:39,796] INFO - scvi.dataset.dataset | Remapping batch_indices to [0,N]\n",
      "[2020-11-10 20:30:39,799] INFO - scvi.dataset.dataset | Remapping labels to [0,N]\n",
      "[2020-11-10 20:30:41,363] INFO - scvi.dataset.dataset | Computing the library size for the new data\n",
      "[2020-11-10 20:30:41,598] INFO - scvi.dataset.dataset | Downsampled from 20847 to 20847 cells\n",
      "[2020-11-10 20:30:41,604] INFO - scvi.dataset.dataset | Merging datasets. Input objects are modified in place.\n",
      "[2020-11-10 20:30:41,605] INFO - scvi.dataset.dataset | Gene names and cell measurement names are assumed to have a non-null intersection between datasets.\n",
      "[2020-11-10 20:30:41,646] INFO - scvi.dataset.dataset | Keeping 27569 genes\n",
      "[2020-11-10 20:30:43,178] INFO - scvi.dataset.dataset | Computing the library size for the new data\n",
      "[2020-11-10 20:30:43,388] INFO - scvi.dataset.dataset | Remapping batch_indices to [0,N]\n",
      "[2020-11-10 20:30:43,390] INFO - scvi.dataset.dataset | Remapping labels to [0,N]\n",
      "[2020-11-10 20:30:45,130] INFO - scvi.dataset.dataset | Computing the library size for the new data\n",
      "[2020-11-10 20:30:45,369] INFO - scvi.dataset.dataset | Remapping batch_indices to [0,N]\n",
      "[2020-11-10 20:30:45,372] INFO - scvi.dataset.dataset | Remapping labels to [0,N]\n",
      "[2020-11-10 20:30:46,232] INFO - scvi.dataset.dataset | Remapping batch_indices to [0,N]\n",
      "[2020-11-10 20:30:46,235] INFO - scvi.dataset.dataset | Remapping labels to [0,N]\n",
      "[2020-11-10 20:30:46,686] INFO - scvi.dataset.dataset | extracting highly variable genes using seurat_v3 flavor\n",
      "[2020-11-10 20:30:51,810] INFO - scvi.dataset.dataset | Downsampling from 27569 to 5000 genes\n",
      "[2020-11-10 20:30:53,246] INFO - scvi.dataset.dataset | Computing the library size for the new data\n",
      "[2020-11-10 20:30:53,370] INFO - scvi.dataset.dataset | Filtering non-expressing cells.\n",
      "[2020-11-10 20:30:54,174] INFO - scvi.dataset.dataset | Computing the library size for the new data\n",
      "[2020-11-10 20:30:54,295] INFO - scvi.dataset.dataset | Downsampled from 37321 to 37321 cells\n",
      "[2020-11-10 20:30:55,585] INFO - scvi.inference.inference | KL warmup for 400 epochs\n"
     ]
    },
    {
     "data": {
      "application/vnd.jupyter.widget-view+json": {
       "model_id": "16ba48f0ade34e7ea356865496406185",
       "version_major": 2,
       "version_minor": 0
      },
      "text/plain": [
       "HBox(children=(FloatProgress(value=0.0, description='training', max=500.0, style=ProgressStyle(description_wid…"
      ]
     },
     "metadata": {},
     "output_type": "display_data"
    },
    {
     "name": "stdout",
     "output_type": "stream",
     "text": [
      "\n",
      "defining permutation\n",
      "Inserting Latent coords\n",
      "computing UMAP\n",
      "Inserting Umap coords\n",
      "Finding clusters\n",
      "Inserting Cluster Id\n",
      "defining permutation\n",
      "Finding clusters\n",
      "Inserting Cluster Id\n"
     ]
    }
   ],
   "source": [
    "das = lpy.scvi_prepare(adata, \"demultiplexed\", [ x in [\"A\", \"D\"] for x in adata.obs[\"demultiplexed\"] ]&(adata.obs[\"filtered_cells\"] == False))\n",
    "latent = lpy.runSCVI(das[\"dataset\"])\n",
    "adata = lpy.insertLatent(adata,latent, \"scvi_genotype_E001\", \"X_umap_scvi_genotype_E001\", None, \"leiden_scvi_scvi_genotype_E001\", cellnames = das[\"names\"])\n",
    "adata = lpy.insertLatent(adata,latent, None, None, None, \"leidenres2_scvi_scvi_genotype_E001\", cellnames = das[\"names\"], leiden_resolution=2)"
   ]
  },
  {
   "cell_type": "code",
   "execution_count": 11,
   "metadata": {},
   "outputs": [
    {
     "name": "stdout",
     "output_type": "stream",
     "text": [
      "[2020-11-10 20:58:47,949] INFO - scvi.dataset.dataset | Remapping batch_indices to [0,N]\n",
      "[2020-11-10 20:58:47,951] INFO - scvi.dataset.dataset | Remapping labels to [0,N]\n",
      "[2020-11-10 20:58:49,616] INFO - scvi.dataset.dataset | Computing the library size for the new data\n",
      "[2020-11-10 20:58:49,855] INFO - scvi.dataset.dataset | Downsampled from 17420 to 17420 cells\n",
      "[2020-11-10 20:58:49,861] INFO - scvi.dataset.dataset | Merging datasets. Input objects are modified in place.\n",
      "[2020-11-10 20:58:49,863] INFO - scvi.dataset.dataset | Gene names and cell measurement names are assumed to have a non-null intersection between datasets.\n",
      "[2020-11-10 20:58:49,890] INFO - scvi.dataset.dataset | Keeping 27569 genes\n",
      "[2020-11-10 20:58:51,731] INFO - scvi.dataset.dataset | Computing the library size for the new data\n",
      "[2020-11-10 20:58:51,975] INFO - scvi.dataset.dataset | Remapping batch_indices to [0,N]\n",
      "[2020-11-10 20:58:51,978] INFO - scvi.dataset.dataset | Remapping labels to [0,N]\n",
      "[2020-11-10 20:58:52,457] INFO - scvi.dataset.dataset | Remapping batch_indices to [0,N]\n",
      "[2020-11-10 20:58:52,459] INFO - scvi.dataset.dataset | Remapping labels to [0,N]\n",
      "[2020-11-10 20:58:52,705] INFO - scvi.dataset.dataset | extracting highly variable genes using seurat_v3 flavor\n",
      "[2020-11-10 20:58:56,370] INFO - scvi.dataset.dataset | Downsampling from 27569 to 5000 genes\n",
      "[2020-11-10 20:58:57,208] INFO - scvi.dataset.dataset | Computing the library size for the new data\n",
      "[2020-11-10 20:58:57,278] INFO - scvi.dataset.dataset | Filtering non-expressing cells.\n",
      "[2020-11-10 20:58:57,740] INFO - scvi.dataset.dataset | Computing the library size for the new data\n",
      "[2020-11-10 20:58:57,809] INFO - scvi.dataset.dataset | Downsampled from 17420 to 17420 cells\n",
      "[2020-11-10 20:58:58,622] INFO - scvi.inference.inference | KL warmup for 400 epochs\n"
     ]
    },
    {
     "data": {
      "application/vnd.jupyter.widget-view+json": {
       "model_id": "aa1c776db1a94140871ce75f1921e9ad",
       "version_major": 2,
       "version_minor": 0
      },
      "text/plain": [
       "HBox(children=(FloatProgress(value=0.0, description='training', max=500.0, style=ProgressStyle(description_wid…"
      ]
     },
     "metadata": {},
     "output_type": "display_data"
    },
    {
     "name": "stdout",
     "output_type": "stream",
     "text": [
      "\n",
      "defining permutation\n",
      "Inserting Latent coords\n",
      "computing UMAP\n",
      "Inserting Umap coords\n",
      "Finding clusters\n",
      "Inserting Cluster Id\n",
      "defining permutation\n",
      "Finding clusters\n",
      "Inserting Cluster Id\n"
     ]
    }
   ],
   "source": [
    "das = lpy.scvi_prepare(adata, \"demultiplexed\", (adata.obs[\"demultiplexed\"]== \"B44\")&(adata.obs[\"filtered_cells\"] == False)&(adata.obs[\"Inhibitor\"] == \"Ctrl\")&(adata.obs[\"IsClonal\"] == True))\n",
    "latent = lpy.runSCVI(das[\"dataset\"])\n",
    "adata = lpy.insertLatent(adata,latent, \"scvi_genotype_noinhibit_B44clone\", \"X_umap_scvi_genotype_noinhibit_B44clone\", None, \"leiden_scvi_scvi_genotype_noinhibit_B44clone\", cellnames = das[\"names\"])\n",
    "adata = lpy.insertLatent(adata,latent, None, None, None, \"leidenres2_scvi_scvi_genotype_noinhibit_B44clone\", cellnames = das[\"names\"], leiden_resolution=2)"
   ]
  },
  {
   "cell_type": "code",
   "execution_count": 12,
   "metadata": {},
   "outputs": [
    {
     "name": "stdout",
     "output_type": "stream",
     "text": [
      "[2020-11-10 21:11:36,399] INFO - scvi.dataset.dataset | Remapping batch_indices to [0,N]\n",
      "[2020-11-10 21:11:36,401] INFO - scvi.dataset.dataset | Remapping labels to [0,N]\n",
      "[2020-11-10 21:11:37,773] INFO - scvi.dataset.dataset | Computing the library size for the new data\n",
      "[2020-11-10 21:11:37,971] INFO - scvi.dataset.dataset | Downsampled from 16474 to 16474 cells\n",
      "[2020-11-10 21:11:38,489] INFO - scvi.dataset.dataset | Remapping batch_indices to [0,N]\n",
      "[2020-11-10 21:11:38,492] INFO - scvi.dataset.dataset | Remapping labels to [0,N]\n",
      "[2020-11-10 21:11:40,048] INFO - scvi.dataset.dataset | Computing the library size for the new data\n",
      "[2020-11-10 21:11:40,274] INFO - scvi.dataset.dataset | Downsampled from 20847 to 20847 cells\n",
      "[2020-11-10 21:11:40,814] INFO - scvi.dataset.dataset | Remapping batch_indices to [0,N]\n",
      "[2020-11-10 21:11:40,816] INFO - scvi.dataset.dataset | Remapping labels to [0,N]\n",
      "[2020-11-10 21:11:42,481] INFO - scvi.dataset.dataset | Computing the library size for the new data\n",
      "[2020-11-10 21:11:42,722] INFO - scvi.dataset.dataset | Downsampled from 17420 to 17420 cells\n",
      "[2020-11-10 21:11:42,729] INFO - scvi.dataset.dataset | Merging datasets. Input objects are modified in place.\n",
      "[2020-11-10 21:11:42,731] INFO - scvi.dataset.dataset | Gene names and cell measurement names are assumed to have a non-null intersection between datasets.\n",
      "[2020-11-10 21:11:42,791] INFO - scvi.dataset.dataset | Keeping 27569 genes\n",
      "[2020-11-10 21:11:44,590] INFO - scvi.dataset.dataset | Computing the library size for the new data\n",
      "[2020-11-10 21:11:44,795] INFO - scvi.dataset.dataset | Remapping batch_indices to [0,N]\n",
      "[2020-11-10 21:11:44,798] INFO - scvi.dataset.dataset | Remapping labels to [0,N]\n",
      "[2020-11-10 21:11:46,541] INFO - scvi.dataset.dataset | Computing the library size for the new data\n",
      "[2020-11-10 21:11:46,774] INFO - scvi.dataset.dataset | Remapping batch_indices to [0,N]\n",
      "[2020-11-10 21:11:46,777] INFO - scvi.dataset.dataset | Remapping labels to [0,N]\n",
      "[2020-11-10 21:11:48,639] INFO - scvi.dataset.dataset | Computing the library size for the new data\n",
      "[2020-11-10 21:11:48,883] INFO - scvi.dataset.dataset | Remapping batch_indices to [0,N]\n",
      "[2020-11-10 21:11:48,886] INFO - scvi.dataset.dataset | Remapping labels to [0,N]\n",
      "[2020-11-10 21:11:50,207] INFO - scvi.dataset.dataset | Remapping batch_indices to [0,N]\n",
      "[2020-11-10 21:11:50,211] INFO - scvi.dataset.dataset | Remapping labels to [0,N]\n",
      "[2020-11-10 21:11:50,896] INFO - scvi.dataset.dataset | extracting highly variable genes using seurat_v3 flavor\n",
      "[2020-11-10 21:11:58,708] INFO - scvi.dataset.dataset | Downsampling from 27569 to 5000 genes\n",
      "[2020-11-10 21:12:00,909] INFO - scvi.dataset.dataset | Computing the library size for the new data\n",
      "[2020-11-10 21:12:01,090] INFO - scvi.dataset.dataset | Filtering non-expressing cells.\n",
      "[2020-11-10 21:12:02,314] INFO - scvi.dataset.dataset | Computing the library size for the new data\n",
      "[2020-11-10 21:12:02,490] INFO - scvi.dataset.dataset | Downsampled from 54741 to 54741 cells\n",
      "[2020-11-10 21:12:04,381] INFO - scvi.inference.inference | KL warmup for 400 epochs\n"
     ]
    },
    {
     "data": {
      "application/vnd.jupyter.widget-view+json": {
       "model_id": "d06bc0ff28314e79b6fdadcc20251e28",
       "version_major": 2,
       "version_minor": 0
      },
      "text/plain": [
       "HBox(children=(FloatProgress(value=0.0, description='training', max=500.0, style=ProgressStyle(description_wid…"
      ]
     },
     "metadata": {},
     "output_type": "display_data"
    },
    {
     "name": "stdout",
     "output_type": "stream",
     "text": [
      "\n",
      "defining permutation\n",
      "Inserting Latent coords\n",
      "computing UMAP\n",
      "Inserting Umap coords\n",
      "Finding clusters\n",
      "Inserting Cluster Id\n",
      "defining permutation\n",
      "Finding clusters\n",
      "Inserting Cluster Id\n"
     ]
    }
   ],
   "source": [
    "das = lpy.scvi_prepare(adata, \"demultiplexed\", [ x in [\"A\", \"D\", \"B44\"] for x in adata.obs[\"demultiplexed\"] ]&(adata.obs[\"filtered_cells\"] == False)&(adata.obs[\"Inhibitor\"] == \"Ctrl\")&(adata.obs[\"IsClonal\"] == True))\n",
    "latent = lpy.runSCVI(das[\"dataset\"])\n",
    "adata = lpy.insertLatent(adata,latent, \"scvi_genotype_noinhibit_clones\", \"X_umap_scvi_genotype_noinhibit_clones\", None, \"leiden_scvi_scvi_genotype_noinhibit_clones\", cellnames = das[\"names\"])\n",
    "adata = lpy.insertLatent(adata,latent, None, None,None, \"leidenres2_scvi_scvi_genotype_noinhibit_clones\", cellnames = das[\"names\"], leiden_resolution=2)"
   ]
  },
  {
   "cell_type": "code",
   "execution_count": 13,
   "metadata": {},
   "outputs": [
    {
     "name": "stdout",
     "output_type": "stream",
     "text": [
      "[2020-11-16 14:04:16,437] INFO - scvi.dataset.dataset | Remapping batch_indices to [0,N]\n",
      "[2020-11-16 14:04:16,438] INFO - scvi.dataset.dataset | Remapping labels to [0,N]\n",
      "[2020-11-16 14:04:17,835] INFO - scvi.dataset.dataset | Computing the library size for the new data\n",
      "[2020-11-16 14:04:18,046] INFO - scvi.dataset.dataset | Downsampled from 13399 to 13399 cells\n",
      "[2020-11-16 14:04:18,484] INFO - scvi.dataset.dataset | Remapping batch_indices to [0,N]\n",
      "[2020-11-16 14:04:18,487] INFO - scvi.dataset.dataset | Remapping labels to [0,N]\n",
      "[2020-11-16 14:04:19,653] INFO - scvi.dataset.dataset | Computing the library size for the new data\n",
      "[2020-11-16 14:04:19,832] INFO - scvi.dataset.dataset | Downsampled from 10316 to 10316 cells\n",
      "[2020-11-16 14:04:19,837] INFO - scvi.dataset.dataset | Merging datasets. Input objects are modified in place.\n",
      "[2020-11-16 14:04:19,842] INFO - scvi.dataset.dataset | Gene names and cell measurement names are assumed to have a non-null intersection between datasets.\n",
      "[2020-11-16 14:04:19,916] INFO - scvi.dataset.dataset | Keeping 27569 genes\n",
      "[2020-11-16 14:04:21,604] INFO - scvi.dataset.dataset | Computing the library size for the new data\n",
      "[2020-11-16 14:04:21,807] INFO - scvi.dataset.dataset | Remapping batch_indices to [0,N]\n",
      "[2020-11-16 14:04:21,808] INFO - scvi.dataset.dataset | Remapping labels to [0,N]\n",
      "[2020-11-16 14:04:23,185] INFO - scvi.dataset.dataset | Computing the library size for the new data\n",
      "[2020-11-16 14:04:23,355] INFO - scvi.dataset.dataset | Remapping batch_indices to [0,N]\n",
      "[2020-11-16 14:04:23,356] INFO - scvi.dataset.dataset | Remapping labels to [0,N]\n",
      "[2020-11-16 14:04:24,025] INFO - scvi.dataset.dataset | Remapping batch_indices to [0,N]\n",
      "[2020-11-16 14:04:24,029] INFO - scvi.dataset.dataset | Remapping labels to [0,N]\n",
      "[2020-11-16 14:04:24,376] INFO - scvi.dataset.dataset | extracting highly variable genes using seurat_v3 flavor\n",
      "[2020-11-16 14:04:30,243] INFO - scvi.dataset.dataset | Downsampling from 27569 to 5000 genes\n",
      "[2020-11-16 14:04:31,487] INFO - scvi.dataset.dataset | Computing the library size for the new data\n",
      "[2020-11-16 14:04:31,587] INFO - scvi.dataset.dataset | Filtering non-expressing cells.\n",
      "[2020-11-16 14:04:32,283] INFO - scvi.dataset.dataset | Computing the library size for the new data\n",
      "[2020-11-16 14:04:32,380] INFO - scvi.dataset.dataset | Downsampled from 23715 to 23715 cells\n",
      "[2020-11-16 14:04:43,148] INFO - scvi.inference.inference | KL warmup for 400 epochs\n"
     ]
    },
    {
     "data": {
      "application/vnd.jupyter.widget-view+json": {
       "model_id": "b32e11ac47ef471c9d79a46ecda5886b",
       "version_major": 2,
       "version_minor": 0
      },
      "text/plain": [
       "HBox(children=(FloatProgress(value=0.0, description='training', max=500.0, style=ProgressStyle(description_wid…"
      ]
     },
     "metadata": {},
     "output_type": "display_data"
    },
    {
     "name": "stdout",
     "output_type": "stream",
     "text": [
      "\n",
      "defining permutation\n",
      "Inserting Latent coords\n",
      "computing UMAP\n",
      "Inserting Umap coords\n",
      "Finding clusters\n",
      "Inserting Cluster Id\n",
      "defining permutation\n",
      "Finding clusters\n",
      "Inserting Cluster Id\n"
     ]
    }
   ],
   "source": [
    "das = lpy.scvi_prepare(adata, \"demultiplexed\", [ x in [\"A\", \"D\"] for x in adata.obs[\"demultiplexed\"] ]&(adata.obs[\"filtered_cells\"] == False)&((adata.obs[\"Hormones\"] != \"Ctrl\")|(adata.obs[\"Days\"] == 0)))\n",
    "latent = lpy.runSCVI(das[\"dataset\"])\n",
    "adata = lpy.insertLatent(adata,latent, \"scvi_genotype_E001_hormones\", \"X_umap_scvi_genotype_E001_hormones\", None, \"leiden_scvi_scvi_genotype_E001_hormones\", cellnames = das[\"names\"])\n",
    "adata = lpy.insertLatent(adata,latent, None, None, None, \"leidenres2_scvi_scvi_genotype_E001_hormones\", cellnames = das[\"names\"], leiden_resolution=2)"
   ]
  },
  {
   "cell_type": "code",
   "execution_count": 14,
   "metadata": {},
   "outputs": [
    {
     "name": "stdout",
     "output_type": "stream",
     "text": [
      "[2020-11-16 14:22:12,048] INFO - scvi.dataset.anndataset | Dense size under 1Gb, casting to dense format (np.ndarray).\n",
      "[2020-11-16 14:22:12,194] INFO - scvi.dataset.dataset | Remapping batch_indices to [0,N]\n",
      "[2020-11-16 14:22:12,195] INFO - scvi.dataset.dataset | Remapping labels to [0,N]\n",
      "[2020-11-16 14:22:12,464] INFO - scvi.dataset.dataset | Computing the library size for the new data\n",
      "[2020-11-16 14:22:12,503] INFO - scvi.dataset.dataset | Downsampled from 592 to 592 cells\n",
      "[2020-11-16 14:22:12,510] INFO - scvi.dataset.anndataset | Dense size under 1Gb, casting to dense format (np.ndarray).\n",
      "[2020-11-16 14:22:12,636] INFO - scvi.dataset.dataset | Remapping batch_indices to [0,N]\n",
      "[2020-11-16 14:22:12,638] INFO - scvi.dataset.dataset | Remapping labels to [0,N]\n",
      "[2020-11-16 14:22:12,869] INFO - scvi.dataset.dataset | Computing the library size for the new data\n",
      "[2020-11-16 14:22:12,904] INFO - scvi.dataset.dataset | Downsampled from 516 to 516 cells\n",
      "[2020-11-16 14:22:12,910] INFO - scvi.dataset.anndataset | Dense size under 1Gb, casting to dense format (np.ndarray).\n",
      "[2020-11-16 14:22:13,052] INFO - scvi.dataset.dataset | Remapping batch_indices to [0,N]\n",
      "[2020-11-16 14:22:13,053] INFO - scvi.dataset.dataset | Remapping labels to [0,N]\n",
      "[2020-11-16 14:22:13,328] INFO - scvi.dataset.dataset | Computing the library size for the new data\n",
      "[2020-11-16 14:22:13,367] INFO - scvi.dataset.dataset | Downsampled from 597 to 597 cells\n",
      "[2020-11-16 14:22:13,373] INFO - scvi.dataset.dataset | Merging datasets. Input objects are modified in place.\n",
      "[2020-11-16 14:22:13,375] INFO - scvi.dataset.dataset | Gene names and cell measurement names are assumed to have a non-null intersection between datasets.\n",
      "[2020-11-16 14:22:13,479] INFO - scvi.dataset.dataset | Keeping 27569 genes\n",
      "[2020-11-16 14:22:13,804] INFO - scvi.dataset.dataset | Computing the library size for the new data\n",
      "[2020-11-16 14:22:13,910] INFO - scvi.dataset.dataset | Remapping batch_indices to [0,N]\n",
      "[2020-11-16 14:22:13,911] INFO - scvi.dataset.dataset | Remapping labels to [0,N]\n",
      "[2020-11-16 14:22:14,197] INFO - scvi.dataset.dataset | Computing the library size for the new data\n",
      "[2020-11-16 14:22:14,292] INFO - scvi.dataset.dataset | Remapping batch_indices to [0,N]\n",
      "[2020-11-16 14:22:14,293] INFO - scvi.dataset.dataset | Remapping labels to [0,N]\n",
      "[2020-11-16 14:22:14,630] INFO - scvi.dataset.dataset | Computing the library size for the new data\n",
      "[2020-11-16 14:22:14,732] INFO - scvi.dataset.dataset | Remapping batch_indices to [0,N]\n",
      "[2020-11-16 14:22:14,734] INFO - scvi.dataset.dataset | Remapping labels to [0,N]\n",
      "[2020-11-16 14:22:15,169] INFO - scvi.dataset.dataset | Remapping batch_indices to [0,N]\n",
      "[2020-11-16 14:22:15,170] INFO - scvi.dataset.dataset | Remapping labels to [0,N]\n",
      "[2020-11-16 14:22:15,280] INFO - scvi.dataset.dataset | extracting highly variable genes using seurat_v3 flavor\n",
      "[2020-11-16 14:22:16,734] INFO - scvi.dataset.dataset | Downsampling from 27569 to 5000 genes\n",
      "[2020-11-16 14:22:16,933] INFO - scvi.dataset.dataset | Computing the library size for the new data\n",
      "[2020-11-16 14:22:16,974] INFO - scvi.dataset.dataset | Filtering non-expressing cells.\n",
      "[2020-11-16 14:22:17,167] INFO - scvi.dataset.dataset | Computing the library size for the new data\n",
      "[2020-11-16 14:22:17,180] INFO - scvi.dataset.dataset | Downsampled from 1705 to 1705 cells\n",
      "[2020-11-16 14:22:17,382] INFO - scvi.inference.inference | KL warmup for 400 epochs\n"
     ]
    },
    {
     "data": {
      "application/vnd.jupyter.widget-view+json": {
       "model_id": "787b7fba0d2b4b7a81c27102c757169a",
       "version_major": 2,
       "version_minor": 0
      },
      "text/plain": [
       "HBox(children=(FloatProgress(value=0.0, description='training', max=500.0, style=ProgressStyle(description_wid…"
      ]
     },
     "metadata": {},
     "output_type": "display_data"
    },
    {
     "name": "stdout",
     "output_type": "stream",
     "text": [
      "\n",
      "defining permutation\n",
      "Inserting Latent coords\n",
      "computing UMAP\n",
      "Inserting Umap coords\n",
      "Finding clusters\n",
      "Inserting Cluster Id\n",
      "defining permutation\n",
      "Finding clusters\n",
      "Inserting Cluster Id\n"
     ]
    }
   ],
   "source": [
    "filter = ([ (x in [\"U1\", \"U2\", \"B44\"]) for x in adata.obs[\"demultiplexed\"] ])\n",
    "filter = filter & (adata.obs[\"Lane\"] == 12)\n",
    "filter = filter & (adata.obs[\"filtered_cells\"] == False)\n",
    "filter = filter & (adata.obs[\"log2p1_count\"] > 13)\n",
    "filter = filter & ((adata.obs[\"Hormones\"] != \"Ctrl\")|(adata.obs[\"Days\"] == 0))\n",
    "subsample_filter = lpy.subsample(filter, 600, adata.obs[\"sample_names\"])\n",
    "\n",
    "das = lpy.scvi_prepare(adata, \"demultiplexed\", subsample_filter)\n",
    "latent = lpy.runSCVI(das[\"dataset\"])\n",
    "adata = lpy.insertLatent(adata,latent, \"scvi_genotype_bulkorg_hormones\", \"X_umap_scvi_genotype_bulkorg_hormones\", None, \"leiden_scvi_genotype_bulkorg_hormones\", cellnames = das[\"names\"])\n",
    "adata = lpy.insertLatent(adata,latent, None, None, None, \"leidenres2_scvi_genotype_bulkorg_hormones\", cellnames = das[\"names\"], leiden_resolution=2)"
   ]
  },
  {
   "cell_type": "code",
   "execution_count": 15,
   "metadata": {},
   "outputs": [
    {
     "name": "stdout",
     "output_type": "stream",
     "text": [
      "[2020-11-21 12:48:34,141] INFO - scvi.dataset.dataset | Remapping labels to [0,N]\n",
      "[2020-11-21 12:48:34,144] INFO - scvi.dataset.dataset | Remapping batch_indices to [0,N]\n",
      "[2020-11-21 12:48:35,640] INFO - scvi.dataset.dataset | Computing the library size for the new data\n",
      "[2020-11-21 12:48:35,855] INFO - scvi.dataset.dataset | Downsampled from 19450 to 19450 cells\n",
      "[2020-11-21 12:48:36,305] INFO - scvi.dataset.dataset | Remapping labels to [0,N]\n",
      "[2020-11-21 12:48:36,307] INFO - scvi.dataset.dataset | Remapping batch_indices to [0,N]\n",
      "[2020-11-21 12:48:37,620] INFO - scvi.dataset.dataset | Computing the library size for the new data\n",
      "[2020-11-21 12:48:37,811] INFO - scvi.dataset.dataset | Downsampled from 15705 to 15705 cells\n",
      "[2020-11-21 12:48:37,817] INFO - scvi.dataset.dataset | Merging datasets. Input objects are modified in place.\n",
      "[2020-11-21 12:48:37,818] INFO - scvi.dataset.dataset | Gene names and cell measurement names are assumed to have a non-null intersection between datasets.\n",
      "[2020-11-21 12:48:37,861] INFO - scvi.dataset.dataset | Keeping 27569 genes\n",
      "[2020-11-21 12:48:39,562] INFO - scvi.dataset.dataset | Computing the library size for the new data\n",
      "[2020-11-21 12:48:39,784] INFO - scvi.dataset.dataset | Remapping labels to [0,N]\n",
      "[2020-11-21 12:48:39,787] INFO - scvi.dataset.dataset | Remapping batch_indices to [0,N]\n",
      "[2020-11-21 12:48:41,256] INFO - scvi.dataset.dataset | Computing the library size for the new data\n",
      "[2020-11-21 12:48:41,454] INFO - scvi.dataset.dataset | Remapping labels to [0,N]\n",
      "[2020-11-21 12:48:41,457] INFO - scvi.dataset.dataset | Remapping batch_indices to [0,N]\n",
      "[2020-11-21 12:48:42,266] INFO - scvi.dataset.dataset | Remapping labels to [0,N]\n",
      "[2020-11-21 12:48:42,269] INFO - scvi.dataset.dataset | Remapping batch_indices to [0,N]\n",
      "[2020-11-21 12:48:42,690] INFO - scvi.dataset.dataset | extracting highly variable genes using seurat_v3 flavor\n",
      "[2020-11-21 12:48:49,146] INFO - scvi.dataset.dataset | Downsampling from 27569 to 5000 genes\n",
      "[2020-11-21 12:48:50,502] INFO - scvi.dataset.dataset | Computing the library size for the new data\n",
      "[2020-11-21 12:48:50,614] INFO - scvi.dataset.dataset | Filtering non-expressing cells.\n",
      "[2020-11-21 12:48:51,373] INFO - scvi.dataset.dataset | Computing the library size for the new data\n",
      "[2020-11-21 12:48:51,487] INFO - scvi.dataset.dataset | Downsampled from 35155 to 35155 cells\n",
      "[2020-11-21 12:49:03,887] INFO - scvi.inference.inference | KL warmup for 400 epochs\n"
     ]
    },
    {
     "data": {
      "application/vnd.jupyter.widget-view+json": {
       "model_id": "e5aa6e7d216d482387804521a4b0ed4e",
       "version_major": 2,
       "version_minor": 0
      },
      "text/plain": [
       "HBox(children=(FloatProgress(value=0.0, description='training', max=500.0, style=ProgressStyle(description_wid…"
      ]
     },
     "metadata": {},
     "output_type": "display_data"
    },
    {
     "name": "stdout",
     "output_type": "stream",
     "text": [
      "\n",
      "defining permutation\n",
      "Inserting Latent coords\n",
      "computing UMAP\n",
      "Inserting Umap coords\n",
      "Finding clusters\n",
      "Inserting Cluster Id\n",
      "defining permutation\n",
      "Finding clusters\n",
      "Inserting Cluster Id\n"
     ]
    }
   ],
   "source": [
    "das = lpy.scvi_prepare(adata, \"demultiplexed\", [ x in [\"A\", \"D\"] for x in adata.obs[\"demultiplexed\"] ]&(adata.obs[\"Hormones\"] != \"Ctrl\")&(adata.obs[\"filtered_cells\"] == False)&(adata.obs[\"percent_mito\"] < 0.15))\n",
    "latent = lpy.runSCVI(das[\"dataset\"])\n",
    "adata = lpy.insertLatent(adata,latent, \"scvi_genotype_E001_strictlyhormones\", \"X_umap_scvi_genotype_E001_strictlyhormones\", None, \"leiden_scvi_scvi_genotype_E001_strictlyhormones\", cellnames = das[\"names\"])\n",
    "adata = lpy.insertLatent(adata,latent, None, None, None, \"leidenres2_scvi_scvi_genotype_E001_strictlyhormones\", cellnames = das[\"names\"], leiden_resolution=2)"
   ]
  },
  {
   "cell_type": "code",
   "execution_count": 16,
   "metadata": {},
   "outputs": [
    {
     "name": "stdout",
     "output_type": "stream",
     "text": [
      "\u001b[35;46;1mAdd Cell Cycle annotation to anndata object\u001b[0m\u001b[34m\n",
      "def addCycleCycleAnnotation(adata, s_genes = None, g2m_genes = None, geneprefix = \"\", use_raw_data= True, doinspect=False):\n",
      "    if doinspect is True: print(\"\\033[35;46;1mAdd Cell Cycle annotation to anndata object\\033[0m\\033[34m\"); print(inspect.getsource(addCycleCycleAnnotation));print(\"\\033[31;43;1mExecution:\\033[0m\")\n",
      "\n",
      "    # uses Seurat Cell Cycles default genes by default\n",
      "    if s_genes is None: # \"MLF1IP\"\n",
      "        s_genes = [\"MCM5\",\"PCNA\",\"TYMS\",\"FEN1\",\"MCM2\",\"MCM4\",\"RRM1\",\"UNG\",\"GINS2\",\"MCM6\",\"CDCA7\",\"DTL\",\"PRIM1\",\"UHRF1\",\"HELLS\",\"RFC2\",\"RPA2\",\"NASP\",\"RAD51AP1\",\"GMNN\",\"WDR76\",\"SLBP\",\"CCNE2\",\"UBR7\",\"POLD3\",\"MSH2\",\"ATAD2\",\"RAD51\",\"RRM2\",\"CDC45\",\"CDC6\",\"EXO1\",\"TIPIN\",\"DSCC1\",\"BLM\",\"CASP8AP2\",\"USP1\",\"CLSPN\",\"POLA1\",\"CHAF1B\",\"BRIP1\",\"E2F8\"]\n",
      "    if g2m_genes is None: #use default list\n",
      "        g2m_genes =[\"HMGB2\",\"CDK1\",\"NUSAP1\",\"UBE2C\",\"BIRC5\",\"TPX2\",\"TOP2A\",\"NDC80\",\"CKS2\",\"NUF2\",\"CKS1B\",\"MKI67\",\"TMPO\",\"CENPF\",\"TACC3\",\"FAM64A\",\"SMC4\",\"CCNB2\",\"CKAP2L\",\"CKAP2\",\"AURKB\",\"BUB1\",\"KIF11\",\"ANP32E\",\"TUBB4B\",\"GTSE1\",\"KIF20B\",\"HJURP\",\"CDCA3\",\"HN1\",\"CDC20\",\"TTK\",\"CDC25C\",\"KIF2C\",\"RANGAP1\",\"NCAPD2\",\"DLGAP5\",\"CDCA2\",\"CDCA8\",\"ECT2\",\"KIF23\",\"HMMR\",\"AURKA\",\"PSRC1\",\"ANLN\",\"LBR\",\"CKAP5\",\"CENPE\",\"CTCF\",\"NEK2\",\"G2E3\",\"GAS2L3\",\"CBX5\",\"CENPA\"]\n",
      "    s_genes =  [geneprefix  + x for x in s_genes]\n",
      "    g2m_genes =  [geneprefix  + x for x in g2m_genes]\n",
      "    sc.tl.score_genes_cell_cycle(adata, s_genes=s_genes, g2m_genes=g2m_genes, use_raw = use_raw_data)\n",
      "    return(adata)\n",
      "\n",
      "\u001b[31;43;1mExecution:\u001b[0m\n"
     ]
    }
   ],
   "source": [
    "adata = lpy.addCycleCycleAnnotation(adata, doinspect=True)"
   ]
  },
  {
   "cell_type": "code",
   "execution_count": 17,
   "metadata": {},
   "outputs": [
    {
     "name": "stdout",
     "output_type": "stream",
     "text": [
      "[2020-11-23 17:43:36,154] INFO - scvi.dataset.dataset | Remapping labels to [0,N]\n",
      "[2020-11-23 17:43:36,156] INFO - scvi.dataset.dataset | Remapping batch_indices to [0,N]\n",
      "[2020-11-23 17:43:37,220] INFO - scvi.dataset.dataset | Computing the library size for the new data\n",
      "[2020-11-23 17:43:37,346] INFO - scvi.dataset.dataset | Downsampled from 9801 to 9801 cells\n",
      "[2020-11-23 17:43:37,701] INFO - scvi.dataset.dataset | Remapping labels to [0,N]\n",
      "[2020-11-23 17:43:37,704] INFO - scvi.dataset.dataset | Remapping batch_indices to [0,N]\n",
      "[2020-11-23 17:43:38,677] INFO - scvi.dataset.dataset | Computing the library size for the new data\n",
      "[2020-11-23 17:43:38,824] INFO - scvi.dataset.dataset | Downsampled from 12514 to 12514 cells\n",
      "[2020-11-23 17:43:38,829] INFO - scvi.dataset.dataset | Merging datasets. Input objects are modified in place.\n",
      "[2020-11-23 17:43:38,831] INFO - scvi.dataset.dataset | Gene names and cell measurement names are assumed to have a non-null intersection between datasets.\n",
      "[2020-11-23 17:43:38,874] INFO - scvi.dataset.dataset | Keeping 27569 genes\n",
      "[2020-11-23 17:43:39,893] INFO - scvi.dataset.dataset | Computing the library size for the new data\n",
      "[2020-11-23 17:43:40,024] INFO - scvi.dataset.dataset | Remapping labels to [0,N]\n",
      "[2020-11-23 17:43:40,026] INFO - scvi.dataset.dataset | Remapping batch_indices to [0,N]\n",
      "[2020-11-23 17:43:41,113] INFO - scvi.dataset.dataset | Computing the library size for the new data\n",
      "[2020-11-23 17:43:41,266] INFO - scvi.dataset.dataset | Remapping labels to [0,N]\n",
      "[2020-11-23 17:43:41,268] INFO - scvi.dataset.dataset | Remapping batch_indices to [0,N]\n",
      "[2020-11-23 17:43:41,811] INFO - scvi.dataset.dataset | Remapping labels to [0,N]\n",
      "[2020-11-23 17:43:41,813] INFO - scvi.dataset.dataset | Remapping batch_indices to [0,N]\n",
      "[2020-11-23 17:43:42,094] INFO - scvi.dataset.dataset | extracting highly variable genes using seurat_v3 flavor\n",
      "[2020-11-23 17:43:48,310] INFO - scvi.dataset.dataset | Downsampling from 27569 to 5000 genes\n",
      "[2020-11-23 17:43:49,185] INFO - scvi.dataset.dataset | Computing the library size for the new data\n",
      "[2020-11-23 17:43:49,260] INFO - scvi.dataset.dataset | Filtering non-expressing cells.\n",
      "[2020-11-23 17:43:49,745] INFO - scvi.dataset.dataset | Computing the library size for the new data\n",
      "[2020-11-23 17:43:49,821] INFO - scvi.dataset.dataset | Downsampled from 22315 to 22315 cells\n",
      "[2020-11-23 17:44:03,956] INFO - scvi.inference.inference | KL warmup for 400 epochs\n"
     ]
    },
    {
     "data": {
      "application/vnd.jupyter.widget-view+json": {
       "model_id": "0ce3d13448744509bc8c970cd9e4be19",
       "version_major": 2,
       "version_minor": 0
      },
      "text/plain": [
       "HBox(children=(FloatProgress(value=0.0, description='training', max=500.0, style=ProgressStyle(description_wid…"
      ]
     },
     "metadata": {},
     "output_type": "display_data"
    },
    {
     "name": "stdout",
     "output_type": "stream",
     "text": [
      "\n",
      "defining permutation\n",
      "Inserting Latent coords\n",
      "computing UMAP\n",
      "Inserting Umap coords\n",
      "Finding clusters\n",
      "Inserting Cluster Id\n",
      "defining permutation\n",
      "Finding clusters\n",
      "Inserting Cluster Id\n"
     ]
    }
   ],
   "source": [
    "das = lpy.scvi_prepare(adata, \"demultiplexed\", [ x in [\"A\", \"D\"] for x in adata.obs[\"demultiplexed\"] ]&(adata.obs[\"filtered_cells\"] == False)&((adata.obs[\"Hormones\"] != \"Ctrl\")|(adata.obs[\"Days\"] == 0))&(adata.obs[\"percent_mito\"] < 0.15))\n",
    "latent = lpy.runSCVI(das[\"dataset\"])\n",
    "adata = lpy.insertLatent(adata,latent, \"scvi_genotype_E001_LMT_hormones\", \"X_umap_scvi_genotype_E001_LMT_hormones\", None, \"leiden_scvi_genotype_E001_LMT_hormones\", cellnames = das[\"names\"])\n",
    "adata = lpy.insertLatent(adata,latent, None, None, None, \"leidenres2_scvi_genotype_LMT_E001_hormones\", cellnames = das[\"names\"], leiden_resolution=2)"
   ]
  },
  {
   "cell_type": "code",
   "execution_count": 18,
   "metadata": {},
   "outputs": [
    {
     "name": "stdout",
     "output_type": "stream",
     "text": [
      "[2020-11-23 18:08:05,513] INFO - scvi.dataset.dataset | Remapping labels to [0,N]\n",
      "[2020-11-23 18:08:05,516] INFO - scvi.dataset.dataset | Remapping batch_indices to [0,N]\n",
      "[2020-11-23 18:08:07,575] INFO - scvi.dataset.dataset | Computing the library size for the new data\n",
      "[2020-11-23 18:08:07,842] INFO - scvi.dataset.dataset | Downsampled from 15705 to 15705 cells\n",
      "[2020-11-23 18:08:08,575] INFO - scvi.dataset.dataset | Remapping labels to [0,N]\n",
      "[2020-11-23 18:08:08,577] INFO - scvi.dataset.dataset | Remapping batch_indices to [0,N]\n",
      "[2020-11-23 18:08:10,859] INFO - scvi.dataset.dataset | Computing the library size for the new data\n",
      "[2020-11-23 18:08:11,162] INFO - scvi.dataset.dataset | Downsampled from 19450 to 19450 cells\n",
      "[2020-11-23 18:08:11,172] INFO - scvi.dataset.dataset | Merging datasets. Input objects are modified in place.\n",
      "[2020-11-23 18:08:11,173] INFO - scvi.dataset.dataset | Gene names and cell measurement names are assumed to have a non-null intersection between datasets.\n",
      "[2020-11-23 18:08:11,253] INFO - scvi.dataset.dataset | Keeping 27569 genes\n",
      "[2020-11-23 18:08:13,660] INFO - scvi.dataset.dataset | Computing the library size for the new data\n",
      "[2020-11-23 18:08:13,937] INFO - scvi.dataset.dataset | Remapping labels to [0,N]\n",
      "[2020-11-23 18:08:13,939] INFO - scvi.dataset.dataset | Remapping batch_indices to [0,N]\n",
      "[2020-11-23 18:08:16,604] INFO - scvi.dataset.dataset | Computing the library size for the new data\n",
      "[2020-11-23 18:08:16,910] INFO - scvi.dataset.dataset | Remapping labels to [0,N]\n",
      "[2020-11-23 18:08:16,915] INFO - scvi.dataset.dataset | Remapping batch_indices to [0,N]\n",
      "[2020-11-23 18:08:18,008] INFO - scvi.dataset.dataset | Remapping labels to [0,N]\n",
      "[2020-11-23 18:08:18,011] INFO - scvi.dataset.dataset | Remapping batch_indices to [0,N]\n",
      "[2020-11-23 18:08:18,618] INFO - scvi.dataset.dataset | extracting highly variable genes using seurat_v3 flavor\n",
      "[2020-11-23 18:08:25,397] INFO - scvi.dataset.dataset | Downsampling from 27569 to 5000 genes\n",
      "[2020-11-23 18:08:27,562] INFO - scvi.dataset.dataset | Computing the library size for the new data\n",
      "[2020-11-23 18:08:27,726] INFO - scvi.dataset.dataset | Filtering non-expressing cells.\n",
      "[2020-11-23 18:08:28,916] INFO - scvi.dataset.dataset | Computing the library size for the new data\n",
      "[2020-11-23 18:08:29,074] INFO - scvi.dataset.dataset | Downsampled from 35155 to 35155 cells\n",
      "[2020-11-23 18:08:32,362] INFO - scvi.inference.inference | KL warmup for 400 epochs\n"
     ]
    },
    {
     "data": {
      "application/vnd.jupyter.widget-view+json": {
       "model_id": "1059a71d9cb34d56ad07663e2cc05902",
       "version_major": 2,
       "version_minor": 0
      },
      "text/plain": [
       "HBox(children=(FloatProgress(value=0.0, description='training', max=500.0, style=ProgressStyle(description_wid…"
      ]
     },
     "metadata": {},
     "output_type": "display_data"
    },
    {
     "name": "stdout",
     "output_type": "stream",
     "text": [
      "\n",
      "defining permutation\n",
      "Inserting Latent coords\n",
      "computing UMAP\n",
      "Inserting Umap coords\n",
      "Finding clusters\n",
      "Inserting Cluster Id\n",
      "defining permutation\n",
      "Finding clusters\n",
      "Inserting Cluster Id\n"
     ]
    }
   ],
   "source": [
    "das = lpy.scvi_prepare(adata, \"demultiplexed\", [ x in [\"A\", \"D\"] for x in adata.obs[\"demultiplexed\"] ]&(adata.obs[\"filtered_cells\"] == False)&(adata.obs[\"percent_mito\"] < 0.15))\n",
    "latent = lpy.runSCVI(das[\"dataset\"])\n",
    "adata = lpy.insertLatent(adata,latent, \"scvi_genotype_E001_LMT\", \"X_umap_scvi_genotype_E001_LMT\", None, \"leiden_scvi_genotype_E001_LMT\", cellnames = das[\"names\"])\n",
    "adata = lpy.insertLatent(adata,latent, None, None, None, \"leidenres2_scvi_genotype_E001_LMT\", cellnames = das[\"names\"], leiden_resolution=2)"
   ]
  },
  {
   "cell_type": "code",
   "execution_count": 18,
   "metadata": {},
   "outputs": [
    {
     "name": "stdout",
     "output_type": "stream",
     "text": [
      "[2020-12-18 17:32:49,925] INFO - scvi.dataset.anndataset | Dense size under 1Gb, casting to dense format (np.ndarray).\n",
      "[2020-12-18 17:32:58,529] INFO - scvi.dataset.dataset | Remapping batch_indices to [0,N]\n",
      "[2020-12-18 17:32:58,593] INFO - scvi.dataset.dataset | Remapping labels to [0,N]\n",
      "[2020-12-18 17:33:11,753] INFO - scvi.dataset.dataset | Computing the library size for the new data\n",
      "[2020-12-18 17:33:12,232] INFO - scvi.dataset.dataset | Downsampled from 5773 to 5773 cells\n",
      "[2020-12-18 17:33:12,268] INFO - scvi.dataset.anndataset | Dense size under 1Gb, casting to dense format (np.ndarray).\n",
      "[2020-12-18 17:33:13,168] INFO - scvi.dataset.dataset | Remapping batch_indices to [0,N]\n",
      "[2020-12-18 17:33:13,170] INFO - scvi.dataset.dataset | Remapping labels to [0,N]\n",
      "[2020-12-18 17:33:21,818] INFO - scvi.dataset.dataset | Computing the library size for the new data\n",
      "[2020-12-18 17:33:22,288] INFO - scvi.dataset.dataset | Downsampled from 5370 to 5370 cells\n",
      "[2020-12-18 17:33:22,321] INFO - scvi.dataset.dataset | Merging datasets. Input objects are modified in place.\n",
      "[2020-12-18 17:33:22,323] INFO - scvi.dataset.dataset | Gene names and cell measurement names are assumed to have a non-null intersection between datasets.\n",
      "[2020-12-18 17:33:22,370] INFO - scvi.dataset.dataset | Keeping 27569 genes\n",
      "[2020-12-18 17:33:32,462] INFO - scvi.dataset.dataset | Computing the library size for the new data\n",
      "[2020-12-18 17:33:33,473] INFO - scvi.dataset.dataset | Remapping batch_indices to [0,N]\n",
      "[2020-12-18 17:33:33,478] INFO - scvi.dataset.dataset | Remapping labels to [0,N]\n",
      "[2020-12-18 17:33:35,730] INFO - scvi.dataset.dataset | Computing the library size for the new data\n",
      "[2020-12-18 17:33:36,609] INFO - scvi.dataset.dataset | Remapping batch_indices to [0,N]\n",
      "[2020-12-18 17:33:36,611] INFO - scvi.dataset.dataset | Remapping labels to [0,N]\n",
      "[2020-12-18 17:34:05,918] INFO - scvi.dataset.dataset | Remapping batch_indices to [0,N]\n",
      "[2020-12-18 17:34:05,959] INFO - scvi.dataset.dataset | Remapping labels to [0,N]\n",
      "[2020-12-18 17:34:06,868] INFO - scvi.dataset.dataset | extracting highly variable genes using seurat_v3 flavor\n",
      "[2020-12-18 17:34:26,724] INFO - scvi.dataset.dataset | Downsampling from 27569 to 5000 genes\n",
      "[2020-12-18 17:34:28,371] INFO - scvi.dataset.dataset | Computing the library size for the new data\n",
      "[2020-12-18 17:34:28,541] INFO - scvi.dataset.dataset | Filtering non-expressing cells.\n",
      "[2020-12-18 17:34:29,327] INFO - scvi.dataset.dataset | Computing the library size for the new data\n",
      "[2020-12-18 17:34:29,427] INFO - scvi.dataset.dataset | Downsampled from 11143 to 11143 cells\n",
      "[2020-12-18 17:34:52,289] INFO - scvi.inference.inference | KL warmup for 400 epochs\n"
     ]
    },
    {
     "data": {
      "application/vnd.jupyter.widget-view+json": {
       "model_id": "54dc0c31e44b48f4875acba895b0aba0",
       "version_major": 2,
       "version_minor": 0
      },
      "text/plain": [
       "HBox(children=(FloatProgress(value=0.0, description='training', max=500.0, style=ProgressStyle(description_wid…"
      ]
     },
     "metadata": {},
     "output_type": "display_data"
    },
    {
     "name": "stdout",
     "output_type": "stream",
     "text": [
      "\n",
      "defining permutation\n",
      "Inserting Latent coords\n",
      "computing UMAP\n",
      "Inserting Umap coords\n"
     ]
    }
   ],
   "source": [
    "cellfilter = [ x in [\"8\", \"3\", \"0\", \"6\", \"5\"] for x in adata.obs[\"leiden_scvi_genotype_E001_LMT_hormones\"] ]\n",
    "das = lpy.scvi_prepare(adata, \"demultiplexed\", cellfilter)\n",
    "latent = lpy.runSCVI(das[\"dataset\"])\n",
    "adata = lpy.insertLatent(adata,latent, \"scvi_genotype_E001_traj\", \"X_umap_scvi_genotype_E001_traj\", None, None, cellnames = das[\"names\"])"
   ]
  },
  {
   "cell_type": "code",
   "execution_count": 19,
   "metadata": {},
   "outputs": [],
   "source": [
    "adata.write_h5ad(\"N2-integrated_organoids.h5ad\")"
   ]
  },
  {
   "cell_type": "code",
   "execution_count": null,
   "metadata": {},
   "outputs": [],
   "source": []
  }
 ],
 "metadata": {
  "kernelspec": {
   "display_name": "Python 3",
   "language": "python",
   "name": "python3"
  },
  "language_info": {
   "codemirror_mode": {
    "name": "ipython",
    "version": 3
   },
   "file_extension": ".py",
   "mimetype": "text/x-python",
   "name": "python",
   "nbconvert_exporter": "python",
   "pygments_lexer": "ipython3",
   "version": "3.7.6"
  }
 },
 "nbformat": 4,
 "nbformat_minor": 4
}

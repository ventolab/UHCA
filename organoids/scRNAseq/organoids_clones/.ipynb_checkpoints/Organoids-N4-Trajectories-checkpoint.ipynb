{
 "cells": [
  {
   "cell_type": "code",
   "execution_count": 1,
   "metadata": {},
   "outputs": [
    {
     "name": "stderr",
     "output_type": "stream",
     "text": [
      "/opt/conda/lib/python3.7/site-packages/scvi/__init__.py:31: DeprecationWarning: scvi is deprecated, please uninstall scvi via `pip uninstall scvi` and install the new scvi-tools package at github.com/YosefLab/scvi-tools\n",
      "  warnings.warn(deprecation_msg, DeprecationWarning)\n"
     ]
    },
    {
     "name": "stdout",
     "output_type": "stream",
     "text": [
      "scanpy==1.6.0 anndata==0.7.5 umap==0.3.10 numpy==1.18.1 scipy==1.5.4 pandas==1.0.1 scikit-learn==0.22.2 statsmodels==0.11.1 python-igraph==0.8.0 louvain==0.6.1 leidenalg==0.8.3\n"
     ]
    }
   ],
   "source": [
    "# Curating organoids cell types and projection with in vivo data\n",
    "import anndata, numpy as np, pandas as pd, imp, lpy, scanpy as sc, random\n",
    "sc.logging.print_header()\n",
    "%load_ext rpy2.ipython\n",
    "%matplotlib inline"
   ]
  },
  {
   "cell_type": "code",
   "execution_count": 4,
   "metadata": {},
   "outputs": [],
   "source": [
    "# load organoid and subset to the E001 clone clusters are PGR+ \n",
    "adata = anndata.read_h5ad(\"N2-integrated_organoids.h5ad\")\n",
    "adatasub = adata[ [ x in [\"8\", \"3\", \"0\", \"6\", \"5\"] for x in adata.obs[\"leiden_scvi_genotype_E001_LMT_hormones\"] ] ,: ]"
   ]
  },
  {
   "cell_type": "code",
   "execution_count": 54,
   "metadata": {},
   "outputs": [
    {
     "name": "stdout",
     "output_type": "stream",
     "text": [
      "[1830]\n",
      "\u001b[35;46;1mCompute Trajectory using Palantir\u001b[0m\u001b[34m\n",
      "def runPalantir(adata, startcell, doinspect = False):\n",
      "    if doinspect is True: print(\"\\033[35;46;1mCompute Trajectory using Palantir\\033[0m\\033[34m\"); print(inspect.getsource(runPalantir));print(\"\\033[31;43;1mExecution:\\033[0m\")\n",
      "    import palantir\n",
      "    #import harmony\n",
      "    if 'highly_variable' not in adata.var.keys():\n",
      "        sc.pp.highly_variable_genes(adata,inplace=True)\n",
      "    pca_projections, _ = palantir.utils.run_pca(adata)\n",
      "    dm_res = palantir.utils.run_diffusion_maps(pca_projections, n_components=5)\n",
      "    ms_data = palantir.utils.determine_multiscale_space(dm_res)\n",
      "    pr_res = palantir.core.run_palantir(ms_data, startcell, num_waypoints=500)\n",
      "    \n",
      "\n",
      "    return(pr_res)\n",
      "\n",
      "\u001b[31;43;1mExecution:\u001b[0m\n",
      "Determing nearest neighbor graph...\n",
      "Sampling and flocking waypoints...\n",
      "Time for determining waypoints: 0.009520912170410156 minutes\n",
      "Determining pseudotime...\n",
      "Shortest path distances using 30-nearest neighbor graph...\n",
      "Time for shortest paths: 0.3454362154006958 minutes\n",
      "Iteratively refining the pseudotime...\n",
      "Correlation at iteration 1: 0.9999\n",
      "Entropy and branch probabilities...\n",
      "Markov chain construction...\n",
      "Identification of terminal states...\n",
      "Computing fundamental matrix and absorption probabilities...\n",
      "Project results to all cells...\n"
     ]
    }
   ],
   "source": [
    "# run Palentir on the subset, picks a start cell that is in the \"highest entropy\" area, detected from a previous run of palentir\n",
    "which = lambda lst:list(np.where(lst)[0])\n",
    "startcell = random.sample(which(adatasub.obs[\"leiden_scvi_genotype_E001_LMT_hormones\"] == \"8\"), 1)\n",
    "print(startcell)\n",
    "imp.reload(lpy)\n",
    "res = lpy.runPalantir(adatasub, adatasub.obs_names[startcell], doinspect=True)"
   ]
  },
  {
   "cell_type": "code",
   "execution_count": null,
   "metadata": {},
   "outputs": [],
   "source": [
    "\n",
    "adata.obs[\"pseudotime\"] = res.pseudotime\n",
    "adata.obs[\"entropy\"] = res.entropy\n",
    "adata.obs[\"prob1\"] = res.branch_probs[res.branch_probs.keys()[0]]\n",
    "adata.obs[\"prob2\"] = res.branch_probs[res.branch_probs.keys()[1]]\n",
    "#import palantir\n",
    "#palantir.plot.plot_palantir_results(res, adata.obsm[\"X_umap_scvi_genotype_E001_LMT_hormones\"])\n",
    "#fig, ax = palantir.plot.plot_tsne(adata.obsm[\"X_umap_scvi_genotype_E001_LMT_hormones\"])"
   ]
  },
  {
   "cell_type": "code",
   "execution_count": null,
   "metadata": {},
   "outputs": [],
   "source": [
    "sc.set_figure_params(figsize= [6,6])\n",
    "#adata =  adata_primary[ [ x not in [\"filtered\", \"doublets\", \"Low QC\"] for x in  adata_primary.obs[\"subcluster_epithelial_balanced\"] ], :]\n",
    "adata.obsm[\"umap\"] = adata.obsm[\"X_umap_scvi_genotype_E001_traj\"]\n",
    "sc.pl.umap(adata, color=[\"pseudotime\", \"entropy\", \"prob1\", \"prob2\"], save= \"color.pdf\", color_map = \"viridis\",size=10)"
   ]
  },
  {
   "cell_type": "code",
   "execution_count": null,
   "metadata": {},
   "outputs": [],
   "source": [
    "# run Palentir on the subset, picks a start cell that is in the \"highest entropy\" area, detected from a previous run of palentir\n",
    "startcell = random.sample((adata.obsm[\"umap\"][:,0] > 7)&(adata.obsm[\"umap\"][:,0] < 8)&(adata.obsm[\"umap\"][:,1] >0.5), 1)\n",
    "res = lpy.runPalantir(adata, adata.obs_names[startcell], doinspect=False)\n",
    "adata.obs[\"pseudotime\"] = res.pseudotime\n",
    "adata.obs[\"entropy\"] = res.entropy"
   ]
  },
  {
   "cell_type": "code",
   "execution_count": 56,
   "metadata": {},
   "outputs": [
    {
     "ename": "IndexError",
     "evalue": "index 1 is out of bounds for axis 0 with size 1",
     "output_type": "error",
     "traceback": [
      "\u001b[0;31m---------------------------------------------------------------------------\u001b[0m",
      "\u001b[0;31mIndexError\u001b[0m                                Traceback (most recent call last)",
      "\u001b[0;32m<ipython-input-56-242668a7403c>\u001b[0m in \u001b[0;36m<module>\u001b[0;34m\u001b[0m\n\u001b[1;32m      3\u001b[0m \u001b[0;34m\u001b[0m\u001b[0m\n\u001b[1;32m      4\u001b[0m \u001b[0madata\u001b[0m\u001b[0;34m.\u001b[0m\u001b[0mobs\u001b[0m\u001b[0;34m[\u001b[0m\u001b[0;34m\"prob1\"\u001b[0m\u001b[0;34m]\u001b[0m \u001b[0;34m=\u001b[0m \u001b[0mres\u001b[0m\u001b[0;34m.\u001b[0m\u001b[0mbranch_probs\u001b[0m\u001b[0;34m[\u001b[0m\u001b[0mres\u001b[0m\u001b[0;34m.\u001b[0m\u001b[0mbranch_probs\u001b[0m\u001b[0;34m.\u001b[0m\u001b[0mkeys\u001b[0m\u001b[0;34m(\u001b[0m\u001b[0;34m)\u001b[0m\u001b[0;34m[\u001b[0m\u001b[0;36m0\u001b[0m\u001b[0;34m]\u001b[0m\u001b[0;34m]\u001b[0m\u001b[0;34m\u001b[0m\u001b[0;34m\u001b[0m\u001b[0m\n\u001b[0;32m----> 5\u001b[0;31m \u001b[0madata\u001b[0m\u001b[0;34m.\u001b[0m\u001b[0mobs\u001b[0m\u001b[0;34m[\u001b[0m\u001b[0;34m\"prob2\"\u001b[0m\u001b[0;34m]\u001b[0m \u001b[0;34m=\u001b[0m \u001b[0mres\u001b[0m\u001b[0;34m.\u001b[0m\u001b[0mbranch_probs\u001b[0m\u001b[0;34m[\u001b[0m\u001b[0mres\u001b[0m\u001b[0;34m.\u001b[0m\u001b[0mbranch_probs\u001b[0m\u001b[0;34m.\u001b[0m\u001b[0mkeys\u001b[0m\u001b[0;34m(\u001b[0m\u001b[0;34m)\u001b[0m\u001b[0;34m[\u001b[0m\u001b[0;36m1\u001b[0m\u001b[0;34m]\u001b[0m\u001b[0;34m]\u001b[0m\u001b[0;34m\u001b[0m\u001b[0;34m\u001b[0m\u001b[0m\n\u001b[0m\u001b[1;32m      6\u001b[0m \u001b[0;31m#del adata.obs[\"prob3\"] # = res.branch_probs[res.branch_probs.keys()[2]]\u001b[0m\u001b[0;34m\u001b[0m\u001b[0;34m\u001b[0m\u001b[0;34m\u001b[0m\u001b[0m\n\u001b[1;32m      7\u001b[0m \u001b[0msc\u001b[0m\u001b[0;34m.\u001b[0m\u001b[0mpl\u001b[0m\u001b[0;34m.\u001b[0m\u001b[0mumap\u001b[0m\u001b[0;34m(\u001b[0m\u001b[0madata\u001b[0m\u001b[0;34m,\u001b[0m \u001b[0mcolor\u001b[0m\u001b[0;34m=\u001b[0m\u001b[0;34m[\u001b[0m\u001b[0;34m\"pseudotime\"\u001b[0m\u001b[0;34m,\u001b[0m \u001b[0;34m\"entropy\"\u001b[0m\u001b[0;34m,\u001b[0m \u001b[0;34m\"prob1\"\u001b[0m\u001b[0;34m,\u001b[0m \u001b[0;34m\"prob2\"\u001b[0m\u001b[0;34m]\u001b[0m\u001b[0;34m,\u001b[0m \u001b[0msave\u001b[0m\u001b[0;34m=\u001b[0m \u001b[0;34m\"color.pdf\"\u001b[0m\u001b[0;34m,\u001b[0m \u001b[0mcolor_map\u001b[0m \u001b[0;34m=\u001b[0m \u001b[0;34m\"viridis\"\u001b[0m\u001b[0;34m,\u001b[0m\u001b[0msize\u001b[0m\u001b[0;34m=\u001b[0m\u001b[0;36m10\u001b[0m\u001b[0;34m)\u001b[0m\u001b[0;34m\u001b[0m\u001b[0;34m\u001b[0m\u001b[0m\n",
      "\u001b[0;32m/opt/conda/lib/python3.7/site-packages/pandas/core/indexes/base.py\u001b[0m in \u001b[0;36m__getitem__\u001b[0;34m(self, key)\u001b[0m\n\u001b[1;32m   3928\u001b[0m         \u001b[0;32mif\u001b[0m \u001b[0mis_scalar\u001b[0m\u001b[0;34m(\u001b[0m\u001b[0mkey\u001b[0m\u001b[0;34m)\u001b[0m\u001b[0;34m:\u001b[0m\u001b[0;34m\u001b[0m\u001b[0;34m\u001b[0m\u001b[0m\n\u001b[1;32m   3929\u001b[0m             \u001b[0mkey\u001b[0m \u001b[0;34m=\u001b[0m \u001b[0mcom\u001b[0m\u001b[0;34m.\u001b[0m\u001b[0mcast_scalar_indexer\u001b[0m\u001b[0;34m(\u001b[0m\u001b[0mkey\u001b[0m\u001b[0;34m)\u001b[0m\u001b[0;34m\u001b[0m\u001b[0;34m\u001b[0m\u001b[0m\n\u001b[0;32m-> 3930\u001b[0;31m             \u001b[0;32mreturn\u001b[0m \u001b[0mgetitem\u001b[0m\u001b[0;34m(\u001b[0m\u001b[0mkey\u001b[0m\u001b[0;34m)\u001b[0m\u001b[0;34m\u001b[0m\u001b[0;34m\u001b[0m\u001b[0m\n\u001b[0m\u001b[1;32m   3931\u001b[0m \u001b[0;34m\u001b[0m\u001b[0m\n\u001b[1;32m   3932\u001b[0m         \u001b[0;32mif\u001b[0m \u001b[0misinstance\u001b[0m\u001b[0;34m(\u001b[0m\u001b[0mkey\u001b[0m\u001b[0;34m,\u001b[0m \u001b[0mslice\u001b[0m\u001b[0;34m)\u001b[0m\u001b[0;34m:\u001b[0m\u001b[0;34m\u001b[0m\u001b[0;34m\u001b[0m\u001b[0m\n",
      "\u001b[0;31mIndexError\u001b[0m: index 1 is out of bounds for axis 0 with size 1"
     ]
    }
   ],
   "source": [
    "adata.obs[\"pseudotime\"] = res.pseudotime\n",
    "adata.obs[\"entropy\"] = res.entropy\n",
    "\n",
    "adata.obs[\"prob1\"] = res.branch_probs[res.branch_probs.keys()[0]]\n",
    "adata.obs[\"prob2\"] = res.branch_probs[res.branch_probs.keys()[1]]\n",
    "#del adata.obs[\"prob3\"] # = res.branch_probs[res.branch_probs.keys()[2]]\n",
    "sc.pl.umap(adata, color=[\"pseudotime\", \"entropy\", \"prob1\", \"prob2\"], save= \"color.pdf\", color_map = \"viridis\",size=10)"
   ]
  },
  {
   "cell_type": "code",
   "execution_count": null,
   "metadata": {},
   "outputs": [],
   "source": [
    "adata.write_h5ad(\"N3-integrated_organoids.h5ad\")"
   ]
  },
  {
   "cell_type": "code",
   "execution_count": 61,
   "metadata": {},
   "outputs": [
    {
     "name": "stdout",
     "output_type": "stream",
     "text": [
      "[2078]\n",
      "Determing nearest neighbor graph...\n",
      "Sampling and flocking waypoints...\n",
      "Time for determining waypoints: 0.010150388876597086 minutes\n",
      "Determining pseudotime...\n",
      "Shortest path distances using 30-nearest neighbor graph...\n",
      "Time for shortest paths: 0.2811689257621765 minutes\n",
      "Iteratively refining the pseudotime...\n",
      "Correlation at iteration 1: 1.0000\n",
      "Entropy and branch probabilities...\n",
      "Markov chain construction...\n",
      "Identification of terminal states...\n",
      "Computing fundamental matrix and absorption probabilities...\n",
      "Project results to all cells...\n",
      "[938]\n",
      "Determing nearest neighbor graph...\n",
      "Sampling and flocking waypoints...\n",
      "Time for determining waypoints: 0.010262533028920492 minutes\n",
      "Determining pseudotime...\n",
      "Shortest path distances using 30-nearest neighbor graph...\n",
      "Time for shortest paths: 0.12562367916107178 minutes\n",
      "Iteratively refining the pseudotime...\n",
      "Correlation at iteration 1: 0.9999\n",
      "Entropy and branch probabilities...\n",
      "Markov chain construction...\n",
      "Identification of terminal states...\n",
      "Computing fundamental matrix and absorption probabilities...\n",
      "Project results to all cells...\n",
      "[3716]\n",
      "Determing nearest neighbor graph...\n",
      "Sampling and flocking waypoints...\n",
      "Time for determining waypoints: 0.01097572644551595 minutes\n",
      "Determining pseudotime...\n",
      "Shortest path distances using 30-nearest neighbor graph...\n",
      "Time for shortest paths: 0.11557064851125082 minutes\n",
      "Iteratively refining the pseudotime...\n",
      "Correlation at iteration 1: 0.9999\n",
      "Entropy and branch probabilities...\n",
      "Markov chain construction...\n",
      "Identification of terminal states...\n",
      "Computing fundamental matrix and absorption probabilities...\n",
      "Project results to all cells...\n",
      "[409]\n",
      "Determing nearest neighbor graph...\n",
      "Sampling and flocking waypoints...\n",
      "Time for determining waypoints: 0.011238332589467366 minutes\n",
      "Determining pseudotime...\n",
      "Shortest path distances using 30-nearest neighbor graph...\n",
      "Time for shortest paths: 0.12506061395009357 minutes\n",
      "Iteratively refining the pseudotime...\n",
      "Correlation at iteration 1: 0.9999\n",
      "Entropy and branch probabilities...\n",
      "Markov chain construction...\n",
      "Identification of terminal states...\n",
      "Computing fundamental matrix and absorption probabilities...\n",
      "Project results to all cells...\n",
      "[1542]\n",
      "Determing nearest neighbor graph...\n",
      "Sampling and flocking waypoints...\n",
      "Time for determining waypoints: 0.010955444971720378 minutes\n",
      "Determining pseudotime...\n",
      "Shortest path distances using 30-nearest neighbor graph...\n",
      "Time for shortest paths: 0.11861220598220826 minutes\n",
      "Iteratively refining the pseudotime...\n",
      "Correlation at iteration 1: 0.9999\n",
      "Entropy and branch probabilities...\n",
      "Markov chain construction...\n",
      "Identification of terminal states...\n",
      "Computing fundamental matrix and absorption probabilities...\n",
      "Project results to all cells...\n",
      "[2310]\n",
      "Determing nearest neighbor graph...\n",
      "Sampling and flocking waypoints...\n",
      "Time for determining waypoints: 0.010924609502156575 minutes\n",
      "Determining pseudotime...\n",
      "Shortest path distances using 30-nearest neighbor graph...\n",
      "Time for shortest paths: 0.1192040999730428 minutes\n",
      "Iteratively refining the pseudotime...\n",
      "Correlation at iteration 1: 1.0000\n",
      "Entropy and branch probabilities...\n",
      "Markov chain construction...\n",
      "Identification of terminal states...\n",
      "Computing fundamental matrix and absorption probabilities...\n",
      "Project results to all cells...\n",
      "[2244]\n",
      "Determing nearest neighbor graph...\n",
      "Sampling and flocking waypoints...\n",
      "Time for determining waypoints: 0.011351927121480306 minutes\n",
      "Determining pseudotime...\n",
      "Shortest path distances using 30-nearest neighbor graph...\n",
      "Time for shortest paths: 0.12453863223393759 minutes\n",
      "Iteratively refining the pseudotime...\n",
      "Correlation at iteration 1: 1.0000\n",
      "Entropy and branch probabilities...\n",
      "Markov chain construction...\n",
      "Identification of terminal states...\n",
      "Computing fundamental matrix and absorption probabilities...\n",
      "Project results to all cells...\n",
      "[1093]\n",
      "Determing nearest neighbor graph...\n",
      "Sampling and flocking waypoints...\n",
      "Time for determining waypoints: 0.010232786337534586 minutes\n",
      "Determining pseudotime...\n",
      "Shortest path distances using 30-nearest neighbor graph...\n",
      "Time for shortest paths: 0.12100425561269125 minutes\n",
      "Iteratively refining the pseudotime...\n",
      "Correlation at iteration 1: 1.0000\n",
      "Entropy and branch probabilities...\n",
      "Markov chain construction...\n",
      "Identification of terminal states...\n",
      "Computing fundamental matrix and absorption probabilities...\n",
      "Project results to all cells...\n",
      "[2114]\n",
      "Determing nearest neighbor graph...\n",
      "Sampling and flocking waypoints...\n",
      "Time for determining waypoints: 0.011518653233846028 minutes\n",
      "Determining pseudotime...\n",
      "Shortest path distances using 30-nearest neighbor graph...\n",
      "Time for shortest paths: 0.2101526697476705 minutes\n",
      "Iteratively refining the pseudotime...\n",
      "Correlation at iteration 1: 0.9999\n",
      "Entropy and branch probabilities...\n",
      "Markov chain construction...\n",
      "Identification of terminal states...\n",
      "Computing fundamental matrix and absorption probabilities...\n",
      "Project results to all cells...\n",
      "[2427]\n",
      "Determing nearest neighbor graph...\n",
      "Sampling and flocking waypoints...\n",
      "Time for determining waypoints: 0.01107478141784668 minutes\n",
      "Determining pseudotime...\n",
      "Shortest path distances using 30-nearest neighbor graph...\n",
      "Time for shortest paths: 0.11359253724416098 minutes\n",
      "Iteratively refining the pseudotime...\n",
      "Correlation at iteration 1: 1.0000\n",
      "Entropy and branch probabilities...\n",
      "Markov chain construction...\n",
      "Identification of terminal states...\n",
      "Computing fundamental matrix and absorption probabilities...\n",
      "Project results to all cells...\n",
      "[1076]\n",
      "Determing nearest neighbor graph...\n",
      "Sampling and flocking waypoints...\n",
      "Time for determining waypoints: 0.011368234952290853 minutes\n",
      "Determining pseudotime...\n",
      "Shortest path distances using 30-nearest neighbor graph...\n",
      "Time for shortest paths: 0.11709021329879761 minutes\n",
      "Iteratively refining the pseudotime...\n",
      "Correlation at iteration 1: 1.0000\n",
      "Entropy and branch probabilities...\n",
      "Markov chain construction...\n",
      "Identification of terminal states...\n",
      "Computing fundamental matrix and absorption probabilities...\n",
      "Project results to all cells...\n",
      "[767]\n",
      "Determing nearest neighbor graph...\n",
      "Sampling and flocking waypoints...\n",
      "Time for determining waypoints: 0.0128289262453715 minutes\n",
      "Determining pseudotime...\n",
      "Shortest path distances using 30-nearest neighbor graph...\n",
      "Time for shortest paths: 0.11922755638758341 minutes\n",
      "Iteratively refining the pseudotime...\n",
      "Correlation at iteration 1: 0.9999\n",
      "Entropy and branch probabilities...\n",
      "Markov chain construction...\n",
      "Identification of terminal states...\n",
      "Computing fundamental matrix and absorption probabilities...\n",
      "Project results to all cells...\n"
     ]
    }
   ],
   "source": [
    "which = lambda lst:list(np.where(lst)[0])\n",
    "while True:\n",
    "    startcell = random.sample(which(adatasub.obs[\"leiden_scvi_genotype_E001_LMT_hormones\"] == \"8\"), 1)\n",
    "    print(startcell)\n",
    "    imp.reload(lpy)\n",
    "    res = lpy.runPalantir(adatasub, adatasub.obs_names[startcell], doinspect=False)\n",
    "    if (res.branch_probs.shape[1] == 2): break"
   ]
  },
  {
   "cell_type": "code",
   "execution_count": 62,
   "metadata": {},
   "outputs": [
    {
     "data": {
      "text/html": [
       "<div>\n",
       "<style scoped>\n",
       "    .dataframe tbody tr th:only-of-type {\n",
       "        vertical-align: middle;\n",
       "    }\n",
       "\n",
       "    .dataframe tbody tr th {\n",
       "        vertical-align: top;\n",
       "    }\n",
       "\n",
       "    .dataframe thead th {\n",
       "        text-align: right;\n",
       "    }\n",
       "</style>\n",
       "<table border=\"1\" class=\"dataframe\">\n",
       "  <thead>\n",
       "    <tr style=\"text-align: right;\">\n",
       "      <th></th>\n",
       "      <th>organoids7090732_GAGTCCGAGAGCTATA</th>\n",
       "      <th>organoids7090732_GGGCACTCAATCGAAA</th>\n",
       "    </tr>\n",
       "  </thead>\n",
       "  <tbody>\n",
       "    <tr>\n",
       "      <th>organoids7090723_CATCCACAGCAGCGTA</th>\n",
       "      <td>0.944930</td>\n",
       "      <td>0.055070</td>\n",
       "    </tr>\n",
       "    <tr>\n",
       "      <th>organoids7090723_CTAACTTGTGGTTTCA</th>\n",
       "      <td>0.300472</td>\n",
       "      <td>0.699528</td>\n",
       "    </tr>\n",
       "    <tr>\n",
       "      <th>organoids7090723_CTACATTCAGACTCGC</th>\n",
       "      <td>0.264681</td>\n",
       "      <td>0.735319</td>\n",
       "    </tr>\n",
       "    <tr>\n",
       "      <th>organoids7090723_CTGGTCTCACCGTTGG</th>\n",
       "      <td>0.999522</td>\n",
       "      <td>0.000000</td>\n",
       "    </tr>\n",
       "    <tr>\n",
       "      <th>organoids7090723_GCGCGATAGCTGCAAG</th>\n",
       "      <td>0.999524</td>\n",
       "      <td>0.000000</td>\n",
       "    </tr>\n",
       "    <tr>\n",
       "      <th>...</th>\n",
       "      <td>...</td>\n",
       "      <td>...</td>\n",
       "    </tr>\n",
       "    <tr>\n",
       "      <th>organoids7090732_TTTGGTTTCTACTATC</th>\n",
       "      <td>0.999576</td>\n",
       "      <td>0.000000</td>\n",
       "    </tr>\n",
       "    <tr>\n",
       "      <th>organoids7090732_TTTGTCAAGTTACCCA</th>\n",
       "      <td>0.046820</td>\n",
       "      <td>0.953180</td>\n",
       "    </tr>\n",
       "    <tr>\n",
       "      <th>organoids7090732_TTTGTCACAATGCCAT</th>\n",
       "      <td>0.040513</td>\n",
       "      <td>0.959487</td>\n",
       "    </tr>\n",
       "    <tr>\n",
       "      <th>organoids7090732_TTTGTCAGTACCCAAT</th>\n",
       "      <td>0.999984</td>\n",
       "      <td>0.000000</td>\n",
       "    </tr>\n",
       "    <tr>\n",
       "      <th>organoids7090732_TTTGTCAGTGCAGTAG</th>\n",
       "      <td>0.330396</td>\n",
       "      <td>0.669604</td>\n",
       "    </tr>\n",
       "  </tbody>\n",
       "</table>\n",
       "<p>11143 rows × 2 columns</p>\n",
       "</div>"
      ],
      "text/plain": [
       "                                   organoids7090732_GAGTCCGAGAGCTATA  \\\n",
       "organoids7090723_CATCCACAGCAGCGTA                           0.944930   \n",
       "organoids7090723_CTAACTTGTGGTTTCA                           0.300472   \n",
       "organoids7090723_CTACATTCAGACTCGC                           0.264681   \n",
       "organoids7090723_CTGGTCTCACCGTTGG                           0.999522   \n",
       "organoids7090723_GCGCGATAGCTGCAAG                           0.999524   \n",
       "...                                                              ...   \n",
       "organoids7090732_TTTGGTTTCTACTATC                           0.999576   \n",
       "organoids7090732_TTTGTCAAGTTACCCA                           0.046820   \n",
       "organoids7090732_TTTGTCACAATGCCAT                           0.040513   \n",
       "organoids7090732_TTTGTCAGTACCCAAT                           0.999984   \n",
       "organoids7090732_TTTGTCAGTGCAGTAG                           0.330396   \n",
       "\n",
       "                                   organoids7090732_GGGCACTCAATCGAAA  \n",
       "organoids7090723_CATCCACAGCAGCGTA                           0.055070  \n",
       "organoids7090723_CTAACTTGTGGTTTCA                           0.699528  \n",
       "organoids7090723_CTACATTCAGACTCGC                           0.735319  \n",
       "organoids7090723_CTGGTCTCACCGTTGG                           0.000000  \n",
       "organoids7090723_GCGCGATAGCTGCAAG                           0.000000  \n",
       "...                                                              ...  \n",
       "organoids7090732_TTTGGTTTCTACTATC                           0.000000  \n",
       "organoids7090732_TTTGTCAAGTTACCCA                           0.953180  \n",
       "organoids7090732_TTTGTCACAATGCCAT                           0.959487  \n",
       "organoids7090732_TTTGTCAGTACCCAAT                           0.000000  \n",
       "organoids7090732_TTTGTCAGTGCAGTAG                           0.669604  \n",
       "\n",
       "[11143 rows x 2 columns]"
      ]
     },
     "execution_count": 62,
     "metadata": {},
     "output_type": "execute_result"
    }
   ],
   "source": [
    "res.branch_probs"
   ]
  },
  {
   "cell_type": "code",
   "execution_count": 63,
   "metadata": {},
   "outputs": [
    {
     "name": "stdout",
     "output_type": "stream",
     "text": [
      "WARNING: saving figure to file figures/umapcolor.pdf\n"
     ]
    }
   ],
   "source": [
    "adata.obs[\"pseudotime\"] = res.pseudotime\n",
    "adata.obs[\"entropy\"] = res.entropy\n",
    "\n",
    "adata.obs[\"prob1\"] = res.branch_probs[res.branch_probs.keys()[0]]\n",
    "adata.obs[\"prob2\"] = res.branch_probs[res.branch_probs.keys()[1]]\n",
    "#del adata.obs[\"prob3\"] # = res.branch_probs[res.branch_probs.keys()[2]]\n",
    "sc.pl.umap(adata, color=[\"pseudotime\", \"entropy\", \"prob1\", \"prob2\"], save= \"color.pdf\", color_map = \"viridis\",size=10)"
   ]
  },
  {
   "cell_type": "code",
   "execution_count": 64,
   "metadata": {},
   "outputs": [
    {
     "data": {
      "text/plain": [
       "Index(['souporcell', 'demultiplexed', 'sample_names', 'log2p1_count',\n",
       "       'percent_mito', 'n_genes', 'batch', 'Lane', 'Days', 'Hormones',\n",
       "       'Inhibitor', 'IsClonal', 'scrublet_pred', 'scrublet_local_pred',\n",
       "       'scrublet_score', 'scrublet_cluster_score', 'filtered_cells',\n",
       "       'leiden_scvi_sampl_cc', 'leiden_scvi_genotype_bulkorg',\n",
       "       'leiden_scvi_nobatch_bulkorg', 'leiden_scvi_genotype_bulkorg_subsmpl',\n",
       "       'leiden_scvi_nobatch_bulkorg_subsmpl',\n",
       "       'leiden_scvi_genotype_bulkorg_subsmpl_renamed',\n",
       "       'leiden_scvi_scvi_genotype_E001', 'leidenres2_scvi_scvi_genotype_E001',\n",
       "       'leiden_scvi_scvi_genotype_noinhibit_B44clone',\n",
       "       'leidenres2_scvi_scvi_genotype_noinhibit_B44clone',\n",
       "       'leiden_scvi_scvi_genotype_noinhibit_clones',\n",
       "       'leidenres2_scvi_scvi_genotype_noinhibit_clones',\n",
       "       'leiden_scvi_scvi_genotype_E001_hormones',\n",
       "       'leidenres2_scvi_scvi_genotype_E001_hormones',\n",
       "       'leiden_scvi_genotype_bulkorg_hormones',\n",
       "       'leidenres2_scvi_genotype_bulkorg_hormones',\n",
       "       'leiden_scvi_scvi_genotype_E001_strictlyhormones',\n",
       "       'leidenres2_scvi_scvi_genotype_E001_strictlyhormones', 'S_score',\n",
       "       'G2M_score', 'phase', 'leiden_scvi_genotype_E001_LMT_hormones',\n",
       "       'leidenres2_scvi_genotype_LMT_E001_hormones',\n",
       "       'leiden_scvi_genotype_E001_LMT', 'leidenres2_scvi_genotype_E001_LMT',\n",
       "       'prob1', 'prob2', 'pseudotime', 'entropy'],\n",
       "      dtype='object')"
      ]
     },
     "execution_count": 64,
     "metadata": {},
     "output_type": "execute_result"
    }
   ],
   "source": [
    "adata.obs.columns"
   ]
  },
  {
   "cell_type": "code",
   "execution_count": 65,
   "metadata": {},
   "outputs": [],
   "source": [
    "adata.write_h5ad(\"N4-integrated_organoids.h5ad\")"
   ]
  },
  {
   "cell_type": "code",
   "execution_count": null,
   "metadata": {},
   "outputs": [],
   "source": []
  }
 ],
 "metadata": {
  "kernelspec": {
   "display_name": "Python 3",
   "language": "python",
   "name": "python3"
  },
  "language_info": {
   "codemirror_mode": {
    "name": "ipython",
    "version": 3
   },
   "file_extension": ".py",
   "mimetype": "text/x-python",
   "name": "python",
   "nbconvert_exporter": "python",
   "pygments_lexer": "ipython3",
   "version": "3.7.6"
  }
 },
 "nbformat": 4,
 "nbformat_minor": 4
}

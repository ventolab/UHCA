{
 "cells": [
  {
   "cell_type": "code",
   "execution_count": 1,
   "metadata": {},
   "outputs": [
    {
     "name": "stderr",
     "output_type": "stream",
     "text": [
      "/opt/conda/lib/python3.7/site-packages/scvi/__init__.py:31: DeprecationWarning: scvi is deprecated, please uninstall scvi via `pip uninstall scvi` and install the new scvi-tools package at github.com/YosefLab/scvi-tools\n",
      "  warnings.warn(deprecation_msg, DeprecationWarning)\n"
     ]
    },
    {
     "name": "stdout",
     "output_type": "stream",
     "text": [
      "scanpy==1.6.0 anndata==0.7.5 umap==0.3.10 numpy==1.18.1 scipy==1.4.1 pandas==1.0.1 scikit-learn==0.22.2 statsmodels==0.11.1 python-igraph==0.8.0 louvain==0.6.1 leidenalg==0.7.0\n"
     ]
    }
   ],
   "source": [
    "# Curating organoids cell types and projection with in vivo data\n",
    "import anndata, numpy as np, pandas as pd, imp, lpy, scanpy as sc\n",
    "sc.logging.print_header()"
   ]
  },
  {
   "cell_type": "code",
   "execution_count": 2,
   "metadata": {},
   "outputs": [],
   "source": [
    "adata = anndata.read_h5ad(\"N2-integrated_organoids.h5ad\")\n",
    "adata_primary = anndata.read_h5ad(\"../primary/N5-integrated_donors.h5ad\")"
   ]
  },
  {
   "cell_type": "code",
   "execution_count": 3,
   "metadata": {},
   "outputs": [
    {
     "name": "stdout",
     "output_type": "stream",
     "text": [
      "\u001b[35;46;1mRename classes in list\u001b[0m\u001b[34m\n",
      "def applyFactorRename(input, dico, doinspect = False):\n",
      "    if doinspect is True: print(\"\\033[35;46;1mRename classes in list\\033[0m\\033[34m\"); print(inspect.getsource(applyFactorRename));\n",
      "    import numpy as np\n",
      "    tmp = np.array(input, dtype=object)\n",
      "    out = tmp.copy()\n",
      "    for k,x in dico.items():\n",
      "        if isinstance(k, tuple):\n",
      "            for l in k:\n",
      "                out[tmp == l] = x\n",
      "        else:\n",
      "            out[tmp == k] = x\n",
      "    leftover_categories = set(out)\n",
      "    leftover_categories = leftover_categories.difference(set(dico.values()))\n",
      "    categories = list(dico.values())\n",
      "    categories = categories + list(leftover_categories)\n",
      "    return(pd.Categorical(out, categories, ordered=True))\n",
      "\n"
     ]
    },
    {
     "data": {
      "text/plain": [
       "filtered            180624\n",
       "No Hormone            1456\n",
       "No Hormone MKI67       461\n",
       "Secretory              412\n",
       "Estrogen               268\n",
       "Estrogen MKI67         174\n",
       "Ciliated 2              70\n",
       "Ciliated 1              64\n",
       "Name: leiden_scvi_genotype_bulkorg_subsmpl_renamed, dtype: int64"
      ]
     },
     "execution_count": 3,
     "metadata": {},
     "output_type": "execute_result"
    }
   ],
   "source": [
    "adata.obs[\"leiden_scvi_genotype_bulkorg_subsmpl_renamed\"] =  lpy.applyFactorRename(adata.obs[\"leiden_scvi_genotype_bulkorg_subsmpl\"],{\n",
    "    tuple([\"0\",\"8\",\"5\",\"3\",\"6\"]): \"No Hormone\",\n",
    "    tuple([\"9\",\"2\"]) : \"No Hormone MKI67\",\n",
    "    \"7\" : \"Estrogen MKI67\", \"4\" : \"Estrogen\", \n",
    "    \"11\" : \"Ciliated 1\", \"10\": \"Ciliated 2\", \"1\" : \"Secretory\"\n",
    "    }, doinspect=True)\n",
    "adata.obs[\"leiden_scvi_genotype_bulkorg_subsmpl_renamed\"].value_counts()"
   ]
  },
  {
   "cell_type": "code",
   "execution_count": 4,
   "metadata": {},
   "outputs": [
    {
     "name": "stdout",
     "output_type": "stream",
     "text": [
      "\u001b[35;46;1mRename classes in list\u001b[0m\u001b[34m\n",
      "def applyFactorRename(input, dico, doinspect = False):\n",
      "    if doinspect is True: print(\"\\033[35;46;1mRename classes in list\\033[0m\\033[34m\"); print(inspect.getsource(applyFactorRename));\n",
      "    import numpy as np\n",
      "    tmp = np.array(input, dtype=object)\n",
      "    out = tmp.copy()\n",
      "    for k,x in dico.items():\n",
      "        if isinstance(k, tuple):\n",
      "            for l in k:\n",
      "                out[tmp == l] = x\n",
      "        else:\n",
      "            out[tmp == k] = x\n",
      "    leftover_categories = set(out)\n",
      "    leftover_categories = leftover_categories.difference(set(dico.values()))\n",
      "    categories = list(dico.values())\n",
      "    categories = categories + list(leftover_categories)\n",
      "    return(pd.Categorical(out, categories, ordered=True))\n",
      "\n"
     ]
    },
    {
     "data": {
      "text/plain": [
       "filtered            180624\n",
       "No Hormone            1391\n",
       "No Hormone MKI67       575\n",
       "Secretory              422\n",
       "Estrogen               401\n",
       "Ciliated               116\n",
       "Name: nobatch_bulkorg_subsmpl, dtype: int64"
      ]
     },
     "execution_count": 4,
     "metadata": {},
     "output_type": "execute_result"
    }
   ],
   "source": [
    "adata.obs[\"nobatch_bulkorg_subsmpl\"] =  lpy.applyFactorRename(adata.obs[\"leiden_scvi_nobatch_bulkorg_subsmpl\"],{\n",
    "    tuple([\"0\",\"5\",\"3\",\"6\"]): \"No Hormone\",   \n",
    "    \"4\" : \"Estrogen\", \n",
    "    \"8\" : \"Ciliated\",\n",
    "    \"2\" : \"Secretory\",\n",
    "    tuple([\"7\", \"1\"]) : \"No Hormone MKI67\",\n",
    "    }, doinspect=True)\n",
    "adata.obs[\"nobatch_bulkorg_subsmpl\"].value_counts()"
   ]
  },
  {
   "cell_type": "code",
   "execution_count": 5,
   "metadata": {},
   "outputs": [
    {
     "data": {
      "text/plain": [
       "filtered              159814\n",
       "No Hormone cycling      5961\n",
       "Lumenal 1               4390\n",
       "No Hormone              3658\n",
       "Estrogen                3505\n",
       "Ciliated                2287\n",
       "Preciliated             1806\n",
       "Other                   1350\n",
       "Lumenal 3                379\n",
       "Lumenal 2                219\n",
       "Low Qc                   160\n",
       "Name: E001_celltypes, dtype: int64"
      ]
     },
     "execution_count": 5,
     "metadata": {},
     "output_type": "execute_result"
    }
   ],
   "source": [
    "adata.obs[\"E001_celltypes\"] =  lpy.applyFactorRename(adata.obs[\"leiden_scvi_scvi_genotype_E001_hormones\"],{\n",
    "    tuple([\"4\", \"3\"]): \"No Hormone cycling\",\n",
    "    tuple([\"1\"]): \"No Hormone\",\n",
    "    tuple([\"2\"]): \"Estrogen\",\n",
    "    tuple([\"6\"]): \"Preciliated\",\n",
    "    tuple([\"5\"]): \"Ciliated\",\n",
    "    tuple([\"0\"]) : \"Lumenal 1\",\n",
    "    tuple([\"8\"]) : \"Lumenal 2\",\n",
    "    tuple([\"9\"]) : \"Lumenal 3\",\n",
    "    tuple([\"7\"]) : \"Other\",\n",
    "    tuple([\"10\"]) : \"Low Qc\"\n",
    "    })\n",
    "adata.obs[\"E001_celltypes\"].value_counts()"
   ]
  },
  {
   "cell_type": "code",
   "execution_count": 6,
   "metadata": {},
   "outputs": [
    {
     "data": {
      "text/plain": [
       "filtered              181824\n",
       "Lumenal                  435\n",
       "No Hormone cycling       379\n",
       "Estrogen cycling         267\n",
       "Estrogen                 258\n",
       "No Hormone               239\n",
       "Ciliated                  66\n",
       "Preciliated               61\n",
       "Name: bulkorg_celltypes, dtype: int64"
      ]
     },
     "execution_count": 6,
     "metadata": {},
     "output_type": "execute_result"
    }
   ],
   "source": [
    "adata.obs[\"bulkorg_celltypes\"] =  lpy.applyFactorRename(adata.obs[\"leiden_scvi_genotype_bulkorg_hormones\"],{\n",
    "    tuple([\"3\"]): \"No Hormone\",\n",
    "    tuple([\"5\", \"2\"]): \"No Hormone cycling\",\n",
    "    tuple([\"1\"]): \"Estrogen\",\n",
    "    tuple([\"4\", \"6\"]): \"Estrogen cycling\",\n",
    "    tuple([\"9\"]): \"Preciliated\",\n",
    "    tuple([\"8\"]): \"Ciliated\",\n",
    "    tuple([\"0\", \"7\"]) : \"Lumenal\"\n",
    "    })\n",
    "adata.obs[\"bulkorg_celltypes\"].value_counts()"
   ]
  },
  {
   "cell_type": "code",
   "execution_count": 7,
   "metadata": {},
   "outputs": [
    {
     "data": {
      "text/plain": [
       "filtered       171289\n",
       "SOX9             3786\n",
       "Lumenal          3692\n",
       "Ciliated         1995\n",
       "Preciliated      1761\n",
       "PreLumenal        474\n",
       "8                 358\n",
       "9                 174\n",
       "Name: E001_celltypes_strictlyhormones, dtype: int64"
      ]
     },
     "execution_count": 7,
     "metadata": {},
     "output_type": "execute_result"
    }
   ],
   "source": [
    "adata.obs[\"E001_celltypes_strictlyhormones\"] =  lpy.applyFactorRename(adata.obs[\"leiden_scvi_scvi_genotype_E001_strictlyhormones\"],{\n",
    "    tuple([\"4\", \"6\"]): \"Preciliated\",\n",
    "    tuple([\"2\"]): \"Ciliated\",\n",
    "    tuple([\"7\"]): \"PreLumenal\",\n",
    "    tuple([\"0\", \"5\"]): \"Lumenal\",\n",
    "    tuple([\"1\", \"3\"]): \"SOX9\",\n",
    "    })\n",
    "adata.obs[\"E001_celltypes_strictlyhormones\"].value_counts()"
   ]
  },
  {
   "cell_type": "code",
   "execution_count": 8,
   "metadata": {},
   "outputs": [
    {
     "data": {
      "text/plain": [
       "filtered                146208\n",
       "No hormones Maturing     10120\n",
       "No hormones MKI67         7199\n",
       "No hormones               5844\n",
       "Lumenal                   4182\n",
       "Ciliated                  2450\n",
       "Lumenal Maturing          2385\n",
       "Lumenal MKI67             2252\n",
       "Ciliated Maturing         1977\n",
       "18                         587\n",
       "21                         255\n",
       "22                          70\n",
       "Name: E001_celltypes, dtype: int64"
      ]
     },
     "execution_count": 8,
     "metadata": {},
     "output_type": "execute_result"
    }
   ],
   "source": [
    "adata.obs[\"E001_celltypes\"] =lpy.applyFactorRename(adata.obs[\"leidenres2_scvi_scvi_genotype_E001\"],{\n",
    "    tuple([\"3\", \"14\",\"16\", \"11\"]): \"No hormones\",\n",
    "    tuple([\"9\",\"7\", \"10\", \"15\"]): \"No hormones MKI67\",\n",
    "    tuple([\"2\", \"20\",\"1\", \"8\", \"13\", \"19\"]): \"No hormones Maturing\",\n",
    "    tuple([\"17\", \"12\"]): \"Ciliated Maturing\",\n",
    "    \"4\"  : \"Ciliated\",\n",
    "    \"5\" : \"Lumenal Maturing\",\n",
    "    \"6\" : \"Lumenal MKI67\",\n",
    "    \"0\" : \"Lumenal\"\n",
    "})\n",
    "adata.obs[\"E001_celltypes\"].value_counts()"
   ]
  },
  {
   "cell_type": "code",
   "execution_count": 25,
   "metadata": {},
   "outputs": [
    {
     "name": "stderr",
     "output_type": "stream",
     "text": [
      "... storing 'logist_proj_E001_celltypes' as categorical\n"
     ]
    }
   ],
   "source": [
    "# No batch correction, no subsampling\n",
    "adata.write_h5ad(\"N3-integrated_organoids.h5ad\")"
   ]
  },
  {
   "cell_type": "code",
   "execution_count": null,
   "metadata": {},
   "outputs": [],
   "source": []
  }
 ],
 "metadata": {
  "kernelspec": {
   "display_name": "Python 3",
   "language": "python",
   "name": "python3"
  },
  "language_info": {
   "codemirror_mode": {
    "name": "ipython",
    "version": 3
   },
   "file_extension": ".py",
   "mimetype": "text/x-python",
   "name": "python",
   "nbconvert_exporter": "python",
   "pygments_lexer": "ipython3",
   "version": "3.7.6"
  }
 },
 "nbformat": 4,
 "nbformat_minor": 4
}

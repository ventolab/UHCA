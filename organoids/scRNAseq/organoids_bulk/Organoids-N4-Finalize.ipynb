{
 "cells": [
  {
   "cell_type": "code",
   "execution_count": 1,
   "metadata": {},
   "outputs": [
    {
     "name": "stderr",
     "output_type": "stream",
     "text": [
      "/opt/conda/lib/python3.7/site-packages/scvi/__init__.py:31: DeprecationWarning: scvi is deprecated, please uninstall scvi via `pip uninstall scvi` and install the new scvi-tools package at github.com/YosefLab/scvi-tools\n",
      "  warnings.warn(deprecation_msg, DeprecationWarning)\n"
     ]
    },
    {
     "name": "stdout",
     "output_type": "stream",
     "text": [
      "scanpy==1.6.0 anndata==0.7.5 umap==0.3.10 numpy==1.18.1 scipy==1.5.4 pandas==1.0.1 scikit-learn==0.22.2 statsmodels==0.11.1 python-igraph==0.8.0 louvain==0.6.1 leidenalg==0.8.3\n"
     ]
    }
   ],
   "source": [
    "# Integration of biopsies and organ donors from 2 studies\n",
    "import anndata, numpy as np, pandas as pd, imp, lpy, scanpy as sc\n",
    "sc.logging.print_header()\n",
    "%load_ext rpy2.ipython\n",
    "%matplotlib inline"
   ]
  },
  {
   "cell_type": "code",
   "execution_count": 2,
   "metadata": {},
   "outputs": [],
   "source": [
    "adata = anndata.read_h5ad(\"N3-integrated_organoids.h5ad\")"
   ]
  },
  {
   "cell_type": "code",
   "execution_count": 3,
   "metadata": {},
   "outputs": [],
   "source": [
    "#Remove temporary annotation for cellxgene hosting\n",
    "adata.obsm['X_umap'] = adata.obsm['X_umap_bulkorg']\n",
    "adata.obsm['X_umap_without_inhibitors']  = adata.obsm['X_umap_bulkorg_noinhib']\n",
    "adata.obs['Celltype_without_inhibitors'] = adata.obs['bulkorg_noinhib']\n",
    "adata.obs['Celltype']  = adata.obs['bulkorg']\n",
    "adata.obs['CellCycle Phase']  = adata.obs['phase']\n",
    "\n",
    "adata.uns['Celltype_without_inhibitors_colors'] = adata.uns['bulkorg_noinhib_colors']\n",
    "adata.uns['Celltype_colors']  = adata.uns['bulkorg_colors']\n",
    "adata.uns['CellCycle Phase_colors']  = adata.uns['phase_colors']\n",
    "\n",
    "uns_toremove =  ['Binary Stage_colors',\n",
    " 'bulkorg', 'bulkorg_colors', 'bulkorg_hormnoinhib_colors', 'bulkorg_hormnoinhib_res2_colors',\n",
    " 'bulkorg_hormones_colors', 'bulkorg_noinhib_colors', 'bulkorg_strhormnoinhib_colors',\n",
    " 'cosine_logXformedproj_Binary Stage_colors', 'cosine_logXformedproj_subcluster_epithelial_balanced_broad_colors',\n",
    " 'cosine_logXformedproj_subcluster_epithelial_balanced_colors', 'cosine_proj_Binary Stage_colors',\n",
    " 'cosine_proj_subcluster_epithelial_balanced_broad_colors', 'cosine_proj_subcluster_epithelial_balanced_colors',\n",
    " 'demultiplexed_colors', 'logist_proj_subcluster_epithelial_balanced_colors',\n",
    " 'phase_colors', 'primary_epithelial_colors', 'projection_primary_epithelial_broad_colors',\n",
    " 'projection_primary_epithelial_colors', 'sample_names_colors']\n",
    "\n",
    "obs_toremove = ['souporcell', 'batch', 'Lane', 'scrublet_pred', 'scrublet_local_pred', 'phase',\n",
    "       'scrublet_score', 'scrublet_cluster_score', 'filtered_cells', 'S_score',\n",
    "       'G2M_score', 'leiden_noinhib', 'leidenres2_noinhib',\n",
    "       'leiden_bulkorg_noinhib', 'leidenres2_bulkorg_noinhib',\n",
    "       'leiden_bulkorg_hormones', 'leidenres2_bulkorg_hormones',\n",
    "       'leiden_bulkorg', 'leidenres2_bulkorg',\n",
    "       'leiden_samplecorr_bulkorg_hormones',\n",
    "       'leidenres2_samplecorr_bulkorg_hormones', 'leiden_samplecorr_bulkorg',\n",
    "       'leidenres2_samplecorr_bulkorg', 'bulkorg_hormones',\n",
    "       'cosine_proj_subcluster_epithelial_balanced',\n",
    "       'cosine_proj_subcluster_epithelial_balanced_distance',\n",
    "       'cosine_logXformedproj_subcluster_epithelial_balanced',\n",
    "       'cosine_logXformedproj_subcluster_epithelial_balanced_distance',\n",
    "       'primary_epithelial_probability', 'tmpindex',\n",
    "       'projection_primary_epithelial', 'projection_primary_epithelial_probability', 'leiden_bulksmpl',\n",
    "       'leiden_bulksmpl_hormones', 'leiden_bulksmpl_noinhib',\n",
    "       'leidenres2_bulksmpl', 'leidenres2_bulksmpl_hormones',\n",
    "       'leidenres2_bulksmpl_noinhib',\n",
    "       'cosine_proj_subcluster_epithelial_balanced_broad',\n",
    "       'cosine_proj_subcluster_epithelial_balanced_broad_distance',\n",
    "       'cosine_logXformedproj_subcluster_epithelial_balanced_broad',\n",
    "       'cosine_logXformedproj_subcluster_epithelial_balanced_broad_distance',\n",
    "       'projection_primary_epithelial_broad',\n",
    "       'projection_primary_epithelial_broad_probability',\n",
    "       'cosine_proj_subcluster_epithelial_balanced_broader',\n",
    "       'cosine_proj_subcluster_epithelial_balanced_broader_distance',\n",
    "       'cosine_logXformedproj_subcluster_epithelial_balanced_broader',\n",
    "       'cosine_logXformedproj_subcluster_epithelial_balanced_broader_distance',\n",
    "       'subcluster_epithelial_balanced_broader',\n",
    "       'subcluster_epithelial_balanced_broader_probability',\n",
    "       'cosine_proj_Binary Stage', 'cosine_proj_Binary Stage_distance',\n",
    "       'cosine_logXformedproj_Binary Stage',\n",
    "       'cosine_logXformedproj_Binary Stage_distance', 'Binary Stage',\n",
    "       'Binary Stage_probability', 'leiden_bulkorg_hormnoinhib',\n",
    "       'leidenres2_bulkorg_hormnoinhib', 'bulkorg_hormnoinhib',\n",
    "       'bulkorg_hormnoinhib_res2', 'leiden_bulkorg_strhormnoinhib',\n",
    "       'leidenres2_bulkorg_strhormnoinhib', 'bulkorg_strhormnoinhib',\n",
    "       'logist_proj_subcluster_epithelial_balanced_0.01',\n",
    "       'logist_proj_subcluster_epithelial_balanced_probability_0.01',\n",
    "       'bulkorg_noinhib', 'bulkorg']\n",
    "                                           \n",
    "obsm_toremove = ['X_cosproj_subcluster_epithelial_balanced',\n",
    " 'X_cosproj_subcluster_epithelial_balanced_broad', 'X_logistproj_subcluster_epithelial_balanced',\n",
    " 'X_logistproj_subcluster_epithelial_balanced_0.01', 'X_logistproj_subcluster_epithelial_balanced_broad',\n",
    " 'X_lxfcosproj_subcluster_epithelial_balanced', 'X_lxfcosproj_subcluster_epithelial_balanced_broad',\n",
    " 'X_umap_bulkorg_hormnoinhib', 'X_umap_bulkorg_hormones', 'X_umap_bulkorg', 'X_umap_bulkorg_noinhib',\n",
    " 'X_umap_bulkorg_strhormnoinhib', 'X_umap_bulksmpl', 'X_umap_bulksmpl_hormones', 'X_umap_bulksmpl_noinhib',\n",
    " 'X_umap_noinhib', 'X_umap_samplecorr_bulkorg', 'X_umap_samplecorr_bulkorg_hormones',\n",
    " 'cosproj_subcluster_epithelial_balanced', 'lxfcosproj_subcluster_epithelial_balanced',\n",
    " 'scvi_bulkorg', 'scvi_bulkorg_hormones', 'scvi_bulkorg_noinhib', 'scvi_noinhib',\n",
    " 'scvi_samplecorr_bulkorg', 'scvi_samplecorr_bulkorg_hormones', 'subcluster_epithelial_balanced_logist_0.01']\n",
    "\n",
    "# rename fibroblast\n",
    "# rename fibroblast\n",
    "\n",
    "for x in uns_toremove:\n",
    "    del adata.uns[x]\n",
    "for x in obs_toremove:\n",
    "    del adata.obs[x]\n",
    "for x in obsm_toremove:\n",
    "    del adata.obsm[x]"
   ]
  },
  {
   "cell_type": "code",
   "execution_count": 4,
   "metadata": {},
   "outputs": [],
   "source": [
    "adata = adata[ [x not in [\"filtered\"] for x in adata.obs[\"Celltype\"] ] ]\n",
    "adata.write_h5ad(\"Integrated_organoids.h5ad\")"
   ]
  },
  {
   "cell_type": "code",
   "execution_count": null,
   "metadata": {},
   "outputs": [],
   "source": []
  }
 ],
 "metadata": {
  "kernelspec": {
   "display_name": "Python 3",
   "language": "python",
   "name": "python3"
  },
  "language_info": {
   "codemirror_mode": {
    "name": "ipython",
    "version": 3
   },
   "file_extension": ".py",
   "mimetype": "text/x-python",
   "name": "python",
   "nbconvert_exporter": "python",
   "pygments_lexer": "ipython3",
   "version": "3.7.6"
  }
 },
 "nbformat": 4,
 "nbformat_minor": 4
}

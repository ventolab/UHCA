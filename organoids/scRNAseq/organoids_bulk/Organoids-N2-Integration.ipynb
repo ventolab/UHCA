{
 "cells": [
  {
   "cell_type": "code",
   "execution_count": 1,
   "metadata": {},
   "outputs": [
    {
     "name": "stdout",
     "output_type": "stream",
     "text": [
      "scanpy==1.5.1 anndata==0.7.4 umap==0.4.6 numpy==1.19.1 scipy==1.5.2 pandas==1.0.5 scikit-learn==0.23.2 statsmodels==0.11.1 python-igraph==0.8.2 louvain==0.6.1 leidenalg==0.8.1\n"
     ]
    }
   ],
   "source": [
    "# Integration of organoids within subsets\n",
    "import anndata, numpy as np, pandas as pd, imp, lpy, scanpy as sc\n",
    "sc.logging.print_versions()"
   ]
  },
  {
   "cell_type": "code",
   "execution_count": 2,
   "metadata": {},
   "outputs": [],
   "source": [
    "# Set some constants\n",
    "adata = anndata.read_h5ad(\"N1-integrated_organoids.h5ad\")"
   ]
  },
  {
   "cell_type": "code",
   "execution_count": 3,
   "metadata": {},
   "outputs": [
    {
     "name": "stdout",
     "output_type": "stream",
     "text": [
      "\u001b[35;46;1mPrepare Data for Scvi/TotalVi\u001b[0m\u001b[34m\n",
      "def scvi_prepare(anndatapath, field, cellfilter = None, nbgenes = 5000, genes_to_filter= None, use_ccfilter_prefix=None, citeseqkey = \"protein_expression\", use_raw_slot_instead =None, min_cell_threshold= 0, doinspect=False):\n",
      "    if doinspect is True: print(\"\\033[35;46;1mPrepare Data for Scvi/TotalVi\\033[0m\\033[34m\"); print(inspect.getsource(scvi_prepare));print(\"\\033[31;43;1mExecution:\\033[0m\")\n",
      "    if use_ccfilter_prefix is not None :\n",
      "        genes_to_filter = [use_ccfilter_prefix + x for x in [\"HMGB2\",\"CDK1\",\"NUSAP1\",\"UBE2C\",\"BIRC5\",\"TPX2\",\"TOP2A\",\"NDC80\",\"CKS2\",\"NUF2\",\"CKS1B\",\"MKI67\",\"TMPO\",\"CENPF\",\"TACC3\",\"FAM64A\",\"SMC4\",\"CCNB2\",\"CKAP2L\",\"CKAP2\",\"AURKB\",\"BUB1\",\"KIF11\",\"ANP32E\",\"TUBB4B\",\"GTSE1\",\"KIF20B\",\"HJURP\",\"CDCA3\",\"HN1\",\"CDC20\",\"TTK\",\"CDC25C\",\"KIF2C\",\"RANGAP1\",\"NCAPD2\",\"DLGAP5\",\"CDCA2\",\"CDCA8\",\"ECT2\",\"KIF23\",\"HMMR\",\"AURKA\",\"PSRC1\",\"ANLN\",\"LBR\",\"CKAP5\",\"CENPE\",\"CTCF\",\"NEK2\",\"G2E3\",\"GAS2L3\",\"CBX5\",\"CENPA\",\"MCM5\",\"PCNA\",\"TYMS\",\"FEN1\",\"MCM2\",\"MCM4\",\"RRM1\",\"UNG\",\"GINS2\",\"MCM6\",\"CDCA7\",\"DTL\",\"PRIM1\",\"UHRF1\",\"MLF1IP\",\"HELLS\",\"RFC2\",\"RPA2\",\"NASP\",\"RAD51AP1\",\"GMNN\",\"WDR76\",\"SLBP\",\"CCNE2\",\"UBR7\",\"POLD3\",\"MSH2\",\"ATAD2\",\"RAD51\",\"RRM2\",\"CDC45\",\"CDC6\",\"EXO1\",\"TIPIN\",\"DSCC1\",\"BLM\",\"CASP8AP2\",\"USP1\",\"CLSPN\",\"POLA1\",\"CHAF1B\",\"BRIP1\",\"E2F8\"]]\n",
      "    if (isinstance(anndatapath, str)): cite = anndata.read_h5ad(anndatapath)\n",
      "    else: cite = anndatapath\n",
      "    if use_raw_slot_instead is None: # default behavior, check for the existance of the raw slot\n",
      "        use_raw_slot_instead = cite.raw is not None\n",
      "    \n",
      "    split = splitAnnData(cite, field, entryfilter= cellfilter, getnames = True, use_raw_slot_instead= use_raw_slot_instead,min_cell_threshold=min_cell_threshold)\n",
      "    if genes_to_filter is not None:\n",
      "        for i in range(len(split[\"datalist\"])):\n",
      "            split[\"datalist\"][i] = split[\"datalist\"][i][:, [g not in genes_to_filter for g in split[\"datalist\"][i].var_names]]\n",
      "    \n",
      "    \n",
      "\n",
      "    dataset = GeneExpressionDataset()\n",
      "    if citeseqkey in cite.obsm.keys():\n",
      "        if citeseqkey is not \"protein_expression\":\n",
      "            for i in range(len(split[\"datalist\"])):\n",
      "                split[\"datalist\"][i].obsm[\"protein_expression\"] = split[\"datalist\"][i].obsm[citeseqkey]\n",
      "        dataset.populate_from_datasets([AnnDatasetFromAnnData(ad=s,cell_measurements_col_mappings={\"protein_expression\":\"protein_names\"})   for s in split[\"datalist\"] ])\n",
      "    else:\n",
      "        dataset.populate_from_datasets([AnnDatasetFromAnnData(ad=s)   for s in split[\"datalist\"] ])\n",
      "\n",
      "    if nbgenes != 0: # nbgenes == 0 is a flag for the default behavior, which is to include all the genes\n",
      "        dataset.subsample_genes(nbgenes)\n",
      "    return{\"dataset\":dataset , \"names\" : split[\"ordered\"]}\n",
      "\n",
      "\u001b[31;43;1mExecution:\u001b[0m\n",
      "[2020-11-26 13:10:17,530] INFO - scvi.dataset.dataset | Remapping batch_indices to [0,N]\n",
      "[2020-11-26 13:10:17,532] INFO - scvi.dataset.dataset | Remapping labels to [0,N]\n",
      "[2020-11-26 13:10:18,702] INFO - scvi.dataset.dataset | Computing the library size for the new data\n",
      "[2020-11-26 13:10:18,886] INFO - scvi.dataset.dataset | Downsampled from 14784 to 14784 cells\n",
      "[2020-11-26 13:10:19,491] INFO - scvi.dataset.dataset | Remapping batch_indices to [0,N]\n",
      "[2020-11-26 13:10:19,493] INFO - scvi.dataset.dataset | Remapping labels to [0,N]\n",
      "[2020-11-26 13:10:21,238] INFO - scvi.dataset.dataset | Computing the library size for the new data\n",
      "[2020-11-26 13:10:21,510] INFO - scvi.dataset.dataset | Downsampled from 20504 to 20504 cells\n",
      "[2020-11-26 13:10:22,105] INFO - scvi.dataset.dataset | Remapping batch_indices to [0,N]\n",
      "[2020-11-26 13:10:22,109] INFO - scvi.dataset.dataset | Remapping labels to [0,N]\n",
      "[2020-11-26 13:10:23,980] INFO - scvi.dataset.dataset | Computing the library size for the new data\n",
      "[2020-11-26 13:10:24,254] INFO - scvi.dataset.dataset | Downsampled from 16206 to 16206 cells\n",
      "[2020-11-26 13:10:24,927] INFO - scvi.dataset.dataset | Remapping batch_indices to [0,N]\n",
      "[2020-11-26 13:10:24,929] INFO - scvi.dataset.dataset | Remapping labels to [0,N]\n",
      "[2020-11-26 13:10:27,062] INFO - scvi.dataset.dataset | Computing the library size for the new data\n",
      "[2020-11-26 13:10:27,369] INFO - scvi.dataset.dataset | Downsampled from 20282 to 20282 cells\n",
      "[2020-11-26 13:10:28,066] INFO - scvi.dataset.dataset | Remapping batch_indices to [0,N]\n",
      "[2020-11-26 13:10:28,068] INFO - scvi.dataset.dataset | Remapping labels to [0,N]\n",
      "[2020-11-26 13:10:30,143] INFO - scvi.dataset.dataset | Computing the library size for the new data\n",
      "[2020-11-26 13:10:30,457] INFO - scvi.dataset.dataset | Downsampled from 23328 to 23328 cells\n",
      "[2020-11-26 13:10:30,466] INFO - scvi.dataset.dataset | Merging datasets. Input objects are modified in place.\n",
      "[2020-11-26 13:10:30,468] INFO - scvi.dataset.dataset | Gene names and cell measurement names are assumed to have a non-null intersection between datasets.\n",
      "[2020-11-26 13:10:30,634] INFO - scvi.dataset.dataset | Keeping 27254 genes\n",
      "[2020-11-26 13:10:32,101] INFO - scvi.dataset.dataset | Computing the library size for the new data\n",
      "[2020-11-26 13:10:32,291] INFO - scvi.dataset.dataset | Remapping batch_indices to [0,N]\n",
      "[2020-11-26 13:10:32,293] INFO - scvi.dataset.dataset | Remapping labels to [0,N]\n",
      "[2020-11-26 13:10:34,348] INFO - scvi.dataset.dataset | Computing the library size for the new data\n",
      "[2020-11-26 13:10:34,625] INFO - scvi.dataset.dataset | Remapping batch_indices to [0,N]\n",
      "[2020-11-26 13:10:34,628] INFO - scvi.dataset.dataset | Remapping labels to [0,N]\n",
      "[2020-11-26 13:10:36,817] INFO - scvi.dataset.dataset | Computing the library size for the new data\n",
      "[2020-11-26 13:10:37,096] INFO - scvi.dataset.dataset | Remapping batch_indices to [0,N]\n",
      "[2020-11-26 13:10:37,098] INFO - scvi.dataset.dataset | Remapping labels to [0,N]\n",
      "[2020-11-26 13:10:39,566] INFO - scvi.dataset.dataset | Computing the library size for the new data\n",
      "[2020-11-26 13:10:39,880] INFO - scvi.dataset.dataset | Remapping batch_indices to [0,N]\n",
      "[2020-11-26 13:10:39,884] INFO - scvi.dataset.dataset | Remapping labels to [0,N]\n",
      "[2020-11-26 13:10:42,266] INFO - scvi.dataset.dataset | Computing the library size for the new data\n",
      "[2020-11-26 13:10:42,586] INFO - scvi.dataset.dataset | Remapping batch_indices to [0,N]\n",
      "[2020-11-26 13:10:42,588] INFO - scvi.dataset.dataset | Remapping labels to [0,N]\n",
      "[2020-11-26 13:10:45,138] INFO - scvi.dataset.dataset | Remapping batch_indices to [0,N]\n",
      "[2020-11-26 13:10:45,145] INFO - scvi.dataset.dataset | Remapping labels to [0,N]\n",
      "[2020-11-26 13:10:46,521] INFO - scvi.dataset.dataset | extracting highly variable genes using seurat_v3 flavor\n",
      "[2020-11-26 13:11:03,987] INFO - scvi.dataset.dataset | Downsampling from 27254 to 5000 genes\n",
      "[2020-11-26 13:11:09,105] INFO - scvi.dataset.dataset | Computing the library size for the new data\n",
      "[2020-11-26 13:11:09,530] INFO - scvi.dataset.dataset | Filtering non-expressing cells.\n",
      "[2020-11-26 13:11:12,327] INFO - scvi.dataset.dataset | Computing the library size for the new data\n",
      "[2020-11-26 13:11:12,750] INFO - scvi.dataset.dataset | Downsampled from 95104 to 95104 cells\n"
     ]
    }
   ],
   "source": [
    "#make subset\n",
    "filter = ([ (x in [\"A\", \"D\", \"U1\", \"U2\", \"B44\"]) for x in adata.obs[\"demultiplexed\"] ])\n",
    "filter = filter & (adata.obs[\"filtered_cells\"] == False)\n",
    "filter = filter & (adata.obs[\"Inhibitor\"] == \"Ctrl\")\n",
    "filter = filter & (adata.obs[\"percent_mito\"] < 0.2)\n",
    "\n",
    "# Use genotypes for batch correction, no subsampling\n",
    "das = lpy.scvi_prepare(adata, \"demultiplexed\", filter, doinspect=True)"
   ]
  },
  {
   "cell_type": "code",
   "execution_count": 4,
   "metadata": {
    "scrolled": true
   },
   "outputs": [
    {
     "name": "stdout",
     "output_type": "stream",
     "text": [
      "\u001b[35;46;1mRun scvi\u001b[0m\u001b[34m\n",
      "def runSCVI(dataset, nbstep = 500, n_latent = 64, doinspect= False):\n",
      "    if doinspect is True: print(\"\\033[35;46;1mRun scvi\\033[0m\\033[34m\"); print(inspect.getsource(runSCVI));print(\"\\033[31;43;1mExecution:\\033[0m\")\n",
      "    vae = VAE(dataset.nb_genes, n_batch= dataset.n_batches, n_labels= dataset.n_labels, n_latent = n_latent)\n",
      "    trainer = UnsupervisedTrainer(vae, dataset, train_size=0.9, frequency=5, use_cuda=True)\n",
      "    trainer.train(n_epochs=nbstep)\n",
      "    full = trainer.create_posterior(trainer.model, dataset, indices=np.arange(len(dataset)))\n",
      "    return(full.sequential().get_latent()[0])\n",
      "\n",
      "\u001b[31;43;1mExecution:\u001b[0m\n",
      "[2020-11-26 13:11:31,951] INFO - scvi.inference.inference | KL warmup for 400 epochs\n"
     ]
    },
    {
     "data": {
      "application/vnd.jupyter.widget-view+json": {
       "model_id": "471697a3e0be40808d0f2d2a7a00af2e",
       "version_major": 2,
       "version_minor": 0
      },
      "text/plain": [
       "HBox(children=(FloatProgress(value=0.0, description='training', max=500.0, style=ProgressStyle(description_wid…"
      ]
     },
     "metadata": {},
     "output_type": "display_data"
    },
    {
     "name": "stdout",
     "output_type": "stream",
     "text": [
      "\n"
     ]
    }
   ],
   "source": [
    "# run scvi\n",
    "latent = lpy.runSCVI(das[\"dataset\"], doinspect=True)"
   ]
  },
  {
   "cell_type": "code",
   "execution_count": 5,
   "metadata": {},
   "outputs": [
    {
     "name": "stdout",
     "output_type": "stream",
     "text": [
      "\u001b[35;46;1mCompute Clusters and Reduces representations\u001b[0m\u001b[34m\n",
      "def insertLatent(adata, latent , latent_key= \"latent\", umap_key= \"X_umap\", tsne_key = \"X_tsne\", leiden_key = \"leiden\", rename_cluster_key= None,cellfilter = None, cellnames =None, leiden_resolution=1.0,doinspect=False):\n",
      "    if doinspect is True: print(\"\\033[35;46;1mCompute Clusters and Reduces representations\\033[0m\\033[34m\"); print(inspect.getsource(insertLatent));print(\"\\033[31;43;1mExecution:\\033[0m\")\n",
      "\n",
      "    if cellnames is None:\n",
      "        #order of full must match\n",
      "        assert latent.shape[0] == len(adata.obs_names),  \"cell names need for be provided if size of latent mismatches adata\"\n",
      "        map = range(len(adata.obs_names))\n",
      "        if latent_key is not None:\n",
      "            adata.obsm[latent_key] = latent\n",
      "    else:\n",
      "        print(\"defining permutation\")\n",
      "        dalist = list(adata.obs_names)\n",
      "        tmap = {}\n",
      "        for i in range(len(adata.obs_names)):\n",
      "            tmap.update( {adata.obs_names[i] : i})\n",
      "# for i in range(len(adata.obs_names))}\n",
      "        map = [tmap[s] for s in cellnames]\n",
      "        if latent_key is not None:\n",
      "            print(\"Inserting Latent coords\")\n",
      "            adata.obsm[latent_key] = np.zeros( (len(adata.obs_names), latent.shape[1]) )\n",
      "            for i in range(len(map)):\n",
      "                adata.obsm[latent_key][map[i],:] = latent[i,:]\n",
      "    \n",
      "    if umap_key is not None:\n",
      "        import umap.umap_ as umap\n",
      "        print(\"computing UMAP\")\n",
      "        tumap = umap.UMAP(spread=2).fit_transform(latent)\n",
      "        adata.obsm[umap_key] = np.zeros( ( len(adata.obs_names), 2 ) )\n",
      "\n",
      "        print(\"Inserting Umap coords\")\n",
      "        for i in range(len(map)):\n",
      "            adata.obsm[umap_key][map[i],:] = tumap[i,:]\n",
      "\n",
      "    if tsne_key is not None:\n",
      "        import scanpy as sc\n",
      "        print(\"computing Tsne\")\n",
      "        adata_latent = sc.AnnData(latent)\n",
      "\n",
      "        sc.tl.tsne(adata_latent, use_rep='X', n_jobs=8)\n",
      "        adata.obsm[tsne_key] = np.zeros( ( len(adata.obs_names), 2 ) )\n",
      "\n",
      "        print(\"Inserting Tsne coords\")\n",
      "        for i in range(len(map)):\n",
      "            adata.obsm[tsne_key][map[i],:] = adata_latent.obsm[\"X_tsne\"][i,:]\n",
      "\n",
      "    if leiden_key is not None:\n",
      "        import scanpy as sc\n",
      "        adata_latent = sc.AnnData(latent)\n",
      "        print(\"Finding clusters\")\n",
      "        sc.pp.neighbors(adata_latent, use_rep='X', n_neighbors=30, metric='minkowski')\n",
      "        sc.tl.leiden(adata_latent, resolution=leiden_resolution)\n",
      "        adata.obs[leiden_key] = \"filtered\"\n",
      "        #if rename_cluster_key is not None:\n",
      "        #    print(\"Renaming to do...\")\n",
      "        #    for i\n",
      "        #else\n",
      "        #    ctnames = range(200)\n",
      "        \n",
      "        print(\"Inserting Cluster Id\")\n",
      "        for i in range(len(map)):\n",
      "            adata.obs[leiden_key][map[i]] = adata_latent.obs[\"leiden\"][i]\n",
      "    return adata\n",
      "\n",
      "\u001b[31;43;1mExecution:\u001b[0m\n",
      "defining permutation\n",
      "Inserting Latent coords\n",
      "computing UMAP\n",
      "Inserting Umap coords\n",
      "Finding clusters\n",
      "Inserting Cluster Id\n"
     ]
    }
   ],
   "source": [
    "# store latent variable back in th object, and produce UMAP coordinates and leiden clusters \n",
    "adata = lpy.insertLatent(adata,latent, \"scvi_noinhib\", \"X_umap_noinhib\", None, \"leiden_noinhib\", cellnames = das[\"names\"], doinspect=True)"
   ]
  },
  {
   "cell_type": "code",
   "execution_count": 6,
   "metadata": {},
   "outputs": [
    {
     "name": "stdout",
     "output_type": "stream",
     "text": [
      "defining permutation\n",
      "Finding clusters\n",
      "Inserting Cluster Id\n"
     ]
    }
   ],
   "source": [
    "adata = lpy.insertLatent(adata,latent, None, None, None, \"leidenres2_noinhib\", cellnames = das[\"names\"], leiden_resolution=2)"
   ]
  },
  {
   "cell_type": "code",
   "execution_count": 7,
   "metadata": {},
   "outputs": [
    {
     "name": "stdout",
     "output_type": "stream",
     "text": [
      "[2020-11-27 11:25:35,068] INFO - scvi.dataset.dataset | Remapping batch_indices to [0,N]\n",
      "[2020-11-27 11:25:35,071] INFO - scvi.dataset.dataset | Remapping labels to [0,N]\n",
      "[2020-11-27 11:25:36,051] INFO - scvi.dataset.dataset | Computing the library size for the new data\n",
      "[2020-11-27 11:25:36,204] INFO - scvi.dataset.dataset | Downsampled from 16217 to 16217 cells\n",
      "[2020-11-27 11:25:36,476] INFO - scvi.dataset.dataset | Remapping batch_indices to [0,N]\n",
      "[2020-11-27 11:25:36,479] INFO - scvi.dataset.dataset | Remapping labels to [0,N]\n",
      "[2020-11-27 11:25:37,157] INFO - scvi.dataset.dataset | Computing the library size for the new data\n",
      "[2020-11-27 11:25:37,269] INFO - scvi.dataset.dataset | Downsampled from 12593 to 12593 cells\n",
      "[2020-11-27 11:25:37,275] INFO - scvi.dataset.anndataset | Dense size under 1Gb, casting to dense format (np.ndarray).\n",
      "[2020-11-27 11:25:38,339] INFO - scvi.dataset.dataset | Remapping batch_indices to [0,N]\n",
      "[2020-11-27 11:25:38,342] INFO - scvi.dataset.dataset | Remapping labels to [0,N]\n",
      "[2020-11-27 11:25:40,602] INFO - scvi.dataset.dataset | Computing the library size for the new data\n",
      "[2020-11-27 11:25:40,990] INFO - scvi.dataset.dataset | Downsampled from 8238 to 8238 cells\n",
      "[2020-11-27 11:25:41,015] INFO - scvi.dataset.dataset | Merging datasets. Input objects are modified in place.\n",
      "[2020-11-27 11:25:41,017] INFO - scvi.dataset.dataset | Gene names and cell measurement names are assumed to have a non-null intersection between datasets.\n",
      "[2020-11-27 11:25:41,080] INFO - scvi.dataset.dataset | Keeping 27254 genes\n",
      "[2020-11-27 11:25:42,154] INFO - scvi.dataset.dataset | Computing the library size for the new data\n",
      "[2020-11-27 11:25:42,313] INFO - scvi.dataset.dataset | Remapping batch_indices to [0,N]\n",
      "[2020-11-27 11:25:42,316] INFO - scvi.dataset.dataset | Remapping labels to [0,N]\n",
      "[2020-11-27 11:25:43,090] INFO - scvi.dataset.dataset | Computing the library size for the new data\n",
      "[2020-11-27 11:25:43,208] INFO - scvi.dataset.dataset | Remapping batch_indices to [0,N]\n",
      "[2020-11-27 11:25:43,211] INFO - scvi.dataset.dataset | Remapping labels to [0,N]\n",
      "[2020-11-27 11:25:45,557] INFO - scvi.dataset.dataset | Computing the library size for the new data\n",
      "[2020-11-27 11:25:46,576] INFO - scvi.dataset.dataset | Remapping batch_indices to [0,N]\n",
      "[2020-11-27 11:25:46,578] INFO - scvi.dataset.dataset | Remapping labels to [0,N]\n",
      "[2020-11-27 11:25:50,553] INFO - scvi.dataset.dataset | Remapping batch_indices to [0,N]\n",
      "[2020-11-27 11:25:50,557] INFO - scvi.dataset.dataset | Remapping labels to [0,N]\n",
      "[2020-11-27 11:25:50,903] INFO - scvi.dataset.dataset | extracting highly variable genes using seurat_v3 flavor\n",
      "[2020-11-27 11:25:56,495] INFO - scvi.dataset.dataset | Downsampling from 27254 to 5000 genes\n",
      "[2020-11-27 11:25:57,689] INFO - scvi.dataset.dataset | Computing the library size for the new data\n",
      "[2020-11-27 11:25:57,793] INFO - scvi.dataset.dataset | Filtering non-expressing cells.\n",
      "[2020-11-27 11:25:58,456] INFO - scvi.dataset.dataset | Computing the library size for the new data\n",
      "[2020-11-27 11:25:58,557] INFO - scvi.dataset.dataset | Downsampled from 37048 to 37048 cells\n",
      "[2020-11-27 11:26:09,447] INFO - scvi.inference.inference | KL warmup for 400 epochs\n"
     ]
    },
    {
     "data": {
      "application/vnd.jupyter.widget-view+json": {
       "model_id": "f25c9fa96e39407a911222b497bf7c9d",
       "version_major": 2,
       "version_minor": 0
      },
      "text/plain": [
       "HBox(children=(FloatProgress(value=0.0, description='training', max=500.0, style=ProgressStyle(description_wid…"
      ]
     },
     "metadata": {},
     "output_type": "display_data"
    },
    {
     "name": "stdout",
     "output_type": "stream",
     "text": [
      "\n",
      "defining permutation\n",
      "Inserting Latent coords\n",
      "computing UMAP\n",
      "Inserting Umap coords\n",
      "Finding clusters\n",
      "Inserting Cluster Id\n",
      "defining permutation\n",
      "Finding clusters\n",
      "Inserting Cluster Id\n"
     ]
    }
   ],
   "source": [
    "# Use genotypes for batch correction, subsamppling#\n",
    "filter = ([ (x in [\"U1\", \"U2\", \"B44\"]) for x in adata.obs[\"demultiplexed\"] ])\n",
    "filter = filter & (adata.obs[\"filtered_cells\"] == False)\n",
    "filter = filter & (adata.obs[\"Inhibitor\"] == \"Ctrl\")\n",
    "filter = filter & (adata.obs[\"Lane\"] == 13)\n",
    "filter = filter & (adata.obs[\"percent_mito\"] < 0.2)\n",
    "# Use genotypes for batch correction, no subsampling\n",
    "das = lpy.scvi_prepare(adata, \"demultiplexed\", filter)\n",
    "latent = lpy.runSCVI(das[\"dataset\"])\n",
    "adata = lpy.insertLatent(adata,latent,\"scvi_bulkorg_noinhib\", \"X_umap_bulkorg_noinhib\", None, \"leiden_bulkorg_noinhib\", cellnames = das[\"names\"])\n",
    "adata = lpy.insertLatent(adata,latent, None, None, None, \"leidenres2_bulkorg_noinhib\", cellnames = das[\"names\"], leiden_resolution=2)"
   ]
  },
  {
   "cell_type": "code",
   "execution_count": 8,
   "metadata": {},
   "outputs": [
    {
     "name": "stdout",
     "output_type": "stream",
     "text": [
      "[2020-11-27 11:53:26,251] INFO - scvi.dataset.dataset | Remapping batch_indices to [0,N]\n",
      "[2020-11-27 11:53:26,254] INFO - scvi.dataset.dataset | Remapping labels to [0,N]\n",
      "[2020-11-27 11:53:27,903] INFO - scvi.dataset.dataset | Computing the library size for the new data\n",
      "[2020-11-27 11:53:28,177] INFO - scvi.dataset.dataset | Downsampled from 32523 to 32523 cells\n",
      "[2020-11-27 11:53:28,602] INFO - scvi.dataset.dataset | Remapping batch_indices to [0,N]\n",
      "[2020-11-27 11:53:28,605] INFO - scvi.dataset.dataset | Remapping labels to [0,N]\n",
      "[2020-11-27 11:53:29,685] INFO - scvi.dataset.dataset | Computing the library size for the new data\n",
      "[2020-11-27 11:53:29,866] INFO - scvi.dataset.dataset | Downsampled from 22246 to 22246 cells\n",
      "[2020-11-27 11:53:30,185] INFO - scvi.dataset.dataset | Remapping batch_indices to [0,N]\n",
      "[2020-11-27 11:53:30,188] INFO - scvi.dataset.dataset | Remapping labels to [0,N]\n",
      "[2020-11-27 11:53:30,917] INFO - scvi.dataset.dataset | Computing the library size for the new data\n",
      "[2020-11-27 11:53:31,043] INFO - scvi.dataset.dataset | Downsampled from 18009 to 18009 cells\n",
      "[2020-11-27 11:53:31,051] INFO - scvi.dataset.dataset | Merging datasets. Input objects are modified in place.\n",
      "[2020-11-27 11:53:31,053] INFO - scvi.dataset.dataset | Gene names and cell measurement names are assumed to have a non-null intersection between datasets.\n",
      "[2020-11-27 11:53:31,113] INFO - scvi.dataset.dataset | Keeping 27254 genes\n",
      "[2020-11-27 11:53:32,973] INFO - scvi.dataset.dataset | Computing the library size for the new data\n",
      "[2020-11-27 11:53:33,258] INFO - scvi.dataset.dataset | Remapping batch_indices to [0,N]\n",
      "[2020-11-27 11:53:33,261] INFO - scvi.dataset.dataset | Remapping labels to [0,N]\n",
      "[2020-11-27 11:53:34,486] INFO - scvi.dataset.dataset | Computing the library size for the new data\n",
      "[2020-11-27 11:53:34,672] INFO - scvi.dataset.dataset | Remapping batch_indices to [0,N]\n",
      "[2020-11-27 11:53:34,674] INFO - scvi.dataset.dataset | Remapping labels to [0,N]\n",
      "[2020-11-27 11:53:35,509] INFO - scvi.dataset.dataset | Computing the library size for the new data\n",
      "[2020-11-27 11:53:35,642] INFO - scvi.dataset.dataset | Remapping batch_indices to [0,N]\n",
      "[2020-11-27 11:53:35,644] INFO - scvi.dataset.dataset | Remapping labels to [0,N]\n",
      "[2020-11-27 11:53:36,783] INFO - scvi.dataset.dataset | Remapping batch_indices to [0,N]\n",
      "[2020-11-27 11:53:36,788] INFO - scvi.dataset.dataset | Remapping labels to [0,N]\n",
      "[2020-11-27 11:53:37,402] INFO - scvi.dataset.dataset | extracting highly variable genes using seurat_v3 flavor\n",
      "[2020-11-27 11:53:44,139] INFO - scvi.dataset.dataset | Downsampling from 27254 to 5000 genes\n",
      "[2020-11-27 11:53:46,310] INFO - scvi.dataset.dataset | Computing the library size for the new data\n",
      "[2020-11-27 11:53:46,507] INFO - scvi.dataset.dataset | Filtering non-expressing cells.\n",
      "[2020-11-27 11:53:47,731] INFO - scvi.dataset.dataset | Computing the library size for the new data\n",
      "[2020-11-27 11:53:47,927] INFO - scvi.dataset.dataset | Downsampled from 72778 to 72778 cells\n",
      "[2020-11-27 11:53:50,404] INFO - scvi.inference.inference | KL warmup for 400 epochs\n"
     ]
    },
    {
     "data": {
      "application/vnd.jupyter.widget-view+json": {
       "model_id": "0b74e0a9004c41cba6fd2ae1be395c08",
       "version_major": 2,
       "version_minor": 0
      },
      "text/plain": [
       "HBox(children=(FloatProgress(value=0.0, description='training', max=500.0, style=ProgressStyle(description_wid…"
      ]
     },
     "metadata": {},
     "output_type": "display_data"
    },
    {
     "name": "stdout",
     "output_type": "stream",
     "text": [
      "\n",
      "defining permutation\n",
      "Inserting Latent coords\n",
      "computing UMAP\n",
      "Inserting Umap coords\n",
      "Finding clusters\n",
      "Inserting Cluster Id\n",
      "defining permutation\n",
      "Finding clusters\n",
      "Inserting Cluster Id\n"
     ]
    },
    {
     "name": "stderr",
     "output_type": "stream",
     "text": [
      "... storing 'leiden_bulkorg_noinhib' as categorical\n",
      "... storing 'leidenres2_bulkorg_noinhib' as categorical\n",
      "... storing 'leiden_bulkorg_hormones' as categorical\n",
      "... storing 'leidenres2_bulkorg_hormones' as categorical\n"
     ]
    }
   ],
   "source": [
    "filter = ([ (x in [\"U1\", \"U2\", \"B44\"]) for x in adata.obs[\"demultiplexed\"] ])\n",
    "filter = filter & (adata.obs[\"filtered_cells\"] == False)\n",
    "filter = filter & ((adata.obs[\"Hormones\"] != \"Ctrl\")|(adata.obs[\"Days\"] == 0))\n",
    "filter = filter & (adata.obs[\"percent_mito\"] < 0.2)\n",
    "filter = filter & (adata.obs[\"Lane\"] == 13)\n",
    "\n",
    "# Use genotypes for batch correction, no subsampling\n",
    "das = lpy.scvi_prepare(adata, \"demultiplexed\", filter)\n",
    "latent = lpy.runSCVI(das[\"dataset\"])\n",
    "adata = lpy.insertLatent(adata,latent,\"scvi_bulkorg_hormones\", \"X_umap_bulkorg_hormones\", None, \"leiden_bulkorg_hormones\", cellnames = das[\"names\"])\n",
    "adata = lpy.insertLatent(adata,latent, None, None, None, \"leidenres2_bulkorg_hormones\", cellnames = das[\"names\"],leiden_resolution=2)"
   ]
  },
  {
   "cell_type": "code",
   "execution_count": 9,
   "metadata": {},
   "outputs": [
    {
     "name": "stdout",
     "output_type": "stream",
     "text": [
      "[2020-11-27 12:48:39,357] INFO - scvi.dataset.dataset | Remapping batch_indices to [0,N]\n",
      "[2020-11-27 12:48:39,361] INFO - scvi.dataset.dataset | Remapping labels to [0,N]\n",
      "[2020-11-27 12:48:42,263] INFO - scvi.dataset.dataset | Computing the library size for the new data\n",
      "[2020-11-27 12:48:42,728] INFO - scvi.dataset.dataset | Downsampled from 54954 to 54954 cells\n",
      "[2020-11-27 12:48:43,393] INFO - scvi.dataset.dataset | Remapping batch_indices to [0,N]\n",
      "[2020-11-27 12:48:43,396] INFO - scvi.dataset.dataset | Remapping labels to [0,N]\n",
      "[2020-11-27 12:48:45,129] INFO - scvi.dataset.dataset | Computing the library size for the new data\n",
      "[2020-11-27 12:48:45,423] INFO - scvi.dataset.dataset | Downsampled from 35604 to 35604 cells\n",
      "[2020-11-27 12:48:45,915] INFO - scvi.dataset.dataset | Remapping batch_indices to [0,N]\n",
      "[2020-11-27 12:48:45,918] INFO - scvi.dataset.dataset | Remapping labels to [0,N]\n",
      "[2020-11-27 12:48:47,115] INFO - scvi.dataset.dataset | Computing the library size for the new data\n",
      "[2020-11-27 12:48:47,322] INFO - scvi.dataset.dataset | Downsampled from 28114 to 28114 cells\n",
      "[2020-11-27 12:48:47,329] INFO - scvi.dataset.dataset | Merging datasets. Input objects are modified in place.\n",
      "[2020-11-27 12:48:47,331] INFO - scvi.dataset.dataset | Gene names and cell measurement names are assumed to have a non-null intersection between datasets.\n",
      "[2020-11-27 12:48:47,391] INFO - scvi.dataset.dataset | Keeping 27254 genes\n",
      "[2020-11-27 12:48:50,559] INFO - scvi.dataset.dataset | Computing the library size for the new data\n",
      "[2020-11-27 12:48:51,032] INFO - scvi.dataset.dataset | Remapping batch_indices to [0,N]\n",
      "[2020-11-27 12:48:51,036] INFO - scvi.dataset.dataset | Remapping labels to [0,N]\n",
      "[2020-11-27 12:48:52,989] INFO - scvi.dataset.dataset | Computing the library size for the new data\n",
      "[2020-11-27 12:48:53,283] INFO - scvi.dataset.dataset | Remapping batch_indices to [0,N]\n",
      "[2020-11-27 12:48:53,286] INFO - scvi.dataset.dataset | Remapping labels to [0,N]\n",
      "[2020-11-27 12:48:54,650] INFO - scvi.dataset.dataset | Computing the library size for the new data\n",
      "[2020-11-27 12:48:54,860] INFO - scvi.dataset.dataset | Remapping batch_indices to [0,N]\n",
      "[2020-11-27 12:48:54,863] INFO - scvi.dataset.dataset | Remapping labels to [0,N]\n",
      "[2020-11-27 12:48:56,739] INFO - scvi.dataset.dataset | Remapping batch_indices to [0,N]\n",
      "[2020-11-27 12:48:56,745] INFO - scvi.dataset.dataset | Remapping labels to [0,N]\n",
      "[2020-11-27 12:48:57,764] INFO - scvi.dataset.dataset | extracting highly variable genes using seurat_v3 flavor\n",
      "[2020-11-27 12:49:09,369] INFO - scvi.dataset.dataset | Downsampling from 27254 to 5000 genes\n",
      "[2020-11-27 12:49:12,677] INFO - scvi.dataset.dataset | Computing the library size for the new data\n",
      "[2020-11-27 12:49:12,976] INFO - scvi.dataset.dataset | Filtering non-expressing cells.\n",
      "[2020-11-27 12:49:14,812] INFO - scvi.dataset.dataset | Computing the library size for the new data\n",
      "[2020-11-27 12:49:15,109] INFO - scvi.dataset.dataset | Downsampled from 118672 to 118672 cells\n",
      "[2020-11-27 12:49:19,195] INFO - scvi.inference.inference | KL warmup for 400 epochs\n"
     ]
    },
    {
     "data": {
      "application/vnd.jupyter.widget-view+json": {
       "model_id": "84f4148f67d2411eb59dbca73663278b",
       "version_major": 2,
       "version_minor": 0
      },
      "text/plain": [
       "HBox(children=(FloatProgress(value=0.0, description='training', max=500.0, style=ProgressStyle(description_wid…"
      ]
     },
     "metadata": {},
     "output_type": "display_data"
    },
    {
     "name": "stdout",
     "output_type": "stream",
     "text": [
      "\n",
      "defining permutation\n",
      "Inserting Latent coords\n",
      "computing UMAP\n",
      "Inserting Umap coords\n",
      "Finding clusters\n",
      "Inserting Cluster Id\n",
      "defining permutation\n",
      "Finding clusters\n",
      "Inserting Cluster Id\n"
     ]
    },
    {
     "name": "stderr",
     "output_type": "stream",
     "text": [
      "... storing 'leiden_bulkorg' as categorical\n",
      "... storing 'leidenres2_bulkorg' as categorical\n"
     ]
    }
   ],
   "source": [
    "filter = ([ (x in [\"U1\", \"U2\", \"B44\"]) for x in adata.obs[\"demultiplexed\"] ])\n",
    "filter = filter & (adata.obs[\"filtered_cells\"] == False)\n",
    "filter = filter & (adata.obs[\"percent_mito\"] < 0.2)\n",
    "filter = filter & (adata.obs[\"Lane\"] == 13)\n",
    "\n",
    "# Use genotypes for batch correction, no subsampling\n",
    "das = lpy.scvi_prepare(adata, \"demultiplexed\", filter)\n",
    "latent = lpy.runSCVI(das[\"dataset\"])\n",
    "adata = lpy.insertLatent(adata,latent,\"scvi_bulkorg\", \"X_umap_bulkorg\", None, \"leiden_bulkorg\", cellnames = das[\"names\"])\n",
    "adata = lpy.insertLatent(adata,latent, None, None, None, \"leidenres2_bulkorg\", cellnames = das[\"names\"],leiden_resolution=2)"
   ]
  },
  {
   "cell_type": "code",
   "execution_count": 10,
   "metadata": {},
   "outputs": [
    {
     "name": "stdout",
     "output_type": "stream",
     "text": [
      "[2020-11-27 14:55:23,384] INFO - scvi.dataset.anndataset | Dense size under 1Gb, casting to dense format (np.ndarray).\n",
      "[2020-11-27 14:55:24,134] INFO - scvi.dataset.dataset | Remapping batch_indices to [0,N]\n",
      "[2020-11-27 14:55:24,136] INFO - scvi.dataset.dataset | Remapping labels to [0,N]\n",
      "[2020-11-27 14:55:25,705] INFO - scvi.dataset.dataset | Computing the library size for the new data\n",
      "[2020-11-27 14:55:25,962] INFO - scvi.dataset.dataset | Downsampled from 5310 to 5310 cells\n",
      "[2020-11-27 14:55:25,997] INFO - scvi.dataset.anndataset | Dense size under 1Gb, casting to dense format (np.ndarray).\n",
      "[2020-11-27 14:55:27,005] INFO - scvi.dataset.dataset | Remapping batch_indices to [0,N]\n",
      "[2020-11-27 14:55:27,007] INFO - scvi.dataset.dataset | Remapping labels to [0,N]\n",
      "[2020-11-27 14:55:29,206] INFO - scvi.dataset.dataset | Computing the library size for the new data\n",
      "[2020-11-27 14:55:29,678] INFO - scvi.dataset.dataset | Downsampled from 7425 to 7425 cells\n",
      "[2020-11-27 14:55:29,725] INFO - scvi.dataset.anndataset | Dense size under 1Gb, casting to dense format (np.ndarray).\n",
      "[2020-11-27 14:55:30,856] INFO - scvi.dataset.dataset | Remapping batch_indices to [0,N]\n",
      "[2020-11-27 14:55:30,859] INFO - scvi.dataset.dataset | Remapping labels to [0,N]\n",
      "[2020-11-27 14:55:33,243] INFO - scvi.dataset.dataset | Computing the library size for the new data\n",
      "[2020-11-27 14:55:33,760] INFO - scvi.dataset.dataset | Downsampled from 7762 to 7762 cells\n",
      "[2020-11-27 14:55:34,133] INFO - scvi.dataset.dataset | Remapping batch_indices to [0,N]\n",
      "[2020-11-27 14:55:34,135] INFO - scvi.dataset.dataset | Remapping labels to [0,N]\n",
      "[2020-11-27 14:55:34,713] INFO - scvi.dataset.dataset | Computing the library size for the new data\n",
      "[2020-11-27 14:55:34,842] INFO - scvi.dataset.dataset | Downsampled from 10614 to 10614 cells\n",
      "[2020-11-27 14:55:34,847] INFO - scvi.dataset.anndataset | Dense size under 1Gb, casting to dense format (np.ndarray).\n",
      "[2020-11-27 14:55:35,898] INFO - scvi.dataset.dataset | Remapping batch_indices to [0,N]\n",
      "[2020-11-27 14:55:35,900] INFO - scvi.dataset.dataset | Remapping labels to [0,N]\n",
      "[2020-11-27 14:55:55,797] INFO - scvi.dataset.dataset | Computing the library size for the new data\n",
      "[2020-11-27 14:55:56,345] INFO - scvi.dataset.dataset | Downsampled from 7189 to 7189 cells\n",
      "[2020-11-27 14:55:56,481] INFO - scvi.dataset.anndataset | Dense size under 1Gb, casting to dense format (np.ndarray).\n",
      "[2020-11-27 14:55:57,729] INFO - scvi.dataset.dataset | Remapping batch_indices to [0,N]\n",
      "[2020-11-27 14:55:57,731] INFO - scvi.dataset.dataset | Remapping labels to [0,N]\n",
      "[2020-11-27 14:56:00,116] INFO - scvi.dataset.dataset | Computing the library size for the new data\n",
      "[2020-11-27 14:56:00,542] INFO - scvi.dataset.dataset | Downsampled from 9043 to 9043 cells\n",
      "[2020-11-27 14:56:00,601] INFO - scvi.dataset.anndataset | Dense size under 1Gb, casting to dense format (np.ndarray).\n",
      "[2020-11-27 14:56:01,575] INFO - scvi.dataset.dataset | Remapping batch_indices to [0,N]\n",
      "[2020-11-27 14:56:01,578] INFO - scvi.dataset.dataset | Remapping labels to [0,N]\n",
      "[2020-11-27 14:56:03,560] INFO - scvi.dataset.dataset | Computing the library size for the new data\n",
      "[2020-11-27 14:56:03,917] INFO - scvi.dataset.dataset | Downsampled from 7514 to 7514 cells\n",
      "[2020-11-27 14:56:03,960] INFO - scvi.dataset.anndataset | Dense size under 1Gb, casting to dense format (np.ndarray).\n",
      "[2020-11-27 14:56:04,522] INFO - scvi.dataset.dataset | Remapping batch_indices to [0,N]\n",
      "[2020-11-27 14:56:04,524] INFO - scvi.dataset.dataset | Remapping labels to [0,N]\n",
      "[2020-11-27 14:56:05,776] INFO - scvi.dataset.dataset | Computing the library size for the new data\n",
      "[2020-11-27 14:56:05,974] INFO - scvi.dataset.dataset | Downsampled from 4213 to 4213 cells\n",
      "[2020-11-27 14:56:06,000] INFO - scvi.dataset.anndataset | Dense size under 1Gb, casting to dense format (np.ndarray).\n",
      "[2020-11-27 14:56:06,833] INFO - scvi.dataset.dataset | Remapping batch_indices to [0,N]\n",
      "[2020-11-27 14:56:06,835] INFO - scvi.dataset.dataset | Remapping labels to [0,N]\n",
      "[2020-11-27 14:56:08,625] INFO - scvi.dataset.dataset | Computing the library size for the new data\n",
      "[2020-11-27 14:56:08,921] INFO - scvi.dataset.dataset | Downsampled from 6278 to 6278 cells\n",
      "[2020-11-27 14:56:08,958] INFO - scvi.dataset.anndataset | Dense size under 1Gb, casting to dense format (np.ndarray).\n",
      "[2020-11-27 14:56:09,920] INFO - scvi.dataset.dataset | Remapping batch_indices to [0,N]\n",
      "[2020-11-27 14:56:09,922] INFO - scvi.dataset.dataset | Remapping labels to [0,N]\n",
      "[2020-11-27 14:56:11,888] INFO - scvi.dataset.dataset | Computing the library size for the new data\n",
      "[2020-11-27 14:56:12,236] INFO - scvi.dataset.dataset | Downsampled from 7430 to 7430 cells\n",
      "[2020-11-27 14:56:12,277] INFO - scvi.dataset.dataset | Merging datasets. Input objects are modified in place.\n",
      "[2020-11-27 14:56:12,279] INFO - scvi.dataset.dataset | Gene names and cell measurement names are assumed to have a non-null intersection between datasets.\n",
      "[2020-11-27 14:56:12,500] INFO - scvi.dataset.dataset | Keeping 27254 genes\n",
      "[2020-11-27 14:56:14,108] INFO - scvi.dataset.dataset | Computing the library size for the new data\n",
      "[2020-11-27 14:56:14,762] INFO - scvi.dataset.dataset | Remapping batch_indices to [0,N]\n",
      "[2020-11-27 14:56:14,764] INFO - scvi.dataset.dataset | Remapping labels to [0,N]\n",
      "[2020-11-27 14:56:16,838] INFO - scvi.dataset.dataset | Computing the library size for the new data\n",
      "[2020-11-27 14:56:17,722] INFO - scvi.dataset.dataset | Remapping batch_indices to [0,N]\n",
      "[2020-11-27 14:56:17,725] INFO - scvi.dataset.dataset | Remapping labels to [0,N]\n",
      "[2020-11-27 14:56:20,002] INFO - scvi.dataset.dataset | Computing the library size for the new data\n",
      "[2020-11-27 14:56:20,966] INFO - scvi.dataset.dataset | Remapping batch_indices to [0,N]\n",
      "[2020-11-27 14:56:20,968] INFO - scvi.dataset.dataset | Remapping labels to [0,N]\n",
      "[2020-11-27 14:56:21,663] INFO - scvi.dataset.dataset | Computing the library size for the new data\n",
      "[2020-11-27 14:56:21,849] INFO - scvi.dataset.dataset | Remapping batch_indices to [0,N]\n",
      "[2020-11-27 14:56:21,852] INFO - scvi.dataset.dataset | Remapping labels to [0,N]\n",
      "[2020-11-27 14:56:23,923] INFO - scvi.dataset.dataset | Computing the library size for the new data\n",
      "[2020-11-27 14:56:24,792] INFO - scvi.dataset.dataset | Remapping batch_indices to [0,N]\n",
      "[2020-11-27 14:56:24,794] INFO - scvi.dataset.dataset | Remapping labels to [0,N]\n",
      "[2020-11-27 14:56:27,275] INFO - scvi.dataset.dataset | Computing the library size for the new data\n",
      "[2020-11-27 14:56:28,354] INFO - scvi.dataset.dataset | Remapping batch_indices to [0,N]\n",
      "[2020-11-27 14:56:28,356] INFO - scvi.dataset.dataset | Remapping labels to [0,N]\n",
      "[2020-11-27 14:56:30,432] INFO - scvi.dataset.dataset | Computing the library size for the new data\n",
      "[2020-11-27 14:56:31,349] INFO - scvi.dataset.dataset | Remapping batch_indices to [0,N]\n",
      "[2020-11-27 14:56:31,352] INFO - scvi.dataset.dataset | Remapping labels to [0,N]\n",
      "[2020-11-27 14:56:32,629] INFO - scvi.dataset.dataset | Computing the library size for the new data\n",
      "[2020-11-27 14:56:33,119] INFO - scvi.dataset.dataset | Remapping batch_indices to [0,N]\n",
      "[2020-11-27 14:56:33,121] INFO - scvi.dataset.dataset | Remapping labels to [0,N]\n",
      "[2020-11-27 14:56:34,956] INFO - scvi.dataset.dataset | Computing the library size for the new data\n",
      "[2020-11-27 14:56:35,728] INFO - scvi.dataset.dataset | Remapping batch_indices to [0,N]\n",
      "[2020-11-27 14:56:35,730] INFO - scvi.dataset.dataset | Remapping labels to [0,N]\n",
      "[2020-11-27 14:56:37,787] INFO - scvi.dataset.dataset | Computing the library size for the new data\n",
      "[2020-11-27 14:56:38,697] INFO - scvi.dataset.dataset | Remapping batch_indices to [0,N]\n",
      "[2020-11-27 14:56:38,699] INFO - scvi.dataset.dataset | Remapping labels to [0,N]\n",
      "[2020-11-27 14:57:10,169] INFO - scvi.dataset.dataset | Remapping batch_indices to [0,N]\n",
      "[2020-11-27 14:57:10,173] INFO - scvi.dataset.dataset | Remapping labels to [0,N]\n",
      "[2020-11-27 14:57:10,813] INFO - scvi.dataset.dataset | extracting highly variable genes using seurat_v3 flavor\n",
      "[2020-11-27 14:57:18,984] INFO - scvi.dataset.dataset | Downsampling from 27254 to 5000 genes\n",
      "[2020-11-27 14:57:21,072] INFO - scvi.dataset.dataset | Computing the library size for the new data\n",
      "[2020-11-27 14:57:21,220] INFO - scvi.dataset.dataset | Filtering non-expressing cells.\n",
      "[2020-11-27 14:57:22,376] INFO - scvi.dataset.dataset | Computing the library size for the new data\n",
      "[2020-11-27 14:57:22,519] INFO - scvi.dataset.dataset | Downsampled from 72778 to 72778 cells\n",
      "[2020-11-27 14:57:29,043] INFO - scvi.inference.inference | KL warmup for 400 epochs\n"
     ]
    },
    {
     "data": {
      "application/vnd.jupyter.widget-view+json": {
       "model_id": "9c88ada588ff4c80a0830c4509233522",
       "version_major": 2,
       "version_minor": 0
      },
      "text/plain": [
       "HBox(children=(FloatProgress(value=0.0, description='training', max=500.0, style=ProgressStyle(description_wid…"
      ]
     },
     "metadata": {},
     "output_type": "display_data"
    },
    {
     "name": "stdout",
     "output_type": "stream",
     "text": [
      "\n",
      "defining permutation\n",
      "Inserting Latent coords\n",
      "computing UMAP\n",
      "Inserting Umap coords\n",
      "Finding clusters\n",
      "Inserting Cluster Id\n",
      "defining permutation\n",
      "Finding clusters\n",
      "Inserting Cluster Id\n"
     ]
    },
    {
     "name": "stderr",
     "output_type": "stream",
     "text": [
      "... storing 'leiden_samplecorr_bulkorg_hormones' as categorical\n",
      "... storing 'leidenres2_samplecorr_bulkorg_hormones' as categorical\n"
     ]
    }
   ],
   "source": [
    "filter = ([ (x in [\"U1\", \"U2\", \"B44\"]) for x in adata.obs[\"demultiplexed\"] ])\n",
    "filter = filter & (adata.obs[\"filtered_cells\"] == False)\n",
    "filter = filter & ((adata.obs[\"Hormones\"] != \"Ctrl\")|(adata.obs[\"Days\"] == 0))\n",
    "filter = filter & (adata.obs[\"percent_mito\"] < 0.2)\n",
    "filter = filter & (adata.obs[\"Lane\"] == 13)\n",
    "\n",
    "# Use genotypes for batch correction, no subsampling\n",
    "das = lpy.scvi_prepare(adata, \"sample_names\", filter)\n",
    "latent = lpy.runSCVI(das[\"dataset\"])\n",
    "adata = lpy.insertLatent(adata,latent,\"scvi_samplecorr_bulkorg_hormones\", \"X_umap_samplecorr_bulkorg_hormones\", None, \"leiden_samplecorr_bulkorg_hormones\", cellnames = das[\"names\"])\n",
    "adata = lpy.insertLatent(adata,latent, None, None, None, \"leidenres2_samplecorr_bulkorg_hormones\", cellnames = das[\"names\"],leiden_resolution=2)\n",
    "adata.write_h5ad(\"N2-integrated_organoids.h5ad\")"
   ]
  },
  {
   "cell_type": "code",
   "execution_count": 11,
   "metadata": {},
   "outputs": [
    {
     "name": "stdout",
     "output_type": "stream",
     "text": [
      "[2020-11-27 15:54:54,593] INFO - scvi.dataset.anndataset | Dense size under 1Gb, casting to dense format (np.ndarray).\n",
      "[2020-11-27 15:54:55,450] INFO - scvi.dataset.dataset | Remapping batch_indices to [0,N]\n",
      "[2020-11-27 15:54:55,452] INFO - scvi.dataset.dataset | Remapping labels to [0,N]\n",
      "[2020-11-27 15:54:57,271] INFO - scvi.dataset.dataset | Computing the library size for the new data\n",
      "[2020-11-27 15:54:57,584] INFO - scvi.dataset.dataset | Downsampled from 6652 to 6652 cells\n",
      "[2020-11-27 15:54:57,614] INFO - scvi.dataset.anndataset | Dense size under 1Gb, casting to dense format (np.ndarray).\n",
      "[2020-11-27 15:54:58,306] INFO - scvi.dataset.dataset | Remapping batch_indices to [0,N]\n",
      "[2020-11-27 15:54:58,308] INFO - scvi.dataset.dataset | Remapping labels to [0,N]\n",
      "[2020-11-27 15:54:59,856] INFO - scvi.dataset.dataset | Computing the library size for the new data\n",
      "[2020-11-27 15:55:00,106] INFO - scvi.dataset.dataset | Downsampled from 5310 to 5310 cells\n",
      "[2020-11-27 15:55:00,131] INFO - scvi.dataset.anndataset | Dense size under 1Gb, casting to dense format (np.ndarray).\n",
      "[2020-11-27 15:55:01,078] INFO - scvi.dataset.dataset | Remapping batch_indices to [0,N]\n",
      "[2020-11-27 15:55:01,080] INFO - scvi.dataset.dataset | Remapping labels to [0,N]\n",
      "[2020-11-27 15:55:03,055] INFO - scvi.dataset.dataset | Computing the library size for the new data\n",
      "[2020-11-27 15:55:03,407] INFO - scvi.dataset.dataset | Downsampled from 7425 to 7425 cells\n",
      "[2020-11-27 15:55:03,441] INFO - scvi.dataset.anndataset | Dense size under 1Gb, casting to dense format (np.ndarray).\n",
      "[2020-11-27 15:55:04,426] INFO - scvi.dataset.dataset | Remapping batch_indices to [0,N]\n",
      "[2020-11-27 15:55:04,428] INFO - scvi.dataset.dataset | Remapping labels to [0,N]\n",
      "[2020-11-27 15:55:06,515] INFO - scvi.dataset.dataset | Computing the library size for the new data\n",
      "[2020-11-27 15:55:06,879] INFO - scvi.dataset.dataset | Downsampled from 7762 to 7762 cells\n",
      "[2020-11-27 15:55:06,914] INFO - scvi.dataset.anndataset | Dense size under 1Gb, casting to dense format (np.ndarray).\n",
      "[2020-11-27 15:55:07,557] INFO - scvi.dataset.dataset | Remapping batch_indices to [0,N]\n",
      "[2020-11-27 15:55:07,559] INFO - scvi.dataset.dataset | Remapping labels to [0,N]\n",
      "[2020-11-27 15:55:09,015] INFO - scvi.dataset.dataset | Computing the library size for the new data\n",
      "[2020-11-27 15:55:09,249] INFO - scvi.dataset.dataset | Downsampled from 4966 to 4966 cells\n",
      "[2020-11-27 15:55:09,484] INFO - scvi.dataset.dataset | Remapping batch_indices to [0,N]\n",
      "[2020-11-27 15:55:09,486] INFO - scvi.dataset.dataset | Remapping labels to [0,N]\n",
      "[2020-11-27 15:55:10,004] INFO - scvi.dataset.dataset | Computing the library size for the new data\n",
      "[2020-11-27 15:55:10,092] INFO - scvi.dataset.dataset | Downsampled from 10614 to 10614 cells\n",
      "[2020-11-27 15:55:10,097] INFO - scvi.dataset.anndataset | Dense size under 1Gb, casting to dense format (np.ndarray).\n",
      "[2020-11-27 15:55:10,974] INFO - scvi.dataset.dataset | Remapping batch_indices to [0,N]\n",
      "[2020-11-27 15:55:10,976] INFO - scvi.dataset.dataset | Remapping labels to [0,N]\n",
      "[2020-11-27 15:55:12,867] INFO - scvi.dataset.dataset | Computing the library size for the new data\n",
      "[2020-11-27 15:55:13,189] INFO - scvi.dataset.dataset | Downsampled from 6846 to 6846 cells\n",
      "[2020-11-27 15:55:13,220] INFO - scvi.dataset.anndataset | Dense size under 1Gb, casting to dense format (np.ndarray).\n",
      "[2020-11-27 15:55:14,132] INFO - scvi.dataset.dataset | Remapping batch_indices to [0,N]\n",
      "[2020-11-27 15:55:14,134] INFO - scvi.dataset.dataset | Remapping labels to [0,N]\n",
      "[2020-11-27 15:55:16,023] INFO - scvi.dataset.dataset | Computing the library size for the new data\n",
      "[2020-11-27 15:55:16,365] INFO - scvi.dataset.dataset | Downsampled from 7189 to 7189 cells\n",
      "[2020-11-27 15:55:16,590] INFO - scvi.dataset.dataset | Remapping batch_indices to [0,N]\n",
      "[2020-11-27 15:55:16,593] INFO - scvi.dataset.dataset | Remapping labels to [0,N]\n",
      "[2020-11-27 15:55:16,967] INFO - scvi.dataset.dataset | Computing the library size for the new data\n",
      "[2020-11-27 15:55:17,040] INFO - scvi.dataset.dataset | Downsampled from 12885 to 12885 cells\n",
      "[2020-11-27 15:55:17,046] INFO - scvi.dataset.anndataset | Dense size under 1Gb, casting to dense format (np.ndarray).\n",
      "[2020-11-27 15:55:17,907] INFO - scvi.dataset.dataset | Remapping batch_indices to [0,N]\n",
      "[2020-11-27 15:55:17,909] INFO - scvi.dataset.dataset | Remapping labels to [0,N]\n",
      "[2020-11-27 15:55:19,773] INFO - scvi.dataset.dataset | Computing the library size for the new data\n",
      "[2020-11-27 15:55:20,091] INFO - scvi.dataset.dataset | Downsampled from 6740 to 6740 cells\n",
      "[2020-11-27 15:55:20,123] INFO - scvi.dataset.anndataset | Dense size under 1Gb, casting to dense format (np.ndarray).\n",
      "[2020-11-27 15:55:21,274] INFO - scvi.dataset.dataset | Remapping batch_indices to [0,N]\n",
      "[2020-11-27 15:55:21,276] INFO - scvi.dataset.dataset | Remapping labels to [0,N]\n",
      "[2020-11-27 15:55:23,658] INFO - scvi.dataset.dataset | Computing the library size for the new data\n",
      "[2020-11-27 15:55:24,086] INFO - scvi.dataset.dataset | Downsampled from 9043 to 9043 cells\n",
      "[2020-11-27 15:55:24,126] INFO - scvi.dataset.anndataset | Dense size under 1Gb, casting to dense format (np.ndarray).\n",
      "[2020-11-27 15:55:25,127] INFO - scvi.dataset.dataset | Remapping batch_indices to [0,N]\n",
      "[2020-11-27 15:55:25,129] INFO - scvi.dataset.dataset | Remapping labels to [0,N]\n",
      "[2020-11-27 15:55:27,350] INFO - scvi.dataset.dataset | Computing the library size for the new data\n",
      "[2020-11-27 15:55:27,719] INFO - scvi.dataset.dataset | Downsampled from 7805 to 7805 cells\n",
      "[2020-11-27 15:55:27,754] INFO - scvi.dataset.anndataset | Dense size under 1Gb, casting to dense format (np.ndarray).\n",
      "[2020-11-27 15:55:28,708] INFO - scvi.dataset.dataset | Remapping batch_indices to [0,N]\n",
      "[2020-11-27 15:55:28,710] INFO - scvi.dataset.dataset | Remapping labels to [0,N]\n",
      "[2020-11-27 15:55:30,697] INFO - scvi.dataset.dataset | Computing the library size for the new data\n",
      "[2020-11-27 15:55:31,051] INFO - scvi.dataset.dataset | Downsampled from 7514 to 7514 cells\n",
      "[2020-11-27 15:55:31,085] INFO - scvi.dataset.anndataset | Dense size under 1Gb, casting to dense format (np.ndarray).\n",
      "[2020-11-27 15:55:31,639] INFO - scvi.dataset.dataset | Remapping batch_indices to [0,N]\n",
      "[2020-11-27 15:55:31,641] INFO - scvi.dataset.dataset | Remapping labels to [0,N]\n",
      "[2020-11-27 15:55:32,898] INFO - scvi.dataset.dataset | Computing the library size for the new data\n",
      "[2020-11-27 15:55:33,096] INFO - scvi.dataset.dataset | Downsampled from 4213 to 4213 cells\n",
      "[2020-11-27 15:55:33,117] INFO - scvi.dataset.anndataset | Dense size under 1Gb, casting to dense format (np.ndarray).\n",
      "[2020-11-27 15:55:33,947] INFO - scvi.dataset.dataset | Remapping batch_indices to [0,N]\n",
      "[2020-11-27 15:55:33,949] INFO - scvi.dataset.dataset | Remapping labels to [0,N]\n",
      "[2020-11-27 15:55:35,740] INFO - scvi.dataset.dataset | Computing the library size for the new data\n",
      "[2020-11-27 15:55:36,034] INFO - scvi.dataset.dataset | Downsampled from 6278 to 6278 cells\n",
      "[2020-11-27 15:55:36,063] INFO - scvi.dataset.anndataset | Dense size under 1Gb, casting to dense format (np.ndarray).\n",
      "[2020-11-27 15:55:37,009] INFO - scvi.dataset.dataset | Remapping batch_indices to [0,N]\n",
      "[2020-11-27 15:55:37,011] INFO - scvi.dataset.dataset | Remapping labels to [0,N]\n",
      "[2020-11-27 15:55:38,975] INFO - scvi.dataset.dataset | Computing the library size for the new data\n",
      "[2020-11-27 15:55:39,326] INFO - scvi.dataset.dataset | Downsampled from 7430 to 7430 cells\n",
      "[2020-11-27 15:55:39,359] INFO - scvi.dataset.dataset | Merging datasets. Input objects are modified in place.\n",
      "[2020-11-27 15:55:39,360] INFO - scvi.dataset.dataset | Gene names and cell measurement names are assumed to have a non-null intersection between datasets.\n",
      "[2020-11-27 15:55:39,688] INFO - scvi.dataset.dataset | Keeping 27254 genes\n",
      "[2020-11-27 15:55:41,574] INFO - scvi.dataset.dataset | Computing the library size for the new data\n",
      "[2020-11-27 15:55:42,398] INFO - scvi.dataset.dataset | Remapping batch_indices to [0,N]\n",
      "[2020-11-27 15:55:42,401] INFO - scvi.dataset.dataset | Remapping labels to [0,N]\n",
      "[2020-11-27 15:55:43,983] INFO - scvi.dataset.dataset | Computing the library size for the new data\n",
      "[2020-11-27 15:55:44,641] INFO - scvi.dataset.dataset | Remapping batch_indices to [0,N]\n",
      "[2020-11-27 15:55:44,643] INFO - scvi.dataset.dataset | Remapping labels to [0,N]\n",
      "[2020-11-27 15:55:46,695] INFO - scvi.dataset.dataset | Computing the library size for the new data\n",
      "[2020-11-27 15:55:47,582] INFO - scvi.dataset.dataset | Remapping batch_indices to [0,N]\n",
      "[2020-11-27 15:55:47,584] INFO - scvi.dataset.dataset | Remapping labels to [0,N]\n",
      "[2020-11-27 15:55:49,734] INFO - scvi.dataset.dataset | Computing the library size for the new data\n",
      "[2020-11-27 15:55:50,692] INFO - scvi.dataset.dataset | Remapping batch_indices to [0,N]\n",
      "[2020-11-27 15:55:50,694] INFO - scvi.dataset.dataset | Remapping labels to [0,N]\n",
      "[2020-11-27 15:55:52,189] INFO - scvi.dataset.dataset | Computing the library size for the new data\n",
      "[2020-11-27 15:55:52,798] INFO - scvi.dataset.dataset | Remapping batch_indices to [0,N]\n",
      "[2020-11-27 15:55:52,800] INFO - scvi.dataset.dataset | Remapping labels to [0,N]\n",
      "[2020-11-27 15:55:53,400] INFO - scvi.dataset.dataset | Computing the library size for the new data\n",
      "[2020-11-27 15:55:53,494] INFO - scvi.dataset.dataset | Remapping batch_indices to [0,N]\n",
      "[2020-11-27 15:55:53,496] INFO - scvi.dataset.dataset | Remapping labels to [0,N]\n",
      "[2020-11-27 15:55:55,461] INFO - scvi.dataset.dataset | Computing the library size for the new data\n",
      "[2020-11-27 15:55:56,309] INFO - scvi.dataset.dataset | Remapping batch_indices to [0,N]\n",
      "[2020-11-27 15:55:56,311] INFO - scvi.dataset.dataset | Remapping labels to [0,N]\n",
      "[2020-11-27 15:55:58,303] INFO - scvi.dataset.dataset | Computing the library size for the new data\n",
      "[2020-11-27 15:55:59,174] INFO - scvi.dataset.dataset | Remapping batch_indices to [0,N]\n",
      "[2020-11-27 15:55:59,176] INFO - scvi.dataset.dataset | Remapping labels to [0,N]\n",
      "[2020-11-27 15:55:59,622] INFO - scvi.dataset.dataset | Computing the library size for the new data\n",
      "[2020-11-27 15:55:59,700] INFO - scvi.dataset.dataset | Remapping batch_indices to [0,N]\n",
      "[2020-11-27 15:55:59,702] INFO - scvi.dataset.dataset | Remapping labels to [0,N]\n",
      "[2020-11-27 15:56:01,630] INFO - scvi.dataset.dataset | Computing the library size for the new data\n",
      "[2020-11-27 15:56:02,458] INFO - scvi.dataset.dataset | Remapping batch_indices to [0,N]\n",
      "[2020-11-27 15:56:02,460] INFO - scvi.dataset.dataset | Remapping labels to [0,N]\n",
      "[2020-11-27 15:56:04,986] INFO - scvi.dataset.dataset | Computing the library size for the new data\n",
      "[2020-11-27 15:56:06,069] INFO - scvi.dataset.dataset | Remapping batch_indices to [0,N]\n",
      "[2020-11-27 15:56:06,072] INFO - scvi.dataset.dataset | Remapping labels to [0,N]\n",
      "[2020-11-27 15:56:08,369] INFO - scvi.dataset.dataset | Computing the library size for the new data\n",
      "[2020-11-27 15:56:09,296] INFO - scvi.dataset.dataset | Remapping batch_indices to [0,N]\n",
      "[2020-11-27 15:56:09,298] INFO - scvi.dataset.dataset | Remapping labels to [0,N]\n",
      "[2020-11-27 15:56:11,379] INFO - scvi.dataset.dataset | Computing the library size for the new data\n",
      "[2020-11-27 15:56:12,300] INFO - scvi.dataset.dataset | Remapping batch_indices to [0,N]\n",
      "[2020-11-27 15:56:12,302] INFO - scvi.dataset.dataset | Remapping labels to [0,N]\n",
      "[2020-11-27 15:56:13,585] INFO - scvi.dataset.dataset | Computing the library size for the new data\n",
      "[2020-11-27 15:56:14,073] INFO - scvi.dataset.dataset | Remapping batch_indices to [0,N]\n",
      "[2020-11-27 15:56:14,075] INFO - scvi.dataset.dataset | Remapping labels to [0,N]\n",
      "[2020-11-27 15:56:15,940] INFO - scvi.dataset.dataset | Computing the library size for the new data\n",
      "[2020-11-27 15:56:16,716] INFO - scvi.dataset.dataset | Remapping batch_indices to [0,N]\n",
      "[2020-11-27 15:56:16,718] INFO - scvi.dataset.dataset | Remapping labels to [0,N]\n",
      "[2020-11-27 15:56:18,784] INFO - scvi.dataset.dataset | Computing the library size for the new data\n",
      "[2020-11-27 15:56:19,700] INFO - scvi.dataset.dataset | Remapping batch_indices to [0,N]\n",
      "[2020-11-27 15:56:19,702] INFO - scvi.dataset.dataset | Remapping labels to [0,N]\n",
      "[2020-11-27 15:57:08,910] INFO - scvi.dataset.dataset | Remapping batch_indices to [0,N]\n",
      "[2020-11-27 15:57:08,917] INFO - scvi.dataset.dataset | Remapping labels to [0,N]\n",
      "[2020-11-27 15:57:09,978] INFO - scvi.dataset.dataset | extracting highly variable genes using seurat_v3 flavor\n",
      "[2020-11-27 15:57:21,656] INFO - scvi.dataset.dataset | Downsampling from 27254 to 5000 genes\n",
      "[2020-11-27 15:57:25,157] INFO - scvi.dataset.dataset | Computing the library size for the new data\n",
      "[2020-11-27 15:57:25,408] INFO - scvi.dataset.dataset | Filtering non-expressing cells.\n",
      "[2020-11-27 15:57:27,349] INFO - scvi.dataset.dataset | Computing the library size for the new data\n",
      "[2020-11-27 15:57:27,588] INFO - scvi.dataset.dataset | Downsampled from 118672 to 118672 cells\n",
      "[2020-11-27 15:57:31,614] INFO - scvi.inference.inference | KL warmup for 400 epochs\n"
     ]
    },
    {
     "data": {
      "application/vnd.jupyter.widget-view+json": {
       "model_id": "fb2dfcb7bce64532adc8ac2a8352a54f",
       "version_major": 2,
       "version_minor": 0
      },
      "text/plain": [
       "HBox(children=(FloatProgress(value=0.0, description='training', max=500.0, style=ProgressStyle(description_wid…"
      ]
     },
     "metadata": {},
     "output_type": "display_data"
    },
    {
     "name": "stdout",
     "output_type": "stream",
     "text": [
      "\n",
      "defining permutation\n",
      "Inserting Latent coords\n",
      "computing UMAP\n",
      "Inserting Umap coords\n",
      "Finding clusters\n",
      "Inserting Cluster Id\n",
      "defining permutation\n",
      "Finding clusters\n",
      "Inserting Cluster Id\n"
     ]
    }
   ],
   "source": [
    "filter = ([ (x in [\"U1\", \"U2\", \"B44\"]) for x in adata.obs[\"demultiplexed\"] ])\n",
    "filter = filter & (adata.obs[\"filtered_cells\"] == False)\n",
    "filter = filter & (adata.obs[\"percent_mito\"] < 0.2)\n",
    "filter = filter & (adata.obs[\"Lane\"] == 13)\n",
    "# Use genotypes for batch correction, no subsampling\n",
    "das = lpy.scvi_prepare(adata, \"sample_names\", filter)\n",
    "latent = lpy.runSCVI(das[\"dataset\"])\n",
    "adata = lpy.insertLatent(adata,latent,\"scvi_samplecorr_bulkorg\", \"X_umap_samplecorr_bulkorg\", None, \"leiden_samplecorr_bulkorg\", cellnames = das[\"names\"])\n",
    "adata = lpy.insertLatent(adata,latent, None, None, None, \"leidenres2_samplecorr_bulkorg\", cellnames = das[\"names\"],leiden_resolution=2)\n"
   ]
  },
  {
   "cell_type": "code",
   "execution_count": 12,
   "metadata": {},
   "outputs": [
    {
     "name": "stdout",
     "output_type": "stream",
     "text": [
      "\u001b[35;46;1mRename classes in list\u001b[0m\u001b[34m\n",
      "def applyFactorRename(input, dico, doinspect = False):\n",
      "    if doinspect is True: print(\"\\033[35;46;1mRename classes in list\\033[0m\\033[34m\"); print(inspect.getsource(applyFactorRename));\n",
      "    import numpy as np\n",
      "    tmp = np.array(input, dtype=object)\n",
      "    out = tmp.copy()\n",
      "    for k,x in dico.items():\n",
      "        if isinstance(k, tuple):\n",
      "            for l in k:\n",
      "                out[tmp == l] = x\n",
      "        else:\n",
      "            out[tmp == k] = x\n",
      "    leftover_categories = set(out)\n",
      "    leftover_categories = leftover_categories.difference(set(dico.values()))\n",
      "    categories = list(dico.values())\n",
      "    categories = categories + list(leftover_categories)\n",
      "    return(pd.Categorical(out, categories, ordered=True))\n",
      "\n",
      "\u001b[35;46;1mSample a subset of a defined size\u001b[0m\u001b[34m\n",
      "def subsample(truefalse_vector, subsamplesize, partition = None, doinspect = False):\n",
      "    if doinspect is True: print(\"\\033[35;46;1mSample a subset of a defined size\\033[0m\\033[34m\"); print(inspect.getsource(subsample));print(\"\\033[31;43;1mExecution:\\033[0m\")\n",
      "    if partition is None:\n",
      "        partition = [\"thesame\" for x in range(len(truefalse_vector))]\n",
      "    valueset = list(set(partition))\n",
      "    fout = np.zeros(len(truefalse_vector), dtype=\"bool\")\n",
      "    which = lambda lst:list(np.where(lst)[0])\n",
      "    for i in valueset:\n",
      "        subf = truefalse_vector & (partition == i)\n",
      "        wlts = which(subf)\n",
      "        if len(wlts) > subsamplesize:\n",
      "            wlts = random.sample(wlts, subsamplesize)\n",
      "        fout[wlts] = True\n",
      "    return(fout)\n",
      "\n",
      "\u001b[31;43;1mExecution:\u001b[0m\n",
      "[2020-12-01 15:05:26,693] INFO - scvi.dataset.dataset | Remapping labels to [0,N]\n",
      "[2020-12-01 15:05:27,203] INFO - scvi.dataset.dataset | Remapping batch_indices to [0,N]\n",
      "[2020-12-01 15:05:36,329] INFO - scvi.dataset.dataset | Computing the library size for the new data\n",
      "[2020-12-01 15:05:36,524] INFO - scvi.dataset.dataset | Downsampled from 17557 to 17557 cells\n",
      "[2020-12-01 15:05:37,733] INFO - scvi.dataset.dataset | Remapping labels to [0,N]\n",
      "[2020-12-01 15:05:37,736] INFO - scvi.dataset.dataset | Remapping batch_indices to [0,N]\n",
      "[2020-12-01 15:05:39,176] INFO - scvi.dataset.dataset | Computing the library size for the new data\n",
      "[2020-12-01 15:05:39,420] INFO - scvi.dataset.dataset | Downsampled from 19500 to 19500 cells\n",
      "[2020-12-01 15:05:40,039] INFO - scvi.dataset.dataset | Remapping labels to [0,N]\n",
      "[2020-12-01 15:05:40,041] INFO - scvi.dataset.dataset | Remapping batch_indices to [0,N]\n",
      "[2020-12-01 15:05:41,586] INFO - scvi.dataset.dataset | Computing the library size for the new data\n",
      "[2020-12-01 15:05:41,845] INFO - scvi.dataset.dataset | Downsampled from 19500 to 19500 cells\n",
      "[2020-12-01 15:05:41,854] INFO - scvi.dataset.dataset | Merging datasets. Input objects are modified in place.\n",
      "[2020-12-01 15:05:41,854] INFO - scvi.dataset.dataset | Gene names and cell measurement names are assumed to have a non-null intersection between datasets.\n",
      "[2020-12-01 15:05:41,962] INFO - scvi.dataset.dataset | Keeping 27254 genes\n",
      "[2020-12-01 15:05:43,291] INFO - scvi.dataset.dataset | Computing the library size for the new data\n",
      "[2020-12-01 15:05:43,485] INFO - scvi.dataset.dataset | Remapping labels to [0,N]\n",
      "[2020-12-01 15:05:43,487] INFO - scvi.dataset.dataset | Remapping batch_indices to [0,N]\n",
      "[2020-12-01 15:05:45,215] INFO - scvi.dataset.dataset | Computing the library size for the new data\n",
      "[2020-12-01 15:05:45,466] INFO - scvi.dataset.dataset | Remapping labels to [0,N]\n",
      "[2020-12-01 15:05:45,469] INFO - scvi.dataset.dataset | Remapping batch_indices to [0,N]\n",
      "[2020-12-01 15:05:47,278] INFO - scvi.dataset.dataset | Computing the library size for the new data\n",
      "[2020-12-01 15:05:47,548] INFO - scvi.dataset.dataset | Remapping labels to [0,N]\n",
      "[2020-12-01 15:05:47,550] INFO - scvi.dataset.dataset | Remapping batch_indices to [0,N]\n",
      "[2020-12-01 15:05:48,881] INFO - scvi.dataset.dataset | Remapping labels to [0,N]\n",
      "[2020-12-01 15:05:48,885] INFO - scvi.dataset.dataset | Remapping batch_indices to [0,N]\n",
      "[2020-12-01 15:05:49,620] INFO - scvi.dataset.dataset | extracting highly variable genes using seurat_v3 flavor\n",
      "[2020-12-01 15:07:07,374] INFO - scvi.dataset.dataset | Downsampling from 27254 to 5000 genes\n",
      "[2020-12-01 15:07:09,781] INFO - scvi.dataset.dataset | Computing the library size for the new data\n",
      "[2020-12-01 15:07:09,996] INFO - scvi.dataset.dataset | Filtering non-expressing cells.\n",
      "[2020-12-01 15:07:11,228] INFO - scvi.dataset.dataset | Computing the library size for the new data\n",
      "[2020-12-01 15:07:11,449] INFO - scvi.dataset.dataset | Downsampled from 56557 to 56557 cells\n",
      "[2020-12-01 15:08:20,676] INFO - scvi.inference.inference | KL warmup for 400 epochs\n"
     ]
    },
    {
     "data": {
      "application/vnd.jupyter.widget-view+json": {
       "model_id": "e80ef7c80d584180a8032bf7c52584f6",
       "version_major": 2,
       "version_minor": 0
      },
      "text/plain": [
       "HBox(children=(FloatProgress(value=0.0, description='training', max=500.0, style=ProgressStyle(description_wid…"
      ]
     },
     "metadata": {},
     "output_type": "display_data"
    },
    {
     "name": "stdout",
     "output_type": "stream",
     "text": [
      "\n",
      "defining permutation\n",
      "Inserting Latent coords\n",
      "computing UMAP\n",
      "Inserting Umap coords\n",
      "Finding clusters\n",
      "Inserting Cluster Id\n",
      "defining permutation\n",
      "Finding clusters\n",
      "Inserting Cluster Id\n"
     ]
    }
   ],
   "source": [
    "# subsample to balance sample with identical conditions (some replicate exists)\n",
    "conditions = lpy.applyFactorRename(adata.obs[\"sample_names\"], {\n",
    "    tuple([\"WSSS_END9397527\", \"WSSS_END9397533\"]) : \"Day6 E+P Ctrl\",\n",
    "    tuple([\"WSSS_END9397529\", \"WSSS_END9397534\"]) : \"Day6 E+P NOTCHi\",\n",
    "    tuple([\"WSSS_END9397531\", \"WSSS_END9397535\"]) : \"Day6 E+P WNTi\"}, doinspect =True)\n",
    "cond_and_geno = np.array([x + y  for x,y in zip(conditions, adata.obs[\"demultiplexed\"]) ])\n",
    "subsample = (adata.obs[\"filtered_cells\"] == False) & (adata.obs[\"percent_mito\"] < 0.2) & (adata.obs[\"Lane\"] == 13)\n",
    "subsample = lpy.subsample( subsample , 1500 , cond_and_geno, doinspect =True)\n",
    "das = lpy.scvi_prepare(adata, \"demultiplexed\", subsample)\n",
    "latent = lpy.runSCVI(das[\"dataset\"])\n",
    "adata = lpy.insertLatent(adata,latent,\"scvi_bulksmpl\", \"X_umap_bulksmpl\", None, \"leiden_bulksmpl\", cellnames = das[\"names\"])\n",
    "adata = lpy.insertLatent(adata,latent, None, None, None, \"leidenres2_bulksmpl\", cellnames = das[\"names\"],leiden_resolution=2)"
   ]
  },
  {
   "cell_type": "code",
   "execution_count": 13,
   "metadata": {},
   "outputs": [
    {
     "name": "stdout",
     "output_type": "stream",
     "text": [
      "[2020-12-01 15:59:48,377] INFO - scvi.dataset.dataset | Remapping labels to [0,N]\n",
      "[2020-12-01 15:59:48,379] INFO - scvi.dataset.dataset | Remapping batch_indices to [0,N]\n",
      "[2020-12-01 15:59:48,794] INFO - scvi.dataset.dataset | Computing the library size for the new data\n",
      "[2020-12-01 15:59:48,867] INFO - scvi.dataset.dataset | Downsampled from 9597 to 9597 cells\n",
      "[2020-12-01 15:59:49,105] INFO - scvi.dataset.dataset | Remapping labels to [0,N]\n",
      "[2020-12-01 15:59:49,108] INFO - scvi.dataset.dataset | Remapping batch_indices to [0,N]\n",
      "[2020-12-01 15:59:49,707] INFO - scvi.dataset.dataset | Computing the library size for the new data\n",
      "[2020-12-01 15:59:49,804] INFO - scvi.dataset.dataset | Downsampled from 10500 to 10500 cells\n",
      "[2020-12-01 15:59:50,062] INFO - scvi.dataset.dataset | Remapping labels to [0,N]\n",
      "[2020-12-01 15:59:50,065] INFO - scvi.dataset.dataset | Remapping batch_indices to [0,N]\n",
      "[2020-12-01 15:59:50,716] INFO - scvi.dataset.dataset | Computing the library size for the new data\n",
      "[2020-12-01 15:59:50,820] INFO - scvi.dataset.dataset | Downsampled from 10500 to 10500 cells\n",
      "[2020-12-01 15:59:50,824] INFO - scvi.dataset.dataset | Merging datasets. Input objects are modified in place.\n",
      "[2020-12-01 15:59:50,826] INFO - scvi.dataset.dataset | Gene names and cell measurement names are assumed to have a non-null intersection between datasets.\n",
      "[2020-12-01 15:59:50,887] INFO - scvi.dataset.dataset | Keeping 27254 genes\n",
      "[2020-12-01 15:59:51,393] INFO - scvi.dataset.dataset | Computing the library size for the new data\n",
      "[2020-12-01 15:59:51,471] INFO - scvi.dataset.dataset | Remapping labels to [0,N]\n",
      "[2020-12-01 15:59:51,473] INFO - scvi.dataset.dataset | Remapping batch_indices to [0,N]\n",
      "[2020-12-01 15:59:52,136] INFO - scvi.dataset.dataset | Computing the library size for the new data\n",
      "[2020-12-01 15:59:52,239] INFO - scvi.dataset.dataset | Remapping labels to [0,N]\n",
      "[2020-12-01 15:59:52,241] INFO - scvi.dataset.dataset | Remapping batch_indices to [0,N]\n",
      "[2020-12-01 15:59:52,953] INFO - scvi.dataset.dataset | Computing the library size for the new data\n",
      "[2020-12-01 15:59:53,064] INFO - scvi.dataset.dataset | Remapping labels to [0,N]\n",
      "[2020-12-01 15:59:53,066] INFO - scvi.dataset.dataset | Remapping batch_indices to [0,N]\n",
      "[2020-12-01 15:59:53,596] INFO - scvi.dataset.dataset | Remapping labels to [0,N]\n",
      "[2020-12-01 15:59:53,598] INFO - scvi.dataset.dataset | Remapping batch_indices to [0,N]\n",
      "[2020-12-01 15:59:53,886] INFO - scvi.dataset.dataset | extracting highly variable genes using seurat_v3 flavor\n",
      "[2020-12-01 15:59:57,096] INFO - scvi.dataset.dataset | Downsampling from 27254 to 5000 genes\n",
      "[2020-12-01 15:59:58,078] INFO - scvi.dataset.dataset | Computing the library size for the new data\n",
      "[2020-12-01 15:59:58,159] INFO - scvi.dataset.dataset | Filtering non-expressing cells.\n",
      "[2020-12-01 15:59:58,717] INFO - scvi.dataset.dataset | Computing the library size for the new data\n",
      "[2020-12-01 15:59:58,803] INFO - scvi.dataset.dataset | Downsampled from 30597 to 30597 cells\n",
      "[2020-12-01 15:59:59,691] INFO - scvi.inference.inference | KL warmup for 400 epochs\n"
     ]
    },
    {
     "data": {
      "application/vnd.jupyter.widget-view+json": {
       "model_id": "9a9922684b724653b4da76228a4821af",
       "version_major": 2,
       "version_minor": 0
      },
      "text/plain": [
       "HBox(children=(FloatProgress(value=0.0, description='training', max=500.0, style=ProgressStyle(description_wid…"
      ]
     },
     "metadata": {},
     "output_type": "display_data"
    },
    {
     "name": "stdout",
     "output_type": "stream",
     "text": [
      "\n",
      "defining permutation\n",
      "Inserting Latent coords\n",
      "computing UMAP\n",
      "Inserting Umap coords\n",
      "Finding clusters\n",
      "Inserting Cluster Id\n",
      "defining permutation\n",
      "Finding clusters\n",
      "Inserting Cluster Id\n"
     ]
    }
   ],
   "source": [
    "das = lpy.scvi_prepare(adata, \"demultiplexed\", subsample & ((adata.obs[\"Hormones\"] != \"Ctrl\")|(adata.obs[\"Days\"] == 0)))\n",
    "latent = lpy.runSCVI(das[\"dataset\"])\n",
    "adata = lpy.insertLatent(adata,latent,\"scvi_bulksmpl_hormones\", \"X_umap_bulksmpl_hormones\", None, \"leiden_bulksmpl_hormones\", cellnames = das[\"names\"])\n",
    "adata = lpy.insertLatent(adata,latent, None, None, None, \"leidenres2_bulksmpl_hormones\", cellnames = das[\"names\"],leiden_resolution=2)"
   ]
  },
  {
   "cell_type": "code",
   "execution_count": 14,
   "metadata": {},
   "outputs": [
    {
     "name": "stdout",
     "output_type": "stream",
     "text": [
      "[2020-12-01 16:18:38,641] INFO - scvi.dataset.anndataset | Dense size under 1Gb, casting to dense format (np.ndarray).\n",
      "[2020-12-01 16:18:39,418] INFO - scvi.dataset.dataset | Remapping labels to [0,N]\n",
      "[2020-12-01 16:18:39,420] INFO - scvi.dataset.dataset | Remapping batch_indices to [0,N]\n",
      "[2020-12-01 16:18:41,104] INFO - scvi.dataset.dataset | Computing the library size for the new data\n",
      "[2020-12-01 16:18:41,376] INFO - scvi.dataset.dataset | Downsampled from 5932 to 5932 cells\n",
      "[2020-12-01 16:18:41,409] INFO - scvi.dataset.anndataset | Dense size under 1Gb, casting to dense format (np.ndarray).\n",
      "[2020-12-01 16:18:42,380] INFO - scvi.dataset.dataset | Remapping labels to [0,N]\n",
      "[2020-12-01 16:18:42,382] INFO - scvi.dataset.dataset | Remapping batch_indices to [0,N]\n",
      "[2020-12-01 16:18:44,470] INFO - scvi.dataset.dataset | Computing the library size for the new data\n",
      "[2020-12-01 16:18:44,812] INFO - scvi.dataset.dataset | Downsampled from 7500 to 7500 cells\n",
      "[2020-12-01 16:18:44,855] INFO - scvi.dataset.anndataset | Dense size under 1Gb, casting to dense format (np.ndarray).\n",
      "[2020-12-01 16:18:45,817] INFO - scvi.dataset.dataset | Remapping labels to [0,N]\n",
      "[2020-12-01 16:18:45,819] INFO - scvi.dataset.dataset | Remapping batch_indices to [0,N]\n",
      "[2020-12-01 16:18:48,035] INFO - scvi.dataset.dataset | Computing the library size for the new data\n",
      "[2020-12-01 16:18:48,380] INFO - scvi.dataset.dataset | Downsampled from 7500 to 7500 cells\n",
      "[2020-12-01 16:18:48,420] INFO - scvi.dataset.dataset | Merging datasets. Input objects are modified in place.\n",
      "[2020-12-01 16:18:48,422] INFO - scvi.dataset.dataset | Gene names and cell measurement names are assumed to have a non-null intersection between datasets.\n",
      "[2020-12-01 16:18:48,486] INFO - scvi.dataset.dataset | Keeping 27254 genes\n",
      "[2020-12-01 16:18:50,165] INFO - scvi.dataset.dataset | Computing the library size for the new data\n",
      "[2020-12-01 16:18:50,882] INFO - scvi.dataset.dataset | Remapping labels to [0,N]\n",
      "[2020-12-01 16:18:50,885] INFO - scvi.dataset.dataset | Remapping batch_indices to [0,N]\n",
      "[2020-12-01 16:18:53,026] INFO - scvi.dataset.dataset | Computing the library size for the new data\n",
      "[2020-12-01 16:18:53,922] INFO - scvi.dataset.dataset | Remapping labels to [0,N]\n",
      "[2020-12-01 16:18:53,924] INFO - scvi.dataset.dataset | Remapping batch_indices to [0,N]\n",
      "[2020-12-01 16:18:56,087] INFO - scvi.dataset.dataset | Computing the library size for the new data\n",
      "[2020-12-01 16:18:56,985] INFO - scvi.dataset.dataset | Remapping labels to [0,N]\n",
      "[2020-12-01 16:18:56,987] INFO - scvi.dataset.dataset | Remapping batch_indices to [0,N]\n",
      "[2020-12-01 16:19:00,945] INFO - scvi.dataset.dataset | Remapping labels to [0,N]\n",
      "[2020-12-01 16:19:00,948] INFO - scvi.dataset.dataset | Remapping batch_indices to [0,N]\n",
      "[2020-12-01 16:19:01,918] INFO - scvi.dataset.dataset | extracting highly variable genes using seurat_v3 flavor\n",
      "[2020-12-01 16:19:14,227] INFO - scvi.dataset.dataset | Downsampling from 27254 to 5000 genes\n",
      "[2020-12-01 16:19:15,804] INFO - scvi.dataset.dataset | Computing the library size for the new data\n",
      "[2020-12-01 16:19:16,074] INFO - scvi.dataset.dataset | Filtering non-expressing cells.\n",
      "[2020-12-01 16:19:17,386] INFO - scvi.dataset.dataset | Computing the library size for the new data\n",
      "[2020-12-01 16:19:17,565] INFO - scvi.dataset.dataset | Downsampled from 20932 to 20932 cells\n",
      "[2020-12-01 16:19:18,469] INFO - scvi.inference.inference | KL warmup for 400 epochs\n"
     ]
    },
    {
     "data": {
      "application/vnd.jupyter.widget-view+json": {
       "model_id": "6d533996000648b88cc24588d702cc11",
       "version_major": 2,
       "version_minor": 0
      },
      "text/plain": [
       "HBox(children=(FloatProgress(value=0.0, description='training', max=500.0, style=ProgressStyle(description_wid…"
      ]
     },
     "metadata": {},
     "output_type": "display_data"
    },
    {
     "name": "stdout",
     "output_type": "stream",
     "text": [
      "\n",
      "defining permutation\n",
      "Inserting Latent coords\n",
      "computing UMAP\n",
      "Inserting Umap coords\n",
      "Finding clusters\n",
      "Inserting Cluster Id\n",
      "defining permutation\n",
      "Finding clusters\n",
      "Inserting Cluster Id\n"
     ]
    }
   ],
   "source": [
    "das = lpy.scvi_prepare(adata, \"demultiplexed\", subsample  & (adata.obs[\"Inhibitor\"] == \"Ctrl\") )\n",
    "latent = lpy.runSCVI(das[\"dataset\"])\n",
    "adata = lpy.insertLatent(adata,latent,\"scvi_bulksmpl_noinhib\", \"X_umap_bulksmpl_noinhib\", None, \"leiden_bulksmpl_noinhib\", cellnames = das[\"names\"])\n",
    "adata = lpy.insertLatent(adata,latent, None, None, None, \"leidenres2_bulksmpl_noinhib\", cellnames = das[\"names\"], leiden_resolution=2)"
   ]
  },
  {
   "cell_type": "code",
   "execution_count": 15,
   "metadata": {},
   "outputs": [
    {
     "name": "stdout",
     "output_type": "stream",
     "text": [
      "[2020-12-04 11:43:00,651] INFO - scvi.dataset.dataset | Remapping batch_indices to [0,N]\n",
      "[2020-12-04 11:43:00,654] INFO - scvi.dataset.dataset | Remapping labels to [0,N]\n",
      "[2020-12-04 11:43:01,334] INFO - scvi.dataset.dataset | Computing the library size for the new data\n",
      "[2020-12-04 11:43:01,439] INFO - scvi.dataset.dataset | Downsampled from 10592 to 10592 cells\n",
      "[2020-12-04 11:43:01,445] INFO - scvi.dataset.anndataset | Dense size under 1Gb, casting to dense format (np.ndarray).\n",
      "[2020-12-04 11:43:02,942] INFO - scvi.dataset.dataset | Remapping batch_indices to [0,N]\n",
      "[2020-12-04 11:43:02,944] INFO - scvi.dataset.dataset | Remapping labels to [0,N]\n",
      "[2020-12-04 11:43:05,553] INFO - scvi.dataset.dataset | Computing the library size for the new data\n",
      "[2020-12-04 11:43:05,975] INFO - scvi.dataset.dataset | Downsampled from 8839 to 8839 cells\n",
      "[2020-12-04 11:43:06,025] INFO - scvi.dataset.anndataset | Dense size under 1Gb, casting to dense format (np.ndarray).\n",
      "[2020-12-04 11:43:06,850] INFO - scvi.dataset.dataset | Remapping batch_indices to [0,N]\n",
      "[2020-12-04 11:43:06,852] INFO - scvi.dataset.dataset | Remapping labels to [0,N]\n",
      "[2020-12-04 11:43:08,563] INFO - scvi.dataset.dataset | Computing the library size for the new data\n",
      "[2020-12-04 11:43:08,865] INFO - scvi.dataset.dataset | Downsampled from 5999 to 5999 cells\n",
      "[2020-12-04 11:43:08,899] INFO - scvi.dataset.dataset | Merging datasets. Input objects are modified in place.\n",
      "[2020-12-04 11:43:08,901] INFO - scvi.dataset.dataset | Gene names and cell measurement names are assumed to have a non-null intersection between datasets.\n",
      "[2020-12-04 11:43:08,977] INFO - scvi.dataset.dataset | Keeping 27254 genes\n",
      "[2020-12-04 11:43:09,733] INFO - scvi.dataset.dataset | Computing the library size for the new data\n",
      "[2020-12-04 11:43:09,841] INFO - scvi.dataset.dataset | Remapping batch_indices to [0,N]\n",
      "[2020-12-04 11:43:09,844] INFO - scvi.dataset.dataset | Remapping labels to [0,N]\n",
      "[2020-12-04 11:43:12,523] INFO - scvi.dataset.dataset | Computing the library size for the new data\n",
      "[2020-12-04 11:43:13,644] INFO - scvi.dataset.dataset | Remapping batch_indices to [0,N]\n",
      "[2020-12-04 11:43:13,646] INFO - scvi.dataset.dataset | Remapping labels to [0,N]\n",
      "[2020-12-04 11:43:15,430] INFO - scvi.dataset.dataset | Computing the library size for the new data\n",
      "[2020-12-04 11:43:16,235] INFO - scvi.dataset.dataset | Remapping batch_indices to [0,N]\n",
      "[2020-12-04 11:43:16,237] INFO - scvi.dataset.dataset | Remapping labels to [0,N]\n",
      "[2020-12-04 11:43:24,632] INFO - scvi.dataset.dataset | Remapping batch_indices to [0,N]\n",
      "[2020-12-04 11:43:24,634] INFO - scvi.dataset.dataset | Remapping labels to [0,N]\n",
      "[2020-12-04 11:43:24,882] INFO - scvi.dataset.dataset | extracting highly variable genes using seurat_v3 flavor\n",
      "[2020-12-04 11:43:30,887] INFO - scvi.dataset.dataset | Downsampling from 27254 to 5000 genes\n",
      "[2020-12-04 11:43:31,805] INFO - scvi.dataset.dataset | Computing the library size for the new data\n",
      "[2020-12-04 11:43:31,874] INFO - scvi.dataset.dataset | Filtering non-expressing cells.\n",
      "[2020-12-04 11:43:32,377] INFO - scvi.dataset.dataset | Computing the library size for the new data\n",
      "[2020-12-04 11:43:32,445] INFO - scvi.dataset.dataset | Downsampled from 25430 to 25430 cells\n",
      "[2020-12-04 11:43:46,119] INFO - scvi.inference.inference | KL warmup for 400 epochs\n"
     ]
    },
    {
     "data": {
      "application/vnd.jupyter.widget-view+json": {
       "model_id": "9436d94501f447f1ad93eab6baa29fcd",
       "version_major": 2,
       "version_minor": 0
      },
      "text/plain": [
       "HBox(children=(FloatProgress(value=0.0, description='training', max=500.0, style=ProgressStyle(description_wid…"
      ]
     },
     "metadata": {},
     "output_type": "display_data"
    },
    {
     "name": "stdout",
     "output_type": "stream",
     "text": [
      "\n",
      "defining permutation\n",
      "Inserting Latent coords\n",
      "computing UMAP\n",
      "Inserting Umap coords\n",
      "Finding clusters\n",
      "Inserting Cluster Id\n",
      "defining permutation\n",
      "Finding clusters\n",
      "Inserting Cluster Id\n"
     ]
    }
   ],
   "source": [
    "filter = ([ (x in [\"U1\", \"U2\", \"B44\"]) for x in adata.obs[\"demultiplexed\"] ])\n",
    "filter = filter & (adata.obs[\"filtered_cells\"] == False)\n",
    "filter = filter & ((adata.obs[\"Hormones\"] != \"Ctrl\")|(adata.obs[\"Days\"] == 0))\n",
    "filter = filter & (adata.obs[\"Inhibitor\"] == \"Ctrl\")\n",
    "filter = filter & (adata.obs[\"percent_mito\"] < 0.2)\n",
    "filter = filter & (adata.obs[\"Lane\"] == 13)\n",
    "\n",
    "# Use genotypes for batch correction, no subsampling\n",
    "das = lpy.scvi_prepare(adata, \"demultiplexed\", filter)\n",
    "latent = lpy.runSCVI(das[\"dataset\"])\n",
    "adata = lpy.insertLatent(adata,latent,\"scvi_bulkorg_hormnoinhib\", \"X_umap_bulkorg_hormnoinhib\", None, \"leiden_bulkorg_hormnoinhib\", cellnames = das[\"names\"])\n",
    "adata = lpy.insertLatent(adata,latent, None, None, None, \"leidenres2_bulkorg_hormnoinhib\", cellnames = das[\"names\"],leiden_resolution=2)"
   ]
  },
  {
   "cell_type": "code",
   "execution_count": 16,
   "metadata": {},
   "outputs": [
    {
     "name": "stdout",
     "output_type": "stream",
     "text": [
      "[2020-12-05 12:05:51,437] INFO - scvi.dataset.anndataset | Dense size under 1Gb, casting to dense format (np.ndarray).\n",
      "[2020-12-05 12:05:52,020] INFO - scvi.dataset.dataset | Remapping labels to [0,N]\n",
      "[2020-12-05 12:05:52,023] INFO - scvi.dataset.dataset | Remapping batch_indices to [0,N]\n",
      "[2020-12-05 12:05:53,099] INFO - scvi.dataset.dataset | Computing the library size for the new data\n",
      "[2020-12-05 12:05:53,270] INFO - scvi.dataset.dataset | Downsampled from 3754 to 3754 cells\n",
      "[2020-12-05 12:05:53,285] INFO - scvi.dataset.anndataset | Dense size under 1Gb, casting to dense format (np.ndarray).\n",
      "[2020-12-05 12:05:54,207] INFO - scvi.dataset.dataset | Remapping labels to [0,N]\n",
      "[2020-12-05 12:05:54,209] INFO - scvi.dataset.dataset | Remapping batch_indices to [0,N]\n",
      "[2020-12-05 12:05:56,200] INFO - scvi.dataset.dataset | Computing the library size for the new data\n",
      "[2020-12-05 12:05:56,523] INFO - scvi.dataset.dataset | Downsampled from 7148 to 7148 cells\n",
      "[2020-12-05 12:05:56,549] INFO - scvi.dataset.anndataset | Dense size under 1Gb, casting to dense format (np.ndarray).\n",
      "[2020-12-05 12:05:57,624] INFO - scvi.dataset.dataset | Remapping labels to [0,N]\n",
      "[2020-12-05 12:05:57,627] INFO - scvi.dataset.dataset | Remapping batch_indices to [0,N]\n",
      "[2020-12-05 12:05:59,938] INFO - scvi.dataset.dataset | Computing the library size for the new data\n",
      "[2020-12-05 12:06:00,310] INFO - scvi.dataset.dataset | Downsampled from 8250 to 8250 cells\n",
      "[2020-12-05 12:06:00,341] INFO - scvi.dataset.dataset | Merging datasets. Input objects are modified in place.\n",
      "[2020-12-05 12:06:00,343] INFO - scvi.dataset.dataset | Gene names and cell measurement names are assumed to have a non-null intersection between datasets.\n",
      "[2020-12-05 12:06:00,419] INFO - scvi.dataset.dataset | Keeping 27254 genes\n",
      "[2020-12-05 12:06:01,496] INFO - scvi.dataset.dataset | Computing the library size for the new data\n",
      "[2020-12-05 12:06:01,951] INFO - scvi.dataset.dataset | Remapping labels to [0,N]\n",
      "[2020-12-05 12:06:01,953] INFO - scvi.dataset.dataset | Remapping batch_indices to [0,N]\n",
      "[2020-12-05 12:06:04,013] INFO - scvi.dataset.dataset | Computing the library size for the new data\n",
      "[2020-12-05 12:06:04,880] INFO - scvi.dataset.dataset | Remapping labels to [0,N]\n",
      "[2020-12-05 12:06:04,882] INFO - scvi.dataset.dataset | Remapping batch_indices to [0,N]\n",
      "[2020-12-05 12:06:07,281] INFO - scvi.dataset.dataset | Computing the library size for the new data\n",
      "[2020-12-05 12:06:08,279] INFO - scvi.dataset.dataset | Remapping labels to [0,N]\n",
      "[2020-12-05 12:06:08,282] INFO - scvi.dataset.dataset | Remapping batch_indices to [0,N]\n",
      "[2020-12-05 12:06:11,964] INFO - scvi.dataset.dataset | Remapping labels to [0,N]\n",
      "[2020-12-05 12:06:11,966] INFO - scvi.dataset.dataset | Remapping batch_indices to [0,N]\n",
      "[2020-12-05 12:06:12,860] INFO - scvi.dataset.dataset | extracting highly variable genes using seurat_v3 flavor\n",
      "[2020-12-05 12:06:25,997] INFO - scvi.dataset.dataset | Downsampling from 27254 to 5000 genes\n",
      "[2020-12-05 12:06:27,462] INFO - scvi.dataset.dataset | Computing the library size for the new data\n",
      "[2020-12-05 12:06:27,713] INFO - scvi.dataset.dataset | Filtering non-expressing cells.\n",
      "[2020-12-05 12:06:28,952] INFO - scvi.dataset.dataset | Computing the library size for the new data\n",
      "[2020-12-05 12:06:29,119] INFO - scvi.dataset.dataset | Downsampled from 19152 to 19152 cells\n",
      "[2020-12-05 12:06:42,313] INFO - scvi.inference.inference | KL warmup for 400 epochs\n"
     ]
    },
    {
     "data": {
      "application/vnd.jupyter.widget-view+json": {
       "model_id": "ab125f41d3d04f9aa4376d2a07f819ed",
       "version_major": 2,
       "version_minor": 0
      },
      "text/plain": [
       "HBox(children=(FloatProgress(value=0.0, description='training', max=500.0, style=ProgressStyle(description_wid…"
      ]
     },
     "metadata": {},
     "output_type": "display_data"
    },
    {
     "name": "stdout",
     "output_type": "stream",
     "text": [
      "\n",
      "defining permutation\n",
      "Inserting Latent coords\n",
      "computing UMAP\n",
      "Inserting Umap coords\n",
      "Finding clusters\n",
      "Inserting Cluster Id\n",
      "defining permutation\n",
      "Finding clusters\n",
      "Inserting Cluster Id\n"
     ]
    }
   ],
   "source": [
    "filter = ([ (x in [\"U1\", \"U2\", \"B44\"]) for x in adata.obs[\"demultiplexed\"] ])\n",
    "filter = filter & (adata.obs[\"filtered_cells\"] == False)\n",
    "filter = filter & (adata.obs[\"Hormones\"] != \"Ctrl\")\n",
    "filter = filter & (adata.obs[\"Inhibitor\"] == \"Ctrl\")\n",
    "filter = filter & (adata.obs[\"percent_mito\"] < 0.2)\n",
    "filter = filter & (adata.obs[\"Lane\"] == 13)\n",
    "\n",
    "# Use genotypes for batch correction, no subsampling\n",
    "das = lpy.scvi_prepare(adata, \"demultiplexed\", filter)\n",
    "latent = lpy.runSCVI(das[\"dataset\"])\n",
    "adata = lpy.insertLatent(adata,latent,\"scvi_bulkorg_strhormnoinhib\", \"X_umap_bulkorg_strhormnoinhib\", None, \"leiden_bulkorg_strhormnoinhib\", cellnames = das[\"names\"])\n",
    "adata = lpy.insertLatent(adata,latent, None, None, None, \"leidenres2_bulkorg_strhormnoinhib\", cellnames = das[\"names\"],leiden_resolution=2)"
   ]
  },
  {
   "cell_type": "code",
   "execution_count": 17,
   "metadata": {},
   "outputs": [
    {
     "name": "stderr",
     "output_type": "stream",
     "text": [
      "... storing 'leiden_bulkorg_strhormnoinhib' as categorical\n",
      "... storing 'leidenres2_bulkorg_strhormnoinhib' as categorical\n"
     ]
    }
   ],
   "source": [
    "adata.obs[\"Days\"] = pd.Categorical(adata.obs[\"Days\"], [0, 2, 6], ordered=True)\n",
    "adata.uns[\"Days_colors\"] = [\"#00CCFF\", \"#559900\", \"#FF0000\"]\n",
    "adata.uns[\"Inhibitor_colors\"] = [\"#CC0000\", \"#AAFFAA\", \"#8888FF\"]\n",
    "adata.uns[\"Hormones_colors\"] = [\"#00CCFF\", \"#00CC00\", \"#EEAA00\"]\n",
    "adata.uns[\"demultiplexed_colors\"] = [\"#AA0000\", \"#CCCC00\", \"#00DD00\", \"#FF0000\", \"#CC0000\", \"#00CCCC\", \"#888888\"]\n",
    "adata.write_h5ad(\"N2-integrated_organoids.h5ad\")"
   ]
  },
  {
   "cell_type": "code",
   "execution_count": null,
   "metadata": {},
   "outputs": [],
   "source": []
  }
 ],
 "metadata": {
  "kernelspec": {
   "display_name": "Python 3",
   "language": "python",
   "name": "python3"
  },
  "language_info": {
   "codemirror_mode": {
    "name": "ipython",
    "version": 3
   },
   "file_extension": ".py",
   "mimetype": "text/x-python",
   "name": "python",
   "nbconvert_exporter": "python",
   "pygments_lexer": "ipython3",
   "version": "3.7.6"
  }
 },
 "nbformat": 4,
 "nbformat_minor": 4
}

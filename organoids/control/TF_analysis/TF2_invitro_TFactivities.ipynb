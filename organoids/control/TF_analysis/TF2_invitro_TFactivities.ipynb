{
 "cells": [
  {
   "cell_type": "code",
   "execution_count": 7,
   "metadata": {},
   "outputs": [],
   "source": [
    "library(dplyr)\n",
    "library(RColorBrewer)\n",
    "library(harmony)\n",
    "library(ggplot2)\n",
    "library(pheatmap)\n",
    "library(cowplot)\n",
    "require(viper)\n",
    "require(reshape2)"
   ]
  },
  {
   "cell_type": "markdown",
   "metadata": {},
   "source": [
    "## Load DE expression info"
   ]
  },
  {
   "cell_type": "code",
   "execution_count": 8,
   "metadata": {},
   "outputs": [
    {
     "data": {
      "text/html": [
       "<style>\n",
       ".list-inline {list-style: none; margin:0; padding: 0}\n",
       ".list-inline>li {display: inline-block}\n",
       ".list-inline>li:not(:last-child)::after {content: \"\\00b7\"; padding: 0 .5ex}\n",
       "</style>\n",
       "<ol class=list-inline><li>'Estrogen_Induced'</li><li>'Preciliated'</li><li>'Ciliated'</li><li>'Inflamatory'</li><li>'Secretory'</li><li>'Secretory_Proliferative'</li></ol>\n"
      ],
      "text/latex": [
       "\\begin{enumerate*}\n",
       "\\item 'Estrogen\\_Induced'\n",
       "\\item 'Preciliated'\n",
       "\\item 'Ciliated'\n",
       "\\item 'Inflamatory'\n",
       "\\item 'Secretory'\n",
       "\\item 'Secretory\\_Proliferative'\n",
       "\\end{enumerate*}\n"
      ],
      "text/markdown": [
       "1. 'Estrogen_Induced'\n",
       "2. 'Preciliated'\n",
       "3. 'Ciliated'\n",
       "4. 'Inflamatory'\n",
       "5. 'Secretory'\n",
       "6. 'Secretory_Proliferative'\n",
       "\n",
       "\n"
      ],
      "text/plain": [
       "[1] \"Estrogen_Induced\"        \"Preciliated\"            \n",
       "[3] \"Ciliated\"                \"Inflamatory\"            \n",
       "[5] \"Secretory\"               \"Secretory_Proliferative\""
      ]
     },
     "metadata": {},
     "output_type": "display_data"
    }
   ],
   "source": [
    "# you need to put in a folder the DE files of the clusters that you're interested in\n",
    "# The file must contain at least four columns (aka, you can reuse the output of the DEG files):\n",
    "# - Gene: gene symbol\n",
    "# - cluster: cell type\n",
    "# - adj.P.Val: adjusted p-value from the DE test\n",
    "# - logFC: from the DE test\n",
    "path_DE = '/lustre/scratch117/cellgen/team292/lh20/Sharing/Luz/bulkorg_noinhib_DEtables.rds'\n",
    "DE_df = readRDS(path_DE)\n",
    "\n",
    "# # Build dictionary clusters2DEGs\n",
    "DE_df = lapply(DE_df, function(x) {\n",
    "    x$Log2FC = round(x$Log2FC, digits = 2)\n",
    "    return(x)\n",
    "} )\n",
    "               \n",
    "# length(DE_df)\n",
    "names(DE_df)"
   ]
  },
  {
   "cell_type": "code",
   "execution_count": 9,
   "metadata": {},
   "outputs": [
    {
     "data": {
      "text/html": [
       "152946"
      ],
      "text/latex": [
       "152946"
      ],
      "text/markdown": [
       "152946"
      ],
      "text/plain": [
       "[1] 152946"
      ]
     },
     "metadata": {},
     "output_type": "display_data"
    },
    {
     "data": {
      "text/html": [
       "44057"
      ],
      "text/latex": [
       "44057"
      ],
      "text/markdown": [
       "44057"
      ],
      "text/plain": [
       "[1] 44057"
      ]
     },
     "metadata": {},
     "output_type": "display_data"
    }
   ],
   "source": [
    "DEGs_table = melt(DE_df, id.vars = names(DE_df[[1]]) )\n",
    "DEGs_table = cbind(DEGs_table[, 12:13], DEGs_table[, -c(12:13)])\n",
    "names(DEGs_table)[2] = 'organoidCtrl_cluster'\n",
    "nrow(DEGs_table)\n",
    "DEGs_table = subset(DEGs_table, 10^DESeq2Log10Pvalue < 0.1)\n",
    "nrow(DEGs_table)\n",
    "write.csv(DEGs_table, file = '/home/jovyan/farm/endometrium_v2/invitro/epithelial_DEGs.csv', row.names = F, quote = F)"
   ]
  },
  {
   "cell_type": "markdown",
   "metadata": {},
   "source": [
    "### Estimate Dorothea Regulons"
   ]
  },
  {
   "cell_type": "code",
   "execution_count": 10,
   "metadata": {},
   "outputs": [],
   "source": [
    "viper_gset = get(load('~/farm/gsea/genesets/dorotheav2-top10scoring_VentoLab20201111.rdata'))"
   ]
  },
  {
   "cell_type": "code",
   "execution_count": 11,
   "metadata": {},
   "outputs": [
    {
     "name": "stderr",
     "output_type": "stream",
     "text": [
      "Computing regulon enrichment with aREA algorithm\n",
      "\n"
     ]
    },
    {
     "name": "stdout",
     "output_type": "stream",
     "text": [
      "  |======================================================================| 100%"
     ]
    },
    {
     "name": "stderr",
     "output_type": "stream",
     "text": [
      "Computing regulon enrichment with aREA algorithm\n",
      "\n"
     ]
    },
    {
     "name": "stdout",
     "output_type": "stream",
     "text": [
      "  |======================================================================| 100%"
     ]
    },
    {
     "name": "stderr",
     "output_type": "stream",
     "text": [
      "Computing regulon enrichment with aREA algorithm\n",
      "\n"
     ]
    },
    {
     "name": "stdout",
     "output_type": "stream",
     "text": [
      "  |======================================================================| 100%"
     ]
    },
    {
     "name": "stderr",
     "output_type": "stream",
     "text": [
      "Computing regulon enrichment with aREA algorithm\n",
      "\n"
     ]
    },
    {
     "name": "stdout",
     "output_type": "stream",
     "text": [
      "  |======================================================================| 100%"
     ]
    },
    {
     "name": "stderr",
     "output_type": "stream",
     "text": [
      "Computing regulon enrichment with aREA algorithm\n",
      "\n"
     ]
    },
    {
     "name": "stdout",
     "output_type": "stream",
     "text": [
      "  |======================================================================| 100%"
     ]
    },
    {
     "name": "stderr",
     "output_type": "stream",
     "text": [
      "Computing regulon enrichment with aREA algorithm\n",
      "\n"
     ]
    },
    {
     "name": "stdout",
     "output_type": "stream",
     "text": [
      "  |======================================================================| 100%"
     ]
    }
   ],
   "source": [
    "# For each DEG file\n",
    "results = list()\n",
    "for (cl_name in names(DE_df)){\n",
    "\n",
    "  DEsignature = DE_df[[cl_name]]    \n",
    "  DEsignature$Gene = rownames(DEsignature)\n",
    "    \n",
    "  # Estimate z-score values for the GES. Cheeck VIPER manual for details\n",
    "  myStatistics = matrix(DEsignature$Log2FC, dimnames = list(DEsignature$Gene, 'logFC') )\n",
    "  myPvalue = matrix(10^DEsignature$DESeq2Log10Pvalue, dimnames = list(DEsignature$Gene, 'P.Value') )\n",
    "  mySignature = (qnorm(myPvalue/2, lower.tail = FALSE) * sign(myStatistics))[, 1]\n",
    "  mySignature = mySignature[order(mySignature, decreasing = T)]\n",
    "  # Estimate TF activities\n",
    "  mrs = msviper(ges = mySignature, regulon = viper_gset, minsize = 4, ges.filter = F)\n",
    "#   mrs = msviper(ges = myStatistics[,1][order(myStatistics[,1], decreasing = T)], regulon = viper_gset, minsize = 3, ges.filter = F)\n",
    "  cl_enrichment = data.frame(Regulon = names(mrs$es$nes),\n",
    "                             cluster = cl_name,\n",
    "                             Size = mrs$es$size[ names(mrs$es$nes) ], \n",
    "                             NES = mrs$es$nes, \n",
    "                             p.value = mrs$es$p.value, \n",
    "                             FDR = p.adjust(mrs$es$p.value, method = 'fdr'))\n",
    "  cl_enrichment = subset(cl_enrichment, Size < 200)\n",
    "#   cl_enrichment = subset(cl_enrichment, FDR < 0.1)\n",
    "  cl_enrichment = cl_enrichment[ order(cl_enrichment$p.value), ]\n",
    "  if( nrow(cl_enrichment) > 0 )\n",
    "    results[[cl_name]] = cl_enrichment\n",
    "}\n",
    "\n",
    "df = melt(results, id.vars = names(results[[1]]))\n",
    "df = df[, c(2,1,4:6,3)]\n",
    "df = df[ order(df$p.value), ]\n",
    "write.csv(df, file = '/home/jovyan/farm/endometrium_v2/invitro/out/TFs_activities.csv', row.names = F, quote = F)"
   ]
  },
  {
   "cell_type": "code",
   "execution_count": 12,
   "metadata": {},
   "outputs": [
    {
     "name": "stdout",
     "output_type": "stream",
     "text": [
      "[1] \"Estrogen_Induced\"\n",
      "[1] \"Preciliated\"\n",
      "[1] \"Ciliated\"\n",
      "[1] \"Inflamatory\"\n",
      "[1] \"Secretory\"\n",
      "[1] \"Secretory_Proliferative\"\n"
     ]
    }
   ],
   "source": [
    "agreementTFs = list()\n",
    "\n",
    "# For each cluster, check TFs agreement\n",
    "for (cl in names(DE_df)){\n",
    "  print(cl)\n",
    "    \n",
    "  # Load DEGs for cluster\n",
    "  DEGs = DE_df[[cl]]  \n",
    "  DEGs$Gene = rownames(DEGs)\n",
    "  \n",
    "  # Filter TF activities for cluster\n",
    "  cl_TFact = subset(df, cluster == cl)\n",
    "  \n",
    "  if(nrow(cl_TFact) == 0)\n",
    "    next()\n",
    "  \n",
    "  # Find DEG and activities agreement\n",
    "  cl_TFact$TF = sapply(strsplit(cl_TFact$Regulon, ' - '), head, 1)\n",
    "  cl_TFact$TF = sapply(strsplit(cl_TFact$TF, '_'), head, 1)\n",
    "  sharedTFs = intersect(subset(DEGs, 10^DESeq2Log10Pvalue < 0.1 )$Gene,\n",
    "                        subset(cl_TFact, FDR < 0.1)$TF)\n",
    "  \n",
    "  if( length(sharedTFs) > 0 ) {\n",
    "    \n",
    "    # Add TFs agreement info\n",
    "    TF_df = data.frame(cl = cl, TF = sharedTFs, stringsAsFactors = F)\n",
    "    TF_df$TF_expression = 'upregulated'\n",
    "    TF_df$TF_expression[ TF_df$TF %in% subset(DEGs, Log2FC < 0)$Gene ] = 'downregulated'\n",
    "    TF_df$TF_expression_pvals = 10^DEGs$DESeq2Log10Pvalue[ match(TF_df$TF, DEGs$Gene) ]\n",
    "    TF_df$TF_activity = 'active_regulon'\n",
    "    TF_df$TF_activity_FDR = cl_TFact$FDR[ match(TF_df$TF, cl_TFact$TF) ]\n",
    "    TF_df$TF_activity_score = cl_TFact$NES[ match(TF_df$TF, cl_TFact$TF) ]\n",
    "    TF_df$TF_activity[ TF_df$TF_activity_score < 0 ] = 'inactive_regulon'\n",
    "    agreementTFs[[cl]] = TF_df\n",
    "    \n",
    "  }\n",
    "  \n",
    "}\n",
    "\n",
    "\n",
    "# merge TF agreement\n",
    "if( length(agreementTFs)>0 ){\n",
    "  TF_df = melt(agreementTFs, id.vars = names(agreementTFs[[1]]))\n",
    "  TF_df$TF_expression_pvals = signif(TF_df$TF_expression_pvals,3)\n",
    "  TF_df$TF_activity_FDR = signif(TF_df$TF_activity_FDR,3)\n",
    "  TF_df = TF_df[order(TF_df$TF_expression_pvals), ]\n",
    "  TF_df = TF_df[order(TF_df$cl), ]\n",
    "  write.table(TF_df, file = '/home/jovyan/farm/endometrium_v2/invitro/out/TFactivities_and_expression_agreement.tsv', row.names = F, quote = F, sep = '\\t')\n",
    "}"
   ]
  },
  {
   "cell_type": "code",
   "execution_count": null,
   "metadata": {},
   "outputs": [],
   "source": []
  }
 ],
 "metadata": {
  "kernelspec": {
   "display_name": "R",
   "language": "R",
   "name": "ir"
  },
  "language_info": {
   "codemirror_mode": "r",
   "file_extension": ".r",
   "mimetype": "text/x-r-source",
   "name": "R",
   "pygments_lexer": "r",
   "version": "4.0.0"
  }
 },
 "nbformat": 4,
 "nbformat_minor": 4
}

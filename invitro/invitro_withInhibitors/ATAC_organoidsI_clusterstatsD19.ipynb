{
 "cells": [
  {
   "cell_type": "markdown",
   "metadata": {},
   "source": [
    "# Inhibitor effect on celltype"
   ]
  },
  {
   "cell_type": "code",
   "execution_count": 1,
   "metadata": {},
   "outputs": [
    {
     "name": "stderr",
     "output_type": "stream",
     "text": [
      "\n",
      "Attaching package: ‘dplyr’\n",
      "\n",
      "\n",
      "The following objects are masked from ‘package:stats’:\n",
      "\n",
      "    filter, lag\n",
      "\n",
      "\n",
      "The following objects are masked from ‘package:base’:\n",
      "\n",
      "    intersect, setdiff, setequal, union\n",
      "\n",
      "\n",
      "\n",
      "********************************************************\n",
      "\n",
      "Note: As of version 1.0.0, cowplot does not change the\n",
      "\n",
      "  default ggplot2 theme anymore. To recover the previous\n",
      "\n",
      "  behavior, execute:\n",
      "  theme_set(theme_cowplot())\n",
      "\n",
      "********************************************************\n",
      "\n",
      "\n"
     ]
    }
   ],
   "source": [
    "# If problems installing slingshot\n",
    "# sudo apt-get update\n",
    "# sudo apt-get install libglu1-mesa-dev \n",
    "# sudo apt-get install freeglut3-dev\n",
    "# sudo apt-get install mesa-common-dev\n",
    "# then\n",
    "# install.packages(\"rgl\")\n",
    "# BiocManager::install(\"slingshot\")\n",
    "library(dplyr)\n",
    "library(RColorBrewer)\n",
    "library(destiny, quietly = TRUE)\n",
    "library(ggplot2)\n",
    "library(pheatmap)\n",
    "library(cowplot)\n",
    "library(reshape2)"
   ]
  },
  {
   "cell_type": "code",
   "execution_count": 2,
   "metadata": {},
   "outputs": [
    {
     "data": {
      "text/plain": [
       "R version 4.0.0 (2020-04-24)\n",
       "Platform: x86_64-conda_cos6-linux-gnu (64-bit)\n",
       "Running under: Ubuntu 18.04.3 LTS\n",
       "\n",
       "Matrix products: default\n",
       "BLAS/LAPACK: /home/jovyan/my-conda-envs/R4/lib/libopenblasp-r0.3.9.so\n",
       "\n",
       "locale:\n",
       " [1] LC_CTYPE=en_US.UTF-8       LC_NUMERIC=C              \n",
       " [3] LC_TIME=en_US.UTF-8        LC_COLLATE=en_US.UTF-8    \n",
       " [5] LC_MONETARY=en_US.UTF-8    LC_MESSAGES=en_US.UTF-8   \n",
       " [7] LC_PAPER=en_US.UTF-8       LC_NAME=C                 \n",
       " [9] LC_ADDRESS=C               LC_TELEPHONE=C            \n",
       "[11] LC_MEASUREMENT=en_US.UTF-8 LC_IDENTIFICATION=C       \n",
       "\n",
       "attached base packages:\n",
       "[1] stats     graphics  grDevices utils     datasets  methods   base     \n",
       "\n",
       "other attached packages:\n",
       "[1] reshape2_1.4.4     cowplot_1.0.0      pheatmap_1.0.12    ggplot2_3.3.1     \n",
       "[5] destiny_3.2.0      RColorBrewer_1.1-2 dplyr_1.0.0       \n",
       "\n",
       "loaded via a namespace (and not attached):\n",
       " [1] bitops_1.0-6                matrixStats_0.56.0         \n",
       " [3] xts_0.12-0                  GenomeInfoDb_1.24.0        \n",
       " [5] repr_1.1.0                  tools_4.0.0                \n",
       " [7] R6_2.4.1                    irlba_2.3.3                \n",
       " [9] BiocGenerics_0.34.0         colorspace_1.4-1           \n",
       "[11] nnet_7.3-14                 withr_2.2.0                \n",
       "[13] sp_1.4-2                    tidyselect_1.1.0           \n",
       "[15] smoother_1.1                curl_4.3                   \n",
       "[17] compiler_4.0.0              Biobase_2.48.0             \n",
       "[19] DelayedArray_0.14.0         scales_1.1.1               \n",
       "[21] DEoptimR_1.0-8              lmtest_0.9-37              \n",
       "[23] hexbin_1.28.1               robustbase_0.93-6          \n",
       "[25] proxy_0.4-24                pbdZMQ_0.3-3               \n",
       "[27] stringr_1.4.0               digest_0.6.25              \n",
       "[29] foreign_0.8-80              rio_0.5.16                 \n",
       "[31] XVector_0.28.0              base64enc_0.1-3            \n",
       "[33] pkgconfig_2.0.3             htmltools_0.4.0            \n",
       "[35] TTR_0.23-6                  rlang_0.4.6                \n",
       "[37] ggthemes_4.2.0              readxl_1.3.1               \n",
       "[39] generics_0.0.2              zoo_1.8-8                  \n",
       "[41] jsonlite_1.6.1              zip_2.0.4                  \n",
       "[43] car_3.0-8                   RCurl_1.98-1.2             \n",
       "[45] magrittr_1.5                GenomeInfoDbData_1.2.3     \n",
       "[47] Matrix_1.2-18               Rcpp_1.0.4.6               \n",
       "[49] IRkernel_1.1                munsell_0.5.0              \n",
       "[51] S4Vectors_0.26.1            abind_1.4-5                \n",
       "[53] lifecycle_0.2.0             scatterplot3d_0.3-41       \n",
       "[55] stringi_1.4.6               carData_3.0-4              \n",
       "[57] MASS_7.3-51.6               SummarizedExperiment_1.18.1\n",
       "[59] zlibbioc_1.34.0             plyr_1.8.6                 \n",
       "[61] grid_4.0.0                  parallel_4.0.0             \n",
       "[63] forcats_0.5.0               crayon_1.3.4               \n",
       "[65] lattice_0.20-41             IRdisplay_0.7.0            \n",
       "[67] haven_2.3.1                 hms_0.5.3                  \n",
       "[69] pillar_1.4.4                ranger_0.12.1              \n",
       "[71] GenomicRanges_1.40.0        uuid_0.1-4                 \n",
       "[73] boot_1.3-25                 RcppHNSW_0.2.0             \n",
       "[75] codetools_0.2-16            stats4_4.0.0               \n",
       "[77] glue_1.4.1                  evaluate_0.14              \n",
       "[79] pcaMethods_1.80.0           data.table_1.12.8          \n",
       "[81] laeken_0.5.1                vcd_1.4-7                  \n",
       "[83] vctrs_0.3.0                 VIM_6.0.0                  \n",
       "[85] cellranger_1.1.0            tidyr_1.1.0                \n",
       "[87] gtable_0.3.0                purrr_0.3.4                \n",
       "[89] openxlsx_4.1.5              RcppEigen_0.3.3.7.0        \n",
       "[91] e1071_1.7-3                 RSpectra_0.16-0            \n",
       "[93] class_7.3-17                SingleCellExperiment_1.10.1\n",
       "[95] tibble_3.0.1                IRanges_2.22.2             \n",
       "[97] ggplot.multistats_1.0.0     ellipsis_0.3.1             "
      ]
     },
     "metadata": {},
     "output_type": "display_data"
    }
   ],
   "source": [
    "sessionInfo()"
   ]
  },
  {
   "cell_type": "markdown",
   "metadata": {},
   "source": [
    "# Process with Seurat from raw"
   ]
  },
  {
   "cell_type": "code",
   "execution_count": 6,
   "metadata": {},
   "outputs": [],
   "source": [
    "metadata = read.csv('data/scATAC/seurat.output-S2D19/data/barcode_metadata.csv', stringsAsFactors = F)\n",
    "names(metadata)[1] = 'index'\n",
    "names(metadata)[ names(metadata) == 'inhibitor' ] = 'Inhibition'\n",
    "names(metadata)[ names(metadata) == 'day' ] = 'Days'\n",
    "names(metadata)[ names(metadata) == 'celltype' ] = 'clusters'"
   ]
  },
  {
   "cell_type": "code",
   "execution_count": 9,
   "metadata": {},
   "outputs": [],
   "source": [
    "create_contingency_table = function(perturbed_cl, control_cl, perturbed, control){\n",
    "    if(length(perturbed_cl) == 0 || length(control_cl) == 0){\n",
    "        perturbed_cl = c(perturbed_cl, '1')\n",
    "        control_cl = c(control_cl, '1')\n",
    "        perturbed = c(perturbed, '1')\n",
    "        control = c(control, '1')\n",
    "    }\n",
    "    m = matrix(c(length(perturbed_cl), length(control_cl), \n",
    "               length(perturbed),  length(control)), \n",
    "             ncol = 2, dimnames = list(c('I', 'C'), c('in_cl', 'total')) )\n",
    "  return(m)  \n",
    "}\n",
    "\n",
    "\n",
    "enrichment = function(perturbed_cl, control_cl, perturbed, control){\n",
    "  funtable = create_contingency_table(perturbed_cl, control_cl, perturbed, control)\n",
    "  out = NULL\n",
    "#   if ( funtable[1,1] > 1 ){\n",
    "    ft = fisher.test(funtable)\n",
    "    pvalue = ft$p.value\n",
    "    estimate = ft$estimate\n",
    "    conf.int = ft$conf.int\n",
    "    out = data.frame(pvalue= pvalue, odds.ratio = estimate, min_confint = conf.int[1], max_confint = conf.int[2],  stringsAsFactors = F)\n",
    "  return(out)\n",
    "#   }\n",
    "}\n",
    "\n",
    "test_cluster = function(cl){\n",
    "    message(cl)\n",
    "    results = list()\n",
    "    for (I in inhibitors)\n",
    "        for (tm in times){\n",
    "            perturbed = subset(metadata, Inhibition == I & Days == tm)$index\n",
    "            perturbed_cl = subset(metadata, Inhibition == I & Days == tm & clusters == cl)$index\n",
    "            control = subset(metadata, Inhibition == 'N_I' & Days == tm)$index\n",
    "            control_cl = subset(metadata, Inhibition == 'N_I' & Days == tm & clusters == cl)$index\n",
    "            out = enrichment(perturbed_cl, control_cl, perturbed, control)\n",
    "            if( is.null(out))\n",
    "                next()\n",
    "            out$inhibitor2 = I\n",
    "            out$inhibitor = I\n",
    "            out$id = paste0(out$inhibitor , ' day', tm)\n",
    "            out$cell_type = cl\n",
    "            results[[paste0(I, '_day', tm) ]] = out\n",
    "\n",
    "        }\n",
    "    df = melt(results, id.vars = colnames(results[[1]]))[, -9]\n",
    "    df$pvalue_adj = p.adjust(df$pvalue, method = 'bonferroni')\n",
    "    df$label = ifelse(df$pvalue_adj < 0.05, '*', '')\n",
    "    df$label[ df$pvalue_adj < 0.01] = '**'\n",
    "    df$label[ df$pvalue_adj < 0.001] = '***'\n",
    "    print(df)\n",
    "    \n",
    "    y_max = max(df$max_confint[ ! is.infinite(df$max_confint) ] )\n",
    "    y_max = log(y_max) + 0.7\n",
    "    P = ggplot(df, aes(x=id, y=log(odds.ratio), fill = inhibitor, label = label) ) + \n",
    "       # scale_y_continuous(limits = log(c(min(df$min_confint[ ! is.infinite(df$min_confint) ]), max(df$max_confint[ ! is.infinite(df$max_confint) ] ) )) ) + \n",
    "        scale_y_continuous(limits = c(log(min(df$min_confint[ ! is.infinite(df$min_confint) ])), y_max) ) + \n",
    "        geom_bar(stat = 'identity') + \n",
    "        geom_point(show.legend = F) + \n",
    "        geom_errorbar(mapping = aes(ymin = log(min_confint), ymax = log(max_confint)), width=0.5, size=0.2) +\n",
    "        geom_text(color = 'black', y = y_max*0.9, size = 8) +\n",
    "        scale_fill_manual(values = c(\"#6c94d9\", \"#e39696\") ) +\n",
    "        theme_bw(18) + theme(axis.text.x = element_text(angle = 90, vjust = 0.5, hjust = 1), \n",
    "                             panel.grid.major = element_blank(), panel.grid.minor = element_blank()) + \n",
    "        ggtitle(cl) + xlab('') + ylab('odds ratio (log scale)\\n N cells enrichment')\n",
    "    P\n",
    "    \n",
    "    ggsave(filename = paste0('data/scATAC/seurat.output-S2D19/general/barplot_inhibitorsenrichment_', cl, '.pdf') )\n",
    "    return(P)\n",
    "}"
   ]
  },
  {
   "cell_type": "code",
   "execution_count": null,
   "metadata": {},
   "outputs": [
    {
     "name": "stderr",
     "output_type": "stream",
     "text": [
      "proliferative\n",
      "\n"
     ]
    },
    {
     "name": "stdout",
     "output_type": "stream",
     "text": [
      "        pvalue odds.ratio min_confint max_confint inhibitor2 inhibitor\n",
      "1 7.168560e-01  0.9747415   0.8547747    1.111646   NOTCH-in  NOTCH-in\n",
      "2 3.635628e-14  0.6181130   0.5417407    0.703795   NOTCH-in  NOTCH-in\n",
      "3 6.710961e-01  1.0287717   0.9031718    1.171980     WNT-in    WNT-in\n",
      "4 1.477796e-02  1.1675655   1.0292063    1.322576     WNT-in    WNT-in\n",
      "             id     cell_type   pvalue_adj label\n",
      "1 NOTCH-in day3 proliferative 1.000000e+00      \n",
      "2 NOTCH-in day7 proliferative 1.454251e-13   ***\n",
      "3   WNT-in day3 proliferative 1.000000e+00      \n",
      "4   WNT-in day7 proliferative 5.911185e-02      \n"
     ]
    },
    {
     "name": "stderr",
     "output_type": "stream",
     "text": [
      "Saving 6.67 x 6.67 in image\n",
      "\n",
      "inter_PGRneg\n",
      "\n"
     ]
    },
    {
     "name": "stdout",
     "output_type": "stream",
     "text": [
      "        pvalue odds.ratio min_confint max_confint inhibitor2 inhibitor\n",
      "1 1.910703e-08   1.274949    1.170179    1.389371   NOTCH-in  NOTCH-in\n",
      "2 1.073089e-05   2.480641    1.632425    3.773022   NOTCH-in  NOTCH-in\n",
      "3 2.951736e-04   1.173410    1.075509    1.280342     WNT-in    WNT-in\n",
      "4 9.593339e-12   4.092886    2.703563    6.207404     WNT-in    WNT-in\n",
      "             id    cell_type   pvalue_adj label\n",
      "1 NOTCH-in day3 inter_PGRneg 7.642811e-08   ***\n",
      "2 NOTCH-in day7 inter_PGRneg 4.292357e-05   ***\n",
      "3   WNT-in day3 inter_PGRneg 1.180694e-03    **\n",
      "4   WNT-in day7 inter_PGRneg 3.837336e-11   ***\n"
     ]
    },
    {
     "name": "stderr",
     "output_type": "stream",
     "text": [
      "Saving 6.67 x 6.67 in image\n",
      "\n",
      "Warning message:\n",
      "“Removed 4 rows containing missing values (geom_bar).”\n",
      "KRT5_LRG6\n",
      "\n"
     ]
    },
    {
     "name": "stdout",
     "output_type": "stream",
     "text": [
      "         pvalue odds.ratio min_confint max_confint inhibitor2 inhibitor\n",
      "1  2.569114e-01  0.9094673   0.7734760    1.069259   NOTCH-in  NOTCH-in\n",
      "2 4.993927e-246  6.7639283   5.9875629    7.653755   NOTCH-in  NOTCH-in\n",
      "3  9.049794e-01  0.9904692   0.8447003    1.161526     WNT-in    WNT-in\n",
      "4  1.363901e-01  0.8322765   0.6491982    1.057164     WNT-in    WNT-in\n",
      "             id cell_type    pvalue_adj label\n",
      "1 NOTCH-in day3 KRT5_LRG6  1.000000e+00      \n",
      "2 NOTCH-in day7 KRT5_LRG6 1.997571e-245   ***\n",
      "3   WNT-in day3 KRT5_LRG6  1.000000e+00      \n",
      "4   WNT-in day7 KRT5_LRG6  5.455605e-01      \n"
     ]
    },
    {
     "name": "stderr",
     "output_type": "stream",
     "text": [
      "Saving 6.67 x 6.67 in image\n",
      "\n",
      "inter\n",
      "\n"
     ]
    },
    {
     "name": "stdout",
     "output_type": "stream",
     "text": [
      "        pvalue odds.ratio min_confint max_confint inhibitor2 inhibitor\n",
      "1 2.743768e-02  1.4437525   1.0288005   2.0392091   NOTCH-in  NOTCH-in\n",
      "2 7.027879e-02  1.0997190   0.9919397   1.2183814   NOTCH-in  NOTCH-in\n",
      "3 1.771513e-17  3.2218440   2.3953850   4.3874077     WNT-in    WNT-in\n",
      "4 3.442183e-55  0.2256796   0.1775486   0.2835591     WNT-in    WNT-in\n",
      "             id cell_type   pvalue_adj label\n",
      "1 NOTCH-in day3     inter 1.097507e-01      \n",
      "2 NOTCH-in day7     inter 2.811151e-01      \n",
      "3   WNT-in day3     inter 7.086054e-17   ***\n",
      "4   WNT-in day7     inter 1.376873e-54   ***\n"
     ]
    },
    {
     "name": "stderr",
     "output_type": "stream",
     "text": [
      "Saving 6.67 x 6.67 in image\n",
      "\n"
     ]
    }
   ],
   "source": [
    "inhibitors = setdiff(metadata$Inhibition, 'N_I')\n",
    "times = c(3, 7)\n",
    "Re = list()\n",
    "for (cl in unique(metadata$clusters) )\n",
    "    try(Re[[cl]] <- test_cluster(cl))\n",
    "Re"
   ]
  },
  {
   "cell_type": "code",
   "execution_count": null,
   "metadata": {},
   "outputs": [],
   "source": []
  },
  {
   "cell_type": "code",
   "execution_count": null,
   "metadata": {},
   "outputs": [],
   "source": []
  }
 ],
 "metadata": {
  "kernelspec": {
   "display_name": "R",
   "language": "R",
   "name": "ir"
  },
  "language_info": {
   "codemirror_mode": "r",
   "file_extension": ".r",
   "mimetype": "text/x-r-source",
   "name": "R",
   "pygments_lexer": "r",
   "version": "4.0.0"
  }
 },
 "nbformat": 4,
 "nbformat_minor": 4
}

{
 "cells": [
  {
   "cell_type": "markdown",
   "metadata": {},
   "source": [
    "#  Plot TFs"
   ]
  },
  {
   "cell_type": "code",
   "execution_count": 1,
   "metadata": {},
   "outputs": [
    {
     "name": "stderr",
     "output_type": "stream",
     "text": [
      "\n",
      "Attaching package: ‘dplyr’\n",
      "\n",
      "\n",
      "The following objects are masked from ‘package:stats’:\n",
      "\n",
      "    filter, lag\n",
      "\n",
      "\n",
      "The following objects are masked from ‘package:base’:\n",
      "\n",
      "    intersect, setdiff, setequal, union\n",
      "\n",
      "\n",
      "------------------------------------------------------------------------------\n",
      "\n",
      "You have loaded plyr after dplyr - this is likely to cause problems.\n",
      "If you need functions from both plyr and dplyr, please load plyr first, then dplyr:\n",
      "library(plyr); library(dplyr)\n",
      "\n",
      "------------------------------------------------------------------------------\n",
      "\n",
      "\n",
      "Attaching package: ‘plyr’\n",
      "\n",
      "\n",
      "The following objects are masked from ‘package:dplyr’:\n",
      "\n",
      "    arrange, count, desc, failwith, id, mutate, rename, summarise,\n",
      "    summarize\n",
      "\n",
      "\n",
      "\n",
      "********************************************************\n",
      "\n",
      "Note: As of version 1.0.0, cowplot does not change the\n",
      "\n",
      "  default ggplot2 theme anymore. To recover the previous\n",
      "\n",
      "  behavior, execute:\n",
      "  theme_set(theme_cowplot())\n",
      "\n",
      "********************************************************\n",
      "\n",
      "\n"
     ]
    }
   ],
   "source": [
    "library(dplyr)\n",
    "library(reshape2)\n",
    "library(plyr)\n",
    "library(RColorBrewer)\n",
    "library(ggplot2)\n",
    "library(pheatmap)\n",
    "library(cowplot)"
   ]
  },
  {
   "cell_type": "markdown",
   "metadata": {},
   "source": [
    "## Load TF activities/enrichemnt file"
   ]
  },
  {
   "cell_type": "code",
   "execution_count": 2,
   "metadata": {},
   "outputs": [
    {
     "data": {
      "text/html": [
       "<table>\n",
       "<caption>A data.frame: 6 × 7</caption>\n",
       "<thead>\n",
       "\t<tr><th></th><th scope=col>cl_name</th><th scope=col>Regulon</th><th scope=col>NES</th><th scope=col>p.value</th><th scope=col>FDR</th><th scope=col>Size</th><th scope=col>id</th></tr>\n",
       "\t<tr><th></th><th scope=col>&lt;chr&gt;</th><th scope=col>&lt;chr&gt;</th><th scope=col>&lt;dbl&gt;</th><th scope=col>&lt;dbl&gt;</th><th scope=col>&lt;dbl&gt;</th><th scope=col>&lt;int&gt;</th><th scope=col>&lt;chr&gt;</th></tr>\n",
       "</thead>\n",
       "<tbody>\n",
       "\t<tr><th scope=row>1</th><td>cl_Inter_PGRpos_DEGs     </td><td>CSRNP1_E</td><td>18.08183</td><td>4.431211e-73</td><td>4.383734e-71</td><td>154</td><td>cl_Inter_PGRpos_DEGs CSRNP1_E    </td></tr>\n",
       "\t<tr><th scope=row>2</th><td>cl_Ciliated_G2M_DEGs     </td><td>ZNF19_E </td><td>15.42087</td><td>1.184992e-53</td><td>4.103034e-51</td><td>175</td><td>cl_Ciliated_G2M_DEGs ZNF19_E     </td></tr>\n",
       "\t<tr><th scope=row>3</th><td>cl_Ciliated_DEGs         </td><td>FOXJ1_E </td><td>15.33469</td><td>4.484099e-53</td><td>1.940774e-51</td><td>154</td><td>cl_Ciliated_DEGs FOXJ1_E         </td></tr>\n",
       "\t<tr><th scope=row>4</th><td>cl_KRT5_KRT13_scanpy_DEGs</td><td>ZBED2_E </td><td>15.09429</td><td>1.765883e-51</td><td>2.650787e-49</td><td>183</td><td>cl_KRT5_KRT13_scanpy_DEGs ZBED2_E</td></tr>\n",
       "\t<tr><th scope=row>7</th><td>cl_proliferative_DEGs    </td><td>ZNF749_E</td><td>14.86131</td><td>5.876604e-50</td><td>1.453410e-48</td><td>195</td><td>cl_proliferative_DEGs ZNF749_E   </td></tr>\n",
       "\t<tr><th scope=row>9</th><td>cl_Inter_PGRpos_DEGs     </td><td>ZNF749_E</td><td>14.61859</td><td>2.137906e-48</td><td>1.057500e-46</td><td>195</td><td>cl_Inter_PGRpos_DEGs ZNF749_E    </td></tr>\n",
       "</tbody>\n",
       "</table>\n"
      ],
      "text/latex": [
       "A data.frame: 6 × 7\n",
       "\\begin{tabular}{r|lllllll}\n",
       "  & cl\\_name & Regulon & NES & p.value & FDR & Size & id\\\\\n",
       "  & <chr> & <chr> & <dbl> & <dbl> & <dbl> & <int> & <chr>\\\\\n",
       "\\hline\n",
       "\t1 & cl\\_Inter\\_PGRpos\\_DEGs      & CSRNP1\\_E & 18.08183 & 4.431211e-73 & 4.383734e-71 & 154 & cl\\_Inter\\_PGRpos\\_DEGs CSRNP1\\_E    \\\\\n",
       "\t2 & cl\\_Ciliated\\_G2M\\_DEGs      & ZNF19\\_E  & 15.42087 & 1.184992e-53 & 4.103034e-51 & 175 & cl\\_Ciliated\\_G2M\\_DEGs ZNF19\\_E     \\\\\n",
       "\t3 & cl\\_Ciliated\\_DEGs          & FOXJ1\\_E  & 15.33469 & 4.484099e-53 & 1.940774e-51 & 154 & cl\\_Ciliated\\_DEGs FOXJ1\\_E         \\\\\n",
       "\t4 & cl\\_KRT5\\_KRT13\\_scanpy\\_DEGs & ZBED2\\_E  & 15.09429 & 1.765883e-51 & 2.650787e-49 & 183 & cl\\_KRT5\\_KRT13\\_scanpy\\_DEGs ZBED2\\_E\\\\\n",
       "\t7 & cl\\_proliferative\\_DEGs     & ZNF749\\_E & 14.86131 & 5.876604e-50 & 1.453410e-48 & 195 & cl\\_proliferative\\_DEGs ZNF749\\_E   \\\\\n",
       "\t9 & cl\\_Inter\\_PGRpos\\_DEGs      & ZNF749\\_E & 14.61859 & 2.137906e-48 & 1.057500e-46 & 195 & cl\\_Inter\\_PGRpos\\_DEGs ZNF749\\_E    \\\\\n",
       "\\end{tabular}\n"
      ],
      "text/markdown": [
       "\n",
       "A data.frame: 6 × 7\n",
       "\n",
       "| <!--/--> | cl_name &lt;chr&gt; | Regulon &lt;chr&gt; | NES &lt;dbl&gt; | p.value &lt;dbl&gt; | FDR &lt;dbl&gt; | Size &lt;int&gt; | id &lt;chr&gt; |\n",
       "|---|---|---|---|---|---|---|---|\n",
       "| 1 | cl_Inter_PGRpos_DEGs      | CSRNP1_E | 18.08183 | 4.431211e-73 | 4.383734e-71 | 154 | cl_Inter_PGRpos_DEGs CSRNP1_E     |\n",
       "| 2 | cl_Ciliated_G2M_DEGs      | ZNF19_E  | 15.42087 | 1.184992e-53 | 4.103034e-51 | 175 | cl_Ciliated_G2M_DEGs ZNF19_E      |\n",
       "| 3 | cl_Ciliated_DEGs          | FOXJ1_E  | 15.33469 | 4.484099e-53 | 1.940774e-51 | 154 | cl_Ciliated_DEGs FOXJ1_E          |\n",
       "| 4 | cl_KRT5_KRT13_scanpy_DEGs | ZBED2_E  | 15.09429 | 1.765883e-51 | 2.650787e-49 | 183 | cl_KRT5_KRT13_scanpy_DEGs ZBED2_E |\n",
       "| 7 | cl_proliferative_DEGs     | ZNF749_E | 14.86131 | 5.876604e-50 | 1.453410e-48 | 195 | cl_proliferative_DEGs ZNF749_E    |\n",
       "| 9 | cl_Inter_PGRpos_DEGs      | ZNF749_E | 14.61859 | 2.137906e-48 | 1.057500e-46 | 195 | cl_Inter_PGRpos_DEGs ZNF749_E     |\n",
       "\n"
      ],
      "text/plain": [
       "  cl_name                   Regulon  NES      p.value      FDR          Size\n",
       "1 cl_Inter_PGRpos_DEGs      CSRNP1_E 18.08183 4.431211e-73 4.383734e-71 154 \n",
       "2 cl_Ciliated_G2M_DEGs      ZNF19_E  15.42087 1.184992e-53 4.103034e-51 175 \n",
       "3 cl_Ciliated_DEGs          FOXJ1_E  15.33469 4.484099e-53 1.940774e-51 154 \n",
       "4 cl_KRT5_KRT13_scanpy_DEGs ZBED2_E  15.09429 1.765883e-51 2.650787e-49 183 \n",
       "7 cl_proliferative_DEGs     ZNF749_E 14.86131 5.876604e-50 1.453410e-48 195 \n",
       "9 cl_Inter_PGRpos_DEGs      ZNF749_E 14.61859 2.137906e-48 1.057500e-46 195 \n",
       "  id                               \n",
       "1 cl_Inter_PGRpos_DEGs CSRNP1_E    \n",
       "2 cl_Ciliated_G2M_DEGs ZNF19_E     \n",
       "3 cl_Ciliated_DEGs FOXJ1_E         \n",
       "4 cl_KRT5_KRT13_scanpy_DEGs ZBED2_E\n",
       "7 cl_proliferative_DEGs ZNF749_E   \n",
       "9 cl_Inter_PGRpos_DEGs ZNF749_E    "
      ]
     },
     "metadata": {},
     "output_type": "display_data"
    }
   ],
   "source": [
    "TF_activities = read.csv('figures_both_organoid/cluster_markers/TFs_activities.csv', stringsAsFactors = F)\n",
    "TF_activities = TF_activities[order(TF_activities$NES, decreasing = T), ]\n",
    "TF_activities$id = paste(TF_activities$cl_name, TF_activities$Regulon)\n",
    "\n",
    "head(TF_activities)"
   ]
  },
  {
   "cell_type": "markdown",
   "metadata": {},
   "source": [
    "## Load TF agreement file to retrieve DE sign"
   ]
  },
  {
   "cell_type": "code",
   "execution_count": 3,
   "metadata": {},
   "outputs": [
    {
     "data": {
      "text/html": [
       "<table>\n",
       "<caption>A data.frame: 6 × 10</caption>\n",
       "<thead>\n",
       "\t<tr><th></th><th scope=col>cl</th><th scope=col>TF</th><th scope=col>TF_expression</th><th scope=col>TF_expression_pvals_adj</th><th scope=col>TF_activity</th><th scope=col>TF_activity_pvals_adj</th><th scope=col>TF_activity_score</th><th scope=col>L1</th><th scope=col>id</th><th scope=col>annot</th></tr>\n",
       "\t<tr><th></th><th scope=col>&lt;chr&gt;</th><th scope=col>&lt;chr&gt;</th><th scope=col>&lt;chr&gt;</th><th scope=col>&lt;dbl&gt;</th><th scope=col>&lt;chr&gt;</th><th scope=col>&lt;dbl&gt;</th><th scope=col>&lt;chr&gt;</th><th scope=col>&lt;chr&gt;</th><th scope=col>&lt;chr&gt;</th><th scope=col>&lt;chr&gt;</th></tr>\n",
       "</thead>\n",
       "<tbody>\n",
       "\t<tr><th scope=row>1</th><td>cl_Ciliated_DEGs</td><td>FOXJ1</td><td>upregulated  </td><td> 0.00e+00</td><td>active_regulon  </td><td>1.94e-51</td><td>FOXJ1_E </td><td>cl_Ciliated_DEGs</td><td>cl_Ciliated_DEGs FOXJ1_E </td><td>+</td></tr>\n",
       "\t<tr><th scope=row>2</th><td>cl_Ciliated_DEGs</td><td>TP73 </td><td>upregulated  </td><td> 0.00e+00</td><td>active_regulon  </td><td>1.48e-03</td><td>TP73_C  </td><td>cl_Ciliated_DEGs</td><td>cl_Ciliated_DEGs TP73_C  </td><td>+</td></tr>\n",
       "\t<tr><th scope=row>3</th><td>cl_Ciliated_DEGs</td><td>MYC  </td><td>downregulated</td><td>4.07e-180</td><td>inactive_regulon</td><td>5.66e-27</td><td>MYC_AA  </td><td>cl_Ciliated_DEGs</td><td>cl_Ciliated_DEGs MYC_AA  </td><td>-</td></tr>\n",
       "\t<tr><th scope=row>4</th><td>cl_Ciliated_DEGs</td><td>ETV4 </td><td>downregulated</td><td>7.93e-149</td><td>inactive_regulon</td><td>4.47e-02</td><td>ETV4_A  </td><td>cl_Ciliated_DEGs</td><td>cl_Ciliated_DEGs ETV4_A  </td><td>-</td></tr>\n",
       "\t<tr><th scope=row>5</th><td>cl_Ciliated_DEGs</td><td>FOXO3</td><td>upregulated  </td><td>2.91e-141</td><td>active_regulon  </td><td>3.52e-03</td><td>FOXO3_AA</td><td>cl_Ciliated_DEGs</td><td>cl_Ciliated_DEGs FOXO3_AA</td><td>+</td></tr>\n",
       "\t<tr><th scope=row>6</th><td>cl_Ciliated_DEGs</td><td>ID1  </td><td>downregulated</td><td>1.48e-118</td><td>active_regulon  </td><td>1.58e-06</td><td>ID1_E   </td><td>cl_Ciliated_DEGs</td><td>cl_Ciliated_DEGs ID1_E   </td><td>-</td></tr>\n",
       "</tbody>\n",
       "</table>\n"
      ],
      "text/latex": [
       "A data.frame: 6 × 10\n",
       "\\begin{tabular}{r|llllllllll}\n",
       "  & cl & TF & TF\\_expression & TF\\_expression\\_pvals\\_adj & TF\\_activity & TF\\_activity\\_pvals\\_adj & TF\\_activity\\_score & L1 & id & annot\\\\\n",
       "  & <chr> & <chr> & <chr> & <dbl> & <chr> & <dbl> & <chr> & <chr> & <chr> & <chr>\\\\\n",
       "\\hline\n",
       "\t1 & cl\\_Ciliated\\_DEGs & FOXJ1 & upregulated   &  0.00e+00 & active\\_regulon   & 1.94e-51 & FOXJ1\\_E  & cl\\_Ciliated\\_DEGs & cl\\_Ciliated\\_DEGs FOXJ1\\_E  & +\\\\\n",
       "\t2 & cl\\_Ciliated\\_DEGs & TP73  & upregulated   &  0.00e+00 & active\\_regulon   & 1.48e-03 & TP73\\_C   & cl\\_Ciliated\\_DEGs & cl\\_Ciliated\\_DEGs TP73\\_C   & +\\\\\n",
       "\t3 & cl\\_Ciliated\\_DEGs & MYC   & downregulated & 4.07e-180 & inactive\\_regulon & 5.66e-27 & MYC\\_AA   & cl\\_Ciliated\\_DEGs & cl\\_Ciliated\\_DEGs MYC\\_AA   & -\\\\\n",
       "\t4 & cl\\_Ciliated\\_DEGs & ETV4  & downregulated & 7.93e-149 & inactive\\_regulon & 4.47e-02 & ETV4\\_A   & cl\\_Ciliated\\_DEGs & cl\\_Ciliated\\_DEGs ETV4\\_A   & -\\\\\n",
       "\t5 & cl\\_Ciliated\\_DEGs & FOXO3 & upregulated   & 2.91e-141 & active\\_regulon   & 3.52e-03 & FOXO3\\_AA & cl\\_Ciliated\\_DEGs & cl\\_Ciliated\\_DEGs FOXO3\\_AA & +\\\\\n",
       "\t6 & cl\\_Ciliated\\_DEGs & ID1   & downregulated & 1.48e-118 & active\\_regulon   & 1.58e-06 & ID1\\_E    & cl\\_Ciliated\\_DEGs & cl\\_Ciliated\\_DEGs ID1\\_E    & -\\\\\n",
       "\\end{tabular}\n"
      ],
      "text/markdown": [
       "\n",
       "A data.frame: 6 × 10\n",
       "\n",
       "| <!--/--> | cl &lt;chr&gt; | TF &lt;chr&gt; | TF_expression &lt;chr&gt; | TF_expression_pvals_adj &lt;dbl&gt; | TF_activity &lt;chr&gt; | TF_activity_pvals_adj &lt;dbl&gt; | TF_activity_score &lt;chr&gt; | L1 &lt;chr&gt; | id &lt;chr&gt; | annot &lt;chr&gt; |\n",
       "|---|---|---|---|---|---|---|---|---|---|---|\n",
       "| 1 | cl_Ciliated_DEGs | FOXJ1 | upregulated   |  0.00e+00 | active_regulon   | 1.94e-51 | FOXJ1_E  | cl_Ciliated_DEGs | cl_Ciliated_DEGs FOXJ1_E  | + |\n",
       "| 2 | cl_Ciliated_DEGs | TP73  | upregulated   |  0.00e+00 | active_regulon   | 1.48e-03 | TP73_C   | cl_Ciliated_DEGs | cl_Ciliated_DEGs TP73_C   | + |\n",
       "| 3 | cl_Ciliated_DEGs | MYC   | downregulated | 4.07e-180 | inactive_regulon | 5.66e-27 | MYC_AA   | cl_Ciliated_DEGs | cl_Ciliated_DEGs MYC_AA   | - |\n",
       "| 4 | cl_Ciliated_DEGs | ETV4  | downregulated | 7.93e-149 | inactive_regulon | 4.47e-02 | ETV4_A   | cl_Ciliated_DEGs | cl_Ciliated_DEGs ETV4_A   | - |\n",
       "| 5 | cl_Ciliated_DEGs | FOXO3 | upregulated   | 2.91e-141 | active_regulon   | 3.52e-03 | FOXO3_AA | cl_Ciliated_DEGs | cl_Ciliated_DEGs FOXO3_AA | + |\n",
       "| 6 | cl_Ciliated_DEGs | ID1   | downregulated | 1.48e-118 | active_regulon   | 1.58e-06 | ID1_E    | cl_Ciliated_DEGs | cl_Ciliated_DEGs ID1_E    | - |\n",
       "\n"
      ],
      "text/plain": [
       "  cl               TF    TF_expression TF_expression_pvals_adj TF_activity     \n",
       "1 cl_Ciliated_DEGs FOXJ1 upregulated    0.00e+00               active_regulon  \n",
       "2 cl_Ciliated_DEGs TP73  upregulated    0.00e+00               active_regulon  \n",
       "3 cl_Ciliated_DEGs MYC   downregulated 4.07e-180               inactive_regulon\n",
       "4 cl_Ciliated_DEGs ETV4  downregulated 7.93e-149               inactive_regulon\n",
       "5 cl_Ciliated_DEGs FOXO3 upregulated   2.91e-141               active_regulon  \n",
       "6 cl_Ciliated_DEGs ID1   downregulated 1.48e-118               active_regulon  \n",
       "  TF_activity_pvals_adj TF_activity_score L1              \n",
       "1 1.94e-51              FOXJ1_E           cl_Ciliated_DEGs\n",
       "2 1.48e-03              TP73_C            cl_Ciliated_DEGs\n",
       "3 5.66e-27              MYC_AA            cl_Ciliated_DEGs\n",
       "4 4.47e-02              ETV4_A            cl_Ciliated_DEGs\n",
       "5 3.52e-03              FOXO3_AA          cl_Ciliated_DEGs\n",
       "6 1.58e-06              ID1_E             cl_Ciliated_DEGs\n",
       "  id                        annot\n",
       "1 cl_Ciliated_DEGs FOXJ1_E  +    \n",
       "2 cl_Ciliated_DEGs TP73_C   +    \n",
       "3 cl_Ciliated_DEGs MYC_AA   -    \n",
       "4 cl_Ciliated_DEGs ETV4_A   -    \n",
       "5 cl_Ciliated_DEGs FOXO3_AA +    \n",
       "6 cl_Ciliated_DEGs ID1_E    -    "
      ]
     },
     "metadata": {},
     "output_type": "display_data"
    }
   ],
   "source": [
    "TF_activities_agreement = read.csv('figures_both_organoid/cluster_markers/TFactivities_and_expression_agreement.csv', stringsAsFactors = F, sep = '\\t')\n",
    "TF_activities_agreement$id = paste(TF_activities_agreement$cl, TF_activities_agreement$TF_activity_score)\n",
    "TF_activities_agreement$annot = '+'\n",
    "TF_activities_agreement$annot[ TF_activities_agreement$TF_expression == 'downregulated' ] = '-'\n",
    "head(TF_activities_agreement)"
   ]
  },
  {
   "cell_type": "markdown",
   "metadata": {},
   "source": [
    "## Transfer labels"
   ]
  },
  {
   "cell_type": "code",
   "execution_count": 4,
   "metadata": {},
   "outputs": [
    {
     "data": {
      "text/html": [
       "<table>\n",
       "<caption>A data.frame: 6 × 8</caption>\n",
       "<thead>\n",
       "\t<tr><th></th><th scope=col>cl_name</th><th scope=col>Regulon</th><th scope=col>NES</th><th scope=col>p.value</th><th scope=col>FDR</th><th scope=col>Size</th><th scope=col>id</th><th scope=col>label</th></tr>\n",
       "\t<tr><th></th><th scope=col>&lt;chr&gt;</th><th scope=col>&lt;chr&gt;</th><th scope=col>&lt;dbl&gt;</th><th scope=col>&lt;dbl&gt;</th><th scope=col>&lt;dbl&gt;</th><th scope=col>&lt;int&gt;</th><th scope=col>&lt;chr&gt;</th><th scope=col>&lt;chr&gt;</th></tr>\n",
       "</thead>\n",
       "<tbody>\n",
       "\t<tr><th scope=row>1</th><td>cl_Inter_PGRpos_DEGs     </td><td>CSRNP1_E</td><td>18.08183</td><td>4.431211e-73</td><td>4.383734e-71</td><td>154</td><td>cl_Inter_PGRpos_DEGs CSRNP1_E    </td><td>+</td></tr>\n",
       "\t<tr><th scope=row>2</th><td>cl_Ciliated_G2M_DEGs     </td><td>ZNF19_E </td><td>15.42087</td><td>1.184992e-53</td><td>4.103034e-51</td><td>175</td><td>cl_Ciliated_G2M_DEGs ZNF19_E     </td><td>+</td></tr>\n",
       "\t<tr><th scope=row>3</th><td>cl_Ciliated_DEGs         </td><td>FOXJ1_E </td><td>15.33469</td><td>4.484099e-53</td><td>1.940774e-51</td><td>154</td><td>cl_Ciliated_DEGs FOXJ1_E         </td><td>+</td></tr>\n",
       "\t<tr><th scope=row>4</th><td>cl_KRT5_KRT13_scanpy_DEGs</td><td>ZBED2_E </td><td>15.09429</td><td>1.765883e-51</td><td>2.650787e-49</td><td>183</td><td>cl_KRT5_KRT13_scanpy_DEGs ZBED2_E</td><td>+</td></tr>\n",
       "\t<tr><th scope=row>7</th><td>cl_proliferative_DEGs    </td><td>ZNF749_E</td><td>14.86131</td><td>5.876604e-50</td><td>1.453410e-48</td><td>195</td><td>cl_proliferative_DEGs ZNF749_E   </td><td>-</td></tr>\n",
       "\t<tr><th scope=row>9</th><td>cl_Inter_PGRpos_DEGs     </td><td>ZNF749_E</td><td>14.61859</td><td>2.137906e-48</td><td>1.057500e-46</td><td>195</td><td>cl_Inter_PGRpos_DEGs ZNF749_E    </td><td> </td></tr>\n",
       "</tbody>\n",
       "</table>\n"
      ],
      "text/latex": [
       "A data.frame: 6 × 8\n",
       "\\begin{tabular}{r|llllllll}\n",
       "  & cl\\_name & Regulon & NES & p.value & FDR & Size & id & label\\\\\n",
       "  & <chr> & <chr> & <dbl> & <dbl> & <dbl> & <int> & <chr> & <chr>\\\\\n",
       "\\hline\n",
       "\t1 & cl\\_Inter\\_PGRpos\\_DEGs      & CSRNP1\\_E & 18.08183 & 4.431211e-73 & 4.383734e-71 & 154 & cl\\_Inter\\_PGRpos\\_DEGs CSRNP1\\_E     & +\\\\\n",
       "\t2 & cl\\_Ciliated\\_G2M\\_DEGs      & ZNF19\\_E  & 15.42087 & 1.184992e-53 & 4.103034e-51 & 175 & cl\\_Ciliated\\_G2M\\_DEGs ZNF19\\_E      & +\\\\\n",
       "\t3 & cl\\_Ciliated\\_DEGs          & FOXJ1\\_E  & 15.33469 & 4.484099e-53 & 1.940774e-51 & 154 & cl\\_Ciliated\\_DEGs FOXJ1\\_E          & +\\\\\n",
       "\t4 & cl\\_KRT5\\_KRT13\\_scanpy\\_DEGs & ZBED2\\_E  & 15.09429 & 1.765883e-51 & 2.650787e-49 & 183 & cl\\_KRT5\\_KRT13\\_scanpy\\_DEGs ZBED2\\_E & +\\\\\n",
       "\t7 & cl\\_proliferative\\_DEGs     & ZNF749\\_E & 14.86131 & 5.876604e-50 & 1.453410e-48 & 195 & cl\\_proliferative\\_DEGs ZNF749\\_E    & -\\\\\n",
       "\t9 & cl\\_Inter\\_PGRpos\\_DEGs      & ZNF749\\_E & 14.61859 & 2.137906e-48 & 1.057500e-46 & 195 & cl\\_Inter\\_PGRpos\\_DEGs ZNF749\\_E     &  \\\\\n",
       "\\end{tabular}\n"
      ],
      "text/markdown": [
       "\n",
       "A data.frame: 6 × 8\n",
       "\n",
       "| <!--/--> | cl_name &lt;chr&gt; | Regulon &lt;chr&gt; | NES &lt;dbl&gt; | p.value &lt;dbl&gt; | FDR &lt;dbl&gt; | Size &lt;int&gt; | id &lt;chr&gt; | label &lt;chr&gt; |\n",
       "|---|---|---|---|---|---|---|---|---|\n",
       "| 1 | cl_Inter_PGRpos_DEGs      | CSRNP1_E | 18.08183 | 4.431211e-73 | 4.383734e-71 | 154 | cl_Inter_PGRpos_DEGs CSRNP1_E     | + |\n",
       "| 2 | cl_Ciliated_G2M_DEGs      | ZNF19_E  | 15.42087 | 1.184992e-53 | 4.103034e-51 | 175 | cl_Ciliated_G2M_DEGs ZNF19_E      | + |\n",
       "| 3 | cl_Ciliated_DEGs          | FOXJ1_E  | 15.33469 | 4.484099e-53 | 1.940774e-51 | 154 | cl_Ciliated_DEGs FOXJ1_E          | + |\n",
       "| 4 | cl_KRT5_KRT13_scanpy_DEGs | ZBED2_E  | 15.09429 | 1.765883e-51 | 2.650787e-49 | 183 | cl_KRT5_KRT13_scanpy_DEGs ZBED2_E | + |\n",
       "| 7 | cl_proliferative_DEGs     | ZNF749_E | 14.86131 | 5.876604e-50 | 1.453410e-48 | 195 | cl_proliferative_DEGs ZNF749_E    | - |\n",
       "| 9 | cl_Inter_PGRpos_DEGs      | ZNF749_E | 14.61859 | 2.137906e-48 | 1.057500e-46 | 195 | cl_Inter_PGRpos_DEGs ZNF749_E     | <!----> |\n",
       "\n"
      ],
      "text/plain": [
       "  cl_name                   Regulon  NES      p.value      FDR          Size\n",
       "1 cl_Inter_PGRpos_DEGs      CSRNP1_E 18.08183 4.431211e-73 4.383734e-71 154 \n",
       "2 cl_Ciliated_G2M_DEGs      ZNF19_E  15.42087 1.184992e-53 4.103034e-51 175 \n",
       "3 cl_Ciliated_DEGs          FOXJ1_E  15.33469 4.484099e-53 1.940774e-51 154 \n",
       "4 cl_KRT5_KRT13_scanpy_DEGs ZBED2_E  15.09429 1.765883e-51 2.650787e-49 183 \n",
       "7 cl_proliferative_DEGs     ZNF749_E 14.86131 5.876604e-50 1.453410e-48 195 \n",
       "9 cl_Inter_PGRpos_DEGs      ZNF749_E 14.61859 2.137906e-48 1.057500e-46 195 \n",
       "  id                                label\n",
       "1 cl_Inter_PGRpos_DEGs CSRNP1_E     +    \n",
       "2 cl_Ciliated_G2M_DEGs ZNF19_E      +    \n",
       "3 cl_Ciliated_DEGs FOXJ1_E          +    \n",
       "4 cl_KRT5_KRT13_scanpy_DEGs ZBED2_E +    \n",
       "7 cl_proliferative_DEGs ZNF749_E    -    \n",
       "9 cl_Inter_PGRpos_DEGs ZNF749_E          "
      ]
     },
     "metadata": {},
     "output_type": "display_data"
    }
   ],
   "source": [
    "TF_activities$label = TF_activities_agreement$annot[ match(TF_activities$id, TF_activities_agreement$id) ]\n",
    "TF_activities$label[ is.na(TF_activities$label) ] = ''\n",
    "head(TF_activities)"
   ]
  },
  {
   "cell_type": "markdown",
   "metadata": {},
   "source": [
    "## Plot heatmap"
   ]
  },
  {
   "cell_type": "code",
   "execution_count": 5,
   "metadata": {},
   "outputs": [],
   "source": [
    "# exclude scanpy\n",
    "TF_activities = TF_activities[ grep('scanpy', TF_activities$cl_name, invert = T) ,]\n",
    "# build matrix of TF activity scores to plot\n",
    "TF_activities$value = TF_activities$NES\n",
    "x = acast(TF_activities, Regulon~cl_name, fill = 0)\n",
    "# build matrix labels -  aka DE sign - to overlay with the TF activities\n",
    "TF_activities$value = TF_activities$label\n",
    "x_label = acast(TF_activities, Regulon~cl_name, fill = '')"
   ]
  },
  {
   "cell_type": "code",
   "execution_count": 6,
   "metadata": {},
   "outputs": [],
   "source": [
    "# actually plot the heatmap\n",
    "pheatmap(x, \n",
    "         display_numbers = x_label, fontsize_number=10,\n",
    "         cellheight = 10, cellwidth = 10, \n",
    "         filename = 'figures_both_organoid/cluster_markers/TFs_heatmap.pdf')"
   ]
  },
  {
   "cell_type": "markdown",
   "metadata": {},
   "source": [
    "## Filter TFs in Notch and Wnt signalling"
   ]
  },
  {
   "cell_type": "code",
   "execution_count": 7,
   "metadata": {},
   "outputs": [],
   "source": [
    "Wnt = read.csv('figures_primaryEpithelial_clean/cluster_markers/TF_priors/Wnt_list', stringsAsFactors = F, sep = '\\t')\n",
    "Wnt$gene_symbol = sapply(strsplit(Wnt$Gene.names, ' '), head, 1)\n",
    "\n",
    "Notch = read.csv('figures_primaryEpithelial_clean/cluster_markers/TF_priors/Notch_list', stringsAsFactors = F, sep = '\\t')\n",
    "Notch$gene_symbol = sapply(strsplit(Notch$Gene.names, ' '), head, 1)"
   ]
  },
  {
   "cell_type": "code",
   "execution_count": 8,
   "metadata": {},
   "outputs": [
    {
     "data": {
      "text/plain": [
       "is_Wnt\n",
       "FALSE  TRUE \n",
       "  506     8 "
      ]
     },
     "metadata": {},
     "output_type": "display_data"
    },
    {
     "data": {
      "text/plain": [
       "is_Notch\n",
       "FALSE  TRUE \n",
       "  513     1 "
      ]
     },
     "metadata": {},
     "output_type": "display_data"
    }
   ],
   "source": [
    "TFs_in_x = sapply(strsplit(rownames(x), '_'), head, 1)\n",
    "is_Wnt = TFs_in_x %in% Wnt$gene_symbol\n",
    "is_Notch = TFs_in_x %in% Notch$gene_symbol\n",
    "table(is_Wnt)\n",
    "table(is_Notch)"
   ]
  },
  {
   "cell_type": "code",
   "execution_count": 9,
   "metadata": {},
   "outputs": [],
   "source": [
    "# actually plot the heatmap\n",
    "pheatmap(x[is_Wnt, ], \n",
    "         display_numbers = x_label[is_Wnt, ], fontsize_number=10,\n",
    "         cellheight = 10, cellwidth = 10, \n",
    "         filename = 'figures_both_organoid/cluster_markers/TFs_heatmap_Wnt.pdf')\n",
    "\n",
    "# # actually plot the heatmap\n",
    "# pheatmap(x[is_Notch, ], \n",
    "#          display_numbers = x_label[is_Notch, ], fontsize_number=10,\n",
    "#          cellheight = 10, cellwidth = 10, \n",
    "#          filename = 'figures_both_organoid/cluster_markers/TFs_heatmap_Notch.pdf')"
   ]
  },
  {
   "cell_type": "markdown",
   "metadata": {},
   "source": [
    "# Plot top 10 active TFs"
   ]
  },
  {
   "cell_type": "code",
   "execution_count": 10,
   "metadata": {},
   "outputs": [
    {
     "data": {
      "text/html": [
       "<table>\n",
       "<caption>A data.frame: 6 × 10</caption>\n",
       "<thead>\n",
       "\t<tr><th></th><th scope=col>cl_name</th><th scope=col>Regulon</th><th scope=col>NES</th><th scope=col>p.value</th><th scope=col>FDR</th><th scope=col>Size</th><th scope=col>id</th><th scope=col>label</th><th scope=col>value</th><th scope=col>rank</th></tr>\n",
       "\t<tr><th></th><th scope=col>&lt;chr&gt;</th><th scope=col>&lt;chr&gt;</th><th scope=col>&lt;dbl&gt;</th><th scope=col>&lt;dbl&gt;</th><th scope=col>&lt;dbl&gt;</th><th scope=col>&lt;int&gt;</th><th scope=col>&lt;chr&gt;</th><th scope=col>&lt;chr&gt;</th><th scope=col>&lt;chr&gt;</th><th scope=col>&lt;int&gt;</th></tr>\n",
       "</thead>\n",
       "<tbody>\n",
       "\t<tr><th scope=row>1</th><td>cl_Ciliated_DEGs</td><td>FOXJ1_E </td><td>15.334690</td><td>4.484099e-53</td><td>1.940774e-51</td><td>154</td><td>cl_Ciliated_DEGs FOXJ1_E </td><td>+</td><td>+</td><td>1</td></tr>\n",
       "\t<tr><th scope=row>2</th><td>cl_Ciliated_DEGs</td><td>ZNF19_E </td><td>13.065710</td><td>5.169969e-39</td><td>1.704859e-37</td><td>175</td><td>cl_Ciliated_DEGs ZNF19_E </td><td>+</td><td>+</td><td>2</td></tr>\n",
       "\t<tr><th scope=row>3</th><td>cl_Ciliated_DEGs</td><td>ZSCAN1_E</td><td> 7.106026</td><td>1.194321e-12</td><td>1.355848e-11</td><td>122</td><td>cl_Ciliated_DEGs ZSCAN1_E</td><td> </td><td> </td><td>3</td></tr>\n",
       "\t<tr><th scope=row>4</th><td>cl_Ciliated_DEGs</td><td>ZNF160_E</td><td> 6.297482</td><td>3.025193e-10</td><td>2.869789e-09</td><td>196</td><td>cl_Ciliated_DEGs ZNF160_E</td><td>+</td><td>+</td><td>4</td></tr>\n",
       "\t<tr><th scope=row>5</th><td>cl_Ciliated_DEGs</td><td>ZNF93_E </td><td> 6.076328</td><td>1.229661e-09</td><td>1.084764e-08</td><td> 56</td><td>cl_Ciliated_DEGs ZNF93_E </td><td>-</td><td>-</td><td>5</td></tr>\n",
       "\t<tr><th scope=row>6</th><td>cl_Ciliated_DEGs</td><td>ZNF713_E</td><td> 5.651316</td><td>1.592244e-08</td><td>1.252988e-07</td><td> 83</td><td>cl_Ciliated_DEGs ZNF713_E</td><td>+</td><td>+</td><td>6</td></tr>\n",
       "</tbody>\n",
       "</table>\n"
      ],
      "text/latex": [
       "A data.frame: 6 × 10\n",
       "\\begin{tabular}{r|llllllllll}\n",
       "  & cl\\_name & Regulon & NES & p.value & FDR & Size & id & label & value & rank\\\\\n",
       "  & <chr> & <chr> & <dbl> & <dbl> & <dbl> & <int> & <chr> & <chr> & <chr> & <int>\\\\\n",
       "\\hline\n",
       "\t1 & cl\\_Ciliated\\_DEGs & FOXJ1\\_E  & 15.334690 & 4.484099e-53 & 1.940774e-51 & 154 & cl\\_Ciliated\\_DEGs FOXJ1\\_E  & + & + & 1\\\\\n",
       "\t2 & cl\\_Ciliated\\_DEGs & ZNF19\\_E  & 13.065710 & 5.169969e-39 & 1.704859e-37 & 175 & cl\\_Ciliated\\_DEGs ZNF19\\_E  & + & + & 2\\\\\n",
       "\t3 & cl\\_Ciliated\\_DEGs & ZSCAN1\\_E &  7.106026 & 1.194321e-12 & 1.355848e-11 & 122 & cl\\_Ciliated\\_DEGs ZSCAN1\\_E &   &   & 3\\\\\n",
       "\t4 & cl\\_Ciliated\\_DEGs & ZNF160\\_E &  6.297482 & 3.025193e-10 & 2.869789e-09 & 196 & cl\\_Ciliated\\_DEGs ZNF160\\_E & + & + & 4\\\\\n",
       "\t5 & cl\\_Ciliated\\_DEGs & ZNF93\\_E  &  6.076328 & 1.229661e-09 & 1.084764e-08 &  56 & cl\\_Ciliated\\_DEGs ZNF93\\_E  & - & - & 5\\\\\n",
       "\t6 & cl\\_Ciliated\\_DEGs & ZNF713\\_E &  5.651316 & 1.592244e-08 & 1.252988e-07 &  83 & cl\\_Ciliated\\_DEGs ZNF713\\_E & + & + & 6\\\\\n",
       "\\end{tabular}\n"
      ],
      "text/markdown": [
       "\n",
       "A data.frame: 6 × 10\n",
       "\n",
       "| <!--/--> | cl_name &lt;chr&gt; | Regulon &lt;chr&gt; | NES &lt;dbl&gt; | p.value &lt;dbl&gt; | FDR &lt;dbl&gt; | Size &lt;int&gt; | id &lt;chr&gt; | label &lt;chr&gt; | value &lt;chr&gt; | rank &lt;int&gt; |\n",
       "|---|---|---|---|---|---|---|---|---|---|---|\n",
       "| 1 | cl_Ciliated_DEGs | FOXJ1_E  | 15.334690 | 4.484099e-53 | 1.940774e-51 | 154 | cl_Ciliated_DEGs FOXJ1_E  | + | + | 1 |\n",
       "| 2 | cl_Ciliated_DEGs | ZNF19_E  | 13.065710 | 5.169969e-39 | 1.704859e-37 | 175 | cl_Ciliated_DEGs ZNF19_E  | + | + | 2 |\n",
       "| 3 | cl_Ciliated_DEGs | ZSCAN1_E |  7.106026 | 1.194321e-12 | 1.355848e-11 | 122 | cl_Ciliated_DEGs ZSCAN1_E | <!----> | <!----> | 3 |\n",
       "| 4 | cl_Ciliated_DEGs | ZNF160_E |  6.297482 | 3.025193e-10 | 2.869789e-09 | 196 | cl_Ciliated_DEGs ZNF160_E | + | + | 4 |\n",
       "| 5 | cl_Ciliated_DEGs | ZNF93_E  |  6.076328 | 1.229661e-09 | 1.084764e-08 |  56 | cl_Ciliated_DEGs ZNF93_E  | - | - | 5 |\n",
       "| 6 | cl_Ciliated_DEGs | ZNF713_E |  5.651316 | 1.592244e-08 | 1.252988e-07 |  83 | cl_Ciliated_DEGs ZNF713_E | + | + | 6 |\n",
       "\n"
      ],
      "text/plain": [
       "  cl_name          Regulon  NES       p.value      FDR          Size\n",
       "1 cl_Ciliated_DEGs FOXJ1_E  15.334690 4.484099e-53 1.940774e-51 154 \n",
       "2 cl_Ciliated_DEGs ZNF19_E  13.065710 5.169969e-39 1.704859e-37 175 \n",
       "3 cl_Ciliated_DEGs ZSCAN1_E  7.106026 1.194321e-12 1.355848e-11 122 \n",
       "4 cl_Ciliated_DEGs ZNF160_E  6.297482 3.025193e-10 2.869789e-09 196 \n",
       "5 cl_Ciliated_DEGs ZNF93_E   6.076328 1.229661e-09 1.084764e-08  56 \n",
       "6 cl_Ciliated_DEGs ZNF713_E  5.651316 1.592244e-08 1.252988e-07  83 \n",
       "  id                        label value rank\n",
       "1 cl_Ciliated_DEGs FOXJ1_E  +     +     1   \n",
       "2 cl_Ciliated_DEGs ZNF19_E  +     +     2   \n",
       "3 cl_Ciliated_DEGs ZSCAN1_E             3   \n",
       "4 cl_Ciliated_DEGs ZNF160_E +     +     4   \n",
       "5 cl_Ciliated_DEGs ZNF93_E  -     -     5   \n",
       "6 cl_Ciliated_DEGs ZNF713_E +     +     6   "
      ]
     },
     "metadata": {},
     "output_type": "display_data"
    },
    {
     "data": {
      "text/html": [
       "<style>\n",
       ".list-inline {list-style: none; margin:0; padding: 0}\n",
       ".list-inline>li {display: inline-block}\n",
       ".list-inline>li:not(:last-child)::after {content: \"\\00b7\"; padding: 0 .5ex}\n",
       "</style>\n",
       "<ol class=list-inline><li>'cl_Ciliated_DEGs'</li><li>'cl_Ciliated_G2M_DEGs'</li><li>'cl_Inter_PGRneg_DEGs'</li><li>'cl_Inter_PGRpos_DEGs'</li><li>'cl_KRT5_KRT13_DEGs'</li><li>'cl_KRT5_LRG6_DEGs'</li><li>'cl_proliferative_DEGs'</li><li>'cl_Secretory_DEGs'</li></ol>\n"
      ],
      "text/latex": [
       "\\begin{enumerate*}\n",
       "\\item 'cl\\_Ciliated\\_DEGs'\n",
       "\\item 'cl\\_Ciliated\\_G2M\\_DEGs'\n",
       "\\item 'cl\\_Inter\\_PGRneg\\_DEGs'\n",
       "\\item 'cl\\_Inter\\_PGRpos\\_DEGs'\n",
       "\\item 'cl\\_KRT5\\_KRT13\\_DEGs'\n",
       "\\item 'cl\\_KRT5\\_LRG6\\_DEGs'\n",
       "\\item 'cl\\_proliferative\\_DEGs'\n",
       "\\item 'cl\\_Secretory\\_DEGs'\n",
       "\\end{enumerate*}\n"
      ],
      "text/markdown": [
       "1. 'cl_Ciliated_DEGs'\n",
       "2. 'cl_Ciliated_G2M_DEGs'\n",
       "3. 'cl_Inter_PGRneg_DEGs'\n",
       "4. 'cl_Inter_PGRpos_DEGs'\n",
       "5. 'cl_KRT5_KRT13_DEGs'\n",
       "6. 'cl_KRT5_LRG6_DEGs'\n",
       "7. 'cl_proliferative_DEGs'\n",
       "8. 'cl_Secretory_DEGs'\n",
       "\n",
       "\n"
      ],
      "text/plain": [
       "[1] \"cl_Ciliated_DEGs\"      \"cl_Ciliated_G2M_DEGs\"  \"cl_Inter_PGRneg_DEGs\" \n",
       "[4] \"cl_Inter_PGRpos_DEGs\"  \"cl_KRT5_KRT13_DEGs\"    \"cl_KRT5_LRG6_DEGs\"    \n",
       "[7] \"cl_proliferative_DEGs\" \"cl_Secretory_DEGs\"    "
      ]
     },
     "metadata": {},
     "output_type": "display_data"
    }
   ],
   "source": [
    "# Rank TFs according to their activity\n",
    "TF_activities = TF_activities[order(TF_activities$NES, decreasing = T), ]\n",
    "TF_activities = ddply(TF_activities, 'cl_name', function(df) data.frame(df, rank = 1:nrow(df)) )\n",
    "head(TF_activities)\n",
    "unique(TF_activities$cl_name)"
   ]
  },
  {
   "cell_type": "code",
   "execution_count": 11,
   "metadata": {},
   "outputs": [],
   "source": [
    "# order clusters\n",
    "TF_activities = rbind(subset(TF_activities, cl_name %in% 'cl_proliferative_DEGs'),\n",
    "                     subset(TF_activities, cl_name %in% 'cl_KRT5_LRG6_DEGs'),\n",
    "                     subset(TF_activities, cl_name %in% 'cl_Inter_PGRneg_DEGs'),\n",
    "                     subset(TF_activities, cl_name %in% 'cl_KRT5_KRT13_DEGs'),\n",
    "                     subset(TF_activities, cl_name %in% 'cl_Inter_PGRpos_DEGs'),\n",
    "                     subset(TF_activities, cl_name %in% 'cl_Secretory_DEGs'),\n",
    "                     subset(TF_activities, cl_name %in% 'cl_Ciliated_G2M_DEGs'),\n",
    "                     subset(TF_activities, cl_name %in% 'cl_Ciliated_DEGs'))"
   ]
  },
  {
   "cell_type": "code",
   "execution_count": 12,
   "metadata": {},
   "outputs": [
    {
     "data": {
      "text/html": [
       "<table>\n",
       "<caption>A data.frame: 6 × 10</caption>\n",
       "<thead>\n",
       "\t<tr><th></th><th scope=col>cl_name</th><th scope=col>Regulon</th><th scope=col>NES</th><th scope=col>p.value</th><th scope=col>FDR</th><th scope=col>Size</th><th scope=col>id</th><th scope=col>label</th><th scope=col>value</th><th scope=col>rank</th></tr>\n",
       "\t<tr><th></th><th scope=col>&lt;chr&gt;</th><th scope=col>&lt;chr&gt;</th><th scope=col>&lt;dbl&gt;</th><th scope=col>&lt;dbl&gt;</th><th scope=col>&lt;dbl&gt;</th><th scope=col>&lt;int&gt;</th><th scope=col>&lt;chr&gt;</th><th scope=col>&lt;chr&gt;</th><th scope=col>&lt;chr&gt;</th><th scope=col>&lt;int&gt;</th></tr>\n",
       "</thead>\n",
       "<tbody>\n",
       "\t<tr><th scope=row>1167</th><td>cl_proliferative_DEGs</td><td>ZNF749_E</td><td>14.86131</td><td>5.876604e-50</td><td>1.453410e-48</td><td>195</td><td>cl_proliferative_DEGs ZNF749_E</td><td>-</td><td>-</td><td>1</td></tr>\n",
       "\t<tr><th scope=row>1168</th><td>cl_proliferative_DEGs</td><td>E2F4_AA </td><td>12.80696</td><td>1.499014e-37</td><td>2.805586e-36</td><td>100</td><td>cl_proliferative_DEGs E2F4_AA </td><td>+</td><td>+</td><td>2</td></tr>\n",
       "\t<tr><th scope=row>1169</th><td>cl_proliferative_DEGs</td><td>HES6_E  </td><td>12.40955</td><td>2.319423e-35</td><td>3.779295e-34</td><td>184</td><td>cl_proliferative_DEGs HES6_E  </td><td>+</td><td>+</td><td>3</td></tr>\n",
       "\t<tr><th scope=row>1170</th><td>cl_proliferative_DEGs</td><td>ZNF557_E</td><td>11.25382</td><td>2.217834e-29</td><td>2.982233e-28</td><td>182</td><td>cl_proliferative_DEGs ZNF557_E</td><td>+</td><td>+</td><td>4</td></tr>\n",
       "\t<tr><th scope=row>1171</th><td>cl_proliferative_DEGs</td><td>ZNF79_E </td><td>11.13473</td><td>8.500548e-29</td><td>1.100305e-27</td><td>155</td><td>cl_proliferative_DEGs ZNF79_E </td><td> </td><td> </td><td>5</td></tr>\n",
       "\t<tr><th scope=row>1172</th><td>cl_proliferative_DEGs</td><td>ZFP69_E </td><td>10.96599</td><td>5.568586e-28</td><td>7.011356e-27</td><td>161</td><td>cl_proliferative_DEGs ZFP69_E </td><td>+</td><td>+</td><td>6</td></tr>\n",
       "</tbody>\n",
       "</table>\n"
      ],
      "text/latex": [
       "A data.frame: 6 × 10\n",
       "\\begin{tabular}{r|llllllllll}\n",
       "  & cl\\_name & Regulon & NES & p.value & FDR & Size & id & label & value & rank\\\\\n",
       "  & <chr> & <chr> & <dbl> & <dbl> & <dbl> & <int> & <chr> & <chr> & <chr> & <int>\\\\\n",
       "\\hline\n",
       "\t1167 & cl\\_proliferative\\_DEGs & ZNF749\\_E & 14.86131 & 5.876604e-50 & 1.453410e-48 & 195 & cl\\_proliferative\\_DEGs ZNF749\\_E & - & - & 1\\\\\n",
       "\t1168 & cl\\_proliferative\\_DEGs & E2F4\\_AA  & 12.80696 & 1.499014e-37 & 2.805586e-36 & 100 & cl\\_proliferative\\_DEGs E2F4\\_AA  & + & + & 2\\\\\n",
       "\t1169 & cl\\_proliferative\\_DEGs & HES6\\_E   & 12.40955 & 2.319423e-35 & 3.779295e-34 & 184 & cl\\_proliferative\\_DEGs HES6\\_E   & + & + & 3\\\\\n",
       "\t1170 & cl\\_proliferative\\_DEGs & ZNF557\\_E & 11.25382 & 2.217834e-29 & 2.982233e-28 & 182 & cl\\_proliferative\\_DEGs ZNF557\\_E & + & + & 4\\\\\n",
       "\t1171 & cl\\_proliferative\\_DEGs & ZNF79\\_E  & 11.13473 & 8.500548e-29 & 1.100305e-27 & 155 & cl\\_proliferative\\_DEGs ZNF79\\_E  &   &   & 5\\\\\n",
       "\t1172 & cl\\_proliferative\\_DEGs & ZFP69\\_E  & 10.96599 & 5.568586e-28 & 7.011356e-27 & 161 & cl\\_proliferative\\_DEGs ZFP69\\_E  & + & + & 6\\\\\n",
       "\\end{tabular}\n"
      ],
      "text/markdown": [
       "\n",
       "A data.frame: 6 × 10\n",
       "\n",
       "| <!--/--> | cl_name &lt;chr&gt; | Regulon &lt;chr&gt; | NES &lt;dbl&gt; | p.value &lt;dbl&gt; | FDR &lt;dbl&gt; | Size &lt;int&gt; | id &lt;chr&gt; | label &lt;chr&gt; | value &lt;chr&gt; | rank &lt;int&gt; |\n",
       "|---|---|---|---|---|---|---|---|---|---|---|\n",
       "| 1167 | cl_proliferative_DEGs | ZNF749_E | 14.86131 | 5.876604e-50 | 1.453410e-48 | 195 | cl_proliferative_DEGs ZNF749_E | - | - | 1 |\n",
       "| 1168 | cl_proliferative_DEGs | E2F4_AA  | 12.80696 | 1.499014e-37 | 2.805586e-36 | 100 | cl_proliferative_DEGs E2F4_AA  | + | + | 2 |\n",
       "| 1169 | cl_proliferative_DEGs | HES6_E   | 12.40955 | 2.319423e-35 | 3.779295e-34 | 184 | cl_proliferative_DEGs HES6_E   | + | + | 3 |\n",
       "| 1170 | cl_proliferative_DEGs | ZNF557_E | 11.25382 | 2.217834e-29 | 2.982233e-28 | 182 | cl_proliferative_DEGs ZNF557_E | + | + | 4 |\n",
       "| 1171 | cl_proliferative_DEGs | ZNF79_E  | 11.13473 | 8.500548e-29 | 1.100305e-27 | 155 | cl_proliferative_DEGs ZNF79_E  | <!----> | <!----> | 5 |\n",
       "| 1172 | cl_proliferative_DEGs | ZFP69_E  | 10.96599 | 5.568586e-28 | 7.011356e-27 | 161 | cl_proliferative_DEGs ZFP69_E  | + | + | 6 |\n",
       "\n"
      ],
      "text/plain": [
       "     cl_name               Regulon  NES      p.value      FDR          Size\n",
       "1167 cl_proliferative_DEGs ZNF749_E 14.86131 5.876604e-50 1.453410e-48 195 \n",
       "1168 cl_proliferative_DEGs E2F4_AA  12.80696 1.499014e-37 2.805586e-36 100 \n",
       "1169 cl_proliferative_DEGs HES6_E   12.40955 2.319423e-35 3.779295e-34 184 \n",
       "1170 cl_proliferative_DEGs ZNF557_E 11.25382 2.217834e-29 2.982233e-28 182 \n",
       "1171 cl_proliferative_DEGs ZNF79_E  11.13473 8.500548e-29 1.100305e-27 155 \n",
       "1172 cl_proliferative_DEGs ZFP69_E  10.96599 5.568586e-28 7.011356e-27 161 \n",
       "     id                             label value rank\n",
       "1167 cl_proliferative_DEGs ZNF749_E -     -     1   \n",
       "1168 cl_proliferative_DEGs E2F4_AA  +     +     2   \n",
       "1169 cl_proliferative_DEGs HES6_E   +     +     3   \n",
       "1170 cl_proliferative_DEGs ZNF557_E +     +     4   \n",
       "1171 cl_proliferative_DEGs ZNF79_E              5   \n",
       "1172 cl_proliferative_DEGs ZFP69_E  +     +     6   "
      ]
     },
     "metadata": {},
     "output_type": "display_data"
    }
   ],
   "source": [
    "head(TF_activities)\n",
    "TFs = read.csv('data/scenic/huTF_census.txt', stringsAsFactors = F, header = F)$V1"
   ]
  },
  {
   "cell_type": "code",
   "execution_count": 13,
   "metadata": {},
   "outputs": [],
   "source": [
    "# Select top 10 ranked genes\n",
    "TF_activities$Gene = sapply(strsplit(TF_activities$Regulon, '_'), head, 1)\n",
    "top5 = subset(TF_activities, rank %in% 1:5 & NES > 0)$Gene"
   ]
  },
  {
   "cell_type": "code",
   "execution_count": 14,
   "metadata": {},
   "outputs": [
    {
     "data": {
      "text/html": [
       "<style>\n",
       ".list-inline {list-style: none; margin:0; padding: 0}\n",
       ".list-inline>li {display: inline-block}\n",
       ".list-inline>li:not(:last-child)::after {content: \"\\00b7\"; padding: 0 .5ex}\n",
       "</style>\n",
       "<ol class=list-inline><li>'cl_Ciliated_DEGs'</li><li>'cl_Ciliated_G2M_DEGs'</li><li>'cl_Inter_PGRneg_DEGs'</li><li>'cl_Inter_PGRpos_DEGs'</li><li>'cl_KRT5_KRT13_DEGs'</li><li>'cl_KRT5_LRG6_DEGs'</li><li>'cl_proliferative_DEGs'</li><li>'cl_Secretory_DEGs'</li></ol>\n"
      ],
      "text/latex": [
       "\\begin{enumerate*}\n",
       "\\item 'cl\\_Ciliated\\_DEGs'\n",
       "\\item 'cl\\_Ciliated\\_G2M\\_DEGs'\n",
       "\\item 'cl\\_Inter\\_PGRneg\\_DEGs'\n",
       "\\item 'cl\\_Inter\\_PGRpos\\_DEGs'\n",
       "\\item 'cl\\_KRT5\\_KRT13\\_DEGs'\n",
       "\\item 'cl\\_KRT5\\_LRG6\\_DEGs'\n",
       "\\item 'cl\\_proliferative\\_DEGs'\n",
       "\\item 'cl\\_Secretory\\_DEGs'\n",
       "\\end{enumerate*}\n"
      ],
      "text/markdown": [
       "1. 'cl_Ciliated_DEGs'\n",
       "2. 'cl_Ciliated_G2M_DEGs'\n",
       "3. 'cl_Inter_PGRneg_DEGs'\n",
       "4. 'cl_Inter_PGRpos_DEGs'\n",
       "5. 'cl_KRT5_KRT13_DEGs'\n",
       "6. 'cl_KRT5_LRG6_DEGs'\n",
       "7. 'cl_proliferative_DEGs'\n",
       "8. 'cl_Secretory_DEGs'\n",
       "\n",
       "\n"
      ],
      "text/plain": [
       "[1] \"cl_Ciliated_DEGs\"      \"cl_Ciliated_G2M_DEGs\"  \"cl_Inter_PGRneg_DEGs\" \n",
       "[4] \"cl_Inter_PGRpos_DEGs\"  \"cl_KRT5_KRT13_DEGs\"    \"cl_KRT5_LRG6_DEGs\"    \n",
       "[7] \"cl_proliferative_DEGs\" \"cl_Secretory_DEGs\"    "
      ]
     },
     "metadata": {},
     "output_type": "display_data"
    }
   ],
   "source": [
    "# build matrix of TF activity scores to plot\n",
    "TF_activities$value = TF_activities$NES\n",
    "x = acast(subset(TF_activities, Gene %in% top5), Gene~cl_name, fill = 0)\n",
    "colnames(x)"
   ]
  },
  {
   "cell_type": "code",
   "execution_count": 15,
   "metadata": {},
   "outputs": [],
   "source": [
    "x = x[, c(7, 6, 3, 5, 4, 8, 2, 1) ]\n",
    "pheatmap(t(x[ top5, ]), cellheight = 10, cellwidth = 10, cluster_rows = F, cluster_cols = F, \n",
    "#          color = colorRampPalette(c(\"navy\", \"white\", \"red\"))(50),\n",
    "        filename = 'figures_both_organoid/cluster_markers/top5_TFs_activities.pdf')\n"
   ]
  },
  {
   "cell_type": "markdown",
   "metadata": {},
   "source": [
    "# Plot top 10 active TFs - matching expression"
   ]
  },
  {
   "cell_type": "code",
   "execution_count": 16,
   "metadata": {},
   "outputs": [],
   "source": [
    "default_TF_activities = TF_activities"
   ]
  },
  {
   "cell_type": "code",
   "execution_count": 17,
   "metadata": {},
   "outputs": [],
   "source": [
    "TF_activities = subset(TF_activities, label != '')"
   ]
  },
  {
   "cell_type": "code",
   "execution_count": 18,
   "metadata": {},
   "outputs": [
    {
     "data": {
      "text/html": [
       "<table>\n",
       "<caption>A data.frame: 6 × 11</caption>\n",
       "<thead>\n",
       "\t<tr><th></th><th scope=col>cl_name</th><th scope=col>Regulon</th><th scope=col>NES</th><th scope=col>p.value</th><th scope=col>FDR</th><th scope=col>Size</th><th scope=col>id</th><th scope=col>label</th><th scope=col>value</th><th scope=col>Gene</th><th scope=col>rank</th></tr>\n",
       "\t<tr><th></th><th scope=col>&lt;chr&gt;</th><th scope=col>&lt;chr&gt;</th><th scope=col>&lt;dbl&gt;</th><th scope=col>&lt;dbl&gt;</th><th scope=col>&lt;dbl&gt;</th><th scope=col>&lt;int&gt;</th><th scope=col>&lt;chr&gt;</th><th scope=col>&lt;chr&gt;</th><th scope=col>&lt;dbl&gt;</th><th scope=col>&lt;chr&gt;</th><th scope=col>&lt;int&gt;</th></tr>\n",
       "</thead>\n",
       "<tbody>\n",
       "\t<tr><th scope=row>1</th><td>cl_Ciliated_DEGs</td><td>FOXJ1_E </td><td>15.334690</td><td>4.484099e-53</td><td>1.940774e-51</td><td>154</td><td>cl_Ciliated_DEGs FOXJ1_E </td><td>+</td><td>15.334690</td><td>FOXJ1 </td><td>1</td></tr>\n",
       "\t<tr><th scope=row>2</th><td>cl_Ciliated_DEGs</td><td>ZNF19_E </td><td>13.065710</td><td>5.169969e-39</td><td>1.704859e-37</td><td>175</td><td>cl_Ciliated_DEGs ZNF19_E </td><td>+</td><td>13.065710</td><td>ZNF19 </td><td>2</td></tr>\n",
       "\t<tr><th scope=row>3</th><td>cl_Ciliated_DEGs</td><td>ZNF160_E</td><td> 6.297482</td><td>3.025193e-10</td><td>2.869789e-09</td><td>196</td><td>cl_Ciliated_DEGs ZNF160_E</td><td>+</td><td> 6.297482</td><td>ZNF160</td><td>3</td></tr>\n",
       "\t<tr><th scope=row>4</th><td>cl_Ciliated_DEGs</td><td>ZNF93_E </td><td> 6.076328</td><td>1.229661e-09</td><td>1.084764e-08</td><td> 56</td><td>cl_Ciliated_DEGs ZNF93_E </td><td>-</td><td> 6.076328</td><td>ZNF93 </td><td>4</td></tr>\n",
       "\t<tr><th scope=row>5</th><td>cl_Ciliated_DEGs</td><td>ZNF713_E</td><td> 5.651316</td><td>1.592244e-08</td><td>1.252988e-07</td><td> 83</td><td>cl_Ciliated_DEGs ZNF713_E</td><td>+</td><td> 5.651316</td><td>ZNF713</td><td>5</td></tr>\n",
       "\t<tr><th scope=row>6</th><td>cl_Ciliated_DEGs</td><td>RFX1_C  </td><td> 5.450041</td><td>5.035832e-08</td><td>3.770069e-07</td><td> 42</td><td>cl_Ciliated_DEGs RFX1_C  </td><td>-</td><td> 5.450041</td><td>RFX1  </td><td>6</td></tr>\n",
       "</tbody>\n",
       "</table>\n"
      ],
      "text/latex": [
       "A data.frame: 6 × 11\n",
       "\\begin{tabular}{r|lllllllllll}\n",
       "  & cl\\_name & Regulon & NES & p.value & FDR & Size & id & label & value & Gene & rank\\\\\n",
       "  & <chr> & <chr> & <dbl> & <dbl> & <dbl> & <int> & <chr> & <chr> & <dbl> & <chr> & <int>\\\\\n",
       "\\hline\n",
       "\t1 & cl\\_Ciliated\\_DEGs & FOXJ1\\_E  & 15.334690 & 4.484099e-53 & 1.940774e-51 & 154 & cl\\_Ciliated\\_DEGs FOXJ1\\_E  & + & 15.334690 & FOXJ1  & 1\\\\\n",
       "\t2 & cl\\_Ciliated\\_DEGs & ZNF19\\_E  & 13.065710 & 5.169969e-39 & 1.704859e-37 & 175 & cl\\_Ciliated\\_DEGs ZNF19\\_E  & + & 13.065710 & ZNF19  & 2\\\\\n",
       "\t3 & cl\\_Ciliated\\_DEGs & ZNF160\\_E &  6.297482 & 3.025193e-10 & 2.869789e-09 & 196 & cl\\_Ciliated\\_DEGs ZNF160\\_E & + &  6.297482 & ZNF160 & 3\\\\\n",
       "\t4 & cl\\_Ciliated\\_DEGs & ZNF93\\_E  &  6.076328 & 1.229661e-09 & 1.084764e-08 &  56 & cl\\_Ciliated\\_DEGs ZNF93\\_E  & - &  6.076328 & ZNF93  & 4\\\\\n",
       "\t5 & cl\\_Ciliated\\_DEGs & ZNF713\\_E &  5.651316 & 1.592244e-08 & 1.252988e-07 &  83 & cl\\_Ciliated\\_DEGs ZNF713\\_E & + &  5.651316 & ZNF713 & 5\\\\\n",
       "\t6 & cl\\_Ciliated\\_DEGs & RFX1\\_C   &  5.450041 & 5.035832e-08 & 3.770069e-07 &  42 & cl\\_Ciliated\\_DEGs RFX1\\_C   & - &  5.450041 & RFX1   & 6\\\\\n",
       "\\end{tabular}\n"
      ],
      "text/markdown": [
       "\n",
       "A data.frame: 6 × 11\n",
       "\n",
       "| <!--/--> | cl_name &lt;chr&gt; | Regulon &lt;chr&gt; | NES &lt;dbl&gt; | p.value &lt;dbl&gt; | FDR &lt;dbl&gt; | Size &lt;int&gt; | id &lt;chr&gt; | label &lt;chr&gt; | value &lt;dbl&gt; | Gene &lt;chr&gt; | rank &lt;int&gt; |\n",
       "|---|---|---|---|---|---|---|---|---|---|---|---|\n",
       "| 1 | cl_Ciliated_DEGs | FOXJ1_E  | 15.334690 | 4.484099e-53 | 1.940774e-51 | 154 | cl_Ciliated_DEGs FOXJ1_E  | + | 15.334690 | FOXJ1  | 1 |\n",
       "| 2 | cl_Ciliated_DEGs | ZNF19_E  | 13.065710 | 5.169969e-39 | 1.704859e-37 | 175 | cl_Ciliated_DEGs ZNF19_E  | + | 13.065710 | ZNF19  | 2 |\n",
       "| 3 | cl_Ciliated_DEGs | ZNF160_E |  6.297482 | 3.025193e-10 | 2.869789e-09 | 196 | cl_Ciliated_DEGs ZNF160_E | + |  6.297482 | ZNF160 | 3 |\n",
       "| 4 | cl_Ciliated_DEGs | ZNF93_E  |  6.076328 | 1.229661e-09 | 1.084764e-08 |  56 | cl_Ciliated_DEGs ZNF93_E  | - |  6.076328 | ZNF93  | 4 |\n",
       "| 5 | cl_Ciliated_DEGs | ZNF713_E |  5.651316 | 1.592244e-08 | 1.252988e-07 |  83 | cl_Ciliated_DEGs ZNF713_E | + |  5.651316 | ZNF713 | 5 |\n",
       "| 6 | cl_Ciliated_DEGs | RFX1_C   |  5.450041 | 5.035832e-08 | 3.770069e-07 |  42 | cl_Ciliated_DEGs RFX1_C   | - |  5.450041 | RFX1   | 6 |\n",
       "\n"
      ],
      "text/plain": [
       "  cl_name          Regulon  NES       p.value      FDR          Size\n",
       "1 cl_Ciliated_DEGs FOXJ1_E  15.334690 4.484099e-53 1.940774e-51 154 \n",
       "2 cl_Ciliated_DEGs ZNF19_E  13.065710 5.169969e-39 1.704859e-37 175 \n",
       "3 cl_Ciliated_DEGs ZNF160_E  6.297482 3.025193e-10 2.869789e-09 196 \n",
       "4 cl_Ciliated_DEGs ZNF93_E   6.076328 1.229661e-09 1.084764e-08  56 \n",
       "5 cl_Ciliated_DEGs ZNF713_E  5.651316 1.592244e-08 1.252988e-07  83 \n",
       "6 cl_Ciliated_DEGs RFX1_C    5.450041 5.035832e-08 3.770069e-07  42 \n",
       "  id                        label value     Gene   rank\n",
       "1 cl_Ciliated_DEGs FOXJ1_E  +     15.334690 FOXJ1  1   \n",
       "2 cl_Ciliated_DEGs ZNF19_E  +     13.065710 ZNF19  2   \n",
       "3 cl_Ciliated_DEGs ZNF160_E +      6.297482 ZNF160 3   \n",
       "4 cl_Ciliated_DEGs ZNF93_E  -      6.076328 ZNF93  4   \n",
       "5 cl_Ciliated_DEGs ZNF713_E +      5.651316 ZNF713 5   \n",
       "6 cl_Ciliated_DEGs RFX1_C   -      5.450041 RFX1   6   "
      ]
     },
     "metadata": {},
     "output_type": "display_data"
    }
   ],
   "source": [
    "# Rank TFs according to their activity\n",
    "TF_activities = TF_activities[order(TF_activities$NES, decreasing = T), ]\n",
    "TF_activities$rank = NULL\n",
    "TF_activities = ddply(TF_activities, 'cl_name', function(df) data.frame(df, rank = 1:nrow(df)) )\n",
    "head(TF_activities)"
   ]
  },
  {
   "cell_type": "code",
   "execution_count": 19,
   "metadata": {},
   "outputs": [],
   "source": [
    "# order clusters\n",
    "TF_activities = rbind(subset(TF_activities, cl_name %in% 'cl_proliferative_DEGs'),\n",
    "                     subset(TF_activities, cl_name %in% 'cl_KRT5_LRG6_DEGs'),\n",
    "                     subset(TF_activities, cl_name %in% 'cl_Inter_PGRneg_DEGs'),\n",
    "                     subset(TF_activities, cl_name %in% 'cl_KRT5_KRT13_DEGs'),\n",
    "                     subset(TF_activities, cl_name %in% 'cl_Inter_PGRpos_DEGs'),\n",
    "                     subset(TF_activities, cl_name %in% 'cl_Secretory_DEGs'),\n",
    "                     subset(TF_activities, cl_name %in% 'cl_Ciliated_G2M_DEGs'),\n",
    "                     subset(TF_activities, cl_name %in% 'cl_Ciliated_DEGs'))"
   ]
  },
  {
   "cell_type": "code",
   "execution_count": 20,
   "metadata": {},
   "outputs": [],
   "source": [
    "# Select top 10 ranked genes\n",
    "TF_activities$Gene = sapply(strsplit(TF_activities$Regulon, '_'), head, 1)\n",
    "top5 = subset(TF_activities, TF_activities$rank %in% 1:5 & NES > 0)$Gene"
   ]
  },
  {
   "cell_type": "code",
   "execution_count": 21,
   "metadata": {},
   "outputs": [
    {
     "data": {
      "text/html": [
       "<style>\n",
       ".list-inline {list-style: none; margin:0; padding: 0}\n",
       ".list-inline>li {display: inline-block}\n",
       ".list-inline>li:not(:last-child)::after {content: \"\\00b7\"; padding: 0 .5ex}\n",
       "</style>\n",
       "<ol class=list-inline><li>'cl_Ciliated_DEGs'</li><li>'cl_Ciliated_G2M_DEGs'</li><li>'cl_Inter_PGRneg_DEGs'</li><li>'cl_Inter_PGRpos_DEGs'</li><li>'cl_KRT5_KRT13_DEGs'</li><li>'cl_KRT5_LRG6_DEGs'</li><li>'cl_proliferative_DEGs'</li><li>'cl_Secretory_DEGs'</li></ol>\n"
      ],
      "text/latex": [
       "\\begin{enumerate*}\n",
       "\\item 'cl\\_Ciliated\\_DEGs'\n",
       "\\item 'cl\\_Ciliated\\_G2M\\_DEGs'\n",
       "\\item 'cl\\_Inter\\_PGRneg\\_DEGs'\n",
       "\\item 'cl\\_Inter\\_PGRpos\\_DEGs'\n",
       "\\item 'cl\\_KRT5\\_KRT13\\_DEGs'\n",
       "\\item 'cl\\_KRT5\\_LRG6\\_DEGs'\n",
       "\\item 'cl\\_proliferative\\_DEGs'\n",
       "\\item 'cl\\_Secretory\\_DEGs'\n",
       "\\end{enumerate*}\n"
      ],
      "text/markdown": [
       "1. 'cl_Ciliated_DEGs'\n",
       "2. 'cl_Ciliated_G2M_DEGs'\n",
       "3. 'cl_Inter_PGRneg_DEGs'\n",
       "4. 'cl_Inter_PGRpos_DEGs'\n",
       "5. 'cl_KRT5_KRT13_DEGs'\n",
       "6. 'cl_KRT5_LRG6_DEGs'\n",
       "7. 'cl_proliferative_DEGs'\n",
       "8. 'cl_Secretory_DEGs'\n",
       "\n",
       "\n"
      ],
      "text/plain": [
       "[1] \"cl_Ciliated_DEGs\"      \"cl_Ciliated_G2M_DEGs\"  \"cl_Inter_PGRneg_DEGs\" \n",
       "[4] \"cl_Inter_PGRpos_DEGs\"  \"cl_KRT5_KRT13_DEGs\"    \"cl_KRT5_LRG6_DEGs\"    \n",
       "[7] \"cl_proliferative_DEGs\" \"cl_Secretory_DEGs\"    "
      ]
     },
     "metadata": {},
     "output_type": "display_data"
    }
   ],
   "source": [
    "# build matrix of TF activity scores to plot\n",
    "TF_activities$value = TF_activities$NES\n",
    "x = acast(subset(TF_activities, Gene %in% top5), Gene~cl_name, fill = 0)\n",
    "colnames(x)"
   ]
  },
  {
   "cell_type": "code",
   "execution_count": 22,
   "metadata": {},
   "outputs": [],
   "source": [
    "x = x[, c(7, 6, 3, 5, 4, 8, 2, 1) ]\n",
    "pheatmap(t(x[ top5, ]), cellheight = 10, cellwidth = 10, cluster_rows = F, cluster_cols = F, \n",
    "#          color = colorRampPalette(c(\"navy\", \"white\", \"red\"))(50),\n",
    "        filename = 'figures_both_organoid/cluster_markers/top5_TFs_activities_filtered_TFisDE.pdf')\n"
   ]
  },
  {
   "cell_type": "markdown",
   "metadata": {},
   "source": [
    "# Plot top 10 active TFs - curated TFs - confidence A,B"
   ]
  },
  {
   "cell_type": "code",
   "execution_count": 23,
   "metadata": {},
   "outputs": [],
   "source": [
    "TF_activities = default_TF_activities[ grep('_E$', default_TF_activities$Regulon, invert = T) , ]\n",
    "TF_activities = TF_activities[ grep('_D$', TF_activities$Regulon, invert = T) , ]\n",
    "TF_activities = TF_activities[ grep('_C$', TF_activities$Regulon, invert = T) , ]"
   ]
  },
  {
   "cell_type": "code",
   "execution_count": 24,
   "metadata": {},
   "outputs": [
    {
     "data": {
      "text/html": [
       "<table>\n",
       "<caption>A data.frame: 6 × 11</caption>\n",
       "<thead>\n",
       "\t<tr><th></th><th scope=col>cl_name</th><th scope=col>Regulon</th><th scope=col>NES</th><th scope=col>p.value</th><th scope=col>FDR</th><th scope=col>Size</th><th scope=col>id</th><th scope=col>label</th><th scope=col>value</th><th scope=col>Gene</th><th scope=col>rank</th></tr>\n",
       "\t<tr><th></th><th scope=col>&lt;chr&gt;</th><th scope=col>&lt;chr&gt;</th><th scope=col>&lt;dbl&gt;</th><th scope=col>&lt;dbl&gt;</th><th scope=col>&lt;dbl&gt;</th><th scope=col>&lt;int&gt;</th><th scope=col>&lt;chr&gt;</th><th scope=col>&lt;chr&gt;</th><th scope=col>&lt;dbl&gt;</th><th scope=col>&lt;chr&gt;</th><th scope=col>&lt;int&gt;</th></tr>\n",
       "</thead>\n",
       "<tbody>\n",
       "\t<tr><th scope=row>1</th><td>cl_Ciliated_DEGs</td><td>STAT2_B </td><td>4.231719</td><td>2.319121e-05</td><td>0.0001225948</td><td>44</td><td>cl_Ciliated_DEGs STAT2_B </td><td>+</td><td>4.231719</td><td>STAT2 </td><td>1</td></tr>\n",
       "\t<tr><th scope=row>2</th><td>cl_Ciliated_DEGs</td><td>ATF4_AA </td><td>3.326269</td><td>8.801687e-04</td><td>0.0035029704</td><td> 9</td><td>cl_Ciliated_DEGs ATF4_AA </td><td>-</td><td>3.326269</td><td>ATF4  </td><td>2</td></tr>\n",
       "\t<tr><th scope=row>3</th><td>cl_Ciliated_DEGs</td><td>FOXO3_AA</td><td>3.324290</td><td>8.864381e-04</td><td>0.0035178133</td><td>17</td><td>cl_Ciliated_DEGs FOXO3_AA</td><td>+</td><td>3.324290</td><td>FOXO3 </td><td>3</td></tr>\n",
       "\t<tr><th scope=row>4</th><td>cl_Ciliated_DEGs</td><td>NFE2L2_A</td><td>3.217990</td><td>1.290924e-03</td><td>0.0048421460</td><td>12</td><td>cl_Ciliated_DEGs NFE2L2_A</td><td>+</td><td>3.217990</td><td>NFE2L2</td><td>4</td></tr>\n",
       "\t<tr><th scope=row>5</th><td>cl_Ciliated_DEGs</td><td>ZNF382_B</td><td>3.197719</td><td>1.385194e-03</td><td>0.0051572397</td><td>10</td><td>cl_Ciliated_DEGs ZNF382_B</td><td>+</td><td>3.197719</td><td>ZNF382</td><td>5</td></tr>\n",
       "\t<tr><th scope=row>6</th><td>cl_Ciliated_DEGs</td><td>FOXO4_A </td><td>3.062332</td><td>2.196194e-03</td><td>0.0077793560</td><td>12</td><td>cl_Ciliated_DEGs FOXO4_A </td><td>+</td><td>3.062332</td><td>FOXO4 </td><td>6</td></tr>\n",
       "</tbody>\n",
       "</table>\n"
      ],
      "text/latex": [
       "A data.frame: 6 × 11\n",
       "\\begin{tabular}{r|lllllllllll}\n",
       "  & cl\\_name & Regulon & NES & p.value & FDR & Size & id & label & value & Gene & rank\\\\\n",
       "  & <chr> & <chr> & <dbl> & <dbl> & <dbl> & <int> & <chr> & <chr> & <dbl> & <chr> & <int>\\\\\n",
       "\\hline\n",
       "\t1 & cl\\_Ciliated\\_DEGs & STAT2\\_B  & 4.231719 & 2.319121e-05 & 0.0001225948 & 44 & cl\\_Ciliated\\_DEGs STAT2\\_B  & + & 4.231719 & STAT2  & 1\\\\\n",
       "\t2 & cl\\_Ciliated\\_DEGs & ATF4\\_AA  & 3.326269 & 8.801687e-04 & 0.0035029704 &  9 & cl\\_Ciliated\\_DEGs ATF4\\_AA  & - & 3.326269 & ATF4   & 2\\\\\n",
       "\t3 & cl\\_Ciliated\\_DEGs & FOXO3\\_AA & 3.324290 & 8.864381e-04 & 0.0035178133 & 17 & cl\\_Ciliated\\_DEGs FOXO3\\_AA & + & 3.324290 & FOXO3  & 3\\\\\n",
       "\t4 & cl\\_Ciliated\\_DEGs & NFE2L2\\_A & 3.217990 & 1.290924e-03 & 0.0048421460 & 12 & cl\\_Ciliated\\_DEGs NFE2L2\\_A & + & 3.217990 & NFE2L2 & 4\\\\\n",
       "\t5 & cl\\_Ciliated\\_DEGs & ZNF382\\_B & 3.197719 & 1.385194e-03 & 0.0051572397 & 10 & cl\\_Ciliated\\_DEGs ZNF382\\_B & + & 3.197719 & ZNF382 & 5\\\\\n",
       "\t6 & cl\\_Ciliated\\_DEGs & FOXO4\\_A  & 3.062332 & 2.196194e-03 & 0.0077793560 & 12 & cl\\_Ciliated\\_DEGs FOXO4\\_A  & + & 3.062332 & FOXO4  & 6\\\\\n",
       "\\end{tabular}\n"
      ],
      "text/markdown": [
       "\n",
       "A data.frame: 6 × 11\n",
       "\n",
       "| <!--/--> | cl_name &lt;chr&gt; | Regulon &lt;chr&gt; | NES &lt;dbl&gt; | p.value &lt;dbl&gt; | FDR &lt;dbl&gt; | Size &lt;int&gt; | id &lt;chr&gt; | label &lt;chr&gt; | value &lt;dbl&gt; | Gene &lt;chr&gt; | rank &lt;int&gt; |\n",
       "|---|---|---|---|---|---|---|---|---|---|---|---|\n",
       "| 1 | cl_Ciliated_DEGs | STAT2_B  | 4.231719 | 2.319121e-05 | 0.0001225948 | 44 | cl_Ciliated_DEGs STAT2_B  | + | 4.231719 | STAT2  | 1 |\n",
       "| 2 | cl_Ciliated_DEGs | ATF4_AA  | 3.326269 | 8.801687e-04 | 0.0035029704 |  9 | cl_Ciliated_DEGs ATF4_AA  | - | 3.326269 | ATF4   | 2 |\n",
       "| 3 | cl_Ciliated_DEGs | FOXO3_AA | 3.324290 | 8.864381e-04 | 0.0035178133 | 17 | cl_Ciliated_DEGs FOXO3_AA | + | 3.324290 | FOXO3  | 3 |\n",
       "| 4 | cl_Ciliated_DEGs | NFE2L2_A | 3.217990 | 1.290924e-03 | 0.0048421460 | 12 | cl_Ciliated_DEGs NFE2L2_A | + | 3.217990 | NFE2L2 | 4 |\n",
       "| 5 | cl_Ciliated_DEGs | ZNF382_B | 3.197719 | 1.385194e-03 | 0.0051572397 | 10 | cl_Ciliated_DEGs ZNF382_B | + | 3.197719 | ZNF382 | 5 |\n",
       "| 6 | cl_Ciliated_DEGs | FOXO4_A  | 3.062332 | 2.196194e-03 | 0.0077793560 | 12 | cl_Ciliated_DEGs FOXO4_A  | + | 3.062332 | FOXO4  | 6 |\n",
       "\n"
      ],
      "text/plain": [
       "  cl_name          Regulon  NES      p.value      FDR          Size\n",
       "1 cl_Ciliated_DEGs STAT2_B  4.231719 2.319121e-05 0.0001225948 44  \n",
       "2 cl_Ciliated_DEGs ATF4_AA  3.326269 8.801687e-04 0.0035029704  9  \n",
       "3 cl_Ciliated_DEGs FOXO3_AA 3.324290 8.864381e-04 0.0035178133 17  \n",
       "4 cl_Ciliated_DEGs NFE2L2_A 3.217990 1.290924e-03 0.0048421460 12  \n",
       "5 cl_Ciliated_DEGs ZNF382_B 3.197719 1.385194e-03 0.0051572397 10  \n",
       "6 cl_Ciliated_DEGs FOXO4_A  3.062332 2.196194e-03 0.0077793560 12  \n",
       "  id                        label value    Gene   rank\n",
       "1 cl_Ciliated_DEGs STAT2_B  +     4.231719 STAT2  1   \n",
       "2 cl_Ciliated_DEGs ATF4_AA  -     3.326269 ATF4   2   \n",
       "3 cl_Ciliated_DEGs FOXO3_AA +     3.324290 FOXO3  3   \n",
       "4 cl_Ciliated_DEGs NFE2L2_A +     3.217990 NFE2L2 4   \n",
       "5 cl_Ciliated_DEGs ZNF382_B +     3.197719 ZNF382 5   \n",
       "6 cl_Ciliated_DEGs FOXO4_A  +     3.062332 FOXO4  6   "
      ]
     },
     "metadata": {},
     "output_type": "display_data"
    }
   ],
   "source": [
    "# Rank TFs according to their activity\n",
    "TF_activities = TF_activities[order(TF_activities$NES, decreasing = T), ]\n",
    "TF_activities$rank = NULL\n",
    "TF_activities = ddply(TF_activities, 'cl_name', function(df) data.frame(df, rank = 1:nrow(df)) )\n",
    "head(TF_activities)"
   ]
  },
  {
   "cell_type": "code",
   "execution_count": 25,
   "metadata": {},
   "outputs": [],
   "source": [
    "# order clusters\n",
    "TF_activities = rbind(subset(TF_activities, cl_name %in% 'cl_proliferative_DEGs'),\n",
    "                     subset(TF_activities, cl_name %in% 'cl_KRT5_LRG6_DEGs'),\n",
    "                     subset(TF_activities, cl_name %in% 'cl_Inter_PGRneg_DEGs'),\n",
    "                     subset(TF_activities, cl_name %in% 'cl_KRT5_KRT13_DEGs'),\n",
    "                     subset(TF_activities, cl_name %in% 'cl_Inter_PGRpos_DEGs'),\n",
    "                     subset(TF_activities, cl_name %in% 'cl_Secretory_DEGs'),\n",
    "                     subset(TF_activities, cl_name %in% 'cl_Ciliated_G2M_DEGs'),\n",
    "                     subset(TF_activities, cl_name %in% 'cl_Ciliated_DEGs'))"
   ]
  },
  {
   "cell_type": "code",
   "execution_count": 26,
   "metadata": {},
   "outputs": [],
   "source": [
    "# Select top 10 ranked genes\n",
    "TF_activities$Gene = sapply(strsplit(TF_activities$Regulon, '_'), head, 1)\n",
    "top5 = subset(TF_activities, rank %in% 1:5 & NES > 0)$Gene"
   ]
  },
  {
   "cell_type": "code",
   "execution_count": 27,
   "metadata": {},
   "outputs": [
    {
     "data": {
      "text/html": [
       "<style>\n",
       ".list-inline {list-style: none; margin:0; padding: 0}\n",
       ".list-inline>li {display: inline-block}\n",
       ".list-inline>li:not(:last-child)::after {content: \"\\00b7\"; padding: 0 .5ex}\n",
       "</style>\n",
       "<ol class=list-inline><li>'cl_Ciliated_DEGs'</li><li>'cl_Ciliated_G2M_DEGs'</li><li>'cl_Inter_PGRneg_DEGs'</li><li>'cl_Inter_PGRpos_DEGs'</li><li>'cl_KRT5_KRT13_DEGs'</li><li>'cl_KRT5_LRG6_DEGs'</li><li>'cl_proliferative_DEGs'</li><li>'cl_Secretory_DEGs'</li></ol>\n"
      ],
      "text/latex": [
       "\\begin{enumerate*}\n",
       "\\item 'cl\\_Ciliated\\_DEGs'\n",
       "\\item 'cl\\_Ciliated\\_G2M\\_DEGs'\n",
       "\\item 'cl\\_Inter\\_PGRneg\\_DEGs'\n",
       "\\item 'cl\\_Inter\\_PGRpos\\_DEGs'\n",
       "\\item 'cl\\_KRT5\\_KRT13\\_DEGs'\n",
       "\\item 'cl\\_KRT5\\_LRG6\\_DEGs'\n",
       "\\item 'cl\\_proliferative\\_DEGs'\n",
       "\\item 'cl\\_Secretory\\_DEGs'\n",
       "\\end{enumerate*}\n"
      ],
      "text/markdown": [
       "1. 'cl_Ciliated_DEGs'\n",
       "2. 'cl_Ciliated_G2M_DEGs'\n",
       "3. 'cl_Inter_PGRneg_DEGs'\n",
       "4. 'cl_Inter_PGRpos_DEGs'\n",
       "5. 'cl_KRT5_KRT13_DEGs'\n",
       "6. 'cl_KRT5_LRG6_DEGs'\n",
       "7. 'cl_proliferative_DEGs'\n",
       "8. 'cl_Secretory_DEGs'\n",
       "\n",
       "\n"
      ],
      "text/plain": [
       "[1] \"cl_Ciliated_DEGs\"      \"cl_Ciliated_G2M_DEGs\"  \"cl_Inter_PGRneg_DEGs\" \n",
       "[4] \"cl_Inter_PGRpos_DEGs\"  \"cl_KRT5_KRT13_DEGs\"    \"cl_KRT5_LRG6_DEGs\"    \n",
       "[7] \"cl_proliferative_DEGs\" \"cl_Secretory_DEGs\"    "
      ]
     },
     "metadata": {},
     "output_type": "display_data"
    }
   ],
   "source": [
    "# build matrix of TF activity scores to plot\n",
    "TF_activities$value = TF_activities$NES\n",
    "x = acast(subset(TF_activities, Gene %in% top5), Gene~cl_name, fill = 0)\n",
    "colnames(x)"
   ]
  },
  {
   "cell_type": "code",
   "execution_count": 28,
   "metadata": {},
   "outputs": [],
   "source": [
    "x = x[, c(7, 6, 3, 5, 4, 8, 2, 1) ]\n",
    "pheatmap(t(x[ top5, ]), cellheight = 10, cellwidth = 10, cluster_rows = F, cluster_cols = F, \n",
    "#          color = colorRampPalette(c(\"navy\", \"white\", \"red\"))(50),\n",
    "        filename = 'figures_both_organoid/cluster_markers/top5_TFs_activities_filtered_curatedTFs.pdf')\n"
   ]
  },
  {
   "cell_type": "markdown",
   "metadata": {},
   "source": [
    "# Plot top 10 active TFs - curated and DE TFs"
   ]
  },
  {
   "cell_type": "code",
   "execution_count": 29,
   "metadata": {},
   "outputs": [],
   "source": [
    "TF_activities = default_TF_activities[ grep('_E$', default_TF_activities$Regulon, invert = T) , ]\n",
    "TF_activities = TF_activities[ grep('_D$', TF_activities$Regulon, invert = T) , ]\n",
    "TF_activities = TF_activities[ grep('_C$', TF_activities$Regulon, invert = T) , ]\n",
    "TF_activities = subset(TF_activities, label != '')"
   ]
  },
  {
   "cell_type": "code",
   "execution_count": 30,
   "metadata": {},
   "outputs": [
    {
     "data": {
      "text/html": [
       "<table>\n",
       "<caption>A data.frame: 6 × 11</caption>\n",
       "<thead>\n",
       "\t<tr><th></th><th scope=col>cl_name</th><th scope=col>Regulon</th><th scope=col>NES</th><th scope=col>p.value</th><th scope=col>FDR</th><th scope=col>Size</th><th scope=col>id</th><th scope=col>label</th><th scope=col>value</th><th scope=col>Gene</th><th scope=col>rank</th></tr>\n",
       "\t<tr><th></th><th scope=col>&lt;chr&gt;</th><th scope=col>&lt;chr&gt;</th><th scope=col>&lt;dbl&gt;</th><th scope=col>&lt;dbl&gt;</th><th scope=col>&lt;dbl&gt;</th><th scope=col>&lt;int&gt;</th><th scope=col>&lt;chr&gt;</th><th scope=col>&lt;chr&gt;</th><th scope=col>&lt;dbl&gt;</th><th scope=col>&lt;chr&gt;</th><th scope=col>&lt;int&gt;</th></tr>\n",
       "</thead>\n",
       "<tbody>\n",
       "\t<tr><th scope=row>1</th><td>cl_Ciliated_DEGs</td><td>STAT2_B </td><td>4.231719</td><td>2.319121e-05</td><td>0.0001225948</td><td>44</td><td>cl_Ciliated_DEGs STAT2_B </td><td>+</td><td>4.231719</td><td>STAT2 </td><td>1</td></tr>\n",
       "\t<tr><th scope=row>2</th><td>cl_Ciliated_DEGs</td><td>ATF4_AA </td><td>3.326269</td><td>8.801687e-04</td><td>0.0035029704</td><td> 9</td><td>cl_Ciliated_DEGs ATF4_AA </td><td>-</td><td>3.326269</td><td>ATF4  </td><td>2</td></tr>\n",
       "\t<tr><th scope=row>3</th><td>cl_Ciliated_DEGs</td><td>FOXO3_AA</td><td>3.324290</td><td>8.864381e-04</td><td>0.0035178133</td><td>17</td><td>cl_Ciliated_DEGs FOXO3_AA</td><td>+</td><td>3.324290</td><td>FOXO3 </td><td>3</td></tr>\n",
       "\t<tr><th scope=row>4</th><td>cl_Ciliated_DEGs</td><td>NFE2L2_A</td><td>3.217990</td><td>1.290924e-03</td><td>0.0048421460</td><td>12</td><td>cl_Ciliated_DEGs NFE2L2_A</td><td>+</td><td>3.217990</td><td>NFE2L2</td><td>4</td></tr>\n",
       "\t<tr><th scope=row>5</th><td>cl_Ciliated_DEGs</td><td>ZNF382_B</td><td>3.197719</td><td>1.385194e-03</td><td>0.0051572397</td><td>10</td><td>cl_Ciliated_DEGs ZNF382_B</td><td>+</td><td>3.197719</td><td>ZNF382</td><td>5</td></tr>\n",
       "\t<tr><th scope=row>6</th><td>cl_Ciliated_DEGs</td><td>FOXO4_A </td><td>3.062332</td><td>2.196194e-03</td><td>0.0077793560</td><td>12</td><td>cl_Ciliated_DEGs FOXO4_A </td><td>+</td><td>3.062332</td><td>FOXO4 </td><td>6</td></tr>\n",
       "</tbody>\n",
       "</table>\n"
      ],
      "text/latex": [
       "A data.frame: 6 × 11\n",
       "\\begin{tabular}{r|lllllllllll}\n",
       "  & cl\\_name & Regulon & NES & p.value & FDR & Size & id & label & value & Gene & rank\\\\\n",
       "  & <chr> & <chr> & <dbl> & <dbl> & <dbl> & <int> & <chr> & <chr> & <dbl> & <chr> & <int>\\\\\n",
       "\\hline\n",
       "\t1 & cl\\_Ciliated\\_DEGs & STAT2\\_B  & 4.231719 & 2.319121e-05 & 0.0001225948 & 44 & cl\\_Ciliated\\_DEGs STAT2\\_B  & + & 4.231719 & STAT2  & 1\\\\\n",
       "\t2 & cl\\_Ciliated\\_DEGs & ATF4\\_AA  & 3.326269 & 8.801687e-04 & 0.0035029704 &  9 & cl\\_Ciliated\\_DEGs ATF4\\_AA  & - & 3.326269 & ATF4   & 2\\\\\n",
       "\t3 & cl\\_Ciliated\\_DEGs & FOXO3\\_AA & 3.324290 & 8.864381e-04 & 0.0035178133 & 17 & cl\\_Ciliated\\_DEGs FOXO3\\_AA & + & 3.324290 & FOXO3  & 3\\\\\n",
       "\t4 & cl\\_Ciliated\\_DEGs & NFE2L2\\_A & 3.217990 & 1.290924e-03 & 0.0048421460 & 12 & cl\\_Ciliated\\_DEGs NFE2L2\\_A & + & 3.217990 & NFE2L2 & 4\\\\\n",
       "\t5 & cl\\_Ciliated\\_DEGs & ZNF382\\_B & 3.197719 & 1.385194e-03 & 0.0051572397 & 10 & cl\\_Ciliated\\_DEGs ZNF382\\_B & + & 3.197719 & ZNF382 & 5\\\\\n",
       "\t6 & cl\\_Ciliated\\_DEGs & FOXO4\\_A  & 3.062332 & 2.196194e-03 & 0.0077793560 & 12 & cl\\_Ciliated\\_DEGs FOXO4\\_A  & + & 3.062332 & FOXO4  & 6\\\\\n",
       "\\end{tabular}\n"
      ],
      "text/markdown": [
       "\n",
       "A data.frame: 6 × 11\n",
       "\n",
       "| <!--/--> | cl_name &lt;chr&gt; | Regulon &lt;chr&gt; | NES &lt;dbl&gt; | p.value &lt;dbl&gt; | FDR &lt;dbl&gt; | Size &lt;int&gt; | id &lt;chr&gt; | label &lt;chr&gt; | value &lt;dbl&gt; | Gene &lt;chr&gt; | rank &lt;int&gt; |\n",
       "|---|---|---|---|---|---|---|---|---|---|---|---|\n",
       "| 1 | cl_Ciliated_DEGs | STAT2_B  | 4.231719 | 2.319121e-05 | 0.0001225948 | 44 | cl_Ciliated_DEGs STAT2_B  | + | 4.231719 | STAT2  | 1 |\n",
       "| 2 | cl_Ciliated_DEGs | ATF4_AA  | 3.326269 | 8.801687e-04 | 0.0035029704 |  9 | cl_Ciliated_DEGs ATF4_AA  | - | 3.326269 | ATF4   | 2 |\n",
       "| 3 | cl_Ciliated_DEGs | FOXO3_AA | 3.324290 | 8.864381e-04 | 0.0035178133 | 17 | cl_Ciliated_DEGs FOXO3_AA | + | 3.324290 | FOXO3  | 3 |\n",
       "| 4 | cl_Ciliated_DEGs | NFE2L2_A | 3.217990 | 1.290924e-03 | 0.0048421460 | 12 | cl_Ciliated_DEGs NFE2L2_A | + | 3.217990 | NFE2L2 | 4 |\n",
       "| 5 | cl_Ciliated_DEGs | ZNF382_B | 3.197719 | 1.385194e-03 | 0.0051572397 | 10 | cl_Ciliated_DEGs ZNF382_B | + | 3.197719 | ZNF382 | 5 |\n",
       "| 6 | cl_Ciliated_DEGs | FOXO4_A  | 3.062332 | 2.196194e-03 | 0.0077793560 | 12 | cl_Ciliated_DEGs FOXO4_A  | + | 3.062332 | FOXO4  | 6 |\n",
       "\n"
      ],
      "text/plain": [
       "  cl_name          Regulon  NES      p.value      FDR          Size\n",
       "1 cl_Ciliated_DEGs STAT2_B  4.231719 2.319121e-05 0.0001225948 44  \n",
       "2 cl_Ciliated_DEGs ATF4_AA  3.326269 8.801687e-04 0.0035029704  9  \n",
       "3 cl_Ciliated_DEGs FOXO3_AA 3.324290 8.864381e-04 0.0035178133 17  \n",
       "4 cl_Ciliated_DEGs NFE2L2_A 3.217990 1.290924e-03 0.0048421460 12  \n",
       "5 cl_Ciliated_DEGs ZNF382_B 3.197719 1.385194e-03 0.0051572397 10  \n",
       "6 cl_Ciliated_DEGs FOXO4_A  3.062332 2.196194e-03 0.0077793560 12  \n",
       "  id                        label value    Gene   rank\n",
       "1 cl_Ciliated_DEGs STAT2_B  +     4.231719 STAT2  1   \n",
       "2 cl_Ciliated_DEGs ATF4_AA  -     3.326269 ATF4   2   \n",
       "3 cl_Ciliated_DEGs FOXO3_AA +     3.324290 FOXO3  3   \n",
       "4 cl_Ciliated_DEGs NFE2L2_A +     3.217990 NFE2L2 4   \n",
       "5 cl_Ciliated_DEGs ZNF382_B +     3.197719 ZNF382 5   \n",
       "6 cl_Ciliated_DEGs FOXO4_A  +     3.062332 FOXO4  6   "
      ]
     },
     "metadata": {},
     "output_type": "display_data"
    }
   ],
   "source": [
    "# Rank TFs according to their activity\n",
    "TF_activities = TF_activities[order(TF_activities$NES, decreasing = T), ]\n",
    "TF_activities$rank = NULL\n",
    "TF_activities = ddply(TF_activities, 'cl_name', function(df) data.frame(df, rank = 1:nrow(df)) )\n",
    "head(TF_activities)"
   ]
  },
  {
   "cell_type": "code",
   "execution_count": 31,
   "metadata": {},
   "outputs": [],
   "source": [
    "# order clusters\n",
    "TF_activities = rbind(subset(TF_activities, cl_name %in% 'cl_proliferative_DEGs'),\n",
    "                     subset(TF_activities, cl_name %in% 'cl_KRT5_LRG6_DEGs'),\n",
    "                     subset(TF_activities, cl_name %in% 'cl_Inter_PGRneg_DEGs'),\n",
    "                     subset(TF_activities, cl_name %in% 'cl_KRT5_KRT13_DEGs'),\n",
    "                     subset(TF_activities, cl_name %in% 'cl_Inter_PGRpos_DEGs'),\n",
    "                     subset(TF_activities, cl_name %in% 'cl_Secretory_DEGs'),\n",
    "                     subset(TF_activities, cl_name %in% 'cl_Ciliated_G2M_DEGs'),\n",
    "                     subset(TF_activities, cl_name %in% 'cl_Ciliated_DEGs'))"
   ]
  },
  {
   "cell_type": "code",
   "execution_count": 32,
   "metadata": {},
   "outputs": [],
   "source": [
    "# Select top 10 ranked genes\n",
    "TF_activities$Gene = sapply(strsplit(TF_activities$Regulon, '_'), head, 1)\n",
    "top5 = subset(TF_activities, rank %in% 1:5 & NES > 0)$Gene"
   ]
  },
  {
   "cell_type": "code",
   "execution_count": 33,
   "metadata": {},
   "outputs": [
    {
     "data": {
      "text/html": [
       "<style>\n",
       ".list-inline {list-style: none; margin:0; padding: 0}\n",
       ".list-inline>li {display: inline-block}\n",
       ".list-inline>li:not(:last-child)::after {content: \"\\00b7\"; padding: 0 .5ex}\n",
       "</style>\n",
       "<ol class=list-inline><li>'cl_Ciliated_DEGs'</li><li>'cl_Ciliated_G2M_DEGs'</li><li>'cl_Inter_PGRneg_DEGs'</li><li>'cl_Inter_PGRpos_DEGs'</li><li>'cl_KRT5_KRT13_DEGs'</li><li>'cl_KRT5_LRG6_DEGs'</li><li>'cl_proliferative_DEGs'</li><li>'cl_Secretory_DEGs'</li></ol>\n"
      ],
      "text/latex": [
       "\\begin{enumerate*}\n",
       "\\item 'cl\\_Ciliated\\_DEGs'\n",
       "\\item 'cl\\_Ciliated\\_G2M\\_DEGs'\n",
       "\\item 'cl\\_Inter\\_PGRneg\\_DEGs'\n",
       "\\item 'cl\\_Inter\\_PGRpos\\_DEGs'\n",
       "\\item 'cl\\_KRT5\\_KRT13\\_DEGs'\n",
       "\\item 'cl\\_KRT5\\_LRG6\\_DEGs'\n",
       "\\item 'cl\\_proliferative\\_DEGs'\n",
       "\\item 'cl\\_Secretory\\_DEGs'\n",
       "\\end{enumerate*}\n"
      ],
      "text/markdown": [
       "1. 'cl_Ciliated_DEGs'\n",
       "2. 'cl_Ciliated_G2M_DEGs'\n",
       "3. 'cl_Inter_PGRneg_DEGs'\n",
       "4. 'cl_Inter_PGRpos_DEGs'\n",
       "5. 'cl_KRT5_KRT13_DEGs'\n",
       "6. 'cl_KRT5_LRG6_DEGs'\n",
       "7. 'cl_proliferative_DEGs'\n",
       "8. 'cl_Secretory_DEGs'\n",
       "\n",
       "\n"
      ],
      "text/plain": [
       "[1] \"cl_Ciliated_DEGs\"      \"cl_Ciliated_G2M_DEGs\"  \"cl_Inter_PGRneg_DEGs\" \n",
       "[4] \"cl_Inter_PGRpos_DEGs\"  \"cl_KRT5_KRT13_DEGs\"    \"cl_KRT5_LRG6_DEGs\"    \n",
       "[7] \"cl_proliferative_DEGs\" \"cl_Secretory_DEGs\"    "
      ]
     },
     "metadata": {},
     "output_type": "display_data"
    }
   ],
   "source": [
    "# build matrix of TF activity scores to plot\n",
    "TF_activities$value = TF_activities$NES\n",
    "x = acast(subset(TF_activities, Gene %in% top5), Gene~cl_name, fill = 0)\n",
    "colnames(x)"
   ]
  },
  {
   "cell_type": "code",
   "execution_count": 34,
   "metadata": {},
   "outputs": [],
   "source": [
    "x = x[, c(7, 6, 3, 5, 4, 8, 2, 1) ]\n",
    "pheatmap(t(x[ top5, ]), cellheight = 10, cellwidth = 10, cluster_rows = F, cluster_cols = F, \n",
    "#          color = colorRampPalette(c(\"navy\", \"white\", \"red\"))(50),\n",
    "        filename = 'figures_both_organoid/cluster_markers/top5_TFs_activities_filtered_curatedTFs_TFisDE.pdf')\n"
   ]
  },
  {
   "cell_type": "markdown",
   "metadata": {},
   "source": [
    "# Plot top 10 DE TFs"
   ]
  },
  {
   "cell_type": "code",
   "execution_count": 35,
   "metadata": {},
   "outputs": [],
   "source": [
    "TFs = read.csv('data/scenic/huTF_census.txt', stringsAsFactors = F, header = F)$V1\n",
    "\n",
    "\n",
    "\n",
    "DE_proliferative = read.csv('figures_both_organoid/cluster_markers/proliferative_DEGs.csv', stringsAsFactors = F)\n",
    "DE_KRT5_LRG6 = read.csv('figures_both_organoid/cluster_markers/KRT5_LRG6_DEGs.csv', stringsAsFactors = F)\n",
    "DE_Inter_PGRneg = read.csv('figures_both_organoid/cluster_markers/Inter_PGRneg_DEGs.csv', stringsAsFactors = F)\n",
    "DE_KRT5_KRT13 = read.csv('figures_both_organoid/cluster_markers/KRT5_KRT13_DEGs.csv', stringsAsFactors = F)\n",
    "DE_Inter_PGRpos = read.csv('figures_both_organoid/cluster_markers/Inter_PGRpos_DEGs.csv', stringsAsFactors = F)\n",
    "DE_Secretory = read.csv('figures_both_organoid/cluster_markers/Secretory_DEGs.csv', stringsAsFactors = F)\n",
    "DE_Ciliated_G2M = read.csv('figures_both_organoid/cluster_markers/Ciliated_G2M_DEGs.csv', stringsAsFactors = F)\n",
    "DE_Ciliated = read.csv('figures_both_organoid/cluster_markers/Ciliated_DEGs.csv', stringsAsFactors = F)\n",
    "\n",
    "DE = list(proliferative=DE_proliferative,\n",
    "         KRT5_LRG6=DE_KRT5_LRG6,\n",
    "         Inter_PGRneg=DE_Inter_PGRneg,\n",
    "         KRT5_KRT13=DE_KRT5_KRT13,\n",
    "         Inter_PGRpos=DE_Inter_PGRpos,\n",
    "         Secretory=DE_Secretory,\n",
    "         Ciliated_G2M=DE_Ciliated_G2M,\n",
    "         Ciliated=DE_Ciliated)\n",
    "\n",
    "DE = lapply(DE, function(x){\n",
    "    x = subset(x, Gene %in% TFs)\n",
    "    x = x[ order(x$logFC, decreasing = T) ,]\n",
    "    x$rank = 1:nrow(x)\n",
    "    return(x)\n",
    "})\n"
   ]
  },
  {
   "cell_type": "code",
   "execution_count": 36,
   "metadata": {},
   "outputs": [
    {
     "data": {
      "text/html": [
       "<table>\n",
       "<caption>A data.frame: 6 × 10</caption>\n",
       "<thead>\n",
       "\t<tr><th></th><th scope=col>Gene</th><th scope=col>logFC</th><th scope=col>P.Value</th><th scope=col>adj.P.Val</th><th scope=col>AveExpr_cluster</th><th scope=col>AveExpr_rest</th><th scope=col>percentExpr_cluster</th><th scope=col>percentExpr_rest</th><th scope=col>rank</th><th scope=col>L1</th></tr>\n",
       "\t<tr><th></th><th scope=col>&lt;chr&gt;</th><th scope=col>&lt;dbl&gt;</th><th scope=col>&lt;dbl&gt;</th><th scope=col>&lt;dbl&gt;</th><th scope=col>&lt;dbl&gt;</th><th scope=col>&lt;dbl&gt;</th><th scope=col>&lt;dbl&gt;</th><th scope=col>&lt;dbl&gt;</th><th scope=col>&lt;int&gt;</th><th scope=col>&lt;chr&gt;</th></tr>\n",
       "</thead>\n",
       "<tbody>\n",
       "\t<tr><th scope=row>1</th><td>MYBL2</td><td>0.5551049</td><td>0</td><td>0</td><td>0.692711</td><td>0.136919</td><td>0.6714</td><td>0.147050</td><td>1</td><td>proliferative</td></tr>\n",
       "\t<tr><th scope=row>2</th><td>DNMT1</td><td>0.4785667</td><td>0</td><td>0</td><td>1.103327</td><td>0.623507</td><td>0.8858</td><td>0.574062</td><td>2</td><td>proliferative</td></tr>\n",
       "\t<tr><th scope=row>3</th><td>SSRP1</td><td>0.3691107</td><td>0</td><td>0</td><td>1.143120</td><td>0.778406</td><td>0.9082</td><td>0.679517</td><td>3</td><td>proliferative</td></tr>\n",
       "\t<tr><th scope=row>4</th><td>TFDP1</td><td>0.3541961</td><td>0</td><td>0</td><td>0.868315</td><td>0.511302</td><td>0.7928</td><td>0.504296</td><td>4</td><td>proliferative</td></tr>\n",
       "\t<tr><th scope=row>5</th><td>FOXM1</td><td>0.3504815</td><td>0</td><td>0</td><td>0.438449</td><td>0.088996</td><td>0.4790</td><td>0.106243</td><td>5</td><td>proliferative</td></tr>\n",
       "\t<tr><th scope=row>6</th><td>LYAR </td><td>0.3464958</td><td>0</td><td>0</td><td>0.759308</td><td>0.409880</td><td>0.7214</td><td>0.412836</td><td>6</td><td>proliferative</td></tr>\n",
       "</tbody>\n",
       "</table>\n"
      ],
      "text/latex": [
       "A data.frame: 6 × 10\n",
       "\\begin{tabular}{r|llllllllll}\n",
       "  & Gene & logFC & P.Value & adj.P.Val & AveExpr\\_cluster & AveExpr\\_rest & percentExpr\\_cluster & percentExpr\\_rest & rank & L1\\\\\n",
       "  & <chr> & <dbl> & <dbl> & <dbl> & <dbl> & <dbl> & <dbl> & <dbl> & <int> & <chr>\\\\\n",
       "\\hline\n",
       "\t1 & MYBL2 & 0.5551049 & 0 & 0 & 0.692711 & 0.136919 & 0.6714 & 0.147050 & 1 & proliferative\\\\\n",
       "\t2 & DNMT1 & 0.4785667 & 0 & 0 & 1.103327 & 0.623507 & 0.8858 & 0.574062 & 2 & proliferative\\\\\n",
       "\t3 & SSRP1 & 0.3691107 & 0 & 0 & 1.143120 & 0.778406 & 0.9082 & 0.679517 & 3 & proliferative\\\\\n",
       "\t4 & TFDP1 & 0.3541961 & 0 & 0 & 0.868315 & 0.511302 & 0.7928 & 0.504296 & 4 & proliferative\\\\\n",
       "\t5 & FOXM1 & 0.3504815 & 0 & 0 & 0.438449 & 0.088996 & 0.4790 & 0.106243 & 5 & proliferative\\\\\n",
       "\t6 & LYAR  & 0.3464958 & 0 & 0 & 0.759308 & 0.409880 & 0.7214 & 0.412836 & 6 & proliferative\\\\\n",
       "\\end{tabular}\n"
      ],
      "text/markdown": [
       "\n",
       "A data.frame: 6 × 10\n",
       "\n",
       "| <!--/--> | Gene &lt;chr&gt; | logFC &lt;dbl&gt; | P.Value &lt;dbl&gt; | adj.P.Val &lt;dbl&gt; | AveExpr_cluster &lt;dbl&gt; | AveExpr_rest &lt;dbl&gt; | percentExpr_cluster &lt;dbl&gt; | percentExpr_rest &lt;dbl&gt; | rank &lt;int&gt; | L1 &lt;chr&gt; |\n",
       "|---|---|---|---|---|---|---|---|---|---|---|\n",
       "| 1 | MYBL2 | 0.5551049 | 0 | 0 | 0.692711 | 0.136919 | 0.6714 | 0.147050 | 1 | proliferative |\n",
       "| 2 | DNMT1 | 0.4785667 | 0 | 0 | 1.103327 | 0.623507 | 0.8858 | 0.574062 | 2 | proliferative |\n",
       "| 3 | SSRP1 | 0.3691107 | 0 | 0 | 1.143120 | 0.778406 | 0.9082 | 0.679517 | 3 | proliferative |\n",
       "| 4 | TFDP1 | 0.3541961 | 0 | 0 | 0.868315 | 0.511302 | 0.7928 | 0.504296 | 4 | proliferative |\n",
       "| 5 | FOXM1 | 0.3504815 | 0 | 0 | 0.438449 | 0.088996 | 0.4790 | 0.106243 | 5 | proliferative |\n",
       "| 6 | LYAR  | 0.3464958 | 0 | 0 | 0.759308 | 0.409880 | 0.7214 | 0.412836 | 6 | proliferative |\n",
       "\n"
      ],
      "text/plain": [
       "  Gene  logFC     P.Value adj.P.Val AveExpr_cluster AveExpr_rest\n",
       "1 MYBL2 0.5551049 0       0         0.692711        0.136919    \n",
       "2 DNMT1 0.4785667 0       0         1.103327        0.623507    \n",
       "3 SSRP1 0.3691107 0       0         1.143120        0.778406    \n",
       "4 TFDP1 0.3541961 0       0         0.868315        0.511302    \n",
       "5 FOXM1 0.3504815 0       0         0.438449        0.088996    \n",
       "6 LYAR  0.3464958 0       0         0.759308        0.409880    \n",
       "  percentExpr_cluster percentExpr_rest rank L1           \n",
       "1 0.6714              0.147050         1    proliferative\n",
       "2 0.8858              0.574062         2    proliferative\n",
       "3 0.9082              0.679517         3    proliferative\n",
       "4 0.7928              0.504296         4    proliferative\n",
       "5 0.4790              0.106243         5    proliferative\n",
       "6 0.7214              0.412836         6    proliferative"
      ]
     },
     "metadata": {},
     "output_type": "display_data"
    }
   ],
   "source": [
    "DE_df = melt(DE, id.vars = names(DE[[1]]) )\n",
    "head(DE_df)"
   ]
  },
  {
   "cell_type": "code",
   "execution_count": 37,
   "metadata": {},
   "outputs": [],
   "source": [
    "# Select top 10 ranked genes\n",
    "top5 = subset(DE_df, rank %in% 1:5)$Gene #%>% unique(.)"
   ]
  },
  {
   "cell_type": "code",
   "execution_count": 38,
   "metadata": {},
   "outputs": [],
   "source": [
    "# build matrix of TF activity scores to plot\n",
    "DE_df$value = DE_df$logFC\n",
    "x = acast(subset(DE_df, Gene %in% top5), Gene~L1, fill = 0)\n",
    "pheatmap(t(x[top5, names(DE)]), cellheight = 10, cellwidth = 10, cluster_rows = F, cluster_cols = F,\n",
    "        filename = 'figures_both_organoid/cluster_markers/top5_TFs_DE.pdf')\n"
   ]
  },
  {
   "cell_type": "code",
   "execution_count": 39,
   "metadata": {},
   "outputs": [],
   "source": [
    "# mydf = subset(DE_df, Gene %in% top5)\n",
    "# mydf$Gene = factor(mydf$Gene, levels = unique(top5))\n",
    "# mydf$cluster = factor(mydf$L1, levels = rev(names(DE)))\n",
    "\n",
    "# require(ggplot2)\n",
    "#   ggplot(mydf, \n",
    "#          aes(x = Gene,\n",
    "#              y = cluster)) +        ## global aes\n",
    "# #   geom_tile(aes(fill = P.Value)) +         ## to get the rect filled\n",
    "#   geom_point(aes(colour = logFC, \n",
    "#                    size = percentExpr_cluster))  +    ## geom_point for circle illusion\n",
    "#   scale_color_gradient2(low = \"blue\",   mid = 'white',\n",
    "#                        high = \"red\")+       ## color of the corresponding aes\n",
    "#   scale_size(range = c(1, 4))+             ## to tune the size of circles\n",
    "#   theme_bw() + theme(axis.text.x = element_text(angle = 90, vjust = 0.5, hjust = 1))\n",
    "# ggsave(filename = 'figures_both_organoid/cluster_markers/top5_TFs_DE_dotplot.pdf', dpi = 300, width = 10, height = 4)"
   ]
  },
  {
   "cell_type": "code",
   "execution_count": null,
   "metadata": {},
   "outputs": [],
   "source": []
  }
 ],
 "metadata": {
  "kernelspec": {
   "display_name": "R",
   "language": "R",
   "name": "ir"
  },
  "language_info": {
   "codemirror_mode": "r",
   "file_extension": ".r",
   "mimetype": "text/x-r-source",
   "name": "R",
   "pygments_lexer": "r",
   "version": "3.6.2"
  }
 },
 "nbformat": 4,
 "nbformat_minor": 4
}

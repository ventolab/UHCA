{
 "cells": [
  {
   "cell_type": "code",
   "execution_count": 1,
   "metadata": {},
   "outputs": [
    {
     "name": "stderr",
     "output_type": "stream",
     "text": [
      "\n",
      "Attaching package: ‘dplyr’\n",
      "\n",
      "\n",
      "The following objects are masked from ‘package:stats’:\n",
      "\n",
      "    filter, lag\n",
      "\n",
      "\n",
      "The following objects are masked from ‘package:base’:\n",
      "\n",
      "    intersect, setdiff, setequal, union\n",
      "\n",
      "\n",
      "\n",
      "********************************************************\n",
      "\n",
      "Note: As of version 1.0.0, cowplot does not change the\n",
      "\n",
      "  default ggplot2 theme anymore. To recover the previous\n",
      "\n",
      "  behavior, execute:\n",
      "  theme_set(theme_cowplot())\n",
      "\n",
      "********************************************************\n",
      "\n",
      "\n"
     ]
    }
   ],
   "source": [
    "library(dplyr)\n",
    "library(RColorBrewer)\n",
    "library(ggplot2)\n",
    "library(pheatmap)\n",
    "library(cowplot)\n",
    "library(reshape2)"
   ]
  },
  {
   "cell_type": "markdown",
   "metadata": {},
   "source": [
    "# Load spatial"
   ]
  },
  {
   "cell_type": "code",
   "execution_count": 9,
   "metadata": {},
   "outputs": [
    {
     "data": {
      "text/html": [
       "<style>\n",
       ".list-inline {list-style: none; margin:0; padding: 0}\n",
       ".list-inline>li {display: inline-block}\n",
       ".list-inline>li:not(:last-child)::after {content: \"\\00b7\"; padding: 0 .5ex}\n",
       "</style>\n",
       "<ol class=list-inline><li>'basal'</li><li>'glandular'</li><li>'luminal'</li></ol>\n"
      ],
      "text/latex": [
       "\\begin{enumerate*}\n",
       "\\item 'basal'\n",
       "\\item 'glandular'\n",
       "\\item 'luminal'\n",
       "\\end{enumerate*}\n"
      ],
      "text/markdown": [
       "1. 'basal'\n",
       "2. 'glandular'\n",
       "3. 'luminal'\n",
       "\n",
       "\n"
      ],
      "text/plain": [
       "[1] \"basal\"     \"glandular\" \"luminal\"  "
      ]
     },
     "metadata": {},
     "output_type": "display_data"
    },
    {
     "data": {
      "text/html": [
       "<table>\n",
       "<caption>A data.frame: 6 × 8</caption>\n",
       "<thead>\n",
       "\t<tr><th></th><th scope=col>Gene</th><th scope=col>logFC</th><th scope=col>P.Value</th><th scope=col>adj.P.Val</th><th scope=col>AveExpr_cluster</th><th scope=col>AveExpr_rest</th><th scope=col>percentExpr_cluster</th><th scope=col>percentExpr_rest</th></tr>\n",
       "\t<tr><th></th><th scope=col>&lt;chr&gt;</th><th scope=col>&lt;dbl&gt;</th><th scope=col>&lt;dbl&gt;</th><th scope=col>&lt;dbl&gt;</th><th scope=col>&lt;dbl&gt;</th><th scope=col>&lt;dbl&gt;</th><th scope=col>&lt;dbl&gt;</th><th scope=col>&lt;dbl&gt;</th></tr>\n",
       "</thead>\n",
       "<tbody>\n",
       "\t<tr><th scope=row>CLU</th><td>CLU    </td><td> 0.8605450</td><td>3.602928e-29</td><td>6.869703e-25</td><td>2.596186</td><td>1.735641</td><td>1.000000</td><td>0.989474</td></tr>\n",
       "\t<tr><th scope=row>COL3A1</th><td>COL3A1 </td><td>-0.5792378</td><td>5.130887e-27</td><td>4.891531e-23</td><td>2.830775</td><td>3.410013</td><td>0.974790</td><td>1.000000</td></tr>\n",
       "\t<tr><th scope=row>SLC40A1</th><td>SLC40A1</td><td> 0.6735332</td><td>1.014873e-23</td><td>6.450195e-20</td><td>1.885815</td><td>1.212282</td><td>0.983193</td><td>0.947368</td></tr>\n",
       "\t<tr><th scope=row>COL1A2</th><td>COL1A2 </td><td>-0.5243485</td><td>2.045446e-20</td><td>9.750129e-17</td><td>1.772438</td><td>2.296787</td><td>0.957983</td><td>1.000000</td></tr>\n",
       "\t<tr><th scope=row>TMSB10</th><td>TMSB10 </td><td>-0.3098104</td><td>2.460015e-19</td><td>8.490781e-16</td><td>3.131659</td><td>3.441469</td><td>1.000000</td><td>1.000000</td></tr>\n",
       "\t<tr><th scope=row>SLC16A3</th><td>SLC16A3</td><td>-0.5112390</td><td>2.671877e-19</td><td>8.490781e-16</td><td>0.650318</td><td>1.161557</td><td>0.663866</td><td>0.940351</td></tr>\n",
       "</tbody>\n",
       "</table>\n"
      ],
      "text/latex": [
       "A data.frame: 6 × 8\n",
       "\\begin{tabular}{r|llllllll}\n",
       "  & Gene & logFC & P.Value & adj.P.Val & AveExpr\\_cluster & AveExpr\\_rest & percentExpr\\_cluster & percentExpr\\_rest\\\\\n",
       "  & <chr> & <dbl> & <dbl> & <dbl> & <dbl> & <dbl> & <dbl> & <dbl>\\\\\n",
       "\\hline\n",
       "\tCLU & CLU     &  0.8605450 & 3.602928e-29 & 6.869703e-25 & 2.596186 & 1.735641 & 1.000000 & 0.989474\\\\\n",
       "\tCOL3A1 & COL3A1  & -0.5792378 & 5.130887e-27 & 4.891531e-23 & 2.830775 & 3.410013 & 0.974790 & 1.000000\\\\\n",
       "\tSLC40A1 & SLC40A1 &  0.6735332 & 1.014873e-23 & 6.450195e-20 & 1.885815 & 1.212282 & 0.983193 & 0.947368\\\\\n",
       "\tCOL1A2 & COL1A2  & -0.5243485 & 2.045446e-20 & 9.750129e-17 & 1.772438 & 2.296787 & 0.957983 & 1.000000\\\\\n",
       "\tTMSB10 & TMSB10  & -0.3098104 & 2.460015e-19 & 8.490781e-16 & 3.131659 & 3.441469 & 1.000000 & 1.000000\\\\\n",
       "\tSLC16A3 & SLC16A3 & -0.5112390 & 2.671877e-19 & 8.490781e-16 & 0.650318 & 1.161557 & 0.663866 & 0.940351\\\\\n",
       "\\end{tabular}\n"
      ],
      "text/markdown": [
       "\n",
       "A data.frame: 6 × 8\n",
       "\n",
       "| <!--/--> | Gene &lt;chr&gt; | logFC &lt;dbl&gt; | P.Value &lt;dbl&gt; | adj.P.Val &lt;dbl&gt; | AveExpr_cluster &lt;dbl&gt; | AveExpr_rest &lt;dbl&gt; | percentExpr_cluster &lt;dbl&gt; | percentExpr_rest &lt;dbl&gt; |\n",
       "|---|---|---|---|---|---|---|---|---|\n",
       "| CLU | CLU     |  0.8605450 | 3.602928e-29 | 6.869703e-25 | 2.596186 | 1.735641 | 1.000000 | 0.989474 |\n",
       "| COL3A1 | COL3A1  | -0.5792378 | 5.130887e-27 | 4.891531e-23 | 2.830775 | 3.410013 | 0.974790 | 1.000000 |\n",
       "| SLC40A1 | SLC40A1 |  0.6735332 | 1.014873e-23 | 6.450195e-20 | 1.885815 | 1.212282 | 0.983193 | 0.947368 |\n",
       "| COL1A2 | COL1A2  | -0.5243485 | 2.045446e-20 | 9.750129e-17 | 1.772438 | 2.296787 | 0.957983 | 1.000000 |\n",
       "| TMSB10 | TMSB10  | -0.3098104 | 2.460015e-19 | 8.490781e-16 | 3.131659 | 3.441469 | 1.000000 | 1.000000 |\n",
       "| SLC16A3 | SLC16A3 | -0.5112390 | 2.671877e-19 | 8.490781e-16 | 0.650318 | 1.161557 | 0.663866 | 0.940351 |\n",
       "\n"
      ],
      "text/plain": [
       "        Gene    logFC      P.Value      adj.P.Val    AveExpr_cluster\n",
       "CLU     CLU      0.8605450 3.602928e-29 6.869703e-25 2.596186       \n",
       "COL3A1  COL3A1  -0.5792378 5.130887e-27 4.891531e-23 2.830775       \n",
       "SLC40A1 SLC40A1  0.6735332 1.014873e-23 6.450195e-20 1.885815       \n",
       "COL1A2  COL1A2  -0.5243485 2.045446e-20 9.750129e-17 1.772438       \n",
       "TMSB10  TMSB10  -0.3098104 2.460015e-19 8.490781e-16 3.131659       \n",
       "SLC16A3 SLC16A3 -0.5112390 2.671877e-19 8.490781e-16 0.650318       \n",
       "        AveExpr_rest percentExpr_cluster percentExpr_rest\n",
       "CLU     1.735641     1.000000            0.989474        \n",
       "COL3A1  3.410013     0.974790            1.000000        \n",
       "SLC40A1 1.212282     0.983193            0.947368        \n",
       "COL1A2  2.296787     0.957983            1.000000        \n",
       "TMSB10  3.441469     1.000000            1.000000        \n",
       "SLC16A3 1.161557     0.663866            0.940351        "
      ]
     },
     "metadata": {},
     "output_type": "display_data"
    }
   ],
   "source": [
    "f = list.files('data/spatial/DEGs/', full.names = T, pattern = 'DEGs')\n",
    "spatial = lapply(f, read.csv,  stringsAsFactors = F)\n",
    "spatial = lapply(spatial, function(x){\n",
    "    rownames(x) = x$Gene\n",
    "    x\n",
    "})\n",
    "names(spatial) = sapply(strsplit(f, '/epi_'), tail, 1) %>%  gsub('_vs_epi_rest_limma_DEGs_20200423.csv', '', .)\n",
    "names(spatial)\n",
    "head(spatial$basal)"
   ]
  },
  {
   "cell_type": "markdown",
   "metadata": {},
   "source": [
    "## Load all datasets"
   ]
  },
  {
   "cell_type": "code",
   "execution_count": 11,
   "metadata": {},
   "outputs": [
    {
     "data": {
      "text/html": [
       "<style>\n",
       ".list-inline {list-style: none; margin:0; padding: 0}\n",
       ".list-inline>li {display: inline-block}\n",
       ".list-inline>li:not(:last-child)::after {content: \"\\00b7\"; padding: 0 .5ex}\n",
       "</style>\n",
       "<ol class=list-inline><li>'ciliated'</li><li>'glandular'</li><li>'LGR5'</li><li>'LYPD1'</li><li>'proliferative'</li><li>'WIF1_1'</li><li>'WIF1_2'</li></ol>\n"
      ],
      "text/latex": [
       "\\begin{enumerate*}\n",
       "\\item 'ciliated'\n",
       "\\item 'glandular'\n",
       "\\item 'LGR5'\n",
       "\\item 'LYPD1'\n",
       "\\item 'proliferative'\n",
       "\\item 'WIF1\\_1'\n",
       "\\item 'WIF1\\_2'\n",
       "\\end{enumerate*}\n"
      ],
      "text/markdown": [
       "1. 'ciliated'\n",
       "2. 'glandular'\n",
       "3. 'LGR5'\n",
       "4. 'LYPD1'\n",
       "5. 'proliferative'\n",
       "6. 'WIF1_1'\n",
       "7. 'WIF1_2'\n",
       "\n",
       "\n"
      ],
      "text/plain": [
       "[1] \"ciliated\"      \"glandular\"     \"LGR5\"          \"LYPD1\"        \n",
       "[5] \"proliferative\" \"WIF1_1\"        \"WIF1_2\"       "
      ]
     },
     "metadata": {},
     "output_type": "display_data"
    }
   ],
   "source": [
    "f = list.files('data/cellphoneDB/clusterDEGs_and_TFs/DEGs_withinEpithelial/', full.names = T, pattern = 'DEGs.csv')\n",
    "all = lapply(f, read.csv,  stringsAsFactors = F)\n",
    "all = lapply(all, function(x){\n",
    "    rownames(x) = x$Gene\n",
    "    x\n",
    "})\n",
    "names(all) = sapply(strsplit(f, '/epithelial_'), tail, 1)\n",
    "names(all) = gsub('_DEGs.csv', '', names(all))\n",
    "names(all)"
   ]
  },
  {
   "cell_type": "markdown",
   "metadata": {},
   "source": [
    "### All cells"
   ]
  },
  {
   "cell_type": "code",
   "execution_count": 32,
   "metadata": {},
   "outputs": [],
   "source": [
    "create_contingency_table = function(cl, GenSet){\n",
    "  cl_GenSet = intersect(GenSet, cl) %>% length(.)\n",
    "  nocl_GenSet =  setdiff(GenSet, cl) %>% length(.)\n",
    "  outGenSet = setdiff(background, GenSet) \n",
    "  cl_outGenSet = intersect(outGenSet, cl) %>% length(.)\n",
    "  nocl_outGenSet = setdiff(outGenSet, cl) %>% length(.)\n",
    "  m = matrix(c(cl_GenSet, cl_outGenSet,\n",
    "               nocl_GenSet, nocl_outGenSet), \n",
    "             ncol = 2, dimnames = list(c('in_cluster', 'out_cluster'), c('in_GenSet', 'out_GenSet')) )\n",
    "  return(m)  \n",
    "}\n",
    "\n",
    "\n",
    "enrichment = function(cl, GenSet){\n",
    "  funtable = create_contingency_table(cl, GenSet)\n",
    "  out = NULL\n",
    "  if ( funtable[1,1] > 1 ){\n",
    "    ft = fisher.test(funtable)\n",
    "    pvalue = ft$p.value\n",
    "    estimate = ft$estimate\n",
    "    conf.int = ft$conf.int\n",
    "    out = data.frame(pvalue= pvalue, odds.ratio = estimate, min_confint = conf.int[1], max_confint = conf.int[2],  stringsAsFactors = F)\n",
    "  return(out)\n",
    "  }\n",
    "}\n",
    "\n",
    "\n",
    "allSPATIAL = lapply(spatial, function(x) subset(x, adj.P.Val < 0.01 & logFC > 0)$Gene ) %>% unlist(.) %>% unique(.)\n",
    "allscRNA = lapply(all, function(x) subset(x, adj.P.Val < 0.01 & logFC > 0)$Gene ) %>% unlist(.) %>% unique(.)\n",
    "background = allscRNA # intersect(allSPATIAL, allscRNA)"
   ]
  },
  {
   "cell_type": "code",
   "execution_count": 33,
   "metadata": {},
   "outputs": [
    {
     "name": "stderr",
     "output_type": "stream",
     "text": [
      "ciliated\n",
      "\n",
      "glandular\n",
      "\n",
      "LGR5\n",
      "\n",
      "LYPD1\n",
      "\n",
      "proliferative\n",
      "\n",
      "WIF1_1\n",
      "\n",
      "WIF1_2\n",
      "\n"
     ]
    },
    {
     "data": {
      "text/html": [
       "<table>\n",
       "<caption>A data.frame: 21 × 7</caption>\n",
       "<thead>\n",
       "\t<tr><th></th><th scope=col>pvalue</th><th scope=col>odds.ratio</th><th scope=col>min_confint</th><th scope=col>max_confint</th><th scope=col>spatial</th><th scope=col>cl</th><th scope=col>assos</th></tr>\n",
       "\t<tr><th></th><th scope=col>&lt;dbl&gt;</th><th scope=col>&lt;dbl&gt;</th><th scope=col>&lt;dbl&gt;</th><th scope=col>&lt;dbl&gt;</th><th scope=col>&lt;chr&gt;</th><th scope=col>&lt;chr&gt;</th><th scope=col>&lt;chr&gt;</th></tr>\n",
       "</thead>\n",
       "<tbody>\n",
       "\t<tr><th scope=row>5</th><td>1.267154e-156</td><td>11.6989532</td><td>9.8745058</td><td>13.8628506</td><td>glandular</td><td>glandular    </td><td>+   </td></tr>\n",
       "\t<tr><th scope=row>19</th><td> 9.958905e-32</td><td>13.1848779</td><td>8.4504463</td><td>20.8902531</td><td>basal    </td><td>WIF1_2       </td><td>+   </td></tr>\n",
       "\t<tr><th scope=row>9</th><td> 1.129078e-26</td><td> 5.0162097</td><td>3.8071617</td><td> 6.5682576</td><td>luminal  </td><td>LGR5         </td><td>+   </td></tr>\n",
       "\t<tr><th scope=row>16</th><td> 6.204226e-18</td><td> 6.5578134</td><td>4.2543172</td><td>10.1645754</td><td>basal    </td><td>WIF1_1       </td><td>+   </td></tr>\n",
       "\t<tr><th scope=row>2</th><td> 9.006152e-13</td><td> 0.4905507</td><td>0.3949566</td><td> 0.6048777</td><td>glandular</td><td>ciliated     </td><td>-   </td></tr>\n",
       "\t<tr><th scope=row>10</th><td> 6.323497e-11</td><td> 4.4799760</td><td>2.8721256</td><td> 6.9254839</td><td>basal    </td><td>LYPD1        </td><td>+   </td></tr>\n",
       "\t<tr><th scope=row>6</th><td> 1.021605e-10</td><td> 2.9925219</td><td>2.1810393</td><td> 4.0503318</td><td>luminal  </td><td>glandular    </td><td>+   </td></tr>\n",
       "\t<tr><th scope=row>4</th><td> 5.031085e-10</td><td> 4.8628431</td><td>3.0108819</td><td> 7.6854948</td><td>basal    </td><td>glandular    </td><td>+   </td></tr>\n",
       "\t<tr><th scope=row>3</th><td> 4.082144e-07</td><td> 1.9176187</td><td>1.4864190</td><td> 2.4700905</td><td>luminal  </td><td>ciliated     </td><td>+   </td></tr>\n",
       "\t<tr><th scope=row>12</th><td> 4.345847e-06</td><td> 2.0385234</td><td>1.5055608</td><td> 2.7284387</td><td>luminal  </td><td>LYPD1        </td><td>+   </td></tr>\n",
       "\t<tr><th scope=row>14</th><td> 1.183619e-05</td><td> 0.6879094</td><td>0.5784183</td><td> 0.8162141</td><td>glandular</td><td>proliferative</td><td>-   </td></tr>\n",
       "\t<tr><th scope=row>8</th><td> 3.756143e-04</td><td> 1.5656283</td><td>1.2209915</td><td> 1.9867882</td><td>glandular</td><td>LGR5         </td><td>+   </td></tr>\n",
       "\t<tr><th scope=row>7</th><td> 5.244988e-03</td><td> 2.2676262</td><td>1.2525570</td><td> 3.8864652</td><td>basal    </td><td>LGR5         </td><td>+   </td></tr>\n",
       "\t<tr><th scope=row>1</th><td> 1.213959e-02</td><td> 0.5168805</td><td>0.2858579</td><td> 0.8845594</td><td>basal    </td><td>ciliated     </td><td>none</td></tr>\n",
       "\t<tr><th scope=row>21</th><td> 8.485752e-02</td><td> 1.3573556</td><td>0.9451568</td><td> 1.9073523</td><td>luminal  </td><td>WIF1_2       </td><td>none</td></tr>\n",
       "\t<tr><th scope=row>17</th><td> 1.340773e-01</td><td> 0.8353054</td><td>0.6552380</td><td> 1.0541917</td><td>glandular</td><td>WIF1_1       </td><td>none</td></tr>\n",
       "\t<tr><th scope=row>20</th><td> 5.742043e-01</td><td> 1.0731670</td><td>0.8344900</td><td> 1.3649803</td><td>glandular</td><td>WIF1_2       </td><td>none</td></tr>\n",
       "\t<tr><th scope=row>11</th><td> 6.782988e-01</td><td> 1.0452224</td><td>0.8214984</td><td> 1.3169224</td><td>glandular</td><td>LYPD1        </td><td>none</td></tr>\n",
       "\t<tr><th scope=row>18</th><td> 7.340484e-01</td><td> 1.0613670</td><td>0.7477252</td><td> 1.4769260</td><td>luminal  </td><td>WIF1_1       </td><td>none</td></tr>\n",
       "\t<tr><th scope=row>15</th><td> 7.525389e-01</td><td> 0.9553572</td><td>0.7383015</td><td> 1.2327557</td><td>luminal  </td><td>proliferative</td><td>none</td></tr>\n",
       "\t<tr><th scope=row>13</th><td> 8.332121e-01</td><td> 0.9460122</td><td>0.6071346</td><td> 1.4608355</td><td>basal    </td><td>proliferative</td><td>none</td></tr>\n",
       "</tbody>\n",
       "</table>\n"
      ],
      "text/latex": [
       "A data.frame: 21 × 7\n",
       "\\begin{tabular}{r|lllllll}\n",
       "  & pvalue & odds.ratio & min\\_confint & max\\_confint & spatial & cl & assos\\\\\n",
       "  & <dbl> & <dbl> & <dbl> & <dbl> & <chr> & <chr> & <chr>\\\\\n",
       "\\hline\n",
       "\t5 & 1.267154e-156 & 11.6989532 & 9.8745058 & 13.8628506 & glandular & glandular     & +   \\\\\n",
       "\t19 &  9.958905e-32 & 13.1848779 & 8.4504463 & 20.8902531 & basal     & WIF1\\_2        & +   \\\\\n",
       "\t9 &  1.129078e-26 &  5.0162097 & 3.8071617 &  6.5682576 & luminal   & LGR5          & +   \\\\\n",
       "\t16 &  6.204226e-18 &  6.5578134 & 4.2543172 & 10.1645754 & basal     & WIF1\\_1        & +   \\\\\n",
       "\t2 &  9.006152e-13 &  0.4905507 & 0.3949566 &  0.6048777 & glandular & ciliated      & -   \\\\\n",
       "\t10 &  6.323497e-11 &  4.4799760 & 2.8721256 &  6.9254839 & basal     & LYPD1         & +   \\\\\n",
       "\t6 &  1.021605e-10 &  2.9925219 & 2.1810393 &  4.0503318 & luminal   & glandular     & +   \\\\\n",
       "\t4 &  5.031085e-10 &  4.8628431 & 3.0108819 &  7.6854948 & basal     & glandular     & +   \\\\\n",
       "\t3 &  4.082144e-07 &  1.9176187 & 1.4864190 &  2.4700905 & luminal   & ciliated      & +   \\\\\n",
       "\t12 &  4.345847e-06 &  2.0385234 & 1.5055608 &  2.7284387 & luminal   & LYPD1         & +   \\\\\n",
       "\t14 &  1.183619e-05 &  0.6879094 & 0.5784183 &  0.8162141 & glandular & proliferative & -   \\\\\n",
       "\t8 &  3.756143e-04 &  1.5656283 & 1.2209915 &  1.9867882 & glandular & LGR5          & +   \\\\\n",
       "\t7 &  5.244988e-03 &  2.2676262 & 1.2525570 &  3.8864652 & basal     & LGR5          & +   \\\\\n",
       "\t1 &  1.213959e-02 &  0.5168805 & 0.2858579 &  0.8845594 & basal     & ciliated      & none\\\\\n",
       "\t21 &  8.485752e-02 &  1.3573556 & 0.9451568 &  1.9073523 & luminal   & WIF1\\_2        & none\\\\\n",
       "\t17 &  1.340773e-01 &  0.8353054 & 0.6552380 &  1.0541917 & glandular & WIF1\\_1        & none\\\\\n",
       "\t20 &  5.742043e-01 &  1.0731670 & 0.8344900 &  1.3649803 & glandular & WIF1\\_2        & none\\\\\n",
       "\t11 &  6.782988e-01 &  1.0452224 & 0.8214984 &  1.3169224 & glandular & LYPD1         & none\\\\\n",
       "\t18 &  7.340484e-01 &  1.0613670 & 0.7477252 &  1.4769260 & luminal   & WIF1\\_1        & none\\\\\n",
       "\t15 &  7.525389e-01 &  0.9553572 & 0.7383015 &  1.2327557 & luminal   & proliferative & none\\\\\n",
       "\t13 &  8.332121e-01 &  0.9460122 & 0.6071346 &  1.4608355 & basal     & proliferative & none\\\\\n",
       "\\end{tabular}\n"
      ],
      "text/markdown": [
       "\n",
       "A data.frame: 21 × 7\n",
       "\n",
       "| <!--/--> | pvalue &lt;dbl&gt; | odds.ratio &lt;dbl&gt; | min_confint &lt;dbl&gt; | max_confint &lt;dbl&gt; | spatial &lt;chr&gt; | cl &lt;chr&gt; | assos &lt;chr&gt; |\n",
       "|---|---|---|---|---|---|---|---|\n",
       "| 5 | 1.267154e-156 | 11.6989532 | 9.8745058 | 13.8628506 | glandular | glandular     | +    |\n",
       "| 19 |  9.958905e-32 | 13.1848779 | 8.4504463 | 20.8902531 | basal     | WIF1_2        | +    |\n",
       "| 9 |  1.129078e-26 |  5.0162097 | 3.8071617 |  6.5682576 | luminal   | LGR5          | +    |\n",
       "| 16 |  6.204226e-18 |  6.5578134 | 4.2543172 | 10.1645754 | basal     | WIF1_1        | +    |\n",
       "| 2 |  9.006152e-13 |  0.4905507 | 0.3949566 |  0.6048777 | glandular | ciliated      | -    |\n",
       "| 10 |  6.323497e-11 |  4.4799760 | 2.8721256 |  6.9254839 | basal     | LYPD1         | +    |\n",
       "| 6 |  1.021605e-10 |  2.9925219 | 2.1810393 |  4.0503318 | luminal   | glandular     | +    |\n",
       "| 4 |  5.031085e-10 |  4.8628431 | 3.0108819 |  7.6854948 | basal     | glandular     | +    |\n",
       "| 3 |  4.082144e-07 |  1.9176187 | 1.4864190 |  2.4700905 | luminal   | ciliated      | +    |\n",
       "| 12 |  4.345847e-06 |  2.0385234 | 1.5055608 |  2.7284387 | luminal   | LYPD1         | +    |\n",
       "| 14 |  1.183619e-05 |  0.6879094 | 0.5784183 |  0.8162141 | glandular | proliferative | -    |\n",
       "| 8 |  3.756143e-04 |  1.5656283 | 1.2209915 |  1.9867882 | glandular | LGR5          | +    |\n",
       "| 7 |  5.244988e-03 |  2.2676262 | 1.2525570 |  3.8864652 | basal     | LGR5          | +    |\n",
       "| 1 |  1.213959e-02 |  0.5168805 | 0.2858579 |  0.8845594 | basal     | ciliated      | none |\n",
       "| 21 |  8.485752e-02 |  1.3573556 | 0.9451568 |  1.9073523 | luminal   | WIF1_2        | none |\n",
       "| 17 |  1.340773e-01 |  0.8353054 | 0.6552380 |  1.0541917 | glandular | WIF1_1        | none |\n",
       "| 20 |  5.742043e-01 |  1.0731670 | 0.8344900 |  1.3649803 | glandular | WIF1_2        | none |\n",
       "| 11 |  6.782988e-01 |  1.0452224 | 0.8214984 |  1.3169224 | glandular | LYPD1         | none |\n",
       "| 18 |  7.340484e-01 |  1.0613670 | 0.7477252 |  1.4769260 | luminal   | WIF1_1        | none |\n",
       "| 15 |  7.525389e-01 |  0.9553572 | 0.7383015 |  1.2327557 | luminal   | proliferative | none |\n",
       "| 13 |  8.332121e-01 |  0.9460122 | 0.6071346 |  1.4608355 | basal     | proliferative | none |\n",
       "\n"
      ],
      "text/plain": [
       "   pvalue        odds.ratio min_confint max_confint spatial   cl           \n",
       "5  1.267154e-156 11.6989532 9.8745058   13.8628506  glandular glandular    \n",
       "19  9.958905e-32 13.1848779 8.4504463   20.8902531  basal     WIF1_2       \n",
       "9   1.129078e-26  5.0162097 3.8071617    6.5682576  luminal   LGR5         \n",
       "16  6.204226e-18  6.5578134 4.2543172   10.1645754  basal     WIF1_1       \n",
       "2   9.006152e-13  0.4905507 0.3949566    0.6048777  glandular ciliated     \n",
       "10  6.323497e-11  4.4799760 2.8721256    6.9254839  basal     LYPD1        \n",
       "6   1.021605e-10  2.9925219 2.1810393    4.0503318  luminal   glandular    \n",
       "4   5.031085e-10  4.8628431 3.0108819    7.6854948  basal     glandular    \n",
       "3   4.082144e-07  1.9176187 1.4864190    2.4700905  luminal   ciliated     \n",
       "12  4.345847e-06  2.0385234 1.5055608    2.7284387  luminal   LYPD1        \n",
       "14  1.183619e-05  0.6879094 0.5784183    0.8162141  glandular proliferative\n",
       "8   3.756143e-04  1.5656283 1.2209915    1.9867882  glandular LGR5         \n",
       "7   5.244988e-03  2.2676262 1.2525570    3.8864652  basal     LGR5         \n",
       "1   1.213959e-02  0.5168805 0.2858579    0.8845594  basal     ciliated     \n",
       "21  8.485752e-02  1.3573556 0.9451568    1.9073523  luminal   WIF1_2       \n",
       "17  1.340773e-01  0.8353054 0.6552380    1.0541917  glandular WIF1_1       \n",
       "20  5.742043e-01  1.0731670 0.8344900    1.3649803  glandular WIF1_2       \n",
       "11  6.782988e-01  1.0452224 0.8214984    1.3169224  glandular LYPD1        \n",
       "18  7.340484e-01  1.0613670 0.7477252    1.4769260  luminal   WIF1_1       \n",
       "15  7.525389e-01  0.9553572 0.7383015    1.2327557  luminal   proliferative\n",
       "13  8.332121e-01  0.9460122 0.6071346    1.4608355  basal     proliferative\n",
       "   assos\n",
       "5  +    \n",
       "19 +    \n",
       "9  +    \n",
       "16 +    \n",
       "2  -    \n",
       "10 +    \n",
       "6  +    \n",
       "4  +    \n",
       "3  +    \n",
       "12 +    \n",
       "14 -    \n",
       "8  +    \n",
       "7  +    \n",
       "1  none \n",
       "21 none \n",
       "17 none \n",
       "20 none \n",
       "11 none \n",
       "18 none \n",
       "15 none \n",
       "13 none "
      ]
     },
     "metadata": {},
     "output_type": "display_data"
    }
   ],
   "source": [
    "SPATIAL = lapply(spatial, function(x) subset(x, adj.P.Val < 0.01 & logFC > 0)$Gene )\n",
    "names(SPATIAL) = names(spatial)\n",
    "            \n",
    "results = list()\n",
    "for( cl in names(all) ){\n",
    "    message(cl)\n",
    "    cl_df = subset(all[[cl]], adj.P.Val < 0.01 & logFC > 0)\n",
    "    cl_genes = cl_df$Gene\n",
    "    ENRCH = lapply(SPATIAL, enrichment, cl=cl_genes)\n",
    "    fENRCH = ENRCH[ ! sapply(ENRCH, is.null) ] \n",
    "    df_ENRCH = melt(fENRCH, id.vars = colnames(fENRCH[[1]]) )\n",
    "    names(df_ENRCH)[5] = 'spatial'\n",
    "    df_ENRCH$cl = cl\n",
    "    if( nrow(df_ENRCH) > 0 )\n",
    "        results[[cl]] = df_ENRCH\n",
    "}\n",
    "df = melt(results, id.vars = names(results[[1]]))\n",
    "df = df[ order(df$pvalue) , -ncol(df) ]\n",
    "df$assos = 'none'\n",
    "df$assos[ df$odds.ratio > 1 & df$pvalue < 0.01 ] = '+'  \n",
    "df$assos[ df$odds.ratio < 1 & df$pvalue < 0.01 ] = '-'    \n",
    "df\n",
    "write.csv(df, file = 'data/spatial/DEGs/spatial2scRNA_associations.csv', row.names = F, quote = F)"
   ]
  },
  {
   "cell_type": "code",
   "execution_count": null,
   "metadata": {},
   "outputs": [],
   "source": []
  }
 ],
 "metadata": {
  "kernelspec": {
   "display_name": "R",
   "language": "R",
   "name": "ir"
  },
  "language_info": {
   "codemirror_mode": "r",
   "file_extension": ".r",
   "mimetype": "text/x-r-source",
   "name": "R",
   "pygments_lexer": "r",
   "version": "4.0.0"
  }
 },
 "nbformat": 4,
 "nbformat_minor": 4
}

{
 "cells": [
  {
   "cell_type": "markdown",
   "metadata": {},
   "source": [
    "#  Plot TFs"
   ]
  },
  {
   "cell_type": "code",
   "execution_count": 54,
   "metadata": {},
   "outputs": [],
   "source": [
    "library(dplyr)\n",
    "library(reshape2)\n",
    "library(plyr)\n",
    "library(RColorBrewer)\n",
    "library(ggplot2)\n",
    "library(pheatmap)\n",
    "library(cowplot)"
   ]
  },
  {
   "cell_type": "markdown",
   "metadata": {},
   "source": [
    "## Load TF activities/enrichemnt file"
   ]
  },
  {
   "cell_type": "code",
   "execution_count": 55,
   "metadata": {},
   "outputs": [
    {
     "data": {
      "text/html": [
       "<table>\n",
       "<caption>A data.frame: 6 × 7</caption>\n",
       "<thead>\n",
       "\t<tr><th></th><th scope=col>cl_name</th><th scope=col>Regulon</th><th scope=col>NES</th><th scope=col>p.value</th><th scope=col>FDR</th><th scope=col>Size</th><th scope=col>id</th></tr>\n",
       "\t<tr><th></th><th scope=col>&lt;chr&gt;</th><th scope=col>&lt;chr&gt;</th><th scope=col>&lt;dbl&gt;</th><th scope=col>&lt;dbl&gt;</th><th scope=col>&lt;dbl&gt;</th><th scope=col>&lt;int&gt;</th><th scope=col>&lt;chr&gt;</th></tr>\n",
       "</thead>\n",
       "<tbody>\n",
       "\t<tr><th scope=row>3</th><td>cl_epi_glandular_vs_epi_rest_limma_DEGs_20200423</td><td>SP6_E  </td><td>6.977937</td><td>2.995461e-12</td><td>2.878971e-11</td><td>139</td><td>cl_epi_glandular_vs_epi_rest_limma_DEGs_20200423 SP6_E  </td></tr>\n",
       "\t<tr><th scope=row>5</th><td>cl_epi_basal_vs_epi_rest_limma_DEGs_20200423    </td><td>SMAD7_B</td><td>6.608119</td><td>3.892325e-11</td><td>5.281350e-10</td><td> 14</td><td>cl_epi_basal_vs_epi_rest_limma_DEGs_20200423 SMAD7_B    </td></tr>\n",
       "\t<tr><th scope=row>6</th><td>cl_epi_glandular_vs_epi_rest_limma_DEGs_20200423</td><td>KDM5A_D</td><td>6.224759</td><td>4.822969e-10</td><td>3.667577e-09</td><td>185</td><td>cl_epi_glandular_vs_epi_rest_limma_DEGs_20200423 KDM5A_D</td></tr>\n",
       "\t<tr><th scope=row>8</th><td>cl_epi_glandular_vs_epi_rest_limma_DEGs_20200423</td><td>IKZF2_E</td><td>5.859704</td><td>4.636940e-09</td><td>3.161342e-08</td><td>190</td><td>cl_epi_glandular_vs_epi_rest_limma_DEGs_20200423 IKZF2_E</td></tr>\n",
       "\t<tr><th scope=row>10</th><td>cl_epi_glandular_vs_epi_rest_limma_DEGs_20200423</td><td>THAP1_C</td><td>5.828670</td><td>5.587086e-09</td><td>3.753654e-08</td><td> 53</td><td>cl_epi_glandular_vs_epi_rest_limma_DEGs_20200423 THAP1_C</td></tr>\n",
       "\t<tr><th scope=row>11</th><td>cl_epi_glandular_vs_epi_rest_limma_DEGs_20200423</td><td>ELF1_C </td><td>5.782228</td><td>7.371767e-09</td><td>4.905060e-08</td><td> 56</td><td>cl_epi_glandular_vs_epi_rest_limma_DEGs_20200423 ELF1_C </td></tr>\n",
       "</tbody>\n",
       "</table>\n"
      ],
      "text/latex": [
       "A data.frame: 6 × 7\n",
       "\\begin{tabular}{r|lllllll}\n",
       "  & cl\\_name & Regulon & NES & p.value & FDR & Size & id\\\\\n",
       "  & <chr> & <chr> & <dbl> & <dbl> & <dbl> & <int> & <chr>\\\\\n",
       "\\hline\n",
       "\t3 & cl\\_epi\\_glandular\\_vs\\_epi\\_rest\\_limma\\_DEGs\\_20200423 & SP6\\_E   & 6.977937 & 2.995461e-12 & 2.878971e-11 & 139 & cl\\_epi\\_glandular\\_vs\\_epi\\_rest\\_limma\\_DEGs\\_20200423 SP6\\_E  \\\\\n",
       "\t5 & cl\\_epi\\_basal\\_vs\\_epi\\_rest\\_limma\\_DEGs\\_20200423     & SMAD7\\_B & 6.608119 & 3.892325e-11 & 5.281350e-10 &  14 & cl\\_epi\\_basal\\_vs\\_epi\\_rest\\_limma\\_DEGs\\_20200423 SMAD7\\_B    \\\\\n",
       "\t6 & cl\\_epi\\_glandular\\_vs\\_epi\\_rest\\_limma\\_DEGs\\_20200423 & KDM5A\\_D & 6.224759 & 4.822969e-10 & 3.667577e-09 & 185 & cl\\_epi\\_glandular\\_vs\\_epi\\_rest\\_limma\\_DEGs\\_20200423 KDM5A\\_D\\\\\n",
       "\t8 & cl\\_epi\\_glandular\\_vs\\_epi\\_rest\\_limma\\_DEGs\\_20200423 & IKZF2\\_E & 5.859704 & 4.636940e-09 & 3.161342e-08 & 190 & cl\\_epi\\_glandular\\_vs\\_epi\\_rest\\_limma\\_DEGs\\_20200423 IKZF2\\_E\\\\\n",
       "\t10 & cl\\_epi\\_glandular\\_vs\\_epi\\_rest\\_limma\\_DEGs\\_20200423 & THAP1\\_C & 5.828670 & 5.587086e-09 & 3.753654e-08 &  53 & cl\\_epi\\_glandular\\_vs\\_epi\\_rest\\_limma\\_DEGs\\_20200423 THAP1\\_C\\\\\n",
       "\t11 & cl\\_epi\\_glandular\\_vs\\_epi\\_rest\\_limma\\_DEGs\\_20200423 & ELF1\\_C  & 5.782228 & 7.371767e-09 & 4.905060e-08 &  56 & cl\\_epi\\_glandular\\_vs\\_epi\\_rest\\_limma\\_DEGs\\_20200423 ELF1\\_C \\\\\n",
       "\\end{tabular}\n"
      ],
      "text/markdown": [
       "\n",
       "A data.frame: 6 × 7\n",
       "\n",
       "| <!--/--> | cl_name &lt;chr&gt; | Regulon &lt;chr&gt; | NES &lt;dbl&gt; | p.value &lt;dbl&gt; | FDR &lt;dbl&gt; | Size &lt;int&gt; | id &lt;chr&gt; |\n",
       "|---|---|---|---|---|---|---|---|\n",
       "| 3 | cl_epi_glandular_vs_epi_rest_limma_DEGs_20200423 | SP6_E   | 6.977937 | 2.995461e-12 | 2.878971e-11 | 139 | cl_epi_glandular_vs_epi_rest_limma_DEGs_20200423 SP6_E   |\n",
       "| 5 | cl_epi_basal_vs_epi_rest_limma_DEGs_20200423     | SMAD7_B | 6.608119 | 3.892325e-11 | 5.281350e-10 |  14 | cl_epi_basal_vs_epi_rest_limma_DEGs_20200423 SMAD7_B     |\n",
       "| 6 | cl_epi_glandular_vs_epi_rest_limma_DEGs_20200423 | KDM5A_D | 6.224759 | 4.822969e-10 | 3.667577e-09 | 185 | cl_epi_glandular_vs_epi_rest_limma_DEGs_20200423 KDM5A_D |\n",
       "| 8 | cl_epi_glandular_vs_epi_rest_limma_DEGs_20200423 | IKZF2_E | 5.859704 | 4.636940e-09 | 3.161342e-08 | 190 | cl_epi_glandular_vs_epi_rest_limma_DEGs_20200423 IKZF2_E |\n",
       "| 10 | cl_epi_glandular_vs_epi_rest_limma_DEGs_20200423 | THAP1_C | 5.828670 | 5.587086e-09 | 3.753654e-08 |  53 | cl_epi_glandular_vs_epi_rest_limma_DEGs_20200423 THAP1_C |\n",
       "| 11 | cl_epi_glandular_vs_epi_rest_limma_DEGs_20200423 | ELF1_C  | 5.782228 | 7.371767e-09 | 4.905060e-08 |  56 | cl_epi_glandular_vs_epi_rest_limma_DEGs_20200423 ELF1_C  |\n",
       "\n"
      ],
      "text/plain": [
       "   cl_name                                          Regulon NES     \n",
       "3  cl_epi_glandular_vs_epi_rest_limma_DEGs_20200423 SP6_E   6.977937\n",
       "5  cl_epi_basal_vs_epi_rest_limma_DEGs_20200423     SMAD7_B 6.608119\n",
       "6  cl_epi_glandular_vs_epi_rest_limma_DEGs_20200423 KDM5A_D 6.224759\n",
       "8  cl_epi_glandular_vs_epi_rest_limma_DEGs_20200423 IKZF2_E 5.859704\n",
       "10 cl_epi_glandular_vs_epi_rest_limma_DEGs_20200423 THAP1_C 5.828670\n",
       "11 cl_epi_glandular_vs_epi_rest_limma_DEGs_20200423 ELF1_C  5.782228\n",
       "   p.value      FDR          Size\n",
       "3  2.995461e-12 2.878971e-11 139 \n",
       "5  3.892325e-11 5.281350e-10  14 \n",
       "6  4.822969e-10 3.667577e-09 185 \n",
       "8  4.636940e-09 3.161342e-08 190 \n",
       "10 5.587086e-09 3.753654e-08  53 \n",
       "11 7.371767e-09 4.905060e-08  56 \n",
       "   id                                                      \n",
       "3  cl_epi_glandular_vs_epi_rest_limma_DEGs_20200423 SP6_E  \n",
       "5  cl_epi_basal_vs_epi_rest_limma_DEGs_20200423 SMAD7_B    \n",
       "6  cl_epi_glandular_vs_epi_rest_limma_DEGs_20200423 KDM5A_D\n",
       "8  cl_epi_glandular_vs_epi_rest_limma_DEGs_20200423 IKZF2_E\n",
       "10 cl_epi_glandular_vs_epi_rest_limma_DEGs_20200423 THAP1_C\n",
       "11 cl_epi_glandular_vs_epi_rest_limma_DEGs_20200423 ELF1_C "
      ]
     },
     "metadata": {},
     "output_type": "display_data"
    }
   ],
   "source": [
    "TF_activities = read.csv('data/spatial/DEGs/TFs_activities.csv', stringsAsFactors = F)\n",
    "\n",
    "\n",
    "TF_activities = TF_activities[order(TF_activities$NES, decreasing = T), ]\n",
    "TF_activities$id = paste(TF_activities$cl_name, TF_activities$Regulon)\n",
    "head(TF_activities)"
   ]
  },
  {
   "cell_type": "markdown",
   "metadata": {},
   "source": [
    "Intersect with any TF relevant in epithelial from the scRNA"
   ]
  },
  {
   "cell_type": "code",
   "execution_count": 56,
   "metadata": {},
   "outputs": [],
   "source": [
    "# TF_activities_scRNA = read.csv('data/cellphoneDB/clusterDEGs_and_TFs/DEGs_withinEpithelial/TFs_activities.csv', stringsAsFactors = F)\n",
    "# TF_activities = subset(TF_activities, Regulon %in% subset(TF_activities_scRNA, FDR < 0.05 & NES > 2)$Regulon )"
   ]
  },
  {
   "cell_type": "markdown",
   "metadata": {},
   "source": [
    "## Load TF agreement file to retrieve DE sign"
   ]
  },
  {
   "cell_type": "code",
   "execution_count": 57,
   "metadata": {},
   "outputs": [
    {
     "data": {
      "text/html": [
       "<table>\n",
       "<caption>A data.frame: 6 × 10</caption>\n",
       "<thead>\n",
       "\t<tr><th></th><th scope=col>cl</th><th scope=col>TF</th><th scope=col>TF_expression</th><th scope=col>TF_expression_pvals_adj</th><th scope=col>TF_activity</th><th scope=col>TF_activity_pvals_adj</th><th scope=col>TF_activity_score</th><th scope=col>L1</th><th scope=col>id</th><th scope=col>annot</th></tr>\n",
       "\t<tr><th></th><th scope=col>&lt;chr&gt;</th><th scope=col>&lt;chr&gt;</th><th scope=col>&lt;chr&gt;</th><th scope=col>&lt;dbl&gt;</th><th scope=col>&lt;chr&gt;</th><th scope=col>&lt;dbl&gt;</th><th scope=col>&lt;chr&gt;</th><th scope=col>&lt;chr&gt;</th><th scope=col>&lt;chr&gt;</th><th scope=col>&lt;chr&gt;</th></tr>\n",
       "</thead>\n",
       "<tbody>\n",
       "\t<tr><th scope=row>1</th><td>cl_epi_basal_vs_epi_rest_limma_DEGs_20200423    </td><td>KLF5  </td><td>downregulated</td><td>1.30e-07</td><td>inactive_regulon</td><td>2.90e-04</td><td>KLF5_B  </td><td>cl_epi_basal_vs_epi_rest_limma_DEGs_20200423    </td><td>cl_epi_basal_vs_epi_rest_limma_DEGs_20200423 KLF5_B      </td><td>-</td></tr>\n",
       "\t<tr><th scope=row>2</th><td>cl_epi_basal_vs_epi_rest_limma_DEGs_20200423    </td><td>EPAS1 </td><td>upregulated  </td><td>1.91e-02</td><td>inactive_regulon</td><td>5.04e-07</td><td>EPAS1_B </td><td>cl_epi_basal_vs_epi_rest_limma_DEGs_20200423    </td><td>cl_epi_basal_vs_epi_rest_limma_DEGs_20200423 EPAS1_B     </td><td>+</td></tr>\n",
       "\t<tr><th scope=row>3</th><td>cl_epi_basal_vs_epi_rest_limma_DEGs_20200423    </td><td>SNAPC4</td><td>downregulated</td><td>4.41e-02</td><td>inactive_regulon</td><td>5.99e-03</td><td>SNAPC4_C</td><td>cl_epi_basal_vs_epi_rest_limma_DEGs_20200423    </td><td>cl_epi_basal_vs_epi_rest_limma_DEGs_20200423 SNAPC4_C    </td><td>-</td></tr>\n",
       "\t<tr><th scope=row>4</th><td>cl_epi_glandular_vs_epi_rest_limma_DEGs_20200423</td><td>KLF6  </td><td>upregulated  </td><td>6.07e-20</td><td>active_regulon  </td><td>2.63e-02</td><td>KLF6_B  </td><td>cl_epi_glandular_vs_epi_rest_limma_DEGs_20200423</td><td>cl_epi_glandular_vs_epi_rest_limma_DEGs_20200423 KLF6_B  </td><td>+</td></tr>\n",
       "\t<tr><th scope=row>5</th><td>cl_epi_glandular_vs_epi_rest_limma_DEGs_20200423</td><td>ID1   </td><td>upregulated  </td><td>7.36e-10</td><td>inactive_regulon</td><td>3.32e-03</td><td>ID1_E   </td><td>cl_epi_glandular_vs_epi_rest_limma_DEGs_20200423</td><td>cl_epi_glandular_vs_epi_rest_limma_DEGs_20200423 ID1_E   </td><td>+</td></tr>\n",
       "\t<tr><th scope=row>6</th><td>cl_epi_glandular_vs_epi_rest_limma_DEGs_20200423</td><td>POU5F1</td><td>upregulated  </td><td>7.94e-08</td><td>inactive_regulon</td><td>6.31e-03</td><td>POU5F1_A</td><td>cl_epi_glandular_vs_epi_rest_limma_DEGs_20200423</td><td>cl_epi_glandular_vs_epi_rest_limma_DEGs_20200423 POU5F1_A</td><td>+</td></tr>\n",
       "</tbody>\n",
       "</table>\n"
      ],
      "text/latex": [
       "A data.frame: 6 × 10\n",
       "\\begin{tabular}{r|llllllllll}\n",
       "  & cl & TF & TF\\_expression & TF\\_expression\\_pvals\\_adj & TF\\_activity & TF\\_activity\\_pvals\\_adj & TF\\_activity\\_score & L1 & id & annot\\\\\n",
       "  & <chr> & <chr> & <chr> & <dbl> & <chr> & <dbl> & <chr> & <chr> & <chr> & <chr>\\\\\n",
       "\\hline\n",
       "\t1 & cl\\_epi\\_basal\\_vs\\_epi\\_rest\\_limma\\_DEGs\\_20200423     & KLF5   & downregulated & 1.30e-07 & inactive\\_regulon & 2.90e-04 & KLF5\\_B   & cl\\_epi\\_basal\\_vs\\_epi\\_rest\\_limma\\_DEGs\\_20200423     & cl\\_epi\\_basal\\_vs\\_epi\\_rest\\_limma\\_DEGs\\_20200423 KLF5\\_B       & -\\\\\n",
       "\t2 & cl\\_epi\\_basal\\_vs\\_epi\\_rest\\_limma\\_DEGs\\_20200423     & EPAS1  & upregulated   & 1.91e-02 & inactive\\_regulon & 5.04e-07 & EPAS1\\_B  & cl\\_epi\\_basal\\_vs\\_epi\\_rest\\_limma\\_DEGs\\_20200423     & cl\\_epi\\_basal\\_vs\\_epi\\_rest\\_limma\\_DEGs\\_20200423 EPAS1\\_B      & +\\\\\n",
       "\t3 & cl\\_epi\\_basal\\_vs\\_epi\\_rest\\_limma\\_DEGs\\_20200423     & SNAPC4 & downregulated & 4.41e-02 & inactive\\_regulon & 5.99e-03 & SNAPC4\\_C & cl\\_epi\\_basal\\_vs\\_epi\\_rest\\_limma\\_DEGs\\_20200423     & cl\\_epi\\_basal\\_vs\\_epi\\_rest\\_limma\\_DEGs\\_20200423 SNAPC4\\_C     & -\\\\\n",
       "\t4 & cl\\_epi\\_glandular\\_vs\\_epi\\_rest\\_limma\\_DEGs\\_20200423 & KLF6   & upregulated   & 6.07e-20 & active\\_regulon   & 2.63e-02 & KLF6\\_B   & cl\\_epi\\_glandular\\_vs\\_epi\\_rest\\_limma\\_DEGs\\_20200423 & cl\\_epi\\_glandular\\_vs\\_epi\\_rest\\_limma\\_DEGs\\_20200423 KLF6\\_B   & +\\\\\n",
       "\t5 & cl\\_epi\\_glandular\\_vs\\_epi\\_rest\\_limma\\_DEGs\\_20200423 & ID1    & upregulated   & 7.36e-10 & inactive\\_regulon & 3.32e-03 & ID1\\_E    & cl\\_epi\\_glandular\\_vs\\_epi\\_rest\\_limma\\_DEGs\\_20200423 & cl\\_epi\\_glandular\\_vs\\_epi\\_rest\\_limma\\_DEGs\\_20200423 ID1\\_E    & +\\\\\n",
       "\t6 & cl\\_epi\\_glandular\\_vs\\_epi\\_rest\\_limma\\_DEGs\\_20200423 & POU5F1 & upregulated   & 7.94e-08 & inactive\\_regulon & 6.31e-03 & POU5F1\\_A & cl\\_epi\\_glandular\\_vs\\_epi\\_rest\\_limma\\_DEGs\\_20200423 & cl\\_epi\\_glandular\\_vs\\_epi\\_rest\\_limma\\_DEGs\\_20200423 POU5F1\\_A & +\\\\\n",
       "\\end{tabular}\n"
      ],
      "text/markdown": [
       "\n",
       "A data.frame: 6 × 10\n",
       "\n",
       "| <!--/--> | cl &lt;chr&gt; | TF &lt;chr&gt; | TF_expression &lt;chr&gt; | TF_expression_pvals_adj &lt;dbl&gt; | TF_activity &lt;chr&gt; | TF_activity_pvals_adj &lt;dbl&gt; | TF_activity_score &lt;chr&gt; | L1 &lt;chr&gt; | id &lt;chr&gt; | annot &lt;chr&gt; |\n",
       "|---|---|---|---|---|---|---|---|---|---|---|\n",
       "| 1 | cl_epi_basal_vs_epi_rest_limma_DEGs_20200423     | KLF5   | downregulated | 1.30e-07 | inactive_regulon | 2.90e-04 | KLF5_B   | cl_epi_basal_vs_epi_rest_limma_DEGs_20200423     | cl_epi_basal_vs_epi_rest_limma_DEGs_20200423 KLF5_B       | - |\n",
       "| 2 | cl_epi_basal_vs_epi_rest_limma_DEGs_20200423     | EPAS1  | upregulated   | 1.91e-02 | inactive_regulon | 5.04e-07 | EPAS1_B  | cl_epi_basal_vs_epi_rest_limma_DEGs_20200423     | cl_epi_basal_vs_epi_rest_limma_DEGs_20200423 EPAS1_B      | + |\n",
       "| 3 | cl_epi_basal_vs_epi_rest_limma_DEGs_20200423     | SNAPC4 | downregulated | 4.41e-02 | inactive_regulon | 5.99e-03 | SNAPC4_C | cl_epi_basal_vs_epi_rest_limma_DEGs_20200423     | cl_epi_basal_vs_epi_rest_limma_DEGs_20200423 SNAPC4_C     | - |\n",
       "| 4 | cl_epi_glandular_vs_epi_rest_limma_DEGs_20200423 | KLF6   | upregulated   | 6.07e-20 | active_regulon   | 2.63e-02 | KLF6_B   | cl_epi_glandular_vs_epi_rest_limma_DEGs_20200423 | cl_epi_glandular_vs_epi_rest_limma_DEGs_20200423 KLF6_B   | + |\n",
       "| 5 | cl_epi_glandular_vs_epi_rest_limma_DEGs_20200423 | ID1    | upregulated   | 7.36e-10 | inactive_regulon | 3.32e-03 | ID1_E    | cl_epi_glandular_vs_epi_rest_limma_DEGs_20200423 | cl_epi_glandular_vs_epi_rest_limma_DEGs_20200423 ID1_E    | + |\n",
       "| 6 | cl_epi_glandular_vs_epi_rest_limma_DEGs_20200423 | POU5F1 | upregulated   | 7.94e-08 | inactive_regulon | 6.31e-03 | POU5F1_A | cl_epi_glandular_vs_epi_rest_limma_DEGs_20200423 | cl_epi_glandular_vs_epi_rest_limma_DEGs_20200423 POU5F1_A | + |\n",
       "\n"
      ],
      "text/plain": [
       "  cl                                               TF     TF_expression\n",
       "1 cl_epi_basal_vs_epi_rest_limma_DEGs_20200423     KLF5   downregulated\n",
       "2 cl_epi_basal_vs_epi_rest_limma_DEGs_20200423     EPAS1  upregulated  \n",
       "3 cl_epi_basal_vs_epi_rest_limma_DEGs_20200423     SNAPC4 downregulated\n",
       "4 cl_epi_glandular_vs_epi_rest_limma_DEGs_20200423 KLF6   upregulated  \n",
       "5 cl_epi_glandular_vs_epi_rest_limma_DEGs_20200423 ID1    upregulated  \n",
       "6 cl_epi_glandular_vs_epi_rest_limma_DEGs_20200423 POU5F1 upregulated  \n",
       "  TF_expression_pvals_adj TF_activity      TF_activity_pvals_adj\n",
       "1 1.30e-07                inactive_regulon 2.90e-04             \n",
       "2 1.91e-02                inactive_regulon 5.04e-07             \n",
       "3 4.41e-02                inactive_regulon 5.99e-03             \n",
       "4 6.07e-20                active_regulon   2.63e-02             \n",
       "5 7.36e-10                inactive_regulon 3.32e-03             \n",
       "6 7.94e-08                inactive_regulon 6.31e-03             \n",
       "  TF_activity_score L1                                              \n",
       "1 KLF5_B            cl_epi_basal_vs_epi_rest_limma_DEGs_20200423    \n",
       "2 EPAS1_B           cl_epi_basal_vs_epi_rest_limma_DEGs_20200423    \n",
       "3 SNAPC4_C          cl_epi_basal_vs_epi_rest_limma_DEGs_20200423    \n",
       "4 KLF6_B            cl_epi_glandular_vs_epi_rest_limma_DEGs_20200423\n",
       "5 ID1_E             cl_epi_glandular_vs_epi_rest_limma_DEGs_20200423\n",
       "6 POU5F1_A          cl_epi_glandular_vs_epi_rest_limma_DEGs_20200423\n",
       "  id                                                        annot\n",
       "1 cl_epi_basal_vs_epi_rest_limma_DEGs_20200423 KLF5_B       -    \n",
       "2 cl_epi_basal_vs_epi_rest_limma_DEGs_20200423 EPAS1_B      +    \n",
       "3 cl_epi_basal_vs_epi_rest_limma_DEGs_20200423 SNAPC4_C     -    \n",
       "4 cl_epi_glandular_vs_epi_rest_limma_DEGs_20200423 KLF6_B   +    \n",
       "5 cl_epi_glandular_vs_epi_rest_limma_DEGs_20200423 ID1_E    +    \n",
       "6 cl_epi_glandular_vs_epi_rest_limma_DEGs_20200423 POU5F1_A +    "
      ]
     },
     "metadata": {},
     "output_type": "display_data"
    }
   ],
   "source": [
    "TF_activities_agreement = read.csv('data/spatial/DEGs/TFactivities_and_expression_agreement.csv', stringsAsFactors = F, sep = '\\t')\n",
    "TF_activities_agreement$id = paste(TF_activities_agreement$cl, TF_activities_agreement$TF_activity_score)\n",
    "TF_activities_agreement$annot = '+'\n",
    "TF_activities_agreement$annot[ TF_activities_agreement$TF_expression == 'downregulated' ] = '-'\n",
    "head(TF_activities_agreement)"
   ]
  },
  {
   "cell_type": "markdown",
   "metadata": {},
   "source": [
    "## Transfer labels"
   ]
  },
  {
   "cell_type": "code",
   "execution_count": 58,
   "metadata": {},
   "outputs": [
    {
     "data": {
      "text/html": [
       "<table>\n",
       "<caption>A data.frame: 6 × 8</caption>\n",
       "<thead>\n",
       "\t<tr><th></th><th scope=col>cl_name</th><th scope=col>Regulon</th><th scope=col>NES</th><th scope=col>p.value</th><th scope=col>FDR</th><th scope=col>Size</th><th scope=col>id</th><th scope=col>label</th></tr>\n",
       "\t<tr><th></th><th scope=col>&lt;chr&gt;</th><th scope=col>&lt;chr&gt;</th><th scope=col>&lt;dbl&gt;</th><th scope=col>&lt;dbl&gt;</th><th scope=col>&lt;dbl&gt;</th><th scope=col>&lt;int&gt;</th><th scope=col>&lt;chr&gt;</th><th scope=col>&lt;chr&gt;</th></tr>\n",
       "</thead>\n",
       "<tbody>\n",
       "\t<tr><th scope=row>3</th><td>cl_epi_glandular_vs_epi_rest_limma_DEGs_20200423</td><td>SP6_E  </td><td>6.977937</td><td>2.995461e-12</td><td>2.878971e-11</td><td>139</td><td>cl_epi_glandular_vs_epi_rest_limma_DEGs_20200423 SP6_E  </td><td></td></tr>\n",
       "\t<tr><th scope=row>5</th><td>cl_epi_basal_vs_epi_rest_limma_DEGs_20200423    </td><td>SMAD7_B</td><td>6.608119</td><td>3.892325e-11</td><td>5.281350e-10</td><td> 14</td><td>cl_epi_basal_vs_epi_rest_limma_DEGs_20200423 SMAD7_B    </td><td></td></tr>\n",
       "\t<tr><th scope=row>6</th><td>cl_epi_glandular_vs_epi_rest_limma_DEGs_20200423</td><td>KDM5A_D</td><td>6.224759</td><td>4.822969e-10</td><td>3.667577e-09</td><td>185</td><td>cl_epi_glandular_vs_epi_rest_limma_DEGs_20200423 KDM5A_D</td><td></td></tr>\n",
       "\t<tr><th scope=row>8</th><td>cl_epi_glandular_vs_epi_rest_limma_DEGs_20200423</td><td>IKZF2_E</td><td>5.859704</td><td>4.636940e-09</td><td>3.161342e-08</td><td>190</td><td>cl_epi_glandular_vs_epi_rest_limma_DEGs_20200423 IKZF2_E</td><td></td></tr>\n",
       "\t<tr><th scope=row>10</th><td>cl_epi_glandular_vs_epi_rest_limma_DEGs_20200423</td><td>THAP1_C</td><td>5.828670</td><td>5.587086e-09</td><td>3.753654e-08</td><td> 53</td><td>cl_epi_glandular_vs_epi_rest_limma_DEGs_20200423 THAP1_C</td><td></td></tr>\n",
       "\t<tr><th scope=row>11</th><td>cl_epi_glandular_vs_epi_rest_limma_DEGs_20200423</td><td>ELF1_C </td><td>5.782228</td><td>7.371767e-09</td><td>4.905060e-08</td><td> 56</td><td>cl_epi_glandular_vs_epi_rest_limma_DEGs_20200423 ELF1_C </td><td></td></tr>\n",
       "</tbody>\n",
       "</table>\n"
      ],
      "text/latex": [
       "A data.frame: 6 × 8\n",
       "\\begin{tabular}{r|llllllll}\n",
       "  & cl\\_name & Regulon & NES & p.value & FDR & Size & id & label\\\\\n",
       "  & <chr> & <chr> & <dbl> & <dbl> & <dbl> & <int> & <chr> & <chr>\\\\\n",
       "\\hline\n",
       "\t3 & cl\\_epi\\_glandular\\_vs\\_epi\\_rest\\_limma\\_DEGs\\_20200423 & SP6\\_E   & 6.977937 & 2.995461e-12 & 2.878971e-11 & 139 & cl\\_epi\\_glandular\\_vs\\_epi\\_rest\\_limma\\_DEGs\\_20200423 SP6\\_E   & \\\\\n",
       "\t5 & cl\\_epi\\_basal\\_vs\\_epi\\_rest\\_limma\\_DEGs\\_20200423     & SMAD7\\_B & 6.608119 & 3.892325e-11 & 5.281350e-10 &  14 & cl\\_epi\\_basal\\_vs\\_epi\\_rest\\_limma\\_DEGs\\_20200423 SMAD7\\_B     & \\\\\n",
       "\t6 & cl\\_epi\\_glandular\\_vs\\_epi\\_rest\\_limma\\_DEGs\\_20200423 & KDM5A\\_D & 6.224759 & 4.822969e-10 & 3.667577e-09 & 185 & cl\\_epi\\_glandular\\_vs\\_epi\\_rest\\_limma\\_DEGs\\_20200423 KDM5A\\_D & \\\\\n",
       "\t8 & cl\\_epi\\_glandular\\_vs\\_epi\\_rest\\_limma\\_DEGs\\_20200423 & IKZF2\\_E & 5.859704 & 4.636940e-09 & 3.161342e-08 & 190 & cl\\_epi\\_glandular\\_vs\\_epi\\_rest\\_limma\\_DEGs\\_20200423 IKZF2\\_E & \\\\\n",
       "\t10 & cl\\_epi\\_glandular\\_vs\\_epi\\_rest\\_limma\\_DEGs\\_20200423 & THAP1\\_C & 5.828670 & 5.587086e-09 & 3.753654e-08 &  53 & cl\\_epi\\_glandular\\_vs\\_epi\\_rest\\_limma\\_DEGs\\_20200423 THAP1\\_C & \\\\\n",
       "\t11 & cl\\_epi\\_glandular\\_vs\\_epi\\_rest\\_limma\\_DEGs\\_20200423 & ELF1\\_C  & 5.782228 & 7.371767e-09 & 4.905060e-08 &  56 & cl\\_epi\\_glandular\\_vs\\_epi\\_rest\\_limma\\_DEGs\\_20200423 ELF1\\_C  & \\\\\n",
       "\\end{tabular}\n"
      ],
      "text/markdown": [
       "\n",
       "A data.frame: 6 × 8\n",
       "\n",
       "| <!--/--> | cl_name &lt;chr&gt; | Regulon &lt;chr&gt; | NES &lt;dbl&gt; | p.value &lt;dbl&gt; | FDR &lt;dbl&gt; | Size &lt;int&gt; | id &lt;chr&gt; | label &lt;chr&gt; |\n",
       "|---|---|---|---|---|---|---|---|---|\n",
       "| 3 | cl_epi_glandular_vs_epi_rest_limma_DEGs_20200423 | SP6_E   | 6.977937 | 2.995461e-12 | 2.878971e-11 | 139 | cl_epi_glandular_vs_epi_rest_limma_DEGs_20200423 SP6_E   | <!----> |\n",
       "| 5 | cl_epi_basal_vs_epi_rest_limma_DEGs_20200423     | SMAD7_B | 6.608119 | 3.892325e-11 | 5.281350e-10 |  14 | cl_epi_basal_vs_epi_rest_limma_DEGs_20200423 SMAD7_B     | <!----> |\n",
       "| 6 | cl_epi_glandular_vs_epi_rest_limma_DEGs_20200423 | KDM5A_D | 6.224759 | 4.822969e-10 | 3.667577e-09 | 185 | cl_epi_glandular_vs_epi_rest_limma_DEGs_20200423 KDM5A_D | <!----> |\n",
       "| 8 | cl_epi_glandular_vs_epi_rest_limma_DEGs_20200423 | IKZF2_E | 5.859704 | 4.636940e-09 | 3.161342e-08 | 190 | cl_epi_glandular_vs_epi_rest_limma_DEGs_20200423 IKZF2_E | <!----> |\n",
       "| 10 | cl_epi_glandular_vs_epi_rest_limma_DEGs_20200423 | THAP1_C | 5.828670 | 5.587086e-09 | 3.753654e-08 |  53 | cl_epi_glandular_vs_epi_rest_limma_DEGs_20200423 THAP1_C | <!----> |\n",
       "| 11 | cl_epi_glandular_vs_epi_rest_limma_DEGs_20200423 | ELF1_C  | 5.782228 | 7.371767e-09 | 4.905060e-08 |  56 | cl_epi_glandular_vs_epi_rest_limma_DEGs_20200423 ELF1_C  | <!----> |\n",
       "\n"
      ],
      "text/plain": [
       "   cl_name                                          Regulon NES     \n",
       "3  cl_epi_glandular_vs_epi_rest_limma_DEGs_20200423 SP6_E   6.977937\n",
       "5  cl_epi_basal_vs_epi_rest_limma_DEGs_20200423     SMAD7_B 6.608119\n",
       "6  cl_epi_glandular_vs_epi_rest_limma_DEGs_20200423 KDM5A_D 6.224759\n",
       "8  cl_epi_glandular_vs_epi_rest_limma_DEGs_20200423 IKZF2_E 5.859704\n",
       "10 cl_epi_glandular_vs_epi_rest_limma_DEGs_20200423 THAP1_C 5.828670\n",
       "11 cl_epi_glandular_vs_epi_rest_limma_DEGs_20200423 ELF1_C  5.782228\n",
       "   p.value      FDR          Size\n",
       "3  2.995461e-12 2.878971e-11 139 \n",
       "5  3.892325e-11 5.281350e-10  14 \n",
       "6  4.822969e-10 3.667577e-09 185 \n",
       "8  4.636940e-09 3.161342e-08 190 \n",
       "10 5.587086e-09 3.753654e-08  53 \n",
       "11 7.371767e-09 4.905060e-08  56 \n",
       "   id                                                       label\n",
       "3  cl_epi_glandular_vs_epi_rest_limma_DEGs_20200423 SP6_E        \n",
       "5  cl_epi_basal_vs_epi_rest_limma_DEGs_20200423 SMAD7_B          \n",
       "6  cl_epi_glandular_vs_epi_rest_limma_DEGs_20200423 KDM5A_D      \n",
       "8  cl_epi_glandular_vs_epi_rest_limma_DEGs_20200423 IKZF2_E      \n",
       "10 cl_epi_glandular_vs_epi_rest_limma_DEGs_20200423 THAP1_C      \n",
       "11 cl_epi_glandular_vs_epi_rest_limma_DEGs_20200423 ELF1_C       "
      ]
     },
     "metadata": {},
     "output_type": "display_data"
    }
   ],
   "source": [
    "TF_activities$label = TF_activities_agreement$annot[ match(TF_activities$id, TF_activities_agreement$id) ]\n",
    "TF_activities$label[ is.na(TF_activities$label) ] = ''\n",
    "head(TF_activities)"
   ]
  },
  {
   "cell_type": "markdown",
   "metadata": {},
   "source": [
    "## Plot heatmap - all TFs"
   ]
  },
  {
   "cell_type": "code",
   "execution_count": 59,
   "metadata": {},
   "outputs": [],
   "source": [
    "# exclude scanpy\n",
    "TF_activities = TF_activities[ grep('scanpy', TF_activities$cl_name, invert = T) ,]\n",
    "# build matrix of TF activity scores to plot\n",
    "TF_activities$value = TF_activities$NES\n",
    "x = acast(TF_activities, Regulon~cl_name, fill = 0)\n",
    "# build matrix labels -  aka DE sign - to overlay with the TF activities\n",
    "TF_activities$value = TF_activities$label\n",
    "x_label = acast(TF_activities, Regulon~cl_name, fill = '')"
   ]
  },
  {
   "cell_type": "code",
   "execution_count": 60,
   "metadata": {},
   "outputs": [],
   "source": [
    "# # actually plot the heatmap\n",
    "# pheatmap(x, \n",
    "#          display_numbers = x_label, fontsize_number=10,\n",
    "#          cellheight = 10, cellwidth = 10, \n",
    "#          filename = 'data/spatial/DEGs/TFs_heatmap.pdf')"
   ]
  },
  {
   "cell_type": "markdown",
   "metadata": {},
   "source": [
    "## Filter TFs in Notch and Wnt signalling"
   ]
  },
  {
   "cell_type": "code",
   "execution_count": 61,
   "metadata": {},
   "outputs": [],
   "source": [
    "Wnt = read.csv('figures_primaryEpithelial_clean/cluster_markers/TF_priors/Wnt_list', stringsAsFactors = F, sep = '\\t')\n",
    "Wnt$gene_symbol = sapply(strsplit(Wnt$Gene.names, ' '), head, 1)\n",
    "\n",
    "Notch = read.csv('figures_primaryEpithelial_clean/cluster_markers/TF_priors/Notch_list', stringsAsFactors = F, sep = '\\t')\n",
    "Notch$gene_symbol = sapply(strsplit(Notch$Gene.names, ' '), head, 1)"
   ]
  },
  {
   "cell_type": "code",
   "execution_count": 62,
   "metadata": {},
   "outputs": [],
   "source": [
    "TFs_in_x = sapply(strsplit(rownames(x), '_'), head, 1)\n",
    "is_Wnt = TFs_in_x %in% Wnt$gene_symbol\n",
    "is_Notch = TFs_in_x %in% Notch$gene_symbol"
   ]
  },
  {
   "cell_type": "code",
   "execution_count": 63,
   "metadata": {},
   "outputs": [
    {
     "data": {
      "text/plain": [
       "is_Notch\n",
       "FALSE  TRUE \n",
       "  185     2 "
      ]
     },
     "metadata": {},
     "output_type": "display_data"
    },
    {
     "data": {
      "text/plain": [
       "is_Wnt\n",
       "FALSE \n",
       "  187 "
      ]
     },
     "metadata": {},
     "output_type": "display_data"
    }
   ],
   "source": [
    "table(is_Notch)\n",
    "table(is_Wnt)"
   ]
  },
  {
   "cell_type": "code",
   "execution_count": 64,
   "metadata": {},
   "outputs": [],
   "source": [
    "# # actually plot the heatmap\n",
    "# pheatmap(x[is_Wnt, ], \n",
    "#          display_numbers = x_label[is_Wnt, ], fontsize_number=10,\n",
    "#          cellheight = 10, cellwidth = 10, \n",
    "#          filename = 'data/spatial/DEGs/TFs_heatmap_Wnt.pdf')\n",
    "\n",
    "# # actually plot the heatmap\n",
    "# pheatmap(x[is_Notch, ], \n",
    "#          display_numbers = x_label[is_Notch, ], fontsize_number=10,\n",
    "#          cellheight = 10, cellwidth = 10, \n",
    "#          filename = 'data/spatial/DEGs/TFs_heatmap_Notch.pdf')"
   ]
  },
  {
   "cell_type": "markdown",
   "metadata": {},
   "source": [
    "# Plot selected active TFs"
   ]
  },
  {
   "cell_type": "code",
   "execution_count": 65,
   "metadata": {},
   "outputs": [
    {
     "data": {
      "text/html": [
       "<table>\n",
       "<caption>A data.frame: 6 × 10</caption>\n",
       "<thead>\n",
       "\t<tr><th></th><th scope=col>cl_name</th><th scope=col>Regulon</th><th scope=col>NES</th><th scope=col>p.value</th><th scope=col>FDR</th><th scope=col>Size</th><th scope=col>id</th><th scope=col>label</th><th scope=col>value</th><th scope=col>rank</th></tr>\n",
       "\t<tr><th></th><th scope=col>&lt;chr&gt;</th><th scope=col>&lt;chr&gt;</th><th scope=col>&lt;dbl&gt;</th><th scope=col>&lt;dbl&gt;</th><th scope=col>&lt;dbl&gt;</th><th scope=col>&lt;int&gt;</th><th scope=col>&lt;chr&gt;</th><th scope=col>&lt;chr&gt;</th><th scope=col>&lt;chr&gt;</th><th scope=col>&lt;int&gt;</th></tr>\n",
       "</thead>\n",
       "<tbody>\n",
       "\t<tr><th scope=row>1</th><td>cl_epi_basal_vs_epi_rest_limma_DEGs_20200423</td><td>SMAD7_B </td><td>6.608119</td><td>3.892325e-11</td><td>5.281350e-10</td><td> 14</td><td>cl_epi_basal_vs_epi_rest_limma_DEGs_20200423 SMAD7_B </td><td></td><td></td><td>1</td></tr>\n",
       "\t<tr><th scope=row>2</th><td>cl_epi_basal_vs_epi_rest_limma_DEGs_20200423</td><td>ZBTB7A_C</td><td>5.427291</td><td>5.721575e-08</td><td>5.209644e-07</td><td> 90</td><td>cl_epi_basal_vs_epi_rest_limma_DEGs_20200423 ZBTB7A_C</td><td></td><td></td><td>2</td></tr>\n",
       "\t<tr><th scope=row>3</th><td>cl_epi_basal_vs_epi_rest_limma_DEGs_20200423</td><td>MKX_E   </td><td>4.783607</td><td>1.721773e-06</td><td>1.234680e-05</td><td>189</td><td>cl_epi_basal_vs_epi_rest_limma_DEGs_20200423 MKX_E   </td><td></td><td></td><td>3</td></tr>\n",
       "\t<tr><th scope=row>4</th><td>cl_epi_basal_vs_epi_rest_limma_DEGs_20200423</td><td>MNT_C   </td><td>4.624174</td><td>3.760938e-06</td><td>2.602569e-05</td><td> 56</td><td>cl_epi_basal_vs_epi_rest_limma_DEGs_20200423 MNT_C   </td><td></td><td></td><td>4</td></tr>\n",
       "\t<tr><th scope=row>5</th><td>cl_epi_basal_vs_epi_rest_limma_DEGs_20200423</td><td>THAP11_C</td><td>4.229917</td><td>2.337772e-05</td><td>1.412872e-04</td><td>114</td><td>cl_epi_basal_vs_epi_rest_limma_DEGs_20200423 THAP11_C</td><td></td><td></td><td>5</td></tr>\n",
       "\t<tr><th scope=row>6</th><td>cl_epi_basal_vs_epi_rest_limma_DEGs_20200423</td><td>RFX5_AA </td><td>4.203369</td><td>2.629717e-05</td><td>1.575553e-04</td><td> 11</td><td>cl_epi_basal_vs_epi_rest_limma_DEGs_20200423 RFX5_AA </td><td></td><td></td><td>6</td></tr>\n",
       "</tbody>\n",
       "</table>\n"
      ],
      "text/latex": [
       "A data.frame: 6 × 10\n",
       "\\begin{tabular}{r|llllllllll}\n",
       "  & cl\\_name & Regulon & NES & p.value & FDR & Size & id & label & value & rank\\\\\n",
       "  & <chr> & <chr> & <dbl> & <dbl> & <dbl> & <int> & <chr> & <chr> & <chr> & <int>\\\\\n",
       "\\hline\n",
       "\t1 & cl\\_epi\\_basal\\_vs\\_epi\\_rest\\_limma\\_DEGs\\_20200423 & SMAD7\\_B  & 6.608119 & 3.892325e-11 & 5.281350e-10 &  14 & cl\\_epi\\_basal\\_vs\\_epi\\_rest\\_limma\\_DEGs\\_20200423 SMAD7\\_B  &  &  & 1\\\\\n",
       "\t2 & cl\\_epi\\_basal\\_vs\\_epi\\_rest\\_limma\\_DEGs\\_20200423 & ZBTB7A\\_C & 5.427291 & 5.721575e-08 & 5.209644e-07 &  90 & cl\\_epi\\_basal\\_vs\\_epi\\_rest\\_limma\\_DEGs\\_20200423 ZBTB7A\\_C &  &  & 2\\\\\n",
       "\t3 & cl\\_epi\\_basal\\_vs\\_epi\\_rest\\_limma\\_DEGs\\_20200423 & MKX\\_E    & 4.783607 & 1.721773e-06 & 1.234680e-05 & 189 & cl\\_epi\\_basal\\_vs\\_epi\\_rest\\_limma\\_DEGs\\_20200423 MKX\\_E    &  &  & 3\\\\\n",
       "\t4 & cl\\_epi\\_basal\\_vs\\_epi\\_rest\\_limma\\_DEGs\\_20200423 & MNT\\_C    & 4.624174 & 3.760938e-06 & 2.602569e-05 &  56 & cl\\_epi\\_basal\\_vs\\_epi\\_rest\\_limma\\_DEGs\\_20200423 MNT\\_C    &  &  & 4\\\\\n",
       "\t5 & cl\\_epi\\_basal\\_vs\\_epi\\_rest\\_limma\\_DEGs\\_20200423 & THAP11\\_C & 4.229917 & 2.337772e-05 & 1.412872e-04 & 114 & cl\\_epi\\_basal\\_vs\\_epi\\_rest\\_limma\\_DEGs\\_20200423 THAP11\\_C &  &  & 5\\\\\n",
       "\t6 & cl\\_epi\\_basal\\_vs\\_epi\\_rest\\_limma\\_DEGs\\_20200423 & RFX5\\_AA  & 4.203369 & 2.629717e-05 & 1.575553e-04 &  11 & cl\\_epi\\_basal\\_vs\\_epi\\_rest\\_limma\\_DEGs\\_20200423 RFX5\\_AA  &  &  & 6\\\\\n",
       "\\end{tabular}\n"
      ],
      "text/markdown": [
       "\n",
       "A data.frame: 6 × 10\n",
       "\n",
       "| <!--/--> | cl_name &lt;chr&gt; | Regulon &lt;chr&gt; | NES &lt;dbl&gt; | p.value &lt;dbl&gt; | FDR &lt;dbl&gt; | Size &lt;int&gt; | id &lt;chr&gt; | label &lt;chr&gt; | value &lt;chr&gt; | rank &lt;int&gt; |\n",
       "|---|---|---|---|---|---|---|---|---|---|---|\n",
       "| 1 | cl_epi_basal_vs_epi_rest_limma_DEGs_20200423 | SMAD7_B  | 6.608119 | 3.892325e-11 | 5.281350e-10 |  14 | cl_epi_basal_vs_epi_rest_limma_DEGs_20200423 SMAD7_B  | <!----> | <!----> | 1 |\n",
       "| 2 | cl_epi_basal_vs_epi_rest_limma_DEGs_20200423 | ZBTB7A_C | 5.427291 | 5.721575e-08 | 5.209644e-07 |  90 | cl_epi_basal_vs_epi_rest_limma_DEGs_20200423 ZBTB7A_C | <!----> | <!----> | 2 |\n",
       "| 3 | cl_epi_basal_vs_epi_rest_limma_DEGs_20200423 | MKX_E    | 4.783607 | 1.721773e-06 | 1.234680e-05 | 189 | cl_epi_basal_vs_epi_rest_limma_DEGs_20200423 MKX_E    | <!----> | <!----> | 3 |\n",
       "| 4 | cl_epi_basal_vs_epi_rest_limma_DEGs_20200423 | MNT_C    | 4.624174 | 3.760938e-06 | 2.602569e-05 |  56 | cl_epi_basal_vs_epi_rest_limma_DEGs_20200423 MNT_C    | <!----> | <!----> | 4 |\n",
       "| 5 | cl_epi_basal_vs_epi_rest_limma_DEGs_20200423 | THAP11_C | 4.229917 | 2.337772e-05 | 1.412872e-04 | 114 | cl_epi_basal_vs_epi_rest_limma_DEGs_20200423 THAP11_C | <!----> | <!----> | 5 |\n",
       "| 6 | cl_epi_basal_vs_epi_rest_limma_DEGs_20200423 | RFX5_AA  | 4.203369 | 2.629717e-05 | 1.575553e-04 |  11 | cl_epi_basal_vs_epi_rest_limma_DEGs_20200423 RFX5_AA  | <!----> | <!----> | 6 |\n",
       "\n"
      ],
      "text/plain": [
       "  cl_name                                      Regulon  NES      p.value     \n",
       "1 cl_epi_basal_vs_epi_rest_limma_DEGs_20200423 SMAD7_B  6.608119 3.892325e-11\n",
       "2 cl_epi_basal_vs_epi_rest_limma_DEGs_20200423 ZBTB7A_C 5.427291 5.721575e-08\n",
       "3 cl_epi_basal_vs_epi_rest_limma_DEGs_20200423 MKX_E    4.783607 1.721773e-06\n",
       "4 cl_epi_basal_vs_epi_rest_limma_DEGs_20200423 MNT_C    4.624174 3.760938e-06\n",
       "5 cl_epi_basal_vs_epi_rest_limma_DEGs_20200423 THAP11_C 4.229917 2.337772e-05\n",
       "6 cl_epi_basal_vs_epi_rest_limma_DEGs_20200423 RFX5_AA  4.203369 2.629717e-05\n",
       "  FDR          Size id                                                    label\n",
       "1 5.281350e-10  14  cl_epi_basal_vs_epi_rest_limma_DEGs_20200423 SMAD7_B       \n",
       "2 5.209644e-07  90  cl_epi_basal_vs_epi_rest_limma_DEGs_20200423 ZBTB7A_C      \n",
       "3 1.234680e-05 189  cl_epi_basal_vs_epi_rest_limma_DEGs_20200423 MKX_E         \n",
       "4 2.602569e-05  56  cl_epi_basal_vs_epi_rest_limma_DEGs_20200423 MNT_C         \n",
       "5 1.412872e-04 114  cl_epi_basal_vs_epi_rest_limma_DEGs_20200423 THAP11_C      \n",
       "6 1.575553e-04  11  cl_epi_basal_vs_epi_rest_limma_DEGs_20200423 RFX5_AA       \n",
       "  value rank\n",
       "1       1   \n",
       "2       2   \n",
       "3       3   \n",
       "4       4   \n",
       "5       5   \n",
       "6       6   "
      ]
     },
     "metadata": {},
     "output_type": "display_data"
    },
    {
     "data": {
      "text/html": [
       "<style>\n",
       ".list-inline {list-style: none; margin:0; padding: 0}\n",
       ".list-inline>li {display: inline-block}\n",
       ".list-inline>li:not(:last-child)::after {content: \"\\00b7\"; padding: 0 .5ex}\n",
       "</style>\n",
       "<ol class=list-inline><li>'cl_epi_basal_vs_epi_rest_limma_DEGs_20200423'</li><li>'cl_epi_glandular_vs_epi_rest_limma_DEGs_20200423'</li><li>'cl_epi_luminal_vs_epi_rest_limma_DEGs_20200423'</li></ol>\n"
      ],
      "text/latex": [
       "\\begin{enumerate*}\n",
       "\\item 'cl\\_epi\\_basal\\_vs\\_epi\\_rest\\_limma\\_DEGs\\_20200423'\n",
       "\\item 'cl\\_epi\\_glandular\\_vs\\_epi\\_rest\\_limma\\_DEGs\\_20200423'\n",
       "\\item 'cl\\_epi\\_luminal\\_vs\\_epi\\_rest\\_limma\\_DEGs\\_20200423'\n",
       "\\end{enumerate*}\n"
      ],
      "text/markdown": [
       "1. 'cl_epi_basal_vs_epi_rest_limma_DEGs_20200423'\n",
       "2. 'cl_epi_glandular_vs_epi_rest_limma_DEGs_20200423'\n",
       "3. 'cl_epi_luminal_vs_epi_rest_limma_DEGs_20200423'\n",
       "\n",
       "\n"
      ],
      "text/plain": [
       "[1] \"cl_epi_basal_vs_epi_rest_limma_DEGs_20200423\"    \n",
       "[2] \"cl_epi_glandular_vs_epi_rest_limma_DEGs_20200423\"\n",
       "[3] \"cl_epi_luminal_vs_epi_rest_limma_DEGs_20200423\"  "
      ]
     },
     "metadata": {},
     "output_type": "display_data"
    }
   ],
   "source": [
    "# Rank TFs according to their activity\n",
    "TF_activities = TF_activities[order(TF_activities$NES, decreasing = T), ]\n",
    "TF_activities = ddply(TF_activities, 'cl_name', function(df) data.frame(df, rank = 1:nrow(df)) )\n",
    "head(TF_activities)\n",
    "unique(TF_activities$cl_name)"
   ]
  },
  {
   "cell_type": "code",
   "execution_count": 66,
   "metadata": {},
   "outputs": [],
   "source": [
    "# order clusters\n",
    "TF_activities = rbind(subset(TF_activities, cl_name %in% 'cl_epi_luminal_vs_epi_rest_limma_DEGs_20200423'),\n",
    "                      subset(TF_activities, cl_name %in% 'cl_epi_glandular_vs_epi_rest_limma_DEGs_20200423'),\n",
    "                     subset(TF_activities, cl_name %in% 'cl_epi_basal_vs_epi_rest_limma_DEGs_20200423'))"
   ]
  },
  {
   "cell_type": "code",
   "execution_count": 67,
   "metadata": {},
   "outputs": [
    {
     "data": {
      "text/html": [
       "<table>\n",
       "<caption>A data.frame: 6 × 10</caption>\n",
       "<thead>\n",
       "\t<tr><th></th><th scope=col>cl_name</th><th scope=col>Regulon</th><th scope=col>NES</th><th scope=col>p.value</th><th scope=col>FDR</th><th scope=col>Size</th><th scope=col>id</th><th scope=col>label</th><th scope=col>value</th><th scope=col>rank</th></tr>\n",
       "\t<tr><th></th><th scope=col>&lt;chr&gt;</th><th scope=col>&lt;chr&gt;</th><th scope=col>&lt;dbl&gt;</th><th scope=col>&lt;dbl&gt;</th><th scope=col>&lt;dbl&gt;</th><th scope=col>&lt;int&gt;</th><th scope=col>&lt;chr&gt;</th><th scope=col>&lt;chr&gt;</th><th scope=col>&lt;chr&gt;</th><th scope=col>&lt;int&gt;</th></tr>\n",
       "</thead>\n",
       "<tbody>\n",
       "\t<tr><th scope=row>208</th><td>cl_epi_luminal_vs_epi_rest_limma_DEGs_20200423</td><td>RFX8_E  </td><td>5.402977</td><td>6.554399e-08</td><td>9.754073e-07</td><td>173</td><td>cl_epi_luminal_vs_epi_rest_limma_DEGs_20200423 RFX8_E  </td><td></td><td></td><td>1</td></tr>\n",
       "\t<tr><th scope=row>209</th><td>cl_epi_luminal_vs_epi_rest_limma_DEGs_20200423</td><td>ZSCAN1_E</td><td>4.955873</td><td>7.200627e-07</td><td>8.897918e-06</td><td>119</td><td>cl_epi_luminal_vs_epi_rest_limma_DEGs_20200423 ZSCAN1_E</td><td></td><td></td><td>2</td></tr>\n",
       "\t<tr><th scope=row>210</th><td>cl_epi_luminal_vs_epi_rest_limma_DEGs_20200423</td><td>HOXC11_D</td><td>4.620891</td><td>3.820947e-06</td><td>4.036787e-05</td><td>  8</td><td>cl_epi_luminal_vs_epi_rest_limma_DEGs_20200423 HOXC11_D</td><td></td><td></td><td>3</td></tr>\n",
       "\t<tr><th scope=row>211</th><td>cl_epi_luminal_vs_epi_rest_limma_DEGs_20200423</td><td>HOXC4_E </td><td>4.146294</td><td>3.378998e-05</td><td>2.710421e-04</td><td> 68</td><td>cl_epi_luminal_vs_epi_rest_limma_DEGs_20200423 HOXC4_E </td><td></td><td></td><td>4</td></tr>\n",
       "\t<tr><th scope=row>212</th><td>cl_epi_luminal_vs_epi_rest_limma_DEGs_20200423</td><td>GLI1_B  </td><td>4.105610</td><td>4.032498e-05</td><td>3.171010e-04</td><td> 55</td><td>cl_epi_luminal_vs_epi_rest_limma_DEGs_20200423 GLI1_B  </td><td></td><td></td><td>5</td></tr>\n",
       "\t<tr><th scope=row>213</th><td>cl_epi_luminal_vs_epi_rest_limma_DEGs_20200423</td><td>FOXF1_E </td><td>3.789237</td><td>1.511110e-04</td><td>1.089258e-03</td><td>192</td><td>cl_epi_luminal_vs_epi_rest_limma_DEGs_20200423 FOXF1_E </td><td></td><td></td><td>6</td></tr>\n",
       "</tbody>\n",
       "</table>\n"
      ],
      "text/latex": [
       "A data.frame: 6 × 10\n",
       "\\begin{tabular}{r|llllllllll}\n",
       "  & cl\\_name & Regulon & NES & p.value & FDR & Size & id & label & value & rank\\\\\n",
       "  & <chr> & <chr> & <dbl> & <dbl> & <dbl> & <int> & <chr> & <chr> & <chr> & <int>\\\\\n",
       "\\hline\n",
       "\t208 & cl\\_epi\\_luminal\\_vs\\_epi\\_rest\\_limma\\_DEGs\\_20200423 & RFX8\\_E   & 5.402977 & 6.554399e-08 & 9.754073e-07 & 173 & cl\\_epi\\_luminal\\_vs\\_epi\\_rest\\_limma\\_DEGs\\_20200423 RFX8\\_E   &  &  & 1\\\\\n",
       "\t209 & cl\\_epi\\_luminal\\_vs\\_epi\\_rest\\_limma\\_DEGs\\_20200423 & ZSCAN1\\_E & 4.955873 & 7.200627e-07 & 8.897918e-06 & 119 & cl\\_epi\\_luminal\\_vs\\_epi\\_rest\\_limma\\_DEGs\\_20200423 ZSCAN1\\_E &  &  & 2\\\\\n",
       "\t210 & cl\\_epi\\_luminal\\_vs\\_epi\\_rest\\_limma\\_DEGs\\_20200423 & HOXC11\\_D & 4.620891 & 3.820947e-06 & 4.036787e-05 &   8 & cl\\_epi\\_luminal\\_vs\\_epi\\_rest\\_limma\\_DEGs\\_20200423 HOXC11\\_D &  &  & 3\\\\\n",
       "\t211 & cl\\_epi\\_luminal\\_vs\\_epi\\_rest\\_limma\\_DEGs\\_20200423 & HOXC4\\_E  & 4.146294 & 3.378998e-05 & 2.710421e-04 &  68 & cl\\_epi\\_luminal\\_vs\\_epi\\_rest\\_limma\\_DEGs\\_20200423 HOXC4\\_E  &  &  & 4\\\\\n",
       "\t212 & cl\\_epi\\_luminal\\_vs\\_epi\\_rest\\_limma\\_DEGs\\_20200423 & GLI1\\_B   & 4.105610 & 4.032498e-05 & 3.171010e-04 &  55 & cl\\_epi\\_luminal\\_vs\\_epi\\_rest\\_limma\\_DEGs\\_20200423 GLI1\\_B   &  &  & 5\\\\\n",
       "\t213 & cl\\_epi\\_luminal\\_vs\\_epi\\_rest\\_limma\\_DEGs\\_20200423 & FOXF1\\_E  & 3.789237 & 1.511110e-04 & 1.089258e-03 & 192 & cl\\_epi\\_luminal\\_vs\\_epi\\_rest\\_limma\\_DEGs\\_20200423 FOXF1\\_E  &  &  & 6\\\\\n",
       "\\end{tabular}\n"
      ],
      "text/markdown": [
       "\n",
       "A data.frame: 6 × 10\n",
       "\n",
       "| <!--/--> | cl_name &lt;chr&gt; | Regulon &lt;chr&gt; | NES &lt;dbl&gt; | p.value &lt;dbl&gt; | FDR &lt;dbl&gt; | Size &lt;int&gt; | id &lt;chr&gt; | label &lt;chr&gt; | value &lt;chr&gt; | rank &lt;int&gt; |\n",
       "|---|---|---|---|---|---|---|---|---|---|---|\n",
       "| 208 | cl_epi_luminal_vs_epi_rest_limma_DEGs_20200423 | RFX8_E   | 5.402977 | 6.554399e-08 | 9.754073e-07 | 173 | cl_epi_luminal_vs_epi_rest_limma_DEGs_20200423 RFX8_E   | <!----> | <!----> | 1 |\n",
       "| 209 | cl_epi_luminal_vs_epi_rest_limma_DEGs_20200423 | ZSCAN1_E | 4.955873 | 7.200627e-07 | 8.897918e-06 | 119 | cl_epi_luminal_vs_epi_rest_limma_DEGs_20200423 ZSCAN1_E | <!----> | <!----> | 2 |\n",
       "| 210 | cl_epi_luminal_vs_epi_rest_limma_DEGs_20200423 | HOXC11_D | 4.620891 | 3.820947e-06 | 4.036787e-05 |   8 | cl_epi_luminal_vs_epi_rest_limma_DEGs_20200423 HOXC11_D | <!----> | <!----> | 3 |\n",
       "| 211 | cl_epi_luminal_vs_epi_rest_limma_DEGs_20200423 | HOXC4_E  | 4.146294 | 3.378998e-05 | 2.710421e-04 |  68 | cl_epi_luminal_vs_epi_rest_limma_DEGs_20200423 HOXC4_E  | <!----> | <!----> | 4 |\n",
       "| 212 | cl_epi_luminal_vs_epi_rest_limma_DEGs_20200423 | GLI1_B   | 4.105610 | 4.032498e-05 | 3.171010e-04 |  55 | cl_epi_luminal_vs_epi_rest_limma_DEGs_20200423 GLI1_B   | <!----> | <!----> | 5 |\n",
       "| 213 | cl_epi_luminal_vs_epi_rest_limma_DEGs_20200423 | FOXF1_E  | 3.789237 | 1.511110e-04 | 1.089258e-03 | 192 | cl_epi_luminal_vs_epi_rest_limma_DEGs_20200423 FOXF1_E  | <!----> | <!----> | 6 |\n",
       "\n"
      ],
      "text/plain": [
       "    cl_name                                        Regulon  NES     \n",
       "208 cl_epi_luminal_vs_epi_rest_limma_DEGs_20200423 RFX8_E   5.402977\n",
       "209 cl_epi_luminal_vs_epi_rest_limma_DEGs_20200423 ZSCAN1_E 4.955873\n",
       "210 cl_epi_luminal_vs_epi_rest_limma_DEGs_20200423 HOXC11_D 4.620891\n",
       "211 cl_epi_luminal_vs_epi_rest_limma_DEGs_20200423 HOXC4_E  4.146294\n",
       "212 cl_epi_luminal_vs_epi_rest_limma_DEGs_20200423 GLI1_B   4.105610\n",
       "213 cl_epi_luminal_vs_epi_rest_limma_DEGs_20200423 FOXF1_E  3.789237\n",
       "    p.value      FDR          Size\n",
       "208 6.554399e-08 9.754073e-07 173 \n",
       "209 7.200627e-07 8.897918e-06 119 \n",
       "210 3.820947e-06 4.036787e-05   8 \n",
       "211 3.378998e-05 2.710421e-04  68 \n",
       "212 4.032498e-05 3.171010e-04  55 \n",
       "213 1.511110e-04 1.089258e-03 192 \n",
       "    id                                                      label value rank\n",
       "208 cl_epi_luminal_vs_epi_rest_limma_DEGs_20200423 RFX8_E               1   \n",
       "209 cl_epi_luminal_vs_epi_rest_limma_DEGs_20200423 ZSCAN1_E             2   \n",
       "210 cl_epi_luminal_vs_epi_rest_limma_DEGs_20200423 HOXC11_D             3   \n",
       "211 cl_epi_luminal_vs_epi_rest_limma_DEGs_20200423 HOXC4_E              4   \n",
       "212 cl_epi_luminal_vs_epi_rest_limma_DEGs_20200423 GLI1_B               5   \n",
       "213 cl_epi_luminal_vs_epi_rest_limma_DEGs_20200423 FOXF1_E              6   "
      ]
     },
     "metadata": {},
     "output_type": "display_data"
    }
   ],
   "source": [
    "head(TF_activities)\n",
    "TFs = read.csv('data/scenic/huTF_census.txt', stringsAsFactors = F, header = F)$V1"
   ]
  },
  {
   "cell_type": "code",
   "execution_count": 68,
   "metadata": {},
   "outputs": [],
   "source": [
    "TF_activities$Gene = sapply(strsplit(TF_activities$Regulon, '_'), head, 1)"
   ]
  },
  {
   "cell_type": "code",
   "execution_count": 73,
   "metadata": {},
   "outputs": [
    {
     "data": {
      "text/html": [
       "FALSE"
      ],
      "text/latex": [
       "FALSE"
      ],
      "text/markdown": [
       "FALSE"
      ],
      "text/plain": [
       "[1] FALSE"
      ]
     },
     "metadata": {},
     "output_type": "display_data"
    }
   ],
   "source": [
    "'CEBPD' %in% TF_activities$Gene"
   ]
  },
  {
   "cell_type": "code",
   "execution_count": 69,
   "metadata": {},
   "outputs": [
    {
     "data": {
      "text/html": [
       "<style>\n",
       ".list-inline {list-style: none; margin:0; padding: 0}\n",
       ".list-inline>li {display: inline-block}\n",
       ".list-inline>li:not(:last-child)::after {content: \"\\00b7\"; padding: 0 .5ex}\n",
       "</style>\n",
       "<ol class=list-inline><li>'cl_epi_basal_vs_epi_rest_limma_DEGs_20200423'</li><li>'cl_epi_glandular_vs_epi_rest_limma_DEGs_20200423'</li><li>'cl_epi_luminal_vs_epi_rest_limma_DEGs_20200423'</li></ol>\n"
      ],
      "text/latex": [
       "\\begin{enumerate*}\n",
       "\\item 'cl\\_epi\\_basal\\_vs\\_epi\\_rest\\_limma\\_DEGs\\_20200423'\n",
       "\\item 'cl\\_epi\\_glandular\\_vs\\_epi\\_rest\\_limma\\_DEGs\\_20200423'\n",
       "\\item 'cl\\_epi\\_luminal\\_vs\\_epi\\_rest\\_limma\\_DEGs\\_20200423'\n",
       "\\end{enumerate*}\n"
      ],
      "text/markdown": [
       "1. 'cl_epi_basal_vs_epi_rest_limma_DEGs_20200423'\n",
       "2. 'cl_epi_glandular_vs_epi_rest_limma_DEGs_20200423'\n",
       "3. 'cl_epi_luminal_vs_epi_rest_limma_DEGs_20200423'\n",
       "\n",
       "\n"
      ],
      "text/plain": [
       "[1] \"cl_epi_basal_vs_epi_rest_limma_DEGs_20200423\"    \n",
       "[2] \"cl_epi_glandular_vs_epi_rest_limma_DEGs_20200423\"\n",
       "[3] \"cl_epi_luminal_vs_epi_rest_limma_DEGs_20200423\"  "
      ]
     },
     "metadata": {},
     "output_type": "display_data"
    }
   ],
   "source": [
    "# build matrix of TF activity scores to plot\n",
    "TF_activities$value = TF_activities$NES\n",
    "x = acast(TF_activities, Gene~cl_name, fill = 0)\n",
    "colnames(x)"
   ]
  },
  {
   "cell_type": "code",
   "execution_count": 70,
   "metadata": {},
   "outputs": [],
   "source": [
    "x = x[, c(3, 2, 1) ]\n",
    "colnames(x) = c('luminal',  'glandular', 'basal')\n"
   ]
  },
  {
   "cell_type": "code",
   "execution_count": 74,
   "metadata": {},
   "outputs": [],
   "source": [
    "pheatmap(t(x[ c('GLI1', 'FOXJ1', 'HIF1A', 'CSRNP1', 'FOXO3', 'HEY1', 'ELF1') , ]), cellheight = 10, cellwidth = 10, cluster_rows = F, cluster_cols = F,\n",
    "         color = colorRampPalette(c(brewer.pal(n = 5, name = 'Blues')[4], \"white\", brewer.pal(n = 5, name = 'Reds')[4]))(50),\n",
    "        filename = 'data/spatial/DEGs/selected_TFs_activities.pdf')"
   ]
  },
  {
   "cell_type": "markdown",
   "metadata": {},
   "source": [
    "# Plot top 10 active TFs"
   ]
  },
  {
   "cell_type": "code",
   "execution_count": 34,
   "metadata": {},
   "outputs": [
    {
     "data": {
      "text/html": [
       "<table>\n",
       "<caption>A data.frame: 6 × 10</caption>\n",
       "<thead>\n",
       "\t<tr><th></th><th scope=col>cl_name</th><th scope=col>Regulon</th><th scope=col>NES</th><th scope=col>p.value</th><th scope=col>FDR</th><th scope=col>Size</th><th scope=col>id</th><th scope=col>label</th><th scope=col>value</th><th scope=col>rank</th></tr>\n",
       "\t<tr><th></th><th scope=col>&lt;chr&gt;</th><th scope=col>&lt;chr&gt;</th><th scope=col>&lt;dbl&gt;</th><th scope=col>&lt;dbl&gt;</th><th scope=col>&lt;dbl&gt;</th><th scope=col>&lt;int&gt;</th><th scope=col>&lt;chr&gt;</th><th scope=col>&lt;chr&gt;</th><th scope=col>&lt;chr&gt;</th><th scope=col>&lt;int&gt;</th></tr>\n",
       "</thead>\n",
       "<tbody>\n",
       "\t<tr><th scope=row>1</th><td>cl_epi_basal_vs_epi_rest_limma_DEGs_20200423</td><td>SMAD7_B </td><td>6.608119</td><td>3.892325e-11</td><td>5.281350e-10</td><td> 14</td><td>cl_epi_basal_vs_epi_rest_limma_DEGs_20200423 SMAD7_B </td><td></td><td></td><td>1</td></tr>\n",
       "\t<tr><th scope=row>2</th><td>cl_epi_basal_vs_epi_rest_limma_DEGs_20200423</td><td>ZBTB7A_C</td><td>5.427291</td><td>5.721575e-08</td><td>5.209644e-07</td><td> 90</td><td>cl_epi_basal_vs_epi_rest_limma_DEGs_20200423 ZBTB7A_C</td><td></td><td></td><td>2</td></tr>\n",
       "\t<tr><th scope=row>3</th><td>cl_epi_basal_vs_epi_rest_limma_DEGs_20200423</td><td>MKX_E   </td><td>4.783607</td><td>1.721773e-06</td><td>1.234680e-05</td><td>189</td><td>cl_epi_basal_vs_epi_rest_limma_DEGs_20200423 MKX_E   </td><td></td><td></td><td>3</td></tr>\n",
       "\t<tr><th scope=row>4</th><td>cl_epi_basal_vs_epi_rest_limma_DEGs_20200423</td><td>MNT_C   </td><td>4.624174</td><td>3.760938e-06</td><td>2.602569e-05</td><td> 56</td><td>cl_epi_basal_vs_epi_rest_limma_DEGs_20200423 MNT_C   </td><td></td><td></td><td>4</td></tr>\n",
       "\t<tr><th scope=row>5</th><td>cl_epi_basal_vs_epi_rest_limma_DEGs_20200423</td><td>THAP11_C</td><td>4.229917</td><td>2.337772e-05</td><td>1.412872e-04</td><td>114</td><td>cl_epi_basal_vs_epi_rest_limma_DEGs_20200423 THAP11_C</td><td></td><td></td><td>5</td></tr>\n",
       "\t<tr><th scope=row>6</th><td>cl_epi_basal_vs_epi_rest_limma_DEGs_20200423</td><td>RFX5_AA </td><td>4.203369</td><td>2.629717e-05</td><td>1.575553e-04</td><td> 11</td><td>cl_epi_basal_vs_epi_rest_limma_DEGs_20200423 RFX5_AA </td><td></td><td></td><td>6</td></tr>\n",
       "</tbody>\n",
       "</table>\n"
      ],
      "text/latex": [
       "A data.frame: 6 × 10\n",
       "\\begin{tabular}{r|llllllllll}\n",
       "  & cl\\_name & Regulon & NES & p.value & FDR & Size & id & label & value & rank\\\\\n",
       "  & <chr> & <chr> & <dbl> & <dbl> & <dbl> & <int> & <chr> & <chr> & <chr> & <int>\\\\\n",
       "\\hline\n",
       "\t1 & cl\\_epi\\_basal\\_vs\\_epi\\_rest\\_limma\\_DEGs\\_20200423 & SMAD7\\_B  & 6.608119 & 3.892325e-11 & 5.281350e-10 &  14 & cl\\_epi\\_basal\\_vs\\_epi\\_rest\\_limma\\_DEGs\\_20200423 SMAD7\\_B  &  &  & 1\\\\\n",
       "\t2 & cl\\_epi\\_basal\\_vs\\_epi\\_rest\\_limma\\_DEGs\\_20200423 & ZBTB7A\\_C & 5.427291 & 5.721575e-08 & 5.209644e-07 &  90 & cl\\_epi\\_basal\\_vs\\_epi\\_rest\\_limma\\_DEGs\\_20200423 ZBTB7A\\_C &  &  & 2\\\\\n",
       "\t3 & cl\\_epi\\_basal\\_vs\\_epi\\_rest\\_limma\\_DEGs\\_20200423 & MKX\\_E    & 4.783607 & 1.721773e-06 & 1.234680e-05 & 189 & cl\\_epi\\_basal\\_vs\\_epi\\_rest\\_limma\\_DEGs\\_20200423 MKX\\_E    &  &  & 3\\\\\n",
       "\t4 & cl\\_epi\\_basal\\_vs\\_epi\\_rest\\_limma\\_DEGs\\_20200423 & MNT\\_C    & 4.624174 & 3.760938e-06 & 2.602569e-05 &  56 & cl\\_epi\\_basal\\_vs\\_epi\\_rest\\_limma\\_DEGs\\_20200423 MNT\\_C    &  &  & 4\\\\\n",
       "\t5 & cl\\_epi\\_basal\\_vs\\_epi\\_rest\\_limma\\_DEGs\\_20200423 & THAP11\\_C & 4.229917 & 2.337772e-05 & 1.412872e-04 & 114 & cl\\_epi\\_basal\\_vs\\_epi\\_rest\\_limma\\_DEGs\\_20200423 THAP11\\_C &  &  & 5\\\\\n",
       "\t6 & cl\\_epi\\_basal\\_vs\\_epi\\_rest\\_limma\\_DEGs\\_20200423 & RFX5\\_AA  & 4.203369 & 2.629717e-05 & 1.575553e-04 &  11 & cl\\_epi\\_basal\\_vs\\_epi\\_rest\\_limma\\_DEGs\\_20200423 RFX5\\_AA  &  &  & 6\\\\\n",
       "\\end{tabular}\n"
      ],
      "text/markdown": [
       "\n",
       "A data.frame: 6 × 10\n",
       "\n",
       "| <!--/--> | cl_name &lt;chr&gt; | Regulon &lt;chr&gt; | NES &lt;dbl&gt; | p.value &lt;dbl&gt; | FDR &lt;dbl&gt; | Size &lt;int&gt; | id &lt;chr&gt; | label &lt;chr&gt; | value &lt;chr&gt; | rank &lt;int&gt; |\n",
       "|---|---|---|---|---|---|---|---|---|---|---|\n",
       "| 1 | cl_epi_basal_vs_epi_rest_limma_DEGs_20200423 | SMAD7_B  | 6.608119 | 3.892325e-11 | 5.281350e-10 |  14 | cl_epi_basal_vs_epi_rest_limma_DEGs_20200423 SMAD7_B  | <!----> | <!----> | 1 |\n",
       "| 2 | cl_epi_basal_vs_epi_rest_limma_DEGs_20200423 | ZBTB7A_C | 5.427291 | 5.721575e-08 | 5.209644e-07 |  90 | cl_epi_basal_vs_epi_rest_limma_DEGs_20200423 ZBTB7A_C | <!----> | <!----> | 2 |\n",
       "| 3 | cl_epi_basal_vs_epi_rest_limma_DEGs_20200423 | MKX_E    | 4.783607 | 1.721773e-06 | 1.234680e-05 | 189 | cl_epi_basal_vs_epi_rest_limma_DEGs_20200423 MKX_E    | <!----> | <!----> | 3 |\n",
       "| 4 | cl_epi_basal_vs_epi_rest_limma_DEGs_20200423 | MNT_C    | 4.624174 | 3.760938e-06 | 2.602569e-05 |  56 | cl_epi_basal_vs_epi_rest_limma_DEGs_20200423 MNT_C    | <!----> | <!----> | 4 |\n",
       "| 5 | cl_epi_basal_vs_epi_rest_limma_DEGs_20200423 | THAP11_C | 4.229917 | 2.337772e-05 | 1.412872e-04 | 114 | cl_epi_basal_vs_epi_rest_limma_DEGs_20200423 THAP11_C | <!----> | <!----> | 5 |\n",
       "| 6 | cl_epi_basal_vs_epi_rest_limma_DEGs_20200423 | RFX5_AA  | 4.203369 | 2.629717e-05 | 1.575553e-04 |  11 | cl_epi_basal_vs_epi_rest_limma_DEGs_20200423 RFX5_AA  | <!----> | <!----> | 6 |\n",
       "\n"
      ],
      "text/plain": [
       "  cl_name                                      Regulon  NES      p.value     \n",
       "1 cl_epi_basal_vs_epi_rest_limma_DEGs_20200423 SMAD7_B  6.608119 3.892325e-11\n",
       "2 cl_epi_basal_vs_epi_rest_limma_DEGs_20200423 ZBTB7A_C 5.427291 5.721575e-08\n",
       "3 cl_epi_basal_vs_epi_rest_limma_DEGs_20200423 MKX_E    4.783607 1.721773e-06\n",
       "4 cl_epi_basal_vs_epi_rest_limma_DEGs_20200423 MNT_C    4.624174 3.760938e-06\n",
       "5 cl_epi_basal_vs_epi_rest_limma_DEGs_20200423 THAP11_C 4.229917 2.337772e-05\n",
       "6 cl_epi_basal_vs_epi_rest_limma_DEGs_20200423 RFX5_AA  4.203369 2.629717e-05\n",
       "  FDR          Size id                                                    label\n",
       "1 5.281350e-10  14  cl_epi_basal_vs_epi_rest_limma_DEGs_20200423 SMAD7_B       \n",
       "2 5.209644e-07  90  cl_epi_basal_vs_epi_rest_limma_DEGs_20200423 ZBTB7A_C      \n",
       "3 1.234680e-05 189  cl_epi_basal_vs_epi_rest_limma_DEGs_20200423 MKX_E         \n",
       "4 2.602569e-05  56  cl_epi_basal_vs_epi_rest_limma_DEGs_20200423 MNT_C         \n",
       "5 1.412872e-04 114  cl_epi_basal_vs_epi_rest_limma_DEGs_20200423 THAP11_C      \n",
       "6 1.575553e-04  11  cl_epi_basal_vs_epi_rest_limma_DEGs_20200423 RFX5_AA       \n",
       "  value rank\n",
       "1       1   \n",
       "2       2   \n",
       "3       3   \n",
       "4       4   \n",
       "5       5   \n",
       "6       6   "
      ]
     },
     "metadata": {},
     "output_type": "display_data"
    },
    {
     "data": {
      "text/html": [
       "<style>\n",
       ".list-inline {list-style: none; margin:0; padding: 0}\n",
       ".list-inline>li {display: inline-block}\n",
       ".list-inline>li:not(:last-child)::after {content: \"\\00b7\"; padding: 0 .5ex}\n",
       "</style>\n",
       "<ol class=list-inline><li>'cl_epi_basal_vs_epi_rest_limma_DEGs_20200423'</li><li>'cl_epi_glandular_vs_epi_rest_limma_DEGs_20200423'</li><li>'cl_epi_luminal_vs_epi_rest_limma_DEGs_20200423'</li></ol>\n"
      ],
      "text/latex": [
       "\\begin{enumerate*}\n",
       "\\item 'cl\\_epi\\_basal\\_vs\\_epi\\_rest\\_limma\\_DEGs\\_20200423'\n",
       "\\item 'cl\\_epi\\_glandular\\_vs\\_epi\\_rest\\_limma\\_DEGs\\_20200423'\n",
       "\\item 'cl\\_epi\\_luminal\\_vs\\_epi\\_rest\\_limma\\_DEGs\\_20200423'\n",
       "\\end{enumerate*}\n"
      ],
      "text/markdown": [
       "1. 'cl_epi_basal_vs_epi_rest_limma_DEGs_20200423'\n",
       "2. 'cl_epi_glandular_vs_epi_rest_limma_DEGs_20200423'\n",
       "3. 'cl_epi_luminal_vs_epi_rest_limma_DEGs_20200423'\n",
       "\n",
       "\n"
      ],
      "text/plain": [
       "[1] \"cl_epi_basal_vs_epi_rest_limma_DEGs_20200423\"    \n",
       "[2] \"cl_epi_glandular_vs_epi_rest_limma_DEGs_20200423\"\n",
       "[3] \"cl_epi_luminal_vs_epi_rest_limma_DEGs_20200423\"  "
      ]
     },
     "metadata": {},
     "output_type": "display_data"
    }
   ],
   "source": [
    "# Rank TFs according to their activity\n",
    "TF_activities = TF_activities[order(TF_activities$NES, decreasing = T), ]\n",
    "TF_activities = ddply(TF_activities, 'cl_name', function(df) data.frame(df, rank = 1:nrow(df)) )\n",
    "head(TF_activities)\n",
    "unique(TF_activities$cl_name)"
   ]
  },
  {
   "cell_type": "code",
   "execution_count": 35,
   "metadata": {},
   "outputs": [],
   "source": [
    "# order clusters\n",
    "TF_activities = rbind(subset(TF_activities, cl_name %in% 'cl_epi_luminal_vs_epi_rest_limma_DEGs_20200423'),\n",
    "                      subset(TF_activities, cl_name %in% 'cl_epi_glandular_vs_epi_rest_limma_DEGs_20200423'),\n",
    "                     subset(TF_activities, cl_name %in% 'cl_epi_basal_vs_epi_rest_limma_DEGs_20200423'))"
   ]
  },
  {
   "cell_type": "code",
   "execution_count": 36,
   "metadata": {},
   "outputs": [
    {
     "data": {
      "text/html": [
       "<table>\n",
       "<caption>A data.frame: 6 × 10</caption>\n",
       "<thead>\n",
       "\t<tr><th></th><th scope=col>cl_name</th><th scope=col>Regulon</th><th scope=col>NES</th><th scope=col>p.value</th><th scope=col>FDR</th><th scope=col>Size</th><th scope=col>id</th><th scope=col>label</th><th scope=col>value</th><th scope=col>rank</th></tr>\n",
       "\t<tr><th></th><th scope=col>&lt;chr&gt;</th><th scope=col>&lt;chr&gt;</th><th scope=col>&lt;dbl&gt;</th><th scope=col>&lt;dbl&gt;</th><th scope=col>&lt;dbl&gt;</th><th scope=col>&lt;int&gt;</th><th scope=col>&lt;chr&gt;</th><th scope=col>&lt;chr&gt;</th><th scope=col>&lt;chr&gt;</th><th scope=col>&lt;int&gt;</th></tr>\n",
       "</thead>\n",
       "<tbody>\n",
       "\t<tr><th scope=row>208</th><td>cl_epi_luminal_vs_epi_rest_limma_DEGs_20200423</td><td>RFX8_E  </td><td>5.402977</td><td>6.554399e-08</td><td>9.754073e-07</td><td>173</td><td>cl_epi_luminal_vs_epi_rest_limma_DEGs_20200423 RFX8_E  </td><td></td><td></td><td>1</td></tr>\n",
       "\t<tr><th scope=row>209</th><td>cl_epi_luminal_vs_epi_rest_limma_DEGs_20200423</td><td>ZSCAN1_E</td><td>4.955873</td><td>7.200627e-07</td><td>8.897918e-06</td><td>119</td><td>cl_epi_luminal_vs_epi_rest_limma_DEGs_20200423 ZSCAN1_E</td><td></td><td></td><td>2</td></tr>\n",
       "\t<tr><th scope=row>210</th><td>cl_epi_luminal_vs_epi_rest_limma_DEGs_20200423</td><td>HOXC11_D</td><td>4.620891</td><td>3.820947e-06</td><td>4.036787e-05</td><td>  8</td><td>cl_epi_luminal_vs_epi_rest_limma_DEGs_20200423 HOXC11_D</td><td></td><td></td><td>3</td></tr>\n",
       "\t<tr><th scope=row>211</th><td>cl_epi_luminal_vs_epi_rest_limma_DEGs_20200423</td><td>HOXC4_E </td><td>4.146294</td><td>3.378998e-05</td><td>2.710421e-04</td><td> 68</td><td>cl_epi_luminal_vs_epi_rest_limma_DEGs_20200423 HOXC4_E </td><td></td><td></td><td>4</td></tr>\n",
       "\t<tr><th scope=row>212</th><td>cl_epi_luminal_vs_epi_rest_limma_DEGs_20200423</td><td>GLI1_B  </td><td>4.105610</td><td>4.032498e-05</td><td>3.171010e-04</td><td> 55</td><td>cl_epi_luminal_vs_epi_rest_limma_DEGs_20200423 GLI1_B  </td><td></td><td></td><td>5</td></tr>\n",
       "\t<tr><th scope=row>213</th><td>cl_epi_luminal_vs_epi_rest_limma_DEGs_20200423</td><td>FOXF1_E </td><td>3.789237</td><td>1.511110e-04</td><td>1.089258e-03</td><td>192</td><td>cl_epi_luminal_vs_epi_rest_limma_DEGs_20200423 FOXF1_E </td><td></td><td></td><td>6</td></tr>\n",
       "</tbody>\n",
       "</table>\n"
      ],
      "text/latex": [
       "A data.frame: 6 × 10\n",
       "\\begin{tabular}{r|llllllllll}\n",
       "  & cl\\_name & Regulon & NES & p.value & FDR & Size & id & label & value & rank\\\\\n",
       "  & <chr> & <chr> & <dbl> & <dbl> & <dbl> & <int> & <chr> & <chr> & <chr> & <int>\\\\\n",
       "\\hline\n",
       "\t208 & cl\\_epi\\_luminal\\_vs\\_epi\\_rest\\_limma\\_DEGs\\_20200423 & RFX8\\_E   & 5.402977 & 6.554399e-08 & 9.754073e-07 & 173 & cl\\_epi\\_luminal\\_vs\\_epi\\_rest\\_limma\\_DEGs\\_20200423 RFX8\\_E   &  &  & 1\\\\\n",
       "\t209 & cl\\_epi\\_luminal\\_vs\\_epi\\_rest\\_limma\\_DEGs\\_20200423 & ZSCAN1\\_E & 4.955873 & 7.200627e-07 & 8.897918e-06 & 119 & cl\\_epi\\_luminal\\_vs\\_epi\\_rest\\_limma\\_DEGs\\_20200423 ZSCAN1\\_E &  &  & 2\\\\\n",
       "\t210 & cl\\_epi\\_luminal\\_vs\\_epi\\_rest\\_limma\\_DEGs\\_20200423 & HOXC11\\_D & 4.620891 & 3.820947e-06 & 4.036787e-05 &   8 & cl\\_epi\\_luminal\\_vs\\_epi\\_rest\\_limma\\_DEGs\\_20200423 HOXC11\\_D &  &  & 3\\\\\n",
       "\t211 & cl\\_epi\\_luminal\\_vs\\_epi\\_rest\\_limma\\_DEGs\\_20200423 & HOXC4\\_E  & 4.146294 & 3.378998e-05 & 2.710421e-04 &  68 & cl\\_epi\\_luminal\\_vs\\_epi\\_rest\\_limma\\_DEGs\\_20200423 HOXC4\\_E  &  &  & 4\\\\\n",
       "\t212 & cl\\_epi\\_luminal\\_vs\\_epi\\_rest\\_limma\\_DEGs\\_20200423 & GLI1\\_B   & 4.105610 & 4.032498e-05 & 3.171010e-04 &  55 & cl\\_epi\\_luminal\\_vs\\_epi\\_rest\\_limma\\_DEGs\\_20200423 GLI1\\_B   &  &  & 5\\\\\n",
       "\t213 & cl\\_epi\\_luminal\\_vs\\_epi\\_rest\\_limma\\_DEGs\\_20200423 & FOXF1\\_E  & 3.789237 & 1.511110e-04 & 1.089258e-03 & 192 & cl\\_epi\\_luminal\\_vs\\_epi\\_rest\\_limma\\_DEGs\\_20200423 FOXF1\\_E  &  &  & 6\\\\\n",
       "\\end{tabular}\n"
      ],
      "text/markdown": [
       "\n",
       "A data.frame: 6 × 10\n",
       "\n",
       "| <!--/--> | cl_name &lt;chr&gt; | Regulon &lt;chr&gt; | NES &lt;dbl&gt; | p.value &lt;dbl&gt; | FDR &lt;dbl&gt; | Size &lt;int&gt; | id &lt;chr&gt; | label &lt;chr&gt; | value &lt;chr&gt; | rank &lt;int&gt; |\n",
       "|---|---|---|---|---|---|---|---|---|---|---|\n",
       "| 208 | cl_epi_luminal_vs_epi_rest_limma_DEGs_20200423 | RFX8_E   | 5.402977 | 6.554399e-08 | 9.754073e-07 | 173 | cl_epi_luminal_vs_epi_rest_limma_DEGs_20200423 RFX8_E   | <!----> | <!----> | 1 |\n",
       "| 209 | cl_epi_luminal_vs_epi_rest_limma_DEGs_20200423 | ZSCAN1_E | 4.955873 | 7.200627e-07 | 8.897918e-06 | 119 | cl_epi_luminal_vs_epi_rest_limma_DEGs_20200423 ZSCAN1_E | <!----> | <!----> | 2 |\n",
       "| 210 | cl_epi_luminal_vs_epi_rest_limma_DEGs_20200423 | HOXC11_D | 4.620891 | 3.820947e-06 | 4.036787e-05 |   8 | cl_epi_luminal_vs_epi_rest_limma_DEGs_20200423 HOXC11_D | <!----> | <!----> | 3 |\n",
       "| 211 | cl_epi_luminal_vs_epi_rest_limma_DEGs_20200423 | HOXC4_E  | 4.146294 | 3.378998e-05 | 2.710421e-04 |  68 | cl_epi_luminal_vs_epi_rest_limma_DEGs_20200423 HOXC4_E  | <!----> | <!----> | 4 |\n",
       "| 212 | cl_epi_luminal_vs_epi_rest_limma_DEGs_20200423 | GLI1_B   | 4.105610 | 4.032498e-05 | 3.171010e-04 |  55 | cl_epi_luminal_vs_epi_rest_limma_DEGs_20200423 GLI1_B   | <!----> | <!----> | 5 |\n",
       "| 213 | cl_epi_luminal_vs_epi_rest_limma_DEGs_20200423 | FOXF1_E  | 3.789237 | 1.511110e-04 | 1.089258e-03 | 192 | cl_epi_luminal_vs_epi_rest_limma_DEGs_20200423 FOXF1_E  | <!----> | <!----> | 6 |\n",
       "\n"
      ],
      "text/plain": [
       "    cl_name                                        Regulon  NES     \n",
       "208 cl_epi_luminal_vs_epi_rest_limma_DEGs_20200423 RFX8_E   5.402977\n",
       "209 cl_epi_luminal_vs_epi_rest_limma_DEGs_20200423 ZSCAN1_E 4.955873\n",
       "210 cl_epi_luminal_vs_epi_rest_limma_DEGs_20200423 HOXC11_D 4.620891\n",
       "211 cl_epi_luminal_vs_epi_rest_limma_DEGs_20200423 HOXC4_E  4.146294\n",
       "212 cl_epi_luminal_vs_epi_rest_limma_DEGs_20200423 GLI1_B   4.105610\n",
       "213 cl_epi_luminal_vs_epi_rest_limma_DEGs_20200423 FOXF1_E  3.789237\n",
       "    p.value      FDR          Size\n",
       "208 6.554399e-08 9.754073e-07 173 \n",
       "209 7.200627e-07 8.897918e-06 119 \n",
       "210 3.820947e-06 4.036787e-05   8 \n",
       "211 3.378998e-05 2.710421e-04  68 \n",
       "212 4.032498e-05 3.171010e-04  55 \n",
       "213 1.511110e-04 1.089258e-03 192 \n",
       "    id                                                      label value rank\n",
       "208 cl_epi_luminal_vs_epi_rest_limma_DEGs_20200423 RFX8_E               1   \n",
       "209 cl_epi_luminal_vs_epi_rest_limma_DEGs_20200423 ZSCAN1_E             2   \n",
       "210 cl_epi_luminal_vs_epi_rest_limma_DEGs_20200423 HOXC11_D             3   \n",
       "211 cl_epi_luminal_vs_epi_rest_limma_DEGs_20200423 HOXC4_E              4   \n",
       "212 cl_epi_luminal_vs_epi_rest_limma_DEGs_20200423 GLI1_B               5   \n",
       "213 cl_epi_luminal_vs_epi_rest_limma_DEGs_20200423 FOXF1_E              6   "
      ]
     },
     "metadata": {},
     "output_type": "display_data"
    }
   ],
   "source": [
    "head(TF_activities)\n",
    "TFs = read.csv('data/scenic/huTF_census.txt', stringsAsFactors = F, header = F)$V1"
   ]
  },
  {
   "cell_type": "code",
   "execution_count": 37,
   "metadata": {},
   "outputs": [],
   "source": [
    "# Select top 10 ranked genes\n",
    "TF_activities$Gene = sapply(strsplit(TF_activities$Regulon, '_'), head, 1)\n",
    "top30 = subset(TF_activities, rank %in% 1:30 & NES > 0)$Gene"
   ]
  },
  {
   "cell_type": "code",
   "execution_count": 38,
   "metadata": {},
   "outputs": [
    {
     "data": {
      "text/html": [
       "<style>\n",
       ".list-inline {list-style: none; margin:0; padding: 0}\n",
       ".list-inline>li {display: inline-block}\n",
       ".list-inline>li:not(:last-child)::after {content: \"\\00b7\"; padding: 0 .5ex}\n",
       "</style>\n",
       "<ol class=list-inline><li>'cl_epi_basal_vs_epi_rest_limma_DEGs_20200423'</li><li>'cl_epi_glandular_vs_epi_rest_limma_DEGs_20200423'</li><li>'cl_epi_luminal_vs_epi_rest_limma_DEGs_20200423'</li></ol>\n"
      ],
      "text/latex": [
       "\\begin{enumerate*}\n",
       "\\item 'cl\\_epi\\_basal\\_vs\\_epi\\_rest\\_limma\\_DEGs\\_20200423'\n",
       "\\item 'cl\\_epi\\_glandular\\_vs\\_epi\\_rest\\_limma\\_DEGs\\_20200423'\n",
       "\\item 'cl\\_epi\\_luminal\\_vs\\_epi\\_rest\\_limma\\_DEGs\\_20200423'\n",
       "\\end{enumerate*}\n"
      ],
      "text/markdown": [
       "1. 'cl_epi_basal_vs_epi_rest_limma_DEGs_20200423'\n",
       "2. 'cl_epi_glandular_vs_epi_rest_limma_DEGs_20200423'\n",
       "3. 'cl_epi_luminal_vs_epi_rest_limma_DEGs_20200423'\n",
       "\n",
       "\n"
      ],
      "text/plain": [
       "[1] \"cl_epi_basal_vs_epi_rest_limma_DEGs_20200423\"    \n",
       "[2] \"cl_epi_glandular_vs_epi_rest_limma_DEGs_20200423\"\n",
       "[3] \"cl_epi_luminal_vs_epi_rest_limma_DEGs_20200423\"  "
      ]
     },
     "metadata": {},
     "output_type": "display_data"
    }
   ],
   "source": [
    "# build matrix of TF activity scores to plot\n",
    "TF_activities$value = TF_activities$NES\n",
    "x = acast(subset(TF_activities, Gene %in% top30), Gene~cl_name, fill = 0)\n",
    "colnames(x)"
   ]
  },
  {
   "cell_type": "code",
   "execution_count": 39,
   "metadata": {},
   "outputs": [],
   "source": [
    "x = x[, c(3, 2, 1) ]\n",
    "colnames(x) = c('luminal',  'glandular', 'basal')\n",
    "pheatmap(t(x[ top30, ]), cellheight = 10, cellwidth = 10, cluster_rows = F, cluster_cols = F, \n",
    "         color = colorRampPalette(c(brewer.pal(n = 5, name = 'Blues')[4], \"white\", brewer.pal(n = 5, name = 'Reds')[4]))(50),\n",
    "        filename = 'data/spatial/DEGs/top30_TFs_activities.pdf')\n"
   ]
  },
  {
   "cell_type": "code",
   "execution_count": 40,
   "metadata": {},
   "outputs": [
    {
     "ename": "ERROR",
     "evalue": "Error in x[c(\"GLI1\", \"FOXJ1\", \"FOSL2\", \"HIF1A\", \"CSRNP1\", \"FOXO3\", \"HEY1\", : subscript out of bounds\n",
     "output_type": "error",
     "traceback": [
      "Error in x[c(\"GLI1\", \"FOXJ1\", \"FOSL2\", \"HIF1A\", \"CSRNP1\", \"FOXO3\", \"HEY1\", : subscript out of bounds\nTraceback:\n",
      "1. pheatmap(t(x[c(\"GLI1\", \"FOXJ1\", \"FOSL2\", \"HIF1A\", \"CSRNP1\", \"FOXO3\", \n .     \"HEY1\", \"ELF1\", \"CEBPD\"), ]), cellheight = 10, cellwidth = 10, \n .     cluster_rows = F, cluster_cols = F, color = colorRampPalette(c(brewer.pal(n = 5, \n .         name = \"Blues\")[4], \"white\", brewer.pal(n = 5, name = \"Reds\")[4]))(50), \n .     filename = \"data/spatial/DEGs/selected_TFs_activities.pdf\")",
      "2. rownames(mat)",
      "3. t(x[c(\"GLI1\", \"FOXJ1\", \"FOSL2\", \"HIF1A\", \"CSRNP1\", \"FOXO3\", \"HEY1\", \n .     \"ELF1\", \"CEBPD\"), ])"
     ]
    }
   ],
   "source": [
    "pheatmap(t(x[ c('GLI1', 'FOXJ1', 'FOSL2', 'HIF1A', 'CSRNP1', 'FOXO3', 'HEY1', 'ELF1', 'CEBPD') , ]), cellheight = 10, cellwidth = 10, cluster_rows = F, cluster_cols = F,\n",
    "         color = colorRampPalette(c(brewer.pal(n = 5, name = 'Blues')[4], \"white\", brewer.pal(n = 5, name = 'Reds')[4]))(50),\n",
    "        filename = 'data/spatial/DEGs/selected_TFs_activities.pdf')"
   ]
  },
  {
   "cell_type": "markdown",
   "metadata": {},
   "source": [
    "# Plot top 10 active TFs - matching expression"
   ]
  },
  {
   "cell_type": "code",
   "execution_count": 19,
   "metadata": {},
   "outputs": [],
   "source": [
    "default_TF_activities = TF_activities"
   ]
  },
  {
   "cell_type": "code",
   "execution_count": 20,
   "metadata": {},
   "outputs": [],
   "source": [
    "TF_activities = subset(TF_activities, label != '')"
   ]
  },
  {
   "cell_type": "code",
   "execution_count": 21,
   "metadata": {},
   "outputs": [
    {
     "data": {
      "text/html": [
       "<table>\n",
       "<caption>A data.frame: 6 × 11</caption>\n",
       "<thead>\n",
       "\t<tr><th></th><th scope=col>cl_name</th><th scope=col>Regulon</th><th scope=col>NES</th><th scope=col>p.value</th><th scope=col>FDR</th><th scope=col>Size</th><th scope=col>id</th><th scope=col>label</th><th scope=col>value</th><th scope=col>Gene</th><th scope=col>rank</th></tr>\n",
       "\t<tr><th></th><th scope=col>&lt;chr&gt;</th><th scope=col>&lt;chr&gt;</th><th scope=col>&lt;dbl&gt;</th><th scope=col>&lt;dbl&gt;</th><th scope=col>&lt;dbl&gt;</th><th scope=col>&lt;int&gt;</th><th scope=col>&lt;chr&gt;</th><th scope=col>&lt;chr&gt;</th><th scope=col>&lt;dbl&gt;</th><th scope=col>&lt;chr&gt;</th><th scope=col>&lt;int&gt;</th></tr>\n",
       "</thead>\n",
       "<tbody>\n",
       "\t<tr><th scope=row>1</th><td>cl_epi_basal_vs_epi_rest_limma_DEGs_20200423    </td><td>SNAPC4_C</td><td>-3.178725</td><td>1.479241e-03</td><td>5.986169e-03</td><td>30</td><td>cl_epi_basal_vs_epi_rest_limma_DEGs_20200423 SNAPC4_C    </td><td>-</td><td>-3.178725</td><td>SNAPC4</td><td>1</td></tr>\n",
       "\t<tr><th scope=row>2</th><td>cl_epi_glandular_vs_epi_rest_limma_DEGs_20200423</td><td>HIF1A_AA</td><td> 4.971304</td><td>6.650424e-07</td><td>3.638018e-06</td><td>59</td><td>cl_epi_glandular_vs_epi_rest_limma_DEGs_20200423 HIF1A_AA</td><td>+</td><td> 4.971304</td><td>HIF1A </td><td>1</td></tr>\n",
       "\t<tr><th scope=row>3</th><td>cl_epi_glandular_vs_epi_rest_limma_DEGs_20200423</td><td>NFE2L1_B</td><td> 3.710300</td><td>2.070142e-04</td><td>7.327560e-04</td><td>25</td><td>cl_epi_glandular_vs_epi_rest_limma_DEGs_20200423 NFE2L1_B</td><td>+</td><td> 3.710300</td><td>NFE2L1</td><td>2</td></tr>\n",
       "\t<tr><th scope=row>4</th><td>cl_epi_glandular_vs_epi_rest_limma_DEGs_20200423</td><td>FOXO3_AA</td><td> 3.584532</td><td>3.376827e-04</td><td>1.151115e-03</td><td>19</td><td>cl_epi_glandular_vs_epi_rest_limma_DEGs_20200423 FOXO3_AA</td><td>+</td><td> 3.584532</td><td>FOXO3 </td><td>3</td></tr>\n",
       "\t<tr><th scope=row>5</th><td>cl_epi_glandular_vs_epi_rest_limma_DEGs_20200423</td><td>ZNF600_E</td><td> 2.857067</td><td>4.275760e-03</td><td>1.185902e-02</td><td>78</td><td>cl_epi_glandular_vs_epi_rest_limma_DEGs_20200423 ZNF600_E</td><td>+</td><td> 2.857067</td><td>ZNF600</td><td>4</td></tr>\n",
       "\t<tr><th scope=row>6</th><td>cl_epi_glandular_vs_epi_rest_limma_DEGs_20200423</td><td>TCF25_C </td><td>-2.565934</td><td>1.028984e-02</td><td>2.632372e-02</td><td>40</td><td>cl_epi_glandular_vs_epi_rest_limma_DEGs_20200423 TCF25_C </td><td>+</td><td>-2.565934</td><td>TCF25 </td><td>5</td></tr>\n",
       "</tbody>\n",
       "</table>\n"
      ],
      "text/latex": [
       "A data.frame: 6 × 11\n",
       "\\begin{tabular}{r|lllllllllll}\n",
       "  & cl\\_name & Regulon & NES & p.value & FDR & Size & id & label & value & Gene & rank\\\\\n",
       "  & <chr> & <chr> & <dbl> & <dbl> & <dbl> & <int> & <chr> & <chr> & <dbl> & <chr> & <int>\\\\\n",
       "\\hline\n",
       "\t1 & cl\\_epi\\_basal\\_vs\\_epi\\_rest\\_limma\\_DEGs\\_20200423     & SNAPC4\\_C & -3.178725 & 1.479241e-03 & 5.986169e-03 & 30 & cl\\_epi\\_basal\\_vs\\_epi\\_rest\\_limma\\_DEGs\\_20200423 SNAPC4\\_C     & - & -3.178725 & SNAPC4 & 1\\\\\n",
       "\t2 & cl\\_epi\\_glandular\\_vs\\_epi\\_rest\\_limma\\_DEGs\\_20200423 & HIF1A\\_AA &  4.971304 & 6.650424e-07 & 3.638018e-06 & 59 & cl\\_epi\\_glandular\\_vs\\_epi\\_rest\\_limma\\_DEGs\\_20200423 HIF1A\\_AA & + &  4.971304 & HIF1A  & 1\\\\\n",
       "\t3 & cl\\_epi\\_glandular\\_vs\\_epi\\_rest\\_limma\\_DEGs\\_20200423 & NFE2L1\\_B &  3.710300 & 2.070142e-04 & 7.327560e-04 & 25 & cl\\_epi\\_glandular\\_vs\\_epi\\_rest\\_limma\\_DEGs\\_20200423 NFE2L1\\_B & + &  3.710300 & NFE2L1 & 2\\\\\n",
       "\t4 & cl\\_epi\\_glandular\\_vs\\_epi\\_rest\\_limma\\_DEGs\\_20200423 & FOXO3\\_AA &  3.584532 & 3.376827e-04 & 1.151115e-03 & 19 & cl\\_epi\\_glandular\\_vs\\_epi\\_rest\\_limma\\_DEGs\\_20200423 FOXO3\\_AA & + &  3.584532 & FOXO3  & 3\\\\\n",
       "\t5 & cl\\_epi\\_glandular\\_vs\\_epi\\_rest\\_limma\\_DEGs\\_20200423 & ZNF600\\_E &  2.857067 & 4.275760e-03 & 1.185902e-02 & 78 & cl\\_epi\\_glandular\\_vs\\_epi\\_rest\\_limma\\_DEGs\\_20200423 ZNF600\\_E & + &  2.857067 & ZNF600 & 4\\\\\n",
       "\t6 & cl\\_epi\\_glandular\\_vs\\_epi\\_rest\\_limma\\_DEGs\\_20200423 & TCF25\\_C  & -2.565934 & 1.028984e-02 & 2.632372e-02 & 40 & cl\\_epi\\_glandular\\_vs\\_epi\\_rest\\_limma\\_DEGs\\_20200423 TCF25\\_C  & + & -2.565934 & TCF25  & 5\\\\\n",
       "\\end{tabular}\n"
      ],
      "text/markdown": [
       "\n",
       "A data.frame: 6 × 11\n",
       "\n",
       "| <!--/--> | cl_name &lt;chr&gt; | Regulon &lt;chr&gt; | NES &lt;dbl&gt; | p.value &lt;dbl&gt; | FDR &lt;dbl&gt; | Size &lt;int&gt; | id &lt;chr&gt; | label &lt;chr&gt; | value &lt;dbl&gt; | Gene &lt;chr&gt; | rank &lt;int&gt; |\n",
       "|---|---|---|---|---|---|---|---|---|---|---|---|\n",
       "| 1 | cl_epi_basal_vs_epi_rest_limma_DEGs_20200423     | SNAPC4_C | -3.178725 | 1.479241e-03 | 5.986169e-03 | 30 | cl_epi_basal_vs_epi_rest_limma_DEGs_20200423 SNAPC4_C     | - | -3.178725 | SNAPC4 | 1 |\n",
       "| 2 | cl_epi_glandular_vs_epi_rest_limma_DEGs_20200423 | HIF1A_AA |  4.971304 | 6.650424e-07 | 3.638018e-06 | 59 | cl_epi_glandular_vs_epi_rest_limma_DEGs_20200423 HIF1A_AA | + |  4.971304 | HIF1A  | 1 |\n",
       "| 3 | cl_epi_glandular_vs_epi_rest_limma_DEGs_20200423 | NFE2L1_B |  3.710300 | 2.070142e-04 | 7.327560e-04 | 25 | cl_epi_glandular_vs_epi_rest_limma_DEGs_20200423 NFE2L1_B | + |  3.710300 | NFE2L1 | 2 |\n",
       "| 4 | cl_epi_glandular_vs_epi_rest_limma_DEGs_20200423 | FOXO3_AA |  3.584532 | 3.376827e-04 | 1.151115e-03 | 19 | cl_epi_glandular_vs_epi_rest_limma_DEGs_20200423 FOXO3_AA | + |  3.584532 | FOXO3  | 3 |\n",
       "| 5 | cl_epi_glandular_vs_epi_rest_limma_DEGs_20200423 | ZNF600_E |  2.857067 | 4.275760e-03 | 1.185902e-02 | 78 | cl_epi_glandular_vs_epi_rest_limma_DEGs_20200423 ZNF600_E | + |  2.857067 | ZNF600 | 4 |\n",
       "| 6 | cl_epi_glandular_vs_epi_rest_limma_DEGs_20200423 | TCF25_C  | -2.565934 | 1.028984e-02 | 2.632372e-02 | 40 | cl_epi_glandular_vs_epi_rest_limma_DEGs_20200423 TCF25_C  | + | -2.565934 | TCF25  | 5 |\n",
       "\n"
      ],
      "text/plain": [
       "  cl_name                                          Regulon  NES      \n",
       "1 cl_epi_basal_vs_epi_rest_limma_DEGs_20200423     SNAPC4_C -3.178725\n",
       "2 cl_epi_glandular_vs_epi_rest_limma_DEGs_20200423 HIF1A_AA  4.971304\n",
       "3 cl_epi_glandular_vs_epi_rest_limma_DEGs_20200423 NFE2L1_B  3.710300\n",
       "4 cl_epi_glandular_vs_epi_rest_limma_DEGs_20200423 FOXO3_AA  3.584532\n",
       "5 cl_epi_glandular_vs_epi_rest_limma_DEGs_20200423 ZNF600_E  2.857067\n",
       "6 cl_epi_glandular_vs_epi_rest_limma_DEGs_20200423 TCF25_C  -2.565934\n",
       "  p.value      FDR          Size\n",
       "1 1.479241e-03 5.986169e-03 30  \n",
       "2 6.650424e-07 3.638018e-06 59  \n",
       "3 2.070142e-04 7.327560e-04 25  \n",
       "4 3.376827e-04 1.151115e-03 19  \n",
       "5 4.275760e-03 1.185902e-02 78  \n",
       "6 1.028984e-02 2.632372e-02 40  \n",
       "  id                                                        label value    \n",
       "1 cl_epi_basal_vs_epi_rest_limma_DEGs_20200423 SNAPC4_C     -     -3.178725\n",
       "2 cl_epi_glandular_vs_epi_rest_limma_DEGs_20200423 HIF1A_AA +      4.971304\n",
       "3 cl_epi_glandular_vs_epi_rest_limma_DEGs_20200423 NFE2L1_B +      3.710300\n",
       "4 cl_epi_glandular_vs_epi_rest_limma_DEGs_20200423 FOXO3_AA +      3.584532\n",
       "5 cl_epi_glandular_vs_epi_rest_limma_DEGs_20200423 ZNF600_E +      2.857067\n",
       "6 cl_epi_glandular_vs_epi_rest_limma_DEGs_20200423 TCF25_C  +     -2.565934\n",
       "  Gene   rank\n",
       "1 SNAPC4 1   \n",
       "2 HIF1A  1   \n",
       "3 NFE2L1 2   \n",
       "4 FOXO3  3   \n",
       "5 ZNF600 4   \n",
       "6 TCF25  5   "
      ]
     },
     "metadata": {},
     "output_type": "display_data"
    }
   ],
   "source": [
    "# Rank TFs according to their activity\n",
    "TF_activities = TF_activities[order(TF_activities$NES, decreasing = T), ]\n",
    "TF_activities$rank = NULL\n",
    "TF_activities = ddply(TF_activities, 'cl_name', function(df) data.frame(df, rank = 1:nrow(df)) )\n",
    "head(TF_activities)"
   ]
  },
  {
   "cell_type": "code",
   "execution_count": 22,
   "metadata": {},
   "outputs": [],
   "source": [
    "# order clusters\n",
    "TF_activities = rbind(subset(TF_activities, cl_name %in% 'cl_epi_luminal_vs_epi_rest_limma_DEGs_20200423'),\n",
    "                      subset(TF_activities, cl_name %in% 'cl_epi_glandular_vs_epi_rest_limma_DEGs_20200423'),\n",
    "                     subset(TF_activities, cl_name %in% 'cl_epi_basal_vs_epi_rest_limma_DEGs_20200423'))"
   ]
  },
  {
   "cell_type": "code",
   "execution_count": 23,
   "metadata": {},
   "outputs": [],
   "source": [
    "# Select top 10 ranked genes\n",
    "TF_activities$Gene = sapply(strsplit(TF_activities$Regulon, '_'), head, 1)\n",
    "top30 = subset(TF_activities, rank %in% 1:30 & NES > 0)$Gene"
   ]
  },
  {
   "cell_type": "code",
   "execution_count": 24,
   "metadata": {},
   "outputs": [
    {
     "data": {
      "text/html": [
       "<style>\n",
       ".list-inline {list-style: none; margin:0; padding: 0}\n",
       ".list-inline>li {display: inline-block}\n",
       ".list-inline>li:not(:last-child)::after {content: \"\\00b7\"; padding: 0 .5ex}\n",
       "</style>\n",
       "<ol class=list-inline><li>'cl_epi_glandular_vs_epi_rest_limma_DEGs_20200423'</li><li>'cl_epi_luminal_vs_epi_rest_limma_DEGs_20200423'</li></ol>\n"
      ],
      "text/latex": [
       "\\begin{enumerate*}\n",
       "\\item 'cl\\_epi\\_glandular\\_vs\\_epi\\_rest\\_limma\\_DEGs\\_20200423'\n",
       "\\item 'cl\\_epi\\_luminal\\_vs\\_epi\\_rest\\_limma\\_DEGs\\_20200423'\n",
       "\\end{enumerate*}\n"
      ],
      "text/markdown": [
       "1. 'cl_epi_glandular_vs_epi_rest_limma_DEGs_20200423'\n",
       "2. 'cl_epi_luminal_vs_epi_rest_limma_DEGs_20200423'\n",
       "\n",
       "\n"
      ],
      "text/plain": [
       "[1] \"cl_epi_glandular_vs_epi_rest_limma_DEGs_20200423\"\n",
       "[2] \"cl_epi_luminal_vs_epi_rest_limma_DEGs_20200423\"  "
      ]
     },
     "metadata": {},
     "output_type": "display_data"
    }
   ],
   "source": [
    "# build matrix of TF activity scores to plot\n",
    "TF_activities$value = TF_activities$NES\n",
    "x = acast(subset(TF_activities, Gene %in% top30), Gene~cl_name, fill = 0)\n",
    "colnames(x) "
   ]
  },
  {
   "cell_type": "code",
   "execution_count": 25,
   "metadata": {},
   "outputs": [],
   "source": [
    "x = x[, c(2, 1) ]\n",
    "colnames(x) = c('luminal',  'glandular')\n",
    "pheatmap(t(x[ top30, ]), cellheight = 10, cellwidth = 10, cluster_rows = F, cluster_cols = F, \n",
    "         color = colorRampPalette(c(brewer.pal(n = 5, name = 'Blues')[4], \"white\", brewer.pal(n = 5, name = 'Reds')[4]))(50),\n",
    "        filename = 'data/spatial/DEGs/top30_TFs_activities_filtered_TFisDE.pdf')\n"
   ]
  },
  {
   "cell_type": "markdown",
   "metadata": {},
   "source": [
    "# Plot top 10 active TFs - curated TFs - confidence AA, A, B"
   ]
  },
  {
   "cell_type": "code",
   "execution_count": 26,
   "metadata": {},
   "outputs": [],
   "source": [
    "TF_activities = default_TF_activities[ grep('_E$', default_TF_activities$Regulon, invert = T) , ]\n",
    "TF_activities = TF_activities[ grep('_D$', TF_activities$Regulon, invert = T) , ]\n",
    "TF_activities = TF_activities[ grep('_C$', TF_activities$Regulon, invert = T) , ]"
   ]
  },
  {
   "cell_type": "code",
   "execution_count": 27,
   "metadata": {},
   "outputs": [
    {
     "data": {
      "text/html": [
       "<table>\n",
       "<caption>A data.frame: 6 × 11</caption>\n",
       "<thead>\n",
       "\t<tr><th></th><th scope=col>cl_name</th><th scope=col>Regulon</th><th scope=col>NES</th><th scope=col>p.value</th><th scope=col>FDR</th><th scope=col>Size</th><th scope=col>id</th><th scope=col>label</th><th scope=col>value</th><th scope=col>Gene</th><th scope=col>rank</th></tr>\n",
       "\t<tr><th></th><th scope=col>&lt;chr&gt;</th><th scope=col>&lt;chr&gt;</th><th scope=col>&lt;dbl&gt;</th><th scope=col>&lt;dbl&gt;</th><th scope=col>&lt;dbl&gt;</th><th scope=col>&lt;int&gt;</th><th scope=col>&lt;chr&gt;</th><th scope=col>&lt;chr&gt;</th><th scope=col>&lt;dbl&gt;</th><th scope=col>&lt;chr&gt;</th><th scope=col>&lt;int&gt;</th></tr>\n",
       "</thead>\n",
       "<tbody>\n",
       "\t<tr><th scope=row>1</th><td>cl_epi_basal_vs_epi_rest_limma_DEGs_20200423</td><td>SMAD7_B </td><td> 6.608119</td><td>3.892325e-11</td><td>5.281350e-10</td><td>14</td><td>cl_epi_basal_vs_epi_rest_limma_DEGs_20200423 SMAD7_B </td><td></td><td> 6.608119</td><td>SMAD7</td><td>1</td></tr>\n",
       "\t<tr><th scope=row>2</th><td>cl_epi_basal_vs_epi_rest_limma_DEGs_20200423</td><td>RFX5_AA </td><td> 4.203369</td><td>2.629717e-05</td><td>1.575553e-04</td><td>11</td><td>cl_epi_basal_vs_epi_rest_limma_DEGs_20200423 RFX5_AA </td><td></td><td> 4.203369</td><td>RFX5 </td><td>2</td></tr>\n",
       "\t<tr><th scope=row>3</th><td>cl_epi_basal_vs_epi_rest_limma_DEGs_20200423</td><td>SRF_A   </td><td> 3.026489</td><td>2.474115e-03</td><td>9.215843e-03</td><td>14</td><td>cl_epi_basal_vs_epi_rest_limma_DEGs_20200423 SRF_A   </td><td></td><td> 3.026489</td><td>SRF  </td><td>3</td></tr>\n",
       "\t<tr><th scope=row>4</th><td>cl_epi_basal_vs_epi_rest_limma_DEGs_20200423</td><td>WT1_A   </td><td> 3.021510</td><td>2.515176e-03</td><td>9.332448e-03</td><td>26</td><td>cl_epi_basal_vs_epi_rest_limma_DEGs_20200423 WT1_A   </td><td></td><td> 3.021510</td><td>WT1  </td><td>4</td></tr>\n",
       "\t<tr><th scope=row>5</th><td>cl_epi_basal_vs_epi_rest_limma_DEGs_20200423</td><td>ETS1_AA </td><td> 2.544535</td><td>1.094234e-02</td><td>3.343090e-02</td><td>63</td><td>cl_epi_basal_vs_epi_rest_limma_DEGs_20200423 ETS1_AA </td><td></td><td> 2.544535</td><td>ETS1 </td><td>5</td></tr>\n",
       "\t<tr><th scope=row>6</th><td>cl_epi_basal_vs_epi_rest_limma_DEGs_20200423</td><td>STAT1_AA</td><td>-2.625432</td><td>8.653900e-03</td><td>2.734474e-02</td><td>82</td><td>cl_epi_basal_vs_epi_rest_limma_DEGs_20200423 STAT1_AA</td><td></td><td>-2.625432</td><td>STAT1</td><td>6</td></tr>\n",
       "</tbody>\n",
       "</table>\n"
      ],
      "text/latex": [
       "A data.frame: 6 × 11\n",
       "\\begin{tabular}{r|lllllllllll}\n",
       "  & cl\\_name & Regulon & NES & p.value & FDR & Size & id & label & value & Gene & rank\\\\\n",
       "  & <chr> & <chr> & <dbl> & <dbl> & <dbl> & <int> & <chr> & <chr> & <dbl> & <chr> & <int>\\\\\n",
       "\\hline\n",
       "\t1 & cl\\_epi\\_basal\\_vs\\_epi\\_rest\\_limma\\_DEGs\\_20200423 & SMAD7\\_B  &  6.608119 & 3.892325e-11 & 5.281350e-10 & 14 & cl\\_epi\\_basal\\_vs\\_epi\\_rest\\_limma\\_DEGs\\_20200423 SMAD7\\_B  &  &  6.608119 & SMAD7 & 1\\\\\n",
       "\t2 & cl\\_epi\\_basal\\_vs\\_epi\\_rest\\_limma\\_DEGs\\_20200423 & RFX5\\_AA  &  4.203369 & 2.629717e-05 & 1.575553e-04 & 11 & cl\\_epi\\_basal\\_vs\\_epi\\_rest\\_limma\\_DEGs\\_20200423 RFX5\\_AA  &  &  4.203369 & RFX5  & 2\\\\\n",
       "\t3 & cl\\_epi\\_basal\\_vs\\_epi\\_rest\\_limma\\_DEGs\\_20200423 & SRF\\_A    &  3.026489 & 2.474115e-03 & 9.215843e-03 & 14 & cl\\_epi\\_basal\\_vs\\_epi\\_rest\\_limma\\_DEGs\\_20200423 SRF\\_A    &  &  3.026489 & SRF   & 3\\\\\n",
       "\t4 & cl\\_epi\\_basal\\_vs\\_epi\\_rest\\_limma\\_DEGs\\_20200423 & WT1\\_A    &  3.021510 & 2.515176e-03 & 9.332448e-03 & 26 & cl\\_epi\\_basal\\_vs\\_epi\\_rest\\_limma\\_DEGs\\_20200423 WT1\\_A    &  &  3.021510 & WT1   & 4\\\\\n",
       "\t5 & cl\\_epi\\_basal\\_vs\\_epi\\_rest\\_limma\\_DEGs\\_20200423 & ETS1\\_AA  &  2.544535 & 1.094234e-02 & 3.343090e-02 & 63 & cl\\_epi\\_basal\\_vs\\_epi\\_rest\\_limma\\_DEGs\\_20200423 ETS1\\_AA  &  &  2.544535 & ETS1  & 5\\\\\n",
       "\t6 & cl\\_epi\\_basal\\_vs\\_epi\\_rest\\_limma\\_DEGs\\_20200423 & STAT1\\_AA & -2.625432 & 8.653900e-03 & 2.734474e-02 & 82 & cl\\_epi\\_basal\\_vs\\_epi\\_rest\\_limma\\_DEGs\\_20200423 STAT1\\_AA &  & -2.625432 & STAT1 & 6\\\\\n",
       "\\end{tabular}\n"
      ],
      "text/markdown": [
       "\n",
       "A data.frame: 6 × 11\n",
       "\n",
       "| <!--/--> | cl_name &lt;chr&gt; | Regulon &lt;chr&gt; | NES &lt;dbl&gt; | p.value &lt;dbl&gt; | FDR &lt;dbl&gt; | Size &lt;int&gt; | id &lt;chr&gt; | label &lt;chr&gt; | value &lt;dbl&gt; | Gene &lt;chr&gt; | rank &lt;int&gt; |\n",
       "|---|---|---|---|---|---|---|---|---|---|---|---|\n",
       "| 1 | cl_epi_basal_vs_epi_rest_limma_DEGs_20200423 | SMAD7_B  |  6.608119 | 3.892325e-11 | 5.281350e-10 | 14 | cl_epi_basal_vs_epi_rest_limma_DEGs_20200423 SMAD7_B  | <!----> |  6.608119 | SMAD7 | 1 |\n",
       "| 2 | cl_epi_basal_vs_epi_rest_limma_DEGs_20200423 | RFX5_AA  |  4.203369 | 2.629717e-05 | 1.575553e-04 | 11 | cl_epi_basal_vs_epi_rest_limma_DEGs_20200423 RFX5_AA  | <!----> |  4.203369 | RFX5  | 2 |\n",
       "| 3 | cl_epi_basal_vs_epi_rest_limma_DEGs_20200423 | SRF_A    |  3.026489 | 2.474115e-03 | 9.215843e-03 | 14 | cl_epi_basal_vs_epi_rest_limma_DEGs_20200423 SRF_A    | <!----> |  3.026489 | SRF   | 3 |\n",
       "| 4 | cl_epi_basal_vs_epi_rest_limma_DEGs_20200423 | WT1_A    |  3.021510 | 2.515176e-03 | 9.332448e-03 | 26 | cl_epi_basal_vs_epi_rest_limma_DEGs_20200423 WT1_A    | <!----> |  3.021510 | WT1   | 4 |\n",
       "| 5 | cl_epi_basal_vs_epi_rest_limma_DEGs_20200423 | ETS1_AA  |  2.544535 | 1.094234e-02 | 3.343090e-02 | 63 | cl_epi_basal_vs_epi_rest_limma_DEGs_20200423 ETS1_AA  | <!----> |  2.544535 | ETS1  | 5 |\n",
       "| 6 | cl_epi_basal_vs_epi_rest_limma_DEGs_20200423 | STAT1_AA | -2.625432 | 8.653900e-03 | 2.734474e-02 | 82 | cl_epi_basal_vs_epi_rest_limma_DEGs_20200423 STAT1_AA | <!----> | -2.625432 | STAT1 | 6 |\n",
       "\n"
      ],
      "text/plain": [
       "  cl_name                                      Regulon  NES       p.value     \n",
       "1 cl_epi_basal_vs_epi_rest_limma_DEGs_20200423 SMAD7_B   6.608119 3.892325e-11\n",
       "2 cl_epi_basal_vs_epi_rest_limma_DEGs_20200423 RFX5_AA   4.203369 2.629717e-05\n",
       "3 cl_epi_basal_vs_epi_rest_limma_DEGs_20200423 SRF_A     3.026489 2.474115e-03\n",
       "4 cl_epi_basal_vs_epi_rest_limma_DEGs_20200423 WT1_A     3.021510 2.515176e-03\n",
       "5 cl_epi_basal_vs_epi_rest_limma_DEGs_20200423 ETS1_AA   2.544535 1.094234e-02\n",
       "6 cl_epi_basal_vs_epi_rest_limma_DEGs_20200423 STAT1_AA -2.625432 8.653900e-03\n",
       "  FDR          Size id                                                    label\n",
       "1 5.281350e-10 14   cl_epi_basal_vs_epi_rest_limma_DEGs_20200423 SMAD7_B       \n",
       "2 1.575553e-04 11   cl_epi_basal_vs_epi_rest_limma_DEGs_20200423 RFX5_AA       \n",
       "3 9.215843e-03 14   cl_epi_basal_vs_epi_rest_limma_DEGs_20200423 SRF_A         \n",
       "4 9.332448e-03 26   cl_epi_basal_vs_epi_rest_limma_DEGs_20200423 WT1_A         \n",
       "5 3.343090e-02 63   cl_epi_basal_vs_epi_rest_limma_DEGs_20200423 ETS1_AA       \n",
       "6 2.734474e-02 82   cl_epi_basal_vs_epi_rest_limma_DEGs_20200423 STAT1_AA      \n",
       "  value     Gene  rank\n",
       "1  6.608119 SMAD7 1   \n",
       "2  4.203369 RFX5  2   \n",
       "3  3.026489 SRF   3   \n",
       "4  3.021510 WT1   4   \n",
       "5  2.544535 ETS1  5   \n",
       "6 -2.625432 STAT1 6   "
      ]
     },
     "metadata": {},
     "output_type": "display_data"
    }
   ],
   "source": [
    "# Rank TFs according to their activity\n",
    "TF_activities = TF_activities[order(TF_activities$NES, decreasing = T), ]\n",
    "TF_activities$rank = NULL\n",
    "TF_activities = ddply(TF_activities, 'cl_name', function(df) data.frame(df, rank = 1:nrow(df)) )\n",
    "head(TF_activities)"
   ]
  },
  {
   "cell_type": "code",
   "execution_count": 28,
   "metadata": {},
   "outputs": [],
   "source": [
    "# order clusters\n",
    "TF_activities = rbind(subset(TF_activities, cl_name %in% 'cl_epi_luminal_vs_epi_rest_limma_DEGs_20200423'),\n",
    "                      subset(TF_activities, cl_name %in% 'cl_epi_glandular_vs_epi_rest_limma_DEGs_20200423'),\n",
    "                     subset(TF_activities, cl_name %in% 'cl_epi_basal_vs_epi_rest_limma_DEGs_20200423'))"
   ]
  },
  {
   "cell_type": "code",
   "execution_count": 29,
   "metadata": {},
   "outputs": [],
   "source": [
    "# Select top 10 ranked genes\n",
    "TF_activities$Gene = sapply(strsplit(TF_activities$Regulon, '_'), head, 1)\n",
    "top30 = subset(TF_activities, rank %in% 1:30 & NES > 0)$Gene"
   ]
  },
  {
   "cell_type": "code",
   "execution_count": 30,
   "metadata": {},
   "outputs": [
    {
     "data": {
      "text/html": [
       "<style>\n",
       ".list-inline {list-style: none; margin:0; padding: 0}\n",
       ".list-inline>li {display: inline-block}\n",
       ".list-inline>li:not(:last-child)::after {content: \"\\00b7\"; padding: 0 .5ex}\n",
       "</style>\n",
       "<ol class=list-inline><li>'cl_epi_basal_vs_epi_rest_limma_DEGs_20200423'</li><li>'cl_epi_glandular_vs_epi_rest_limma_DEGs_20200423'</li><li>'cl_epi_luminal_vs_epi_rest_limma_DEGs_20200423'</li></ol>\n"
      ],
      "text/latex": [
       "\\begin{enumerate*}\n",
       "\\item 'cl\\_epi\\_basal\\_vs\\_epi\\_rest\\_limma\\_DEGs\\_20200423'\n",
       "\\item 'cl\\_epi\\_glandular\\_vs\\_epi\\_rest\\_limma\\_DEGs\\_20200423'\n",
       "\\item 'cl\\_epi\\_luminal\\_vs\\_epi\\_rest\\_limma\\_DEGs\\_20200423'\n",
       "\\end{enumerate*}\n"
      ],
      "text/markdown": [
       "1. 'cl_epi_basal_vs_epi_rest_limma_DEGs_20200423'\n",
       "2. 'cl_epi_glandular_vs_epi_rest_limma_DEGs_20200423'\n",
       "3. 'cl_epi_luminal_vs_epi_rest_limma_DEGs_20200423'\n",
       "\n",
       "\n"
      ],
      "text/plain": [
       "[1] \"cl_epi_basal_vs_epi_rest_limma_DEGs_20200423\"    \n",
       "[2] \"cl_epi_glandular_vs_epi_rest_limma_DEGs_20200423\"\n",
       "[3] \"cl_epi_luminal_vs_epi_rest_limma_DEGs_20200423\"  "
      ]
     },
     "metadata": {},
     "output_type": "display_data"
    }
   ],
   "source": [
    "# build matrix of TF activity scores to plot\n",
    "TF_activities$value = TF_activities$NES\n",
    "x = acast(subset(TF_activities, Gene %in% top30), Gene~cl_name, fill = 0)\n",
    "colnames(x)"
   ]
  },
  {
   "cell_type": "code",
   "execution_count": 31,
   "metadata": {},
   "outputs": [],
   "source": [
    "x = x[, c(3, 2, 1) ]\n",
    "colnames(x) = c('luminal',  'glandular', 'basal')\n",
    "pheatmap(t(x[ top30, ]), cellheight = 10, cellwidth = 10, cluster_rows = F, cluster_cols = F, \n",
    "         color = colorRampPalette(c(brewer.pal(n = 5, name = 'Blues')[4], \"white\", brewer.pal(n = 5, name = 'Reds')[4]))(50),\n",
    "        filename = 'data/spatial/DEGs/top30_TFs_activities_filtered_curatedTFs.pdf')\n"
   ]
  },
  {
   "cell_type": "markdown",
   "metadata": {},
   "source": [
    "# Plot top 10 active TFs - DE or curated"
   ]
  },
  {
   "cell_type": "code",
   "execution_count": 32,
   "metadata": {},
   "outputs": [],
   "source": [
    "idx = unique(c( which(default_TF_activities$label != ''),\n",
    "               grep('_E$', default_TF_activities$Regulon, invert = T),\n",
    "               grep('_D$', default_TF_activities$Regulon, invert = T),\n",
    "               grep('_C$', default_TF_activities$Regulon, invert = T)\n",
    "              )) %>% sort(.)\n",
    "TF_activities = default_TF_activities[ idx, ]"
   ]
  },
  {
   "cell_type": "code",
   "execution_count": 33,
   "metadata": {},
   "outputs": [
    {
     "data": {
      "text/html": [
       "<table>\n",
       "<caption>A data.frame: 6 × 11</caption>\n",
       "<thead>\n",
       "\t<tr><th></th><th scope=col>cl_name</th><th scope=col>Regulon</th><th scope=col>NES</th><th scope=col>p.value</th><th scope=col>FDR</th><th scope=col>Size</th><th scope=col>id</th><th scope=col>label</th><th scope=col>value</th><th scope=col>Gene</th><th scope=col>rank</th></tr>\n",
       "\t<tr><th></th><th scope=col>&lt;chr&gt;</th><th scope=col>&lt;chr&gt;</th><th scope=col>&lt;dbl&gt;</th><th scope=col>&lt;dbl&gt;</th><th scope=col>&lt;dbl&gt;</th><th scope=col>&lt;int&gt;</th><th scope=col>&lt;chr&gt;</th><th scope=col>&lt;chr&gt;</th><th scope=col>&lt;dbl&gt;</th><th scope=col>&lt;chr&gt;</th><th scope=col>&lt;int&gt;</th></tr>\n",
       "</thead>\n",
       "<tbody>\n",
       "\t<tr><th scope=row>1</th><td>cl_epi_basal_vs_epi_rest_limma_DEGs_20200423</td><td>SMAD7_B </td><td>6.608119</td><td>3.892325e-11</td><td>5.281350e-10</td><td> 14</td><td>cl_epi_basal_vs_epi_rest_limma_DEGs_20200423 SMAD7_B </td><td></td><td>6.608119</td><td>SMAD7 </td><td>1</td></tr>\n",
       "\t<tr><th scope=row>2</th><td>cl_epi_basal_vs_epi_rest_limma_DEGs_20200423</td><td>ZBTB7A_C</td><td>5.427291</td><td>5.721575e-08</td><td>5.209644e-07</td><td> 90</td><td>cl_epi_basal_vs_epi_rest_limma_DEGs_20200423 ZBTB7A_C</td><td></td><td>5.427291</td><td>ZBTB7A</td><td>2</td></tr>\n",
       "\t<tr><th scope=row>3</th><td>cl_epi_basal_vs_epi_rest_limma_DEGs_20200423</td><td>MKX_E   </td><td>4.783607</td><td>1.721773e-06</td><td>1.234680e-05</td><td>189</td><td>cl_epi_basal_vs_epi_rest_limma_DEGs_20200423 MKX_E   </td><td></td><td>4.783607</td><td>MKX   </td><td>3</td></tr>\n",
       "\t<tr><th scope=row>4</th><td>cl_epi_basal_vs_epi_rest_limma_DEGs_20200423</td><td>MNT_C   </td><td>4.624174</td><td>3.760938e-06</td><td>2.602569e-05</td><td> 56</td><td>cl_epi_basal_vs_epi_rest_limma_DEGs_20200423 MNT_C   </td><td></td><td>4.624174</td><td>MNT   </td><td>4</td></tr>\n",
       "\t<tr><th scope=row>5</th><td>cl_epi_basal_vs_epi_rest_limma_DEGs_20200423</td><td>THAP11_C</td><td>4.229917</td><td>2.337772e-05</td><td>1.412872e-04</td><td>114</td><td>cl_epi_basal_vs_epi_rest_limma_DEGs_20200423 THAP11_C</td><td></td><td>4.229917</td><td>THAP11</td><td>5</td></tr>\n",
       "\t<tr><th scope=row>6</th><td>cl_epi_basal_vs_epi_rest_limma_DEGs_20200423</td><td>RFX5_AA </td><td>4.203369</td><td>2.629717e-05</td><td>1.575553e-04</td><td> 11</td><td>cl_epi_basal_vs_epi_rest_limma_DEGs_20200423 RFX5_AA </td><td></td><td>4.203369</td><td>RFX5  </td><td>6</td></tr>\n",
       "</tbody>\n",
       "</table>\n"
      ],
      "text/latex": [
       "A data.frame: 6 × 11\n",
       "\\begin{tabular}{r|lllllllllll}\n",
       "  & cl\\_name & Regulon & NES & p.value & FDR & Size & id & label & value & Gene & rank\\\\\n",
       "  & <chr> & <chr> & <dbl> & <dbl> & <dbl> & <int> & <chr> & <chr> & <dbl> & <chr> & <int>\\\\\n",
       "\\hline\n",
       "\t1 & cl\\_epi\\_basal\\_vs\\_epi\\_rest\\_limma\\_DEGs\\_20200423 & SMAD7\\_B  & 6.608119 & 3.892325e-11 & 5.281350e-10 &  14 & cl\\_epi\\_basal\\_vs\\_epi\\_rest\\_limma\\_DEGs\\_20200423 SMAD7\\_B  &  & 6.608119 & SMAD7  & 1\\\\\n",
       "\t2 & cl\\_epi\\_basal\\_vs\\_epi\\_rest\\_limma\\_DEGs\\_20200423 & ZBTB7A\\_C & 5.427291 & 5.721575e-08 & 5.209644e-07 &  90 & cl\\_epi\\_basal\\_vs\\_epi\\_rest\\_limma\\_DEGs\\_20200423 ZBTB7A\\_C &  & 5.427291 & ZBTB7A & 2\\\\\n",
       "\t3 & cl\\_epi\\_basal\\_vs\\_epi\\_rest\\_limma\\_DEGs\\_20200423 & MKX\\_E    & 4.783607 & 1.721773e-06 & 1.234680e-05 & 189 & cl\\_epi\\_basal\\_vs\\_epi\\_rest\\_limma\\_DEGs\\_20200423 MKX\\_E    &  & 4.783607 & MKX    & 3\\\\\n",
       "\t4 & cl\\_epi\\_basal\\_vs\\_epi\\_rest\\_limma\\_DEGs\\_20200423 & MNT\\_C    & 4.624174 & 3.760938e-06 & 2.602569e-05 &  56 & cl\\_epi\\_basal\\_vs\\_epi\\_rest\\_limma\\_DEGs\\_20200423 MNT\\_C    &  & 4.624174 & MNT    & 4\\\\\n",
       "\t5 & cl\\_epi\\_basal\\_vs\\_epi\\_rest\\_limma\\_DEGs\\_20200423 & THAP11\\_C & 4.229917 & 2.337772e-05 & 1.412872e-04 & 114 & cl\\_epi\\_basal\\_vs\\_epi\\_rest\\_limma\\_DEGs\\_20200423 THAP11\\_C &  & 4.229917 & THAP11 & 5\\\\\n",
       "\t6 & cl\\_epi\\_basal\\_vs\\_epi\\_rest\\_limma\\_DEGs\\_20200423 & RFX5\\_AA  & 4.203369 & 2.629717e-05 & 1.575553e-04 &  11 & cl\\_epi\\_basal\\_vs\\_epi\\_rest\\_limma\\_DEGs\\_20200423 RFX5\\_AA  &  & 4.203369 & RFX5   & 6\\\\\n",
       "\\end{tabular}\n"
      ],
      "text/markdown": [
       "\n",
       "A data.frame: 6 × 11\n",
       "\n",
       "| <!--/--> | cl_name &lt;chr&gt; | Regulon &lt;chr&gt; | NES &lt;dbl&gt; | p.value &lt;dbl&gt; | FDR &lt;dbl&gt; | Size &lt;int&gt; | id &lt;chr&gt; | label &lt;chr&gt; | value &lt;dbl&gt; | Gene &lt;chr&gt; | rank &lt;int&gt; |\n",
       "|---|---|---|---|---|---|---|---|---|---|---|---|\n",
       "| 1 | cl_epi_basal_vs_epi_rest_limma_DEGs_20200423 | SMAD7_B  | 6.608119 | 3.892325e-11 | 5.281350e-10 |  14 | cl_epi_basal_vs_epi_rest_limma_DEGs_20200423 SMAD7_B  | <!----> | 6.608119 | SMAD7  | 1 |\n",
       "| 2 | cl_epi_basal_vs_epi_rest_limma_DEGs_20200423 | ZBTB7A_C | 5.427291 | 5.721575e-08 | 5.209644e-07 |  90 | cl_epi_basal_vs_epi_rest_limma_DEGs_20200423 ZBTB7A_C | <!----> | 5.427291 | ZBTB7A | 2 |\n",
       "| 3 | cl_epi_basal_vs_epi_rest_limma_DEGs_20200423 | MKX_E    | 4.783607 | 1.721773e-06 | 1.234680e-05 | 189 | cl_epi_basal_vs_epi_rest_limma_DEGs_20200423 MKX_E    | <!----> | 4.783607 | MKX    | 3 |\n",
       "| 4 | cl_epi_basal_vs_epi_rest_limma_DEGs_20200423 | MNT_C    | 4.624174 | 3.760938e-06 | 2.602569e-05 |  56 | cl_epi_basal_vs_epi_rest_limma_DEGs_20200423 MNT_C    | <!----> | 4.624174 | MNT    | 4 |\n",
       "| 5 | cl_epi_basal_vs_epi_rest_limma_DEGs_20200423 | THAP11_C | 4.229917 | 2.337772e-05 | 1.412872e-04 | 114 | cl_epi_basal_vs_epi_rest_limma_DEGs_20200423 THAP11_C | <!----> | 4.229917 | THAP11 | 5 |\n",
       "| 6 | cl_epi_basal_vs_epi_rest_limma_DEGs_20200423 | RFX5_AA  | 4.203369 | 2.629717e-05 | 1.575553e-04 |  11 | cl_epi_basal_vs_epi_rest_limma_DEGs_20200423 RFX5_AA  | <!----> | 4.203369 | RFX5   | 6 |\n",
       "\n"
      ],
      "text/plain": [
       "  cl_name                                      Regulon  NES      p.value     \n",
       "1 cl_epi_basal_vs_epi_rest_limma_DEGs_20200423 SMAD7_B  6.608119 3.892325e-11\n",
       "2 cl_epi_basal_vs_epi_rest_limma_DEGs_20200423 ZBTB7A_C 5.427291 5.721575e-08\n",
       "3 cl_epi_basal_vs_epi_rest_limma_DEGs_20200423 MKX_E    4.783607 1.721773e-06\n",
       "4 cl_epi_basal_vs_epi_rest_limma_DEGs_20200423 MNT_C    4.624174 3.760938e-06\n",
       "5 cl_epi_basal_vs_epi_rest_limma_DEGs_20200423 THAP11_C 4.229917 2.337772e-05\n",
       "6 cl_epi_basal_vs_epi_rest_limma_DEGs_20200423 RFX5_AA  4.203369 2.629717e-05\n",
       "  FDR          Size id                                                    label\n",
       "1 5.281350e-10  14  cl_epi_basal_vs_epi_rest_limma_DEGs_20200423 SMAD7_B       \n",
       "2 5.209644e-07  90  cl_epi_basal_vs_epi_rest_limma_DEGs_20200423 ZBTB7A_C      \n",
       "3 1.234680e-05 189  cl_epi_basal_vs_epi_rest_limma_DEGs_20200423 MKX_E         \n",
       "4 2.602569e-05  56  cl_epi_basal_vs_epi_rest_limma_DEGs_20200423 MNT_C         \n",
       "5 1.412872e-04 114  cl_epi_basal_vs_epi_rest_limma_DEGs_20200423 THAP11_C      \n",
       "6 1.575553e-04  11  cl_epi_basal_vs_epi_rest_limma_DEGs_20200423 RFX5_AA       \n",
       "  value    Gene   rank\n",
       "1 6.608119 SMAD7  1   \n",
       "2 5.427291 ZBTB7A 2   \n",
       "3 4.783607 MKX    3   \n",
       "4 4.624174 MNT    4   \n",
       "5 4.229917 THAP11 5   \n",
       "6 4.203369 RFX5   6   "
      ]
     },
     "metadata": {},
     "output_type": "display_data"
    }
   ],
   "source": [
    "# Rank TFs according to their activity\n",
    "TF_activities = TF_activities[order(TF_activities$NES, decreasing = T), ]\n",
    "TF_activities$rank = NULL\n",
    "TF_activities = ddply(TF_activities, 'cl_name', function(df) data.frame(df, rank = 1:nrow(df)) )\n",
    "head(TF_activities)"
   ]
  },
  {
   "cell_type": "code",
   "execution_count": 34,
   "metadata": {},
   "outputs": [],
   "source": [
    "# order clusters\n",
    "TF_activities = rbind(subset(TF_activities, cl_name %in% 'cl_epi_luminal_vs_epi_rest_limma_DEGs_20200423'),\n",
    "                      subset(TF_activities, cl_name %in% 'cl_epi_glandular_vs_epi_rest_limma_DEGs_20200423'),\n",
    "                     subset(TF_activities, cl_name %in% 'cl_epi_basal_vs_epi_rest_limma_DEGs_20200423'))"
   ]
  },
  {
   "cell_type": "code",
   "execution_count": 35,
   "metadata": {},
   "outputs": [],
   "source": [
    "# Select top 10 ranked genes\n",
    "TF_activities$Gene = sapply(strsplit(TF_activities$Regulon, '_'), head, 1)\n",
    "top30 = subset(TF_activities, rank %in% 1:30 & NES > 0)$Gene"
   ]
  },
  {
   "cell_type": "code",
   "execution_count": 36,
   "metadata": {},
   "outputs": [
    {
     "data": {
      "text/html": [
       "<style>\n",
       ".list-inline {list-style: none; margin:0; padding: 0}\n",
       ".list-inline>li {display: inline-block}\n",
       ".list-inline>li:not(:last-child)::after {content: \"\\00b7\"; padding: 0 .5ex}\n",
       "</style>\n",
       "<ol class=list-inline><li>'cl_epi_basal_vs_epi_rest_limma_DEGs_20200423'</li><li>'cl_epi_glandular_vs_epi_rest_limma_DEGs_20200423'</li><li>'cl_epi_luminal_vs_epi_rest_limma_DEGs_20200423'</li></ol>\n"
      ],
      "text/latex": [
       "\\begin{enumerate*}\n",
       "\\item 'cl\\_epi\\_basal\\_vs\\_epi\\_rest\\_limma\\_DEGs\\_20200423'\n",
       "\\item 'cl\\_epi\\_glandular\\_vs\\_epi\\_rest\\_limma\\_DEGs\\_20200423'\n",
       "\\item 'cl\\_epi\\_luminal\\_vs\\_epi\\_rest\\_limma\\_DEGs\\_20200423'\n",
       "\\end{enumerate*}\n"
      ],
      "text/markdown": [
       "1. 'cl_epi_basal_vs_epi_rest_limma_DEGs_20200423'\n",
       "2. 'cl_epi_glandular_vs_epi_rest_limma_DEGs_20200423'\n",
       "3. 'cl_epi_luminal_vs_epi_rest_limma_DEGs_20200423'\n",
       "\n",
       "\n"
      ],
      "text/plain": [
       "[1] \"cl_epi_basal_vs_epi_rest_limma_DEGs_20200423\"    \n",
       "[2] \"cl_epi_glandular_vs_epi_rest_limma_DEGs_20200423\"\n",
       "[3] \"cl_epi_luminal_vs_epi_rest_limma_DEGs_20200423\"  "
      ]
     },
     "metadata": {},
     "output_type": "display_data"
    }
   ],
   "source": [
    "# build matrix of TF activity scores to plot\n",
    "TF_activities$value = TF_activities$NES\n",
    "x = acast(subset(TF_activities, Gene %in% top30), Gene~cl_name, fill = 0)\n",
    "colnames(x) "
   ]
  },
  {
   "cell_type": "code",
   "execution_count": 37,
   "metadata": {},
   "outputs": [],
   "source": [
    "x = x[, c(3, 2, 1) ]\n",
    "colnames(x) = c('luminal',  'glandular', 'basal')\n",
    "pheatmap(t(x[ top30, ]), cellheight = 10, cellwidth = 10, cluster_rows = F, cluster_cols = F, \n",
    "         color = colorRampPalette(c(brewer.pal(n = 5, name = 'Blues')[4], \"white\", brewer.pal(n = 5, name = 'Reds')[4]))(50),\n",
    "        filename = 'data/spatial/DEGs/top30_TFs_activities_filtered_curatedTFs_TFisDE.pdf')\n"
   ]
  },
  {
   "cell_type": "markdown",
   "metadata": {},
   "source": [
    "# Plot top 10 DE TFs"
   ]
  },
  {
   "cell_type": "code",
   "execution_count": 38,
   "metadata": {},
   "outputs": [],
   "source": [
    "TFs = read.csv('data/scenic/huTF_census.txt', stringsAsFactors = F, header = F)$V1\n",
    "\n",
    "DE_gland = read.csv('data/spatial/DEGs/epi_glandular_vs_epi_rest_limma_DEGs_20200423.csv', stringsAsFactors = F)\n",
    "DE_luminal = read.csv('data/spatial/DEGs/epi_luminal_vs_epi_rest_limma_DEGs_20200423.csv', stringsAsFactors = F)\n",
    "DE_basal = read.csv('data/spatial/DEGs/epi_basal_vs_epi_rest_limma_DEGs_20200423.csv', stringsAsFactors = F)\n",
    "\n",
    "DE = list(luminal=DE_luminal,\n",
    "         gland=DE_gland,\n",
    "         basal=DE_basal)\n",
    "\n",
    "DE = lapply(DE, function(x){\n",
    "    x = subset(x, Gene %in% TFs)\n",
    "    x = x[ order(x$logFC, decreasing = T) ,]\n",
    "    x$rank = 1:nrow(x)\n",
    "    return(x)\n",
    "})"
   ]
  },
  {
   "cell_type": "code",
   "execution_count": 39,
   "metadata": {},
   "outputs": [
    {
     "data": {
      "text/html": [
       "<table>\n",
       "<caption>A data.frame: 6 × 10</caption>\n",
       "<thead>\n",
       "\t<tr><th></th><th scope=col>Gene</th><th scope=col>logFC</th><th scope=col>P.Value</th><th scope=col>adj.P.Val</th><th scope=col>AveExpr_cluster</th><th scope=col>AveExpr_rest</th><th scope=col>percentExpr_cluster</th><th scope=col>percentExpr_rest</th><th scope=col>rank</th><th scope=col>L1</th></tr>\n",
       "\t<tr><th></th><th scope=col>&lt;chr&gt;</th><th scope=col>&lt;dbl&gt;</th><th scope=col>&lt;dbl&gt;</th><th scope=col>&lt;dbl&gt;</th><th scope=col>&lt;dbl&gt;</th><th scope=col>&lt;dbl&gt;</th><th scope=col>&lt;dbl&gt;</th><th scope=col>&lt;dbl&gt;</th><th scope=col>&lt;int&gt;</th><th scope=col>&lt;chr&gt;</th></tr>\n",
       "</thead>\n",
       "<tbody>\n",
       "\t<tr><th scope=row>1</th><td>HAND2</td><td>0.2604295</td><td>2.649793e-05</td><td>0.001369203</td><td>1.352028</td><td>1.091599</td><td>0.972603</td><td>0.924471</td><td>1</td><td>luminal</td></tr>\n",
       "\t<tr><th scope=row>2</th><td>NR2F2</td><td>0.2403253</td><td>1.647070e-04</td><td>0.006357223</td><td>1.098132</td><td>0.857806</td><td>0.904110</td><td>0.867069</td><td>2</td><td>luminal</td></tr>\n",
       "\t<tr><th scope=row>3</th><td>ESR1 </td><td>0.2208052</td><td>1.307507e-04</td><td>0.005293044</td><td>0.797663</td><td>0.576857</td><td>0.780822</td><td>0.749245</td><td>3</td><td>luminal</td></tr>\n",
       "\t<tr><th scope=row>4</th><td>CUX1 </td><td>0.2117044</td><td>5.227082e-04</td><td>0.016023274</td><td>0.964216</td><td>0.752511</td><td>0.890411</td><td>0.842900</td><td>4</td><td>luminal</td></tr>\n",
       "\t<tr><th scope=row>5</th><td>OSR2 </td><td>0.2029021</td><td>1.112307e-03</td><td>0.028315565</td><td>1.640227</td><td>1.437325</td><td>0.958904</td><td>0.966767</td><td>5</td><td>luminal</td></tr>\n",
       "\t<tr><th scope=row>6</th><td>HES4 </td><td>0.1834099</td><td>1.105987e-03</td><td>0.028230060</td><td>0.793668</td><td>0.610258</td><td>0.849315</td><td>0.761329</td><td>6</td><td>luminal</td></tr>\n",
       "</tbody>\n",
       "</table>\n"
      ],
      "text/latex": [
       "A data.frame: 6 × 10\n",
       "\\begin{tabular}{r|llllllllll}\n",
       "  & Gene & logFC & P.Value & adj.P.Val & AveExpr\\_cluster & AveExpr\\_rest & percentExpr\\_cluster & percentExpr\\_rest & rank & L1\\\\\n",
       "  & <chr> & <dbl> & <dbl> & <dbl> & <dbl> & <dbl> & <dbl> & <dbl> & <int> & <chr>\\\\\n",
       "\\hline\n",
       "\t1 & HAND2 & 0.2604295 & 2.649793e-05 & 0.001369203 & 1.352028 & 1.091599 & 0.972603 & 0.924471 & 1 & luminal\\\\\n",
       "\t2 & NR2F2 & 0.2403253 & 1.647070e-04 & 0.006357223 & 1.098132 & 0.857806 & 0.904110 & 0.867069 & 2 & luminal\\\\\n",
       "\t3 & ESR1  & 0.2208052 & 1.307507e-04 & 0.005293044 & 0.797663 & 0.576857 & 0.780822 & 0.749245 & 3 & luminal\\\\\n",
       "\t4 & CUX1  & 0.2117044 & 5.227082e-04 & 0.016023274 & 0.964216 & 0.752511 & 0.890411 & 0.842900 & 4 & luminal\\\\\n",
       "\t5 & OSR2  & 0.2029021 & 1.112307e-03 & 0.028315565 & 1.640227 & 1.437325 & 0.958904 & 0.966767 & 5 & luminal\\\\\n",
       "\t6 & HES4  & 0.1834099 & 1.105987e-03 & 0.028230060 & 0.793668 & 0.610258 & 0.849315 & 0.761329 & 6 & luminal\\\\\n",
       "\\end{tabular}\n"
      ],
      "text/markdown": [
       "\n",
       "A data.frame: 6 × 10\n",
       "\n",
       "| <!--/--> | Gene &lt;chr&gt; | logFC &lt;dbl&gt; | P.Value &lt;dbl&gt; | adj.P.Val &lt;dbl&gt; | AveExpr_cluster &lt;dbl&gt; | AveExpr_rest &lt;dbl&gt; | percentExpr_cluster &lt;dbl&gt; | percentExpr_rest &lt;dbl&gt; | rank &lt;int&gt; | L1 &lt;chr&gt; |\n",
       "|---|---|---|---|---|---|---|---|---|---|---|\n",
       "| 1 | HAND2 | 0.2604295 | 2.649793e-05 | 0.001369203 | 1.352028 | 1.091599 | 0.972603 | 0.924471 | 1 | luminal |\n",
       "| 2 | NR2F2 | 0.2403253 | 1.647070e-04 | 0.006357223 | 1.098132 | 0.857806 | 0.904110 | 0.867069 | 2 | luminal |\n",
       "| 3 | ESR1  | 0.2208052 | 1.307507e-04 | 0.005293044 | 0.797663 | 0.576857 | 0.780822 | 0.749245 | 3 | luminal |\n",
       "| 4 | CUX1  | 0.2117044 | 5.227082e-04 | 0.016023274 | 0.964216 | 0.752511 | 0.890411 | 0.842900 | 4 | luminal |\n",
       "| 5 | OSR2  | 0.2029021 | 1.112307e-03 | 0.028315565 | 1.640227 | 1.437325 | 0.958904 | 0.966767 | 5 | luminal |\n",
       "| 6 | HES4  | 0.1834099 | 1.105987e-03 | 0.028230060 | 0.793668 | 0.610258 | 0.849315 | 0.761329 | 6 | luminal |\n",
       "\n"
      ],
      "text/plain": [
       "  Gene  logFC     P.Value      adj.P.Val   AveExpr_cluster AveExpr_rest\n",
       "1 HAND2 0.2604295 2.649793e-05 0.001369203 1.352028        1.091599    \n",
       "2 NR2F2 0.2403253 1.647070e-04 0.006357223 1.098132        0.857806    \n",
       "3 ESR1  0.2208052 1.307507e-04 0.005293044 0.797663        0.576857    \n",
       "4 CUX1  0.2117044 5.227082e-04 0.016023274 0.964216        0.752511    \n",
       "5 OSR2  0.2029021 1.112307e-03 0.028315565 1.640227        1.437325    \n",
       "6 HES4  0.1834099 1.105987e-03 0.028230060 0.793668        0.610258    \n",
       "  percentExpr_cluster percentExpr_rest rank L1     \n",
       "1 0.972603            0.924471         1    luminal\n",
       "2 0.904110            0.867069         2    luminal\n",
       "3 0.780822            0.749245         3    luminal\n",
       "4 0.890411            0.842900         4    luminal\n",
       "5 0.958904            0.966767         5    luminal\n",
       "6 0.849315            0.761329         6    luminal"
      ]
     },
     "metadata": {},
     "output_type": "display_data"
    }
   ],
   "source": [
    "DE_df = melt(DE, id.vars = names(DE[[1]]) )\n",
    "head(DE_df)"
   ]
  },
  {
   "cell_type": "code",
   "execution_count": 40,
   "metadata": {},
   "outputs": [
    {
     "data": {
      "text/html": [
       "<style>\n",
       ".list-inline {list-style: none; margin:0; padding: 0}\n",
       ".list-inline>li {display: inline-block}\n",
       ".list-inline>li:not(:last-child)::after {content: \"\\00b7\"; padding: 0 .5ex}\n",
       "</style>\n",
       "<ol class=list-inline><li>'HAND2'</li><li>'NR2F2'</li><li>'ESR1'</li><li>'CUX1'</li><li>'OSR2'</li><li>'HES4'</li><li>'TEAD2'</li><li>'PAX8'</li><li>'GTF3A'</li><li>'HOXA10'</li><li>'PRRX1'</li><li>'HOXA11'</li><li>'TCF12'</li><li>'SOX4'</li><li>'HOXA9'</li><li>'TWIST1'</li><li>'SNAPC4'</li><li>'SNAI2'</li><li>'PGR'</li><li>'TEAD3'</li><li>'FOXJ1'</li><li>'TSHZ3'</li><li>'MXD4'</li><li>'MEIS1'</li><li>'KLF16'</li><li>'PRDM1'</li><li>'AR'</li><li>'ZNF511'</li><li>'ZNF451'</li><li>'RFXANK'</li><li>'KLF6'</li><li>'ELF3'</li><li>'ID1'</li><li>'JUND'</li><li>'KLF5'</li><li>'ELK4'</li><li>'RORC'</li><li>'JUNB'</li><li>'POU5F1'</li><li>'CASZ1'</li><li>'HIF1A'</li><li>'ID4'</li><li>'FOSL2'</li><li>'HOXB6'</li><li>'BCL6'</li><li>'ATF4'</li><li>'PAX8'</li><li>'ZNF600'</li><li>'CEBPD'</li><li>'XBP1'</li><li>'DLX5'</li><li>'ZNF787'</li><li>'HOXB3'</li><li>'HOXB2'</li><li>'SMAD9'</li><li>'MECOM'</li><li>'LRRFIP2'</li><li>'ZNF217'</li><li>'MAFF'</li><li>'KLF13'</li><li>'SOX9'</li><li>'ATOH8'</li><li>'NFKBIA'</li><li>'EPAS1'</li><li>'YBX3'</li><li>'ETS2'</li><li>'TSC22D1'</li><li>'XBP1'</li><li>'TCF7L1'</li><li>'ZNF280D'</li><li>'CEBPA'</li><li>'ZNF22'</li><li>'NFIA'</li><li>'ZNF417'</li><li>'ZNF362'</li><li>'JUN'</li><li>'NFKBIZ'</li><li>'KLF15'</li><li>'MAFG'</li><li>'ZNF680'</li><li>'MSX1'</li><li>'AHR'</li><li>'STAT3'</li><li>'ZNF445'</li><li>'CEBPD'</li><li>'PEG3'</li><li>'KLF10'</li><li>'ZNF253'</li><li>'CSRNP1'</li><li>'RXRB'</li></ol>\n"
      ],
      "text/latex": [
       "\\begin{enumerate*}\n",
       "\\item 'HAND2'\n",
       "\\item 'NR2F2'\n",
       "\\item 'ESR1'\n",
       "\\item 'CUX1'\n",
       "\\item 'OSR2'\n",
       "\\item 'HES4'\n",
       "\\item 'TEAD2'\n",
       "\\item 'PAX8'\n",
       "\\item 'GTF3A'\n",
       "\\item 'HOXA10'\n",
       "\\item 'PRRX1'\n",
       "\\item 'HOXA11'\n",
       "\\item 'TCF12'\n",
       "\\item 'SOX4'\n",
       "\\item 'HOXA9'\n",
       "\\item 'TWIST1'\n",
       "\\item 'SNAPC4'\n",
       "\\item 'SNAI2'\n",
       "\\item 'PGR'\n",
       "\\item 'TEAD3'\n",
       "\\item 'FOXJ1'\n",
       "\\item 'TSHZ3'\n",
       "\\item 'MXD4'\n",
       "\\item 'MEIS1'\n",
       "\\item 'KLF16'\n",
       "\\item 'PRDM1'\n",
       "\\item 'AR'\n",
       "\\item 'ZNF511'\n",
       "\\item 'ZNF451'\n",
       "\\item 'RFXANK'\n",
       "\\item 'KLF6'\n",
       "\\item 'ELF3'\n",
       "\\item 'ID1'\n",
       "\\item 'JUND'\n",
       "\\item 'KLF5'\n",
       "\\item 'ELK4'\n",
       "\\item 'RORC'\n",
       "\\item 'JUNB'\n",
       "\\item 'POU5F1'\n",
       "\\item 'CASZ1'\n",
       "\\item 'HIF1A'\n",
       "\\item 'ID4'\n",
       "\\item 'FOSL2'\n",
       "\\item 'HOXB6'\n",
       "\\item 'BCL6'\n",
       "\\item 'ATF4'\n",
       "\\item 'PAX8'\n",
       "\\item 'ZNF600'\n",
       "\\item 'CEBPD'\n",
       "\\item 'XBP1'\n",
       "\\item 'DLX5'\n",
       "\\item 'ZNF787'\n",
       "\\item 'HOXB3'\n",
       "\\item 'HOXB2'\n",
       "\\item 'SMAD9'\n",
       "\\item 'MECOM'\n",
       "\\item 'LRRFIP2'\n",
       "\\item 'ZNF217'\n",
       "\\item 'MAFF'\n",
       "\\item 'KLF13'\n",
       "\\item 'SOX9'\n",
       "\\item 'ATOH8'\n",
       "\\item 'NFKBIA'\n",
       "\\item 'EPAS1'\n",
       "\\item 'YBX3'\n",
       "\\item 'ETS2'\n",
       "\\item 'TSC22D1'\n",
       "\\item 'XBP1'\n",
       "\\item 'TCF7L1'\n",
       "\\item 'ZNF280D'\n",
       "\\item 'CEBPA'\n",
       "\\item 'ZNF22'\n",
       "\\item 'NFIA'\n",
       "\\item 'ZNF417'\n",
       "\\item 'ZNF362'\n",
       "\\item 'JUN'\n",
       "\\item 'NFKBIZ'\n",
       "\\item 'KLF15'\n",
       "\\item 'MAFG'\n",
       "\\item 'ZNF680'\n",
       "\\item 'MSX1'\n",
       "\\item 'AHR'\n",
       "\\item 'STAT3'\n",
       "\\item 'ZNF445'\n",
       "\\item 'CEBPD'\n",
       "\\item 'PEG3'\n",
       "\\item 'KLF10'\n",
       "\\item 'ZNF253'\n",
       "\\item 'CSRNP1'\n",
       "\\item 'RXRB'\n",
       "\\end{enumerate*}\n"
      ],
      "text/markdown": [
       "1. 'HAND2'\n",
       "2. 'NR2F2'\n",
       "3. 'ESR1'\n",
       "4. 'CUX1'\n",
       "5. 'OSR2'\n",
       "6. 'HES4'\n",
       "7. 'TEAD2'\n",
       "8. 'PAX8'\n",
       "9. 'GTF3A'\n",
       "10. 'HOXA10'\n",
       "11. 'PRRX1'\n",
       "12. 'HOXA11'\n",
       "13. 'TCF12'\n",
       "14. 'SOX4'\n",
       "15. 'HOXA9'\n",
       "16. 'TWIST1'\n",
       "17. 'SNAPC4'\n",
       "18. 'SNAI2'\n",
       "19. 'PGR'\n",
       "20. 'TEAD3'\n",
       "21. 'FOXJ1'\n",
       "22. 'TSHZ3'\n",
       "23. 'MXD4'\n",
       "24. 'MEIS1'\n",
       "25. 'KLF16'\n",
       "26. 'PRDM1'\n",
       "27. 'AR'\n",
       "28. 'ZNF511'\n",
       "29. 'ZNF451'\n",
       "30. 'RFXANK'\n",
       "31. 'KLF6'\n",
       "32. 'ELF3'\n",
       "33. 'ID1'\n",
       "34. 'JUND'\n",
       "35. 'KLF5'\n",
       "36. 'ELK4'\n",
       "37. 'RORC'\n",
       "38. 'JUNB'\n",
       "39. 'POU5F1'\n",
       "40. 'CASZ1'\n",
       "41. 'HIF1A'\n",
       "42. 'ID4'\n",
       "43. 'FOSL2'\n",
       "44. 'HOXB6'\n",
       "45. 'BCL6'\n",
       "46. 'ATF4'\n",
       "47. 'PAX8'\n",
       "48. 'ZNF600'\n",
       "49. 'CEBPD'\n",
       "50. 'XBP1'\n",
       "51. 'DLX5'\n",
       "52. 'ZNF787'\n",
       "53. 'HOXB3'\n",
       "54. 'HOXB2'\n",
       "55. 'SMAD9'\n",
       "56. 'MECOM'\n",
       "57. 'LRRFIP2'\n",
       "58. 'ZNF217'\n",
       "59. 'MAFF'\n",
       "60. 'KLF13'\n",
       "61. 'SOX9'\n",
       "62. 'ATOH8'\n",
       "63. 'NFKBIA'\n",
       "64. 'EPAS1'\n",
       "65. 'YBX3'\n",
       "66. 'ETS2'\n",
       "67. 'TSC22D1'\n",
       "68. 'XBP1'\n",
       "69. 'TCF7L1'\n",
       "70. 'ZNF280D'\n",
       "71. 'CEBPA'\n",
       "72. 'ZNF22'\n",
       "73. 'NFIA'\n",
       "74. 'ZNF417'\n",
       "75. 'ZNF362'\n",
       "76. 'JUN'\n",
       "77. 'NFKBIZ'\n",
       "78. 'KLF15'\n",
       "79. 'MAFG'\n",
       "80. 'ZNF680'\n",
       "81. 'MSX1'\n",
       "82. 'AHR'\n",
       "83. 'STAT3'\n",
       "84. 'ZNF445'\n",
       "85. 'CEBPD'\n",
       "86. 'PEG3'\n",
       "87. 'KLF10'\n",
       "88. 'ZNF253'\n",
       "89. 'CSRNP1'\n",
       "90. 'RXRB'\n",
       "\n",
       "\n"
      ],
      "text/plain": [
       " [1] \"HAND2\"   \"NR2F2\"   \"ESR1\"    \"CUX1\"    \"OSR2\"    \"HES4\"    \"TEAD2\"  \n",
       " [8] \"PAX8\"    \"GTF3A\"   \"HOXA10\"  \"PRRX1\"   \"HOXA11\"  \"TCF12\"   \"SOX4\"   \n",
       "[15] \"HOXA9\"   \"TWIST1\"  \"SNAPC4\"  \"SNAI2\"   \"PGR\"     \"TEAD3\"   \"FOXJ1\"  \n",
       "[22] \"TSHZ3\"   \"MXD4\"    \"MEIS1\"   \"KLF16\"   \"PRDM1\"   \"AR\"      \"ZNF511\" \n",
       "[29] \"ZNF451\"  \"RFXANK\"  \"KLF6\"    \"ELF3\"    \"ID1\"     \"JUND\"    \"KLF5\"   \n",
       "[36] \"ELK4\"    \"RORC\"    \"JUNB\"    \"POU5F1\"  \"CASZ1\"   \"HIF1A\"   \"ID4\"    \n",
       "[43] \"FOSL2\"   \"HOXB6\"   \"BCL6\"    \"ATF4\"    \"PAX8\"    \"ZNF600\"  \"CEBPD\"  \n",
       "[50] \"XBP1\"    \"DLX5\"    \"ZNF787\"  \"HOXB3\"   \"HOXB2\"   \"SMAD9\"   \"MECOM\"  \n",
       "[57] \"LRRFIP2\" \"ZNF217\"  \"MAFF\"    \"KLF13\"   \"SOX9\"    \"ATOH8\"   \"NFKBIA\" \n",
       "[64] \"EPAS1\"   \"YBX3\"    \"ETS2\"    \"TSC22D1\" \"XBP1\"    \"TCF7L1\"  \"ZNF280D\"\n",
       "[71] \"CEBPA\"   \"ZNF22\"   \"NFIA\"    \"ZNF417\"  \"ZNF362\"  \"JUN\"     \"NFKBIZ\" \n",
       "[78] \"KLF15\"   \"MAFG\"    \"ZNF680\"  \"MSX1\"    \"AHR\"     \"STAT3\"   \"ZNF445\" \n",
       "[85] \"CEBPD\"   \"PEG3\"    \"KLF10\"   \"ZNF253\"  \"CSRNP1\"  \"RXRB\"   "
      ]
     },
     "metadata": {},
     "output_type": "display_data"
    }
   ],
   "source": [
    "# Select top 10 ranked genes\n",
    "top30 = subset(DE_df, rank %in% 1:30)$Gene #%>% unique(.)\n",
    "top30"
   ]
  },
  {
   "cell_type": "code",
   "execution_count": 41,
   "metadata": {},
   "outputs": [],
   "source": [
    "# build matrix of TF activity scores to plot\n",
    "DE_df$value = DE_df$logFC\n",
    "x = acast(subset(DE_df, Gene %in% top30), Gene~L1, fill = 0)\n",
    "pheatmap(t(x[top30, names(DE)]), cellheight = 10, cellwidth = 10, cluster_rows = F, cluster_cols = F, \n",
    "         color = colorRampPalette(c(brewer.pal(n = 5, name = 'Blues')[4], \"white\", brewer.pal(n = 5, name = 'Reds')[4]))(50),\n",
    "        filename = 'data/spatial/DEGs/top30_TFs_DE.pdf')\n"
   ]
  },
  {
   "cell_type": "code",
   "execution_count": 42,
   "metadata": {},
   "outputs": [],
   "source": [
    "# mydf = subset(DE_df, Gene %in% top30)\n",
    "# mydf$Gene = factor(mydf$Gene, levels = unique(top30))\n",
    "# mydf$cluster = factor(mydf$L1, levels = rev(names(DE)))\n",
    "\n",
    "# require(ggplot2)\n",
    "#   ggplot(mydf, \n",
    "#          aes(x = Gene,\n",
    "#              y = cluster)) +        ## global aes\n",
    "# #   geom_tile(aes(fill = P.Value)) +         ## to get the rect filled\n",
    "#   geom_point(aes(colour = logFC, \n",
    "#                    size = percentExpr_cluster))  +    ## geom_point for circle illusion\n",
    "#   scale_color_gradient2(low = \"blue\",   mid = 'white',\n",
    "#                        high = \"red\")+       ## color of the corresponding aes\n",
    "#   scale_size(range = c(1, 4))+             ## to tune the size of circles\n",
    "#   theme_bw() + theme(axis.text.x = element_text(angle = 90, vjust = 0.5, hjust = 1))\n",
    "# ggsave(filename = 'data/spatial/DEGs/clusterDEGs_and_TFs/top30_TFs_DE_dotplot.pdf', dpi = 300, width = 10, height = 4)"
   ]
  },
  {
   "cell_type": "code",
   "execution_count": null,
   "metadata": {},
   "outputs": [],
   "source": []
  },
  {
   "cell_type": "code",
   "execution_count": null,
   "metadata": {},
   "outputs": [],
   "source": []
  }
 ],
 "metadata": {
  "kernelspec": {
   "display_name": "R",
   "language": "R",
   "name": "ir"
  },
  "language_info": {
   "codemirror_mode": "r",
   "file_extension": ".r",
   "mimetype": "text/x-r-source",
   "name": "R",
   "pygments_lexer": "r",
   "version": "4.0.0"
  }
 },
 "nbformat": 4,
 "nbformat_minor": 4
}
